{
 "cells": [
  {
   "cell_type": "code",
   "execution_count": 1,
   "metadata": {
    "collapsed": true,
    "pycharm": {
     "name": "#%%\n"
    }
   },
   "outputs": [],
   "source": [
    "import pandas as pd\n",
    "from keras.models import Sequential\n",
    "from keras.layers import Dense, Dropout, Flatten, Conv1D, MaxPooling1D\n",
    "from sklearn.model_selection import train_test_split\n",
    "from sklearn.metrics import mean_absolute_error, r2_score"
   ]
  },
  {
   "cell_type": "code",
   "execution_count": 24,
   "outputs": [],
   "source": [
    "import numpy as np"
   ],
   "metadata": {
    "collapsed": false,
    "pycharm": {
     "name": "#%%\n"
    }
   }
  },
  {
   "cell_type": "code",
   "execution_count": 7,
   "outputs": [],
   "source": [
    "from sklearn.preprocessing import MinMaxScaler"
   ],
   "metadata": {
    "collapsed": false,
    "pycharm": {
     "name": "#%%\n"
    }
   }
  },
  {
   "cell_type": "code",
   "execution_count": null,
   "outputs": [],
   "source": [],
   "metadata": {
    "collapsed": false,
    "pycharm": {
     "name": "#%%\n"
    }
   }
  },
  {
   "cell_type": "code",
   "execution_count": 9,
   "outputs": [],
   "source": [
    "scaler = MinMaxScaler()\n",
    "scaler1 = MinMaxScaler()"
   ],
   "metadata": {
    "collapsed": false,
    "pycharm": {
     "name": "#%%\n"
    }
   }
  },
  {
   "cell_type": "code",
   "execution_count": 27,
   "outputs": [],
   "source": [
    "features_and_target_df = pd.read_excel('features_and_target.xlsx')\n",
    "features_and_target_df = features_and_target_df.fillna(0)\n",
    "X = features_and_target_df.drop(columns=['log_price_spread'])\n",
    "y = features_and_target_df['log_price_spread']"
   ],
   "metadata": {
    "collapsed": false,
    "pycharm": {
     "name": "#%%\n"
    }
   }
  },
  {
   "cell_type": "code",
   "execution_count": 28,
   "outputs": [],
   "source": [
    "scaler.fit(X)\n",
    "scaler1.fit(np.array(y).reshape(-1, 1))\n",
    "X = scaler.transform(X)\n",
    "y = scaler1.transform(np.array(y).reshape(-1, 1))"
   ],
   "metadata": {
    "collapsed": false,
    "pycharm": {
     "name": "#%%\n"
    }
   }
  },
  {
   "cell_type": "code",
   "execution_count": 30,
   "outputs": [],
   "source": [
    "X_train, X_test, y_train, y_test = train_test_split(X, y, test_size=0.2, random_state=42)"
   ],
   "metadata": {
    "collapsed": false,
    "pycharm": {
     "name": "#%%\n"
    }
   }
  },
  {
   "cell_type": "code",
   "execution_count": 30,
   "outputs": [],
   "source": [],
   "metadata": {
    "collapsed": false,
    "pycharm": {
     "name": "#%%\n"
    }
   }
  },
  {
   "cell_type": "code",
   "execution_count": 31,
   "outputs": [],
   "source": [
    "input_shape = (X_train.shape[1], 1)\n",
    "model = Sequential()\n",
    "model.add(Conv1D(filters=64, kernel_size=3, activation='relu', input_shape=input_shape))\n",
    "model.add(MaxPooling1D(pool_size=2))\n",
    "model.add(Conv1D(filters=32, kernel_size=3, activation='relu'))\n",
    "model.add(MaxPooling1D(pool_size=2))\n",
    "model.add(Flatten())\n",
    "model.add(Dense(128, activation='relu'))\n",
    "model.add(Dropout(0.5))\n",
    "model.add(Dense(1, activation='linear'))"
   ],
   "metadata": {
    "collapsed": false,
    "pycharm": {
     "name": "#%%\n"
    }
   }
  },
  {
   "cell_type": "code",
   "execution_count": 32,
   "outputs": [],
   "source": [
    "model.compile(loss='mean_squared_error', optimizer='adam')"
   ],
   "metadata": {
    "collapsed": false,
    "pycharm": {
     "name": "#%%\n"
    }
   }
  },
  {
   "cell_type": "code",
   "execution_count": 33,
   "outputs": [
    {
     "name": "stdout",
     "output_type": "stream",
     "text": [
      "Epoch 1/50\n",
      "31/31 [==============================] - 0s 9ms/step - loss: 0.0078 - val_loss: 0.0046\n",
      "Epoch 2/50\n",
      "31/31 [==============================] - 0s 7ms/step - loss: 0.0046 - val_loss: 0.0035\n",
      "Epoch 3/50\n",
      "31/31 [==============================] - 0s 7ms/step - loss: 0.0036 - val_loss: 0.0038\n",
      "Epoch 4/50\n",
      "31/31 [==============================] - 0s 7ms/step - loss: 0.0032 - val_loss: 0.0034\n",
      "Epoch 5/50\n",
      "31/31 [==============================] - 0s 7ms/step - loss: 0.0025 - val_loss: 0.0034\n",
      "Epoch 6/50\n",
      "31/31 [==============================] - 0s 6ms/step - loss: 0.0023 - val_loss: 0.0033\n",
      "Epoch 7/50\n",
      "31/31 [==============================] - 0s 8ms/step - loss: 0.0020 - val_loss: 0.0032\n",
      "Epoch 8/50\n",
      "31/31 [==============================] - 0s 7ms/step - loss: 0.0019 - val_loss: 0.0033\n",
      "Epoch 9/50\n",
      "31/31 [==============================] - 0s 7ms/step - loss: 0.0017 - val_loss: 0.0031\n",
      "Epoch 10/50\n",
      "31/31 [==============================] - 0s 7ms/step - loss: 0.0014 - val_loss: 0.0032\n",
      "Epoch 11/50\n",
      "31/31 [==============================] - 0s 7ms/step - loss: 0.0014 - val_loss: 0.0031\n",
      "Epoch 12/50\n",
      "31/31 [==============================] - 0s 6ms/step - loss: 0.0012 - val_loss: 0.0031\n",
      "Epoch 13/50\n",
      "31/31 [==============================] - 0s 7ms/step - loss: 0.0011 - val_loss: 0.0031\n",
      "Epoch 14/50\n",
      "31/31 [==============================] - 0s 7ms/step - loss: 0.0012 - val_loss: 0.0030\n",
      "Epoch 15/50\n",
      "31/31 [==============================] - 0s 7ms/step - loss: 0.0011 - val_loss: 0.0030\n",
      "Epoch 16/50\n",
      "31/31 [==============================] - 0s 7ms/step - loss: 9.8322e-04 - val_loss: 0.0029\n",
      "Epoch 17/50\n",
      "31/31 [==============================] - 0s 6ms/step - loss: 9.9227e-04 - val_loss: 0.0030\n",
      "Epoch 18/50\n",
      "31/31 [==============================] - 0s 7ms/step - loss: 0.0011 - val_loss: 0.0030\n",
      "Epoch 19/50\n",
      "31/31 [==============================] - 0s 7ms/step - loss: 0.0011 - val_loss: 0.0029\n",
      "Epoch 20/50\n",
      "31/31 [==============================] - 0s 7ms/step - loss: 9.1233e-04 - val_loss: 0.0028\n",
      "Epoch 21/50\n",
      "31/31 [==============================] - 0s 7ms/step - loss: 8.9260e-04 - val_loss: 0.0028\n",
      "Epoch 22/50\n",
      "31/31 [==============================] - 0s 7ms/step - loss: 8.5332e-04 - val_loss: 0.0028\n",
      "Epoch 23/50\n",
      "31/31 [==============================] - 0s 7ms/step - loss: 7.5802e-04 - val_loss: 0.0029\n",
      "Epoch 24/50\n",
      "31/31 [==============================] - 0s 7ms/step - loss: 8.5778e-04 - val_loss: 0.0029\n",
      "Epoch 25/50\n",
      "31/31 [==============================] - 0s 7ms/step - loss: 9.1654e-04 - val_loss: 0.0030\n",
      "Epoch 26/50\n",
      "31/31 [==============================] - 0s 7ms/step - loss: 7.8523e-04 - val_loss: 0.0031\n",
      "Epoch 27/50\n",
      "31/31 [==============================] - 0s 7ms/step - loss: 8.1686e-04 - val_loss: 0.0030\n",
      "Epoch 28/50\n",
      "31/31 [==============================] - 0s 8ms/step - loss: 8.3500e-04 - val_loss: 0.0030\n",
      "Epoch 29/50\n",
      "31/31 [==============================] - 0s 7ms/step - loss: 8.0424e-04 - val_loss: 0.0029\n",
      "Epoch 30/50\n",
      "31/31 [==============================] - 0s 7ms/step - loss: 6.8201e-04 - val_loss: 0.0031\n",
      "Epoch 31/50\n",
      "31/31 [==============================] - 0s 7ms/step - loss: 7.0873e-04 - val_loss: 0.0030\n",
      "Epoch 32/50\n",
      "31/31 [==============================] - 0s 7ms/step - loss: 9.5638e-04 - val_loss: 0.0030\n",
      "Epoch 33/50\n",
      "31/31 [==============================] - 0s 7ms/step - loss: 9.2355e-04 - val_loss: 0.0030\n",
      "Epoch 34/50\n",
      "31/31 [==============================] - 0s 7ms/step - loss: 7.2238e-04 - val_loss: 0.0029\n",
      "Epoch 35/50\n",
      "31/31 [==============================] - 0s 7ms/step - loss: 6.3348e-04 - val_loss: 0.0030\n",
      "Epoch 36/50\n",
      "31/31 [==============================] - 0s 7ms/step - loss: 7.2416e-04 - val_loss: 0.0031\n",
      "Epoch 37/50\n",
      "31/31 [==============================] - 0s 7ms/step - loss: 7.0707e-04 - val_loss: 0.0030\n",
      "Epoch 38/50\n",
      "31/31 [==============================] - 0s 8ms/step - loss: 5.9921e-04 - val_loss: 0.0030\n",
      "Epoch 39/50\n",
      "31/31 [==============================] - 0s 7ms/step - loss: 5.7512e-04 - val_loss: 0.0030\n",
      "Epoch 40/50\n",
      "31/31 [==============================] - 0s 7ms/step - loss: 9.8193e-04 - val_loss: 0.0032\n",
      "Epoch 41/50\n",
      "31/31 [==============================] - 0s 7ms/step - loss: 6.8676e-04 - val_loss: 0.0028\n",
      "Epoch 42/50\n",
      "31/31 [==============================] - 0s 7ms/step - loss: 7.7018e-04 - val_loss: 0.0030\n",
      "Epoch 43/50\n",
      "31/31 [==============================] - 0s 7ms/step - loss: 7.0470e-04 - val_loss: 0.0030\n",
      "Epoch 44/50\n",
      "31/31 [==============================] - 0s 7ms/step - loss: 6.6278e-04 - val_loss: 0.0030\n",
      "Epoch 45/50\n",
      "31/31 [==============================] - 0s 7ms/step - loss: 6.9277e-04 - val_loss: 0.0032\n",
      "Epoch 46/50\n",
      "31/31 [==============================] - 0s 7ms/step - loss: 5.6691e-04 - val_loss: 0.0030\n",
      "Epoch 47/50\n",
      "31/31 [==============================] - 0s 7ms/step - loss: 5.7211e-04 - val_loss: 0.0029\n",
      "Epoch 48/50\n",
      "31/31 [==============================] - 0s 7ms/step - loss: 5.6347e-04 - val_loss: 0.0029\n",
      "Epoch 49/50\n",
      "31/31 [==============================] - 0s 7ms/step - loss: 7.6497e-04 - val_loss: 0.0030\n",
      "Epoch 50/50\n",
      "31/31 [==============================] - 0s 7ms/step - loss: 6.0789e-04 - val_loss: 0.0030\n"
     ]
    },
    {
     "data": {
      "text/plain": "<keras.src.callbacks.History at 0x291ae8ad0>"
     },
     "execution_count": 33,
     "metadata": {},
     "output_type": "execute_result"
    }
   ],
   "source": [
    "model.fit(X_train, y_train, validation_data=(X_test, y_test), epochs=50, batch_size=32)"
   ],
   "metadata": {
    "collapsed": false,
    "pycharm": {
     "name": "#%%\n"
    }
   }
  },
  {
   "cell_type": "code",
   "execution_count": null,
   "outputs": [],
   "source": [],
   "metadata": {
    "collapsed": false,
    "pycharm": {
     "name": "#%%\n",
     "is_executing": true
    }
   }
  },
  {
   "cell_type": "code",
   "execution_count": 38,
   "outputs": [
    {
     "name": "stdout",
     "output_type": "stream",
     "text": [
      "8/8 [==============================] - 0s 3ms/step\n"
     ]
    }
   ],
   "source": [
    "y_pred = model.predict(X_test)\n",
    "mae = mean_absolute_error(scaler1.inverse_transform(y_test),\n",
    "                          scaler1.inverse_transform(y_pred))\n",
    "r2 = r2_score(scaler1.inverse_transform(y_test),\n",
    "              scaler1.inverse_transform(y_pred))"
   ],
   "metadata": {
    "collapsed": false,
    "pycharm": {
     "name": "#%%\n"
    }
   }
  },
  {
   "cell_type": "code",
   "execution_count": 35,
   "outputs": [
    {
     "data": {
      "text/plain": "0.041549204249493"
     },
     "execution_count": 35,
     "metadata": {},
     "output_type": "execute_result"
    }
   ],
   "source": [
    "mae"
   ],
   "metadata": {
    "collapsed": false,
    "pycharm": {
     "name": "#%%\n"
    }
   }
  },
  {
   "cell_type": "code",
   "execution_count": 36,
   "outputs": [
    {
     "data": {
      "text/plain": "0.19157180717038735"
     },
     "execution_count": 36,
     "metadata": {},
     "output_type": "execute_result"
    }
   ],
   "source": [
    "r2"
   ],
   "metadata": {
    "collapsed": false,
    "pycharm": {
     "name": "#%%\n"
    }
   }
  },
  {
   "cell_type": "code",
   "execution_count": null,
   "outputs": [],
   "source": [],
   "metadata": {
    "collapsed": false,
    "pycharm": {
     "name": "#%%\n",
     "is_executing": true
    }
   }
  },
  {
   "cell_type": "code",
   "execution_count": 39,
   "outputs": [
    {
     "data": {
      "text/plain": "0.003970079979809814"
     },
     "execution_count": 39,
     "metadata": {},
     "output_type": "execute_result"
    }
   ],
   "source": [
    "mae  # with normalization results is a little bit better"
   ],
   "metadata": {
    "collapsed": false,
    "pycharm": {
     "name": "#%%\n"
    }
   }
  },
  {
   "cell_type": "code",
   "execution_count": 40,
   "outputs": [
    {
     "data": {
      "text/plain": "0.1915717955090912"
     },
     "execution_count": 40,
     "metadata": {},
     "output_type": "execute_result"
    }
   ],
   "source": [
    "r2"
   ],
   "metadata": {
    "collapsed": false,
    "pycharm": {
     "name": "#%%\n"
    }
   }
  },
  {
   "cell_type": "code",
   "execution_count": 38,
   "outputs": [],
   "source": [],
   "metadata": {
    "collapsed": false,
    "pycharm": {
     "name": "#%%\n"
    }
   }
  }
 ],
 "metadata": {
  "kernelspec": {
   "name": "news_analysis",
   "language": "python",
   "display_name": "news_analysis"
  },
  "language_info": {
   "codemirror_mode": {
    "name": "ipython",
    "version": 2
   },
   "file_extension": ".py",
   "mimetype": "text/x-python",
   "name": "python",
   "nbconvert_exporter": "python",
   "pygments_lexer": "ipython2",
   "version": "2.7.6"
  }
 },
 "nbformat": 4,
 "nbformat_minor": 0
}