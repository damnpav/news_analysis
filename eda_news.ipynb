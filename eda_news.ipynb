{
 "cells": [
  {
   "cell_type": "markdown",
   "source": [
    "# Brief look at what we have"
   ],
   "metadata": {
    "collapsed": false,
    "pycharm": {
     "name": "#%% md\n"
    }
   }
  },
  {
   "cell_type": "code",
   "execution_count": 2,
   "metadata": {
    "collapsed": true,
    "pycharm": {
     "name": "#%%\n"
    }
   },
   "outputs": [],
   "source": [
    "import pandas as pd"
   ]
  },
  {
   "cell_type": "code",
   "execution_count": 4,
   "outputs": [],
   "source": [
    "lenta_path = r'/Users/dp_user/Documents/универ/диплом/data/lenta/'"
   ],
   "metadata": {
    "collapsed": false,
    "pycharm": {
     "name": "#%%\n"
    }
   }
  },
  {
   "cell_type": "code",
   "execution_count": 5,
   "outputs": [
    {
     "name": "stderr",
     "output_type": "stream",
     "text": [
      "/var/folders/0d/nn90v_dn4y56s_xnhsv23lf00000gn/T/ipykernel_7554/4155066225.py:1: DtypeWarning: Columns (3) have mixed types. Specify dtype option on import or set low_memory=False.\n",
      "  lenta_df = pd.read_csv(lenta_path+'lenta-ru-news.csv')\n"
     ]
    }
   ],
   "source": [
    "lenta_df = pd.read_csv(lenta_path+'lenta-ru-news.csv')"
   ],
   "metadata": {
    "collapsed": false,
    "pycharm": {
     "name": "#%%\n"
    }
   }
  },
  {
   "cell_type": "code",
   "execution_count": 6,
   "outputs": [
    {
     "data": {
      "text/plain": "(800975, 6)"
     },
     "execution_count": 6,
     "metadata": {},
     "output_type": "execute_result"
    }
   ],
   "source": [
    "lenta_df.shape"
   ],
   "metadata": {
    "collapsed": false,
    "pycharm": {
     "name": "#%%\n"
    }
   }
  },
  {
   "cell_type": "code",
   "execution_count": 8,
   "outputs": [
    {
     "data": {
      "text/plain": "'2019/12/14'"
     },
     "execution_count": 8,
     "metadata": {},
     "output_type": "execute_result"
    }
   ],
   "source": [
    "lenta_df['date'].max()"
   ],
   "metadata": {
    "collapsed": false,
    "pycharm": {
     "name": "#%%\n"
    }
   }
  },
  {
   "cell_type": "code",
   "execution_count": 9,
   "outputs": [
    {
     "data": {
      "text/plain": "'1914/09/16'"
     },
     "execution_count": 9,
     "metadata": {},
     "output_type": "execute_result"
    }
   ],
   "source": [
    "lenta_df['date'].min()"
   ],
   "metadata": {
    "collapsed": false,
    "pycharm": {
     "name": "#%%\n"
    }
   }
  },
  {
   "cell_type": "code",
   "execution_count": 16,
   "outputs": [
    {
     "data": {
      "text/plain": "                                                url   \n0        https://lenta.ru/news/1914/09/16/hungarnn/  \\\n1       https://lenta.ru/news/1914/09/16/lermontov/   \n2       https://lenta.ru/news/1914/09/17/nesteroff/   \n3        https://lenta.ru/news/1914/09/17/bulldogn/   \n4            https://lenta.ru/news/1914/09/18/zver/   \n...                                             ...   \n800970      https://lenta.ru/news/2019/12/14/shnur/   \n800971       https://lenta.ru/news/2019/12/14/dolg/   \n800972  https://lenta.ru/news/2019/12/14/dark_euro/   \n800973      https://lenta.ru/news/2019/12/14/meteo/   \n800974      https://lenta.ru/news/2019/12/14/olimp/   \n\n                                                    title   \n0       1914. Русские войска вступили в пределы Венгрии    \\\n1       1914. Празднование столетия М.Ю. Лермонтова от...   \n2                                1914. Das ist Nesteroff!   \n3                         1914. Бульдог-гонец под Льежем    \n4                1914. Под Люблином пойман швабский зверь   \n...                                                   ...   \n800970          Шнуров раскритиковал Гагарину на «Голосе»   \n800971  В России предложили изменить правила взыскания...   \n800972          В России назвали «черную дату» для Европы   \n800973        Россиянам пообещали аномально теплую погоду   \n800974  В конкурсе прогнозов на АПЛ разыграют 100 тыся...   \n\n                                                     text       topic   \n0       Бои у Сопоцкина и Друскеник закончились отступ...  Библиотека  \\\n1       Министерство народного просвещения, в виду про...  Библиотека   \n2       Штабс-капитан П. Н. Нестеров на днях, увидев в...  Библиотека   \n3       Фотограф-корреспондент Daily Mirror рассказыва...  Библиотека   \n4       Лица, приехавшие в Варшаву из Люблина, передаю...  Библиотека   \n...                                                   ...         ...   \n800970  Певец Сергей Шнуров раскритиковал свою коллегу...         NaN   \n800971  Министерство юстиции России предложило изменит...         NaN   \n800972  Испытание США ранее запрещенной Договором о ли...         NaN   \n800973  В ближайшие дни в европейской части России пог...         NaN   \n800974  Ведущие футбольные чемпионаты ушли на зимние к...         NaN   \n\n                     tags        date date_yr  \n0          Первая мировая  1914/09/16    1914  \n1          Первая мировая  1914/09/16    1914  \n2          Первая мировая  1914/09/17    1914  \n3          Первая мировая  1914/09/17    1914  \n4          Первая мировая  1914/09/18    1914  \n...                   ...         ...     ...  \n800970         ТВ и радио  2019/12/14    2019  \n800971                Все  2019/12/14    2019  \n800972           Политика  2019/12/14    2019  \n800973           Общество  2019/12/14    2019  \n800974  Английский футбол  2019/12/14    2019  \n\n[800975 rows x 7 columns]",
      "text/html": "<div>\n<style scoped>\n    .dataframe tbody tr th:only-of-type {\n        vertical-align: middle;\n    }\n\n    .dataframe tbody tr th {\n        vertical-align: top;\n    }\n\n    .dataframe thead th {\n        text-align: right;\n    }\n</style>\n<table border=\"1\" class=\"dataframe\">\n  <thead>\n    <tr style=\"text-align: right;\">\n      <th></th>\n      <th>url</th>\n      <th>title</th>\n      <th>text</th>\n      <th>topic</th>\n      <th>tags</th>\n      <th>date</th>\n      <th>date_yr</th>\n    </tr>\n  </thead>\n  <tbody>\n    <tr>\n      <th>0</th>\n      <td>https://lenta.ru/news/1914/09/16/hungarnn/</td>\n      <td>1914. Русские войска вступили в пределы Венгрии</td>\n      <td>Бои у Сопоцкина и Друскеник закончились отступ...</td>\n      <td>Библиотека</td>\n      <td>Первая мировая</td>\n      <td>1914/09/16</td>\n      <td>1914</td>\n    </tr>\n    <tr>\n      <th>1</th>\n      <td>https://lenta.ru/news/1914/09/16/lermontov/</td>\n      <td>1914. Празднование столетия М.Ю. Лермонтова от...</td>\n      <td>Министерство народного просвещения, в виду про...</td>\n      <td>Библиотека</td>\n      <td>Первая мировая</td>\n      <td>1914/09/16</td>\n      <td>1914</td>\n    </tr>\n    <tr>\n      <th>2</th>\n      <td>https://lenta.ru/news/1914/09/17/nesteroff/</td>\n      <td>1914. Das ist Nesteroff!</td>\n      <td>Штабс-капитан П. Н. Нестеров на днях, увидев в...</td>\n      <td>Библиотека</td>\n      <td>Первая мировая</td>\n      <td>1914/09/17</td>\n      <td>1914</td>\n    </tr>\n    <tr>\n      <th>3</th>\n      <td>https://lenta.ru/news/1914/09/17/bulldogn/</td>\n      <td>1914. Бульдог-гонец под Льежем</td>\n      <td>Фотограф-корреспондент Daily Mirror рассказыва...</td>\n      <td>Библиотека</td>\n      <td>Первая мировая</td>\n      <td>1914/09/17</td>\n      <td>1914</td>\n    </tr>\n    <tr>\n      <th>4</th>\n      <td>https://lenta.ru/news/1914/09/18/zver/</td>\n      <td>1914. Под Люблином пойман швабский зверь</td>\n      <td>Лица, приехавшие в Варшаву из Люблина, передаю...</td>\n      <td>Библиотека</td>\n      <td>Первая мировая</td>\n      <td>1914/09/18</td>\n      <td>1914</td>\n    </tr>\n    <tr>\n      <th>...</th>\n      <td>...</td>\n      <td>...</td>\n      <td>...</td>\n      <td>...</td>\n      <td>...</td>\n      <td>...</td>\n      <td>...</td>\n    </tr>\n    <tr>\n      <th>800970</th>\n      <td>https://lenta.ru/news/2019/12/14/shnur/</td>\n      <td>Шнуров раскритиковал Гагарину на «Голосе»</td>\n      <td>Певец Сергей Шнуров раскритиковал свою коллегу...</td>\n      <td>NaN</td>\n      <td>ТВ и радио</td>\n      <td>2019/12/14</td>\n      <td>2019</td>\n    </tr>\n    <tr>\n      <th>800971</th>\n      <td>https://lenta.ru/news/2019/12/14/dolg/</td>\n      <td>В России предложили изменить правила взыскания...</td>\n      <td>Министерство юстиции России предложило изменит...</td>\n      <td>NaN</td>\n      <td>Все</td>\n      <td>2019/12/14</td>\n      <td>2019</td>\n    </tr>\n    <tr>\n      <th>800972</th>\n      <td>https://lenta.ru/news/2019/12/14/dark_euro/</td>\n      <td>В России назвали «черную дату» для Европы</td>\n      <td>Испытание США ранее запрещенной Договором о ли...</td>\n      <td>NaN</td>\n      <td>Политика</td>\n      <td>2019/12/14</td>\n      <td>2019</td>\n    </tr>\n    <tr>\n      <th>800973</th>\n      <td>https://lenta.ru/news/2019/12/14/meteo/</td>\n      <td>Россиянам пообещали аномально теплую погоду</td>\n      <td>В ближайшие дни в европейской части России пог...</td>\n      <td>NaN</td>\n      <td>Общество</td>\n      <td>2019/12/14</td>\n      <td>2019</td>\n    </tr>\n    <tr>\n      <th>800974</th>\n      <td>https://lenta.ru/news/2019/12/14/olimp/</td>\n      <td>В конкурсе прогнозов на АПЛ разыграют 100 тыся...</td>\n      <td>Ведущие футбольные чемпионаты ушли на зимние к...</td>\n      <td>NaN</td>\n      <td>Английский футбол</td>\n      <td>2019/12/14</td>\n      <td>2019</td>\n    </tr>\n  </tbody>\n</table>\n<p>800975 rows × 7 columns</p>\n</div>"
     },
     "execution_count": 16,
     "metadata": {},
     "output_type": "execute_result"
    }
   ],
   "source": [
    "lenta_df"
   ],
   "metadata": {
    "collapsed": false,
    "pycharm": {
     "name": "#%%\n"
    }
   }
  },
  {
   "cell_type": "code",
   "execution_count": 15,
   "outputs": [],
   "source": [
    "lenta_df['date_yr'] = lenta_df['date'].str.slice(stop=4)"
   ],
   "metadata": {
    "collapsed": false,
    "pycharm": {
     "name": "#%%\n"
    }
   }
  },
  {
   "cell_type": "code",
   "execution_count": 35,
   "outputs": [
    {
     "name": "stdout",
     "output_type": "stream",
     "text": [
      "['Крымско-татарское общественное политическое движение \"Миллет\" (\"Народ\") совместно с меджлисом проводит сегодня в Ялте митинг протеста. Цель акции - привлечь внимание руководителей стран СНГ, съезжающихся на Ялтинский саммит, \"к трагедии депортированного крымско-татарского народа, которая продолжается до сих пор\". Об этом участники митинга заявили в своем обращении, адресованном главам государств и правительств Содружества. \"Декларация Верховного Совета СССР \"О признании незаконными и преступными репрессивных актов против народов, подвергшихся насильственному переселению, и обеспечении их прав\", постановление СССР \"О выводах и предложениях комиссии по проблемам советских немцев и крымско-татарского народа\" от 1989 года и другие решения советского руководства остались нереализованными\", - говорится в документе. \"Государства - правопреемники СССР, причастные к депортации, отстранились от решения крымско-татарской проблемы. Государственные границы расчленили народ и препятствуют восстановлению национальной целостности крымских татар\". В обращении отмечено, что \"Верховная рада Украины заблокировала процесс восстановления прав и государственности коренного народа Крыма\". Резкое сокращение финансовых средств, выделяемых из украинского бюджета, и безучастное отношение остальных стран СНГ к проблемам депортированного народа практически свертывают процесс возвращения и обустройства крымских татар в Крыму.']\n"
     ]
    }
   ],
   "source": [
    "print(lenta_df[755:756]['text'].values)"
   ],
   "metadata": {
    "collapsed": false,
    "pycharm": {
     "name": "#%%\n"
    }
   }
  },
  {
   "cell_type": "code",
   "execution_count": null,
   "outputs": [],
   "source": [],
   "metadata": {
    "collapsed": false,
    "pycharm": {
     "name": "#%%\n"
    }
   }
  }
 ],
 "metadata": {
  "kernelspec": {
   "display_name": "Python 3",
   "language": "python",
   "name": "python3"
  },
  "language_info": {
   "codemirror_mode": {
    "name": "ipython",
    "version": 2
   },
   "file_extension": ".py",
   "mimetype": "text/x-python",
   "name": "python",
   "nbconvert_exporter": "python",
   "pygments_lexer": "ipython2",
   "version": "2.7.6"
  }
 },
 "nbformat": 4,
 "nbformat_minor": 0
}