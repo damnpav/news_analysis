{
 "cells": [
  {
   "cell_type": "code",
   "execution_count": 1,
   "metadata": {
    "collapsed": true,
    "pycharm": {
     "name": "#%%\n"
    }
   },
   "outputs": [],
   "source": [
    "import pandas as pd\n",
    "from keras.models import Sequential\n",
    "from keras.layers import Dense, LSTM\n",
    "from sklearn.model_selection import train_test_split\n",
    "from sklearn.metrics import mean_absolute_error, r2_score"
   ]
  },
  {
   "cell_type": "code",
   "execution_count": 2,
   "outputs": [],
   "source": [
    "import numpy as np\n",
    "from sklearn.preprocessing import MinMaxScaler"
   ],
   "metadata": {
    "collapsed": false,
    "pycharm": {
     "name": "#%%\n"
    }
   }
  },
  {
   "cell_type": "code",
   "execution_count": 3,
   "outputs": [],
   "source": [
    "scaler = MinMaxScaler()\n",
    "scaler1 = MinMaxScaler()\n",
    "features_and_target_df = pd.read_excel('features_and_target.xlsx')\n",
    "features_and_target_df = features_and_target_df.fillna(0)\n",
    "X = features_and_target_df.drop(columns=['log_price_spread'])\n",
    "y = features_and_target_df['log_price_spread']\n",
    "scaler.fit(X)\n",
    "scaler1.fit(np.array(y).reshape(-1, 1))\n",
    "X = scaler.transform(X)\n",
    "y = scaler1.transform(np.array(y).reshape(-1, 1))\n",
    "X_train, X_test, y_train, y_test = train_test_split(X, y, test_size=0.2, random_state=42)"
   ],
   "metadata": {
    "collapsed": false,
    "pycharm": {
     "name": "#%%\n"
    }
   }
  },
  {
   "cell_type": "code",
   "execution_count": 5,
   "outputs": [
    {
     "name": "stdout",
     "output_type": "stream",
     "text": [
      "Epoch 1/50\n",
      "25/25 [==============================] - 3s 72ms/step - loss: 0.0096 - val_loss: 0.0036\n",
      "Epoch 2/50\n",
      "25/25 [==============================] - 2s 65ms/step - loss: 0.0059 - val_loss: 0.0035\n",
      "Epoch 3/50\n",
      "25/25 [==============================] - 2s 65ms/step - loss: 0.0058 - val_loss: 0.0035\n",
      "Epoch 4/50\n",
      "25/25 [==============================] - 2s 67ms/step - loss: 0.0058 - val_loss: 0.0035\n",
      "Epoch 5/50\n",
      "25/25 [==============================] - 2s 64ms/step - loss: 0.0059 - val_loss: 0.0035\n",
      "Epoch 6/50\n",
      "25/25 [==============================] - 2s 66ms/step - loss: 0.0058 - val_loss: 0.0036\n",
      "Epoch 7/50\n",
      "25/25 [==============================] - 2s 65ms/step - loss: 0.0058 - val_loss: 0.0035\n",
      "Epoch 8/50\n",
      "25/25 [==============================] - 2s 65ms/step - loss: 0.0058 - val_loss: 0.0037\n",
      "Epoch 9/50\n",
      "25/25 [==============================] - 2s 64ms/step - loss: 0.0058 - val_loss: 0.0040\n",
      "Epoch 10/50\n",
      "25/25 [==============================] - 2s 64ms/step - loss: 0.0058 - val_loss: 0.0036\n",
      "Epoch 11/50\n",
      "25/25 [==============================] - 2s 68ms/step - loss: 0.0059 - val_loss: 0.0034\n",
      "Epoch 12/50\n",
      "25/25 [==============================] - 2s 64ms/step - loss: 0.0060 - val_loss: 0.0034\n",
      "Epoch 13/50\n",
      "25/25 [==============================] - 2s 64ms/step - loss: 0.0058 - val_loss: 0.0036\n",
      "Epoch 14/50\n",
      "25/25 [==============================] - 2s 72ms/step - loss: 0.0058 - val_loss: 0.0034\n",
      "Epoch 15/50\n",
      "25/25 [==============================] - 2s 64ms/step - loss: 0.0059 - val_loss: 0.0035\n",
      "Epoch 16/50\n",
      "25/25 [==============================] - 2s 64ms/step - loss: 0.0059 - val_loss: 0.0035\n",
      "Epoch 17/50\n",
      "25/25 [==============================] - 2s 64ms/step - loss: 0.0058 - val_loss: 0.0036\n",
      "Epoch 18/50\n",
      "25/25 [==============================] - 2s 63ms/step - loss: 0.0058 - val_loss: 0.0034\n",
      "Epoch 19/50\n",
      "25/25 [==============================] - 2s 63ms/step - loss: 0.0058 - val_loss: 0.0036\n",
      "Epoch 20/50\n",
      "25/25 [==============================] - 2s 64ms/step - loss: 0.0058 - val_loss: 0.0035\n",
      "Epoch 21/50\n",
      "25/25 [==============================] - 2s 63ms/step - loss: 0.0058 - val_loss: 0.0036\n",
      "Epoch 22/50\n",
      "25/25 [==============================] - 2s 66ms/step - loss: 0.0058 - val_loss: 0.0037\n",
      "Epoch 23/50\n",
      "25/25 [==============================] - 2s 64ms/step - loss: 0.0059 - val_loss: 0.0037\n",
      "Epoch 24/50\n",
      "25/25 [==============================] - 2s 65ms/step - loss: 0.0058 - val_loss: 0.0036\n",
      "Epoch 25/50\n",
      "25/25 [==============================] - 2s 64ms/step - loss: 0.0059 - val_loss: 0.0035\n",
      "Epoch 26/50\n",
      "25/25 [==============================] - 2s 63ms/step - loss: 0.0058 - val_loss: 0.0034\n",
      "Epoch 27/50\n",
      "25/25 [==============================] - 2s 63ms/step - loss: 0.0058 - val_loss: 0.0035\n",
      "Epoch 28/50\n",
      "25/25 [==============================] - 2s 64ms/step - loss: 0.0058 - val_loss: 0.0035\n",
      "Epoch 29/50\n",
      "25/25 [==============================] - 2s 64ms/step - loss: 0.0057 - val_loss: 0.0034\n",
      "Epoch 30/50\n",
      "25/25 [==============================] - 2s 64ms/step - loss: 0.0058 - val_loss: 0.0034\n",
      "Epoch 31/50\n",
      "25/25 [==============================] - 2s 63ms/step - loss: 0.0058 - val_loss: 0.0035\n",
      "Epoch 32/50\n",
      "25/25 [==============================] - 2s 63ms/step - loss: 0.0058 - val_loss: 0.0034\n",
      "Epoch 33/50\n",
      "25/25 [==============================] - 2s 63ms/step - loss: 0.0058 - val_loss: 0.0035\n",
      "Epoch 34/50\n",
      "25/25 [==============================] - 2s 63ms/step - loss: 0.0058 - val_loss: 0.0037\n",
      "Epoch 35/50\n",
      "25/25 [==============================] - 2s 64ms/step - loss: 0.0058 - val_loss: 0.0034\n",
      "Epoch 36/50\n",
      "25/25 [==============================] - 2s 67ms/step - loss: 0.0057 - val_loss: 0.0036\n",
      "Epoch 37/50\n",
      "25/25 [==============================] - 2s 64ms/step - loss: 0.0058 - val_loss: 0.0034\n",
      "Epoch 38/50\n",
      "25/25 [==============================] - 2s 64ms/step - loss: 0.0058 - val_loss: 0.0034\n",
      "Epoch 39/50\n",
      "25/25 [==============================] - 2s 64ms/step - loss: 0.0058 - val_loss: 0.0036\n",
      "Epoch 40/50\n",
      "25/25 [==============================] - 2s 64ms/step - loss: 0.0058 - val_loss: 0.0035\n",
      "Epoch 41/50\n",
      "25/25 [==============================] - 2s 64ms/step - loss: 0.0058 - val_loss: 0.0034\n",
      "Epoch 42/50\n",
      "25/25 [==============================] - 2s 64ms/step - loss: 0.0057 - val_loss: 0.0040\n",
      "Epoch 43/50\n",
      "25/25 [==============================] - 2s 64ms/step - loss: 0.0059 - val_loss: 0.0040\n",
      "Epoch 44/50\n",
      "25/25 [==============================] - 2s 64ms/step - loss: 0.0059 - val_loss: 0.0034\n",
      "Epoch 45/50\n",
      "25/25 [==============================] - 2s 64ms/step - loss: 0.0058 - val_loss: 0.0035\n",
      "Epoch 46/50\n",
      "25/25 [==============================] - 2s 64ms/step - loss: 0.0058 - val_loss: 0.0034\n",
      "Epoch 47/50\n",
      "25/25 [==============================] - 2s 64ms/step - loss: 0.0058 - val_loss: 0.0039\n",
      "Epoch 48/50\n",
      "25/25 [==============================] - 2s 64ms/step - loss: 0.0059 - val_loss: 0.0035\n",
      "Epoch 49/50\n",
      "25/25 [==============================] - 2s 64ms/step - loss: 0.0059 - val_loss: 0.0034\n",
      "Epoch 50/50\n",
      "25/25 [==============================] - 2s 64ms/step - loss: 0.0058 - val_loss: 0.0036\n",
      "31/31 [==============================] - 1s 16ms/step\n",
      "8/8 [==============================] - 0s 15ms/step\n"
     ]
    }
   ],
   "source": [
    "# Define the LSTM model\n",
    "lstm_model = Sequential()\n",
    "lstm_model.add(LSTM(64, input_shape=(X_train.shape[1], 1)))\n",
    "lstm_model.add(Dense(1))\n",
    "\n",
    "# X_train = X_train.values.reshape(X_train.shape[0], X_train.shape[1], 1)\n",
    "# X_test = X_test.values.reshape(X_test.shape[0], X_test.shape[1], 1)\n",
    "\n",
    "# Compile the model\n",
    "lstm_model.compile(loss='mse', optimizer='adam')\n",
    "\n",
    "# Train the model\n",
    "history = lstm_model.fit(X_train.reshape(X_train.shape[0], X_train.shape[1], 1), y_train,\n",
    "                         epochs=50, batch_size=32, verbose=1, validation_split=0.2)\n",
    "\n",
    "# Make predictions on the train and test sets\n",
    "y_train_pred = lstm_model.predict(X_train.reshape(X_train.shape[0], X_train.shape[1], 1)).flatten()\n",
    "y_test_pred = lstm_model.predict(X_test.reshape(X_test.shape[0], X_test.shape[1], 1)).flatten()\n",
    "\n",
    "# Calculate the MAE and R-squared (R²) score for the train set\n",
    "train_mae = mean_absolute_error(y_train, y_train_pred)\n",
    "train_r2 = r2_score(y_train, y_train_pred)\n",
    "\n",
    "# Calculate the MAE and R-squared (R²) score for the test set\n",
    "test_mae = mean_absolute_error(y_test, y_test_pred)\n",
    "test_r2 = r2_score(y_test, y_test_pred)"
   ],
   "metadata": {
    "collapsed": false,
    "pycharm": {
     "name": "#%%\n"
    }
   }
  },
  {
   "cell_type": "code",
   "execution_count": 6,
   "outputs": [
    {
     "data": {
      "text/plain": "0.04724274770661713"
     },
     "execution_count": 6,
     "metadata": {},
     "output_type": "execute_result"
    }
   ],
   "source": [
    "test_mae"
   ],
   "metadata": {
    "collapsed": false,
    "pycharm": {
     "name": "#%%\n"
    }
   }
  },
  {
   "cell_type": "code",
   "execution_count": 7,
   "outputs": [
    {
     "data": {
      "text/plain": "0.0019393868178541052"
     },
     "execution_count": 7,
     "metadata": {},
     "output_type": "execute_result"
    }
   ],
   "source": [
    "test_r2"
   ],
   "metadata": {
    "collapsed": false,
    "pycharm": {
     "name": "#%%\n"
    }
   }
  },
  {
   "cell_type": "code",
   "execution_count": null,
   "outputs": [],
   "source": [],
   "metadata": {
    "collapsed": false,
    "pycharm": {
     "name": "#%%\n",
     "is_executing": true
    }
   }
  },
  {
   "cell_type": "code",
   "execution_count": null,
   "outputs": [],
   "source": [],
   "metadata": {
    "collapsed": false,
    "pycharm": {
     "name": "#%%\n",
     "is_executing": true
    }
   }
  },
  {
   "cell_type": "code",
   "execution_count": 5,
   "outputs": [],
   "source": [],
   "metadata": {
    "collapsed": false,
    "pycharm": {
     "name": "#%%\n"
    }
   }
  }
 ],
 "metadata": {
  "kernelspec": {
   "name": "news_analysis",
   "language": "python",
   "display_name": "news_analysis"
  },
  "language_info": {
   "codemirror_mode": {
    "name": "ipython",
    "version": 2
   },
   "file_extension": ".py",
   "mimetype": "text/x-python",
   "name": "python",
   "nbconvert_exporter": "python",
   "pygments_lexer": "ipython2",
   "version": "2.7.6"
  }
 },
 "nbformat": 4,
 "nbformat_minor": 0
}