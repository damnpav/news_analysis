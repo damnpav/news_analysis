{
 "cells": [
  {
   "cell_type": "code",
   "execution_count": 1,
   "metadata": {
    "collapsed": true,
    "pycharm": {
     "name": "#%%\n"
    }
   },
   "outputs": [],
   "source": [
    "import pandas as pd\n",
    "from tqdm import tqdm\n",
    "import nltk\n",
    "from pymystem3 import Mystem\n",
    "from string import punctuation\n",
    "from nltk.corpus import stopwords"
   ]
  },
  {
   "cell_type": "code",
   "execution_count": 21,
   "outputs": [],
   "source": [
    "from sklearn.feature_extraction.text import CountVectorizer"
   ],
   "metadata": {
    "collapsed": false,
    "pycharm": {
     "name": "#%%\n"
    }
   }
  },
  {
   "cell_type": "code",
   "execution_count": 44,
   "outputs": [],
   "source": [
    "import numpy as np"
   ],
   "metadata": {
    "collapsed": false,
    "pycharm": {
     "name": "#%%\n"
    }
   }
  },
  {
   "cell_type": "code",
   "execution_count": 2,
   "outputs": [
    {
     "name": "stderr",
     "output_type": "stream",
     "text": [
      "[nltk_data] Downloading package stopwords to\n",
      "[nltk_data]     /Users/dp_user/nltk_data...\n",
      "[nltk_data]   Package stopwords is already up-to-date!\n"
     ]
    },
    {
     "data": {
      "text/plain": "True"
     },
     "execution_count": 2,
     "metadata": {},
     "output_type": "execute_result"
    }
   ],
   "source": [
    "nltk.download(\"stopwords\")"
   ],
   "metadata": {
    "collapsed": false,
    "pycharm": {
     "name": "#%%\n"
    }
   }
  },
  {
   "cell_type": "markdown",
   "source": [
    "# TODO надо кластеризовать значения волатильности на волатильные дни и нет"
   ],
   "metadata": {
    "collapsed": false,
    "pycharm": {
     "name": "#%% md\n"
    }
   }
  },
  {
   "cell_type": "code",
   "execution_count": 5,
   "outputs": [],
   "source": [
    "# вообще надо будет попробовать и регрессию и кластеризацию"
   ],
   "metadata": {
    "collapsed": false,
    "pycharm": {
     "name": "#%%\n"
    }
   }
  },
  {
   "cell_type": "code",
   "execution_count": 6,
   "outputs": [],
   "source": [
    "# для этого точно надо как то закодировать слова"
   ],
   "metadata": {
    "collapsed": false,
    "pycharm": {
     "name": "#%%\n"
    }
   }
  },
  {
   "cell_type": "code",
   "execution_count": 7,
   "outputs": [],
   "source": [
    "# разные топики и теги будем использовать как разные фичи"
   ],
   "metadata": {
    "collapsed": false,
    "pycharm": {
     "name": "#%%\n"
    }
   }
  },
  {
   "cell_type": "code",
   "execution_count": 3,
   "outputs": [],
   "source": [
    "data_df = pd.read_excel('imoex_and_news_1_090523.xlsx')"
   ],
   "metadata": {
    "collapsed": false,
    "pycharm": {
     "name": "#%%\n"
    }
   }
  },
  {
   "cell_type": "code",
   "execution_count": 25,
   "outputs": [
    {
     "data": {
      "text/plain": "98                                                     []\n1085                                                   []\n929                                                    []\n763                                                    []\n119     ['госдеп прокомментировал участие исламистов в...\n898                                                    []\n1076                                                   []\n527                                                    []\n383                                                    []\n532                                                    []\nName: Мир_Все, dtype: object"
     },
     "execution_count": 25,
     "metadata": {},
     "output_type": "execute_result"
    }
   ],
   "source": [
    "data_df['Мир_Все'].sample(10)  # очень разряженная матрица"
   ],
   "metadata": {
    "collapsed": false,
    "pycharm": {
     "name": "#%%\n"
    }
   }
  },
  {
   "cell_type": "code",
   "execution_count": null,
   "outputs": [],
   "source": [
    "# теперь текст в колонках надо чистить и лемматизировать"
   ],
   "metadata": {
    "collapsed": false,
    "pycharm": {
     "name": "#%%\n",
     "is_executing": true
    }
   }
  },
  {
   "cell_type": "code",
   "execution_count": 4,
   "outputs": [],
   "source": [
    "topic_tags_df = pd.read_excel(r'/Users/dp_user/PycharmProjects/news_analysis/гуппировка_по_тегам_и_топикам.xlsx', sheet_name='used_keys')"
   ],
   "metadata": {
    "collapsed": false,
    "pycharm": {
     "name": "#%%\n"
    }
   }
  },
  {
   "cell_type": "code",
   "execution_count": 5,
   "outputs": [],
   "source": [
    "news_cols = topic_tags_df['topic_tags'].to_list()"
   ],
   "metadata": {
    "collapsed": false,
    "pycharm": {
     "name": "#%%\n"
    }
   }
  },
  {
   "cell_type": "code",
   "execution_count": 102,
   "outputs": [],
   "source": [
    "russian_stopwords = stopwords.words(\"russian\")"
   ],
   "metadata": {
    "collapsed": false,
    "pycharm": {
     "name": "#%%\n"
    }
   }
  },
  {
   "cell_type": "code",
   "execution_count": 30,
   "outputs": [],
   "source": [],
   "metadata": {
    "collapsed": false,
    "pycharm": {
     "name": "#%%\n"
    }
   }
  },
  {
   "cell_type": "code",
   "execution_count": 53,
   "outputs": [],
   "source": [
    "data_df1 = data_df.copy()"
   ],
   "metadata": {
    "collapsed": false,
    "pycharm": {
     "name": "#%%\n"
    }
   }
  },
  {
   "cell_type": "code",
   "execution_count": 54,
   "outputs": [
    {
     "name": "stderr",
     "output_type": "stream",
     "text": [
      "100%|██████████| 131/131 [00:00<00:00, 408.13it/s]\n"
     ]
    }
   ],
   "source": [
    "for col in tqdm(news_cols):\n",
    "    data_df1[col] = data_df1[col].str.lower()\n",
    "    data_df1[col] = data_df1[col].str.replace('[','').replace(']', '')\n",
    "    data_df1[col]  = data_df1[col].str.replace('[^а-яА-Яё Ё]', '', regex=True)  # replace all non Cyrillic symbols"
   ],
   "metadata": {
    "collapsed": false,
    "pycharm": {
     "name": "#%%\n"
    }
   }
  },
  {
   "cell_type": "code",
   "execution_count": 55,
   "outputs": [],
   "source": [
    "# todo теперь надо сделать как советовал chat и сделать из этого фичи как-нибудь (мешок слов, tf_idf и тд)"
   ],
   "metadata": {
    "collapsed": false,
    "pycharm": {
     "name": "#%%\n"
    }
   }
  },
  {
   "cell_type": "code",
   "execution_count": 31,
   "outputs": [],
   "source": [
    "# + надо еще лемматизировать"
   ],
   "metadata": {
    "collapsed": false,
    "pycharm": {
     "name": "#%%\n"
    }
   }
  },
  {
   "cell_type": "code",
   "execution_count": 51,
   "outputs": [],
   "source": [
    "exmpl_str = data_df1['Россия_Москва'][0]"
   ],
   "metadata": {
    "collapsed": false,
    "pycharm": {
     "name": "#%%\n"
    }
   }
  },
  {
   "cell_type": "code",
   "execution_count": 52,
   "outputs": [
    {
     "data": {
      "text/plain": "'подземные переходы москвы проверят наналичие тайников второй поезд сосквозным проходом запустят вконце января'"
     },
     "execution_count": 52,
     "metadata": {},
     "output_type": "execute_result"
    }
   ],
   "source": [
    "exmpl_str"
   ],
   "metadata": {
    "collapsed": false,
    "pycharm": {
     "name": "#%%\n"
    }
   }
  },
  {
   "cell_type": "code",
   "execution_count": 100,
   "outputs": [],
   "source": [
    "mystem = Mystem()"
   ],
   "metadata": {
    "collapsed": false,
    "pycharm": {
     "name": "#%%\n"
    }
   }
  },
  {
   "cell_type": "code",
   "execution_count": 101,
   "outputs": [
    {
     "ename": "NameError",
     "evalue": "name 'exmpl_str' is not defined",
     "output_type": "error",
     "traceback": [
      "\u001B[0;31m---------------------------------------------------------------------------\u001B[0m",
      "\u001B[0;31mNameError\u001B[0m                                 Traceback (most recent call last)",
      "Cell \u001B[0;32mIn[101], line 1\u001B[0m\n\u001B[0;32m----> 1\u001B[0m tokens \u001B[38;5;241m=\u001B[39m mystem\u001B[38;5;241m.\u001B[39mlemmatize(\u001B[43mexmpl_str\u001B[49m\u001B[38;5;241m.\u001B[39mlower())\n",
      "\u001B[0;31mNameError\u001B[0m: name 'exmpl_str' is not defined"
     ]
    }
   ],
   "source": [
    "tokens = mystem.lemmatize(exmpl_str.lower())"
   ],
   "metadata": {
    "collapsed": false,
    "pycharm": {
     "name": "#%%\n"
    }
   }
  },
  {
   "cell_type": "code",
   "execution_count": 54,
   "outputs": [
    {
     "data": {
      "text/plain": "['подземный',\n ' ',\n 'переход',\n ' ',\n 'москва',\n ' ',\n 'проверять',\n ' ',\n 'наналичие',\n ' ',\n 'тайник',\n ' ',\n 'второй',\n ' ',\n 'поезд',\n ' ',\n 'сосквозной',\n ' ',\n 'проход',\n ' ',\n 'запускать',\n ' ',\n 'вконце',\n ' ',\n 'январь',\n '\\n']"
     },
     "execution_count": 54,
     "metadata": {},
     "output_type": "execute_result"
    }
   ],
   "source": [
    "tokens  # вот так токены будем делать"
   ],
   "metadata": {
    "collapsed": false,
    "pycharm": {
     "name": "#%%\n"
    }
   }
  },
  {
   "cell_type": "code",
   "execution_count": null,
   "outputs": [],
   "source": [],
   "metadata": {
    "collapsed": false,
    "pycharm": {
     "name": "#%%\n",
     "is_executing": true
    }
   }
  },
  {
   "cell_type": "markdown",
   "source": [
    "# BagOfWords, topic_tag надо закодировать как отдельные фичу"
   ],
   "metadata": {
    "collapsed": false,
    "pycharm": {
     "name": "#%% md\n"
    }
   }
  },
  {
   "cell_type": "code",
   "execution_count": 9,
   "outputs": [
    {
     "data": {
      "text/plain": "(1232, 143)"
     },
     "execution_count": 9,
     "metadata": {},
     "output_type": "execute_result"
    }
   ],
   "source": [
    "data_df1.shape"
   ],
   "metadata": {
    "collapsed": false,
    "pycharm": {
     "name": "#%%\n"
    }
   }
  },
  {
   "cell_type": "code",
   "execution_count": null,
   "outputs": [],
   "source": [],
   "metadata": {
    "collapsed": false,
    "pycharm": {
     "name": "#%%\n",
     "is_executing": true
    }
   }
  },
  {
   "cell_type": "code",
   "execution_count": 15,
   "outputs": [
    {
     "data": {
      "text/plain": "['Date',\n 'Open',\n 'High',\n 'Low',\n 'Close',\n 'Adj Close',\n 'Volume',\n 'log_price_spread',\n 'log_ret',\n 'week',\n 'yr',\n 'week_yr',\n 'Россия_Все',\n 'Мир_Все',\n 'Экономика_Все',\n 'Наука и техника_Все',\n 'Бывший СССР_Все',\n 'Интернет и СМИ_Все',\n 'Мир_Политика',\n 'Россия_Общество',\n 'Бывший СССР_Украина',\n 'Из жизни_Все',\n 'Россия_Политика',\n 'Экономика_Госэкономика',\n 'Мир_Общество',\n 'Силовые структуры_',\n 'Интернет и СМИ_Интернет',\n '_Общество',\n '_Политика',\n 'Наука и техника_Наука',\n 'Силовые структуры_Следствие и суд',\n 'Россия_Происшествия',\n 'Мир_Происшествия',\n 'Россия_',\n 'Мир_Преступность',\n '_Украина',\n 'Экономика_Бизнес',\n 'Бизнес_Бизнес',\n '_Происшествия',\n 'Наука и техника_Космос',\n 'Мир_Конфликты',\n 'Экономика_',\n 'Интернет и СМИ_ТВ и радио',\n 'Интернет и СМИ_Coцсети',\n 'Из жизни_Происшествия',\n 'Россия_Регионы',\n '_Госэкономика',\n 'Силовые структуры_Криминал',\n 'Наука и техника_Гаджеты',\n 'Бизнес_Деловой климат',\n 'Бывший СССР_',\n 'Экономика_Рынки',\n 'Силовые структуры_Полиция и спецслужбы',\n 'Бывший СССР_Закавказье',\n '_Интернет',\n '_ТВ и радио',\n 'Экономика_Деньги',\n 'Россия_Москва',\n 'Путешествия_Происшествия',\n 'Бывший СССР_Прибалтика',\n '_Оружие',\n 'Наука и техника_Оружие',\n 'Бывший СССР_Средняя Азия',\n '_Бизнес',\n 'Бывший СССР_Белоруссия',\n '_',\n '_Регионы',\n 'Бизнес_Мировой бизнес',\n '_Рынки',\n '_Экономика',\n 'Дом_Офис',\n '_Полиция и спецслужбы',\n 'Из жизни_События',\n 'Путешествия_Россия',\n '_Космос',\n 'Крым_Все',\n '_Конфликты',\n '_Криминал',\n 'Наука и техника_Софт',\n '_Деловой климат',\n 'Экономика_Деловой климат',\n '69-я параллель_События',\n '_События',\n '_Мир',\n 'Бывший СССР_Молдавия',\n '_Белоруссия',\n '_Преступность',\n 'Бизнес_Автобизнес',\n '_Россия',\n '_Закавказье',\n '_Деньги',\n '_Пресса',\n 'Интернет и СМИ_',\n '69-я параллель_Достижения',\n '_Мнения',\n '_Прибалтика',\n '_История',\n '_Киберпреступность',\n '_Достижения',\n '_Жизнь',\n '69-я параллель_Все',\n '_Средняя Азия',\n '_Все',\n '69-я параллель_Люди',\n 'Интернет и СМИ_Киберпреступность',\n '_Гаджеты',\n 'Бизнес_Финансы компаний',\n '_Техника',\n 'Силовые структуры_Преступная Россия',\n 'Спорт_Авто',\n '_Город',\n '_Преступная Россия',\n '_Казахстан',\n 'Из жизни_',\n '_Молдавия',\n '_Движение',\n '_Офис',\n 'Экономика_Социальная сфера',\n 'Силовые структуры_Все',\n '_Авто',\n '_Вещи',\n '_Реклама',\n '69-я параллель_Экология',\n 'Легпром_Госрегулирование',\n '_Москва',\n 'Бизнес_Все',\n '_Инструменты',\n 'Легпром_Аналитика рынка',\n 'Бизнес_',\n 'Мир_Страноведение',\n '_Софт',\n 'Мир_Выборы',\n '69-я параллель_История',\n 'Легпром_Мировой опыт',\n 'Ценности_Все',\n 'Оружие_Вооружение',\n 'Легпром_Все',\n 'ЧМ-2014_Все',\n 'Легпром_Инновации',\n '_69-я параллель',\n 'МедНовости_Все',\n '_Финансы компаний',\n 'Сочи_Все']"
     },
     "execution_count": 15,
     "metadata": {},
     "output_type": "execute_result"
    }
   ],
   "source": [
    "list(data_df1.columns)"
   ],
   "metadata": {
    "collapsed": false,
    "pycharm": {
     "name": "#%%\n"
    }
   }
  },
  {
   "cell_type": "code",
   "execution_count": 22,
   "outputs": [
    {
     "data": {
      "text/plain": "['',\n 'мусульмане отпразднуют уразабайрам надвух площадках вподольске',\n 'в клину вчетвертый раз пройдет международный фестиваль искусств чайковского',\n 'общественники отметили рост профессионализма соискателей гранта президента в спч оценили распределение президентских грантов для нко',\n 'питавшуюся неделю втайге ягодами девочку доставили вкрасноярск недобравшим баллов наконкурсе президентских грантов нко объяснят недочеты кириенко рассказал овале заявок напрезидентские гранты отрегиональных нко',\n 'в красноярском крае шесть человек пострадали при обрушении моста',\n 'кандидат вдепутаты гдпожаловался насорванный одиночный пикет ',\n 'в подмосковье насчитали тысяч первоклашек',\n 'васильева испытала божествование отназначения напост министра образования',\n 'онф заявило онамерении добиваться индексации всех грантов вобласти культуры',\n 'ер заявила оготовности расстаться снекоторыми участниками праймериз',\n 'россия предложила помощь вспасении горняков надонецкой шахте',\n 'сми нашли нарушения удоверенного лица навального синоптики предупредили жителей подмосковья оподступающих заморозках',\n 'ночь выборов проведет баттлы политических тяжеловесов нтв показал расследование оборганизации голос',\n 'на праймериз единой россии проголосовали свыше миллионов человек',\n 'мвд предложило прописать взаконе работу охранников без лицензии',\n 'захарова обвинила следствие по боингу видеологической ангажированности',\n 'российский морской беспилотник устроит стрим содна марианской впадины',\n 'в северной осетии найдено захоронение времен второй мировой адвокат рассказал озакрытии дела бывшего главы банка нефтяной',\n 'благотворительный фонд хабенского залет собрал более миллионов рублей',\n 'появилось видео сместа обрушения подъезда вкемеровской области',\n 'сми узнали опланах назначения напост главы минсельхоза губернатора кубани',\n 'тавриду начнут сархитекторов иурбанистов молодежь подмосковья соберется нафоруме уозера любляна',\n 'молодежный форум таврида стартует вкрыму июля нашествие откроется выборами президента под руководством памфиловой',\n 'москалькова рассказала школьникам оправах человека',\n 'матвиенко наградили почетным знаком завклад вразвитие петербурга',\n 'минобороны показало видео работы бомбардировщиков тумв сирии',\n 'путин подарил котенка школьнице измурманской области',\n 'лдпр устроила своему губернатору самую представительную инаугурацию',\n 'появилось видео встречи пробывшего три года вплену всирии россиянина журавлева',\n 'россия опровергла слухи опереговорах сукраиной повозобновлению полетов',\n 'аксенов допустил запуск энергомоста вначале декабря',\n 'депутат призвала россиян отказаться отподражательства чуждым традициям',\n 'отни россиян намесяц останутся без домашней еды игорячей воды изза чм',\n 'названы сроки поставки вроссийские войска первых терминаторов',\n 'титов рассказал о рейдерской атаке набизнес',\n 'маркин назвал фантазерами авторов резолюции европарламента обубийстве немцова',\n 'реформу фсин признали провальной',\n 'на стройплощадке вмоскве погиб шестой замесяц рабочий']"
     },
     "execution_count": 22,
     "metadata": {},
     "output_type": "execute_result"
    }
   ],
   "source": [
    "list(set(data_df1['Россия_Все'].to_list()))"
   ],
   "metadata": {
    "collapsed": false,
    "pycharm": {
     "name": "#%%\n"
    }
   }
  },
  {
   "cell_type": "code",
   "execution_count": 23,
   "outputs": [],
   "source": [
    "vectorizer = CountVectorizer()"
   ],
   "metadata": {
    "collapsed": false,
    "pycharm": {
     "name": "#%%\n"
    }
   }
  },
  {
   "cell_type": "code",
   "execution_count": null,
   "outputs": [],
   "source": [],
   "metadata": {
    "collapsed": false,
    "pycharm": {
     "name": "#%%\n"
    }
   }
  },
  {
   "cell_type": "code",
   "execution_count": 41,
   "outputs": [
    {
     "data": {
      "text/plain": "0     Close         1591.430054\n      Россия_Все               \n1     Close         1576.400024\n      Россия_Все               \n2     Close         1570.969971\n                       ...     \n1229  Россия_Все               \n1230  Close         3050.469971\n      Россия_Все               \n1231  Close         3045.870117\n      Россия_Все               \nLength: 2464, dtype: object"
     },
     "execution_count": 41,
     "metadata": {},
     "output_type": "execute_result"
    }
   ],
   "source": [
    "# TODO нужна функция на каждую строку которую можноо апплаить"
   ],
   "metadata": {
    "collapsed": false,
    "pycharm": {
     "name": "#%%\n"
    }
   }
  },
  {
   "cell_type": "code",
   "execution_count": 55,
   "outputs": [],
   "source": [
    "del data_df1['Open']\n",
    "del data_df1['High']\n",
    "del data_df1['Low']\n",
    "del data_df1['Close']\n",
    "del data_df1['Adj Close']\n",
    "del data_df1['Volume']\n",
    "del data_df1['log_ret']"
   ],
   "metadata": {
    "collapsed": false,
    "pycharm": {
     "name": "#%%\n"
    }
   }
  },
  {
   "cell_type": "code",
   "execution_count": 45,
   "outputs": [
    {
     "data": {
      "text/plain": "nan"
     },
     "execution_count": 45,
     "metadata": {},
     "output_type": "execute_result"
    }
   ],
   "source": [
    "np.NaN"
   ],
   "metadata": {
    "collapsed": false,
    "pycharm": {
     "name": "#%%\n"
    }
   }
  },
  {
   "cell_type": "code",
   "execution_count": 105,
   "outputs": [],
   "source": [
    "tqdm.pandas()"
   ],
   "metadata": {
    "collapsed": false,
    "pycharm": {
     "name": "#%%\n"
    }
   }
  },
  {
   "cell_type": "code",
   "execution_count": 48,
   "outputs": [],
   "source": [
    "# encoding of topic_tags"
   ],
   "metadata": {
    "collapsed": false,
    "pycharm": {
     "name": "#%%\n"
    }
   }
  },
  {
   "cell_type": "code",
   "execution_count": 60,
   "outputs": [],
   "source": [
    "data_df1 = data_df1.replace('', np.NaN)"
   ],
   "metadata": {
    "collapsed": false,
    "pycharm": {
     "name": "#%%\n"
    }
   }
  },
  {
   "cell_type": "code",
   "execution_count": 64,
   "outputs": [
    {
     "name": "stderr",
     "output_type": "stream",
     "text": [
      "100%|██████████| 131/131 [00:00<00:00, 2658.94it/s]\n"
     ]
    }
   ],
   "source": [
    "for col in tqdm(news_cols):\n",
    "    data_df1.loc[~data_df1[col].isnull(), col] = 1\n",
    "    data_df1.loc[data_df1[col].isnull(), col] = 0"
   ],
   "metadata": {
    "collapsed": false,
    "pycharm": {
     "name": "#%%\n"
    }
   }
  },
  {
   "cell_type": "code",
   "execution_count": 66,
   "outputs": [
    {
     "data": {
      "text/plain": "           Date  log_price_spread  week    yr  week_yr Россия_Все Мир_Все   \n0    2015-01-16          0.025619     3  2015   3_2015          0       1  \\\n1    2015-01-19          0.033868     4  2015   4_2015          0       0   \n2    2015-01-20          0.020928     4  2015   4_2015          0       0   \n3    2015-01-21          0.030370     4  2015   4_2015          0       1   \n4    2015-01-22          0.035106     4  2015   4_2015          0       1   \n...         ...               ...   ...   ...      ...        ...     ...   \n1227 2019-12-23          0.008188    52  2019  52_2019          0       0   \n1228 2019-12-24          0.004616    52  2019  52_2019          0       0   \n1229 2019-12-26          0.004296    52  2019  52_2019          0       0   \n1230 2019-12-27          0.008190    52  2019  52_2019          0       0   \n1231 2019-12-30          0.005853     1  2019   1_2019          0       0   \n\n     Экономика_Все Наука и техника_Все Бывший СССР_Все  ...   \n0                0                   0               0  ...  \\\n1                0                   0               0  ...   \n2                0                   0               0  ...   \n3                0                   0               0  ...   \n4                0                   0               0  ...   \n...            ...                 ...             ...  ...   \n1227             0                   0               0  ...   \n1228             0                   0               0  ...   \n1229             0                   0               0  ...   \n1230             0                   0               0  ...   \n1231             0                   0               0  ...   \n\n     Легпром_Мировой опыт Ценности_Все Оружие_Вооружение Легпром_Все   \n0                       0            0                 0           0  \\\n1                       0            0                 0           0   \n2                       0            0                 0           0   \n3                       0            0                 0           0   \n4                       0            0                 0           0   \n...                   ...          ...               ...         ...   \n1227                    0            0                 0           0   \n1228                    0            0                 0           0   \n1229                    0            0                 0           0   \n1230                    0            0                 0           0   \n1231                    0            0                 0           0   \n\n     ЧМ-2014_Все Легпром_Инновации _69-я параллель МедНовости_Все   \n0            0.0                 0             0.0              0  \\\n1            0.0                 0             0.0              0   \n2            0.0                 0             0.0              0   \n3            0.0                 0             0.0              0   \n4            0.0                 0             0.0              0   \n...          ...               ...             ...            ...   \n1227         0.0                 0             0.0              0   \n1228         0.0                 0             0.0              0   \n1229         0.0                 0             0.0              0   \n1230         0.0                 0             0.0              0   \n1231         0.0                 0             0.0              0   \n\n     _Финансы компаний Сочи_Все  \n0                    0      0.0  \n1                    0      0.0  \n2                    0      0.0  \n3                    0      0.0  \n4                    0      0.0  \n...                ...      ...  \n1227                 0      0.0  \n1228                 0      0.0  \n1229                 0      0.0  \n1230                 0      0.0  \n1231                 0      0.0  \n\n[1232 rows x 136 columns]",
      "text/html": "<div>\n<style scoped>\n    .dataframe tbody tr th:only-of-type {\n        vertical-align: middle;\n    }\n\n    .dataframe tbody tr th {\n        vertical-align: top;\n    }\n\n    .dataframe thead th {\n        text-align: right;\n    }\n</style>\n<table border=\"1\" class=\"dataframe\">\n  <thead>\n    <tr style=\"text-align: right;\">\n      <th></th>\n      <th>Date</th>\n      <th>log_price_spread</th>\n      <th>week</th>\n      <th>yr</th>\n      <th>week_yr</th>\n      <th>Россия_Все</th>\n      <th>Мир_Все</th>\n      <th>Экономика_Все</th>\n      <th>Наука и техника_Все</th>\n      <th>Бывший СССР_Все</th>\n      <th>...</th>\n      <th>Легпром_Мировой опыт</th>\n      <th>Ценности_Все</th>\n      <th>Оружие_Вооружение</th>\n      <th>Легпром_Все</th>\n      <th>ЧМ-2014_Все</th>\n      <th>Легпром_Инновации</th>\n      <th>_69-я параллель</th>\n      <th>МедНовости_Все</th>\n      <th>_Финансы компаний</th>\n      <th>Сочи_Все</th>\n    </tr>\n  </thead>\n  <tbody>\n    <tr>\n      <th>0</th>\n      <td>2015-01-16</td>\n      <td>0.025619</td>\n      <td>3</td>\n      <td>2015</td>\n      <td>3_2015</td>\n      <td>0</td>\n      <td>1</td>\n      <td>0</td>\n      <td>0</td>\n      <td>0</td>\n      <td>...</td>\n      <td>0</td>\n      <td>0</td>\n      <td>0</td>\n      <td>0</td>\n      <td>0.0</td>\n      <td>0</td>\n      <td>0.0</td>\n      <td>0</td>\n      <td>0</td>\n      <td>0.0</td>\n    </tr>\n    <tr>\n      <th>1</th>\n      <td>2015-01-19</td>\n      <td>0.033868</td>\n      <td>4</td>\n      <td>2015</td>\n      <td>4_2015</td>\n      <td>0</td>\n      <td>0</td>\n      <td>0</td>\n      <td>0</td>\n      <td>0</td>\n      <td>...</td>\n      <td>0</td>\n      <td>0</td>\n      <td>0</td>\n      <td>0</td>\n      <td>0.0</td>\n      <td>0</td>\n      <td>0.0</td>\n      <td>0</td>\n      <td>0</td>\n      <td>0.0</td>\n    </tr>\n    <tr>\n      <th>2</th>\n      <td>2015-01-20</td>\n      <td>0.020928</td>\n      <td>4</td>\n      <td>2015</td>\n      <td>4_2015</td>\n      <td>0</td>\n      <td>0</td>\n      <td>0</td>\n      <td>0</td>\n      <td>0</td>\n      <td>...</td>\n      <td>0</td>\n      <td>0</td>\n      <td>0</td>\n      <td>0</td>\n      <td>0.0</td>\n      <td>0</td>\n      <td>0.0</td>\n      <td>0</td>\n      <td>0</td>\n      <td>0.0</td>\n    </tr>\n    <tr>\n      <th>3</th>\n      <td>2015-01-21</td>\n      <td>0.030370</td>\n      <td>4</td>\n      <td>2015</td>\n      <td>4_2015</td>\n      <td>0</td>\n      <td>1</td>\n      <td>0</td>\n      <td>0</td>\n      <td>0</td>\n      <td>...</td>\n      <td>0</td>\n      <td>0</td>\n      <td>0</td>\n      <td>0</td>\n      <td>0.0</td>\n      <td>0</td>\n      <td>0.0</td>\n      <td>0</td>\n      <td>0</td>\n      <td>0.0</td>\n    </tr>\n    <tr>\n      <th>4</th>\n      <td>2015-01-22</td>\n      <td>0.035106</td>\n      <td>4</td>\n      <td>2015</td>\n      <td>4_2015</td>\n      <td>0</td>\n      <td>1</td>\n      <td>0</td>\n      <td>0</td>\n      <td>0</td>\n      <td>...</td>\n      <td>0</td>\n      <td>0</td>\n      <td>0</td>\n      <td>0</td>\n      <td>0.0</td>\n      <td>0</td>\n      <td>0.0</td>\n      <td>0</td>\n      <td>0</td>\n      <td>0.0</td>\n    </tr>\n    <tr>\n      <th>...</th>\n      <td>...</td>\n      <td>...</td>\n      <td>...</td>\n      <td>...</td>\n      <td>...</td>\n      <td>...</td>\n      <td>...</td>\n      <td>...</td>\n      <td>...</td>\n      <td>...</td>\n      <td>...</td>\n      <td>...</td>\n      <td>...</td>\n      <td>...</td>\n      <td>...</td>\n      <td>...</td>\n      <td>...</td>\n      <td>...</td>\n      <td>...</td>\n      <td>...</td>\n      <td>...</td>\n    </tr>\n    <tr>\n      <th>1227</th>\n      <td>2019-12-23</td>\n      <td>0.008188</td>\n      <td>52</td>\n      <td>2019</td>\n      <td>52_2019</td>\n      <td>0</td>\n      <td>0</td>\n      <td>0</td>\n      <td>0</td>\n      <td>0</td>\n      <td>...</td>\n      <td>0</td>\n      <td>0</td>\n      <td>0</td>\n      <td>0</td>\n      <td>0.0</td>\n      <td>0</td>\n      <td>0.0</td>\n      <td>0</td>\n      <td>0</td>\n      <td>0.0</td>\n    </tr>\n    <tr>\n      <th>1228</th>\n      <td>2019-12-24</td>\n      <td>0.004616</td>\n      <td>52</td>\n      <td>2019</td>\n      <td>52_2019</td>\n      <td>0</td>\n      <td>0</td>\n      <td>0</td>\n      <td>0</td>\n      <td>0</td>\n      <td>...</td>\n      <td>0</td>\n      <td>0</td>\n      <td>0</td>\n      <td>0</td>\n      <td>0.0</td>\n      <td>0</td>\n      <td>0.0</td>\n      <td>0</td>\n      <td>0</td>\n      <td>0.0</td>\n    </tr>\n    <tr>\n      <th>1229</th>\n      <td>2019-12-26</td>\n      <td>0.004296</td>\n      <td>52</td>\n      <td>2019</td>\n      <td>52_2019</td>\n      <td>0</td>\n      <td>0</td>\n      <td>0</td>\n      <td>0</td>\n      <td>0</td>\n      <td>...</td>\n      <td>0</td>\n      <td>0</td>\n      <td>0</td>\n      <td>0</td>\n      <td>0.0</td>\n      <td>0</td>\n      <td>0.0</td>\n      <td>0</td>\n      <td>0</td>\n      <td>0.0</td>\n    </tr>\n    <tr>\n      <th>1230</th>\n      <td>2019-12-27</td>\n      <td>0.008190</td>\n      <td>52</td>\n      <td>2019</td>\n      <td>52_2019</td>\n      <td>0</td>\n      <td>0</td>\n      <td>0</td>\n      <td>0</td>\n      <td>0</td>\n      <td>...</td>\n      <td>0</td>\n      <td>0</td>\n      <td>0</td>\n      <td>0</td>\n      <td>0.0</td>\n      <td>0</td>\n      <td>0.0</td>\n      <td>0</td>\n      <td>0</td>\n      <td>0.0</td>\n    </tr>\n    <tr>\n      <th>1231</th>\n      <td>2019-12-30</td>\n      <td>0.005853</td>\n      <td>1</td>\n      <td>2019</td>\n      <td>1_2019</td>\n      <td>0</td>\n      <td>0</td>\n      <td>0</td>\n      <td>0</td>\n      <td>0</td>\n      <td>...</td>\n      <td>0</td>\n      <td>0</td>\n      <td>0</td>\n      <td>0</td>\n      <td>0.0</td>\n      <td>0</td>\n      <td>0.0</td>\n      <td>0</td>\n      <td>0</td>\n      <td>0.0</td>\n    </tr>\n  </tbody>\n</table>\n<p>1232 rows × 136 columns</p>\n</div>"
     },
     "execution_count": 66,
     "metadata": {},
     "output_type": "execute_result"
    }
   ],
   "source": [
    "data_df1  # done!"
   ],
   "metadata": {
    "collapsed": false,
    "pycharm": {
     "name": "#%%\n"
    }
   }
  },
  {
   "cell_type": "code",
   "execution_count": 67,
   "outputs": [],
   "source": [
    "# теперь надо весь текст сложить в одну строку и закодировать"
   ],
   "metadata": {
    "collapsed": false,
    "pycharm": {
     "name": "#%%\n"
    }
   }
  },
  {
   "cell_type": "code",
   "execution_count": 68,
   "outputs": [],
   "source": [
    "data_text_df = data_df.copy()"
   ],
   "metadata": {
    "collapsed": false,
    "pycharm": {
     "name": "#%%\n"
    }
   }
  },
  {
   "cell_type": "code",
   "execution_count": 70,
   "outputs": [
    {
     "name": "stderr",
     "output_type": "stream",
     "text": [
      "100%|██████████| 131/131 [00:00<00:00, 386.98it/s]\n"
     ]
    }
   ],
   "source": [
    "for col in tqdm(news_cols):\n",
    "    data_text_df[col] = data_text_df[col].str.lower()\n",
    "    data_text_df[col] = data_text_df[col].str.replace('[','').replace(']', '')\n",
    "    data_text_df[col]  = data_text_df[col].str.replace('[^а-яА-Яё Ё]', '', regex=True)  # replace all non Cyrillic symbols"
   ],
   "metadata": {
    "collapsed": false,
    "pycharm": {
     "name": "#%%\n"
    }
   }
  },
  {
   "cell_type": "code",
   "execution_count": 72,
   "outputs": [],
   "source": [
    "data_text_df = data_text_df.set_index('Date')"
   ],
   "metadata": {
    "collapsed": false,
    "pycharm": {
     "name": "#%%\n"
    }
   }
  },
  {
   "cell_type": "code",
   "execution_count": 74,
   "outputs": [],
   "source": [
    "del data_text_df['Open']\n",
    "del data_text_df['High']\n",
    "del data_text_df['Low']\n",
    "del data_text_df['Close']\n",
    "del data_text_df['Adj Close']\n",
    "del data_text_df['Volume']\n",
    "del data_text_df['log_ret']\n",
    "del data_text_df['log_price_spread']"
   ],
   "metadata": {
    "collapsed": false,
    "pycharm": {
     "name": "#%%\n"
    }
   }
  },
  {
   "cell_type": "code",
   "execution_count": 76,
   "outputs": [],
   "source": [
    "del data_text_df['week']\n",
    "del data_text_df['yr']\n",
    "del data_text_df['week_yr']"
   ],
   "metadata": {
    "collapsed": false,
    "pycharm": {
     "name": "#%%\n"
    }
   }
  },
  {
   "cell_type": "code",
   "execution_count": 80,
   "outputs": [],
   "source": [
    "data_text_df1 = data_text_df.astype(str).agg(' '.join, axis=1).to_frame()"
   ],
   "metadata": {
    "collapsed": false,
    "pycharm": {
     "name": "#%%\n"
    }
   }
  },
  {
   "cell_type": "code",
   "execution_count": 82,
   "outputs": [],
   "source": [
    "data_text_df1 = data_text_df1.rename(columns={0: 'text_news'})"
   ],
   "metadata": {
    "collapsed": false,
    "pycharm": {
     "name": "#%%\n"
    }
   }
  },
  {
   "cell_type": "code",
   "execution_count": 86,
   "outputs": [
    {
     "data": {
      "text/plain": "                                                    text_news\nDate                                                         \n2015-01-16   меркель случайно назвала антисемитизм граждан...\n2015-01-19        ес выступил против исключения хамас изсп...\n2015-01-20        японский премьер пообещал сделать все во...\n2015-01-21   лидер антиисламского движения ушел споста пос...\n2015-01-22   мэр лондона согласился заплатить налог ради п...\n...                                                       ...\n2019-12-23                                                ...\n2019-12-24                                                ...\n2019-12-26                                                ...\n2019-12-27                                                ...\n2019-12-30                                                ...\n\n[1232 rows x 1 columns]",
      "text/html": "<div>\n<style scoped>\n    .dataframe tbody tr th:only-of-type {\n        vertical-align: middle;\n    }\n\n    .dataframe tbody tr th {\n        vertical-align: top;\n    }\n\n    .dataframe thead th {\n        text-align: right;\n    }\n</style>\n<table border=\"1\" class=\"dataframe\">\n  <thead>\n    <tr style=\"text-align: right;\">\n      <th></th>\n      <th>text_news</th>\n    </tr>\n    <tr>\n      <th>Date</th>\n      <th></th>\n    </tr>\n  </thead>\n  <tbody>\n    <tr>\n      <th>2015-01-16</th>\n      <td>меркель случайно назвала антисемитизм граждан...</td>\n    </tr>\n    <tr>\n      <th>2015-01-19</th>\n      <td>ес выступил против исключения хамас изсп...</td>\n    </tr>\n    <tr>\n      <th>2015-01-20</th>\n      <td>японский премьер пообещал сделать все во...</td>\n    </tr>\n    <tr>\n      <th>2015-01-21</th>\n      <td>лидер антиисламского движения ушел споста пос...</td>\n    </tr>\n    <tr>\n      <th>2015-01-22</th>\n      <td>мэр лондона согласился заплатить налог ради п...</td>\n    </tr>\n    <tr>\n      <th>...</th>\n      <td>...</td>\n    </tr>\n    <tr>\n      <th>2019-12-23</th>\n      <td>...</td>\n    </tr>\n    <tr>\n      <th>2019-12-24</th>\n      <td>...</td>\n    </tr>\n    <tr>\n      <th>2019-12-26</th>\n      <td>...</td>\n    </tr>\n    <tr>\n      <th>2019-12-27</th>\n      <td>...</td>\n    </tr>\n    <tr>\n      <th>2019-12-30</th>\n      <td>...</td>\n    </tr>\n  </tbody>\n</table>\n<p>1232 rows × 1 columns</p>\n</div>"
     },
     "execution_count": 86,
     "metadata": {},
     "output_type": "execute_result"
    }
   ],
   "source": [
    "data_text_df1"
   ],
   "metadata": {
    "collapsed": false,
    "pycharm": {
     "name": "#%%\n"
    }
   }
  },
  {
   "cell_type": "code",
   "execution_count": null,
   "outputs": [],
   "source": [
    "# to do: вот тут каждую строку нужно токенизировать правильно"
   ],
   "metadata": {
    "collapsed": false,
    "pycharm": {
     "name": "#%%\n"
    }
   }
  },
  {
   "cell_type": "code",
   "execution_count": 107,
   "outputs": [],
   "source": [
    "def token_processing(text):\n",
    "    tokens = mystem.lemmatize(text.lower())\n",
    "    tokens = [token for token in tokens if token not in russian_stopwords\\\n",
    "              and token != \" \" \\\n",
    "              and token.strip() not in punctuation]\n",
    "\n",
    "    text = \" \".join(tokens)\n",
    "    return text"
   ],
   "metadata": {
    "collapsed": false,
    "pycharm": {
     "name": "#%%\n"
    }
   }
  },
  {
   "cell_type": "code",
   "execution_count": 108,
   "outputs": [
    {
     "ename": "BrokenPipeError",
     "evalue": "[Errno 32] Broken pipe",
     "output_type": "error",
     "traceback": [
      "\u001B[0;31m---------------------------------------------------------------------------\u001B[0m",
      "\u001B[0;31mBrokenPipeError\u001B[0m                           Traceback (most recent call last)",
      "Cell \u001B[0;32mIn[108], line 1\u001B[0m\n\u001B[0;32m----> 1\u001B[0m data_text_df1[\u001B[38;5;124m'\u001B[39m\u001B[38;5;124mcleaned_text\u001B[39m\u001B[38;5;124m'\u001B[39m] \u001B[38;5;241m=\u001B[39m \u001B[43mdata_text_df1\u001B[49m\u001B[43m[\u001B[49m\u001B[38;5;124;43m'\u001B[39;49m\u001B[38;5;124;43mtext_news\u001B[39;49m\u001B[38;5;124;43m'\u001B[39;49m\u001B[43m]\u001B[49m\u001B[38;5;241;43m.\u001B[39;49m\u001B[43mapply\u001B[49m\u001B[43m(\u001B[49m\u001B[43mtoken_processing\u001B[49m\u001B[43m)\u001B[49m\n",
      "File \u001B[0;32m~/PycharmProjects/news_analysis/venv/lib/python3.11/site-packages/pandas/core/series.py:4626\u001B[0m, in \u001B[0;36mSeries.apply\u001B[0;34m(self, func, convert_dtype, args, **kwargs)\u001B[0m\n\u001B[1;32m   4516\u001B[0m \u001B[38;5;28;01mdef\u001B[39;00m \u001B[38;5;21mapply\u001B[39m(\n\u001B[1;32m   4517\u001B[0m     \u001B[38;5;28mself\u001B[39m,\n\u001B[1;32m   4518\u001B[0m     func: AggFuncType,\n\u001B[0;32m   (...)\u001B[0m\n\u001B[1;32m   4521\u001B[0m     \u001B[38;5;241m*\u001B[39m\u001B[38;5;241m*\u001B[39mkwargs,\n\u001B[1;32m   4522\u001B[0m ) \u001B[38;5;241m-\u001B[39m\u001B[38;5;241m>\u001B[39m DataFrame \u001B[38;5;241m|\u001B[39m Series:\n\u001B[1;32m   4523\u001B[0m \u001B[38;5;250m    \u001B[39m\u001B[38;5;124;03m\"\"\"\u001B[39;00m\n\u001B[1;32m   4524\u001B[0m \u001B[38;5;124;03m    Invoke function on values of Series.\u001B[39;00m\n\u001B[1;32m   4525\u001B[0m \n\u001B[0;32m   (...)\u001B[0m\n\u001B[1;32m   4624\u001B[0m \u001B[38;5;124;03m    dtype: float64\u001B[39;00m\n\u001B[1;32m   4625\u001B[0m \u001B[38;5;124;03m    \"\"\"\u001B[39;00m\n\u001B[0;32m-> 4626\u001B[0m     \u001B[38;5;28;01mreturn\u001B[39;00m \u001B[43mSeriesApply\u001B[49m\u001B[43m(\u001B[49m\u001B[38;5;28;43mself\u001B[39;49m\u001B[43m,\u001B[49m\u001B[43m \u001B[49m\u001B[43mfunc\u001B[49m\u001B[43m,\u001B[49m\u001B[43m \u001B[49m\u001B[43mconvert_dtype\u001B[49m\u001B[43m,\u001B[49m\u001B[43m \u001B[49m\u001B[43margs\u001B[49m\u001B[43m,\u001B[49m\u001B[43m \u001B[49m\u001B[43mkwargs\u001B[49m\u001B[43m)\u001B[49m\u001B[38;5;241;43m.\u001B[39;49m\u001B[43mapply\u001B[49m\u001B[43m(\u001B[49m\u001B[43m)\u001B[49m\n",
      "File \u001B[0;32m~/PycharmProjects/news_analysis/venv/lib/python3.11/site-packages/pandas/core/apply.py:1025\u001B[0m, in \u001B[0;36mSeriesApply.apply\u001B[0;34m(self)\u001B[0m\n\u001B[1;32m   1022\u001B[0m     \u001B[38;5;28;01mreturn\u001B[39;00m \u001B[38;5;28mself\u001B[39m\u001B[38;5;241m.\u001B[39mapply_str()\n\u001B[1;32m   1024\u001B[0m \u001B[38;5;66;03m# self.f is Callable\u001B[39;00m\n\u001B[0;32m-> 1025\u001B[0m \u001B[38;5;28;01mreturn\u001B[39;00m \u001B[38;5;28;43mself\u001B[39;49m\u001B[38;5;241;43m.\u001B[39;49m\u001B[43mapply_standard\u001B[49m\u001B[43m(\u001B[49m\u001B[43m)\u001B[49m\n",
      "File \u001B[0;32m~/PycharmProjects/news_analysis/venv/lib/python3.11/site-packages/pandas/core/apply.py:1076\u001B[0m, in \u001B[0;36mSeriesApply.apply_standard\u001B[0;34m(self)\u001B[0m\n\u001B[1;32m   1074\u001B[0m     \u001B[38;5;28;01melse\u001B[39;00m:\n\u001B[1;32m   1075\u001B[0m         values \u001B[38;5;241m=\u001B[39m obj\u001B[38;5;241m.\u001B[39mastype(\u001B[38;5;28mobject\u001B[39m)\u001B[38;5;241m.\u001B[39m_values\n\u001B[0;32m-> 1076\u001B[0m         mapped \u001B[38;5;241m=\u001B[39m \u001B[43mlib\u001B[49m\u001B[38;5;241;43m.\u001B[39;49m\u001B[43mmap_infer\u001B[49m\u001B[43m(\u001B[49m\n\u001B[1;32m   1077\u001B[0m \u001B[43m            \u001B[49m\u001B[43mvalues\u001B[49m\u001B[43m,\u001B[49m\n\u001B[1;32m   1078\u001B[0m \u001B[43m            \u001B[49m\u001B[43mf\u001B[49m\u001B[43m,\u001B[49m\n\u001B[1;32m   1079\u001B[0m \u001B[43m            \u001B[49m\u001B[43mconvert\u001B[49m\u001B[38;5;241;43m=\u001B[39;49m\u001B[38;5;28;43mself\u001B[39;49m\u001B[38;5;241;43m.\u001B[39;49m\u001B[43mconvert_dtype\u001B[49m\u001B[43m,\u001B[49m\n\u001B[1;32m   1080\u001B[0m \u001B[43m        \u001B[49m\u001B[43m)\u001B[49m\n\u001B[1;32m   1082\u001B[0m \u001B[38;5;28;01mif\u001B[39;00m \u001B[38;5;28mlen\u001B[39m(mapped) \u001B[38;5;129;01mand\u001B[39;00m \u001B[38;5;28misinstance\u001B[39m(mapped[\u001B[38;5;241m0\u001B[39m], ABCSeries):\n\u001B[1;32m   1083\u001B[0m     \u001B[38;5;66;03m# GH#43986 Need to do list(mapped) in order to get treated as nested\u001B[39;00m\n\u001B[1;32m   1084\u001B[0m     \u001B[38;5;66;03m#  See also GH#25959 regarding EA support\u001B[39;00m\n\u001B[1;32m   1085\u001B[0m     \u001B[38;5;28;01mreturn\u001B[39;00m obj\u001B[38;5;241m.\u001B[39m_constructor_expanddim(\u001B[38;5;28mlist\u001B[39m(mapped), index\u001B[38;5;241m=\u001B[39mobj\u001B[38;5;241m.\u001B[39mindex)\n",
      "File \u001B[0;32m~/PycharmProjects/news_analysis/venv/lib/python3.11/site-packages/pandas/_libs/lib.pyx:2834\u001B[0m, in \u001B[0;36mpandas._libs.lib.map_infer\u001B[0;34m()\u001B[0m\n",
      "Cell \u001B[0;32mIn[107], line 2\u001B[0m, in \u001B[0;36mtoken_processing\u001B[0;34m(text)\u001B[0m\n\u001B[1;32m      1\u001B[0m \u001B[38;5;28;01mdef\u001B[39;00m \u001B[38;5;21mtoken_processing\u001B[39m(text):\n\u001B[0;32m----> 2\u001B[0m     tokens \u001B[38;5;241m=\u001B[39m \u001B[43mmystem\u001B[49m\u001B[38;5;241;43m.\u001B[39;49m\u001B[43mlemmatize\u001B[49m\u001B[43m(\u001B[49m\u001B[43mtext\u001B[49m\u001B[38;5;241;43m.\u001B[39;49m\u001B[43mlower\u001B[49m\u001B[43m(\u001B[49m\u001B[43m)\u001B[49m\u001B[43m)\u001B[49m\n\u001B[1;32m      3\u001B[0m     tokens \u001B[38;5;241m=\u001B[39m [token \u001B[38;5;28;01mfor\u001B[39;00m token \u001B[38;5;129;01min\u001B[39;00m tokens \u001B[38;5;28;01mif\u001B[39;00m token \u001B[38;5;129;01mnot\u001B[39;00m \u001B[38;5;129;01min\u001B[39;00m russian_stopwords\\\n\u001B[1;32m      4\u001B[0m               \u001B[38;5;129;01mand\u001B[39;00m token \u001B[38;5;241m!=\u001B[39m \u001B[38;5;124m\"\u001B[39m\u001B[38;5;124m \u001B[39m\u001B[38;5;124m\"\u001B[39m \\\n\u001B[1;32m      5\u001B[0m               \u001B[38;5;129;01mand\u001B[39;00m token\u001B[38;5;241m.\u001B[39mstrip() \u001B[38;5;129;01mnot\u001B[39;00m \u001B[38;5;129;01min\u001B[39;00m punctuation]\n\u001B[1;32m      7\u001B[0m     text \u001B[38;5;241m=\u001B[39m \u001B[38;5;124m\"\u001B[39m\u001B[38;5;124m \u001B[39m\u001B[38;5;124m\"\u001B[39m\u001B[38;5;241m.\u001B[39mjoin(tokens)\n",
      "File \u001B[0;32m~/PycharmProjects/news_analysis/venv/lib/python3.11/site-packages/pymystem3/mystem.py:265\u001B[0m, in \u001B[0;36mMystem.lemmatize\u001B[0;34m(self, text)\u001B[0m\n\u001B[1;32m    254\u001B[0m \u001B[38;5;250m\u001B[39m\u001B[38;5;124;03m\"\"\"\u001B[39;00m\n\u001B[1;32m    255\u001B[0m \u001B[38;5;124;03mMake morphology analysis for a text and return list of lemmas.\u001B[39;00m\n\u001B[1;32m    256\u001B[0m \n\u001B[0;32m   (...)\u001B[0m\n\u001B[1;32m    260\u001B[0m \u001B[38;5;124;03m:rtype:         list\u001B[39;00m\n\u001B[1;32m    261\u001B[0m \u001B[38;5;124;03m\"\"\"\u001B[39;00m\n\u001B[1;32m    263\u001B[0m need_encode \u001B[38;5;241m=\u001B[39m (sys\u001B[38;5;241m.\u001B[39mversion_info[\u001B[38;5;241m0\u001B[39m] \u001B[38;5;241m<\u001B[39m \u001B[38;5;241m3\u001B[39m \u001B[38;5;129;01mand\u001B[39;00m \u001B[38;5;28misinstance\u001B[39m(text, \u001B[38;5;28mstr\u001B[39m))\n\u001B[0;32m--> 265\u001B[0m infos \u001B[38;5;241m=\u001B[39m \u001B[38;5;28;43mself\u001B[39;49m\u001B[38;5;241;43m.\u001B[39;49m\u001B[43manalyze\u001B[49m\u001B[43m(\u001B[49m\u001B[43mtext\u001B[49m\u001B[43m)\u001B[49m\n\u001B[1;32m    266\u001B[0m lemmas \u001B[38;5;241m=\u001B[39m \u001B[38;5;28mlist\u001B[39m(\u001B[38;5;28mfilter\u001B[39m(\u001B[38;5;28;01mNone\u001B[39;00m, \u001B[38;5;28mmap\u001B[39m(\u001B[38;5;28mself\u001B[39m\u001B[38;5;241m.\u001B[39m_get_lemma, infos)))\n\u001B[1;32m    268\u001B[0m \u001B[38;5;28;01mif\u001B[39;00m need_encode \u001B[38;5;129;01mis\u001B[39;00m \u001B[38;5;28;01mTrue\u001B[39;00m:\n",
      "File \u001B[0;32m~/PycharmProjects/news_analysis/venv/lib/python3.11/site-packages/pymystem3/mystem.py:250\u001B[0m, in \u001B[0;36mMystem.analyze\u001B[0;34m(self, text)\u001B[0m\n\u001B[1;32m    248\u001B[0m result \u001B[38;5;241m=\u001B[39m []\n\u001B[1;32m    249\u001B[0m \u001B[38;5;28;01mfor\u001B[39;00m line \u001B[38;5;129;01min\u001B[39;00m text\u001B[38;5;241m.\u001B[39msplitlines():\n\u001B[0;32m--> 250\u001B[0m     result\u001B[38;5;241m.\u001B[39mextend(\u001B[38;5;28;43mself\u001B[39;49m\u001B[38;5;241;43m.\u001B[39;49m\u001B[43m_analyze_impl\u001B[49m\u001B[43m(\u001B[49m\u001B[43mline\u001B[49m\u001B[43m)\u001B[49m)\n\u001B[1;32m    251\u001B[0m \u001B[38;5;28;01mreturn\u001B[39;00m result\n",
      "File \u001B[0;32m~/PycharmProjects/news_analysis/venv/lib/python3.11/site-packages/pymystem3/mystem.py:281\u001B[0m, in \u001B[0;36mMystem._analyze_impl\u001B[0;34m(self, text)\u001B[0m\n\u001B[1;32m    278\u001B[0m \u001B[38;5;28;01mif\u001B[39;00m \u001B[38;5;28mself\u001B[39m\u001B[38;5;241m.\u001B[39m_proc \u001B[38;5;129;01mis\u001B[39;00m \u001B[38;5;28;01mNone\u001B[39;00m:\n\u001B[1;32m    279\u001B[0m     \u001B[38;5;28mself\u001B[39m\u001B[38;5;241m.\u001B[39m_start_mystem()\n\u001B[0;32m--> 281\u001B[0m \u001B[38;5;28mself\u001B[39m\u001B[38;5;241m.\u001B[39m_procin\u001B[38;5;241m.\u001B[39mwrite(text)\n\u001B[1;32m    282\u001B[0m \u001B[38;5;28mself\u001B[39m\u001B[38;5;241m.\u001B[39m_procin\u001B[38;5;241m.\u001B[39mwrite(_NL)\n\u001B[1;32m    283\u001B[0m \u001B[38;5;28mself\u001B[39m\u001B[38;5;241m.\u001B[39m_procin\u001B[38;5;241m.\u001B[39mflush()\n",
      "\u001B[0;31mBrokenPipeError\u001B[0m: [Errno 32] Broken pipe"
     ]
    }
   ],
   "source": [
    "data_text_df1['cleaned_text'] = data_text_df1['text_news'].apply(token_processing)  # убери tqdm"
   ],
   "metadata": {
    "collapsed": false,
    "pycharm": {
     "name": "#%%\n"
    }
   }
  },
  {
   "cell_type": "code",
   "execution_count": null,
   "outputs": [],
   "source": [],
   "metadata": {
    "collapsed": false,
    "pycharm": {
     "name": "#%%\n"
    }
   }
  },
  {
   "cell_type": "code",
   "execution_count": null,
   "outputs": [],
   "source": [],
   "metadata": {
    "collapsed": false,
    "pycharm": {
     "name": "#%%\n"
    }
   }
  },
  {
   "cell_type": "code",
   "execution_count": null,
   "outputs": [],
   "source": [],
   "metadata": {
    "collapsed": false,
    "pycharm": {
     "name": "#%%\n"
    }
   }
  },
  {
   "cell_type": "code",
   "execution_count": 92,
   "outputs": [],
   "source": [
    "X = vectorizer.fit_transform(data_text_df1['text_news'])"
   ],
   "metadata": {
    "collapsed": false,
    "pycharm": {
     "name": "#%%\n"
    }
   }
  },
  {
   "cell_type": "code",
   "execution_count": 95,
   "outputs": [
    {
     "data": {
      "text/plain": "array([[0, 0, 0, ..., 0, 0, 0],\n       [0, 0, 0, ..., 0, 0, 0],\n       [0, 0, 0, ..., 0, 0, 0],\n       ...,\n       [0, 0, 0, ..., 0, 0, 0],\n       [0, 0, 0, ..., 0, 0, 0],\n       [0, 0, 0, ..., 0, 0, 0]])"
     },
     "execution_count": 95,
     "metadata": {},
     "output_type": "execute_result"
    }
   ],
   "source": [
    "X.toarray()"
   ],
   "metadata": {
    "collapsed": false,
    "pycharm": {
     "name": "#%%\n"
    }
   }
  },
  {
   "cell_type": "code",
   "execution_count": 96,
   "outputs": [
    {
     "data": {
      "text/plain": "(1232, 132351)"
     },
     "execution_count": 96,
     "metadata": {},
     "output_type": "execute_result"
    }
   ],
   "source": [
    "X.shape"
   ],
   "metadata": {
    "collapsed": false,
    "pycharm": {
     "name": "#%%\n"
    }
   }
  },
  {
   "cell_type": "code",
   "execution_count": null,
   "outputs": [],
   "source": [],
   "metadata": {
    "collapsed": false,
    "pycharm": {
     "name": "#%%\n"
    }
   }
  },
  {
   "cell_type": "code",
   "execution_count": 50,
   "outputs": [
    {
     "data": {
      "text/plain": "<NA>"
     },
     "execution_count": 50,
     "metadata": {},
     "output_type": "execute_result"
    }
   ],
   "source": [
    "pd.NA"
   ],
   "metadata": {
    "collapsed": false,
    "pycharm": {
     "name": "#%%\n"
    }
   }
  },
  {
   "cell_type": "code",
   "execution_count": null,
   "outputs": [],
   "source": [],
   "metadata": {
    "collapsed": false,
    "pycharm": {
     "name": "#%%\n"
    }
   }
  },
  {
   "cell_type": "code",
   "execution_count": 47,
   "outputs": [
    {
     "data": {
      "text/plain": "           Date  log_price_spread  week    yr  week_yr Россия_Все   \n0    2015-01-16          0.025619     3  2015   3_2015             \\\n1    2015-01-19          0.033868     4  2015   4_2015              \n2    2015-01-20          0.020928     4  2015   4_2015              \n3    2015-01-21          0.030370     4  2015   4_2015              \n4    2015-01-22          0.035106     4  2015   4_2015              \n...         ...               ...   ...   ...      ...        ...   \n1227 2019-12-23          0.008188    52  2019  52_2019              \n1228 2019-12-24          0.004616    52  2019  52_2019              \n1229 2019-12-26          0.004296    52  2019  52_2019              \n1230 2019-12-27          0.008190    52  2019  52_2019              \n1231 2019-12-30          0.005853     1  2019   1_2019              \n\n                                                Мир_Все Экономика_Все   \n0     меркель случайно назвала антисемитизм гражданс...                \\\n1                                                                       \n2                                                                       \n3     лидер антиисламского движения ушел споста посл...                 \n4     мэр лондона согласился заплатить налог ради по...                 \n...                                                 ...           ...   \n1227                                                                    \n1228                                                                    \n1229                                                                    \n1230                                                                    \n1231                                                                    \n\n     Наука и техника_Все Бывший СССР_Все  ... Легпром_Мировой опыт   \n0                                         ...                       \\\n1                                         ...                        \n2                                         ...                        \n3                                         ...                        \n4                                         ...                        \n...                  ...             ...  ...                  ...   \n1227                                      ...                        \n1228                                      ...                        \n1229                                      ...                        \n1230                                      ...                        \n1231                                      ...                        \n\n     Ценности_Все Оружие_Вооружение Легпром_Все ЧМ-2014_Все Легпром_Инновации   \n0                                                                              \\\n1                                                                               \n2                                                                               \n3                                                                               \n4                                                                               \n...           ...               ...         ...         ...               ...   \n1227                                                                            \n1228                                                                            \n1229                                                                            \n1230                                                                            \n1231                                                                            \n\n     _69-я параллель МедНовости_Все _Финансы компаний Сочи_Все  \n0                                                               \n1                                                               \n2                                                               \n3                                                               \n4                                                               \n...              ...            ...               ...      ...  \n1227                                                            \n1228                                                            \n1229                                                            \n1230                                                            \n1231                                                            \n\n[1232 rows x 136 columns]",
      "text/html": "<div>\n<style scoped>\n    .dataframe tbody tr th:only-of-type {\n        vertical-align: middle;\n    }\n\n    .dataframe tbody tr th {\n        vertical-align: top;\n    }\n\n    .dataframe thead th {\n        text-align: right;\n    }\n</style>\n<table border=\"1\" class=\"dataframe\">\n  <thead>\n    <tr style=\"text-align: right;\">\n      <th></th>\n      <th>Date</th>\n      <th>log_price_spread</th>\n      <th>week</th>\n      <th>yr</th>\n      <th>week_yr</th>\n      <th>Россия_Все</th>\n      <th>Мир_Все</th>\n      <th>Экономика_Все</th>\n      <th>Наука и техника_Все</th>\n      <th>Бывший СССР_Все</th>\n      <th>...</th>\n      <th>Легпром_Мировой опыт</th>\n      <th>Ценности_Все</th>\n      <th>Оружие_Вооружение</th>\n      <th>Легпром_Все</th>\n      <th>ЧМ-2014_Все</th>\n      <th>Легпром_Инновации</th>\n      <th>_69-я параллель</th>\n      <th>МедНовости_Все</th>\n      <th>_Финансы компаний</th>\n      <th>Сочи_Все</th>\n    </tr>\n  </thead>\n  <tbody>\n    <tr>\n      <th>0</th>\n      <td>2015-01-16</td>\n      <td>0.025619</td>\n      <td>3</td>\n      <td>2015</td>\n      <td>3_2015</td>\n      <td></td>\n      <td>меркель случайно назвала антисемитизм гражданс...</td>\n      <td></td>\n      <td></td>\n      <td></td>\n      <td>...</td>\n      <td></td>\n      <td></td>\n      <td></td>\n      <td></td>\n      <td></td>\n      <td></td>\n      <td></td>\n      <td></td>\n      <td></td>\n      <td></td>\n    </tr>\n    <tr>\n      <th>1</th>\n      <td>2015-01-19</td>\n      <td>0.033868</td>\n      <td>4</td>\n      <td>2015</td>\n      <td>4_2015</td>\n      <td></td>\n      <td></td>\n      <td></td>\n      <td></td>\n      <td></td>\n      <td>...</td>\n      <td></td>\n      <td></td>\n      <td></td>\n      <td></td>\n      <td></td>\n      <td></td>\n      <td></td>\n      <td></td>\n      <td></td>\n      <td></td>\n    </tr>\n    <tr>\n      <th>2</th>\n      <td>2015-01-20</td>\n      <td>0.020928</td>\n      <td>4</td>\n      <td>2015</td>\n      <td>4_2015</td>\n      <td></td>\n      <td></td>\n      <td></td>\n      <td></td>\n      <td></td>\n      <td>...</td>\n      <td></td>\n      <td></td>\n      <td></td>\n      <td></td>\n      <td></td>\n      <td></td>\n      <td></td>\n      <td></td>\n      <td></td>\n      <td></td>\n    </tr>\n    <tr>\n      <th>3</th>\n      <td>2015-01-21</td>\n      <td>0.030370</td>\n      <td>4</td>\n      <td>2015</td>\n      <td>4_2015</td>\n      <td></td>\n      <td>лидер антиисламского движения ушел споста посл...</td>\n      <td></td>\n      <td></td>\n      <td></td>\n      <td>...</td>\n      <td></td>\n      <td></td>\n      <td></td>\n      <td></td>\n      <td></td>\n      <td></td>\n      <td></td>\n      <td></td>\n      <td></td>\n      <td></td>\n    </tr>\n    <tr>\n      <th>4</th>\n      <td>2015-01-22</td>\n      <td>0.035106</td>\n      <td>4</td>\n      <td>2015</td>\n      <td>4_2015</td>\n      <td></td>\n      <td>мэр лондона согласился заплатить налог ради по...</td>\n      <td></td>\n      <td></td>\n      <td></td>\n      <td>...</td>\n      <td></td>\n      <td></td>\n      <td></td>\n      <td></td>\n      <td></td>\n      <td></td>\n      <td></td>\n      <td></td>\n      <td></td>\n      <td></td>\n    </tr>\n    <tr>\n      <th>...</th>\n      <td>...</td>\n      <td>...</td>\n      <td>...</td>\n      <td>...</td>\n      <td>...</td>\n      <td>...</td>\n      <td>...</td>\n      <td>...</td>\n      <td>...</td>\n      <td>...</td>\n      <td>...</td>\n      <td>...</td>\n      <td>...</td>\n      <td>...</td>\n      <td>...</td>\n      <td>...</td>\n      <td>...</td>\n      <td>...</td>\n      <td>...</td>\n      <td>...</td>\n      <td>...</td>\n    </tr>\n    <tr>\n      <th>1227</th>\n      <td>2019-12-23</td>\n      <td>0.008188</td>\n      <td>52</td>\n      <td>2019</td>\n      <td>52_2019</td>\n      <td></td>\n      <td></td>\n      <td></td>\n      <td></td>\n      <td></td>\n      <td>...</td>\n      <td></td>\n      <td></td>\n      <td></td>\n      <td></td>\n      <td></td>\n      <td></td>\n      <td></td>\n      <td></td>\n      <td></td>\n      <td></td>\n    </tr>\n    <tr>\n      <th>1228</th>\n      <td>2019-12-24</td>\n      <td>0.004616</td>\n      <td>52</td>\n      <td>2019</td>\n      <td>52_2019</td>\n      <td></td>\n      <td></td>\n      <td></td>\n      <td></td>\n      <td></td>\n      <td>...</td>\n      <td></td>\n      <td></td>\n      <td></td>\n      <td></td>\n      <td></td>\n      <td></td>\n      <td></td>\n      <td></td>\n      <td></td>\n      <td></td>\n    </tr>\n    <tr>\n      <th>1229</th>\n      <td>2019-12-26</td>\n      <td>0.004296</td>\n      <td>52</td>\n      <td>2019</td>\n      <td>52_2019</td>\n      <td></td>\n      <td></td>\n      <td></td>\n      <td></td>\n      <td></td>\n      <td>...</td>\n      <td></td>\n      <td></td>\n      <td></td>\n      <td></td>\n      <td></td>\n      <td></td>\n      <td></td>\n      <td></td>\n      <td></td>\n      <td></td>\n    </tr>\n    <tr>\n      <th>1230</th>\n      <td>2019-12-27</td>\n      <td>0.008190</td>\n      <td>52</td>\n      <td>2019</td>\n      <td>52_2019</td>\n      <td></td>\n      <td></td>\n      <td></td>\n      <td></td>\n      <td></td>\n      <td>...</td>\n      <td></td>\n      <td></td>\n      <td></td>\n      <td></td>\n      <td></td>\n      <td></td>\n      <td></td>\n      <td></td>\n      <td></td>\n      <td></td>\n    </tr>\n    <tr>\n      <th>1231</th>\n      <td>2019-12-30</td>\n      <td>0.005853</td>\n      <td>1</td>\n      <td>2019</td>\n      <td>1_2019</td>\n      <td></td>\n      <td></td>\n      <td></td>\n      <td></td>\n      <td></td>\n      <td>...</td>\n      <td></td>\n      <td></td>\n      <td></td>\n      <td></td>\n      <td></td>\n      <td></td>\n      <td></td>\n      <td></td>\n      <td></td>\n      <td></td>\n    </tr>\n  </tbody>\n</table>\n<p>1232 rows × 136 columns</p>\n</div>"
     },
     "execution_count": 47,
     "metadata": {},
     "output_type": "execute_result"
    }
   ],
   "source": [
    "data_df1"
   ],
   "metadata": {
    "collapsed": false,
    "pycharm": {
     "name": "#%%\n"
    }
   }
  },
  {
   "cell_type": "code",
   "execution_count": null,
   "outputs": [],
   "source": [],
   "metadata": {
    "collapsed": false,
    "pycharm": {
     "name": "#%%\n"
    }
   }
  },
  {
   "cell_type": "code",
   "execution_count": 27,
   "outputs": [],
   "source": [
    "X = vectorizer.fit_transform(data_df1['Россия_Все'].to_list())"
   ],
   "metadata": {
    "collapsed": false,
    "pycharm": {
     "name": "#%%\n"
    }
   }
  },
  {
   "cell_type": "code",
   "execution_count": 28,
   "outputs": [
    {
     "data": {
      "text/plain": "(1232, 296)"
     },
     "execution_count": 28,
     "metadata": {},
     "output_type": "execute_result"
    }
   ],
   "source": [
    "X.shape"
   ],
   "metadata": {
    "collapsed": false,
    "pycharm": {
     "name": "#%%\n"
    }
   }
  },
  {
   "cell_type": "code",
   "execution_count": 32,
   "outputs": [
    {
     "data": {
      "text/plain": "scipy.sparse._csr.csr_matrix"
     },
     "execution_count": 32,
     "metadata": {},
     "output_type": "execute_result"
    }
   ],
   "source": [
    "type(X)"
   ],
   "metadata": {
    "collapsed": false,
    "pycharm": {
     "name": "#%%\n"
    }
   }
  },
  {
   "cell_type": "code",
   "execution_count": 35,
   "outputs": [
    {
     "data": {
      "text/plain": "array([[0, 0, 0, ..., 0, 0, 0],\n       [0, 0, 0, ..., 0, 0, 0],\n       [0, 0, 0, ..., 0, 0, 0],\n       ...,\n       [0, 0, 0, ..., 0, 0, 0],\n       [0, 0, 0, ..., 0, 0, 0],\n       [0, 0, 0, ..., 0, 0, 0]])"
     },
     "execution_count": 35,
     "metadata": {},
     "output_type": "execute_result"
    }
   ],
   "source": [
    "X.toarray()"
   ],
   "metadata": {
    "collapsed": false,
    "pycharm": {
     "name": "#%%\n"
    }
   }
  },
  {
   "cell_type": "code",
   "execution_count": 36,
   "outputs": [
    {
     "data": {
      "text/plain": "38480"
     },
     "execution_count": 36,
     "metadata": {},
     "output_type": "execute_result"
    }
   ],
   "source": [
    "296*130 # не, такие размеры не подходят"
   ],
   "metadata": {
    "collapsed": false,
    "pycharm": {
     "name": "#%%\n"
    }
   }
  },
  {
   "cell_type": "code",
   "execution_count": 32,
   "outputs": [],
   "source": [],
   "metadata": {
    "collapsed": false,
    "pycharm": {
     "name": "#%%\n"
    }
   }
  }
 ],
 "metadata": {
  "kernelspec": {
   "display_name": "Python 3",
   "language": "python",
   "name": "python3"
  },
  "language_info": {
   "codemirror_mode": {
    "name": "ipython",
    "version": 2
   },
   "file_extension": ".py",
   "mimetype": "text/x-python",
   "name": "python",
   "nbconvert_exporter": "python",
   "pygments_lexer": "ipython2",
   "version": "2.7.6"
  }
 },
 "nbformat": 4,
 "nbformat_minor": 0
}