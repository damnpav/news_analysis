{
 "cells": [
  {
   "cell_type": "code",
   "execution_count": 1,
   "metadata": {
    "collapsed": true,
    "pycharm": {
     "name": "#%%\n"
    }
   },
   "outputs": [],
   "source": [
    "import pandas as pd\n",
    "from tqdm import tqdm\n",
    "import nltk\n",
    "from pymystem3 import Mystem\n",
    "from string import punctuation\n",
    "from nltk.corpus import stopwords"
   ]
  },
  {
   "cell_type": "code",
   "execution_count": 3,
   "outputs": [],
   "source": [
    "from sklearn.feature_extraction.text import CountVectorizer"
   ],
   "metadata": {
    "collapsed": false,
    "pycharm": {
     "name": "#%%\n"
    }
   }
  },
  {
   "cell_type": "code",
   "execution_count": 27,
   "outputs": [],
   "source": [
    "import numpy as np"
   ],
   "metadata": {
    "collapsed": false,
    "pycharm": {
     "name": "#%%\n"
    }
   }
  },
  {
   "cell_type": "code",
   "execution_count": 16,
   "outputs": [
    {
     "name": "stderr",
     "output_type": "stream",
     "text": [
      "[nltk_data] Downloading package stopwords to\n",
      "[nltk_data]     /Users/dp_user/nltk_data...\n",
      "[nltk_data]   Package stopwords is already up-to-date!\n"
     ]
    },
    {
     "data": {
      "text/plain": "True"
     },
     "execution_count": 16,
     "metadata": {},
     "output_type": "execute_result"
    }
   ],
   "source": [
    "nltk.download(\"stopwords\")"
   ],
   "metadata": {
    "collapsed": false,
    "pycharm": {
     "name": "#%%\n"
    }
   }
  },
  {
   "cell_type": "markdown",
   "source": [
    "# TODO надо кластеризовать значения волатильности на волатильные дни и нет"
   ],
   "metadata": {
    "collapsed": false,
    "pycharm": {
     "name": "#%% md\n"
    }
   }
  },
  {
   "cell_type": "code",
   "execution_count": 5,
   "outputs": [],
   "source": [
    "# вообще надо будет попробовать и регрессию и кластеризацию"
   ],
   "metadata": {
    "collapsed": false,
    "pycharm": {
     "name": "#%%\n"
    }
   }
  },
  {
   "cell_type": "code",
   "execution_count": 6,
   "outputs": [],
   "source": [
    "# для этого точно надо как то закодировать слова"
   ],
   "metadata": {
    "collapsed": false,
    "pycharm": {
     "name": "#%%\n"
    }
   }
  },
  {
   "cell_type": "code",
   "execution_count": 7,
   "outputs": [],
   "source": [
    "# разные топики и теги будем использовать как разные фичи"
   ],
   "metadata": {
    "collapsed": false,
    "pycharm": {
     "name": "#%%\n"
    }
   }
  },
  {
   "cell_type": "code",
   "execution_count": 2,
   "outputs": [],
   "source": [
    "data_df = pd.read_excel('imoex_and_news_1_090523.xlsx')"
   ],
   "metadata": {
    "collapsed": false,
    "pycharm": {
     "name": "#%%\n"
    }
   }
  },
  {
   "cell_type": "code",
   "execution_count": 6,
   "outputs": [
    {
     "data": {
      "text/plain": "370                                                    []\n59      ['В США огласили приговор четырем сотрудникам ...\n941     ['Австрия отказалась подписывать пакт ООН по\\x...\n984                                                    []\n1168                                                   []\n503                                                    []\n164                                                    []\n99                                                     []\n348                                                    []\n85                                                     []\nName: Мир_Все, dtype: object"
     },
     "execution_count": 6,
     "metadata": {},
     "output_type": "execute_result"
    }
   ],
   "source": [
    "data_df['Мир_Все'].sample(10)  # очень разряженная матрица"
   ],
   "metadata": {
    "collapsed": false,
    "pycharm": {
     "name": "#%%\n"
    }
   }
  },
  {
   "cell_type": "code",
   "execution_count": 7,
   "outputs": [],
   "source": [
    "# теперь текст в колонках надо чистить и лемматизировать"
   ],
   "metadata": {
    "collapsed": false,
    "pycharm": {
     "name": "#%%\n"
    }
   }
  },
  {
   "cell_type": "code",
   "execution_count": 17,
   "outputs": [],
   "source": [
    "topic_tags_df = pd.read_excel(r'/Users/dp_user/PycharmProjects/news_analysis/гуппировка_по_тегам_и_топикам.xlsx', sheet_name='used_keys')"
   ],
   "metadata": {
    "collapsed": false,
    "pycharm": {
     "name": "#%%\n"
    }
   }
  },
  {
   "cell_type": "code",
   "execution_count": 18,
   "outputs": [],
   "source": [
    "news_cols = topic_tags_df['topic_tags'].to_list()"
   ],
   "metadata": {
    "collapsed": false,
    "pycharm": {
     "name": "#%%\n"
    }
   }
  },
  {
   "cell_type": "code",
   "execution_count": 19,
   "outputs": [],
   "source": [
    "russian_stopwords = stopwords.words(\"russian\")"
   ],
   "metadata": {
    "collapsed": false,
    "pycharm": {
     "name": "#%%\n"
    }
   }
  },
  {
   "cell_type": "code",
   "execution_count": 44,
   "outputs": [
    {
     "data": {
      "text/plain": "['и', 'в', 'во', 'не', 'что']"
     },
     "execution_count": 44,
     "metadata": {},
     "output_type": "execute_result"
    }
   ],
   "source": [
    "russian_stopwords[:5]"
   ],
   "metadata": {
    "collapsed": false,
    "pycharm": {
     "name": "#%%\n"
    }
   }
  },
  {
   "cell_type": "code",
   "execution_count": null,
   "outputs": [],
   "source": [],
   "metadata": {
    "collapsed": false,
    "pycharm": {
     "name": "#%%\n"
    }
   }
  },
  {
   "cell_type": "code",
   "execution_count": null,
   "outputs": [],
   "source": [],
   "metadata": {
    "collapsed": false,
    "pycharm": {
     "name": "#%%\n"
    }
   }
  },
  {
   "cell_type": "code",
   "execution_count": 20,
   "outputs": [],
   "source": [
    "data_df1 = data_df.copy()"
   ],
   "metadata": {
    "collapsed": false,
    "pycharm": {
     "name": "#%%\n"
    }
   }
  },
  {
   "cell_type": "code",
   "execution_count": 21,
   "outputs": [
    {
     "name": "stderr",
     "output_type": "stream",
     "text": [
      "100%|██████████| 131/131 [00:00<00:00, 344.30it/s]\n"
     ]
    }
   ],
   "source": [
    "for col in tqdm(news_cols):\n",
    "    data_df1[col] = data_df1[col].str.lower()\n",
    "    data_df1[col] = data_df1[col].str.replace('[','').replace(']', '')\n",
    "    data_df1[col]  = data_df1[col].str.replace('[^а-яА-Яё Ё]', '', regex=True)  # replace all non Cyrillic symbols"
   ],
   "metadata": {
    "collapsed": false,
    "pycharm": {
     "name": "#%%\n"
    }
   }
  },
  {
   "cell_type": "code",
   "execution_count": 55,
   "outputs": [],
   "source": [
    "# todo теперь надо сделать как советовал chat и сделать из этого фичи как-нибудь (мешок слов, tf_idf и тд)"
   ],
   "metadata": {
    "collapsed": false,
    "pycharm": {
     "name": "#%%\n"
    }
   }
  },
  {
   "cell_type": "code",
   "execution_count": 31,
   "outputs": [],
   "source": [
    "# + надо еще лемматизировать"
   ],
   "metadata": {
    "collapsed": false,
    "pycharm": {
     "name": "#%%\n"
    }
   }
  },
  {
   "cell_type": "code",
   "execution_count": 22,
   "outputs": [],
   "source": [
    "mystem = Mystem()"
   ],
   "metadata": {
    "collapsed": false,
    "pycharm": {
     "name": "#%%\n"
    }
   }
  },
  {
   "cell_type": "markdown",
   "source": [
    "# BagOfWords, topic_tag надо закодировать как отдельные фичу"
   ],
   "metadata": {
    "collapsed": false,
    "pycharm": {
     "name": "#%% md\n"
    }
   }
  },
  {
   "cell_type": "code",
   "execution_count": 23,
   "outputs": [
    {
     "data": {
      "text/plain": "(1232, 143)"
     },
     "execution_count": 23,
     "metadata": {},
     "output_type": "execute_result"
    }
   ],
   "source": [
    "data_df1.shape"
   ],
   "metadata": {
    "collapsed": false,
    "pycharm": {
     "name": "#%%\n"
    }
   }
  },
  {
   "cell_type": "code",
   "execution_count": 28,
   "outputs": [
    {
     "ename": "NameError",
     "evalue": "name 'CountVectorizer' is not defined",
     "output_type": "error",
     "traceback": [
      "\u001B[0;31m---------------------------------------------------------------------------\u001B[0m",
      "\u001B[0;31mNameError\u001B[0m                                 Traceback (most recent call last)",
      "Cell \u001B[0;32mIn[28], line 1\u001B[0m\n\u001B[0;32m----> 1\u001B[0m vectorizer \u001B[38;5;241m=\u001B[39m \u001B[43mCountVectorizer\u001B[49m()\n",
      "\u001B[0;31mNameError\u001B[0m: name 'CountVectorizer' is not defined"
     ]
    }
   ],
   "source": [
    "vectorizer = CountVectorizer()"
   ],
   "metadata": {
    "collapsed": false,
    "pycharm": {
     "name": "#%%\n"
    }
   }
  },
  {
   "cell_type": "code",
   "execution_count": 16,
   "outputs": [],
   "source": [
    "# TODO нужна функция на каждую строку которую можноо апплаить"
   ],
   "metadata": {
    "collapsed": false,
    "pycharm": {
     "name": "#%%\n"
    }
   }
  },
  {
   "cell_type": "code",
   "execution_count": 25,
   "outputs": [],
   "source": [
    "del data_df1['Open']\n",
    "del data_df1['High']\n",
    "del data_df1['Low']\n",
    "del data_df1['Close']\n",
    "del data_df1['Adj Close']\n",
    "del data_df1['Volume']\n",
    "del data_df1['log_ret']"
   ],
   "metadata": {
    "collapsed": false,
    "pycharm": {
     "name": "#%%\n"
    }
   }
  },
  {
   "cell_type": "code",
   "execution_count": 63,
   "outputs": [],
   "source": [
    "# encoding of topic_tags"
   ],
   "metadata": {
    "collapsed": false,
    "pycharm": {
     "name": "#%%\n"
    }
   }
  },
  {
   "cell_type": "code",
   "execution_count": 29,
   "outputs": [],
   "source": [
    "data_df1 = data_df1.replace('', np.NaN)"
   ],
   "metadata": {
    "collapsed": false,
    "pycharm": {
     "name": "#%%\n"
    }
   }
  },
  {
   "cell_type": "code",
   "execution_count": 30,
   "outputs": [
    {
     "name": "stderr",
     "output_type": "stream",
     "text": [
      "100%|██████████| 131/131 [00:00<00:00, 2950.58it/s]\n"
     ]
    }
   ],
   "source": [
    "for col in tqdm(news_cols):\n",
    "    data_df1.loc[~data_df1[col].isnull(), col] = 1\n",
    "    data_df1.loc[data_df1[col].isnull(), col] = 0"
   ],
   "metadata": {
    "collapsed": false,
    "pycharm": {
     "name": "#%%\n"
    }
   }
  },
  {
   "cell_type": "code",
   "execution_count": 31,
   "outputs": [
    {
     "data": {
      "text/plain": "           Date  log_price_spread  week    yr  week_yr Россия_Все Мир_Все   \n0    2015-01-16          0.025619     3  2015   3_2015          0       1  \\\n1    2015-01-19          0.033868     4  2015   4_2015          0       0   \n2    2015-01-20          0.020928     4  2015   4_2015          0       0   \n3    2015-01-21          0.030370     4  2015   4_2015          0       1   \n4    2015-01-22          0.035106     4  2015   4_2015          0       1   \n...         ...               ...   ...   ...      ...        ...     ...   \n1227 2019-12-23          0.008188    52  2019  52_2019          0       0   \n1228 2019-12-24          0.004616    52  2019  52_2019          0       0   \n1229 2019-12-26          0.004296    52  2019  52_2019          0       0   \n1230 2019-12-27          0.008190    52  2019  52_2019          0       0   \n1231 2019-12-30          0.005853     1  2019   1_2019          0       0   \n\n     Экономика_Все Наука и техника_Все Бывший СССР_Все  ...   \n0                0                   0               0  ...  \\\n1                0                   0               0  ...   \n2                0                   0               0  ...   \n3                0                   0               0  ...   \n4                0                   0               0  ...   \n...            ...                 ...             ...  ...   \n1227             0                   0               0  ...   \n1228             0                   0               0  ...   \n1229             0                   0               0  ...   \n1230             0                   0               0  ...   \n1231             0                   0               0  ...   \n\n     Легпром_Мировой опыт Ценности_Все Оружие_Вооружение Легпром_Все   \n0                       0            0                 0           0  \\\n1                       0            0                 0           0   \n2                       0            0                 0           0   \n3                       0            0                 0           0   \n4                       0            0                 0           0   \n...                   ...          ...               ...         ...   \n1227                    0            0                 0           0   \n1228                    0            0                 0           0   \n1229                    0            0                 0           0   \n1230                    0            0                 0           0   \n1231                    0            0                 0           0   \n\n     ЧМ-2014_Все Легпром_Инновации _69-я параллель МедНовости_Все   \n0            0.0                 0             0.0              0  \\\n1            0.0                 0             0.0              0   \n2            0.0                 0             0.0              0   \n3            0.0                 0             0.0              0   \n4            0.0                 0             0.0              0   \n...          ...               ...             ...            ...   \n1227         0.0                 0             0.0              0   \n1228         0.0                 0             0.0              0   \n1229         0.0                 0             0.0              0   \n1230         0.0                 0             0.0              0   \n1231         0.0                 0             0.0              0   \n\n     _Финансы компаний Сочи_Все  \n0                    0      0.0  \n1                    0      0.0  \n2                    0      0.0  \n3                    0      0.0  \n4                    0      0.0  \n...                ...      ...  \n1227                 0      0.0  \n1228                 0      0.0  \n1229                 0      0.0  \n1230                 0      0.0  \n1231                 0      0.0  \n\n[1232 rows x 136 columns]",
      "text/html": "<div>\n<style scoped>\n    .dataframe tbody tr th:only-of-type {\n        vertical-align: middle;\n    }\n\n    .dataframe tbody tr th {\n        vertical-align: top;\n    }\n\n    .dataframe thead th {\n        text-align: right;\n    }\n</style>\n<table border=\"1\" class=\"dataframe\">\n  <thead>\n    <tr style=\"text-align: right;\">\n      <th></th>\n      <th>Date</th>\n      <th>log_price_spread</th>\n      <th>week</th>\n      <th>yr</th>\n      <th>week_yr</th>\n      <th>Россия_Все</th>\n      <th>Мир_Все</th>\n      <th>Экономика_Все</th>\n      <th>Наука и техника_Все</th>\n      <th>Бывший СССР_Все</th>\n      <th>...</th>\n      <th>Легпром_Мировой опыт</th>\n      <th>Ценности_Все</th>\n      <th>Оружие_Вооружение</th>\n      <th>Легпром_Все</th>\n      <th>ЧМ-2014_Все</th>\n      <th>Легпром_Инновации</th>\n      <th>_69-я параллель</th>\n      <th>МедНовости_Все</th>\n      <th>_Финансы компаний</th>\n      <th>Сочи_Все</th>\n    </tr>\n  </thead>\n  <tbody>\n    <tr>\n      <th>0</th>\n      <td>2015-01-16</td>\n      <td>0.025619</td>\n      <td>3</td>\n      <td>2015</td>\n      <td>3_2015</td>\n      <td>0</td>\n      <td>1</td>\n      <td>0</td>\n      <td>0</td>\n      <td>0</td>\n      <td>...</td>\n      <td>0</td>\n      <td>0</td>\n      <td>0</td>\n      <td>0</td>\n      <td>0.0</td>\n      <td>0</td>\n      <td>0.0</td>\n      <td>0</td>\n      <td>0</td>\n      <td>0.0</td>\n    </tr>\n    <tr>\n      <th>1</th>\n      <td>2015-01-19</td>\n      <td>0.033868</td>\n      <td>4</td>\n      <td>2015</td>\n      <td>4_2015</td>\n      <td>0</td>\n      <td>0</td>\n      <td>0</td>\n      <td>0</td>\n      <td>0</td>\n      <td>...</td>\n      <td>0</td>\n      <td>0</td>\n      <td>0</td>\n      <td>0</td>\n      <td>0.0</td>\n      <td>0</td>\n      <td>0.0</td>\n      <td>0</td>\n      <td>0</td>\n      <td>0.0</td>\n    </tr>\n    <tr>\n      <th>2</th>\n      <td>2015-01-20</td>\n      <td>0.020928</td>\n      <td>4</td>\n      <td>2015</td>\n      <td>4_2015</td>\n      <td>0</td>\n      <td>0</td>\n      <td>0</td>\n      <td>0</td>\n      <td>0</td>\n      <td>...</td>\n      <td>0</td>\n      <td>0</td>\n      <td>0</td>\n      <td>0</td>\n      <td>0.0</td>\n      <td>0</td>\n      <td>0.0</td>\n      <td>0</td>\n      <td>0</td>\n      <td>0.0</td>\n    </tr>\n    <tr>\n      <th>3</th>\n      <td>2015-01-21</td>\n      <td>0.030370</td>\n      <td>4</td>\n      <td>2015</td>\n      <td>4_2015</td>\n      <td>0</td>\n      <td>1</td>\n      <td>0</td>\n      <td>0</td>\n      <td>0</td>\n      <td>...</td>\n      <td>0</td>\n      <td>0</td>\n      <td>0</td>\n      <td>0</td>\n      <td>0.0</td>\n      <td>0</td>\n      <td>0.0</td>\n      <td>0</td>\n      <td>0</td>\n      <td>0.0</td>\n    </tr>\n    <tr>\n      <th>4</th>\n      <td>2015-01-22</td>\n      <td>0.035106</td>\n      <td>4</td>\n      <td>2015</td>\n      <td>4_2015</td>\n      <td>0</td>\n      <td>1</td>\n      <td>0</td>\n      <td>0</td>\n      <td>0</td>\n      <td>...</td>\n      <td>0</td>\n      <td>0</td>\n      <td>0</td>\n      <td>0</td>\n      <td>0.0</td>\n      <td>0</td>\n      <td>0.0</td>\n      <td>0</td>\n      <td>0</td>\n      <td>0.0</td>\n    </tr>\n    <tr>\n      <th>...</th>\n      <td>...</td>\n      <td>...</td>\n      <td>...</td>\n      <td>...</td>\n      <td>...</td>\n      <td>...</td>\n      <td>...</td>\n      <td>...</td>\n      <td>...</td>\n      <td>...</td>\n      <td>...</td>\n      <td>...</td>\n      <td>...</td>\n      <td>...</td>\n      <td>...</td>\n      <td>...</td>\n      <td>...</td>\n      <td>...</td>\n      <td>...</td>\n      <td>...</td>\n      <td>...</td>\n    </tr>\n    <tr>\n      <th>1227</th>\n      <td>2019-12-23</td>\n      <td>0.008188</td>\n      <td>52</td>\n      <td>2019</td>\n      <td>52_2019</td>\n      <td>0</td>\n      <td>0</td>\n      <td>0</td>\n      <td>0</td>\n      <td>0</td>\n      <td>...</td>\n      <td>0</td>\n      <td>0</td>\n      <td>0</td>\n      <td>0</td>\n      <td>0.0</td>\n      <td>0</td>\n      <td>0.0</td>\n      <td>0</td>\n      <td>0</td>\n      <td>0.0</td>\n    </tr>\n    <tr>\n      <th>1228</th>\n      <td>2019-12-24</td>\n      <td>0.004616</td>\n      <td>52</td>\n      <td>2019</td>\n      <td>52_2019</td>\n      <td>0</td>\n      <td>0</td>\n      <td>0</td>\n      <td>0</td>\n      <td>0</td>\n      <td>...</td>\n      <td>0</td>\n      <td>0</td>\n      <td>0</td>\n      <td>0</td>\n      <td>0.0</td>\n      <td>0</td>\n      <td>0.0</td>\n      <td>0</td>\n      <td>0</td>\n      <td>0.0</td>\n    </tr>\n    <tr>\n      <th>1229</th>\n      <td>2019-12-26</td>\n      <td>0.004296</td>\n      <td>52</td>\n      <td>2019</td>\n      <td>52_2019</td>\n      <td>0</td>\n      <td>0</td>\n      <td>0</td>\n      <td>0</td>\n      <td>0</td>\n      <td>...</td>\n      <td>0</td>\n      <td>0</td>\n      <td>0</td>\n      <td>0</td>\n      <td>0.0</td>\n      <td>0</td>\n      <td>0.0</td>\n      <td>0</td>\n      <td>0</td>\n      <td>0.0</td>\n    </tr>\n    <tr>\n      <th>1230</th>\n      <td>2019-12-27</td>\n      <td>0.008190</td>\n      <td>52</td>\n      <td>2019</td>\n      <td>52_2019</td>\n      <td>0</td>\n      <td>0</td>\n      <td>0</td>\n      <td>0</td>\n      <td>0</td>\n      <td>...</td>\n      <td>0</td>\n      <td>0</td>\n      <td>0</td>\n      <td>0</td>\n      <td>0.0</td>\n      <td>0</td>\n      <td>0.0</td>\n      <td>0</td>\n      <td>0</td>\n      <td>0.0</td>\n    </tr>\n    <tr>\n      <th>1231</th>\n      <td>2019-12-30</td>\n      <td>0.005853</td>\n      <td>1</td>\n      <td>2019</td>\n      <td>1_2019</td>\n      <td>0</td>\n      <td>0</td>\n      <td>0</td>\n      <td>0</td>\n      <td>0</td>\n      <td>...</td>\n      <td>0</td>\n      <td>0</td>\n      <td>0</td>\n      <td>0</td>\n      <td>0.0</td>\n      <td>0</td>\n      <td>0.0</td>\n      <td>0</td>\n      <td>0</td>\n      <td>0.0</td>\n    </tr>\n  </tbody>\n</table>\n<p>1232 rows × 136 columns</p>\n</div>"
     },
     "execution_count": 31,
     "metadata": {},
     "output_type": "execute_result"
    }
   ],
   "source": [
    "data_df1  # done!"
   ],
   "metadata": {
    "collapsed": false,
    "pycharm": {
     "name": "#%%\n"
    }
   }
  },
  {
   "cell_type": "code",
   "execution_count": 67,
   "outputs": [],
   "source": [
    "# теперь надо весь текст сложить в одну строку и закодировать"
   ],
   "metadata": {
    "collapsed": false,
    "pycharm": {
     "name": "#%%\n"
    }
   }
  },
  {
   "cell_type": "code",
   "execution_count": 32,
   "outputs": [],
   "source": [
    "data_text_df = data_df.copy()"
   ],
   "metadata": {
    "collapsed": false,
    "pycharm": {
     "name": "#%%\n"
    }
   }
  },
  {
   "cell_type": "code",
   "execution_count": 33,
   "outputs": [
    {
     "name": "stderr",
     "output_type": "stream",
     "text": [
      "100%|██████████| 131/131 [00:00<00:00, 427.57it/s]\n"
     ]
    }
   ],
   "source": [
    "for col in tqdm(news_cols):\n",
    "    data_text_df[col] = data_text_df[col].str.lower()\n",
    "    data_text_df[col] = data_text_df[col].str.replace('[','').replace(']', '')\n",
    "    data_text_df[col]  = data_text_df[col].str.replace('[^а-яА-Яё Ё]', '', regex=True)  # replace all non Cyrillic symbols"
   ],
   "metadata": {
    "collapsed": false,
    "pycharm": {
     "name": "#%%\n"
    }
   }
  },
  {
   "cell_type": "code",
   "execution_count": 34,
   "outputs": [],
   "source": [
    "data_text_df = data_text_df.set_index('Date')"
   ],
   "metadata": {
    "collapsed": false,
    "pycharm": {
     "name": "#%%\n"
    }
   }
  },
  {
   "cell_type": "code",
   "execution_count": 35,
   "outputs": [],
   "source": [
    "del data_text_df['Open']\n",
    "del data_text_df['High']\n",
    "del data_text_df['Low']\n",
    "del data_text_df['Close']\n",
    "del data_text_df['Adj Close']\n",
    "del data_text_df['Volume']\n",
    "del data_text_df['log_ret']\n",
    "del data_text_df['log_price_spread']"
   ],
   "metadata": {
    "collapsed": false,
    "pycharm": {
     "name": "#%%\n"
    }
   }
  },
  {
   "cell_type": "code",
   "execution_count": 36,
   "outputs": [],
   "source": [
    "del data_text_df['week']\n",
    "del data_text_df['yr']\n",
    "del data_text_df['week_yr']"
   ],
   "metadata": {
    "collapsed": false,
    "pycharm": {
     "name": "#%%\n"
    }
   }
  },
  {
   "cell_type": "code",
   "execution_count": 37,
   "outputs": [],
   "source": [
    "data_text_df1 = data_text_df.astype(str).agg(' '.join, axis=1).to_frame()"
   ],
   "metadata": {
    "collapsed": false,
    "pycharm": {
     "name": "#%%\n"
    }
   }
  },
  {
   "cell_type": "code",
   "execution_count": 38,
   "outputs": [],
   "source": [
    "data_text_df1 = data_text_df1.rename(columns={0: 'text_news'})"
   ],
   "metadata": {
    "collapsed": false,
    "pycharm": {
     "name": "#%%\n"
    }
   }
  },
  {
   "cell_type": "code",
   "execution_count": 39,
   "outputs": [
    {
     "data": {
      "text/plain": "                                                    text_news\nDate                                                         \n2015-01-16   меркель случайно назвала антисемитизм граждан...\n2015-01-19        ес выступил против исключения хамас изсп...\n2015-01-20        японский премьер пообещал сделать все во...\n2015-01-21   лидер антиисламского движения ушел споста пос...\n2015-01-22   мэр лондона согласился заплатить налог ради п...\n...                                                       ...\n2019-12-23                                                ...\n2019-12-24                                                ...\n2019-12-26                                                ...\n2019-12-27                                                ...\n2019-12-30                                                ...\n\n[1232 rows x 1 columns]",
      "text/html": "<div>\n<style scoped>\n    .dataframe tbody tr th:only-of-type {\n        vertical-align: middle;\n    }\n\n    .dataframe tbody tr th {\n        vertical-align: top;\n    }\n\n    .dataframe thead th {\n        text-align: right;\n    }\n</style>\n<table border=\"1\" class=\"dataframe\">\n  <thead>\n    <tr style=\"text-align: right;\">\n      <th></th>\n      <th>text_news</th>\n    </tr>\n    <tr>\n      <th>Date</th>\n      <th></th>\n    </tr>\n  </thead>\n  <tbody>\n    <tr>\n      <th>2015-01-16</th>\n      <td>меркель случайно назвала антисемитизм граждан...</td>\n    </tr>\n    <tr>\n      <th>2015-01-19</th>\n      <td>ес выступил против исключения хамас изсп...</td>\n    </tr>\n    <tr>\n      <th>2015-01-20</th>\n      <td>японский премьер пообещал сделать все во...</td>\n    </tr>\n    <tr>\n      <th>2015-01-21</th>\n      <td>лидер антиисламского движения ушел споста пос...</td>\n    </tr>\n    <tr>\n      <th>2015-01-22</th>\n      <td>мэр лондона согласился заплатить налог ради п...</td>\n    </tr>\n    <tr>\n      <th>...</th>\n      <td>...</td>\n    </tr>\n    <tr>\n      <th>2019-12-23</th>\n      <td>...</td>\n    </tr>\n    <tr>\n      <th>2019-12-24</th>\n      <td>...</td>\n    </tr>\n    <tr>\n      <th>2019-12-26</th>\n      <td>...</td>\n    </tr>\n    <tr>\n      <th>2019-12-27</th>\n      <td>...</td>\n    </tr>\n    <tr>\n      <th>2019-12-30</th>\n      <td>...</td>\n    </tr>\n  </tbody>\n</table>\n<p>1232 rows × 1 columns</p>\n</div>"
     },
     "execution_count": 39,
     "metadata": {},
     "output_type": "execute_result"
    }
   ],
   "source": [
    "data_text_df1"
   ],
   "metadata": {
    "collapsed": false,
    "pycharm": {
     "name": "#%%\n"
    }
   }
  },
  {
   "cell_type": "code",
   "execution_count": 31,
   "outputs": [],
   "source": [
    "# to do: вот тут каждую строку нужно токенизировать правильно"
   ],
   "metadata": {
    "collapsed": false,
    "pycharm": {
     "name": "#%%\n"
    }
   }
  },
  {
   "cell_type": "code",
   "execution_count": 40,
   "outputs": [],
   "source": [
    "def token_processing(text):\n",
    "    tokens = mystem.lemmatize(text.lower())\n",
    "    tokens = [token for token in tokens if token not in russian_stopwords\\\n",
    "              and token != \" \" \\\n",
    "              and token.strip() not in punctuation]\n",
    "\n",
    "    text = \" \".join(tokens)\n",
    "    return text"
   ],
   "metadata": {
    "collapsed": false,
    "pycharm": {
     "name": "#%%\n"
    }
   }
  },
  {
   "cell_type": "code",
   "execution_count": 41,
   "outputs": [],
   "source": [
    "data_text_df1['cleaned_text'] = data_text_df1['text_news'].apply(token_processing)  # 15:00"
   ],
   "metadata": {
    "collapsed": false,
    "pycharm": {
     "name": "#%%\n"
    }
   }
  },
  {
   "cell_type": "code",
   "execution_count": 42,
   "outputs": [
    {
     "data": {
      "text/plain": "                                                    text_news   \nDate                                                            \n2019-08-20                 россияне высказались освоем буд...  \\\n2019-02-19                 раскрыт размер гитлеровских пен...   \n2017-07-25        эрдоган удивился заявлению пентагона оза...   \n2019-02-22                 пытавшие многодетную мать полиц...   \n2018-10-16        трамп пригрозил гондурасу в польше уничт...   \n\n                                                 cleaned_text  \nDate                                                           \n2019-08-20  россиянин высказываться освоем будущее российс...  \n2019-02-19  раскрывать размер гитлеровский пенсия следоват...  \n2017-07-25  эрдоган удивляться заявление пентагон озакупка...  \n2019-02-22  пытать многодетный мать полицейский избегать н...  \n2018-10-16  трамп пригрозить гондурас польша уничтожать па...  ",
      "text/html": "<div>\n<style scoped>\n    .dataframe tbody tr th:only-of-type {\n        vertical-align: middle;\n    }\n\n    .dataframe tbody tr th {\n        vertical-align: top;\n    }\n\n    .dataframe thead th {\n        text-align: right;\n    }\n</style>\n<table border=\"1\" class=\"dataframe\">\n  <thead>\n    <tr style=\"text-align: right;\">\n      <th></th>\n      <th>text_news</th>\n      <th>cleaned_text</th>\n    </tr>\n    <tr>\n      <th>Date</th>\n      <th></th>\n      <th></th>\n    </tr>\n  </thead>\n  <tbody>\n    <tr>\n      <th>2019-08-20</th>\n      <td>россияне высказались освоем буд...</td>\n      <td>россиянин высказываться освоем будущее российс...</td>\n    </tr>\n    <tr>\n      <th>2019-02-19</th>\n      <td>раскрыт размер гитлеровских пен...</td>\n      <td>раскрывать размер гитлеровский пенсия следоват...</td>\n    </tr>\n    <tr>\n      <th>2017-07-25</th>\n      <td>эрдоган удивился заявлению пентагона оза...</td>\n      <td>эрдоган удивляться заявление пентагон озакупка...</td>\n    </tr>\n    <tr>\n      <th>2019-02-22</th>\n      <td>пытавшие многодетную мать полиц...</td>\n      <td>пытать многодетный мать полицейский избегать н...</td>\n    </tr>\n    <tr>\n      <th>2018-10-16</th>\n      <td>трамп пригрозил гондурасу в польше уничт...</td>\n      <td>трамп пригрозить гондурас польша уничтожать па...</td>\n    </tr>\n  </tbody>\n</table>\n</div>"
     },
     "execution_count": 42,
     "metadata": {},
     "output_type": "execute_result"
    }
   ],
   "source": [
    "data_text_df1[['text_news', 'cleaned_text']].sample(5)"
   ],
   "metadata": {
    "collapsed": false,
    "pycharm": {
     "name": "#%%\n"
    }
   }
  },
  {
   "cell_type": "code",
   "execution_count": 43,
   "outputs": [],
   "source": [
    "data_text_df1[['text_news', 'cleaned_text']].sample(5).to_excel('sample_cleaned_text.xlsx')"
   ],
   "metadata": {
    "collapsed": false,
    "pycharm": {
     "name": "#%%\n"
    }
   }
  },
  {
   "cell_type": "code",
   "execution_count": null,
   "outputs": [],
   "source": [],
   "metadata": {
    "collapsed": false,
    "pycharm": {
     "name": "#%%\n"
    }
   }
  },
  {
   "cell_type": "code",
   "execution_count": 45,
   "outputs": [],
   "source": [
    "X = vectorizer.fit_transform(data_text_df1['cleaned_text'])"
   ],
   "metadata": {
    "collapsed": false,
    "pycharm": {
     "name": "#%%\n"
    }
   }
  },
  {
   "cell_type": "code",
   "execution_count": 38,
   "outputs": [
    {
     "data": {
      "text/plain": "array([[0, 0, 0, ..., 0, 0, 0],\n       [0, 0, 0, ..., 0, 0, 0],\n       [0, 0, 0, ..., 0, 0, 0],\n       ...,\n       [0, 0, 0, ..., 0, 0, 0],\n       [0, 0, 0, ..., 0, 0, 0],\n       [0, 0, 0, ..., 0, 0, 0]])"
     },
     "execution_count": 38,
     "metadata": {},
     "output_type": "execute_result"
    }
   ],
   "source": [
    "X.toarray()"
   ],
   "metadata": {
    "collapsed": false,
    "pycharm": {
     "name": "#%%\n"
    }
   }
  },
  {
   "cell_type": "code",
   "execution_count": 46,
   "outputs": [
    {
     "data": {
      "text/plain": "(1232, 71862)"
     },
     "execution_count": 46,
     "metadata": {},
     "output_type": "execute_result"
    }
   ],
   "source": [
    "X.shape  # получще но все равно слишком много"
   ],
   "metadata": {
    "collapsed": false,
    "pycharm": {
     "name": "#%%\n"
    }
   }
  },
  {
   "cell_type": "code",
   "execution_count": null,
   "outputs": [],
   "source": [],
   "metadata": {
    "collapsed": false,
    "pycharm": {
     "name": "#%%\n"
    }
   }
  },
  {
   "cell_type": "code",
   "execution_count": 41,
   "outputs": [],
   "source": [
    "# сделаем кастомный токенайзер"
   ],
   "metadata": {
    "collapsed": false,
    "pycharm": {
     "name": "#%%\n"
    }
   }
  },
  {
   "cell_type": "code",
   "execution_count": 85,
   "outputs": [],
   "source": [
    "def custom_tokenizer(sentences, choosed_roots):\n",
    "    words = []\n",
    "    for sentence in tqdm(sentences):\n",
    "        w = sentence.split()\n",
    "        w = stemmer.stem(w)\n",
    "        if w in choosed_roots:\n",
    "            words.extend(w)\n",
    "    words = list(set(words))\n",
    "    return words"
   ],
   "metadata": {
    "collapsed": false,
    "pycharm": {
     "name": "#%%\n"
    }
   }
  },
  {
   "cell_type": "code",
   "execution_count": 86,
   "outputs": [],
   "source": [
    "def bow_generator(allsentences, vocab_list=None):\n",
    "    if not vocab_list:\n",
    "        vocab = custom_tokenizer(allsentences)\n",
    "    else:\n",
    "        vocab = vocab_list\n",
    "    bag_vectors = []\n",
    "    for sentence in tqdm(allsentences):\n",
    "        words = sentence.split()\n",
    "        bag_vector = np.zeros(len(vocab))\n",
    "        for w in words:\n",
    "            for i, word in enumerate(vocab):\n",
    "                if word == stemmer.stem(w):\n",
    "                    bag_vector[i] += 1\n",
    "        bag_vectors.append(bag_vector)\n",
    "    return vocab, bag_vectors"
   ],
   "metadata": {
    "collapsed": false,
    "pycharm": {
     "name": "#%%\n"
    }
   }
  },
  {
   "cell_type": "code",
   "execution_count": null,
   "outputs": [],
   "source": [],
   "metadata": {
    "collapsed": false,
    "pycharm": {
     "name": "#%%\n"
    }
   }
  },
  {
   "cell_type": "code",
   "execution_count": 87,
   "outputs": [
    {
     "name": "stderr",
     "output_type": "stream",
     "text": [
      "100%|██████████| 1232/1232 [04:50<00:00,  4.24it/s]\n"
     ]
    }
   ],
   "source": [
    "vocab, bag_vectors = bow_generator(data_text_df1['cleaned_text'].to_list(), choosed_roots)"
   ],
   "metadata": {
    "collapsed": false,
    "pycharm": {
     "name": "#%%\n"
    }
   }
  },
  {
   "cell_type": "code",
   "execution_count": 48,
   "outputs": [],
   "source": [
    "# vocab = custom_tokenizer(data_text_df1['cleaned_text'].to_list())"
   ],
   "metadata": {
    "collapsed": false,
    "pycharm": {
     "name": "#%%\n"
    }
   }
  },
  {
   "cell_type": "code",
   "execution_count": 88,
   "outputs": [
    {
     "data": {
      "text/plain": "12667"
     },
     "execution_count": 88,
     "metadata": {},
     "output_type": "execute_result"
    }
   ],
   "source": [
    "len(vocab)"
   ],
   "metadata": {
    "collapsed": false,
    "pycharm": {
     "name": "#%%\n"
    }
   }
  },
  {
   "cell_type": "code",
   "execution_count": 75,
   "outputs": [
    {
     "name": "stderr",
     "output_type": "stream",
     "text": [
      " 26%|██▌       | 18607/71879 [19:50<12:12, 72.70it/s]    "
     ]
    },
    {
     "ename": "KeyboardInterrupt",
     "evalue": "",
     "output_type": "error",
     "traceback": [
      "\u001B[0;31m---------------------------------------------------------------------------\u001B[0m",
      "\u001B[0;31mKeyboardInterrupt\u001B[0m                         Traceback (most recent call last)",
      "Cell \u001B[0;32mIn[75], line 1\u001B[0m\n\u001B[0;32m----> 1\u001B[0m vocab1 \u001B[38;5;241m=\u001B[39m \u001B[43m[\u001B[49m\u001B[43mx\u001B[49m\u001B[43m \u001B[49m\u001B[38;5;28;43;01mfor\u001B[39;49;00m\u001B[43m \u001B[49m\u001B[43mx\u001B[49m\u001B[43m \u001B[49m\u001B[38;5;129;43;01min\u001B[39;49;00m\u001B[43m \u001B[49m\u001B[43mtqdm\u001B[49m\u001B[43m(\u001B[49m\u001B[43mvocab\u001B[49m\u001B[43m)\u001B[49m\u001B[43m \u001B[49m\u001B[38;5;28;43;01mif\u001B[39;49;00m\u001B[43m \u001B[49m\u001B[43mx\u001B[49m\u001B[43m \u001B[49m\u001B[38;5;129;43;01min\u001B[39;49;00m\u001B[43m \u001B[49m\u001B[43mnames\u001B[49m\u001B[43m \u001B[49m\u001B[38;5;129;43;01mor\u001B[39;49;00m\u001B[43m \u001B[49m\u001B[43mx\u001B[49m\u001B[43m \u001B[49m\u001B[38;5;129;43;01min\u001B[39;49;00m\u001B[43m \u001B[49m\u001B[43mslovar\u001B[49m\u001B[43m]\u001B[49m\n",
      "Cell \u001B[0;32mIn[75], line 1\u001B[0m, in \u001B[0;36m<listcomp>\u001B[0;34m(.0)\u001B[0m\n\u001B[0;32m----> 1\u001B[0m vocab1 \u001B[38;5;241m=\u001B[39m [x \u001B[38;5;28;01mfor\u001B[39;00m x \u001B[38;5;129;01min\u001B[39;00m tqdm(vocab) \u001B[38;5;28;01mif\u001B[39;00m x \u001B[38;5;129;01min\u001B[39;00m names \u001B[38;5;129;01mor\u001B[39;00m x \u001B[38;5;129;01min\u001B[39;00m slovar]\n",
      "\u001B[0;31mKeyboardInterrupt\u001B[0m: "
     ]
    }
   ],
   "source": [
    "vocab1 = [x for x in tqdm(vocab) if x in names or x in slovar]"
   ],
   "metadata": {
    "collapsed": false,
    "pycharm": {
     "name": "#%%\n"
    }
   }
  },
  {
   "cell_type": "code",
   "execution_count": 77,
   "outputs": [],
   "source": [
    "vocab_df = pd.DataFrame()"
   ],
   "metadata": {
    "collapsed": false,
    "pycharm": {
     "name": "#%%\n"
    }
   }
  },
  {
   "cell_type": "code",
   "execution_count": 78,
   "outputs": [],
   "source": [
    "vocab_df['vocab'] = vocab"
   ],
   "metadata": {
    "collapsed": false,
    "pycharm": {
     "name": "#%%\n"
    }
   }
  },
  {
   "cell_type": "code",
   "execution_count": 79,
   "outputs": [],
   "source": [
    "names_df = pd.DataFrame()\n",
    "names_df['names'] = names"
   ],
   "metadata": {
    "collapsed": false,
    "pycharm": {
     "name": "#%%\n"
    }
   }
  },
  {
   "cell_type": "code",
   "execution_count": 80,
   "outputs": [],
   "source": [
    "slovar_df = pd.DataFrame()\n",
    "slovar_df['slovar'] = slovar"
   ],
   "metadata": {
    "collapsed": false,
    "pycharm": {
     "name": "#%%\n"
    }
   }
  },
  {
   "cell_type": "code",
   "execution_count": 86,
   "outputs": [],
   "source": [
    "vocab_list = vocab_df.loc[(vocab_df['vocab'].isin(names))|(vocab_df['vocab'].isin(slovar))]['vocab'].to_list()  # гораздо лучше"
   ],
   "metadata": {
    "collapsed": false,
    "pycharm": {
     "name": "#%%\n"
    }
   }
  },
  {
   "cell_type": "code",
   "execution_count": null,
   "outputs": [],
   "source": [],
   "metadata": {
    "collapsed": false,
    "pycharm": {
     "name": "#%%\n"
    }
   }
  },
  {
   "cell_type": "code",
   "execution_count": 90,
   "outputs": [
    {
     "data": {
      "text/plain": "1232"
     },
     "execution_count": 90,
     "metadata": {},
     "output_type": "execute_result"
    }
   ],
   "source": [
    "len(bag_vectors)"
   ],
   "metadata": {
    "collapsed": false,
    "pycharm": {
     "name": "#%%\n"
    }
   }
  },
  {
   "cell_type": "code",
   "execution_count": 100,
   "outputs": [],
   "source": [
    "vocab_vector_df = pd.DataFrame.from_dict(dict(zip(vocab_list, bag_vectors)), orient='index')"
   ],
   "metadata": {
    "collapsed": false,
    "pycharm": {
     "name": "#%%\n"
    }
   }
  },
  {
   "cell_type": "code",
   "execution_count": 101,
   "outputs": [
    {
     "data": {
      "text/plain": "(1232, 24492)"
     },
     "execution_count": 101,
     "metadata": {},
     "output_type": "execute_result"
    }
   ],
   "source": [
    "vocab_vector_df.shape"
   ],
   "metadata": {
    "collapsed": false,
    "pycharm": {
     "name": "#%%\n"
    }
   }
  },
  {
   "cell_type": "code",
   "execution_count": 102,
   "outputs": [
    {
     "data": {
      "text/plain": "                0      1      2      3      4      5      6      7      8       \nперебежать        0.0    0.0    0.0    0.0    0.0    0.0    0.0    0.0    0.0  \\\nкровяной          0.0    0.0    0.0    0.0    0.0    0.0    0.0    0.0    0.0   \nдавящий           0.0    0.0    0.0    0.0    0.0    0.0    0.0    0.0    0.0   \nкосов             0.0    0.0    0.0    0.0    0.0    0.0    0.0    0.0    0.0   \nвысоковольтный    0.0    0.0    0.0    0.0    0.0    0.0    0.0    0.0    0.0   \n...               ...    ...    ...    ...    ...    ...    ...    ...    ...   \nчеловечек         0.0    0.0    0.0    0.0    0.0    0.0    0.0    0.0    0.0   \nгосподин          0.0    0.0    0.0    0.0    0.0    0.0    0.0    0.0    0.0   \nраспад            0.0    0.0    0.0    0.0    0.0    0.0    0.0    0.0    0.0   \nшишкина           0.0    0.0    0.0    0.0    0.0    0.0    0.0    0.0    0.0   \nкрокодиловый      0.0    0.0    0.0    0.0    0.0    0.0    0.0    0.0    0.0   \n\n                9      ...  24482  24483  24484  24485  24486  24487  24488   \nперебежать        0.0  ...    0.0    0.0    0.0    0.0    0.0    0.0    0.0  \\\nкровяной          0.0  ...    0.0    0.0    0.0    0.0    0.0    0.0    0.0   \nдавящий           0.0  ...    0.0    0.0    0.0    0.0    0.0    0.0    0.0   \nкосов             0.0  ...    0.0    0.0    0.0    0.0    0.0    1.0    0.0   \nвысоковольтный    0.0  ...    0.0    0.0    0.0    0.0    0.0    0.0    0.0   \n...               ...  ...    ...    ...    ...    ...    ...    ...    ...   \nчеловечек         0.0  ...    0.0    0.0    0.0    0.0    0.0    0.0    0.0   \nгосподин          0.0  ...    0.0    0.0    0.0    0.0    0.0    0.0    0.0   \nраспад            0.0  ...    0.0    0.0    0.0    0.0    0.0    0.0    0.0   \nшишкина           0.0  ...    0.0    0.0    0.0    0.0    0.0    0.0    0.0   \nкрокодиловый      0.0  ...    0.0    0.0    0.0    0.0    0.0    0.0    0.0   \n\n                24489  24490  24491  \nперебежать        1.0    0.0    0.0  \nкровяной          0.0    0.0    0.0  \nдавящий           0.0    0.0    0.0  \nкосов             0.0    0.0    0.0  \nвысоковольтный    0.0    0.0    0.0  \n...               ...    ...    ...  \nчеловечек         0.0    0.0    0.0  \nгосподин          0.0    0.0    0.0  \nраспад            0.0    0.0    0.0  \nшишкина           0.0    0.0    0.0  \nкрокодиловый      0.0    0.0    0.0  \n\n[1232 rows x 24492 columns]",
      "text/html": "<div>\n<style scoped>\n    .dataframe tbody tr th:only-of-type {\n        vertical-align: middle;\n    }\n\n    .dataframe tbody tr th {\n        vertical-align: top;\n    }\n\n    .dataframe thead th {\n        text-align: right;\n    }\n</style>\n<table border=\"1\" class=\"dataframe\">\n  <thead>\n    <tr style=\"text-align: right;\">\n      <th></th>\n      <th>0</th>\n      <th>1</th>\n      <th>2</th>\n      <th>3</th>\n      <th>4</th>\n      <th>5</th>\n      <th>6</th>\n      <th>7</th>\n      <th>8</th>\n      <th>9</th>\n      <th>...</th>\n      <th>24482</th>\n      <th>24483</th>\n      <th>24484</th>\n      <th>24485</th>\n      <th>24486</th>\n      <th>24487</th>\n      <th>24488</th>\n      <th>24489</th>\n      <th>24490</th>\n      <th>24491</th>\n    </tr>\n  </thead>\n  <tbody>\n    <tr>\n      <th>перебежать</th>\n      <td>0.0</td>\n      <td>0.0</td>\n      <td>0.0</td>\n      <td>0.0</td>\n      <td>0.0</td>\n      <td>0.0</td>\n      <td>0.0</td>\n      <td>0.0</td>\n      <td>0.0</td>\n      <td>0.0</td>\n      <td>...</td>\n      <td>0.0</td>\n      <td>0.0</td>\n      <td>0.0</td>\n      <td>0.0</td>\n      <td>0.0</td>\n      <td>0.0</td>\n      <td>0.0</td>\n      <td>1.0</td>\n      <td>0.0</td>\n      <td>0.0</td>\n    </tr>\n    <tr>\n      <th>кровяной</th>\n      <td>0.0</td>\n      <td>0.0</td>\n      <td>0.0</td>\n      <td>0.0</td>\n      <td>0.0</td>\n      <td>0.0</td>\n      <td>0.0</td>\n      <td>0.0</td>\n      <td>0.0</td>\n      <td>0.0</td>\n      <td>...</td>\n      <td>0.0</td>\n      <td>0.0</td>\n      <td>0.0</td>\n      <td>0.0</td>\n      <td>0.0</td>\n      <td>0.0</td>\n      <td>0.0</td>\n      <td>0.0</td>\n      <td>0.0</td>\n      <td>0.0</td>\n    </tr>\n    <tr>\n      <th>давящий</th>\n      <td>0.0</td>\n      <td>0.0</td>\n      <td>0.0</td>\n      <td>0.0</td>\n      <td>0.0</td>\n      <td>0.0</td>\n      <td>0.0</td>\n      <td>0.0</td>\n      <td>0.0</td>\n      <td>0.0</td>\n      <td>...</td>\n      <td>0.0</td>\n      <td>0.0</td>\n      <td>0.0</td>\n      <td>0.0</td>\n      <td>0.0</td>\n      <td>0.0</td>\n      <td>0.0</td>\n      <td>0.0</td>\n      <td>0.0</td>\n      <td>0.0</td>\n    </tr>\n    <tr>\n      <th>косов</th>\n      <td>0.0</td>\n      <td>0.0</td>\n      <td>0.0</td>\n      <td>0.0</td>\n      <td>0.0</td>\n      <td>0.0</td>\n      <td>0.0</td>\n      <td>0.0</td>\n      <td>0.0</td>\n      <td>0.0</td>\n      <td>...</td>\n      <td>0.0</td>\n      <td>0.0</td>\n      <td>0.0</td>\n      <td>0.0</td>\n      <td>0.0</td>\n      <td>1.0</td>\n      <td>0.0</td>\n      <td>0.0</td>\n      <td>0.0</td>\n      <td>0.0</td>\n    </tr>\n    <tr>\n      <th>высоковольтный</th>\n      <td>0.0</td>\n      <td>0.0</td>\n      <td>0.0</td>\n      <td>0.0</td>\n      <td>0.0</td>\n      <td>0.0</td>\n      <td>0.0</td>\n      <td>0.0</td>\n      <td>0.0</td>\n      <td>0.0</td>\n      <td>...</td>\n      <td>0.0</td>\n      <td>0.0</td>\n      <td>0.0</td>\n      <td>0.0</td>\n      <td>0.0</td>\n      <td>0.0</td>\n      <td>0.0</td>\n      <td>0.0</td>\n      <td>0.0</td>\n      <td>0.0</td>\n    </tr>\n    <tr>\n      <th>...</th>\n      <td>...</td>\n      <td>...</td>\n      <td>...</td>\n      <td>...</td>\n      <td>...</td>\n      <td>...</td>\n      <td>...</td>\n      <td>...</td>\n      <td>...</td>\n      <td>...</td>\n      <td>...</td>\n      <td>...</td>\n      <td>...</td>\n      <td>...</td>\n      <td>...</td>\n      <td>...</td>\n      <td>...</td>\n      <td>...</td>\n      <td>...</td>\n      <td>...</td>\n      <td>...</td>\n    </tr>\n    <tr>\n      <th>человечек</th>\n      <td>0.0</td>\n      <td>0.0</td>\n      <td>0.0</td>\n      <td>0.0</td>\n      <td>0.0</td>\n      <td>0.0</td>\n      <td>0.0</td>\n      <td>0.0</td>\n      <td>0.0</td>\n      <td>0.0</td>\n      <td>...</td>\n      <td>0.0</td>\n      <td>0.0</td>\n      <td>0.0</td>\n      <td>0.0</td>\n      <td>0.0</td>\n      <td>0.0</td>\n      <td>0.0</td>\n      <td>0.0</td>\n      <td>0.0</td>\n      <td>0.0</td>\n    </tr>\n    <tr>\n      <th>господин</th>\n      <td>0.0</td>\n      <td>0.0</td>\n      <td>0.0</td>\n      <td>0.0</td>\n      <td>0.0</td>\n      <td>0.0</td>\n      <td>0.0</td>\n      <td>0.0</td>\n      <td>0.0</td>\n      <td>0.0</td>\n      <td>...</td>\n      <td>0.0</td>\n      <td>0.0</td>\n      <td>0.0</td>\n      <td>0.0</td>\n      <td>0.0</td>\n      <td>0.0</td>\n      <td>0.0</td>\n      <td>0.0</td>\n      <td>0.0</td>\n      <td>0.0</td>\n    </tr>\n    <tr>\n      <th>распад</th>\n      <td>0.0</td>\n      <td>0.0</td>\n      <td>0.0</td>\n      <td>0.0</td>\n      <td>0.0</td>\n      <td>0.0</td>\n      <td>0.0</td>\n      <td>0.0</td>\n      <td>0.0</td>\n      <td>0.0</td>\n      <td>...</td>\n      <td>0.0</td>\n      <td>0.0</td>\n      <td>0.0</td>\n      <td>0.0</td>\n      <td>0.0</td>\n      <td>0.0</td>\n      <td>0.0</td>\n      <td>0.0</td>\n      <td>0.0</td>\n      <td>0.0</td>\n    </tr>\n    <tr>\n      <th>шишкина</th>\n      <td>0.0</td>\n      <td>0.0</td>\n      <td>0.0</td>\n      <td>0.0</td>\n      <td>0.0</td>\n      <td>0.0</td>\n      <td>0.0</td>\n      <td>0.0</td>\n      <td>0.0</td>\n      <td>0.0</td>\n      <td>...</td>\n      <td>0.0</td>\n      <td>0.0</td>\n      <td>0.0</td>\n      <td>0.0</td>\n      <td>0.0</td>\n      <td>0.0</td>\n      <td>0.0</td>\n      <td>0.0</td>\n      <td>0.0</td>\n      <td>0.0</td>\n    </tr>\n    <tr>\n      <th>крокодиловый</th>\n      <td>0.0</td>\n      <td>0.0</td>\n      <td>0.0</td>\n      <td>0.0</td>\n      <td>0.0</td>\n      <td>0.0</td>\n      <td>0.0</td>\n      <td>0.0</td>\n      <td>0.0</td>\n      <td>0.0</td>\n      <td>...</td>\n      <td>0.0</td>\n      <td>0.0</td>\n      <td>0.0</td>\n      <td>0.0</td>\n      <td>0.0</td>\n      <td>0.0</td>\n      <td>0.0</td>\n      <td>0.0</td>\n      <td>0.0</td>\n      <td>0.0</td>\n    </tr>\n  </tbody>\n</table>\n<p>1232 rows × 24492 columns</p>\n</div>"
     },
     "execution_count": 102,
     "metadata": {},
     "output_type": "execute_result"
    }
   ],
   "source": [
    "vocab_vector_df"
   ],
   "metadata": {
    "collapsed": false,
    "pycharm": {
     "name": "#%%\n"
    }
   }
  },
  {
   "cell_type": "code",
   "execution_count": 107,
   "outputs": [],
   "source": [
    "vocab_vector_df = pd.DataFrame(columns=vocab_list)"
   ],
   "metadata": {
    "collapsed": false,
    "pycharm": {
     "name": "#%%\n"
    }
   }
  },
  {
   "cell_type": "code",
   "execution_count": 89,
   "outputs": [],
   "source": [
    "vocab_vector_df = pd.DataFrame(bag_vectors, columns=vocab)"
   ],
   "metadata": {
    "collapsed": false,
    "pycharm": {
     "name": "#%%\n"
    }
   }
  },
  {
   "cell_type": "code",
   "execution_count": 90,
   "outputs": [
    {
     "data": {
      "text/plain": "(1232, 12667)"
     },
     "execution_count": 90,
     "metadata": {},
     "output_type": "execute_result"
    }
   ],
   "source": [
    "vocab_vector_df.shape"
   ],
   "metadata": {
    "collapsed": false,
    "pycharm": {
     "name": "#%%\n"
    }
   }
  },
  {
   "cell_type": "code",
   "execution_count": 92,
   "outputs": [],
   "source": [
    "vocab_vector_df.to_excel('vocab_vectors.xlsx', index=False)"
   ],
   "metadata": {
    "collapsed": false,
    "pycharm": {
     "name": "#%%\n"
    }
   }
  },
  {
   "cell_type": "code",
   "execution_count": 6,
   "outputs": [],
   "source": [
    "vocab_vector_df = pd.read_excel('vocab_vectors.xlsx')"
   ],
   "metadata": {
    "collapsed": false,
    "pycharm": {
     "name": "#%%\n"
    }
   }
  },
  {
   "cell_type": "code",
   "execution_count": 8,
   "outputs": [
    {
     "data": {
      "text/plain": "      аббас  абдулл  абитуриент  абляз  абонемент  абонент  абонентск  абориг   \n0         0       0           0      0          0        0          0       0  \\\n1         0       0           0      0          0        0          0       0   \n2         0       0           0      0          0        0          0       0   \n3         0       0           0      0          0        0          0       0   \n4         0       0           0      0          0        0          0       0   \n...     ...     ...         ...    ...        ...      ...        ...     ...   \n1227      0       0           0      0          0        0          0       0   \n1228      0       0           0      0          0        0          0       0   \n1229      0       0           0      0          0        0          0       0   \n1230      0       0           0      0          0        0          0       0   \n1231      0       0           0      0          0        0          0       0   \n\n      аборт  абрамович  ...  ясл  ясност  ястреб  яхт  яхтсм  ячейк  яшин   \n0         0          0  ...    0       0       0    0      0      0     0  \\\n1         0          0  ...    0       0       0    0      0      0     0   \n2         0          0  ...    0       0       0    0      0      0     0   \n3         0          0  ...    0       0       0    0      0      0     0   \n4         3          0  ...    0       0       0    0      0      0     0   \n...     ...        ...  ...  ...     ...     ...  ...    ...    ...   ...   \n1227      0          0  ...    0       0       0    0      0      0     0   \n1228      0          0  ...    0       0       0    0      0      0     0   \n1229      0          0  ...    0       0       0    0      0      0     0   \n1230      0          0  ...    0       0       0    0      0      0     0   \n1231      0          0  ...    0       0       0    0      0      0     0   \n\n      ящер  ящериц  ящик  \n0        0       0     0  \n1        0       0     0  \n2        0       0     0  \n3        0       0     0  \n4        0       0     0  \n...    ...     ...   ...  \n1227     0       0     0  \n1228     0       0     0  \n1229     0       0     0  \n1230     0       0     0  \n1231     0       0     0  \n\n[1232 rows x 12667 columns]",
      "text/html": "<div>\n<style scoped>\n    .dataframe tbody tr th:only-of-type {\n        vertical-align: middle;\n    }\n\n    .dataframe tbody tr th {\n        vertical-align: top;\n    }\n\n    .dataframe thead th {\n        text-align: right;\n    }\n</style>\n<table border=\"1\" class=\"dataframe\">\n  <thead>\n    <tr style=\"text-align: right;\">\n      <th></th>\n      <th>аббас</th>\n      <th>абдулл</th>\n      <th>абитуриент</th>\n      <th>абляз</th>\n      <th>абонемент</th>\n      <th>абонент</th>\n      <th>абонентск</th>\n      <th>абориг</th>\n      <th>аборт</th>\n      <th>абрамович</th>\n      <th>...</th>\n      <th>ясл</th>\n      <th>ясност</th>\n      <th>ястреб</th>\n      <th>яхт</th>\n      <th>яхтсм</th>\n      <th>ячейк</th>\n      <th>яшин</th>\n      <th>ящер</th>\n      <th>ящериц</th>\n      <th>ящик</th>\n    </tr>\n  </thead>\n  <tbody>\n    <tr>\n      <th>0</th>\n      <td>0</td>\n      <td>0</td>\n      <td>0</td>\n      <td>0</td>\n      <td>0</td>\n      <td>0</td>\n      <td>0</td>\n      <td>0</td>\n      <td>0</td>\n      <td>0</td>\n      <td>...</td>\n      <td>0</td>\n      <td>0</td>\n      <td>0</td>\n      <td>0</td>\n      <td>0</td>\n      <td>0</td>\n      <td>0</td>\n      <td>0</td>\n      <td>0</td>\n      <td>0</td>\n    </tr>\n    <tr>\n      <th>1</th>\n      <td>0</td>\n      <td>0</td>\n      <td>0</td>\n      <td>0</td>\n      <td>0</td>\n      <td>0</td>\n      <td>0</td>\n      <td>0</td>\n      <td>0</td>\n      <td>0</td>\n      <td>...</td>\n      <td>0</td>\n      <td>0</td>\n      <td>0</td>\n      <td>0</td>\n      <td>0</td>\n      <td>0</td>\n      <td>0</td>\n      <td>0</td>\n      <td>0</td>\n      <td>0</td>\n    </tr>\n    <tr>\n      <th>2</th>\n      <td>0</td>\n      <td>0</td>\n      <td>0</td>\n      <td>0</td>\n      <td>0</td>\n      <td>0</td>\n      <td>0</td>\n      <td>0</td>\n      <td>0</td>\n      <td>0</td>\n      <td>...</td>\n      <td>0</td>\n      <td>0</td>\n      <td>0</td>\n      <td>0</td>\n      <td>0</td>\n      <td>0</td>\n      <td>0</td>\n      <td>0</td>\n      <td>0</td>\n      <td>0</td>\n    </tr>\n    <tr>\n      <th>3</th>\n      <td>0</td>\n      <td>0</td>\n      <td>0</td>\n      <td>0</td>\n      <td>0</td>\n      <td>0</td>\n      <td>0</td>\n      <td>0</td>\n      <td>0</td>\n      <td>0</td>\n      <td>...</td>\n      <td>0</td>\n      <td>0</td>\n      <td>0</td>\n      <td>0</td>\n      <td>0</td>\n      <td>0</td>\n      <td>0</td>\n      <td>0</td>\n      <td>0</td>\n      <td>0</td>\n    </tr>\n    <tr>\n      <th>4</th>\n      <td>0</td>\n      <td>0</td>\n      <td>0</td>\n      <td>0</td>\n      <td>0</td>\n      <td>0</td>\n      <td>0</td>\n      <td>0</td>\n      <td>3</td>\n      <td>0</td>\n      <td>...</td>\n      <td>0</td>\n      <td>0</td>\n      <td>0</td>\n      <td>0</td>\n      <td>0</td>\n      <td>0</td>\n      <td>0</td>\n      <td>0</td>\n      <td>0</td>\n      <td>0</td>\n    </tr>\n    <tr>\n      <th>...</th>\n      <td>...</td>\n      <td>...</td>\n      <td>...</td>\n      <td>...</td>\n      <td>...</td>\n      <td>...</td>\n      <td>...</td>\n      <td>...</td>\n      <td>...</td>\n      <td>...</td>\n      <td>...</td>\n      <td>...</td>\n      <td>...</td>\n      <td>...</td>\n      <td>...</td>\n      <td>...</td>\n      <td>...</td>\n      <td>...</td>\n      <td>...</td>\n      <td>...</td>\n      <td>...</td>\n    </tr>\n    <tr>\n      <th>1227</th>\n      <td>0</td>\n      <td>0</td>\n      <td>0</td>\n      <td>0</td>\n      <td>0</td>\n      <td>0</td>\n      <td>0</td>\n      <td>0</td>\n      <td>0</td>\n      <td>0</td>\n      <td>...</td>\n      <td>0</td>\n      <td>0</td>\n      <td>0</td>\n      <td>0</td>\n      <td>0</td>\n      <td>0</td>\n      <td>0</td>\n      <td>0</td>\n      <td>0</td>\n      <td>0</td>\n    </tr>\n    <tr>\n      <th>1228</th>\n      <td>0</td>\n      <td>0</td>\n      <td>0</td>\n      <td>0</td>\n      <td>0</td>\n      <td>0</td>\n      <td>0</td>\n      <td>0</td>\n      <td>0</td>\n      <td>0</td>\n      <td>...</td>\n      <td>0</td>\n      <td>0</td>\n      <td>0</td>\n      <td>0</td>\n      <td>0</td>\n      <td>0</td>\n      <td>0</td>\n      <td>0</td>\n      <td>0</td>\n      <td>0</td>\n    </tr>\n    <tr>\n      <th>1229</th>\n      <td>0</td>\n      <td>0</td>\n      <td>0</td>\n      <td>0</td>\n      <td>0</td>\n      <td>0</td>\n      <td>0</td>\n      <td>0</td>\n      <td>0</td>\n      <td>0</td>\n      <td>...</td>\n      <td>0</td>\n      <td>0</td>\n      <td>0</td>\n      <td>0</td>\n      <td>0</td>\n      <td>0</td>\n      <td>0</td>\n      <td>0</td>\n      <td>0</td>\n      <td>0</td>\n    </tr>\n    <tr>\n      <th>1230</th>\n      <td>0</td>\n      <td>0</td>\n      <td>0</td>\n      <td>0</td>\n      <td>0</td>\n      <td>0</td>\n      <td>0</td>\n      <td>0</td>\n      <td>0</td>\n      <td>0</td>\n      <td>...</td>\n      <td>0</td>\n      <td>0</td>\n      <td>0</td>\n      <td>0</td>\n      <td>0</td>\n      <td>0</td>\n      <td>0</td>\n      <td>0</td>\n      <td>0</td>\n      <td>0</td>\n    </tr>\n    <tr>\n      <th>1231</th>\n      <td>0</td>\n      <td>0</td>\n      <td>0</td>\n      <td>0</td>\n      <td>0</td>\n      <td>0</td>\n      <td>0</td>\n      <td>0</td>\n      <td>0</td>\n      <td>0</td>\n      <td>...</td>\n      <td>0</td>\n      <td>0</td>\n      <td>0</td>\n      <td>0</td>\n      <td>0</td>\n      <td>0</td>\n      <td>0</td>\n      <td>0</td>\n      <td>0</td>\n      <td>0</td>\n    </tr>\n  </tbody>\n</table>\n<p>1232 rows × 12667 columns</p>\n</div>"
     },
     "execution_count": 8,
     "metadata": {},
     "output_type": "execute_result"
    }
   ],
   "source": [
    "vocab_vector_df"
   ],
   "metadata": {
    "collapsed": false,
    "pycharm": {
     "name": "#%%\n"
    }
   }
  },
  {
   "cell_type": "code",
   "execution_count": null,
   "outputs": [],
   "source": [],
   "metadata": {
    "collapsed": false,
    "pycharm": {
     "name": "#%%\n"
    }
   }
  },
  {
   "cell_type": "code",
   "execution_count": 120,
   "outputs": [],
   "source": [
    "column_sums = vocab_vector_df.sum(axis=0).to_frame()"
   ],
   "metadata": {
    "collapsed": false,
    "pycharm": {
     "name": "#%%\n"
    }
   }
  },
  {
   "cell_type": "code",
   "execution_count": 123,
   "outputs": [],
   "source": [
    "column_sums = column_sums.rename(columns={0:'freq'})"
   ],
   "metadata": {
    "collapsed": false,
    "pycharm": {
     "name": "#%%\n"
    }
   }
  },
  {
   "cell_type": "code",
   "execution_count": 127,
   "outputs": [],
   "source": [
    "column_sums.sort_values(by='freq', ascending=False).reset_index().to_excel('most_frequent_tokens.xlsx', index=False)"
   ],
   "metadata": {
    "collapsed": false,
    "pycharm": {
     "name": "#%%\n"
    }
   }
  },
  {
   "cell_type": "code",
   "execution_count": null,
   "outputs": [],
   "source": [
    "column_sums"
   ],
   "metadata": {
    "collapsed": false,
    "pycharm": {
     "name": "#%%\n"
    }
   }
  },
  {
   "cell_type": "code",
   "execution_count": 1,
   "outputs": [
    {
     "data": {
      "text/plain": "2"
     },
     "execution_count": 1,
     "metadata": {},
     "output_type": "execute_result"
    }
   ],
   "source": [],
   "metadata": {
    "collapsed": false,
    "pycharm": {
     "name": "#%%\n"
    }
   }
  },
  {
   "cell_type": "code",
   "execution_count": 4,
   "outputs": [],
   "source": [
    "column_sums = pd.read_excel('most_frequent_tokens.xlsx')"
   ],
   "metadata": {
    "collapsed": false,
    "pycharm": {
     "name": "#%%\n"
    }
   }
  },
  {
   "cell_type": "code",
   "execution_count": 24,
   "outputs": [],
   "source": [
    "tokens_df = column_sums.rename(columns={'index': 'token'})"
   ],
   "metadata": {
    "collapsed": false,
    "pycharm": {
     "name": "#%%\n"
    }
   }
  },
  {
   "cell_type": "code",
   "execution_count": 26,
   "outputs": [
    {
     "data": {
      "text/plain": "Index(['token', 'freq'], dtype='object')"
     },
     "execution_count": 26,
     "metadata": {},
     "output_type": "execute_result"
    }
   ],
   "source": [
    "tokens_df.columns"
   ],
   "metadata": {
    "collapsed": false,
    "pycharm": {
     "name": "#%%\n"
    }
   }
  },
  {
   "cell_type": "code",
   "execution_count": 35,
   "outputs": [
    {
     "data": {
      "text/plain": "                 token   freq           root\n0               россия  11543           росс\n1           российский   8538       российск\n2             называть   7760         называ\n3            россиянин   5272      россиянин\n4                путин   5184          путин\n...                ...    ...            ...\n24487           ивлеев      1           ивле\n24488  двухступенчатый      1  двухступенчат\n24489   девятимесячный      1   девятимесячн\n24490  сосуществование      1  сосуществован\n24491         луцкевич      1       луцкевич\n\n[24492 rows x 3 columns]",
      "text/html": "<div>\n<style scoped>\n    .dataframe tbody tr th:only-of-type {\n        vertical-align: middle;\n    }\n\n    .dataframe tbody tr th {\n        vertical-align: top;\n    }\n\n    .dataframe thead th {\n        text-align: right;\n    }\n</style>\n<table border=\"1\" class=\"dataframe\">\n  <thead>\n    <tr style=\"text-align: right;\">\n      <th></th>\n      <th>token</th>\n      <th>freq</th>\n      <th>root</th>\n    </tr>\n  </thead>\n  <tbody>\n    <tr>\n      <th>0</th>\n      <td>россия</td>\n      <td>11543</td>\n      <td>росс</td>\n    </tr>\n    <tr>\n      <th>1</th>\n      <td>российский</td>\n      <td>8538</td>\n      <td>российск</td>\n    </tr>\n    <tr>\n      <th>2</th>\n      <td>называть</td>\n      <td>7760</td>\n      <td>называ</td>\n    </tr>\n    <tr>\n      <th>3</th>\n      <td>россиянин</td>\n      <td>5272</td>\n      <td>россиянин</td>\n    </tr>\n    <tr>\n      <th>4</th>\n      <td>путин</td>\n      <td>5184</td>\n      <td>путин</td>\n    </tr>\n    <tr>\n      <th>...</th>\n      <td>...</td>\n      <td>...</td>\n      <td>...</td>\n    </tr>\n    <tr>\n      <th>24487</th>\n      <td>ивлеев</td>\n      <td>1</td>\n      <td>ивле</td>\n    </tr>\n    <tr>\n      <th>24488</th>\n      <td>двухступенчатый</td>\n      <td>1</td>\n      <td>двухступенчат</td>\n    </tr>\n    <tr>\n      <th>24489</th>\n      <td>девятимесячный</td>\n      <td>1</td>\n      <td>девятимесячн</td>\n    </tr>\n    <tr>\n      <th>24490</th>\n      <td>сосуществование</td>\n      <td>1</td>\n      <td>сосуществован</td>\n    </tr>\n    <tr>\n      <th>24491</th>\n      <td>луцкевич</td>\n      <td>1</td>\n      <td>луцкевич</td>\n    </tr>\n  </tbody>\n</table>\n<p>24492 rows × 3 columns</p>\n</div>"
     },
     "execution_count": 35,
     "metadata": {},
     "output_type": "execute_result"
    }
   ],
   "source": [
    "tokens_df"
   ],
   "metadata": {
    "collapsed": false,
    "pycharm": {
     "name": "#%%\n"
    }
   }
  },
  {
   "cell_type": "code",
   "execution_count": 37,
   "outputs": [],
   "source": [],
   "metadata": {
    "collapsed": false,
    "pycharm": {
     "name": "#%%\n"
    }
   }
  },
  {
   "cell_type": "code",
   "execution_count": null,
   "outputs": [],
   "source": [],
   "metadata": {
    "collapsed": false,
    "pycharm": {
     "name": "#%%\n"
    }
   }
  },
  {
   "cell_type": "code",
   "execution_count": null,
   "outputs": [],
   "source": [],
   "metadata": {
    "collapsed": false,
    "pycharm": {
     "name": "#%%\n"
    }
   }
  },
  {
   "cell_type": "code",
   "execution_count": 27,
   "outputs": [],
   "source": [
    "tokens_df['root'] = tokens_df['token'].apply(lambda x: stemmer.stem(x))"
   ],
   "metadata": {
    "collapsed": false,
    "pycharm": {
     "name": "#%%\n"
    }
   }
  },
  {
   "cell_type": "code",
   "execution_count": 30,
   "outputs": [],
   "source": [
    "rooted_tokens_df = tokens_df[['root', 'freq']].groupby('root').agg({'freq': 'sum'}).reset_index()"
   ],
   "metadata": {
    "collapsed": false,
    "pycharm": {
     "name": "#%%\n"
    }
   }
  },
  {
   "cell_type": "code",
   "execution_count": 40,
   "outputs": [
    {
     "data": {
      "text/plain": "            root   freq      perc\n16420       росс  11547  1.526860\n16422   российск   8538  1.128980\n9654      называ   7761  1.026237\n16424  россиянин   5272  0.697117\n15416      путин   5227  0.691166\n...          ...    ...       ...\n10941    обидчив      1  0.000132\n10950   обиталищ      1  0.000132\n10952     обител      1  0.000132\n10953        обк      1  0.000132\n21697       ящур      1  0.000132\n\n[21698 rows x 3 columns]",
      "text/html": "<div>\n<style scoped>\n    .dataframe tbody tr th:only-of-type {\n        vertical-align: middle;\n    }\n\n    .dataframe tbody tr th {\n        vertical-align: top;\n    }\n\n    .dataframe thead th {\n        text-align: right;\n    }\n</style>\n<table border=\"1\" class=\"dataframe\">\n  <thead>\n    <tr style=\"text-align: right;\">\n      <th></th>\n      <th>root</th>\n      <th>freq</th>\n      <th>perc</th>\n    </tr>\n  </thead>\n  <tbody>\n    <tr>\n      <th>16420</th>\n      <td>росс</td>\n      <td>11547</td>\n      <td>1.526860</td>\n    </tr>\n    <tr>\n      <th>16422</th>\n      <td>российск</td>\n      <td>8538</td>\n      <td>1.128980</td>\n    </tr>\n    <tr>\n      <th>9654</th>\n      <td>называ</td>\n      <td>7761</td>\n      <td>1.026237</td>\n    </tr>\n    <tr>\n      <th>16424</th>\n      <td>россиянин</td>\n      <td>5272</td>\n      <td>0.697117</td>\n    </tr>\n    <tr>\n      <th>15416</th>\n      <td>путин</td>\n      <td>5227</td>\n      <td>0.691166</td>\n    </tr>\n    <tr>\n      <th>...</th>\n      <td>...</td>\n      <td>...</td>\n      <td>...</td>\n    </tr>\n    <tr>\n      <th>10941</th>\n      <td>обидчив</td>\n      <td>1</td>\n      <td>0.000132</td>\n    </tr>\n    <tr>\n      <th>10950</th>\n      <td>обиталищ</td>\n      <td>1</td>\n      <td>0.000132</td>\n    </tr>\n    <tr>\n      <th>10952</th>\n      <td>обител</td>\n      <td>1</td>\n      <td>0.000132</td>\n    </tr>\n    <tr>\n      <th>10953</th>\n      <td>обк</td>\n      <td>1</td>\n      <td>0.000132</td>\n    </tr>\n    <tr>\n      <th>21697</th>\n      <td>ящур</td>\n      <td>1</td>\n      <td>0.000132</td>\n    </tr>\n  </tbody>\n</table>\n<p>21698 rows × 3 columns</p>\n</div>"
     },
     "execution_count": 40,
     "metadata": {},
     "output_type": "execute_result"
    }
   ],
   "source": [
    "rooted_tokens_df.sort_values(by='freq', ascending=False)"
   ],
   "metadata": {
    "collapsed": false,
    "pycharm": {
     "name": "#%%\n"
    }
   }
  },
  {
   "cell_type": "code",
   "execution_count": 84,
   "outputs": [],
   "source": [
    "choosed_roots = rooted_tokens_df.loc[rooted_tokens_df['freq']>2]['root'].to_list()[2:]"
   ],
   "metadata": {
    "collapsed": false,
    "pycharm": {
     "name": "#%%\n"
    }
   }
  },
  {
   "cell_type": "code",
   "execution_count": null,
   "outputs": [],
   "source": [
    "# todo оставим только слова от 2х повторений и среди них посчитаем корреляцию"
   ],
   "metadata": {
    "collapsed": false,
    "pycharm": {
     "name": "#%%\n"
    }
   }
  },
  {
   "cell_type": "code",
   "execution_count": null,
   "outputs": [],
   "source": [],
   "metadata": {
    "collapsed": false,
    "pycharm": {
     "name": "#%%\n"
    }
   }
  },
  {
   "cell_type": "code",
   "execution_count": null,
   "outputs": [],
   "source": [],
   "metadata": {
    "collapsed": false,
    "pycharm": {
     "name": "#%%\n"
    }
   }
  },
  {
   "cell_type": "code",
   "execution_count": null,
   "outputs": [],
   "source": [],
   "metadata": {
    "collapsed": false,
    "pycharm": {
     "name": "#%%\n"
    }
   }
  },
  {
   "cell_type": "code",
   "execution_count": null,
   "outputs": [],
   "source": [],
   "metadata": {
    "collapsed": false,
    "pycharm": {
     "name": "#%%\n"
    }
   }
  },
  {
   "cell_type": "code",
   "execution_count": null,
   "outputs": [],
   "source": [],
   "metadata": {
    "collapsed": false,
    "pycharm": {
     "name": "#%%\n"
    }
   }
  },
  {
   "cell_type": "code",
   "execution_count": 42,
   "outputs": [
    {
     "data": {
      "text/plain": "Index(['root', 'freq', 'perc'], dtype='object')"
     },
     "execution_count": 42,
     "metadata": {},
     "output_type": "execute_result"
    }
   ],
   "source": [
    "rooted_tokens_df.columns"
   ],
   "metadata": {
    "collapsed": false,
    "pycharm": {
     "name": "#%%\n"
    }
   }
  },
  {
   "cell_type": "code",
   "execution_count": 4,
   "outputs": [],
   "source": [
    "import seaborn as sns\n",
    "import matplotlib.pyplot as plt"
   ],
   "metadata": {
    "collapsed": false,
    "pycharm": {
     "name": "#%%\n"
    }
   }
  },
  {
   "cell_type": "code",
   "execution_count": 45,
   "outputs": [
    {
     "data": {
      "text/plain": "<Figure size 1200x600 with 1 Axes>",
      "image/png": "[encoded data removed]"
     },
     "metadata": {},
     "output_type": "display_data"
    }
   ],
   "source": [
    "sns.set(style=\"whitegrid\")\n",
    "plt.figure(figsize=(12, 6))\n",
    "\n",
    "# Create a box plot for the 'freq' column\n",
    "sns.boxplot(x=rooted_tokens_df['freq'])\n",
    "\n",
    "# Add title and labels\n",
    "plt.title(\"Distribution of Frequencies\")\n",
    "plt.xlabel(\"Frequency\")\n",
    "\n",
    "# Display the plot\n",
    "plt.show()"
   ],
   "metadata": {
    "collapsed": false,
    "pycharm": {
     "name": "#%%\n"
    }
   }
  },
  {
   "cell_type": "code",
   "execution_count": 46,
   "outputs": [
    {
     "name": "stdout",
     "output_type": "stream",
     "text": [
      "25th percentile (Q1): 1.0\n",
      "50th percentile (Q2, Median): 4.0\n",
      "75th percentile (Q3): 15.0\n"
     ]
    }
   ],
   "source": [
    "q1 = rooted_tokens_df['freq'].quantile(0.25)\n",
    "q2 = rooted_tokens_df['freq'].quantile(0.5)\n",
    "q3 = rooted_tokens_df['freq'].quantile(0.75)\n",
    "\n",
    "# Print quantiles\n",
    "print(f\"25th percentile (Q1): {q1}\")\n",
    "print(f\"50th percentile (Q2, Median): {q2}\")\n",
    "print(f\"75th percentile (Q3): {q3}\")"
   ],
   "metadata": {
    "collapsed": false,
    "pycharm": {
     "name": "#%%\n"
    }
   }
  },
  {
   "cell_type": "code",
   "execution_count": null,
   "outputs": [],
   "source": [],
   "metadata": {
    "collapsed": false,
    "pycharm": {
     "name": "#%%\n"
    }
   }
  },
  {
   "cell_type": "code",
   "execution_count": 39,
   "outputs": [],
   "source": [
    "rooted_tokens_df['perc'] = 100 * (rooted_tokens_df['freq'] / rooted_tokens_df['freq'].sum())"
   ],
   "metadata": {
    "collapsed": false,
    "pycharm": {
     "name": "#%%\n"
    }
   }
  },
  {
   "cell_type": "code",
   "execution_count": null,
   "outputs": [],
   "source": [],
   "metadata": {
    "collapsed": false,
    "pycharm": {
     "name": "#%%\n"
    }
   }
  },
  {
   "cell_type": "code",
   "execution_count": 11,
   "outputs": [],
   "source": [
    "from nltk.stem.snowball import SnowballStemmer"
   ],
   "metadata": {
    "collapsed": false,
    "pycharm": {
     "name": "#%%\n"
    }
   }
  },
  {
   "cell_type": "code",
   "execution_count": null,
   "outputs": [],
   "source": [],
   "metadata": {
    "collapsed": false,
    "pycharm": {
     "name": "#%%\n"
    }
   }
  },
  {
   "cell_type": "code",
   "execution_count": 12,
   "outputs": [],
   "source": [
    "stemmer = SnowballStemmer(\"russian\")"
   ],
   "metadata": {
    "collapsed": false,
    "pycharm": {
     "name": "#%%\n"
    }
   }
  },
  {
   "cell_type": "code",
   "execution_count": 13,
   "outputs": [],
   "source": [
    "def remove_single_root_words(text, stemmer):\n",
    "    words = nltk.word_tokenize(text)\n",
    "    stemmed_words = [stemmer.stem(word) for word in words]\n",
    "    final_words = [word for word in words if stemmed_words.count(stemmer.stem(word)) > 1]\n",
    "    return ' '.join(final_words)"
   ],
   "metadata": {
    "collapsed": false,
    "pycharm": {
     "name": "#%%\n"
    }
   }
  },
  {
   "cell_type": "code",
   "execution_count": 14,
   "outputs": [],
   "source": [
    "stemmed_words = [stemmer.stem(word) for word in tokens_df['token'].to_list()]"
   ],
   "metadata": {
    "collapsed": false,
    "pycharm": {
     "name": "#%%\n"
    }
   }
  },
  {
   "cell_type": "code",
   "execution_count": 15,
   "outputs": [],
   "source": [
    "final_words = [word for word in tokens_df['token'].to_list() if stemmed_words.count(stemmer.stem(word)) > 1]"
   ],
   "metadata": {
    "collapsed": false,
    "pycharm": {
     "name": "#%%\n"
    }
   }
  },
  {
   "cell_type": "code",
   "execution_count": 16,
   "outputs": [
    {
     "data": {
      "text/plain": "5149"
     },
     "execution_count": 16,
     "metadata": {},
     "output_type": "execute_result"
    }
   ],
   "source": [
    "len(final_words)"
   ],
   "metadata": {
    "collapsed": false,
    "pycharm": {
     "name": "#%%\n"
    }
   }
  },
  {
   "cell_type": "code",
   "execution_count": 34,
   "outputs": [
    {
     "data": {
      "text/plain": "['россия',\n 'называть',\n 'путин',\n 'новый',\n 'находить',\n 'отказываться',\n 'заявлять',\n 'обвинять',\n 'раскрывать',\n 'суд',\n 'задерживать',\n 'дело',\n 'объяснять',\n 'киев',\n 'свой',\n 'призывать',\n 'получать',\n 'начинать',\n 'решать',\n 'оказываться',\n 'признавать',\n 'миллион',\n 'первый',\n 'объявлять',\n 'банк',\n 'сеть',\n 'показывать',\n 'захотеть',\n 'цена',\n 'попросить',\n 'попадать',\n 'обнаруживать',\n 'узнавать',\n 'потребовать',\n 'создавать',\n 'число',\n 'дом',\n 'главный',\n 'китай',\n 'страна',\n 'газ',\n 'ученый',\n 'медведев',\n 'умирать',\n 'впервые',\n 'устраивать',\n 'ради',\n 'отправлять',\n 'снимать',\n 'пожаловаться',\n 'школьник',\n 'разрешать',\n 'мир',\n 'нато',\n 'подел',\n 'подробность',\n 'весь',\n 'рост',\n 'пожар',\n 'открывать',\n 'проводить',\n 'выборы',\n 'армия',\n 'машина',\n 'сирия',\n 'увольнять',\n 'крупный',\n 'мэр',\n 'возбуждать',\n 'германия',\n 'вернуть',\n 'принимать',\n 'рад',\n 'курс',\n 'вводить',\n 'евро',\n 'закон',\n 'продавать',\n 'проверять',\n 'спасать',\n 'летний',\n 'место',\n 'попытаться',\n 'подавать',\n 'семья',\n 'известный',\n 'выходить',\n 'мать',\n 'лавров',\n 'подозреваемый',\n 'долг',\n 'жена',\n 'задумываться',\n 'партия',\n 'иго',\n 'подтверждать',\n 'посоветовать',\n 'опасный',\n 'метро',\n 'увеличивать',\n 'право',\n 'дорога',\n 'слово',\n 'пять',\n 'второй',\n 'начинаться',\n 'белый',\n 'лишать',\n 'собираться',\n 'пострадать',\n 'море',\n 'сбивать',\n 'сравнивать',\n 'определять',\n 'популярный',\n 'массовый',\n 'устанавливать',\n 'представлять',\n 'возможность',\n 'закрывать',\n 'часть',\n 'отчитываться',\n 'крымский',\n 'уходить',\n 'неизвестный',\n 'имя',\n 'данные',\n 'премьер',\n 'протест',\n 'взять',\n 'завод',\n 'колония',\n 'солдат',\n 'возможный',\n 'черный',\n 'заниматься',\n 'прекращать',\n 'отказывать',\n 'купить',\n 'застреливать',\n 'выдавать',\n 'освобождать',\n 'вода',\n 'проходить',\n 'скорый',\n 'снова',\n 'уничтожать',\n 'вернуться',\n 'большой',\n 'действие',\n 'развитие',\n 'признаваться',\n 'дипломат',\n 'пенсия',\n 'передавать',\n 'повышать',\n 'потерять',\n 'известно',\n 'подписывать',\n 'наркотик',\n 'доход',\n 'разбиваться',\n 'танк',\n 'защищать',\n 'рада',\n 'поручать',\n 'участие',\n 'древний',\n 'приходить',\n 'задумывать',\n 'захватить',\n 'ким',\n 'отзывать',\n 'магазин',\n 'обязывать',\n 'вызывать',\n 'ведущий',\n 'вновь',\n 'экономический',\n 'собирать',\n 'связывать',\n 'снижать',\n 'садиться',\n 'су',\n 'шесть',\n 'высказываться',\n 'заключенный',\n 'учение',\n 'молодой',\n 'отмечать',\n 'сокращать',\n 'безопасность',\n 'бомба',\n 'опасность',\n 'покидать',\n 'богатый',\n 'извиняться',\n 'заинтересовываться',\n 'входить',\n 'испугаться',\n 'высокий',\n 'кредит',\n 'заводить',\n 'собственный',\n 'вместо',\n 'повышение',\n 'направлять',\n 'рекордный',\n 'выражать',\n 'воробей',\n 'политик',\n 'ес',\n 'потратить',\n 'час',\n 'виновный',\n 'случайно',\n 'ограничивать',\n 'выбирать',\n 'зарабатывать',\n 'среди',\n 'приготавливаться',\n 'отель',\n 'останавливать',\n 'медведь',\n 'посадить',\n 'объект',\n 'дорогой',\n 'семь',\n 'превращать',\n 'открываться',\n 'пытаться',\n 'коллега',\n 'возобновлять',\n 'вооруженный',\n 'ударять',\n 'цель',\n 'политика',\n 'использовать',\n 'вносить',\n 'загораться',\n 'взрывать',\n 'правый',\n 'загадочный',\n 'пускать',\n 'расход',\n 'банда',\n 'отсутствие',\n 'лишаться',\n 'визит',\n 'брат',\n 'предполагать',\n 'пост',\n 'оборона',\n 'бросать',\n 'телефон',\n 'восточный',\n 'почта',\n 'эвакуировать',\n 'официальный',\n 'домашний',\n 'выход',\n 'секретный',\n 'ответственность',\n 'лицо',\n 'правило',\n 'встречаться',\n 'сохранять',\n 'судно',\n 'приостанавливать',\n 'сталкиваться',\n 'мощный',\n 'завершать',\n 'продолжать',\n 'научать',\n 'ранить',\n 'резко',\n 'научаться',\n 'восстанавливать',\n 'вооружение',\n 'след',\n 'технология',\n 'судья',\n 'фотография',\n 'будущее',\n 'третий',\n 'считать',\n 'данный',\n 'вина',\n 'плохой',\n 'тайна',\n 'изменять',\n 'национальный',\n 'вес',\n 'район',\n 'доля',\n 'обвиняемый',\n 'старый',\n 'техника',\n 'голос',\n 'путь',\n 'команда',\n 'удалять',\n 'бесплатный',\n 'остров',\n 'тонна',\n 'сдавать',\n 'вдвое',\n 'обращаться',\n 'взрываться',\n 'похвастаться',\n 'олигарх',\n 'треть',\n 'голый',\n 'сокращаться',\n 'платить',\n 'усиливать',\n 'сменить',\n 'смертельный',\n 'парк',\n 'вместе',\n 'возмущаться',\n 'составлять',\n 'похвалить',\n 'животное',\n 'поделиться',\n 'отправляться',\n 'золотой',\n 'находиться',\n 'вход',\n 'виза',\n 'избавляться',\n 'золото',\n 'сбор',\n 'шпион',\n 'замена',\n 'прямой',\n 'жилье',\n 'патриарх',\n 'расширять',\n 'мозг',\n 'политический',\n 'осужденный',\n 'переходить',\n 'мусор',\n 'население',\n 'мирный',\n 'уход',\n 'личный',\n 'казнь',\n 'сад',\n 'пострадавший',\n 'захаров',\n 'счет',\n 'убирать',\n 'дальний',\n 'ресторан',\n 'поклонский',\n 'занимать',\n 'дешевый',\n 'спор',\n 'иркутский',\n 'пятый',\n 'король',\n 'актив',\n 'увеличиваться',\n 'захват',\n 'пара',\n 'банка',\n 'обрушиваться',\n 'низкий',\n 'сломать',\n 'мало',\n 'ограничение',\n 'сокращение',\n 'увольняться',\n 'массово',\n 'охрана',\n 'телеведущий',\n 'капитал',\n 'электронный',\n 'триллион',\n 'малый',\n 'оправдывать',\n 'водка',\n 'вступать',\n 'опек',\n 'отравляться',\n 'живой',\n 'включать',\n 'насилие',\n 'возмущать',\n 'выдвигать',\n 'вступаться',\n 'врезаться',\n 'жить',\n 'больной',\n 'ураган',\n 'кузнецов',\n 'проваливаться',\n 'основной',\n 'гонка',\n 'совместный',\n 'вино',\n 'определяться',\n 'мэрия',\n 'труд',\n 'неожиданный',\n 'пожизненный',\n 'воробьев',\n 'красный',\n 'открытие',\n 'обходиться',\n 'закупать',\n 'сильный',\n 'арестованный',\n 'грязный',\n 'искусственный',\n 'разбираться',\n 'милон',\n 'название',\n 'здоровье',\n 'отстранять',\n 'общественный',\n 'жесткий',\n 'аварийный',\n 'тайный',\n 'граната',\n 'рыба',\n 'пистолет',\n 'соловьев',\n 'стратегический',\n 'забирать',\n 'свет',\n 'будущий',\n 'масштабный',\n 'волна',\n 'улучшать',\n 'снижаться',\n 'риск',\n 'беременный',\n 'отдых',\n 'строить',\n 'стрелять',\n 'добиваться',\n 'рядом',\n 'еврей',\n 'взяться',\n 'обновлять',\n 'подорвать',\n 'минский',\n 'чехия',\n 'снятие',\n 'похоронить',\n 'одесса',\n 'заключение',\n 'миссия',\n 'яровой',\n 'утопать',\n 'попадаться',\n 'трасса',\n 'боеприпасы',\n 'независимость',\n 'телеведущая',\n 'снег',\n 'призыв',\n 'виталия',\n 'село',\n 'полк',\n 'тяжелый',\n 'пес',\n 'домой',\n 'казнить',\n 'акула',\n 'вкладывать',\n 'уголь',\n 'батальон',\n 'опускаться',\n 'вывод',\n 'ряд',\n 'вести',\n 'минск',\n 'частный',\n 'ход',\n 'незаконный',\n 'обозначать',\n 'переход',\n 'официально',\n 'луна',\n 'положение',\n 'понижать',\n 'социальный',\n 'разбивать',\n 'применять',\n 'заканчиваться',\n 'трата',\n 'исторический',\n 'переводить',\n 'вагон',\n 'порт',\n 'обливать',\n 'волк',\n 'поле',\n 'стратегия',\n 'убитый',\n 'развертывать',\n 'объясняться',\n 'разрывать',\n 'задеть',\n 'вывозить',\n 'раздавать',\n 'сексуальный',\n 'критика',\n 'оскорблять',\n 'кадр',\n 'выводить',\n 'чистый',\n 'дуров',\n 'скрывать',\n 'хирург',\n 'завершаться',\n 'государственный',\n 'необходимость',\n 'обеспокоиться',\n 'сизо',\n 'готовить',\n 'май',\n 'смертоносный',\n 'успешный',\n 'открытый',\n 'условный',\n 'любимый',\n 'удивляться',\n 'доводить',\n 'уязвимость',\n 'низко',\n 'заступаться',\n 'жилой',\n 'эффективный',\n 'направление',\n 'оплачивать',\n 'пленный',\n 'экстренно',\n 'малахов',\n 'погода',\n 'телефонный',\n 'премьера',\n 'лев',\n 'объединяться',\n 'озабочиваться',\n 'свинья',\n 'угрожать',\n 'стрелка',\n 'подводный',\n 'сниматься',\n 'опыт',\n 'дополнительный',\n 'проигрывать',\n 'лед',\n 'сербия',\n 'смена',\n 'сергей',\n 'обходить',\n 'вероятный',\n 'уникальный',\n 'брать',\n 'резкий',\n 'подруга',\n 'зависимость',\n 'желать',\n 'часто',\n 'популярность',\n 'безопасный',\n 'платный',\n 'приближаться',\n 'минимальный',\n 'охота',\n 'аналитик',\n 'невозможность',\n 'благодаря',\n 'встречать',\n 'александр',\n 'гость',\n 'следить',\n 'готовиться',\n 'разоблачать',\n 'перевод',\n 'редкий',\n 'змея',\n 'сыр',\n 'подозревать',\n 'странный',\n 'опускать',\n 'сторона',\n 'выбрасывать',\n 'дома',\n 'сечин',\n 'новорожденный',\n 'процесс',\n 'всемирный',\n 'мороз',\n 'быстрый',\n 'слава',\n 'присоединяться',\n 'недовольный',\n 'инвестировать',\n 'округ',\n 'орден',\n 'чужой',\n 'эхо',\n 'закрытие',\n 'разгонять',\n 'случай',\n 'свободный',\n 'стража',\n 'запись',\n 'идеальный',\n 'выбор',\n 'пол',\n 'зарегистрировать',\n 'набирать',\n 'промышленность',\n 'законный',\n 'супруга',\n 'прорыв',\n 'снос',\n 'рекордно',\n 'перевертываться',\n 'обижаться',\n 'яблоко',\n 'климкин',\n 'камень',\n 'курить',\n 'причастность',\n 'борис',\n 'бесплатно',\n 'ходить',\n 'гора',\n 'оправдываться',\n 'современный',\n 'верить',\n 'серия',\n 'планировать',\n 'быстро',\n 'побороться',\n 'экстренный',\n 'прокатиться',\n 'плата',\n 'таинственный',\n 'особый',\n 'похороны',\n 'чуркин',\n 'срываться',\n 'март',\n 'научный',\n 'приземляться',\n 'отдыхать',\n 'зеленый',\n 'расширение',\n 'окончательно',\n 'биолог',\n 'частично',\n 'успешно',\n 'выяснять',\n 'горячий',\n 'четвертый',\n 'ввоз',\n 'объединять',\n 'легализовать',\n 'спрятать',\n 'любой',\n 'звание',\n 'корова',\n 'залив',\n 'прощать',\n 'сдаваться',\n 'четверть',\n 'ложь',\n 'обман',\n 'командующий',\n 'легкий',\n 'метод',\n 'марка',\n 'часы',\n 'эффективность',\n 'внутри',\n 'беглый',\n 'вещь',\n 'торговать',\n 'ельцин',\n 'отходы',\n 'сто',\n 'ткачев',\n 'аномальный',\n 'намерение',\n 'перевозить',\n 'исполнять',\n 'досрочно',\n 'записывать',\n 'экологический',\n 'банкрот',\n 'тайно',\n 'настоящий',\n 'сходить',\n 'высоко',\n 'бесполезный',\n 'физика',\n 'вдова',\n 'погоня',\n 'разрушать',\n 'вечный',\n 'временный',\n 'олень',\n 'подозрительный',\n 'крест',\n 'ранение',\n 'вероятность',\n 'знакомый',\n 'внутренний',\n 'лечить',\n 'ведомость',\n 'доступный',\n 'главком',\n 'подвергаться',\n 'потенциальный',\n 'жених',\n 'сезон',\n 'обвалиться',\n 'отбивать',\n 'торги',\n 'азия',\n 'обучать',\n 'весть',\n 'ответственный',\n 'поменять',\n 'коми',\n 'двойной',\n 'пасе',\n 'избавлять',\n 'героин',\n 'сговор',\n 'скрываться',\n 'судиться',\n 'смягчать',\n 'приходиться',\n 'подчиненный',\n 'святой',\n 'повесить',\n 'платон',\n 'здоровый',\n 'набиуллин',\n 'азов',\n 'внезапный',\n 'смотреть',\n 'разочаровываться',\n 'удваивать',\n 'энергетика',\n 'пить',\n 'перенос',\n 'неудачный',\n 'подорваться',\n 'отключать',\n 'набиуллина',\n 'лето',\n 'такси',\n 'заинтересовывать',\n 'ввод',\n 'иркутск',\n 'колонна',\n 'заочно',\n 'радио',\n 'физик',\n 'близкий',\n 'перебрасывать',\n 'дрон',\n 'менять',\n 'мисс',\n 'спасаться',\n 'капитан',\n 'депортировать',\n 'защищаться',\n 'повод',\n 'ран',\n 'причастный',\n 'пуля',\n 'отнимать',\n 'отчитывать',\n 'судить',\n 'сбросить',\n 'ива',\n 'похожий',\n 'простой',\n 'прерывать',\n 'агрессивный',\n 'активный',\n 'страшный',\n 'сон',\n 'швейцарский',\n 'ан',\n 'досрочный',\n 'белье',\n 'оправа',\n 'сложный',\n 'поляк',\n 'ген',\n 'маркин',\n 'отравлять',\n 'избирать',\n 'внедрять',\n 'николай',\n 'продолжительность',\n 'невозможный',\n 'подключать',\n 'обязательный',\n 'нашесть',\n 'смертельно',\n 'дебошир',\n 'ускорять',\n 'сформировывать',\n 'васильев',\n 'озеро',\n 'рот',\n 'укусить',\n 'приемный',\n 'повторять',\n 'ил',\n 'мина',\n 'модернизировать',\n 'способность',\n 'рано',\n 'заражать',\n 'держать',\n 'удивлять',\n 'нацеливаться',\n 'сход',\n 'счастие',\n 'отводить',\n 'смениться',\n 'нос',\n 'успокаивать',\n 'езда',\n 'жара',\n 'развод',\n 'играть',\n 'метр',\n 'спускать',\n 'прояснивать',\n 'путина',\n 'дмитрий',\n 'социолог',\n 'полезный',\n 'слепой',\n 'петр',\n 'толстый',\n 'внезапно',\n 'лишение',\n 'фотограф',\n 'тверской',\n 'конституционный',\n 'видеть',\n 'отвод',\n 'сливать',\n 'оборонный',\n 'принятие',\n 'курсы',\n 'превращаться',\n 'специальный',\n 'дальнейший',\n 'покрым',\n 'порадоваться',\n 'экономия',\n 'доверять',\n 'предварительный',\n 'скандальный',\n 'разыскивать',\n 'темный',\n 'ухудшать',\n 'лебедев',\n 'обменять',\n 'влюбленный',\n 'протестующий',\n 'готовый',\n 'активность',\n 'жестокий',\n 'распространение',\n 'поражать',\n 'рождаться',\n 'месть',\n 'публично',\n 'поссориться',\n 'поручение',\n 'демократия',\n 'способный',\n 'жениться',\n 'преступный',\n 'необычный',\n 'возрождать',\n 'распространять',\n 'откровенный',\n 'верующий',\n 'закрываться',\n 'пробивать',\n 'заграницу',\n 'необходимый',\n 'куба',\n 'учить',\n 'шар',\n 'акт',\n 'расти',\n 'молотов',\n 'избирательный',\n 'дронов',\n 'гарантия',\n 'втрое',\n 'длинный',\n 'случайный',\n 'дадина',\n 'кормить',\n 'заваливать',\n 'шестой',\n 'вскрывать',\n 'радиоактивный',\n 'археолог',\n 'ценный',\n 'замерзать',\n 'состояться',\n 'инженер',\n 'усиление',\n 'родной',\n 'временно',\n 'подход',\n 'навод',\n 'федор',\n 'обвалить',\n 'унижать',\n 'бандит',\n 'мария',\n 'рен',\n 'прошлое',\n 'справедливый',\n 'носить',\n 'редко',\n 'ярош',\n 'имам',\n 'воровать',\n 'ресурс',\n 'позор',\n 'обеспокоить',\n 'выписывать',\n 'управлять',\n 'возвращать',\n 'азы',\n 'абсолютный',\n 'экономить',\n 'вред',\n 'заграница',\n 'турбина',\n 'максимальный',\n 'обрушивать',\n 'знаменитость',\n 'вправе',\n 'вооружать',\n 'пожизненно',\n 'развивать',\n 'обзывать',\n 'лично',\n 'бар',\n 'баку',\n 'выгодный',\n 'совместно',\n 'грудинин',\n 'запутываться',\n 'активно',\n 'преждевременный',\n 'покорять',\n 'виктор',\n 'ложный',\n 'править',\n 'наброситься',\n 'пожениться',\n 'бутина',\n 'перспективный',\n 'курение',\n 'возвращаться',\n 'бен',\n 'пустой',\n 'учиться',\n 'дух',\n 'обращать',\n 'отбиваться',\n 'независимый',\n 'сломаться',\n 'разозлиться',\n 'платье',\n 'катастрофический',\n 'елена',\n 'ввозить',\n 'наличный',\n 'доходить',\n 'эколог',\n 'серьезный',\n ...]"
     },
     "execution_count": 34,
     "metadata": {},
     "output_type": "execute_result"
    }
   ],
   "source": [
    "final_words"
   ],
   "metadata": {
    "collapsed": false,
    "pycharm": {
     "name": "#%%\n"
    }
   }
  },
  {
   "cell_type": "code",
   "execution_count": 19,
   "outputs": [],
   "source": [
    "word_to_stem = {word: stemmer.stem(word) for word in tokens_df.columns}"
   ],
   "metadata": {
    "collapsed": false,
    "pycharm": {
     "name": "#%%\n"
    }
   }
  },
  {
   "cell_type": "code",
   "execution_count": 20,
   "outputs": [],
   "source": [
    "tokens_df.columns = [word_to_stem[word] for word in tokens_df.columns]"
   ],
   "metadata": {
    "collapsed": false,
    "pycharm": {
     "name": "#%%\n"
    }
   }
  },
  {
   "cell_type": "code",
   "execution_count": 22,
   "outputs": [
    {
     "data": {
      "text/plain": "                 token\n0               россия\n1           российский\n2             называть\n3            россиянин\n4                путин\n...                ...\n24487           ивлеев\n24488  двухступенчатый\n24489   девятимесячный\n24490  сосуществование\n24491         луцкевич\n\n[24492 rows x 1 columns]",
      "text/html": "<div>\n<style scoped>\n    .dataframe tbody tr th:only-of-type {\n        vertical-align: middle;\n    }\n\n    .dataframe tbody tr th {\n        vertical-align: top;\n    }\n\n    .dataframe thead th {\n        text-align: right;\n    }\n</style>\n<table border=\"1\" class=\"dataframe\">\n  <thead>\n    <tr style=\"text-align: right;\">\n      <th></th>\n      <th>token</th>\n    </tr>\n  </thead>\n  <tbody>\n    <tr>\n      <th>0</th>\n      <td>россия</td>\n    </tr>\n    <tr>\n      <th>1</th>\n      <td>российский</td>\n    </tr>\n    <tr>\n      <th>2</th>\n      <td>называть</td>\n    </tr>\n    <tr>\n      <th>3</th>\n      <td>россиянин</td>\n    </tr>\n    <tr>\n      <th>4</th>\n      <td>путин</td>\n    </tr>\n    <tr>\n      <th>...</th>\n      <td>...</td>\n    </tr>\n    <tr>\n      <th>24487</th>\n      <td>ивлеев</td>\n    </tr>\n    <tr>\n      <th>24488</th>\n      <td>двухступенчатый</td>\n    </tr>\n    <tr>\n      <th>24489</th>\n      <td>девятимесячный</td>\n    </tr>\n    <tr>\n      <th>24490</th>\n      <td>сосуществование</td>\n    </tr>\n    <tr>\n      <th>24491</th>\n      <td>луцкевич</td>\n    </tr>\n  </tbody>\n</table>\n<p>24492 rows × 1 columns</p>\n</div>"
     },
     "execution_count": 22,
     "metadata": {},
     "output_type": "execute_result"
    }
   ],
   "source": [
    "tokens_df"
   ],
   "metadata": {
    "collapsed": false,
    "pycharm": {
     "name": "#%%\n"
    }
   }
  },
  {
   "cell_type": "code",
   "execution_count": null,
   "outputs": [],
   "source": [],
   "metadata": {
    "collapsed": false,
    "pycharm": {
     "name": "#%%\n"
    }
   }
  },
  {
   "cell_type": "code",
   "execution_count": 93,
   "outputs": [
    {
     "data": {
      "text/plain": "(1232, 12667)"
     },
     "execution_count": 93,
     "metadata": {},
     "output_type": "execute_result"
    }
   ],
   "source": [
    "vocab_vector_df.shape"
   ],
   "metadata": {
    "collapsed": false,
    "pycharm": {
     "name": "#%%\n"
    }
   }
  },
  {
   "cell_type": "code",
   "execution_count": 95,
   "outputs": [
    {
     "data": {
      "text/plain": "(1232, 12667)"
     },
     "execution_count": 95,
     "metadata": {},
     "output_type": "execute_result"
    }
   ],
   "source": [
    "vocab_vector_df.shape"
   ],
   "metadata": {
    "collapsed": false,
    "pycharm": {
     "name": "#%%\n"
    }
   }
  },
  {
   "cell_type": "code",
   "execution_count": null,
   "outputs": [],
   "source": [
    "# 11.05.23 продолжаем отсюда\n",
    "# todo надо еще проверить корреляцию со спредом"
   ],
   "metadata": {
    "collapsed": false,
    "pycharm": {
     "name": "#%%\n"
    }
   }
  },
  {
   "cell_type": "code",
   "execution_count": 96,
   "outputs": [],
   "source": [
    "# приставим спред"
   ],
   "metadata": {
    "collapsed": false,
    "pycharm": {
     "name": "#%%\n"
    }
   }
  },
  {
   "cell_type": "code",
   "execution_count": 99,
   "outputs": [],
   "source": [
    "merged_df = pd.concat([vocab_vector_df, data_df['log_price_spread']], axis=1)"
   ],
   "metadata": {
    "collapsed": false,
    "pycharm": {
     "name": "#%%\n"
    }
   }
  },
  {
   "cell_type": "code",
   "execution_count": null,
   "outputs": [],
   "source": [
    "correlation_matrix = merged_df.corr()"
   ],
   "metadata": {
    "collapsed": false,
    "pycharm": {
     "name": "#%%\n"
    }
   }
  },
  {
   "cell_type": "code",
   "execution_count": null,
   "outputs": [],
   "source": [],
   "metadata": {
    "collapsed": false,
    "pycharm": {
     "name": "#%%\n"
    }
   }
  },
  {
   "cell_type": "code",
   "execution_count": 9,
   "outputs": [],
   "source": [
    "# correlation with numpy"
   ],
   "metadata": {
    "collapsed": false,
    "pycharm": {
     "name": "#%%\n"
    }
   }
  },
  {
   "cell_type": "code",
   "execution_count": 10,
   "outputs": [],
   "source": [
    "vocab_vector_array = vocab_vector_df.to_numpy()\n",
    "target_array = data_df['log_price_spread'].to_numpy()"
   ],
   "metadata": {
    "collapsed": false,
    "pycharm": {
     "name": "#%%\n"
    }
   }
  },
  {
   "cell_type": "code",
   "execution_count": 11,
   "outputs": [
    {
     "name": "stderr",
     "output_type": "stream",
     "text": [
      "/var/folders/0d/nn90v_dn4y56s_xnhsv23lf00000gn/T/ipykernel_10709/3089772568.py:1: RuntimeWarning: invalid value encountered in divide\n",
      "  vocab_vector_std = (vocab_vector_array - np.mean(vocab_vector_array, axis=0)) / np.std(vocab_vector_array, axis=0)\n"
     ]
    }
   ],
   "source": [
    "vocab_vector_std = (vocab_vector_array - np.mean(vocab_vector_array, axis=0)) / np.std(vocab_vector_array, axis=0)\n",
    "target_std = (target_array - np.mean(target_array)) / np.std(target_array)"
   ],
   "metadata": {
    "collapsed": false,
    "pycharm": {
     "name": "#%%\n"
    }
   }
  },
  {
   "cell_type": "code",
   "execution_count": 13,
   "outputs": [],
   "source": [
    "correlation = np.dot(vocab_vector_std.T, target_std) / (vocab_vector_std.shape[0] - 1)"
   ],
   "metadata": {
    "collapsed": false,
    "pycharm": {
     "name": "#%%\n"
    }
   }
  },
  {
   "cell_type": "code",
   "execution_count": 14,
   "outputs": [],
   "source": [
    "sorted_indices = np.argsort(np.abs(correlation))[::-1]\n",
    "sorted_correlation = correlation[sorted_indices]\n",
    "sorted_tokens = vocab_vector_df.columns[sorted_indices]"
   ],
   "metadata": {
    "collapsed": false,
    "pycharm": {
     "name": "#%%\n"
    }
   }
  },
  {
   "cell_type": "code",
   "execution_count": 15,
   "outputs": [
    {
     "data": {
      "text/plain": "Index(['обоснован', 'необъясним', 'неоплачен', 'неонацистск', 'неожидан',\n       'неожида', 'неоднозначн', 'необязательн', 'необычн', 'необъективн',\n       ...\n       'наш', 'ботинок', 'тренд', 'ротенберг', 'кенгуренок', 'контрафакт',\n       'сепаратизм', 'снаряд', 'рекс', 'советник'],\n      dtype='object', length=12667)"
     },
     "execution_count": 15,
     "metadata": {},
     "output_type": "execute_result"
    }
   ],
   "source": [
    "sorted_tokens"
   ],
   "metadata": {
    "collapsed": false,
    "pycharm": {
     "name": "#%%\n"
    }
   }
  },
  {
   "cell_type": "code",
   "execution_count": 17,
   "outputs": [
    {
     "data": {
      "text/plain": "array([            nan,             nan,             nan, ...,\n        2.72282964e-05,  1.65844183e-05, -2.62824116e-06])"
     },
     "execution_count": 17,
     "metadata": {},
     "output_type": "execute_result"
    }
   ],
   "source": [
    "sorted_correlation"
   ],
   "metadata": {
    "collapsed": false,
    "pycharm": {
     "name": "#%%\n"
    }
   }
  },
  {
   "cell_type": "code",
   "execution_count": 18,
   "outputs": [],
   "source": [
    "# Create a new NumPy array with the sorted tokens and their corresponding correlation values\n",
    "sorted_tokens_correlation = np.column_stack((sorted_tokens, sorted_correlation))\n",
    "\n",
    "# Convert the NumPy array to a pandas DataFrame\n",
    "sorted_tokens_correlation_df = pd.DataFrame(sorted_tokens_correlation, columns=['Token', 'Correlation'])"
   ],
   "metadata": {
    "collapsed": false,
    "pycharm": {
     "name": "#%%\n"
    }
   }
  },
  {
   "cell_type": "code",
   "execution_count": 38,
   "outputs": [],
   "source": [
    "sorted_tokens_correlation_df.sort_values(by='Correlation', ascending=False).to_excel('most_correlated_tokens.xlsx', index=False)"
   ],
   "metadata": {
    "collapsed": false,
    "pycharm": {
     "name": "#%%\n"
    }
   }
  },
  {
   "cell_type": "code",
   "execution_count": 45,
   "outputs": [],
   "source": [
    "sorted_tokens_correlation_df = pd.read_excel('most_correlated_tokens.xlsx')"
   ],
   "metadata": {
    "collapsed": false,
    "pycharm": {
     "name": "#%%\n"
    }
   }
  },
  {
   "cell_type": "code",
   "execution_count": 46,
   "outputs": [
    {
     "data": {
      "text/plain": "               Token  Correlation\n0               курс     0.281233\n1          радиомаяк     0.198814\n2             доллар     0.189085\n3           нотариус     0.181600\n4         коммерсант     0.179236\n...              ...          ...\n12662       разрешен          NaN\n12663          блатн          NaN\n12664  санкционирова          NaN\n12665           сайг          NaN\n12666        блокадн          NaN\n\n[12667 rows x 2 columns]",
      "text/html": "<div>\n<style scoped>\n    .dataframe tbody tr th:only-of-type {\n        vertical-align: middle;\n    }\n\n    .dataframe tbody tr th {\n        vertical-align: top;\n    }\n\n    .dataframe thead th {\n        text-align: right;\n    }\n</style>\n<table border=\"1\" class=\"dataframe\">\n  <thead>\n    <tr style=\"text-align: right;\">\n      <th></th>\n      <th>Token</th>\n      <th>Correlation</th>\n    </tr>\n  </thead>\n  <tbody>\n    <tr>\n      <th>0</th>\n      <td>курс</td>\n      <td>0.281233</td>\n    </tr>\n    <tr>\n      <th>1</th>\n      <td>радиомаяк</td>\n      <td>0.198814</td>\n    </tr>\n    <tr>\n      <th>2</th>\n      <td>доллар</td>\n      <td>0.189085</td>\n    </tr>\n    <tr>\n      <th>3</th>\n      <td>нотариус</td>\n      <td>0.181600</td>\n    </tr>\n    <tr>\n      <th>4</th>\n      <td>коммерсант</td>\n      <td>0.179236</td>\n    </tr>\n    <tr>\n      <th>...</th>\n      <td>...</td>\n      <td>...</td>\n    </tr>\n    <tr>\n      <th>12662</th>\n      <td>разрешен</td>\n      <td>NaN</td>\n    </tr>\n    <tr>\n      <th>12663</th>\n      <td>блатн</td>\n      <td>NaN</td>\n    </tr>\n    <tr>\n      <th>12664</th>\n      <td>санкционирова</td>\n      <td>NaN</td>\n    </tr>\n    <tr>\n      <th>12665</th>\n      <td>сайг</td>\n      <td>NaN</td>\n    </tr>\n    <tr>\n      <th>12666</th>\n      <td>блокадн</td>\n      <td>NaN</td>\n    </tr>\n  </tbody>\n</table>\n<p>12667 rows × 2 columns</p>\n</div>"
     },
     "execution_count": 46,
     "metadata": {},
     "output_type": "execute_result"
    }
   ],
   "source": [
    "sorted_tokens_correlation_df"
   ],
   "metadata": {
    "collapsed": false,
    "pycharm": {
     "name": "#%%\n"
    }
   }
  },
  {
   "cell_type": "code",
   "execution_count": null,
   "outputs": [],
   "source": [],
   "metadata": {
    "collapsed": false,
    "pycharm": {
     "name": "#%%\n"
    }
   }
  },
  {
   "cell_type": "code",
   "execution_count": 23,
   "outputs": [
    {
     "data": {
      "text/plain": "0.0"
     },
     "execution_count": 23,
     "metadata": {},
     "output_type": "execute_result"
    }
   ],
   "source": [
    "data_df['log_price_spread'].min()"
   ],
   "metadata": {
    "collapsed": false,
    "pycharm": {
     "name": "#%%\n"
    }
   }
  },
  {
   "cell_type": "code",
   "execution_count": 24,
   "outputs": [
    {
     "data": {
      "text/plain": "0.0955512875394593"
     },
     "execution_count": 24,
     "metadata": {},
     "output_type": "execute_result"
    }
   ],
   "source": [
    "data_df['log_price_spread'].max()"
   ],
   "metadata": {
    "collapsed": false,
    "pycharm": {
     "name": "#%%\n"
    }
   }
  },
  {
   "cell_type": "code",
   "execution_count": null,
   "outputs": [],
   "source": [],
   "metadata": {
    "collapsed": false,
    "pycharm": {
     "name": "#%%\n"
    }
   }
  },
  {
   "cell_type": "code",
   "execution_count": 44,
   "outputs": [
    {
     "data": {
      "text/plain": "          Token Correlation\n9055       курс    0.281233\n9056  россиянин   -0.200833\n9057  радиомаяк    0.198814\n9058     доллар    0.189085\n9059   нотариус      0.1816\n...         ...         ...\n9444   банкомат    -0.05013\n9445     разнос   -0.050112\n9446      облик    -0.05009\n9447       икот   -0.050077\n9448      томат    0.050052\n\n[394 rows x 2 columns]",
      "text/html": "<div>\n<style scoped>\n    .dataframe tbody tr th:only-of-type {\n        vertical-align: middle;\n    }\n\n    .dataframe tbody tr th {\n        vertical-align: top;\n    }\n\n    .dataframe thead th {\n        text-align: right;\n    }\n</style>\n<table border=\"1\" class=\"dataframe\">\n  <thead>\n    <tr style=\"text-align: right;\">\n      <th></th>\n      <th>Token</th>\n      <th>Correlation</th>\n    </tr>\n  </thead>\n  <tbody>\n    <tr>\n      <th>9055</th>\n      <td>курс</td>\n      <td>0.281233</td>\n    </tr>\n    <tr>\n      <th>9056</th>\n      <td>россиянин</td>\n      <td>-0.200833</td>\n    </tr>\n    <tr>\n      <th>9057</th>\n      <td>радиомаяк</td>\n      <td>0.198814</td>\n    </tr>\n    <tr>\n      <th>9058</th>\n      <td>доллар</td>\n      <td>0.189085</td>\n    </tr>\n    <tr>\n      <th>9059</th>\n      <td>нотариус</td>\n      <td>0.1816</td>\n    </tr>\n    <tr>\n      <th>...</th>\n      <td>...</td>\n      <td>...</td>\n    </tr>\n    <tr>\n      <th>9444</th>\n      <td>банкомат</td>\n      <td>-0.05013</td>\n    </tr>\n    <tr>\n      <th>9445</th>\n      <td>разнос</td>\n      <td>-0.050112</td>\n    </tr>\n    <tr>\n      <th>9446</th>\n      <td>облик</td>\n      <td>-0.05009</td>\n    </tr>\n    <tr>\n      <th>9447</th>\n      <td>икот</td>\n      <td>-0.050077</td>\n    </tr>\n    <tr>\n      <th>9448</th>\n      <td>томат</td>\n      <td>0.050052</td>\n    </tr>\n  </tbody>\n</table>\n<p>394 rows × 2 columns</p>\n</div>"
     },
     "execution_count": 44,
     "metadata": {},
     "output_type": "execute_result"
    }
   ],
   "source": [
    "sorted_tokens_correlation_df.loc[(sorted_tokens_correlation_df['Correlation']>0.05) | (sorted_tokens_correlation_df['Correlation']<-0.05)]  # вот такие токены надо оставить"
   ],
   "metadata": {
    "collapsed": false,
    "pycharm": {
     "name": "#%%\n"
    }
   }
  },
  {
   "cell_type": "code",
   "execution_count": 51,
   "outputs": [],
   "source": [
    "most_valuable_tokens = sorted_tokens_correlation_df.loc[(sorted_tokens_correlation_df['Correlation']>0.05) | (sorted_tokens_correlation_df['Correlation']<-0.05)]"
   ],
   "metadata": {
    "collapsed": false,
    "pycharm": {
     "name": "#%%\n"
    }
   }
  },
  {
   "cell_type": "code",
   "execution_count": null,
   "outputs": [],
   "source": [],
   "metadata": {
    "collapsed": false,
    "pycharm": {
     "name": "#%%\n"
    }
   }
  },
  {
   "cell_type": "code",
   "execution_count": null,
   "outputs": [],
   "source": [
    "# посчитаем корреляцию между наиболее значимыми токенами"
   ],
   "metadata": {
    "collapsed": false,
    "pycharm": {
     "name": "#%%\n"
    }
   }
  },
  {
   "cell_type": "code",
   "execution_count": 54,
   "outputs": [],
   "source": [
    "selected_token_columns = most_valuable_tokens['Token'].values"
   ],
   "metadata": {
    "collapsed": false,
    "pycharm": {
     "name": "#%%\n"
    }
   }
  },
  {
   "cell_type": "code",
   "execution_count": 55,
   "outputs": [],
   "source": [
    "filtered_vocab_vector_df = vocab_vector_df[selected_token_columns]"
   ],
   "metadata": {
    "collapsed": false,
    "pycharm": {
     "name": "#%%\n"
    }
   }
  },
  {
   "cell_type": "code",
   "execution_count": 56,
   "outputs": [],
   "source": [
    "standardized_data = (filtered_vocab_vector_df - filtered_vocab_vector_df.mean()) / filtered_vocab_vector_df.std()\n",
    "\n",
    "# Step 3: Calculate the correlation matrix using the standardized dataset\n",
    "correlation_matrix = np.corrcoef(standardized_data.T)"
   ],
   "metadata": {
    "collapsed": false,
    "pycharm": {
     "name": "#%%\n"
    }
   }
  },
  {
   "cell_type": "code",
   "execution_count": 57,
   "outputs": [
    {
     "data": {
      "text/plain": "array([[ 1.00000000e+00, -2.97428192e-01,  3.10733910e-02, ...,\n        -5.12081363e-02,  7.41869443e-04,  1.23195494e-02],\n       [-2.97428192e-01,  1.00000000e+00,  1.33392015e-02, ...,\n         6.27534731e-02, -3.33177272e-02, -3.42732711e-02],\n       [ 3.10733910e-02,  1.33392015e-02,  1.00000000e+00, ...,\n        -5.52394168e-03, -2.81978177e-03, -4.46939854e-03],\n       ...,\n       [-5.12081363e-02,  6.27534731e-02, -5.52394168e-03, ...,\n         1.00000000e+00, -6.38109501e-03, -1.01141362e-02],\n       [ 7.41869443e-04, -3.33177272e-02, -2.81978177e-03, ...,\n        -6.38109501e-03,  1.00000000e+00, -5.16291778e-03],\n       [ 1.23195494e-02, -3.42732711e-02, -4.46939854e-03, ...,\n        -1.01141362e-02, -5.16291778e-03,  1.00000000e+00]])"
     },
     "execution_count": 57,
     "metadata": {},
     "output_type": "execute_result"
    }
   ],
   "source": [
    "correlation_matrix"
   ],
   "metadata": {
    "collapsed": false,
    "pycharm": {
     "name": "#%%\n"
    }
   }
  },
  {
   "cell_type": "code",
   "execution_count": 68,
   "outputs": [],
   "source": [
    "correlation_threshold = 0.3  # Adjust this threshold to control the level of correlation between token pairs\n",
    "\n",
    "# Find indices of token pairs with correlation greater than the threshold\n",
    "correlated_token_indices = np.where(np.abs(correlation_matrix) > correlation_threshold)\n",
    "correlated_token_pairs = [(selected_token_columns[i], selected_token_columns[j]) for i, j in zip(*correlated_token_indices) if i != j and i < j]"
   ],
   "metadata": {
    "collapsed": false,
    "pycharm": {
     "name": "#%%\n"
    }
   }
  },
  {
   "cell_type": "code",
   "execution_count": 69,
   "outputs": [
    {
     "data": {
      "text/plain": "[('курс', 'доллар'),\n ('россиянин', 'способ'),\n ('россиянин', 'ребенок'),\n ('россиянин', 'город'),\n ('россиянин', 'регион'),\n ('россиянин', 'врач'),\n ('россиянин', 'сми'),\n ('доллар', 'сми'),\n ('мухаммед', 'пророк'),\n ('ребенок', 'регион'),\n ('детдомовец', 'гузеев'),\n ('индекс', 'видеоигр'),\n ('факультет', 'попс'),\n ('свид', 'восход'),\n ('свид', 'фотоаппарат'),\n ('суд', 'сми'),\n ('приверженец', 'амур'),\n ('приверженец', 'пассажиропоток'),\n ('приверженец', 'налед'),\n ('гузеев', 'тестостерон'),\n ('гузеев', 'жуков'),\n ('синтез', 'са'),\n ('конюх', 'федор'),\n ('стриж', 'безбожник'),\n ('джонсон', 'борис'),\n ('госзаказ', 'батурин'),\n ('пургин', 'ком'),\n ('демчишин', 'частник'),\n ('батурин', 'медвед'),\n ('ва', 'откат'),\n ('цукерберг', 'хорек'),\n ('видеоигр', 'изменщик'),\n ('видеоигр', 'меламед'),\n ('видеоигр', 'аванс'),\n ('сом', 'райкин'),\n ('тестостерон', 'нат'),\n ('чен', 'ким'),\n ('автогонщик', 'райкин'),\n ('медвед', 'чак'),\n ('электрон', 'частник'),\n ('дуб', 'катализатор'),\n ('катализатор', 'бульон'),\n ('меламед', 'аванс'),\n ('камуфляж', 'изнов'),\n ('райкин', 'океанариум'),\n ('налед', 'алекс'),\n ('кук', 'комендант')]"
     },
     "execution_count": 69,
     "metadata": {},
     "output_type": "execute_result"
    }
   ],
   "source": [
    "correlated_token_pairs"
   ],
   "metadata": {
    "collapsed": false,
    "pycharm": {
     "name": "#%%\n"
    }
   }
  },
  {
   "cell_type": "code",
   "execution_count": null,
   "outputs": [],
   "source": [],
   "metadata": {
    "collapsed": false,
    "pycharm": {
     "name": "#%%\n"
    }
   }
  },
  {
   "cell_type": "code",
   "execution_count": 70,
   "outputs": [
    {
     "data": {
      "text/plain": "      курс  россиянин  радиомаяк  доллар  нотариус  способ  коммерсант   \n0        0          3          0       7         0       0           0  \\\n1        1          1          0       3         0       0           0   \n2        0          3          0       5         0       0           0   \n3        0          1          0       1         0       0           0   \n4        1          1          0       2         0       0           0   \n...    ...        ...        ...     ...       ...     ...         ...   \n1227     0          0          0       0         0       0           0   \n1228     0          0          0       0         0       0           0   \n1229     0          0          0       0         0       0           0   \n1230     0          0          0       0         0       0           0   \n1231     0          0          0       0         0       0           0   \n\n      турист  мухаммед  пассажир  ...  комендант  китаец  путч  фашизм  миф   \n0          0         0         1  ...          0       0     0       0    0  \\\n1          0         1         0  ...          0       0     0       0    0   \n2          0         0         0  ...          0       0     0       0    0   \n3          1         0         1  ...          0       0     0       0    0   \n4          0         0         0  ...          0       0     0       0    0   \n...      ...       ...       ...  ...        ...     ...   ...     ...  ...   \n1227       0         0         0  ...          0       0     0       0    0   \n1228       0         0         0  ...          0       0     0       0    0   \n1229       0         0         0  ...          0       0     0       0    0   \n1230       0         0         0  ...          0       0     0       0    0   \n1231       0         0         0  ...          0       0     0       0    0   \n\n      банкомат  разнос  облик  икот  томат  \n0            0       0      0     0      0  \n1            0       0      0     0      0  \n2            0       0      0     0      0  \n3            0       0      0     0      0  \n4            0       0      0     0      0  \n...        ...     ...    ...   ...    ...  \n1227         0       0      0     0      0  \n1228         0       0      0     0      0  \n1229         0       0      0     0      0  \n1230         0       0      0     0      0  \n1231         0       0      0     0      0  \n\n[1232 rows x 394 columns]",
      "text/html": "<div>\n<style scoped>\n    .dataframe tbody tr th:only-of-type {\n        vertical-align: middle;\n    }\n\n    .dataframe tbody tr th {\n        vertical-align: top;\n    }\n\n    .dataframe thead th {\n        text-align: right;\n    }\n</style>\n<table border=\"1\" class=\"dataframe\">\n  <thead>\n    <tr style=\"text-align: right;\">\n      <th></th>\n      <th>курс</th>\n      <th>россиянин</th>\n      <th>радиомаяк</th>\n      <th>доллар</th>\n      <th>нотариус</th>\n      <th>способ</th>\n      <th>коммерсант</th>\n      <th>турист</th>\n      <th>мухаммед</th>\n      <th>пассажир</th>\n      <th>...</th>\n      <th>комендант</th>\n      <th>китаец</th>\n      <th>путч</th>\n      <th>фашизм</th>\n      <th>миф</th>\n      <th>банкомат</th>\n      <th>разнос</th>\n      <th>облик</th>\n      <th>икот</th>\n      <th>томат</th>\n    </tr>\n  </thead>\n  <tbody>\n    <tr>\n      <th>0</th>\n      <td>0</td>\n      <td>3</td>\n      <td>0</td>\n      <td>7</td>\n      <td>0</td>\n      <td>0</td>\n      <td>0</td>\n      <td>0</td>\n      <td>0</td>\n      <td>1</td>\n      <td>...</td>\n      <td>0</td>\n      <td>0</td>\n      <td>0</td>\n      <td>0</td>\n      <td>0</td>\n      <td>0</td>\n      <td>0</td>\n      <td>0</td>\n      <td>0</td>\n      <td>0</td>\n    </tr>\n    <tr>\n      <th>1</th>\n      <td>1</td>\n      <td>1</td>\n      <td>0</td>\n      <td>3</td>\n      <td>0</td>\n      <td>0</td>\n      <td>0</td>\n      <td>0</td>\n      <td>1</td>\n      <td>0</td>\n      <td>...</td>\n      <td>0</td>\n      <td>0</td>\n      <td>0</td>\n      <td>0</td>\n      <td>0</td>\n      <td>0</td>\n      <td>0</td>\n      <td>0</td>\n      <td>0</td>\n      <td>0</td>\n    </tr>\n    <tr>\n      <th>2</th>\n      <td>0</td>\n      <td>3</td>\n      <td>0</td>\n      <td>5</td>\n      <td>0</td>\n      <td>0</td>\n      <td>0</td>\n      <td>0</td>\n      <td>0</td>\n      <td>0</td>\n      <td>...</td>\n      <td>0</td>\n      <td>0</td>\n      <td>0</td>\n      <td>0</td>\n      <td>0</td>\n      <td>0</td>\n      <td>0</td>\n      <td>0</td>\n      <td>0</td>\n      <td>0</td>\n    </tr>\n    <tr>\n      <th>3</th>\n      <td>0</td>\n      <td>1</td>\n      <td>0</td>\n      <td>1</td>\n      <td>0</td>\n      <td>0</td>\n      <td>0</td>\n      <td>1</td>\n      <td>0</td>\n      <td>1</td>\n      <td>...</td>\n      <td>0</td>\n      <td>0</td>\n      <td>0</td>\n      <td>0</td>\n      <td>0</td>\n      <td>0</td>\n      <td>0</td>\n      <td>0</td>\n      <td>0</td>\n      <td>0</td>\n    </tr>\n    <tr>\n      <th>4</th>\n      <td>1</td>\n      <td>1</td>\n      <td>0</td>\n      <td>2</td>\n      <td>0</td>\n      <td>0</td>\n      <td>0</td>\n      <td>0</td>\n      <td>0</td>\n      <td>0</td>\n      <td>...</td>\n      <td>0</td>\n      <td>0</td>\n      <td>0</td>\n      <td>0</td>\n      <td>0</td>\n      <td>0</td>\n      <td>0</td>\n      <td>0</td>\n      <td>0</td>\n      <td>0</td>\n    </tr>\n    <tr>\n      <th>...</th>\n      <td>...</td>\n      <td>...</td>\n      <td>...</td>\n      <td>...</td>\n      <td>...</td>\n      <td>...</td>\n      <td>...</td>\n      <td>...</td>\n      <td>...</td>\n      <td>...</td>\n      <td>...</td>\n      <td>...</td>\n      <td>...</td>\n      <td>...</td>\n      <td>...</td>\n      <td>...</td>\n      <td>...</td>\n      <td>...</td>\n      <td>...</td>\n      <td>...</td>\n      <td>...</td>\n    </tr>\n    <tr>\n      <th>1227</th>\n      <td>0</td>\n      <td>0</td>\n      <td>0</td>\n      <td>0</td>\n      <td>0</td>\n      <td>0</td>\n      <td>0</td>\n      <td>0</td>\n      <td>0</td>\n      <td>0</td>\n      <td>...</td>\n      <td>0</td>\n      <td>0</td>\n      <td>0</td>\n      <td>0</td>\n      <td>0</td>\n      <td>0</td>\n      <td>0</td>\n      <td>0</td>\n      <td>0</td>\n      <td>0</td>\n    </tr>\n    <tr>\n      <th>1228</th>\n      <td>0</td>\n      <td>0</td>\n      <td>0</td>\n      <td>0</td>\n      <td>0</td>\n      <td>0</td>\n      <td>0</td>\n      <td>0</td>\n      <td>0</td>\n      <td>0</td>\n      <td>...</td>\n      <td>0</td>\n      <td>0</td>\n      <td>0</td>\n      <td>0</td>\n      <td>0</td>\n      <td>0</td>\n      <td>0</td>\n      <td>0</td>\n      <td>0</td>\n      <td>0</td>\n    </tr>\n    <tr>\n      <th>1229</th>\n      <td>0</td>\n      <td>0</td>\n      <td>0</td>\n      <td>0</td>\n      <td>0</td>\n      <td>0</td>\n      <td>0</td>\n      <td>0</td>\n      <td>0</td>\n      <td>0</td>\n      <td>...</td>\n      <td>0</td>\n      <td>0</td>\n      <td>0</td>\n      <td>0</td>\n      <td>0</td>\n      <td>0</td>\n      <td>0</td>\n      <td>0</td>\n      <td>0</td>\n      <td>0</td>\n    </tr>\n    <tr>\n      <th>1230</th>\n      <td>0</td>\n      <td>0</td>\n      <td>0</td>\n      <td>0</td>\n      <td>0</td>\n      <td>0</td>\n      <td>0</td>\n      <td>0</td>\n      <td>0</td>\n      <td>0</td>\n      <td>...</td>\n      <td>0</td>\n      <td>0</td>\n      <td>0</td>\n      <td>0</td>\n      <td>0</td>\n      <td>0</td>\n      <td>0</td>\n      <td>0</td>\n      <td>0</td>\n      <td>0</td>\n    </tr>\n    <tr>\n      <th>1231</th>\n      <td>0</td>\n      <td>0</td>\n      <td>0</td>\n      <td>0</td>\n      <td>0</td>\n      <td>0</td>\n      <td>0</td>\n      <td>0</td>\n      <td>0</td>\n      <td>0</td>\n      <td>...</td>\n      <td>0</td>\n      <td>0</td>\n      <td>0</td>\n      <td>0</td>\n      <td>0</td>\n      <td>0</td>\n      <td>0</td>\n      <td>0</td>\n      <td>0</td>\n      <td>0</td>\n    </tr>\n  </tbody>\n</table>\n<p>1232 rows × 394 columns</p>\n</div>"
     },
     "execution_count": 70,
     "metadata": {},
     "output_type": "execute_result"
    }
   ],
   "source": [
    "filtered_vocab_vector_df"
   ],
   "metadata": {
    "collapsed": false,
    "pycharm": {
     "name": "#%%\n"
    }
   }
  },
  {
   "cell_type": "code",
   "execution_count": 71,
   "outputs": [
    {
     "data": {
      "text/plain": "      курс  россиянин  радиомаяк  доллар  нотариус  способ  коммерсант   \n0        0          3          0       7         0       0           0  \\\n1        1          1          0       3         0       0           0   \n2        0          3          0       5         0       0           0   \n3        0          1          0       1         0       0           0   \n4        1          1          0       2         0       0           0   \n...    ...        ...        ...     ...       ...     ...         ...   \n1217     0         16          0       1         0       1           0   \n1218     0         11          0       0         0       2           0   \n1219     0         11          0       0         0       0           0   \n1220     0         16          0       0         0       1           0   \n1221     0         13          0       1         0       4           0   \n\n      турист  мухаммед  пассажир  ...  комендант  китаец  путч  фашизм  миф   \n0          0         0         1  ...          0       0     0       0    0  \\\n1          0         1         0  ...          0       0     0       0    0   \n2          0         0         0  ...          0       0     0       0    0   \n3          1         0         1  ...          0       0     0       0    0   \n4          0         0         0  ...          0       0     0       0    0   \n...      ...       ...       ...  ...        ...     ...   ...     ...  ...   \n1217       0         0         1  ...          0       0     0       0    0   \n1218       2         0         1  ...          0       0     0       0    0   \n1219       0         0         1  ...          0       0     0       0    0   \n1220       0         0         1  ...          0       1     0       0    0   \n1221       0         0         0  ...          0       0     0       0    0   \n\n      банкомат  разнос  облик  икот  томат  \n0            0       0      0     0      0  \n1            0       0      0     0      0  \n2            0       0      0     0      0  \n3            0       0      0     0      0  \n4            0       0      0     0      0  \n...        ...     ...    ...   ...    ...  \n1217         0       0      0     0      0  \n1218         0       0      0     0      0  \n1219         0       0      0     0      0  \n1220         0       0      0     0      0  \n1221         0       0      0     0      0  \n\n[1222 rows x 394 columns]",
      "text/html": "<div>\n<style scoped>\n    .dataframe tbody tr th:only-of-type {\n        vertical-align: middle;\n    }\n\n    .dataframe tbody tr th {\n        vertical-align: top;\n    }\n\n    .dataframe thead th {\n        text-align: right;\n    }\n</style>\n<table border=\"1\" class=\"dataframe\">\n  <thead>\n    <tr style=\"text-align: right;\">\n      <th></th>\n      <th>курс</th>\n      <th>россиянин</th>\n      <th>радиомаяк</th>\n      <th>доллар</th>\n      <th>нотариус</th>\n      <th>способ</th>\n      <th>коммерсант</th>\n      <th>турист</th>\n      <th>мухаммед</th>\n      <th>пассажир</th>\n      <th>...</th>\n      <th>комендант</th>\n      <th>китаец</th>\n      <th>путч</th>\n      <th>фашизм</th>\n      <th>миф</th>\n      <th>банкомат</th>\n      <th>разнос</th>\n      <th>облик</th>\n      <th>икот</th>\n      <th>томат</th>\n    </tr>\n  </thead>\n  <tbody>\n    <tr>\n      <th>0</th>\n      <td>0</td>\n      <td>3</td>\n      <td>0</td>\n      <td>7</td>\n      <td>0</td>\n      <td>0</td>\n      <td>0</td>\n      <td>0</td>\n      <td>0</td>\n      <td>1</td>\n      <td>...</td>\n      <td>0</td>\n      <td>0</td>\n      <td>0</td>\n      <td>0</td>\n      <td>0</td>\n      <td>0</td>\n      <td>0</td>\n      <td>0</td>\n      <td>0</td>\n      <td>0</td>\n    </tr>\n    <tr>\n      <th>1</th>\n      <td>1</td>\n      <td>1</td>\n      <td>0</td>\n      <td>3</td>\n      <td>0</td>\n      <td>0</td>\n      <td>0</td>\n      <td>0</td>\n      <td>1</td>\n      <td>0</td>\n      <td>...</td>\n      <td>0</td>\n      <td>0</td>\n      <td>0</td>\n      <td>0</td>\n      <td>0</td>\n      <td>0</td>\n      <td>0</td>\n      <td>0</td>\n      <td>0</td>\n      <td>0</td>\n    </tr>\n    <tr>\n      <th>2</th>\n      <td>0</td>\n      <td>3</td>\n      <td>0</td>\n      <td>5</td>\n      <td>0</td>\n      <td>0</td>\n      <td>0</td>\n      <td>0</td>\n      <td>0</td>\n      <td>0</td>\n      <td>...</td>\n      <td>0</td>\n      <td>0</td>\n      <td>0</td>\n      <td>0</td>\n      <td>0</td>\n      <td>0</td>\n      <td>0</td>\n      <td>0</td>\n      <td>0</td>\n      <td>0</td>\n    </tr>\n    <tr>\n      <th>3</th>\n      <td>0</td>\n      <td>1</td>\n      <td>0</td>\n      <td>1</td>\n      <td>0</td>\n      <td>0</td>\n      <td>0</td>\n      <td>1</td>\n      <td>0</td>\n      <td>1</td>\n      <td>...</td>\n      <td>0</td>\n      <td>0</td>\n      <td>0</td>\n      <td>0</td>\n      <td>0</td>\n      <td>0</td>\n      <td>0</td>\n      <td>0</td>\n      <td>0</td>\n      <td>0</td>\n    </tr>\n    <tr>\n      <th>4</th>\n      <td>1</td>\n      <td>1</td>\n      <td>0</td>\n      <td>2</td>\n      <td>0</td>\n      <td>0</td>\n      <td>0</td>\n      <td>0</td>\n      <td>0</td>\n      <td>0</td>\n      <td>...</td>\n      <td>0</td>\n      <td>0</td>\n      <td>0</td>\n      <td>0</td>\n      <td>0</td>\n      <td>0</td>\n      <td>0</td>\n      <td>0</td>\n      <td>0</td>\n      <td>0</td>\n    </tr>\n    <tr>\n      <th>...</th>\n      <td>...</td>\n      <td>...</td>\n      <td>...</td>\n      <td>...</td>\n      <td>...</td>\n      <td>...</td>\n      <td>...</td>\n      <td>...</td>\n      <td>...</td>\n      <td>...</td>\n      <td>...</td>\n      <td>...</td>\n      <td>...</td>\n      <td>...</td>\n      <td>...</td>\n      <td>...</td>\n      <td>...</td>\n      <td>...</td>\n      <td>...</td>\n      <td>...</td>\n      <td>...</td>\n    </tr>\n    <tr>\n      <th>1217</th>\n      <td>0</td>\n      <td>16</td>\n      <td>0</td>\n      <td>1</td>\n      <td>0</td>\n      <td>1</td>\n      <td>0</td>\n      <td>0</td>\n      <td>0</td>\n      <td>1</td>\n      <td>...</td>\n      <td>0</td>\n      <td>0</td>\n      <td>0</td>\n      <td>0</td>\n      <td>0</td>\n      <td>0</td>\n      <td>0</td>\n      <td>0</td>\n      <td>0</td>\n      <td>0</td>\n    </tr>\n    <tr>\n      <th>1218</th>\n      <td>0</td>\n      <td>11</td>\n      <td>0</td>\n      <td>0</td>\n      <td>0</td>\n      <td>2</td>\n      <td>0</td>\n      <td>2</td>\n      <td>0</td>\n      <td>1</td>\n      <td>...</td>\n      <td>0</td>\n      <td>0</td>\n      <td>0</td>\n      <td>0</td>\n      <td>0</td>\n      <td>0</td>\n      <td>0</td>\n      <td>0</td>\n      <td>0</td>\n      <td>0</td>\n    </tr>\n    <tr>\n      <th>1219</th>\n      <td>0</td>\n      <td>11</td>\n      <td>0</td>\n      <td>0</td>\n      <td>0</td>\n      <td>0</td>\n      <td>0</td>\n      <td>0</td>\n      <td>0</td>\n      <td>1</td>\n      <td>...</td>\n      <td>0</td>\n      <td>0</td>\n      <td>0</td>\n      <td>0</td>\n      <td>0</td>\n      <td>0</td>\n      <td>0</td>\n      <td>0</td>\n      <td>0</td>\n      <td>0</td>\n    </tr>\n    <tr>\n      <th>1220</th>\n      <td>0</td>\n      <td>16</td>\n      <td>0</td>\n      <td>0</td>\n      <td>0</td>\n      <td>1</td>\n      <td>0</td>\n      <td>0</td>\n      <td>0</td>\n      <td>1</td>\n      <td>...</td>\n      <td>0</td>\n      <td>1</td>\n      <td>0</td>\n      <td>0</td>\n      <td>0</td>\n      <td>0</td>\n      <td>0</td>\n      <td>0</td>\n      <td>0</td>\n      <td>0</td>\n    </tr>\n    <tr>\n      <th>1221</th>\n      <td>0</td>\n      <td>13</td>\n      <td>0</td>\n      <td>1</td>\n      <td>0</td>\n      <td>4</td>\n      <td>0</td>\n      <td>0</td>\n      <td>0</td>\n      <td>0</td>\n      <td>...</td>\n      <td>0</td>\n      <td>0</td>\n      <td>0</td>\n      <td>0</td>\n      <td>0</td>\n      <td>0</td>\n      <td>0</td>\n      <td>0</td>\n      <td>0</td>\n      <td>0</td>\n    </tr>\n  </tbody>\n</table>\n<p>1222 rows × 394 columns</p>\n</div>"
     },
     "execution_count": 71,
     "metadata": {},
     "output_type": "execute_result"
    }
   ],
   "source": [
    "filtered_vocab_vector_df.loc[~(filtered_vocab_vector_df == 0).all(axis=1)]  # хорошо вообще"
   ],
   "metadata": {
    "collapsed": false,
    "pycharm": {
     "name": "#%%\n"
    }
   }
  },
  {
   "cell_type": "code",
   "execution_count": 79,
   "outputs": [],
   "source": [
    "filtered_vocab_vector_df1 = filtered_vocab_vector_df.loc[~(filtered_vocab_vector_df == 0).all(axis=1)].copy()\n",
    "\n",
    "# в 99% мы сможем что то сказать"
   ],
   "metadata": {
    "collapsed": false,
    "pycharm": {
     "name": "#%%\n"
    }
   }
  },
  {
   "cell_type": "code",
   "execution_count": 80,
   "outputs": [],
   "source": [
    "filtered_vocab_vector_df1.to_excel('filtered_vocab.xlsx', index=False)"
   ],
   "metadata": {
    "collapsed": false,
    "pycharm": {
     "name": "#%%\n"
    }
   }
  },
  {
   "cell_type": "code",
   "execution_count": 81,
   "outputs": [],
   "source": [
    "filtered_vocab_vector_df1 = pd.concat([filtered_vocab_vector_df1, data_df['log_price_spread']], axis=1)"
   ],
   "metadata": {
    "collapsed": false,
    "pycharm": {
     "name": "#%%\n"
    }
   }
  },
  {
   "cell_type": "code",
   "execution_count": 84,
   "outputs": [],
   "source": [
    "filtered_vocab_vector_df1.to_excel('features_and_target.xlsx', index=False)"
   ],
   "metadata": {
    "collapsed": false,
    "pycharm": {
     "name": "#%%\n"
    }
   }
  },
  {
   "cell_type": "code",
   "execution_count": null,
   "outputs": [],
   "source": [],
   "metadata": {
    "collapsed": false,
    "pycharm": {
     "name": "#%%\n"
    }
   }
  },
  {
   "cell_type": "code",
   "execution_count": null,
   "outputs": [],
   "source": [],
   "metadata": {
    "collapsed": false,
    "pycharm": {
     "name": "#%%\n"
    }
   }
  },
  {
   "cell_type": "code",
   "execution_count": 48,
   "outputs": [
    {
     "data": {
      "text/plain": "<Figure size 640x480 with 1 Axes>",
      "image/png": "[encoded data removed]"
     },
     "metadata": {},
     "output_type": "display_data"
    }
   ],
   "source": [
    "corr_df = sorted_tokens_correlation_df['Correlation']\n",
    "\n",
    "# Plot the histogram and kernel density plot\n",
    "sns.histplot(corr_df, kde=True)\n",
    "\n",
    "# Set the title and labels\n",
    "plt.title('Distribution of Correlation')\n",
    "plt.xlabel('Correlation')\n",
    "plt.ylabel('Frequency')\n",
    "\n",
    "# Show the plot\n",
    "plt.savefig('distr_of_token_corr.png')\n",
    "#plt.show()"
   ],
   "metadata": {
    "collapsed": false,
    "pycharm": {
     "name": "#%%\n"
    }
   }
  },
  {
   "cell_type": "code",
   "execution_count": null,
   "outputs": [],
   "source": [],
   "metadata": {
    "collapsed": false,
    "pycharm": {
     "name": "#%%\n"
    }
   }
  },
  {
   "cell_type": "code",
   "execution_count": null,
   "outputs": [],
   "source": [],
   "metadata": {
    "collapsed": false,
    "pycharm": {
     "name": "#%%\n"
    }
   }
  },
  {
   "cell_type": "code",
   "execution_count": null,
   "outputs": [],
   "source": [],
   "metadata": {
    "collapsed": false,
    "pycharm": {
     "name": "#%%\n"
    }
   }
  },
  {
   "cell_type": "code",
   "execution_count": null,
   "outputs": [],
   "source": [],
   "metadata": {
    "collapsed": false,
    "pycharm": {
     "name": "#%%\n"
    }
   }
  },
  {
   "cell_type": "code",
   "execution_count": 5,
   "outputs": [
    {
     "data": {
      "text/plain": "<Figure size 640x480 with 1 Axes>",
      "image/png": "[encoded data removed]"
     },
     "metadata": {},
     "output_type": "display_data"
    }
   ],
   "source": [
    "target = data_df['log_price_spread']\n",
    "\n",
    "# Plot the histogram and kernel density plot\n",
    "sns.histplot(target, kde=True)\n",
    "\n",
    "# Set the title and labels\n",
    "plt.title('Distribution of Target Variable')\n",
    "plt.xlabel('log_price_spread')\n",
    "plt.ylabel('Frequency')\n",
    "\n",
    "# Show the plot\n",
    "plt.savefig('distr_of_target.png')\n",
    "# plt.show()"
   ],
   "metadata": {
    "collapsed": false,
    "pycharm": {
     "name": "#%%\n"
    }
   }
  },
  {
   "cell_type": "code",
   "execution_count": 6,
   "outputs": [
    {
     "data": {
      "text/plain": "0.011806702533972755"
     },
     "execution_count": 6,
     "metadata": {},
     "output_type": "execute_result"
    }
   ],
   "source": [
    "data_df['log_price_spread'].median()"
   ],
   "metadata": {
    "collapsed": false,
    "pycharm": {
     "name": "#%%\n"
    }
   }
  },
  {
   "cell_type": "code",
   "execution_count": 8,
   "outputs": [
    {
     "data": {
      "text/plain": "0.013294167614588062"
     },
     "execution_count": 8,
     "metadata": {},
     "output_type": "execute_result"
    }
   ],
   "source": [
    "data_df['log_price_spread'].mean()"
   ],
   "metadata": {
    "collapsed": false,
    "pycharm": {
     "name": "#%%\n"
    }
   }
  },
  {
   "cell_type": "code",
   "execution_count": 14,
   "outputs": [
    {
     "data": {
      "text/plain": "0.00355232666423877"
     },
     "execution_count": 14,
     "metadata": {},
     "output_type": "execute_result"
    }
   ],
   "source": [
    "data_df['log_price_spread'].mode()[1]"
   ],
   "metadata": {
    "collapsed": false,
    "pycharm": {
     "name": "#%%\n"
    }
   }
  },
  {
   "cell_type": "code",
   "execution_count": 10,
   "outputs": [
    {
     "data": {
      "text/plain": "0       0.000000\n1       0.003552\n2       0.003958\n3       0.004132\n4       0.004248\n          ...   \n1227    0.043069\n1228    0.049912\n1229    0.054191\n1230    0.054250\n1231    0.095551\nName: log_price_spread, Length: 1232, dtype: float64"
     },
     "execution_count": 10,
     "metadata": {},
     "output_type": "execute_result"
    }
   ],
   "source": [
    "data_df['log_price_spread'].mode()"
   ],
   "metadata": {
    "collapsed": false,
    "pycharm": {
     "name": "#%%\n"
    }
   }
  },
  {
   "cell_type": "code",
   "execution_count": null,
   "outputs": [],
   "source": [],
   "metadata": {
    "collapsed": false,
    "pycharm": {
     "name": "#%%\n"
    }
   }
  },
  {
   "cell_type": "code",
   "execution_count": null,
   "outputs": [],
   "source": [],
   "metadata": {
    "collapsed": false,
    "pycharm": {
     "name": "#%%\n"
    }
   }
  },
  {
   "cell_type": "code",
   "execution_count": null,
   "outputs": [],
   "source": [
    "correlation_matrix = vocab_vector_df.corr()"
   ],
   "metadata": {
    "collapsed": false,
    "pycharm": {
     "name": "#%%\n"
    }
   }
  },
  {
   "cell_type": "code",
   "execution_count": null,
   "outputs": [],
   "source": [
    "correlation_matrix.values[[np.arange(correlation_matrix.shape[0])]*2] = 0\n",
    "correlation_pairs = correlation_matrix.unstack().sort_values(ascending=False, kind=\"quicksort\")"
   ],
   "metadata": {
    "collapsed": false,
    "pycharm": {
     "name": "#%%\n"
    }
   }
  },
  {
   "cell_type": "code",
   "execution_count": null,
   "outputs": [],
   "source": [],
   "metadata": {
    "collapsed": false,
    "pycharm": {
     "name": "#%%\n"
    }
   }
  },
  {
   "cell_type": "code",
   "execution_count": null,
   "outputs": [],
   "source": [],
   "metadata": {
    "collapsed": false,
    "pycharm": {
     "name": "#%%\n"
    }
   }
  },
  {
   "cell_type": "code",
   "execution_count": 55,
   "outputs": [],
   "source": [
    "slovar = open('russian.txt', encoding='cp1251').readlines()"
   ],
   "metadata": {
    "collapsed": false,
    "pycharm": {
     "name": "#%%\n"
    }
   }
  },
  {
   "cell_type": "code",
   "execution_count": 63,
   "outputs": [],
   "source": [
    "slovar = [x.replace('\\n', '') for x in slovar]"
   ],
   "metadata": {
    "collapsed": false,
    "pycharm": {
     "name": "#%%\n"
    }
   }
  },
  {
   "cell_type": "code",
   "execution_count": 65,
   "outputs": [
    {
     "data": {
      "text/plain": "'китёнышами'"
     },
     "execution_count": 65,
     "metadata": {},
     "output_type": "execute_result"
    }
   ],
   "source": [
    "slovar[465789]"
   ],
   "metadata": {
    "collapsed": false,
    "pycharm": {
     "name": "#%%\n"
    }
   }
  },
  {
   "cell_type": "code",
   "execution_count": null,
   "outputs": [],
   "source": [],
   "metadata": {
    "collapsed": false,
    "pycharm": {
     "name": "#%%\n"
    }
   }
  },
  {
   "cell_type": "code",
   "execution_count": 66,
   "outputs": [],
   "source": [
    "names = open('russian_surnames.txt', encoding='cp1251').readlines()"
   ],
   "metadata": {
    "collapsed": false,
    "pycharm": {
     "name": "#%%\n"
    }
   }
  },
  {
   "cell_type": "code",
   "execution_count": 70,
   "outputs": [],
   "source": [
    "names = [x.replace('\\n', '').lower() for x in names]"
   ],
   "metadata": {
    "collapsed": false,
    "pycharm": {
     "name": "#%%\n"
    }
   }
  },
  {
   "cell_type": "code",
   "execution_count": 73,
   "outputs": [
    {
     "data": {
      "text/plain": "'брусилина'"
     },
     "execution_count": 73,
     "metadata": {},
     "output_type": "execute_result"
    }
   ],
   "source": [
    "names[98767]"
   ],
   "metadata": {
    "collapsed": false,
    "pycharm": {
     "name": "#%%\n"
    }
   }
  },
  {
   "cell_type": "code",
   "execution_count": null,
   "outputs": [],
   "source": [],
   "metadata": {
    "collapsed": false,
    "pycharm": {
     "name": "#%%\n"
    }
   }
  },
  {
   "cell_type": "code",
   "execution_count": null,
   "outputs": [],
   "source": [],
   "metadata": {
    "collapsed": false,
    "pycharm": {
     "name": "#%%\n"
    }
   }
  },
  {
   "cell_type": "code",
   "execution_count": 50,
   "outputs": [
    {
     "data": {
      "text/plain": "<NA>"
     },
     "execution_count": 50,
     "metadata": {},
     "output_type": "execute_result"
    }
   ],
   "source": [
    "pd.NA"
   ],
   "metadata": {
    "collapsed": false,
    "pycharm": {
     "name": "#%%\n"
    }
   }
  },
  {
   "cell_type": "code",
   "execution_count": null,
   "outputs": [],
   "source": [],
   "metadata": {
    "collapsed": false,
    "pycharm": {
     "name": "#%%\n"
    }
   }
  },
  {
   "cell_type": "code",
   "execution_count": 47,
   "outputs": [
    {
     "data": {
      "text/plain": "           Date  log_price_spread  week    yr  week_yr Россия_Все   \n0    2015-01-16          0.025619     3  2015   3_2015             \\\n1    2015-01-19          0.033868     4  2015   4_2015              \n2    2015-01-20          0.020928     4  2015   4_2015              \n3    2015-01-21          0.030370     4  2015   4_2015              \n4    2015-01-22          0.035106     4  2015   4_2015              \n...         ...               ...   ...   ...      ...        ...   \n1227 2019-12-23          0.008188    52  2019  52_2019              \n1228 2019-12-24          0.004616    52  2019  52_2019              \n1229 2019-12-26          0.004296    52  2019  52_2019              \n1230 2019-12-27          0.008190    52  2019  52_2019              \n1231 2019-12-30          0.005853     1  2019   1_2019              \n\n                                                Мир_Все Экономика_Все   \n0     меркель случайно назвала антисемитизм гражданс...                \\\n1                                                                       \n2                                                                       \n3     лидер антиисламского движения ушел споста посл...                 \n4     мэр лондона согласился заплатить налог ради по...                 \n...                                                 ...           ...   \n1227                                                                    \n1228                                                                    \n1229                                                                    \n1230                                                                    \n1231                                                                    \n\n     Наука и техника_Все Бывший СССР_Все  ... Легпром_Мировой опыт   \n0                                         ...                       \\\n1                                         ...                        \n2                                         ...                        \n3                                         ...                        \n4                                         ...                        \n...                  ...             ...  ...                  ...   \n1227                                      ...                        \n1228                                      ...                        \n1229                                      ...                        \n1230                                      ...                        \n1231                                      ...                        \n\n     Ценности_Все Оружие_Вооружение Легпром_Все ЧМ-2014_Все Легпром_Инновации   \n0                                                                              \\\n1                                                                               \n2                                                                               \n3                                                                               \n4                                                                               \n...           ...               ...         ...         ...               ...   \n1227                                                                            \n1228                                                                            \n1229                                                                            \n1230                                                                            \n1231                                                                            \n\n     _69-я параллель МедНовости_Все _Финансы компаний Сочи_Все  \n0                                                               \n1                                                               \n2                                                               \n3                                                               \n4                                                               \n...              ...            ...               ...      ...  \n1227                                                            \n1228                                                            \n1229                                                            \n1230                                                            \n1231                                                            \n\n[1232 rows x 136 columns]",
      "text/html": "<div>\n<style scoped>\n    .dataframe tbody tr th:only-of-type {\n        vertical-align: middle;\n    }\n\n    .dataframe tbody tr th {\n        vertical-align: top;\n    }\n\n    .dataframe thead th {\n        text-align: right;\n    }\n</style>\n<table border=\"1\" class=\"dataframe\">\n  <thead>\n    <tr style=\"text-align: right;\">\n      <th></th>\n      <th>Date</th>\n      <th>log_price_spread</th>\n      <th>week</th>\n      <th>yr</th>\n      <th>week_yr</th>\n      <th>Россия_Все</th>\n      <th>Мир_Все</th>\n      <th>Экономика_Все</th>\n      <th>Наука и техника_Все</th>\n      <th>Бывший СССР_Все</th>\n      <th>...</th>\n      <th>Легпром_Мировой опыт</th>\n      <th>Ценности_Все</th>\n      <th>Оружие_Вооружение</th>\n      <th>Легпром_Все</th>\n      <th>ЧМ-2014_Все</th>\n      <th>Легпром_Инновации</th>\n      <th>_69-я параллель</th>\n      <th>МедНовости_Все</th>\n      <th>_Финансы компаний</th>\n      <th>Сочи_Все</th>\n    </tr>\n  </thead>\n  <tbody>\n    <tr>\n      <th>0</th>\n      <td>2015-01-16</td>\n      <td>0.025619</td>\n      <td>3</td>\n      <td>2015</td>\n      <td>3_2015</td>\n      <td></td>\n      <td>меркель случайно назвала антисемитизм гражданс...</td>\n      <td></td>\n      <td></td>\n      <td></td>\n      <td>...</td>\n      <td></td>\n      <td></td>\n      <td></td>\n      <td></td>\n      <td></td>\n      <td></td>\n      <td></td>\n      <td></td>\n      <td></td>\n      <td></td>\n    </tr>\n    <tr>\n      <th>1</th>\n      <td>2015-01-19</td>\n      <td>0.033868</td>\n      <td>4</td>\n      <td>2015</td>\n      <td>4_2015</td>\n      <td></td>\n      <td></td>\n      <td></td>\n      <td></td>\n      <td></td>\n      <td>...</td>\n      <td></td>\n      <td></td>\n      <td></td>\n      <td></td>\n      <td></td>\n      <td></td>\n      <td></td>\n      <td></td>\n      <td></td>\n      <td></td>\n    </tr>\n    <tr>\n      <th>2</th>\n      <td>2015-01-20</td>\n      <td>0.020928</td>\n      <td>4</td>\n      <td>2015</td>\n      <td>4_2015</td>\n      <td></td>\n      <td></td>\n      <td></td>\n      <td></td>\n      <td></td>\n      <td>...</td>\n      <td></td>\n      <td></td>\n      <td></td>\n      <td></td>\n      <td></td>\n      <td></td>\n      <td></td>\n      <td></td>\n      <td></td>\n      <td></td>\n    </tr>\n    <tr>\n      <th>3</th>\n      <td>2015-01-21</td>\n      <td>0.030370</td>\n      <td>4</td>\n      <td>2015</td>\n      <td>4_2015</td>\n      <td></td>\n      <td>лидер антиисламского движения ушел споста посл...</td>\n      <td></td>\n      <td></td>\n      <td></td>\n      <td>...</td>\n      <td></td>\n      <td></td>\n      <td></td>\n      <td></td>\n      <td></td>\n      <td></td>\n      <td></td>\n      <td></td>\n      <td></td>\n      <td></td>\n    </tr>\n    <tr>\n      <th>4</th>\n      <td>2015-01-22</td>\n      <td>0.035106</td>\n      <td>4</td>\n      <td>2015</td>\n      <td>4_2015</td>\n      <td></td>\n      <td>мэр лондона согласился заплатить налог ради по...</td>\n      <td></td>\n      <td></td>\n      <td></td>\n      <td>...</td>\n      <td></td>\n      <td></td>\n      <td></td>\n      <td></td>\n      <td></td>\n      <td></td>\n      <td></td>\n      <td></td>\n      <td></td>\n      <td></td>\n    </tr>\n    <tr>\n      <th>...</th>\n      <td>...</td>\n      <td>...</td>\n      <td>...</td>\n      <td>...</td>\n      <td>...</td>\n      <td>...</td>\n      <td>...</td>\n      <td>...</td>\n      <td>...</td>\n      <td>...</td>\n      <td>...</td>\n      <td>...</td>\n      <td>...</td>\n      <td>...</td>\n      <td>...</td>\n      <td>...</td>\n      <td>...</td>\n      <td>...</td>\n      <td>...</td>\n      <td>...</td>\n      <td>...</td>\n    </tr>\n    <tr>\n      <th>1227</th>\n      <td>2019-12-23</td>\n      <td>0.008188</td>\n      <td>52</td>\n      <td>2019</td>\n      <td>52_2019</td>\n      <td></td>\n      <td></td>\n      <td></td>\n      <td></td>\n      <td></td>\n      <td>...</td>\n      <td></td>\n      <td></td>\n      <td></td>\n      <td></td>\n      <td></td>\n      <td></td>\n      <td></td>\n      <td></td>\n      <td></td>\n      <td></td>\n    </tr>\n    <tr>\n      <th>1228</th>\n      <td>2019-12-24</td>\n      <td>0.004616</td>\n      <td>52</td>\n      <td>2019</td>\n      <td>52_2019</td>\n      <td></td>\n      <td></td>\n      <td></td>\n      <td></td>\n      <td></td>\n      <td>...</td>\n      <td></td>\n      <td></td>\n      <td></td>\n      <td></td>\n      <td></td>\n      <td></td>\n      <td></td>\n      <td></td>\n      <td></td>\n      <td></td>\n    </tr>\n    <tr>\n      <th>1229</th>\n      <td>2019-12-26</td>\n      <td>0.004296</td>\n      <td>52</td>\n      <td>2019</td>\n      <td>52_2019</td>\n      <td></td>\n      <td></td>\n      <td></td>\n      <td></td>\n      <td></td>\n      <td>...</td>\n      <td></td>\n      <td></td>\n      <td></td>\n      <td></td>\n      <td></td>\n      <td></td>\n      <td></td>\n      <td></td>\n      <td></td>\n      <td></td>\n    </tr>\n    <tr>\n      <th>1230</th>\n      <td>2019-12-27</td>\n      <td>0.008190</td>\n      <td>52</td>\n      <td>2019</td>\n      <td>52_2019</td>\n      <td></td>\n      <td></td>\n      <td></td>\n      <td></td>\n      <td></td>\n      <td>...</td>\n      <td></td>\n      <td></td>\n      <td></td>\n      <td></td>\n      <td></td>\n      <td></td>\n      <td></td>\n      <td></td>\n      <td></td>\n      <td></td>\n    </tr>\n    <tr>\n      <th>1231</th>\n      <td>2019-12-30</td>\n      <td>0.005853</td>\n      <td>1</td>\n      <td>2019</td>\n      <td>1_2019</td>\n      <td></td>\n      <td></td>\n      <td></td>\n      <td></td>\n      <td></td>\n      <td>...</td>\n      <td></td>\n      <td></td>\n      <td></td>\n      <td></td>\n      <td></td>\n      <td></td>\n      <td></td>\n      <td></td>\n      <td></td>\n      <td></td>\n    </tr>\n  </tbody>\n</table>\n<p>1232 rows × 136 columns</p>\n</div>"
     },
     "execution_count": 47,
     "metadata": {},
     "output_type": "execute_result"
    }
   ],
   "source": [
    "data_df1"
   ],
   "metadata": {
    "collapsed": false,
    "pycharm": {
     "name": "#%%\n"
    }
   }
  },
  {
   "cell_type": "code",
   "execution_count": null,
   "outputs": [],
   "source": [],
   "metadata": {
    "collapsed": false,
    "pycharm": {
     "name": "#%%\n"
    }
   }
  },
  {
   "cell_type": "code",
   "execution_count": 27,
   "outputs": [],
   "source": [
    "X = vectorizer.fit_transform(data_df1['Россия_Все'].to_list())"
   ],
   "metadata": {
    "collapsed": false,
    "pycharm": {
     "name": "#%%\n"
    }
   }
  },
  {
   "cell_type": "code",
   "execution_count": 28,
   "outputs": [
    {
     "data": {
      "text/plain": "(1232, 296)"
     },
     "execution_count": 28,
     "metadata": {},
     "output_type": "execute_result"
    }
   ],
   "source": [
    "X.shape"
   ],
   "metadata": {
    "collapsed": false,
    "pycharm": {
     "name": "#%%\n"
    }
   }
  },
  {
   "cell_type": "code",
   "execution_count": 32,
   "outputs": [
    {
     "data": {
      "text/plain": "scipy.sparse._csr.csr_matrix"
     },
     "execution_count": 32,
     "metadata": {},
     "output_type": "execute_result"
    }
   ],
   "source": [
    "type(X)"
   ],
   "metadata": {
    "collapsed": false,
    "pycharm": {
     "name": "#%%\n"
    }
   }
  },
  {
   "cell_type": "code",
   "execution_count": 35,
   "outputs": [
    {
     "data": {
      "text/plain": "array([[0, 0, 0, ..., 0, 0, 0],\n       [0, 0, 0, ..., 0, 0, 0],\n       [0, 0, 0, ..., 0, 0, 0],\n       ...,\n       [0, 0, 0, ..., 0, 0, 0],\n       [0, 0, 0, ..., 0, 0, 0],\n       [0, 0, 0, ..., 0, 0, 0]])"
     },
     "execution_count": 35,
     "metadata": {},
     "output_type": "execute_result"
    }
   ],
   "source": [
    "X.toarray()"
   ],
   "metadata": {
    "collapsed": false,
    "pycharm": {
     "name": "#%%\n"
    }
   }
  },
  {
   "cell_type": "code",
   "execution_count": 36,
   "outputs": [
    {
     "data": {
      "text/plain": "38480"
     },
     "execution_count": 36,
     "metadata": {},
     "output_type": "execute_result"
    }
   ],
   "source": [
    "296*130 # не, такие размеры не подходят"
   ],
   "metadata": {
    "collapsed": false,
    "pycharm": {
     "name": "#%%\n"
    }
   }
  },
  {
   "cell_type": "code",
   "execution_count": 32,
   "outputs": [],
   "source": [],
   "metadata": {
    "collapsed": false,
    "pycharm": {
     "name": "#%%\n"
    }
   }
  }
 ],
 "metadata": {
  "kernelspec": {
   "display_name": "Python 3",
   "language": "python",
   "name": "python3"
  },
  "language_info": {
   "codemirror_mode": {
    "name": "ipython",
    "version": 2
   },
   "file_extension": ".py",
   "mimetype": "text/x-python",
   "name": "python",
   "nbconvert_exporter": "python",
   "pygments_lexer": "ipython2",
   "version": "2.7.6"
  }
 },
 "nbformat": 4,
 "nbformat_minor": 0
}