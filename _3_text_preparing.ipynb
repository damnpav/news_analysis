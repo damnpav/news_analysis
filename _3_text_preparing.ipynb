{
 "cells": [
  {
   "cell_type": "code",
   "execution_count": 1,
   "metadata": {
    "collapsed": true,
    "pycharm": {
     "name": "#%%\n"
    }
   },
   "outputs": [],
   "source": [
    "import pandas as pd\n",
    "from tqdm import tqdm\n",
    "import nltk\n",
    "from pymystem3 import Mystem\n",
    "from string import punctuation\n",
    "from nltk.corpus import stopwords"
   ]
  },
  {
   "cell_type": "code",
   "execution_count": 21,
   "outputs": [],
   "source": [
    "from sklearn.feature_extraction.text import CountVectorizer"
   ],
   "metadata": {
    "collapsed": false,
    "pycharm": {
     "name": "#%%\n"
    }
   }
  },
  {
   "cell_type": "code",
   "execution_count": 44,
   "outputs": [],
   "source": [
    "import numpy as np"
   ],
   "metadata": {
    "collapsed": false,
    "pycharm": {
     "name": "#%%\n"
    }
   }
  },
  {
   "cell_type": "code",
   "execution_count": 2,
   "outputs": [
    {
     "name": "stderr",
     "output_type": "stream",
     "text": [
      "[nltk_data] Downloading package stopwords to\n",
      "[nltk_data]     /Users/dp_user/nltk_data...\n",
      "[nltk_data]   Package stopwords is already up-to-date!\n"
     ]
    },
    {
     "data": {
      "text/plain": "True"
     },
     "execution_count": 2,
     "metadata": {},
     "output_type": "execute_result"
    }
   ],
   "source": [
    "nltk.download(\"stopwords\")"
   ],
   "metadata": {
    "collapsed": false,
    "pycharm": {
     "name": "#%%\n"
    }
   }
  },
  {
   "cell_type": "markdown",
   "source": [
    "# TODO надо кластеризовать значения волатильности на волатильные дни и нет"
   ],
   "metadata": {
    "collapsed": false,
    "pycharm": {
     "name": "#%% md\n"
    }
   }
  },
  {
   "cell_type": "code",
   "execution_count": 5,
   "outputs": [],
   "source": [
    "# вообще надо будет попробовать и регрессию и кластеризацию"
   ],
   "metadata": {
    "collapsed": false,
    "pycharm": {
     "name": "#%%\n"
    }
   }
  },
  {
   "cell_type": "code",
   "execution_count": 6,
   "outputs": [],
   "source": [
    "# для этого точно надо как то закодировать слова"
   ],
   "metadata": {
    "collapsed": false,
    "pycharm": {
     "name": "#%%\n"
    }
   }
  },
  {
   "cell_type": "code",
   "execution_count": 7,
   "outputs": [],
   "source": [
    "# разные топики и теги будем использовать как разные фичи"
   ],
   "metadata": {
    "collapsed": false,
    "pycharm": {
     "name": "#%%\n"
    }
   }
  },
  {
   "cell_type": "code",
   "execution_count": 3,
   "outputs": [],
   "source": [
    "data_df = pd.read_excel('imoex_and_news_1_090523.xlsx')"
   ],
   "metadata": {
    "collapsed": false,
    "pycharm": {
     "name": "#%%\n"
    }
   }
  },
  {
   "cell_type": "code",
   "execution_count": 25,
   "outputs": [
    {
     "data": {
      "text/plain": "98                                                     []\n1085                                                   []\n929                                                    []\n763                                                    []\n119     ['госдеп прокомментировал участие исламистов в...\n898                                                    []\n1076                                                   []\n527                                                    []\n383                                                    []\n532                                                    []\nName: Мир_Все, dtype: object"
     },
     "execution_count": 25,
     "metadata": {},
     "output_type": "execute_result"
    }
   ],
   "source": [
    "data_df['Мир_Все'].sample(10)  # очень разряженная матрица"
   ],
   "metadata": {
    "collapsed": false,
    "pycharm": {
     "name": "#%%\n"
    }
   }
  },
  {
   "cell_type": "code",
   "execution_count": null,
   "outputs": [],
   "source": [
    "# теперь текст в колонках надо чистить и лемматизировать"
   ],
   "metadata": {
    "collapsed": false,
    "pycharm": {
     "name": "#%%\n",
     "is_executing": true
    }
   }
  },
  {
   "cell_type": "code",
   "execution_count": 4,
   "outputs": [],
   "source": [
    "topic_tags_df = pd.read_excel(r'/Users/dp_user/PycharmProjects/news_analysis/гуппировка_по_тегам_и_топикам.xlsx', sheet_name='used_keys')"
   ],
   "metadata": {
    "collapsed": false,
    "pycharm": {
     "name": "#%%\n"
    }
   }
  },
  {
   "cell_type": "code",
   "execution_count": 5,
   "outputs": [],
   "source": [
    "news_cols = topic_tags_df['topic_tags'].to_list()"
   ],
   "metadata": {
    "collapsed": false,
    "pycharm": {
     "name": "#%%\n"
    }
   }
  },
  {
   "cell_type": "code",
   "execution_count": 6,
   "outputs": [],
   "source": [
    "russian_stopwords = stopwords.words(\"russian\")"
   ],
   "metadata": {
    "collapsed": false,
    "pycharm": {
     "name": "#%%\n"
    }
   }
  },
  {
   "cell_type": "code",
   "execution_count": 30,
   "outputs": [],
   "source": [],
   "metadata": {
    "collapsed": false,
    "pycharm": {
     "name": "#%%\n"
    }
   }
  },
  {
   "cell_type": "code",
   "execution_count": 7,
   "outputs": [],
   "source": [
    "data_df1 = data_df.copy()"
   ],
   "metadata": {
    "collapsed": false,
    "pycharm": {
     "name": "#%%\n"
    }
   }
  },
  {
   "cell_type": "code",
   "execution_count": 8,
   "outputs": [
    {
     "name": "stderr",
     "output_type": "stream",
     "text": [
      "100%|██████████| 131/131 [00:00<00:00, 398.11it/s]\n"
     ]
    }
   ],
   "source": [
    "for col in tqdm(news_cols):\n",
    "    data_df1[col] = data_df1[col].str.lower()\n",
    "    data_df1[col] = data_df1[col].str.replace('[','').replace(']', '')\n",
    "    data_df1[col]  = data_df1[col].str.replace('[^а-яА-Яё Ё]', '', regex=True)  # replace all non Cyrillic symbols"
   ],
   "metadata": {
    "collapsed": false,
    "pycharm": {
     "name": "#%%\n"
    }
   }
  },
  {
   "cell_type": "code",
   "execution_count": 55,
   "outputs": [],
   "source": [
    "# todo теперь надо сделать как советовал chat и сделать из этого фичи как-нибудь (мешок слов, tf_idf и тд)"
   ],
   "metadata": {
    "collapsed": false,
    "pycharm": {
     "name": "#%%\n"
    }
   }
  },
  {
   "cell_type": "code",
   "execution_count": 31,
   "outputs": [],
   "source": [
    "# + надо еще лемматизировать"
   ],
   "metadata": {
    "collapsed": false,
    "pycharm": {
     "name": "#%%\n"
    }
   }
  },
  {
   "cell_type": "code",
   "execution_count": 51,
   "outputs": [],
   "source": [
    "exmpl_str = data_df1['Россия_Москва'][0]"
   ],
   "metadata": {
    "collapsed": false,
    "pycharm": {
     "name": "#%%\n"
    }
   }
  },
  {
   "cell_type": "code",
   "execution_count": 52,
   "outputs": [
    {
     "data": {
      "text/plain": "'подземные переходы москвы проверят наналичие тайников второй поезд сосквозным проходом запустят вконце января'"
     },
     "execution_count": 52,
     "metadata": {},
     "output_type": "execute_result"
    }
   ],
   "source": [
    "exmpl_str"
   ],
   "metadata": {
    "collapsed": false,
    "pycharm": {
     "name": "#%%\n"
    }
   }
  },
  {
   "cell_type": "code",
   "execution_count": 40,
   "outputs": [
    {
     "name": "stderr",
     "output_type": "stream",
     "text": [
      "Installing mystem to /Users/dp_user/.local/bin/mystem from http://download.cdn.yandex.net/mystem/mystem-3.1-macosx.tar.gz\n"
     ]
    }
   ],
   "source": [
    "mystem = Mystem()"
   ],
   "metadata": {
    "collapsed": false,
    "pycharm": {
     "name": "#%%\n"
    }
   }
  },
  {
   "cell_type": "code",
   "execution_count": 53,
   "outputs": [],
   "source": [
    "tokens = mystem.lemmatize(exmpl_str.lower())"
   ],
   "metadata": {
    "collapsed": false,
    "pycharm": {
     "name": "#%%\n"
    }
   }
  },
  {
   "cell_type": "code",
   "execution_count": 54,
   "outputs": [
    {
     "data": {
      "text/plain": "['подземный',\n ' ',\n 'переход',\n ' ',\n 'москва',\n ' ',\n 'проверять',\n ' ',\n 'наналичие',\n ' ',\n 'тайник',\n ' ',\n 'второй',\n ' ',\n 'поезд',\n ' ',\n 'сосквозной',\n ' ',\n 'проход',\n ' ',\n 'запускать',\n ' ',\n 'вконце',\n ' ',\n 'январь',\n '\\n']"
     },
     "execution_count": 54,
     "metadata": {},
     "output_type": "execute_result"
    }
   ],
   "source": [
    "tokens  # вот так токены будем делать"
   ],
   "metadata": {
    "collapsed": false,
    "pycharm": {
     "name": "#%%\n"
    }
   }
  },
  {
   "cell_type": "code",
   "execution_count": null,
   "outputs": [],
   "source": [],
   "metadata": {
    "collapsed": false,
    "pycharm": {
     "name": "#%%\n",
     "is_executing": true
    }
   }
  },
  {
   "cell_type": "markdown",
   "source": [
    "# BagOfWords, topic_tag надо закодировать как отдельные фичу"
   ],
   "metadata": {
    "collapsed": false,
    "pycharm": {
     "name": "#%% md\n"
    }
   }
  },
  {
   "cell_type": "code",
   "execution_count": 9,
   "outputs": [
    {
     "data": {
      "text/plain": "(1232, 143)"
     },
     "execution_count": 9,
     "metadata": {},
     "output_type": "execute_result"
    }
   ],
   "source": [
    "data_df1.shape"
   ],
   "metadata": {
    "collapsed": false,
    "pycharm": {
     "name": "#%%\n"
    }
   }
  },
  {
   "cell_type": "code",
   "execution_count": null,
   "outputs": [],
   "source": [],
   "metadata": {
    "collapsed": false,
    "pycharm": {
     "name": "#%%\n",
     "is_executing": true
    }
   }
  },
  {
   "cell_type": "code",
   "execution_count": 15,
   "outputs": [
    {
     "data": {
      "text/plain": "['Date',\n 'Open',\n 'High',\n 'Low',\n 'Close',\n 'Adj Close',\n 'Volume',\n 'log_price_spread',\n 'log_ret',\n 'week',\n 'yr',\n 'week_yr',\n 'Россия_Все',\n 'Мир_Все',\n 'Экономика_Все',\n 'Наука и техника_Все',\n 'Бывший СССР_Все',\n 'Интернет и СМИ_Все',\n 'Мир_Политика',\n 'Россия_Общество',\n 'Бывший СССР_Украина',\n 'Из жизни_Все',\n 'Россия_Политика',\n 'Экономика_Госэкономика',\n 'Мир_Общество',\n 'Силовые структуры_',\n 'Интернет и СМИ_Интернет',\n '_Общество',\n '_Политика',\n 'Наука и техника_Наука',\n 'Силовые структуры_Следствие и суд',\n 'Россия_Происшествия',\n 'Мир_Происшествия',\n 'Россия_',\n 'Мир_Преступность',\n '_Украина',\n 'Экономика_Бизнес',\n 'Бизнес_Бизнес',\n '_Происшествия',\n 'Наука и техника_Космос',\n 'Мир_Конфликты',\n 'Экономика_',\n 'Интернет и СМИ_ТВ и радио',\n 'Интернет и СМИ_Coцсети',\n 'Из жизни_Происшествия',\n 'Россия_Регионы',\n '_Госэкономика',\n 'Силовые структуры_Криминал',\n 'Наука и техника_Гаджеты',\n 'Бизнес_Деловой климат',\n 'Бывший СССР_',\n 'Экономика_Рынки',\n 'Силовые структуры_Полиция и спецслужбы',\n 'Бывший СССР_Закавказье',\n '_Интернет',\n '_ТВ и радио',\n 'Экономика_Деньги',\n 'Россия_Москва',\n 'Путешествия_Происшествия',\n 'Бывший СССР_Прибалтика',\n '_Оружие',\n 'Наука и техника_Оружие',\n 'Бывший СССР_Средняя Азия',\n '_Бизнес',\n 'Бывший СССР_Белоруссия',\n '_',\n '_Регионы',\n 'Бизнес_Мировой бизнес',\n '_Рынки',\n '_Экономика',\n 'Дом_Офис',\n '_Полиция и спецслужбы',\n 'Из жизни_События',\n 'Путешествия_Россия',\n '_Космос',\n 'Крым_Все',\n '_Конфликты',\n '_Криминал',\n 'Наука и техника_Софт',\n '_Деловой климат',\n 'Экономика_Деловой климат',\n '69-я параллель_События',\n '_События',\n '_Мир',\n 'Бывший СССР_Молдавия',\n '_Белоруссия',\n '_Преступность',\n 'Бизнес_Автобизнес',\n '_Россия',\n '_Закавказье',\n '_Деньги',\n '_Пресса',\n 'Интернет и СМИ_',\n '69-я параллель_Достижения',\n '_Мнения',\n '_Прибалтика',\n '_История',\n '_Киберпреступность',\n '_Достижения',\n '_Жизнь',\n '69-я параллель_Все',\n '_Средняя Азия',\n '_Все',\n '69-я параллель_Люди',\n 'Интернет и СМИ_Киберпреступность',\n '_Гаджеты',\n 'Бизнес_Финансы компаний',\n '_Техника',\n 'Силовые структуры_Преступная Россия',\n 'Спорт_Авто',\n '_Город',\n '_Преступная Россия',\n '_Казахстан',\n 'Из жизни_',\n '_Молдавия',\n '_Движение',\n '_Офис',\n 'Экономика_Социальная сфера',\n 'Силовые структуры_Все',\n '_Авто',\n '_Вещи',\n '_Реклама',\n '69-я параллель_Экология',\n 'Легпром_Госрегулирование',\n '_Москва',\n 'Бизнес_Все',\n '_Инструменты',\n 'Легпром_Аналитика рынка',\n 'Бизнес_',\n 'Мир_Страноведение',\n '_Софт',\n 'Мир_Выборы',\n '69-я параллель_История',\n 'Легпром_Мировой опыт',\n 'Ценности_Все',\n 'Оружие_Вооружение',\n 'Легпром_Все',\n 'ЧМ-2014_Все',\n 'Легпром_Инновации',\n '_69-я параллель',\n 'МедНовости_Все',\n '_Финансы компаний',\n 'Сочи_Все']"
     },
     "execution_count": 15,
     "metadata": {},
     "output_type": "execute_result"
    }
   ],
   "source": [
    "list(data_df1.columns)"
   ],
   "metadata": {
    "collapsed": false,
    "pycharm": {
     "name": "#%%\n"
    }
   }
  },
  {
   "cell_type": "code",
   "execution_count": 22,
   "outputs": [
    {
     "data": {
      "text/plain": "['',\n 'мусульмане отпразднуют уразабайрам надвух площадках вподольске',\n 'в клину вчетвертый раз пройдет международный фестиваль искусств чайковского',\n 'общественники отметили рост профессионализма соискателей гранта президента в спч оценили распределение президентских грантов для нко',\n 'питавшуюся неделю втайге ягодами девочку доставили вкрасноярск недобравшим баллов наконкурсе президентских грантов нко объяснят недочеты кириенко рассказал овале заявок напрезидентские гранты отрегиональных нко',\n 'в красноярском крае шесть человек пострадали при обрушении моста',\n 'кандидат вдепутаты гдпожаловался насорванный одиночный пикет ',\n 'в подмосковье насчитали тысяч первоклашек',\n 'васильева испытала божествование отназначения напост министра образования',\n 'онф заявило онамерении добиваться индексации всех грантов вобласти культуры',\n 'ер заявила оготовности расстаться снекоторыми участниками праймериз',\n 'россия предложила помощь вспасении горняков надонецкой шахте',\n 'сми нашли нарушения удоверенного лица навального синоптики предупредили жителей подмосковья оподступающих заморозках',\n 'ночь выборов проведет баттлы политических тяжеловесов нтв показал расследование оборганизации голос',\n 'на праймериз единой россии проголосовали свыше миллионов человек',\n 'мвд предложило прописать взаконе работу охранников без лицензии',\n 'захарова обвинила следствие по боингу видеологической ангажированности',\n 'российский морской беспилотник устроит стрим содна марианской впадины',\n 'в северной осетии найдено захоронение времен второй мировой адвокат рассказал озакрытии дела бывшего главы банка нефтяной',\n 'благотворительный фонд хабенского залет собрал более миллионов рублей',\n 'появилось видео сместа обрушения подъезда вкемеровской области',\n 'сми узнали опланах назначения напост главы минсельхоза губернатора кубани',\n 'тавриду начнут сархитекторов иурбанистов молодежь подмосковья соберется нафоруме уозера любляна',\n 'молодежный форум таврида стартует вкрыму июля нашествие откроется выборами президента под руководством памфиловой',\n 'москалькова рассказала школьникам оправах человека',\n 'матвиенко наградили почетным знаком завклад вразвитие петербурга',\n 'минобороны показало видео работы бомбардировщиков тумв сирии',\n 'путин подарил котенка школьнице измурманской области',\n 'лдпр устроила своему губернатору самую представительную инаугурацию',\n 'появилось видео встречи пробывшего три года вплену всирии россиянина журавлева',\n 'россия опровергла слухи опереговорах сукраиной повозобновлению полетов',\n 'аксенов допустил запуск энергомоста вначале декабря',\n 'депутат призвала россиян отказаться отподражательства чуждым традициям',\n 'отни россиян намесяц останутся без домашней еды игорячей воды изза чм',\n 'названы сроки поставки вроссийские войска первых терминаторов',\n 'титов рассказал о рейдерской атаке набизнес',\n 'маркин назвал фантазерами авторов резолюции европарламента обубийстве немцова',\n 'реформу фсин признали провальной',\n 'на стройплощадке вмоскве погиб шестой замесяц рабочий']"
     },
     "execution_count": 22,
     "metadata": {},
     "output_type": "execute_result"
    }
   ],
   "source": [
    "list(set(data_df1['Россия_Все'].to_list()))"
   ],
   "metadata": {
    "collapsed": false,
    "pycharm": {
     "name": "#%%\n"
    }
   }
  },
  {
   "cell_type": "code",
   "execution_count": 23,
   "outputs": [],
   "source": [
    "vectorizer = CountVectorizer()"
   ],
   "metadata": {
    "collapsed": false,
    "pycharm": {
     "name": "#%%\n"
    }
   }
  },
  {
   "cell_type": "code",
   "execution_count": null,
   "outputs": [],
   "source": [],
   "metadata": {
    "collapsed": false,
    "pycharm": {
     "name": "#%%\n"
    }
   }
  },
  {
   "cell_type": "code",
   "execution_count": 41,
   "outputs": [
    {
     "data": {
      "text/plain": "0     Close         1591.430054\n      Россия_Все               \n1     Close         1576.400024\n      Россия_Все               \n2     Close         1570.969971\n                       ...     \n1229  Россия_Все               \n1230  Close         3050.469971\n      Россия_Все               \n1231  Close         3045.870117\n      Россия_Все               \nLength: 2464, dtype: object"
     },
     "execution_count": 41,
     "metadata": {},
     "output_type": "execute_result"
    }
   ],
   "source": [
    "# TODO нужна функция на каждую строку которую можноо апплаить"
   ],
   "metadata": {
    "collapsed": false,
    "pycharm": {
     "name": "#%%\n"
    }
   }
  },
  {
   "cell_type": "code",
   "execution_count": 42,
   "outputs": [
    {
     "data": {
      "text/plain": "           Date         Open         High          Low        Close   \n0    2015-01-16  1563.209961  1594.060059  1553.739990  1591.430054  \\\n1    2015-01-19  1590.540039  1627.280029  1573.089966  1576.400024   \n2    2015-01-20  1576.469971  1594.859985  1561.829956  1570.969971   \n3    2015-01-21  1570.589966  1619.020020  1570.589966  1618.170044   \n4    2015-01-22  1618.680054  1676.369995  1618.540039  1666.560059   \n...         ...          ...          ...          ...          ...   \n1227 2019-12-23  3009.889893  3033.810059  3009.070068  3033.810059   \n1228 2019-12-24  3035.860107  3039.919922  3025.919922  3030.590088   \n1229 2019-12-26  3025.580078  3034.629883  3021.620117  3031.669922   \n1230 2019-12-27  3029.120117  3054.030029  3029.120117  3050.469971   \n1231 2019-12-30  3051.409912  3060.199951  3042.340088  3045.870117   \n\n        Adj Close  Volume  log_price_spread   log_ret  week  ...   \n0     1591.430054       0          0.025619  0.093670     3  ...  \\\n1     1576.400024       0          0.033868 -0.009489     4  ...   \n2     1570.969971       0          0.020928 -0.003451     4  ...   \n3     1618.170044       0          0.030370  0.029603     4  ...   \n4     1666.560059       0          0.035106  0.029466     4  ...   \n...           ...     ...               ...       ...   ...  ...   \n1227  3033.810059       0          0.008188  0.005911    52  ...   \n1228  3030.590088       0          0.004616 -0.001062    52  ...   \n1229  3031.669922       0          0.004296  0.000356    52  ...   \n1230  3050.469971       0          0.008190  0.006182    52  ...   \n1231  3045.870117       0          0.005853 -0.001509     1  ...   \n\n      Легпром_Мировой опыт Ценности_Все Оружие_Вооружение Легпром_Все   \n0                                                                      \\\n1                                                                       \n2                                                                       \n3                                                                       \n4                                                                       \n...                    ...          ...               ...         ...   \n1227                                                                    \n1228                                                                    \n1229                                                                    \n1230                                                                    \n1231                                                                    \n\n     ЧМ-2014_Все Легпром_Инновации _69-я параллель МедНовости_Все   \n0                                                                  \\\n1                                                                   \n2                                                                   \n3                                                                   \n4                                                                   \n...          ...               ...             ...            ...   \n1227                                                                \n1228                                                                \n1229                                                                \n1230                                                                \n1231                                                                \n\n     _Финансы компаний Сочи_Все  \n0                                \n1                                \n2                                \n3                                \n4                                \n...                ...      ...  \n1227                             \n1228                             \n1229                             \n1230                             \n1231                             \n\n[1232 rows x 143 columns]",
      "text/html": "<div>\n<style scoped>\n    .dataframe tbody tr th:only-of-type {\n        vertical-align: middle;\n    }\n\n    .dataframe tbody tr th {\n        vertical-align: top;\n    }\n\n    .dataframe thead th {\n        text-align: right;\n    }\n</style>\n<table border=\"1\" class=\"dataframe\">\n  <thead>\n    <tr style=\"text-align: right;\">\n      <th></th>\n      <th>Date</th>\n      <th>Open</th>\n      <th>High</th>\n      <th>Low</th>\n      <th>Close</th>\n      <th>Adj Close</th>\n      <th>Volume</th>\n      <th>log_price_spread</th>\n      <th>log_ret</th>\n      <th>week</th>\n      <th>...</th>\n      <th>Легпром_Мировой опыт</th>\n      <th>Ценности_Все</th>\n      <th>Оружие_Вооружение</th>\n      <th>Легпром_Все</th>\n      <th>ЧМ-2014_Все</th>\n      <th>Легпром_Инновации</th>\n      <th>_69-я параллель</th>\n      <th>МедНовости_Все</th>\n      <th>_Финансы компаний</th>\n      <th>Сочи_Все</th>\n    </tr>\n  </thead>\n  <tbody>\n    <tr>\n      <th>0</th>\n      <td>2015-01-16</td>\n      <td>1563.209961</td>\n      <td>1594.060059</td>\n      <td>1553.739990</td>\n      <td>1591.430054</td>\n      <td>1591.430054</td>\n      <td>0</td>\n      <td>0.025619</td>\n      <td>0.093670</td>\n      <td>3</td>\n      <td>...</td>\n      <td></td>\n      <td></td>\n      <td></td>\n      <td></td>\n      <td></td>\n      <td></td>\n      <td></td>\n      <td></td>\n      <td></td>\n      <td></td>\n    </tr>\n    <tr>\n      <th>1</th>\n      <td>2015-01-19</td>\n      <td>1590.540039</td>\n      <td>1627.280029</td>\n      <td>1573.089966</td>\n      <td>1576.400024</td>\n      <td>1576.400024</td>\n      <td>0</td>\n      <td>0.033868</td>\n      <td>-0.009489</td>\n      <td>4</td>\n      <td>...</td>\n      <td></td>\n      <td></td>\n      <td></td>\n      <td></td>\n      <td></td>\n      <td></td>\n      <td></td>\n      <td></td>\n      <td></td>\n      <td></td>\n    </tr>\n    <tr>\n      <th>2</th>\n      <td>2015-01-20</td>\n      <td>1576.469971</td>\n      <td>1594.859985</td>\n      <td>1561.829956</td>\n      <td>1570.969971</td>\n      <td>1570.969971</td>\n      <td>0</td>\n      <td>0.020928</td>\n      <td>-0.003451</td>\n      <td>4</td>\n      <td>...</td>\n      <td></td>\n      <td></td>\n      <td></td>\n      <td></td>\n      <td></td>\n      <td></td>\n      <td></td>\n      <td></td>\n      <td></td>\n      <td></td>\n    </tr>\n    <tr>\n      <th>3</th>\n      <td>2015-01-21</td>\n      <td>1570.589966</td>\n      <td>1619.020020</td>\n      <td>1570.589966</td>\n      <td>1618.170044</td>\n      <td>1618.170044</td>\n      <td>0</td>\n      <td>0.030370</td>\n      <td>0.029603</td>\n      <td>4</td>\n      <td>...</td>\n      <td></td>\n      <td></td>\n      <td></td>\n      <td></td>\n      <td></td>\n      <td></td>\n      <td></td>\n      <td></td>\n      <td></td>\n      <td></td>\n    </tr>\n    <tr>\n      <th>4</th>\n      <td>2015-01-22</td>\n      <td>1618.680054</td>\n      <td>1676.369995</td>\n      <td>1618.540039</td>\n      <td>1666.560059</td>\n      <td>1666.560059</td>\n      <td>0</td>\n      <td>0.035106</td>\n      <td>0.029466</td>\n      <td>4</td>\n      <td>...</td>\n      <td></td>\n      <td></td>\n      <td></td>\n      <td></td>\n      <td></td>\n      <td></td>\n      <td></td>\n      <td></td>\n      <td></td>\n      <td></td>\n    </tr>\n    <tr>\n      <th>...</th>\n      <td>...</td>\n      <td>...</td>\n      <td>...</td>\n      <td>...</td>\n      <td>...</td>\n      <td>...</td>\n      <td>...</td>\n      <td>...</td>\n      <td>...</td>\n      <td>...</td>\n      <td>...</td>\n      <td>...</td>\n      <td>...</td>\n      <td>...</td>\n      <td>...</td>\n      <td>...</td>\n      <td>...</td>\n      <td>...</td>\n      <td>...</td>\n      <td>...</td>\n      <td>...</td>\n    </tr>\n    <tr>\n      <th>1227</th>\n      <td>2019-12-23</td>\n      <td>3009.889893</td>\n      <td>3033.810059</td>\n      <td>3009.070068</td>\n      <td>3033.810059</td>\n      <td>3033.810059</td>\n      <td>0</td>\n      <td>0.008188</td>\n      <td>0.005911</td>\n      <td>52</td>\n      <td>...</td>\n      <td></td>\n      <td></td>\n      <td></td>\n      <td></td>\n      <td></td>\n      <td></td>\n      <td></td>\n      <td></td>\n      <td></td>\n      <td></td>\n    </tr>\n    <tr>\n      <th>1228</th>\n      <td>2019-12-24</td>\n      <td>3035.860107</td>\n      <td>3039.919922</td>\n      <td>3025.919922</td>\n      <td>3030.590088</td>\n      <td>3030.590088</td>\n      <td>0</td>\n      <td>0.004616</td>\n      <td>-0.001062</td>\n      <td>52</td>\n      <td>...</td>\n      <td></td>\n      <td></td>\n      <td></td>\n      <td></td>\n      <td></td>\n      <td></td>\n      <td></td>\n      <td></td>\n      <td></td>\n      <td></td>\n    </tr>\n    <tr>\n      <th>1229</th>\n      <td>2019-12-26</td>\n      <td>3025.580078</td>\n      <td>3034.629883</td>\n      <td>3021.620117</td>\n      <td>3031.669922</td>\n      <td>3031.669922</td>\n      <td>0</td>\n      <td>0.004296</td>\n      <td>0.000356</td>\n      <td>52</td>\n      <td>...</td>\n      <td></td>\n      <td></td>\n      <td></td>\n      <td></td>\n      <td></td>\n      <td></td>\n      <td></td>\n      <td></td>\n      <td></td>\n      <td></td>\n    </tr>\n    <tr>\n      <th>1230</th>\n      <td>2019-12-27</td>\n      <td>3029.120117</td>\n      <td>3054.030029</td>\n      <td>3029.120117</td>\n      <td>3050.469971</td>\n      <td>3050.469971</td>\n      <td>0</td>\n      <td>0.008190</td>\n      <td>0.006182</td>\n      <td>52</td>\n      <td>...</td>\n      <td></td>\n      <td></td>\n      <td></td>\n      <td></td>\n      <td></td>\n      <td></td>\n      <td></td>\n      <td></td>\n      <td></td>\n      <td></td>\n    </tr>\n    <tr>\n      <th>1231</th>\n      <td>2019-12-30</td>\n      <td>3051.409912</td>\n      <td>3060.199951</td>\n      <td>3042.340088</td>\n      <td>3045.870117</td>\n      <td>3045.870117</td>\n      <td>0</td>\n      <td>0.005853</td>\n      <td>-0.001509</td>\n      <td>1</td>\n      <td>...</td>\n      <td></td>\n      <td></td>\n      <td></td>\n      <td></td>\n      <td></td>\n      <td></td>\n      <td></td>\n      <td></td>\n      <td></td>\n      <td></td>\n    </tr>\n  </tbody>\n</table>\n<p>1232 rows × 143 columns</p>\n</div>"
     },
     "execution_count": 42,
     "metadata": {},
     "output_type": "execute_result"
    }
   ],
   "source": [
    "data_df1"
   ],
   "metadata": {
    "collapsed": false,
    "pycharm": {
     "name": "#%%\n"
    }
   }
  },
  {
   "cell_type": "code",
   "execution_count": 45,
   "outputs": [
    {
     "data": {
      "text/plain": "nan"
     },
     "execution_count": 45,
     "metadata": {},
     "output_type": "execute_result"
    }
   ],
   "source": [
    "np.NaN"
   ],
   "metadata": {
    "collapsed": false,
    "pycharm": {
     "name": "#%%\n"
    }
   }
  },
  {
   "cell_type": "code",
   "execution_count": null,
   "outputs": [],
   "source": [],
   "metadata": {
    "collapsed": false,
    "pycharm": {
     "name": "#%%\n"
    }
   }
  },
  {
   "cell_type": "code",
   "execution_count": 27,
   "outputs": [],
   "source": [
    "X = vectorizer.fit_transform(data_df1['Россия_Все'].to_list())"
   ],
   "metadata": {
    "collapsed": false,
    "pycharm": {
     "name": "#%%\n"
    }
   }
  },
  {
   "cell_type": "code",
   "execution_count": 28,
   "outputs": [
    {
     "data": {
      "text/plain": "(1232, 296)"
     },
     "execution_count": 28,
     "metadata": {},
     "output_type": "execute_result"
    }
   ],
   "source": [
    "X.shape"
   ],
   "metadata": {
    "collapsed": false,
    "pycharm": {
     "name": "#%%\n"
    }
   }
  },
  {
   "cell_type": "code",
   "execution_count": 32,
   "outputs": [
    {
     "data": {
      "text/plain": "scipy.sparse._csr.csr_matrix"
     },
     "execution_count": 32,
     "metadata": {},
     "output_type": "execute_result"
    }
   ],
   "source": [
    "type(X)"
   ],
   "metadata": {
    "collapsed": false,
    "pycharm": {
     "name": "#%%\n"
    }
   }
  },
  {
   "cell_type": "code",
   "execution_count": 35,
   "outputs": [
    {
     "data": {
      "text/plain": "array([[0, 0, 0, ..., 0, 0, 0],\n       [0, 0, 0, ..., 0, 0, 0],\n       [0, 0, 0, ..., 0, 0, 0],\n       ...,\n       [0, 0, 0, ..., 0, 0, 0],\n       [0, 0, 0, ..., 0, 0, 0],\n       [0, 0, 0, ..., 0, 0, 0]])"
     },
     "execution_count": 35,
     "metadata": {},
     "output_type": "execute_result"
    }
   ],
   "source": [
    "X.toarray()"
   ],
   "metadata": {
    "collapsed": false,
    "pycharm": {
     "name": "#%%\n"
    }
   }
  },
  {
   "cell_type": "code",
   "execution_count": 36,
   "outputs": [
    {
     "data": {
      "text/plain": "38480"
     },
     "execution_count": 36,
     "metadata": {},
     "output_type": "execute_result"
    }
   ],
   "source": [
    "296*130 # не, такие размеры не подходят"
   ],
   "metadata": {
    "collapsed": false,
    "pycharm": {
     "name": "#%%\n"
    }
   }
  },
  {
   "cell_type": "code",
   "execution_count": 32,
   "outputs": [],
   "source": [],
   "metadata": {
    "collapsed": false,
    "pycharm": {
     "name": "#%%\n"
    }
   }
  }
 ],
 "metadata": {
  "kernelspec": {
   "display_name": "Python 3",
   "language": "python",
   "name": "python3"
  },
  "language_info": {
   "codemirror_mode": {
    "name": "ipython",
    "version": 2
   },
   "file_extension": ".py",
   "mimetype": "text/x-python",
   "name": "python",
   "nbconvert_exporter": "python",
   "pygments_lexer": "ipython2",
   "version": "2.7.6"
  }
 },
 "nbformat": 4,
 "nbformat_minor": 0
}