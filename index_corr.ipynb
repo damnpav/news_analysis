{
 "cells": [
  {
   "cell_type": "markdown",
   "source": [
    "# Надо проверить корреляцию значений бумаг из индекса IMOEX и самого индекса"
   ],
   "metadata": {
    "collapsed": false,
    "pycharm": {
     "name": "#%% md\n"
    }
   }
  },
  {
   "cell_type": "code",
   "execution_count": 1,
   "outputs": [],
   "source": [
    "import yfinance as yf\n",
    "import seaborn as sns\n",
    "import matplotlib.pyplot as plt\n",
    "import pandas as pd"
   ],
   "metadata": {
    "collapsed": false,
    "pycharm": {
     "name": "#%%\n"
    }
   }
  },
  {
   "cell_type": "code",
   "execution_count": 2,
   "outputs": [],
   "source": [
    "index_df = pd.read_excel('descr_stat.xlsx', sheet_name='index_tickets')"
   ],
   "metadata": {
    "collapsed": false,
    "pycharm": {
     "name": "#%%\n"
    }
   }
  },
  {
   "cell_type": "code",
   "execution_count": null,
   "outputs": [],
   "source": [
    "imoex_data = yf.download('IMOEX.ME', period='max', interval='1d')"
   ],
   "metadata": {
    "collapsed": false,
    "pycharm": {
     "name": "#%%\n",
     "is_executing": true
    }
   }
  },
  {
   "cell_type": "code",
   "execution_count": null,
   "outputs": [],
   "source": [
    "tickers_data = {}\n",
    "for ticker in index_df['Ticker'].to_list():\n",
    "    tickers_data[ticker] = yf.download(f'{ticker.upper()}.ME', period='max', interval='1d')"
   ],
   "metadata": {
    "collapsed": false,
    "pycharm": {
     "name": "#%%\n",
     "is_executing": true
    }
   }
  },
  {
   "cell_type": "code",
   "execution_count": 5,
   "outputs": [],
   "source": [
    "merged_data = pd.DataFrame()\n",
    "merged_data['IMOEX'] = imoex_data['Close']"
   ],
   "metadata": {
    "collapsed": false,
    "pycharm": {
     "name": "#%%\n"
    }
   }
  },
  {
   "cell_type": "code",
   "execution_count": 6,
   "outputs": [],
   "source": [
    "for ticker in tickers_data.keys():\n",
    "    buf_df = tickers_data[ticker]['Close'].to_frame()\n",
    "    buf_df = buf_df.rename(columns={'Close': ticker})\n",
    "    merged_data = merged_data.join(buf_df)"
   ],
   "metadata": {
    "collapsed": false,
    "pycharm": {
     "name": "#%%\n"
    }
   }
  },
  {
   "cell_type": "code",
   "execution_count": 7,
   "outputs": [],
   "source": [
    "merged_data = merged_data.dropna(how='all', axis=1).fillna(0)"
   ],
   "metadata": {
    "collapsed": false,
    "pycharm": {
     "name": "#%%\n"
    }
   }
  },
  {
   "cell_type": "code",
   "execution_count": 17,
   "outputs": [
    {
     "data": {
      "text/plain": "                  IMOEX       AFKS       AFLT  AGRO       ALRS  CBOM   \nDate                                                                   \n2013-03-05  1486.420044  26.381001  55.000000   0.0  33.125000   0.0  \\\n2013-03-06  1491.489990  26.610001  55.889999   0.0  32.950001   0.0   \n2013-03-07  1491.349976  26.850000  56.099998   0.0  33.000000   0.0   \n2013-03-11  1505.930054  26.851999  56.299999   0.0  32.898991   0.0   \n2013-03-12  1499.739990  26.830000  56.599998   0.0  32.847000   0.0   \n...                 ...        ...        ...   ...        ...   ...   \n2023-05-05  2538.239990   0.000000   0.000000   0.0   0.000000   0.0   \n2023-05-08  2527.590088   0.000000   0.000000   0.0   0.000000   0.0   \n2023-05-10  2548.629883   0.000000   0.000000   0.0   0.000000   0.0   \n2023-05-11  2595.120117   0.000000   0.000000   0.0   0.000000   0.0   \n2023-05-12  2565.169922   0.000000   0.000000   0.0   0.000000   0.0   \n\n                  CHMF  ENPG  FIVE        GAZP  ...      SBERP       SNGS   \nDate                                            ...                         \n2013-03-05  335.000000   0.0   0.0  136.449997  ...  74.000000  29.127001  \\\n2013-03-06  343.299988   0.0   0.0  134.850006  ...  75.000000  28.987000   \n2013-03-07  336.899994   0.0   0.0  133.729996  ...  75.650002  29.136000   \n2013-03-11  336.899994   0.0   0.0  136.600006  ...  76.449997  29.665001   \n2013-03-12  333.500000   0.0   0.0  137.250000  ...  76.080002  29.929001   \n...                ...   ...   ...         ...  ...        ...        ...   \n2023-05-05    0.000000   0.0   0.0    0.000000  ...   0.000000   0.000000   \n2023-05-08    0.000000   0.0   0.0    0.000000  ...   0.000000   0.000000   \n2023-05-10    0.000000   0.0   0.0    0.000000  ...   0.000000   0.000000   \n2023-05-11    0.000000   0.0   0.0    0.000000  ...   0.000000   0.000000   \n2023-05-12    0.000000   0.0   0.0    0.000000  ...   0.000000   0.000000   \n\n                SNGSP       MOEX       TATNP  TCsG    TRNFP      VTBR  POLY   \nDate                                                                          \n2013-03-05  22.377001  53.750000  109.169998   0.0  68900.0  0.055114   0.0  \\\n2013-03-06  22.525000  53.799999  111.180000   0.0  69800.0  0.054702   0.0   \n2013-03-07  22.500999  53.990002  111.760002   0.0  70050.0  0.054702   0.0   \n2013-03-11  22.679001  54.000000  112.000000   0.0  69640.0  0.054771   0.0   \n2013-03-12  22.530001  54.599998  111.500000   0.0  70000.0  0.054693   0.0   \n...               ...        ...         ...   ...      ...       ...   ...   \n2023-05-05   0.000000   0.000000    0.000000   0.0      0.0  0.000000   0.0   \n2023-05-08   0.000000   0.000000    0.000000   0.0      0.0  0.000000   0.0   \n2023-05-10   0.000000   0.000000    0.000000   0.0      0.0  0.000000   0.0   \n2023-05-11   0.000000   0.000000    0.000000   0.0      0.0  0.000000   0.0   \n2023-05-12   0.000000   0.000000    0.000000   0.0      0.0  0.000000   0.0   \n\n            YNDX  \nDate              \n2013-03-05   0.0  \n2013-03-06   0.0  \n2013-03-07   0.0  \n2013-03-11   0.0  \n2013-03-12   0.0  \n...          ...  \n2023-05-05   0.0  \n2023-05-08   0.0  \n2023-05-10   0.0  \n2023-05-11   0.0  \n2023-05-12   0.0  \n\n[2504 rows x 35 columns]",
      "text/html": "<div>\n<style scoped>\n    .dataframe tbody tr th:only-of-type {\n        vertical-align: middle;\n    }\n\n    .dataframe tbody tr th {\n        vertical-align: top;\n    }\n\n    .dataframe thead th {\n        text-align: right;\n    }\n</style>\n<table border=\"1\" class=\"dataframe\">\n  <thead>\n    <tr style=\"text-align: right;\">\n      <th></th>\n      <th>IMOEX</th>\n      <th>AFKS</th>\n      <th>AFLT</th>\n      <th>AGRO</th>\n      <th>ALRS</th>\n      <th>CBOM</th>\n      <th>CHMF</th>\n      <th>ENPG</th>\n      <th>FIVE</th>\n      <th>GAZP</th>\n      <th>...</th>\n      <th>SBERP</th>\n      <th>SNGS</th>\n      <th>SNGSP</th>\n      <th>MOEX</th>\n      <th>TATNP</th>\n      <th>TCsG</th>\n      <th>TRNFP</th>\n      <th>VTBR</th>\n      <th>POLY</th>\n      <th>YNDX</th>\n    </tr>\n    <tr>\n      <th>Date</th>\n      <th></th>\n      <th></th>\n      <th></th>\n      <th></th>\n      <th></th>\n      <th></th>\n      <th></th>\n      <th></th>\n      <th></th>\n      <th></th>\n      <th></th>\n      <th></th>\n      <th></th>\n      <th></th>\n      <th></th>\n      <th></th>\n      <th></th>\n      <th></th>\n      <th></th>\n      <th></th>\n      <th></th>\n    </tr>\n  </thead>\n  <tbody>\n    <tr>\n      <th>2013-03-05</th>\n      <td>1486.420044</td>\n      <td>26.381001</td>\n      <td>55.000000</td>\n      <td>0.0</td>\n      <td>33.125000</td>\n      <td>0.0</td>\n      <td>335.000000</td>\n      <td>0.0</td>\n      <td>0.0</td>\n      <td>136.449997</td>\n      <td>...</td>\n      <td>74.000000</td>\n      <td>29.127001</td>\n      <td>22.377001</td>\n      <td>53.750000</td>\n      <td>109.169998</td>\n      <td>0.0</td>\n      <td>68900.0</td>\n      <td>0.055114</td>\n      <td>0.0</td>\n      <td>0.0</td>\n    </tr>\n    <tr>\n      <th>2013-03-06</th>\n      <td>1491.489990</td>\n      <td>26.610001</td>\n      <td>55.889999</td>\n      <td>0.0</td>\n      <td>32.950001</td>\n      <td>0.0</td>\n      <td>343.299988</td>\n      <td>0.0</td>\n      <td>0.0</td>\n      <td>134.850006</td>\n      <td>...</td>\n      <td>75.000000</td>\n      <td>28.987000</td>\n      <td>22.525000</td>\n      <td>53.799999</td>\n      <td>111.180000</td>\n      <td>0.0</td>\n      <td>69800.0</td>\n      <td>0.054702</td>\n      <td>0.0</td>\n      <td>0.0</td>\n    </tr>\n    <tr>\n      <th>2013-03-07</th>\n      <td>1491.349976</td>\n      <td>26.850000</td>\n      <td>56.099998</td>\n      <td>0.0</td>\n      <td>33.000000</td>\n      <td>0.0</td>\n      <td>336.899994</td>\n      <td>0.0</td>\n      <td>0.0</td>\n      <td>133.729996</td>\n      <td>...</td>\n      <td>75.650002</td>\n      <td>29.136000</td>\n      <td>22.500999</td>\n      <td>53.990002</td>\n      <td>111.760002</td>\n      <td>0.0</td>\n      <td>70050.0</td>\n      <td>0.054702</td>\n      <td>0.0</td>\n      <td>0.0</td>\n    </tr>\n    <tr>\n      <th>2013-03-11</th>\n      <td>1505.930054</td>\n      <td>26.851999</td>\n      <td>56.299999</td>\n      <td>0.0</td>\n      <td>32.898991</td>\n      <td>0.0</td>\n      <td>336.899994</td>\n      <td>0.0</td>\n      <td>0.0</td>\n      <td>136.600006</td>\n      <td>...</td>\n      <td>76.449997</td>\n      <td>29.665001</td>\n      <td>22.679001</td>\n      <td>54.000000</td>\n      <td>112.000000</td>\n      <td>0.0</td>\n      <td>69640.0</td>\n      <td>0.054771</td>\n      <td>0.0</td>\n      <td>0.0</td>\n    </tr>\n    <tr>\n      <th>2013-03-12</th>\n      <td>1499.739990</td>\n      <td>26.830000</td>\n      <td>56.599998</td>\n      <td>0.0</td>\n      <td>32.847000</td>\n      <td>0.0</td>\n      <td>333.500000</td>\n      <td>0.0</td>\n      <td>0.0</td>\n      <td>137.250000</td>\n      <td>...</td>\n      <td>76.080002</td>\n      <td>29.929001</td>\n      <td>22.530001</td>\n      <td>54.599998</td>\n      <td>111.500000</td>\n      <td>0.0</td>\n      <td>70000.0</td>\n      <td>0.054693</td>\n      <td>0.0</td>\n      <td>0.0</td>\n    </tr>\n    <tr>\n      <th>...</th>\n      <td>...</td>\n      <td>...</td>\n      <td>...</td>\n      <td>...</td>\n      <td>...</td>\n      <td>...</td>\n      <td>...</td>\n      <td>...</td>\n      <td>...</td>\n      <td>...</td>\n      <td>...</td>\n      <td>...</td>\n      <td>...</td>\n      <td>...</td>\n      <td>...</td>\n      <td>...</td>\n      <td>...</td>\n      <td>...</td>\n      <td>...</td>\n      <td>...</td>\n      <td>...</td>\n    </tr>\n    <tr>\n      <th>2023-05-05</th>\n      <td>2538.239990</td>\n      <td>0.000000</td>\n      <td>0.000000</td>\n      <td>0.0</td>\n      <td>0.000000</td>\n      <td>0.0</td>\n      <td>0.000000</td>\n      <td>0.0</td>\n      <td>0.0</td>\n      <td>0.000000</td>\n      <td>...</td>\n      <td>0.000000</td>\n      <td>0.000000</td>\n      <td>0.000000</td>\n      <td>0.000000</td>\n      <td>0.000000</td>\n      <td>0.0</td>\n      <td>0.0</td>\n      <td>0.000000</td>\n      <td>0.0</td>\n      <td>0.0</td>\n    </tr>\n    <tr>\n      <th>2023-05-08</th>\n      <td>2527.590088</td>\n      <td>0.000000</td>\n      <td>0.000000</td>\n      <td>0.0</td>\n      <td>0.000000</td>\n      <td>0.0</td>\n      <td>0.000000</td>\n      <td>0.0</td>\n      <td>0.0</td>\n      <td>0.000000</td>\n      <td>...</td>\n      <td>0.000000</td>\n      <td>0.000000</td>\n      <td>0.000000</td>\n      <td>0.000000</td>\n      <td>0.000000</td>\n      <td>0.0</td>\n      <td>0.0</td>\n      <td>0.000000</td>\n      <td>0.0</td>\n      <td>0.0</td>\n    </tr>\n    <tr>\n      <th>2023-05-10</th>\n      <td>2548.629883</td>\n      <td>0.000000</td>\n      <td>0.000000</td>\n      <td>0.0</td>\n      <td>0.000000</td>\n      <td>0.0</td>\n      <td>0.000000</td>\n      <td>0.0</td>\n      <td>0.0</td>\n      <td>0.000000</td>\n      <td>...</td>\n      <td>0.000000</td>\n      <td>0.000000</td>\n      <td>0.000000</td>\n      <td>0.000000</td>\n      <td>0.000000</td>\n      <td>0.0</td>\n      <td>0.0</td>\n      <td>0.000000</td>\n      <td>0.0</td>\n      <td>0.0</td>\n    </tr>\n    <tr>\n      <th>2023-05-11</th>\n      <td>2595.120117</td>\n      <td>0.000000</td>\n      <td>0.000000</td>\n      <td>0.0</td>\n      <td>0.000000</td>\n      <td>0.0</td>\n      <td>0.000000</td>\n      <td>0.0</td>\n      <td>0.0</td>\n      <td>0.000000</td>\n      <td>...</td>\n      <td>0.000000</td>\n      <td>0.000000</td>\n      <td>0.000000</td>\n      <td>0.000000</td>\n      <td>0.000000</td>\n      <td>0.0</td>\n      <td>0.0</td>\n      <td>0.000000</td>\n      <td>0.0</td>\n      <td>0.0</td>\n    </tr>\n    <tr>\n      <th>2023-05-12</th>\n      <td>2565.169922</td>\n      <td>0.000000</td>\n      <td>0.000000</td>\n      <td>0.0</td>\n      <td>0.000000</td>\n      <td>0.0</td>\n      <td>0.000000</td>\n      <td>0.0</td>\n      <td>0.0</td>\n      <td>0.000000</td>\n      <td>...</td>\n      <td>0.000000</td>\n      <td>0.000000</td>\n      <td>0.000000</td>\n      <td>0.000000</td>\n      <td>0.000000</td>\n      <td>0.0</td>\n      <td>0.0</td>\n      <td>0.000000</td>\n      <td>0.0</td>\n      <td>0.0</td>\n    </tr>\n  </tbody>\n</table>\n<p>2504 rows × 35 columns</p>\n</div>"
     },
     "execution_count": 17,
     "metadata": {},
     "output_type": "execute_result"
    }
   ],
   "source": [
    "merged_data"
   ],
   "metadata": {
    "collapsed": false,
    "pycharm": {
     "name": "#%%\n"
    }
   }
  },
  {
   "cell_type": "code",
   "execution_count": 18,
   "outputs": [
    {
     "data": {
      "text/plain": "                  IMOEX       AFKS       AFLT  AGRO       ALRS  CBOM   \nDate                                                                   \n2013-03-05  1486.420044  26.381001  55.000000   0.0  33.125000   0.0  \\\n2013-03-06  1491.489990  26.610001  55.889999   0.0  32.950001   0.0   \n2013-03-07  1491.349976  26.850000  56.099998   0.0  33.000000   0.0   \n2013-03-11  1505.930054  26.851999  56.299999   0.0  32.898991   0.0   \n2013-03-12  1499.739990  26.830000  56.599998   0.0  32.847000   0.0   \n...                 ...        ...        ...   ...        ...   ...   \n2023-05-05  2538.239990   0.000000   0.000000   0.0   0.000000   0.0   \n2023-05-08  2527.590088   0.000000   0.000000   0.0   0.000000   0.0   \n2023-05-10  2548.629883   0.000000   0.000000   0.0   0.000000   0.0   \n2023-05-11  2595.120117   0.000000   0.000000   0.0   0.000000   0.0   \n2023-05-12  2565.169922   0.000000   0.000000   0.0   0.000000   0.0   \n\n                  CHMF  ENPG  FIVE        GAZP  ...      SBERP       SNGS   \nDate                                            ...                         \n2013-03-05  335.000000   0.0   0.0  136.449997  ...  74.000000  29.127001  \\\n2013-03-06  343.299988   0.0   0.0  134.850006  ...  75.000000  28.987000   \n2013-03-07  336.899994   0.0   0.0  133.729996  ...  75.650002  29.136000   \n2013-03-11  336.899994   0.0   0.0  136.600006  ...  76.449997  29.665001   \n2013-03-12  333.500000   0.0   0.0  137.250000  ...  76.080002  29.929001   \n...                ...   ...   ...         ...  ...        ...        ...   \n2023-05-05    0.000000   0.0   0.0    0.000000  ...   0.000000   0.000000   \n2023-05-08    0.000000   0.0   0.0    0.000000  ...   0.000000   0.000000   \n2023-05-10    0.000000   0.0   0.0    0.000000  ...   0.000000   0.000000   \n2023-05-11    0.000000   0.0   0.0    0.000000  ...   0.000000   0.000000   \n2023-05-12    0.000000   0.0   0.0    0.000000  ...   0.000000   0.000000   \n\n                SNGSP       MOEX       TATNP  TCsG    TRNFP      VTBR  POLY   \nDate                                                                          \n2013-03-05  22.377001  53.750000  109.169998   0.0  68900.0  0.055114   0.0  \\\n2013-03-06  22.525000  53.799999  111.180000   0.0  69800.0  0.054702   0.0   \n2013-03-07  22.500999  53.990002  111.760002   0.0  70050.0  0.054702   0.0   \n2013-03-11  22.679001  54.000000  112.000000   0.0  69640.0  0.054771   0.0   \n2013-03-12  22.530001  54.599998  111.500000   0.0  70000.0  0.054693   0.0   \n...               ...        ...         ...   ...      ...       ...   ...   \n2023-05-05   0.000000   0.000000    0.000000   0.0      0.0  0.000000   0.0   \n2023-05-08   0.000000   0.000000    0.000000   0.0      0.0  0.000000   0.0   \n2023-05-10   0.000000   0.000000    0.000000   0.0      0.0  0.000000   0.0   \n2023-05-11   0.000000   0.000000    0.000000   0.0      0.0  0.000000   0.0   \n2023-05-12   0.000000   0.000000    0.000000   0.0      0.0  0.000000   0.0   \n\n            YNDX  \nDate              \n2013-03-05   0.0  \n2013-03-06   0.0  \n2013-03-07   0.0  \n2013-03-11   0.0  \n2013-03-12   0.0  \n...          ...  \n2023-05-05   0.0  \n2023-05-08   0.0  \n2023-05-10   0.0  \n2023-05-11   0.0  \n2023-05-12   0.0  \n\n[2504 rows x 35 columns]",
      "text/html": "<div>\n<style scoped>\n    .dataframe tbody tr th:only-of-type {\n        vertical-align: middle;\n    }\n\n    .dataframe tbody tr th {\n        vertical-align: top;\n    }\n\n    .dataframe thead th {\n        text-align: right;\n    }\n</style>\n<table border=\"1\" class=\"dataframe\">\n  <thead>\n    <tr style=\"text-align: right;\">\n      <th></th>\n      <th>IMOEX</th>\n      <th>AFKS</th>\n      <th>AFLT</th>\n      <th>AGRO</th>\n      <th>ALRS</th>\n      <th>CBOM</th>\n      <th>CHMF</th>\n      <th>ENPG</th>\n      <th>FIVE</th>\n      <th>GAZP</th>\n      <th>...</th>\n      <th>SBERP</th>\n      <th>SNGS</th>\n      <th>SNGSP</th>\n      <th>MOEX</th>\n      <th>TATNP</th>\n      <th>TCsG</th>\n      <th>TRNFP</th>\n      <th>VTBR</th>\n      <th>POLY</th>\n      <th>YNDX</th>\n    </tr>\n    <tr>\n      <th>Date</th>\n      <th></th>\n      <th></th>\n      <th></th>\n      <th></th>\n      <th></th>\n      <th></th>\n      <th></th>\n      <th></th>\n      <th></th>\n      <th></th>\n      <th></th>\n      <th></th>\n      <th></th>\n      <th></th>\n      <th></th>\n      <th></th>\n      <th></th>\n      <th></th>\n      <th></th>\n      <th></th>\n      <th></th>\n    </tr>\n  </thead>\n  <tbody>\n    <tr>\n      <th>2013-03-05</th>\n      <td>1486.420044</td>\n      <td>26.381001</td>\n      <td>55.000000</td>\n      <td>0.0</td>\n      <td>33.125000</td>\n      <td>0.0</td>\n      <td>335.000000</td>\n      <td>0.0</td>\n      <td>0.0</td>\n      <td>136.449997</td>\n      <td>...</td>\n      <td>74.000000</td>\n      <td>29.127001</td>\n      <td>22.377001</td>\n      <td>53.750000</td>\n      <td>109.169998</td>\n      <td>0.0</td>\n      <td>68900.0</td>\n      <td>0.055114</td>\n      <td>0.0</td>\n      <td>0.0</td>\n    </tr>\n    <tr>\n      <th>2013-03-06</th>\n      <td>1491.489990</td>\n      <td>26.610001</td>\n      <td>55.889999</td>\n      <td>0.0</td>\n      <td>32.950001</td>\n      <td>0.0</td>\n      <td>343.299988</td>\n      <td>0.0</td>\n      <td>0.0</td>\n      <td>134.850006</td>\n      <td>...</td>\n      <td>75.000000</td>\n      <td>28.987000</td>\n      <td>22.525000</td>\n      <td>53.799999</td>\n      <td>111.180000</td>\n      <td>0.0</td>\n      <td>69800.0</td>\n      <td>0.054702</td>\n      <td>0.0</td>\n      <td>0.0</td>\n    </tr>\n    <tr>\n      <th>2013-03-07</th>\n      <td>1491.349976</td>\n      <td>26.850000</td>\n      <td>56.099998</td>\n      <td>0.0</td>\n      <td>33.000000</td>\n      <td>0.0</td>\n      <td>336.899994</td>\n      <td>0.0</td>\n      <td>0.0</td>\n      <td>133.729996</td>\n      <td>...</td>\n      <td>75.650002</td>\n      <td>29.136000</td>\n      <td>22.500999</td>\n      <td>53.990002</td>\n      <td>111.760002</td>\n      <td>0.0</td>\n      <td>70050.0</td>\n      <td>0.054702</td>\n      <td>0.0</td>\n      <td>0.0</td>\n    </tr>\n    <tr>\n      <th>2013-03-11</th>\n      <td>1505.930054</td>\n      <td>26.851999</td>\n      <td>56.299999</td>\n      <td>0.0</td>\n      <td>32.898991</td>\n      <td>0.0</td>\n      <td>336.899994</td>\n      <td>0.0</td>\n      <td>0.0</td>\n      <td>136.600006</td>\n      <td>...</td>\n      <td>76.449997</td>\n      <td>29.665001</td>\n      <td>22.679001</td>\n      <td>54.000000</td>\n      <td>112.000000</td>\n      <td>0.0</td>\n      <td>69640.0</td>\n      <td>0.054771</td>\n      <td>0.0</td>\n      <td>0.0</td>\n    </tr>\n    <tr>\n      <th>2013-03-12</th>\n      <td>1499.739990</td>\n      <td>26.830000</td>\n      <td>56.599998</td>\n      <td>0.0</td>\n      <td>32.847000</td>\n      <td>0.0</td>\n      <td>333.500000</td>\n      <td>0.0</td>\n      <td>0.0</td>\n      <td>137.250000</td>\n      <td>...</td>\n      <td>76.080002</td>\n      <td>29.929001</td>\n      <td>22.530001</td>\n      <td>54.599998</td>\n      <td>111.500000</td>\n      <td>0.0</td>\n      <td>70000.0</td>\n      <td>0.054693</td>\n      <td>0.0</td>\n      <td>0.0</td>\n    </tr>\n    <tr>\n      <th>...</th>\n      <td>...</td>\n      <td>...</td>\n      <td>...</td>\n      <td>...</td>\n      <td>...</td>\n      <td>...</td>\n      <td>...</td>\n      <td>...</td>\n      <td>...</td>\n      <td>...</td>\n      <td>...</td>\n      <td>...</td>\n      <td>...</td>\n      <td>...</td>\n      <td>...</td>\n      <td>...</td>\n      <td>...</td>\n      <td>...</td>\n      <td>...</td>\n      <td>...</td>\n      <td>...</td>\n    </tr>\n    <tr>\n      <th>2023-05-05</th>\n      <td>2538.239990</td>\n      <td>0.000000</td>\n      <td>0.000000</td>\n      <td>0.0</td>\n      <td>0.000000</td>\n      <td>0.0</td>\n      <td>0.000000</td>\n      <td>0.0</td>\n      <td>0.0</td>\n      <td>0.000000</td>\n      <td>...</td>\n      <td>0.000000</td>\n      <td>0.000000</td>\n      <td>0.000000</td>\n      <td>0.000000</td>\n      <td>0.000000</td>\n      <td>0.0</td>\n      <td>0.0</td>\n      <td>0.000000</td>\n      <td>0.0</td>\n      <td>0.0</td>\n    </tr>\n    <tr>\n      <th>2023-05-08</th>\n      <td>2527.590088</td>\n      <td>0.000000</td>\n      <td>0.000000</td>\n      <td>0.0</td>\n      <td>0.000000</td>\n      <td>0.0</td>\n      <td>0.000000</td>\n      <td>0.0</td>\n      <td>0.0</td>\n      <td>0.000000</td>\n      <td>...</td>\n      <td>0.000000</td>\n      <td>0.000000</td>\n      <td>0.000000</td>\n      <td>0.000000</td>\n      <td>0.000000</td>\n      <td>0.0</td>\n      <td>0.0</td>\n      <td>0.000000</td>\n      <td>0.0</td>\n      <td>0.0</td>\n    </tr>\n    <tr>\n      <th>2023-05-10</th>\n      <td>2548.629883</td>\n      <td>0.000000</td>\n      <td>0.000000</td>\n      <td>0.0</td>\n      <td>0.000000</td>\n      <td>0.0</td>\n      <td>0.000000</td>\n      <td>0.0</td>\n      <td>0.0</td>\n      <td>0.000000</td>\n      <td>...</td>\n      <td>0.000000</td>\n      <td>0.000000</td>\n      <td>0.000000</td>\n      <td>0.000000</td>\n      <td>0.000000</td>\n      <td>0.0</td>\n      <td>0.0</td>\n      <td>0.000000</td>\n      <td>0.0</td>\n      <td>0.0</td>\n    </tr>\n    <tr>\n      <th>2023-05-11</th>\n      <td>2595.120117</td>\n      <td>0.000000</td>\n      <td>0.000000</td>\n      <td>0.0</td>\n      <td>0.000000</td>\n      <td>0.0</td>\n      <td>0.000000</td>\n      <td>0.0</td>\n      <td>0.0</td>\n      <td>0.000000</td>\n      <td>...</td>\n      <td>0.000000</td>\n      <td>0.000000</td>\n      <td>0.000000</td>\n      <td>0.000000</td>\n      <td>0.000000</td>\n      <td>0.0</td>\n      <td>0.0</td>\n      <td>0.000000</td>\n      <td>0.0</td>\n      <td>0.0</td>\n    </tr>\n    <tr>\n      <th>2023-05-12</th>\n      <td>2565.169922</td>\n      <td>0.000000</td>\n      <td>0.000000</td>\n      <td>0.0</td>\n      <td>0.000000</td>\n      <td>0.0</td>\n      <td>0.000000</td>\n      <td>0.0</td>\n      <td>0.0</td>\n      <td>0.000000</td>\n      <td>...</td>\n      <td>0.000000</td>\n      <td>0.000000</td>\n      <td>0.000000</td>\n      <td>0.000000</td>\n      <td>0.000000</td>\n      <td>0.0</td>\n      <td>0.0</td>\n      <td>0.000000</td>\n      <td>0.0</td>\n      <td>0.0</td>\n    </tr>\n  </tbody>\n</table>\n<p>2504 rows × 35 columns</p>\n</div>"
     },
     "execution_count": 18,
     "metadata": {},
     "output_type": "execute_result"
    }
   ],
   "source": [
    "merged_data"
   ],
   "metadata": {
    "collapsed": false,
    "pycharm": {
     "name": "#%%\n"
    }
   }
  },
  {
   "cell_type": "code",
   "execution_count": null,
   "outputs": [],
   "source": [],
   "metadata": {
    "collapsed": false,
    "pycharm": {
     "name": "#%%\n"
    }
   }
  },
  {
   "cell_type": "code",
   "execution_count": 21,
   "outputs": [
    {
     "data": {
      "text/plain": "Index(['IMOEX', 'AFKS', 'AFLT', 'AGRO', 'ALRS', 'CBOM', 'CHMF', 'ENPG', 'FIVE',\n       'GAZP', 'GMKN', 'HYDR', 'IRAO', 'LKOH', 'MAGN', 'MGNT', 'MTSS', 'NLMK',\n       'NVTK', 'PHOR', 'PIKK', 'ROSN', 'RTKM', 'RUAL', 'SBER', 'SBERP', 'SNGS',\n       'SNGSP', 'MOEX', 'TATNP', 'TCsG', 'TRNFP', 'VTBR', 'POLY', 'YNDX'],\n      dtype='object')"
     },
     "execution_count": 21,
     "metadata": {},
     "output_type": "execute_result"
    }
   ],
   "source": [
    "merged_data.columns"
   ],
   "metadata": {
    "collapsed": false,
    "pycharm": {
     "name": "#%%\n"
    }
   }
  },
  {
   "cell_type": "code",
   "execution_count": 24,
   "outputs": [
    {
     "data": {
      "text/plain": "{'FIXP', 'GLTR', 'OZON', 'PLZLI', 'VKCO'}"
     },
     "execution_count": 24,
     "metadata": {},
     "output_type": "execute_result"
    }
   ],
   "source": [
    "set(index_df['Ticker'].to_list()) - set(list(merged_data.columns))"
   ],
   "metadata": {
    "collapsed": false,
    "pycharm": {
     "name": "#%%\n"
    }
   }
  },
  {
   "cell_type": "code",
   "execution_count": null,
   "outputs": [],
   "source": [],
   "metadata": {
    "collapsed": false,
    "pycharm": {
     "name": "#%%\n"
    }
   }
  },
  {
   "cell_type": "code",
   "execution_count": 8,
   "outputs": [],
   "source": [
    "merged_data_corr = merged_data.corr()"
   ],
   "metadata": {
    "collapsed": false,
    "pycharm": {
     "name": "#%%\n"
    }
   }
  },
  {
   "cell_type": "code",
   "execution_count": 9,
   "outputs": [],
   "source": [
    "merged_data_corr.to_excel('merged_correlations_imoex.xlsx')"
   ],
   "metadata": {
    "collapsed": false,
    "pycharm": {
     "name": "#%%\n"
    }
   }
  },
  {
   "cell_type": "code",
   "execution_count": 25,
   "outputs": [],
   "source": [
    "# plt.figure(figsize=(20, 20))\n",
    "# sns.heatmap(merged_data_corr, cmap=\"coolwarm\", annot=True, fmt=\".2f\", linewidths=0.5)\n",
    "# plt.title(\"Correlation Matrix\")\n",
    "# plt.savefig('heatmap.png')\n",
    "# plt.show()"
   ],
   "metadata": {
    "collapsed": false,
    "pycharm": {
     "name": "#%%\n"
    }
   }
  },
  {
   "cell_type": "code",
   "execution_count": 14,
   "outputs": [
    {
     "data": {
      "text/plain": "<Figure size 640x480 with 0 Axes>"
     },
     "metadata": {},
     "output_type": "display_data"
    }
   ],
   "source": [
    "plt.savefig('heatmap.png')"
   ],
   "metadata": {
    "collapsed": false,
    "pycharm": {
     "name": "#%%\n"
    }
   }
  },
  {
   "cell_type": "code",
   "execution_count": 31,
   "outputs": [],
   "source": [
    "merged_data_corr['IMOEX'].to_frame().sort_values(by='IMOEX', ascending=False).reset_index().to_excel('sorted_corr.xlsx', index=False)"
   ],
   "metadata": {
    "collapsed": false,
    "pycharm": {
     "name": "#%%\n"
    }
   }
  },
  {
   "cell_type": "code",
   "execution_count": null,
   "outputs": [],
   "source": [],
   "metadata": {
    "collapsed": false,
    "pycharm": {
     "name": "#%%\n",
     "is_executing": true
    }
   }
  },
  {
   "cell_type": "code",
   "execution_count": null,
   "outputs": [],
   "source": [],
   "metadata": {
    "collapsed": false,
    "pycharm": {
     "name": "#%%\n",
     "is_executing": true
    }
   }
  },
  {
   "cell_type": "code",
   "execution_count": 26,
   "outputs": [],
   "source": [],
   "metadata": {
    "collapsed": false,
    "pycharm": {
     "name": "#%%\n"
    }
   }
  }
 ],
 "metadata": {
  "kernelspec": {
   "display_name": "Python 3",
   "language": "python",
   "name": "python3"
  },
  "language_info": {
   "codemirror_mode": {
    "name": "ipython",
    "version": 2
   },
   "file_extension": ".py",
   "mimetype": "text/x-python",
   "name": "python",
   "nbconvert_exporter": "python",
   "pygments_lexer": "ipython2",
   "version": "2.7.6"
  }
 },
 "nbformat": 4,
 "nbformat_minor": 0
}