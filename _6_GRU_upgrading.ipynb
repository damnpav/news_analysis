{
 "cells": [
  {
   "cell_type": "code",
   "execution_count": 1,
   "metadata": {
    "collapsed": true,
    "pycharm": {
     "name": "#%%\n"
    }
   },
   "outputs": [],
   "source": [
    "import pandas as pd\n",
    "from tensorflow.keras.models import Sequential\n",
    "from tensorflow.keras.layers import Dense, GRU\n",
    "from sklearn.model_selection import train_test_split\n",
    "from sklearn.metrics import mean_absolute_error, r2_score"
   ]
  },
  {
   "cell_type": "code",
   "execution_count": 2,
   "outputs": [],
   "source": [
    "import numpy as np\n",
    "from sklearn.preprocessing import MinMaxScaler"
   ],
   "metadata": {
    "collapsed": false,
    "pycharm": {
     "name": "#%%\n"
    }
   }
  },
  {
   "cell_type": "code",
   "execution_count": null,
   "outputs": [],
   "source": [],
   "metadata": {
    "collapsed": false,
    "pycharm": {
     "name": "#%%\n"
    }
   }
  },
  {
   "cell_type": "code",
   "execution_count": 3,
   "outputs": [],
   "source": [
    "scaler = MinMaxScaler()\n",
    "scaler1 = MinMaxScaler()\n",
    "features_and_target_df = pd.read_excel('features_and_target.xlsx')\n",
    "features_and_target_df = features_and_target_df.fillna(0)\n",
    "X = features_and_target_df.drop(columns=['log_price_spread'])\n",
    "y = features_and_target_df['log_price_spread']\n",
    "scaler.fit(X)\n",
    "scaler1.fit(np.array(y).reshape(-1, 1))\n",
    "X = scaler.transform(X)\n",
    "y = scaler1.transform(np.array(y).reshape(-1, 1))\n",
    "X_train, X_test, y_train, y_test = train_test_split(X, y, test_size=0.2, random_state=42)"
   ],
   "metadata": {
    "collapsed": false,
    "pycharm": {
     "name": "#%%\n"
    }
   }
  },
  {
   "cell_type": "code",
   "execution_count": 5,
   "outputs": [],
   "source": [
    "input_shape = (X_train.shape[1], 1)"
   ],
   "metadata": {
    "collapsed": false,
    "pycharm": {
     "name": "#%%\n"
    }
   }
  },
  {
   "cell_type": "code",
   "execution_count": 6,
   "outputs": [
    {
     "name": "stdout",
     "output_type": "stream",
     "text": [
      "Epoch 1/50\n",
      "25/25 [==============================] - 2s 67ms/step - loss: 0.0728 - val_loss: 0.0416\n",
      "Epoch 2/50\n",
      "25/25 [==============================] - 2s 64ms/step - loss: 0.0511 - val_loss: 0.0422\n",
      "Epoch 3/50\n",
      "25/25 [==============================] - 2s 61ms/step - loss: 0.0501 - val_loss: 0.0416\n",
      "Epoch 4/50\n",
      "25/25 [==============================] - 2s 62ms/step - loss: 0.0501 - val_loss: 0.0411\n",
      "Epoch 5/50\n",
      "25/25 [==============================] - 2s 62ms/step - loss: 0.0497 - val_loss: 0.0410\n",
      "Epoch 6/50\n",
      "25/25 [==============================] - 2s 62ms/step - loss: 0.0499 - val_loss: 0.0422\n",
      "Epoch 7/50\n",
      "25/25 [==============================] - 2s 63ms/step - loss: 0.0498 - val_loss: 0.0408\n",
      "Epoch 8/50\n",
      "25/25 [==============================] - 2s 65ms/step - loss: 0.0498 - val_loss: 0.0408\n",
      "Epoch 9/50\n",
      "25/25 [==============================] - 2s 63ms/step - loss: 0.0503 - val_loss: 0.0418\n",
      "Epoch 10/50\n",
      "25/25 [==============================] - 2s 62ms/step - loss: 0.0499 - val_loss: 0.0413\n",
      "Epoch 11/50\n",
      "25/25 [==============================] - 2s 62ms/step - loss: 0.0497 - val_loss: 0.0410\n",
      "Epoch 12/50\n",
      "25/25 [==============================] - 2s 62ms/step - loss: 0.0496 - val_loss: 0.0413\n",
      "Epoch 13/50\n",
      "25/25 [==============================] - 2s 61ms/step - loss: 0.0498 - val_loss: 0.0409\n",
      "Epoch 14/50\n",
      "25/25 [==============================] - 2s 62ms/step - loss: 0.0498 - val_loss: 0.0423\n",
      "Epoch 15/50\n",
      "25/25 [==============================] - 2s 63ms/step - loss: 0.0497 - val_loss: 0.0410\n",
      "Epoch 16/50\n",
      "25/25 [==============================] - 2s 64ms/step - loss: 0.0497 - val_loss: 0.0409\n",
      "Epoch 17/50\n",
      "25/25 [==============================] - 2s 64ms/step - loss: 0.0500 - val_loss: 0.0409\n",
      "Epoch 18/50\n",
      "25/25 [==============================] - 2s 63ms/step - loss: 0.0497 - val_loss: 0.0408\n",
      "Epoch 19/50\n",
      "25/25 [==============================] - 2s 64ms/step - loss: 0.0499 - val_loss: 0.0407\n",
      "Epoch 20/50\n",
      "25/25 [==============================] - 2s 65ms/step - loss: 0.0498 - val_loss: 0.0408\n",
      "Epoch 21/50\n",
      "25/25 [==============================] - 2s 64ms/step - loss: 0.0498 - val_loss: 0.0408\n",
      "Epoch 22/50\n",
      "25/25 [==============================] - 2s 67ms/step - loss: 0.0500 - val_loss: 0.0417\n",
      "Epoch 23/50\n",
      "25/25 [==============================] - 2s 65ms/step - loss: 0.0498 - val_loss: 0.0414\n",
      "Epoch 24/50\n",
      "25/25 [==============================] - 2s 64ms/step - loss: 0.0498 - val_loss: 0.0414\n",
      "Epoch 25/50\n",
      "25/25 [==============================] - 2s 62ms/step - loss: 0.0499 - val_loss: 0.0411\n",
      "Epoch 26/50\n",
      "25/25 [==============================] - 2s 63ms/step - loss: 0.0498 - val_loss: 0.0408\n",
      "Epoch 27/50\n",
      "25/25 [==============================] - 2s 64ms/step - loss: 0.0500 - val_loss: 0.0410\n",
      "Epoch 28/50\n",
      "25/25 [==============================] - 2s 63ms/step - loss: 0.0497 - val_loss: 0.0410\n",
      "Epoch 29/50\n",
      "25/25 [==============================] - 2s 64ms/step - loss: 0.0497 - val_loss: 0.0417\n",
      "Epoch 30/50\n",
      "25/25 [==============================] - 2s 69ms/step - loss: 0.0506 - val_loss: 0.0409\n",
      "Epoch 31/50\n",
      "25/25 [==============================] - 2s 65ms/step - loss: 0.0503 - val_loss: 0.0410\n",
      "Epoch 32/50\n",
      "25/25 [==============================] - 2s 63ms/step - loss: 0.0498 - val_loss: 0.0409\n",
      "Epoch 33/50\n",
      "25/25 [==============================] - 2s 64ms/step - loss: 0.0498 - val_loss: 0.0414\n",
      "Epoch 34/50\n",
      "25/25 [==============================] - 2s 64ms/step - loss: 0.0498 - val_loss: 0.0409\n",
      "Epoch 35/50\n",
      "25/25 [==============================] - 2s 63ms/step - loss: 0.0499 - val_loss: 0.0419\n",
      "Epoch 36/50\n",
      "25/25 [==============================] - 2s 61ms/step - loss: 0.0498 - val_loss: 0.0427\n",
      "Epoch 37/50\n",
      "25/25 [==============================] - 2s 65ms/step - loss: 0.0499 - val_loss: 0.0408\n",
      "Epoch 38/50\n",
      "25/25 [==============================] - 2s 69ms/step - loss: 0.0498 - val_loss: 0.0408\n",
      "Epoch 39/50\n",
      "25/25 [==============================] - 2s 91ms/step - loss: 0.0502 - val_loss: 0.0408\n",
      "Epoch 40/50\n",
      "25/25 [==============================] - 2s 73ms/step - loss: 0.0499 - val_loss: 0.0415\n",
      "Epoch 41/50\n",
      "25/25 [==============================] - 2s 74ms/step - loss: 0.0497 - val_loss: 0.0419\n",
      "Epoch 42/50\n",
      "25/25 [==============================] - 2s 69ms/step - loss: 0.0497 - val_loss: 0.0409\n",
      "Epoch 43/50\n",
      "25/25 [==============================] - 2s 70ms/step - loss: 0.0497 - val_loss: 0.0426\n",
      "Epoch 44/50\n",
      "25/25 [==============================] - 2s 73ms/step - loss: 0.0499 - val_loss: 0.0409\n",
      "Epoch 45/50\n",
      "25/25 [==============================] - 2s 65ms/step - loss: 0.0498 - val_loss: 0.0429\n",
      "Epoch 46/50\n",
      "25/25 [==============================] - 2s 63ms/step - loss: 0.0501 - val_loss: 0.0408\n",
      "Epoch 47/50\n",
      "25/25 [==============================] - 2s 63ms/step - loss: 0.0496 - val_loss: 0.0417\n",
      "Epoch 48/50\n",
      "25/25 [==============================] - 2s 75ms/step - loss: 0.0500 - val_loss: 0.0444\n",
      "Epoch 49/50\n",
      "25/25 [==============================] - 2s 79ms/step - loss: 0.0503 - val_loss: 0.0412\n",
      "Epoch 50/50\n",
      "25/25 [==============================] - 2s 68ms/step - loss: 0.0496 - val_loss: 0.0414\n",
      "31/31 [==============================] - 1s 14ms/step\n",
      "8/8 [==============================] - 0s 13ms/step\n"
     ]
    }
   ],
   "source": [
    "model = Sequential()\n",
    "model.add(GRU(64, input_shape=input_shape, activation='relu'))\n",
    "model.add(Dense(1, activation='linear'))\n",
    "model.compile(loss='mean_absolute_error', optimizer='adam')\n",
    "history = model.fit(X_train, y_train, epochs=50, batch_size=32, validation_split=0.2, verbose=1)\n",
    "mae = model.evaluate(X_test, y_test, verbose=0)\n",
    "train_pred = model.predict(X_train)\n",
    "test_pred = model.predict(X_test)"
   ],
   "metadata": {
    "collapsed": false,
    "pycharm": {
     "name": "#%%\n"
    }
   }
  },
  {
   "cell_type": "code",
   "execution_count": 7,
   "outputs": [
    {
     "name": "stdout",
     "output_type": "stream",
     "text": [
      "8/8 [==============================] - 0s 14ms/step\n"
     ]
    }
   ],
   "source": [
    "y_pred = model.predict(X_test)\n",
    "mae = mean_absolute_error(scaler1.inverse_transform(y_test),\n",
    "                          scaler1.inverse_transform(y_pred))\n",
    "r2 = r2_score(scaler1.inverse_transform(y_test),\n",
    "              scaler1.inverse_transform(y_pred))"
   ],
   "metadata": {
    "collapsed": false,
    "pycharm": {
     "name": "#%%\n"
    }
   }
  },
  {
   "cell_type": "code",
   "execution_count": null,
   "outputs": [],
   "source": [],
   "metadata": {
    "collapsed": false,
    "pycharm": {
     "name": "#%%\n",
     "is_executing": true
    }
   }
  },
  {
   "cell_type": "code",
   "execution_count": 8,
   "outputs": [
    {
     "data": {
      "text/plain": "0.004200345433801717"
     },
     "execution_count": 8,
     "metadata": {},
     "output_type": "execute_result"
    }
   ],
   "source": [
    "mae"
   ],
   "metadata": {
    "collapsed": false,
    "pycharm": {
     "name": "#%%\n"
    }
   }
  },
  {
   "cell_type": "code",
   "execution_count": 9,
   "outputs": [
    {
     "data": {
      "text/plain": "0.007633201680864898"
     },
     "execution_count": 9,
     "metadata": {},
     "output_type": "execute_result"
    }
   ],
   "source": [
    "r2"
   ],
   "metadata": {
    "collapsed": false,
    "pycharm": {
     "name": "#%%\n"
    }
   }
  },
  {
   "cell_type": "code",
   "execution_count": null,
   "outputs": [],
   "source": [],
   "metadata": {
    "collapsed": false,
    "pycharm": {
     "name": "#%%\n",
     "is_executing": true
    }
   }
  },
  {
   "cell_type": "code",
   "execution_count": 6,
   "outputs": [],
   "source": [],
   "metadata": {
    "collapsed": false,
    "pycharm": {
     "name": "#%%\n"
    }
   }
  }
 ],
 "metadata": {
  "kernelspec": {
   "name": "news_analysis",
   "language": "python",
   "display_name": "news_analysis"
  },
  "language_info": {
   "codemirror_mode": {
    "name": "ipython",
    "version": 2
   },
   "file_extension": ".py",
   "mimetype": "text/x-python",
   "name": "python",
   "nbconvert_exporter": "python",
   "pygments_lexer": "ipython2",
   "version": "2.7.6"
  }
 },
 "nbformat": 4,
 "nbformat_minor": 0
}