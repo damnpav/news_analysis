{
 "cells": [
  {
   "cell_type": "markdown",
   "source": [
    "# Brief look at what we have"
   ],
   "metadata": {
    "collapsed": false,
    "pycharm": {
     "name": "#%% md\n"
    }
   }
  },
  {
   "cell_type": "code",
   "execution_count": 1,
   "metadata": {
    "collapsed": true,
    "pycharm": {
     "name": "#%%\n"
    }
   },
   "outputs": [],
   "source": [
    "import pandas as pd"
   ]
  },
  {
   "cell_type": "code",
   "execution_count": 2,
   "outputs": [],
   "source": [
    "lenta_path = r'/Users/dp_user/Documents/универ/диплом/data/lenta/'"
   ],
   "metadata": {
    "collapsed": false,
    "pycharm": {
     "name": "#%%\n"
    }
   }
  },
  {
   "cell_type": "code",
   "execution_count": 3,
   "outputs": [
    {
     "name": "stderr",
     "output_type": "stream",
     "text": [
      "/var/folders/0d/nn90v_dn4y56s_xnhsv23lf00000gn/T/ipykernel_29926/4155066225.py:1: DtypeWarning: Columns (3) have mixed types. Specify dtype option on import or set low_memory=False.\n",
      "  lenta_df = pd.read_csv(lenta_path+'lenta-ru-news.csv')\n"
     ]
    }
   ],
   "source": [
    "lenta_df = pd.read_csv(lenta_path+'lenta-ru-news.csv')"
   ],
   "metadata": {
    "collapsed": false,
    "pycharm": {
     "name": "#%%\n"
    }
   }
  },
  {
   "cell_type": "code",
   "execution_count": null,
   "outputs": [],
   "source": [],
   "metadata": {
    "collapsed": false,
    "pycharm": {
     "name": "#%%\n"
    }
   }
  },
  {
   "cell_type": "code",
   "execution_count": 4,
   "outputs": [
    {
     "data": {
      "text/plain": "                                                     url   \n474320       https://lenta.ru/news/2013/07/29/michoacan/  \\\n156763          https://lenta.ru/news/2006/06/23/riyadh/   \n314187         https://lenta.ru/news/2010/01/08/cameron/   \n770241          https://lenta.ru/news/2019/07/13/anykov/   \n314511         https://lenta.ru/news/2010/01/11/suitner/   \n665331  https://lenta.ru/news/2017/06/06/massimoprodlil/   \n493866          https://lenta.ru/news/2014/01/16/retain/   \n320350        https://lenta.ru/news/2010/02/24/shabalin/   \n196806            https://lenta.ru/news/2007/08/02/sign/   \n204906           https://lenta.ru/news/2007/10/23/quinn/   \n\n                                                    title   \n474320  Вице-адмирал ВМС Мексики застрелен в штате Мич...  \\\n156763   В Эр-Рияде уничтожены шесть боевиков \"Аль-Каеды\"   \n314187  Джеймс Кэмерон создаст фильм об атомной бомбар...   \n770241  Завершивший карьеру бывший капитан «Зенита» ве...   \n314511             Умер австрийский дирижер Отмар Зуйтнер   \n665331  «Спартак» объявил о продлении контракта с Карр...   \n493866  Израиль увеличил территориальные претензии к п...   \n320350  Максим Шабалин объявил о длительном перерыве в...   \n196806  Президент РФ подписал указ о создании Следстве...   \n204906  Ирландский миллиардер заинтересовался \"Рэдиссо...   \n\n                                                     text     topic   \n474320  В штате Мичоакан, где правительственные войска...       Мир  \\\n156763  Шесть боевиков, принадлежащих к террористическ...       Мир   \n314187  Одним из следующих проектов создателя \"Аватара...  Культура   \n770241  Защитник Александр Анюков продолжит карьеру в ...       NaN   \n314511  Скончался прославленный австрийский дирижер От...  Культура   \n665331  Московский футбольный клуб «Спартак» продлил к...     Спорт   \n493866  Премьер-министр Израиля Биньямин Нетаниягу объ...       Мир   \n320350  Российский фигурист Максим Шабалин, в паре с О...     Спорт   \n196806  Президент России Владимир Путин подписал указ ...    Россия   \n204906  Компания Quinn Group, принадлежащая ирландском...       Дом   \n\n                tags        date  \n474320  Преступность  2013/07/29  \n156763           Все  2006/06/23  \n314187           Все  2010/01/08  \n770241        Футбол  2019/07/13  \n314511           Все  2010/01/11  \n665331        Футбол  2017/06/06  \n493866      Политика  2014/01/16  \n320350           Все  2010/02/24  \n196806           Все  2007/08/02  \n204906           Все  2007/10/23  ",
      "text/html": "<div>\n<style scoped>\n    .dataframe tbody tr th:only-of-type {\n        vertical-align: middle;\n    }\n\n    .dataframe tbody tr th {\n        vertical-align: top;\n    }\n\n    .dataframe thead th {\n        text-align: right;\n    }\n</style>\n<table border=\"1\" class=\"dataframe\">\n  <thead>\n    <tr style=\"text-align: right;\">\n      <th></th>\n      <th>url</th>\n      <th>title</th>\n      <th>text</th>\n      <th>topic</th>\n      <th>tags</th>\n      <th>date</th>\n    </tr>\n  </thead>\n  <tbody>\n    <tr>\n      <th>474320</th>\n      <td>https://lenta.ru/news/2013/07/29/michoacan/</td>\n      <td>Вице-адмирал ВМС Мексики застрелен в штате Мич...</td>\n      <td>В штате Мичоакан, где правительственные войска...</td>\n      <td>Мир</td>\n      <td>Преступность</td>\n      <td>2013/07/29</td>\n    </tr>\n    <tr>\n      <th>156763</th>\n      <td>https://lenta.ru/news/2006/06/23/riyadh/</td>\n      <td>В Эр-Рияде уничтожены шесть боевиков \"Аль-Каеды\"</td>\n      <td>Шесть боевиков, принадлежащих к террористическ...</td>\n      <td>Мир</td>\n      <td>Все</td>\n      <td>2006/06/23</td>\n    </tr>\n    <tr>\n      <th>314187</th>\n      <td>https://lenta.ru/news/2010/01/08/cameron/</td>\n      <td>Джеймс Кэмерон создаст фильм об атомной бомбар...</td>\n      <td>Одним из следующих проектов создателя \"Аватара...</td>\n      <td>Культура</td>\n      <td>Все</td>\n      <td>2010/01/08</td>\n    </tr>\n    <tr>\n      <th>770241</th>\n      <td>https://lenta.ru/news/2019/07/13/anykov/</td>\n      <td>Завершивший карьеру бывший капитан «Зенита» ве...</td>\n      <td>Защитник Александр Анюков продолжит карьеру в ...</td>\n      <td>NaN</td>\n      <td>Футбол</td>\n      <td>2019/07/13</td>\n    </tr>\n    <tr>\n      <th>314511</th>\n      <td>https://lenta.ru/news/2010/01/11/suitner/</td>\n      <td>Умер австрийский дирижер Отмар Зуйтнер</td>\n      <td>Скончался прославленный австрийский дирижер От...</td>\n      <td>Культура</td>\n      <td>Все</td>\n      <td>2010/01/11</td>\n    </tr>\n    <tr>\n      <th>665331</th>\n      <td>https://lenta.ru/news/2017/06/06/massimoprodlil/</td>\n      <td>«Спартак» объявил о продлении контракта с Карр...</td>\n      <td>Московский футбольный клуб «Спартак» продлил к...</td>\n      <td>Спорт</td>\n      <td>Футбол</td>\n      <td>2017/06/06</td>\n    </tr>\n    <tr>\n      <th>493866</th>\n      <td>https://lenta.ru/news/2014/01/16/retain/</td>\n      <td>Израиль увеличил территориальные претензии к п...</td>\n      <td>Премьер-министр Израиля Биньямин Нетаниягу объ...</td>\n      <td>Мир</td>\n      <td>Политика</td>\n      <td>2014/01/16</td>\n    </tr>\n    <tr>\n      <th>320350</th>\n      <td>https://lenta.ru/news/2010/02/24/shabalin/</td>\n      <td>Максим Шабалин объявил о длительном перерыве в...</td>\n      <td>Российский фигурист Максим Шабалин, в паре с О...</td>\n      <td>Спорт</td>\n      <td>Все</td>\n      <td>2010/02/24</td>\n    </tr>\n    <tr>\n      <th>196806</th>\n      <td>https://lenta.ru/news/2007/08/02/sign/</td>\n      <td>Президент РФ подписал указ о создании Следстве...</td>\n      <td>Президент России Владимир Путин подписал указ ...</td>\n      <td>Россия</td>\n      <td>Все</td>\n      <td>2007/08/02</td>\n    </tr>\n    <tr>\n      <th>204906</th>\n      <td>https://lenta.ru/news/2007/10/23/quinn/</td>\n      <td>Ирландский миллиардер заинтересовался \"Рэдиссо...</td>\n      <td>Компания Quinn Group, принадлежащая ирландском...</td>\n      <td>Дом</td>\n      <td>Все</td>\n      <td>2007/10/23</td>\n    </tr>\n  </tbody>\n</table>\n</div>"
     },
     "execution_count": 4,
     "metadata": {},
     "output_type": "execute_result"
    }
   ],
   "source": [
    "lenta_df.sample(10)"
   ],
   "metadata": {
    "collapsed": false,
    "pycharm": {
     "name": "#%%\n"
    }
   }
  },
  {
   "cell_type": "code",
   "execution_count": 6,
   "outputs": [],
   "source": [
    "lenta_df.sample(10).to_excel('news_sample.xlsx', index=False)"
   ],
   "metadata": {
    "collapsed": false,
    "pycharm": {
     "name": "#%%\n"
    }
   }
  },
  {
   "cell_type": "code",
   "execution_count": null,
   "outputs": [],
   "source": [],
   "metadata": {
    "collapsed": false,
    "pycharm": {
     "name": "#%%\n"
    }
   }
  },
  {
   "cell_type": "code",
   "execution_count": 4,
   "outputs": [
    {
     "data": {
      "text/plain": "(800975, 6)"
     },
     "execution_count": 4,
     "metadata": {},
     "output_type": "execute_result"
    }
   ],
   "source": [
    "lenta_df.shape"
   ],
   "metadata": {
    "collapsed": false,
    "pycharm": {
     "name": "#%%\n"
    }
   }
  },
  {
   "cell_type": "code",
   "execution_count": 5,
   "outputs": [
    {
     "data": {
      "text/plain": "'2019/12/14'"
     },
     "execution_count": 5,
     "metadata": {},
     "output_type": "execute_result"
    }
   ],
   "source": [
    "lenta_df['date'].max()"
   ],
   "metadata": {
    "collapsed": false,
    "pycharm": {
     "name": "#%%\n"
    }
   }
  },
  {
   "cell_type": "code",
   "execution_count": 6,
   "outputs": [
    {
     "data": {
      "text/plain": "'1914/09/16'"
     },
     "execution_count": 6,
     "metadata": {},
     "output_type": "execute_result"
    }
   ],
   "source": [
    "lenta_df['date'].min()"
   ],
   "metadata": {
    "collapsed": false,
    "pycharm": {
     "name": "#%%\n"
    }
   }
  },
  {
   "cell_type": "code",
   "execution_count": null,
   "outputs": [],
   "source": [
    "lenta_df"
   ],
   "metadata": {
    "collapsed": false,
    "pycharm": {
     "name": "#%%\n"
    }
   }
  },
  {
   "cell_type": "code",
   "execution_count": 8,
   "outputs": [],
   "source": [
    "lenta_df['date_yr'] = lenta_df['date'].str.slice(stop=4)"
   ],
   "metadata": {
    "collapsed": false,
    "pycharm": {
     "name": "#%%\n"
    }
   }
  },
  {
   "cell_type": "code",
   "execution_count": 9,
   "outputs": [
    {
     "name": "stdout",
     "output_type": "stream",
     "text": [
      "['Крымско-татарское общественное политическое движение \"Миллет\" (\"Народ\") совместно с меджлисом проводит сегодня в Ялте митинг протеста. Цель акции - привлечь внимание руководителей стран СНГ, съезжающихся на Ялтинский саммит, \"к трагедии депортированного крымско-татарского народа, которая продолжается до сих пор\". Об этом участники митинга заявили в своем обращении, адресованном главам государств и правительств Содружества. \"Декларация Верховного Совета СССР \"О признании незаконными и преступными репрессивных актов против народов, подвергшихся насильственному переселению, и обеспечении их прав\", постановление СССР \"О выводах и предложениях комиссии по проблемам советских немцев и крымско-татарского народа\" от 1989 года и другие решения советского руководства остались нереализованными\", - говорится в документе. \"Государства - правопреемники СССР, причастные к депортации, отстранились от решения крымско-татарской проблемы. Государственные границы расчленили народ и препятствуют восстановлению национальной целостности крымских татар\". В обращении отмечено, что \"Верховная рада Украины заблокировала процесс восстановления прав и государственности коренного народа Крыма\". Резкое сокращение финансовых средств, выделяемых из украинского бюджета, и безучастное отношение остальных стран СНГ к проблемам депортированного народа практически свертывают процесс возвращения и обустройства крымских татар в Крыму.']\n"
     ]
    }
   ],
   "source": [
    "print(lenta_df[755:756]['text'].values)"
   ],
   "metadata": {
    "collapsed": false,
    "pycharm": {
     "name": "#%%\n"
    }
   }
  },
  {
   "cell_type": "code",
   "execution_count": 9,
   "outputs": [],
   "source": [],
   "metadata": {
    "collapsed": false,
    "pycharm": {
     "name": "#%%\n"
    }
   }
  },
  {
   "cell_type": "markdown",
   "source": [
    "# TODO\n",
    "## 0. Анализ датасета (группировки: tags, год, месяц) +\n",
    "## 1. Достать котировки по русским инструментам +\n",
    "### 1.1 Перевести в log change +\n",
    "### 1.2 Посчитать волатильность +\n",
    "#### TODO resume, у нас есть ключи у котировок - даты и недели, надо выделить те же ключи у новостей и смэппить данные\n",
    "## 2. Смэппить инструменты с новостями +\n",
    "## 3. Обрезать нерелевантные новости +\n",
    "## 4. Попробовать достать леммы через rubert tiny"
   ],
   "metadata": {
    "collapsed": false,
    "pycharm": {
     "name": "#%% md\n"
    }
   }
  },
  {
   "cell_type": "code",
   "execution_count": 10,
   "outputs": [
    {
     "data": {
      "text/plain": "                                               url   \n61479   https://lenta.ru/news/2002/11/28/reserves/  \\\n251250     https://lenta.ru/news/2008/10/20/seoul/   \n765583    https://lenta.ru/news/2019/06/20/norway/   \n\n                                                    title   \n61479   Объем золотовалютных резервов России за неделю...  \\\n251250            Безработный кореец зарезал пять человек   \n765583               Российский дипломат погиб в Норвегии   \n\n                                                     text      topic   \n61479   Объем золотовалютных резервов Российской Федер...  Экономика  \\\n251250  Житель Южной Кореи поджег свою съемную квартир...     Россия   \n765583  Российское посольство в Норвегии подтвердило с...        NaN   \n\n                tags        date date_yr  \n61479            Все  2002/11/28    2002  \n251250           Все  2008/10/20    2008  \n765583  Происшествия  2019/06/20    2019  ",
      "text/html": "<div>\n<style scoped>\n    .dataframe tbody tr th:only-of-type {\n        vertical-align: middle;\n    }\n\n    .dataframe tbody tr th {\n        vertical-align: top;\n    }\n\n    .dataframe thead th {\n        text-align: right;\n    }\n</style>\n<table border=\"1\" class=\"dataframe\">\n  <thead>\n    <tr style=\"text-align: right;\">\n      <th></th>\n      <th>url</th>\n      <th>title</th>\n      <th>text</th>\n      <th>topic</th>\n      <th>tags</th>\n      <th>date</th>\n      <th>date_yr</th>\n    </tr>\n  </thead>\n  <tbody>\n    <tr>\n      <th>61479</th>\n      <td>https://lenta.ru/news/2002/11/28/reserves/</td>\n      <td>Объем золотовалютных резервов России за неделю...</td>\n      <td>Объем золотовалютных резервов Российской Федер...</td>\n      <td>Экономика</td>\n      <td>Все</td>\n      <td>2002/11/28</td>\n      <td>2002</td>\n    </tr>\n    <tr>\n      <th>251250</th>\n      <td>https://lenta.ru/news/2008/10/20/seoul/</td>\n      <td>Безработный кореец зарезал пять человек</td>\n      <td>Житель Южной Кореи поджег свою съемную квартир...</td>\n      <td>Россия</td>\n      <td>Все</td>\n      <td>2008/10/20</td>\n      <td>2008</td>\n    </tr>\n    <tr>\n      <th>765583</th>\n      <td>https://lenta.ru/news/2019/06/20/norway/</td>\n      <td>Российский дипломат погиб в Норвегии</td>\n      <td>Российское посольство в Норвегии подтвердило с...</td>\n      <td>NaN</td>\n      <td>Происшествия</td>\n      <td>2019/06/20</td>\n      <td>2019</td>\n    </tr>\n  </tbody>\n</table>\n</div>"
     },
     "execution_count": 10,
     "metadata": {},
     "output_type": "execute_result"
    }
   ],
   "source": [
    "lenta_df.sample(3)"
   ],
   "metadata": {
    "collapsed": false,
    "pycharm": {
     "name": "#%%\n"
    }
   }
  },
  {
   "cell_type": "markdown",
   "source": [
    "## 0. EDA"
   ],
   "metadata": {
    "collapsed": false,
    "pycharm": {
     "name": "#%% md\n"
    }
   }
  },
  {
   "cell_type": "code",
   "execution_count": 8,
   "outputs": [],
   "source": [
    "grouped_df = lenta_df[['topic', 'date']].groupby('topic').agg({'date': 'count'}).sort_values(by='date', ascending=False)"
   ],
   "metadata": {
    "collapsed": false,
    "pycharm": {
     "name": "#%%\n"
    }
   }
  },
  {
   "cell_type": "code",
   "execution_count": 9,
   "outputs": [],
   "source": [
    "grouped_df['percent'] = 100 * (grouped_df['date'] / len(lenta_df))"
   ],
   "metadata": {
    "collapsed": false,
    "pycharm": {
     "name": "#%%\n"
    }
   }
  },
  {
   "cell_type": "code",
   "execution_count": 12,
   "outputs": [],
   "source": [
    "grouped_df.reset_index().to_excel('гуппировка по топикам.xlsx', index=False)"
   ],
   "metadata": {
    "collapsed": false,
    "pycharm": {
     "name": "#%%\n"
    }
   }
  },
  {
   "cell_type": "markdown",
   "source": [
    "### 40 % новостей относятся к Россия, Мир, Экономика: предполагаем, что они принесут наибольшее влияние на волатильность"
   ],
   "metadata": {
    "collapsed": false,
    "pycharm": {
     "name": "#%% md\n"
    }
   }
  },
  {
   "cell_type": "code",
   "execution_count": 9,
   "outputs": [],
   "source": [
    "lenta_df['date_dt'] = lenta_df['date'].apply(pd.to_datetime)"
   ],
   "metadata": {
    "collapsed": false,
    "pycharm": {
     "name": "#%%\n"
    }
   }
  },
  {
   "cell_type": "code",
   "execution_count": 10,
   "outputs": [],
   "source": [
    "lenta_df['month'] = lenta_df['date_dt'].dt.month"
   ],
   "metadata": {
    "collapsed": false,
    "pycharm": {
     "name": "#%%\n"
    }
   }
  },
  {
   "cell_type": "code",
   "execution_count": 11,
   "outputs": [
    {
     "data": {
      "text/plain": "          date   percent\ndate_yr                 \n2016     63108  7.878898\n2019     59729  7.457037\n2017     58792  7.340054\n2009     51343  6.410063\n2008     50389  6.290958\n2012     46047  5.748869\n2011     44822  5.595930\n2015     44766  5.588938\n2010     44587  5.566591\n2018     43951  5.487187\n2013     43297  5.405537\n2014     38075  4.753582\n2007     36029  4.498143\n2006     35964  4.490028\n2005     30718  3.835076\n2004     24386  3.044539\n2002     22179  2.769000\n2001     21974  2.743406\n2003     21557  2.691345\n2000     16176  2.019539\n1999      3081  0.384656\n1914         5  0.000624",
      "text/html": "<div>\n<style scoped>\n    .dataframe tbody tr th:only-of-type {\n        vertical-align: middle;\n    }\n\n    .dataframe tbody tr th {\n        vertical-align: top;\n    }\n\n    .dataframe thead th {\n        text-align: right;\n    }\n</style>\n<table border=\"1\" class=\"dataframe\">\n  <thead>\n    <tr style=\"text-align: right;\">\n      <th></th>\n      <th>date</th>\n      <th>percent</th>\n    </tr>\n    <tr>\n      <th>date_yr</th>\n      <th></th>\n      <th></th>\n    </tr>\n  </thead>\n  <tbody>\n    <tr>\n      <th>2016</th>\n      <td>63108</td>\n      <td>7.878898</td>\n    </tr>\n    <tr>\n      <th>2019</th>\n      <td>59729</td>\n      <td>7.457037</td>\n    </tr>\n    <tr>\n      <th>2017</th>\n      <td>58792</td>\n      <td>7.340054</td>\n    </tr>\n    <tr>\n      <th>2009</th>\n      <td>51343</td>\n      <td>6.410063</td>\n    </tr>\n    <tr>\n      <th>2008</th>\n      <td>50389</td>\n      <td>6.290958</td>\n    </tr>\n    <tr>\n      <th>2012</th>\n      <td>46047</td>\n      <td>5.748869</td>\n    </tr>\n    <tr>\n      <th>2011</th>\n      <td>44822</td>\n      <td>5.595930</td>\n    </tr>\n    <tr>\n      <th>2015</th>\n      <td>44766</td>\n      <td>5.588938</td>\n    </tr>\n    <tr>\n      <th>2010</th>\n      <td>44587</td>\n      <td>5.566591</td>\n    </tr>\n    <tr>\n      <th>2018</th>\n      <td>43951</td>\n      <td>5.487187</td>\n    </tr>\n    <tr>\n      <th>2013</th>\n      <td>43297</td>\n      <td>5.405537</td>\n    </tr>\n    <tr>\n      <th>2014</th>\n      <td>38075</td>\n      <td>4.753582</td>\n    </tr>\n    <tr>\n      <th>2007</th>\n      <td>36029</td>\n      <td>4.498143</td>\n    </tr>\n    <tr>\n      <th>2006</th>\n      <td>35964</td>\n      <td>4.490028</td>\n    </tr>\n    <tr>\n      <th>2005</th>\n      <td>30718</td>\n      <td>3.835076</td>\n    </tr>\n    <tr>\n      <th>2004</th>\n      <td>24386</td>\n      <td>3.044539</td>\n    </tr>\n    <tr>\n      <th>2002</th>\n      <td>22179</td>\n      <td>2.769000</td>\n    </tr>\n    <tr>\n      <th>2001</th>\n      <td>21974</td>\n      <td>2.743406</td>\n    </tr>\n    <tr>\n      <th>2003</th>\n      <td>21557</td>\n      <td>2.691345</td>\n    </tr>\n    <tr>\n      <th>2000</th>\n      <td>16176</td>\n      <td>2.019539</td>\n    </tr>\n    <tr>\n      <th>1999</th>\n      <td>3081</td>\n      <td>0.384656</td>\n    </tr>\n    <tr>\n      <th>1914</th>\n      <td>5</td>\n      <td>0.000624</td>\n    </tr>\n  </tbody>\n</table>\n</div>"
     },
     "execution_count": 11,
     "metadata": {},
     "output_type": "execute_result"
    }
   ],
   "source": [
    "grouped_df = lenta_df[['date_yr', 'date']].groupby('date_yr').agg({'date': 'count'}).sort_values(by='date', ascending=False)\n",
    "grouped_df['percent'] = 100 * (grouped_df['date'] / len(lenta_df))\n",
    "grouped_df"
   ],
   "metadata": {
    "collapsed": false,
    "pycharm": {
     "name": "#%%\n"
    }
   }
  },
  {
   "cell_type": "code",
   "execution_count": 13,
   "outputs": [],
   "source": [
    "grouped_df.reset_index().to_excel('группировка по годам.xlsx', index=False)"
   ],
   "metadata": {
    "collapsed": false,
    "pycharm": {
     "name": "#%%\n"
    }
   }
  },
  {
   "cell_type": "code",
   "execution_count": 14,
   "outputs": [
    {
     "data": {
      "text/plain": "        date   percent\nmonth                 \n10     73377  9.160960\n11     70961  8.859328\n7      68592  8.563563\n12     68561  8.559693\n9      68101  8.502263\n3      67968  8.485658\n8      67274  8.399014\n4      66657  8.321983\n6      65679  8.199881\n5      62804  7.840944\n2      62648  7.821468\n1      58353  7.285246",
      "text/html": "<div>\n<style scoped>\n    .dataframe tbody tr th:only-of-type {\n        vertical-align: middle;\n    }\n\n    .dataframe tbody tr th {\n        vertical-align: top;\n    }\n\n    .dataframe thead th {\n        text-align: right;\n    }\n</style>\n<table border=\"1\" class=\"dataframe\">\n  <thead>\n    <tr style=\"text-align: right;\">\n      <th></th>\n      <th>date</th>\n      <th>percent</th>\n    </tr>\n    <tr>\n      <th>month</th>\n      <th></th>\n      <th></th>\n    </tr>\n  </thead>\n  <tbody>\n    <tr>\n      <th>10</th>\n      <td>73377</td>\n      <td>9.160960</td>\n    </tr>\n    <tr>\n      <th>11</th>\n      <td>70961</td>\n      <td>8.859328</td>\n    </tr>\n    <tr>\n      <th>7</th>\n      <td>68592</td>\n      <td>8.563563</td>\n    </tr>\n    <tr>\n      <th>12</th>\n      <td>68561</td>\n      <td>8.559693</td>\n    </tr>\n    <tr>\n      <th>9</th>\n      <td>68101</td>\n      <td>8.502263</td>\n    </tr>\n    <tr>\n      <th>3</th>\n      <td>67968</td>\n      <td>8.485658</td>\n    </tr>\n    <tr>\n      <th>8</th>\n      <td>67274</td>\n      <td>8.399014</td>\n    </tr>\n    <tr>\n      <th>4</th>\n      <td>66657</td>\n      <td>8.321983</td>\n    </tr>\n    <tr>\n      <th>6</th>\n      <td>65679</td>\n      <td>8.199881</td>\n    </tr>\n    <tr>\n      <th>5</th>\n      <td>62804</td>\n      <td>7.840944</td>\n    </tr>\n    <tr>\n      <th>2</th>\n      <td>62648</td>\n      <td>7.821468</td>\n    </tr>\n    <tr>\n      <th>1</th>\n      <td>58353</td>\n      <td>7.285246</td>\n    </tr>\n  </tbody>\n</table>\n</div>"
     },
     "execution_count": 14,
     "metadata": {},
     "output_type": "execute_result"
    }
   ],
   "source": [
    "grouped_df = lenta_df[['month', 'date']].groupby('month').agg({'date': 'count'}).sort_values(by='date', ascending=False)\n",
    "grouped_df['percent'] = 100 * (grouped_df['date'] / len(lenta_df))\n",
    "grouped_df"
   ],
   "metadata": {
    "collapsed": false,
    "pycharm": {
     "name": "#%%\n"
    }
   }
  },
  {
   "cell_type": "code",
   "execution_count": 15,
   "outputs": [],
   "source": [
    "grouped_df.reset_index().to_excel('группировка по месяцам.xlsx', index=False)"
   ],
   "metadata": {
    "collapsed": false,
    "pycharm": {
     "name": "#%%\n"
    }
   }
  },
  {
   "cell_type": "code",
   "execution_count": 27,
   "outputs": [],
   "source": [
    "# во времени по годам и по месяцам новости распределены равномерно"
   ],
   "metadata": {
    "collapsed": false,
    "pycharm": {
     "name": "#%%\n"
    }
   }
  },
  {
   "cell_type": "code",
   "execution_count": 5,
   "outputs": [
    {
     "data": {
      "text/plain": "                  date    percent\ntags                             \nВсе             453762  56.651206\nПолитика         40716   5.083305\nОбщество         35202   4.394894\nУкраина          22523   2.811948\nПроисшествия     19825   2.475108\n...                ...        ...\nМировой опыт         6   0.000749\nНацпроекты           6   0.000749\nВооружение           3   0.000375\nИнновации            1   0.000125\n69-я параллель       1   0.000125\n\n[94 rows x 2 columns]",
      "text/html": "<div>\n<style scoped>\n    .dataframe tbody tr th:only-of-type {\n        vertical-align: middle;\n    }\n\n    .dataframe tbody tr th {\n        vertical-align: top;\n    }\n\n    .dataframe thead th {\n        text-align: right;\n    }\n</style>\n<table border=\"1\" class=\"dataframe\">\n  <thead>\n    <tr style=\"text-align: right;\">\n      <th></th>\n      <th>date</th>\n      <th>percent</th>\n    </tr>\n    <tr>\n      <th>tags</th>\n      <th></th>\n      <th></th>\n    </tr>\n  </thead>\n  <tbody>\n    <tr>\n      <th>Все</th>\n      <td>453762</td>\n      <td>56.651206</td>\n    </tr>\n    <tr>\n      <th>Политика</th>\n      <td>40716</td>\n      <td>5.083305</td>\n    </tr>\n    <tr>\n      <th>Общество</th>\n      <td>35202</td>\n      <td>4.394894</td>\n    </tr>\n    <tr>\n      <th>Украина</th>\n      <td>22523</td>\n      <td>2.811948</td>\n    </tr>\n    <tr>\n      <th>Происшествия</th>\n      <td>19825</td>\n      <td>2.475108</td>\n    </tr>\n    <tr>\n      <th>...</th>\n      <td>...</td>\n      <td>...</td>\n    </tr>\n    <tr>\n      <th>Мировой опыт</th>\n      <td>6</td>\n      <td>0.000749</td>\n    </tr>\n    <tr>\n      <th>Нацпроекты</th>\n      <td>6</td>\n      <td>0.000749</td>\n    </tr>\n    <tr>\n      <th>Вооружение</th>\n      <td>3</td>\n      <td>0.000375</td>\n    </tr>\n    <tr>\n      <th>Инновации</th>\n      <td>1</td>\n      <td>0.000125</td>\n    </tr>\n    <tr>\n      <th>69-я параллель</th>\n      <td>1</td>\n      <td>0.000125</td>\n    </tr>\n  </tbody>\n</table>\n<p>94 rows × 2 columns</p>\n</div>"
     },
     "execution_count": 5,
     "metadata": {},
     "output_type": "execute_result"
    }
   ],
   "source": [
    "grouped_df = lenta_df[['tags', 'date']].groupby('tags').agg({'date': 'count'}).sort_values(by='date', ascending=False)\n",
    "grouped_df['percent'] = 100 * (grouped_df['date'] / len(lenta_df))\n",
    "grouped_df"
   ],
   "metadata": {
    "collapsed": false,
    "pycharm": {
     "name": "#%%\n"
    }
   }
  },
  {
   "cell_type": "code",
   "execution_count": 29,
   "outputs": [],
   "source": [
    "# по тегам превалируют общие новости (Все)"
   ],
   "metadata": {
    "collapsed": false,
    "pycharm": {
     "name": "#%%\n"
    }
   }
  },
  {
   "cell_type": "code",
   "execution_count": 30,
   "outputs": [],
   "source": [
    "# TODO EDA всю надо запринтить и сделать красивые графики для документа"
   ],
   "metadata": {
    "collapsed": false,
    "pycharm": {
     "name": "#%%\n"
    }
   }
  },
  {
   "cell_type": "code",
   "execution_count": 7,
   "outputs": [],
   "source": [
    "grouped_df.reset_index().to_excel('группировка по тегам.xlsx')"
   ],
   "metadata": {
    "collapsed": false,
    "pycharm": {
     "name": "#%%\n"
    }
   }
  },
  {
   "cell_type": "code",
   "execution_count": null,
   "outputs": [],
   "source": [],
   "metadata": {
    "collapsed": false,
    "pycharm": {
     "name": "#%%\n"
    }
   }
  },
  {
   "cell_type": "code",
   "execution_count": 20,
   "outputs": [
    {
     "data": {
      "text/plain": "0         Библиотека\n1         Библиотека\n2         Библиотека\n3         Библиотека\n4         Библиотека\n             ...    \n800970             0\n800971             0\n800972             0\n800973             0\n800974             0\nName: topic, Length: 800975, dtype: object"
     },
     "execution_count": 20,
     "metadata": {},
     "output_type": "execute_result"
    }
   ],
   "source": [
    "lenta_df['topic'].fillna('0')"
   ],
   "metadata": {
    "collapsed": false,
    "pycharm": {
     "name": "#%%\n"
    }
   }
  },
  {
   "cell_type": "code",
   "execution_count": null,
   "outputs": [],
   "source": [],
   "metadata": {
    "collapsed": false,
    "pycharm": {
     "name": "#%%\n"
    }
   }
  },
  {
   "cell_type": "code",
   "execution_count": 21,
   "outputs": [],
   "source": [
    "lenta_df['topic_tags'] = lenta_df['topic'].fillna('') + '_' + lenta_df['tags'].fillna('')"
   ],
   "metadata": {
    "collapsed": false,
    "pycharm": {
     "name": "#%%\n"
    }
   }
  },
  {
   "cell_type": "code",
   "execution_count": 22,
   "outputs": [],
   "source": [
    "grouped_df = lenta_df[['topic_tags', 'date']].groupby('topic_tags').agg({'date': 'count'}).sort_values(by='date', ascending=False)\n",
    "grouped_df['percent'] = 100 * (grouped_df['date'] / len(lenta_df))"
   ],
   "metadata": {
    "collapsed": false,
    "pycharm": {
     "name": "#%%\n"
    }
   }
  },
  {
   "cell_type": "code",
   "execution_count": 23,
   "outputs": [],
   "source": [
    "grouped_df.reset_index().to_excel('гуппировка_по_тегам_и_топикам.xlsx', index=False)"
   ],
   "metadata": {
    "collapsed": false,
    "pycharm": {
     "name": "#%%\n"
    }
   }
  },
  {
   "cell_type": "code",
   "execution_count": null,
   "outputs": [],
   "source": [
    "lenta_df['']"
   ],
   "metadata": {
    "collapsed": false,
    "pycharm": {
     "name": "#%%\n"
    }
   }
  },
  {
   "cell_type": "code",
   "execution_count": 18,
   "outputs": [],
   "source": [
    "# профильтруемся по используемым ключам"
   ],
   "metadata": {
    "collapsed": false,
    "pycharm": {
     "name": "#%%\n"
    }
   }
  },
  {
   "cell_type": "code",
   "execution_count": 7,
   "outputs": [
    {
     "data": {
      "text/plain": "                                                url   \n0        https://lenta.ru/news/1914/09/16/hungarnn/  \\\n1       https://lenta.ru/news/1914/09/16/lermontov/   \n2       https://lenta.ru/news/1914/09/17/nesteroff/   \n3        https://lenta.ru/news/1914/09/17/bulldogn/   \n4            https://lenta.ru/news/1914/09/18/zver/   \n...                                             ...   \n800970      https://lenta.ru/news/2019/12/14/shnur/   \n800971       https://lenta.ru/news/2019/12/14/dolg/   \n800972  https://lenta.ru/news/2019/12/14/dark_euro/   \n800973      https://lenta.ru/news/2019/12/14/meteo/   \n800974      https://lenta.ru/news/2019/12/14/olimp/   \n\n                                                    title   \n0       1914. Русские войска вступили в пределы Венгрии    \\\n1       1914. Празднование столетия М.Ю. Лермонтова от...   \n2                                1914. Das ist Nesteroff!   \n3                         1914. Бульдог-гонец под Льежем    \n4                1914. Под Люблином пойман швабский зверь   \n...                                                   ...   \n800970          Шнуров раскритиковал Гагарину на «Голосе»   \n800971  В России предложили изменить правила взыскания...   \n800972          В России назвали «черную дату» для Европы   \n800973        Россиянам пообещали аномально теплую погоду   \n800974  В конкурсе прогнозов на АПЛ разыграют 100 тыся...   \n\n                                                     text       topic   \n0       Бои у Сопоцкина и Друскеник закончились отступ...  Библиотека  \\\n1       Министерство народного просвещения, в виду про...  Библиотека   \n2       Штабс-капитан П. Н. Нестеров на днях, увидев в...  Библиотека   \n3       Фотограф-корреспондент Daily Mirror рассказыва...  Библиотека   \n4       Лица, приехавшие в Варшаву из Люблина, передаю...  Библиотека   \n...                                                   ...         ...   \n800970  Певец Сергей Шнуров раскритиковал свою коллегу...         NaN   \n800971  Министерство юстиции России предложило изменит...         NaN   \n800972  Испытание США ранее запрещенной Договором о ли...         NaN   \n800973  В ближайшие дни в европейской части России пог...         NaN   \n800974  Ведущие футбольные чемпионаты ушли на зимние к...         NaN   \n\n                     tags        date  \n0          Первая мировая  1914/09/16  \n1          Первая мировая  1914/09/16  \n2          Первая мировая  1914/09/17  \n3          Первая мировая  1914/09/17  \n4          Первая мировая  1914/09/18  \n...                   ...         ...  \n800970         ТВ и радио  2019/12/14  \n800971                Все  2019/12/14  \n800972           Политика  2019/12/14  \n800973           Общество  2019/12/14  \n800974  Английский футбол  2019/12/14  \n\n[800975 rows x 6 columns]",
      "text/html": "<div>\n<style scoped>\n    .dataframe tbody tr th:only-of-type {\n        vertical-align: middle;\n    }\n\n    .dataframe tbody tr th {\n        vertical-align: top;\n    }\n\n    .dataframe thead th {\n        text-align: right;\n    }\n</style>\n<table border=\"1\" class=\"dataframe\">\n  <thead>\n    <tr style=\"text-align: right;\">\n      <th></th>\n      <th>url</th>\n      <th>title</th>\n      <th>text</th>\n      <th>topic</th>\n      <th>tags</th>\n      <th>date</th>\n    </tr>\n  </thead>\n  <tbody>\n    <tr>\n      <th>0</th>\n      <td>https://lenta.ru/news/1914/09/16/hungarnn/</td>\n      <td>1914. Русские войска вступили в пределы Венгрии</td>\n      <td>Бои у Сопоцкина и Друскеник закончились отступ...</td>\n      <td>Библиотека</td>\n      <td>Первая мировая</td>\n      <td>1914/09/16</td>\n    </tr>\n    <tr>\n      <th>1</th>\n      <td>https://lenta.ru/news/1914/09/16/lermontov/</td>\n      <td>1914. Празднование столетия М.Ю. Лермонтова от...</td>\n      <td>Министерство народного просвещения, в виду про...</td>\n      <td>Библиотека</td>\n      <td>Первая мировая</td>\n      <td>1914/09/16</td>\n    </tr>\n    <tr>\n      <th>2</th>\n      <td>https://lenta.ru/news/1914/09/17/nesteroff/</td>\n      <td>1914. Das ist Nesteroff!</td>\n      <td>Штабс-капитан П. Н. Нестеров на днях, увидев в...</td>\n      <td>Библиотека</td>\n      <td>Первая мировая</td>\n      <td>1914/09/17</td>\n    </tr>\n    <tr>\n      <th>3</th>\n      <td>https://lenta.ru/news/1914/09/17/bulldogn/</td>\n      <td>1914. Бульдог-гонец под Льежем</td>\n      <td>Фотограф-корреспондент Daily Mirror рассказыва...</td>\n      <td>Библиотека</td>\n      <td>Первая мировая</td>\n      <td>1914/09/17</td>\n    </tr>\n    <tr>\n      <th>4</th>\n      <td>https://lenta.ru/news/1914/09/18/zver/</td>\n      <td>1914. Под Люблином пойман швабский зверь</td>\n      <td>Лица, приехавшие в Варшаву из Люблина, передаю...</td>\n      <td>Библиотека</td>\n      <td>Первая мировая</td>\n      <td>1914/09/18</td>\n    </tr>\n    <tr>\n      <th>...</th>\n      <td>...</td>\n      <td>...</td>\n      <td>...</td>\n      <td>...</td>\n      <td>...</td>\n      <td>...</td>\n    </tr>\n    <tr>\n      <th>800970</th>\n      <td>https://lenta.ru/news/2019/12/14/shnur/</td>\n      <td>Шнуров раскритиковал Гагарину на «Голосе»</td>\n      <td>Певец Сергей Шнуров раскритиковал свою коллегу...</td>\n      <td>NaN</td>\n      <td>ТВ и радио</td>\n      <td>2019/12/14</td>\n    </tr>\n    <tr>\n      <th>800971</th>\n      <td>https://lenta.ru/news/2019/12/14/dolg/</td>\n      <td>В России предложили изменить правила взыскания...</td>\n      <td>Министерство юстиции России предложило изменит...</td>\n      <td>NaN</td>\n      <td>Все</td>\n      <td>2019/12/14</td>\n    </tr>\n    <tr>\n      <th>800972</th>\n      <td>https://lenta.ru/news/2019/12/14/dark_euro/</td>\n      <td>В России назвали «черную дату» для Европы</td>\n      <td>Испытание США ранее запрещенной Договором о ли...</td>\n      <td>NaN</td>\n      <td>Политика</td>\n      <td>2019/12/14</td>\n    </tr>\n    <tr>\n      <th>800973</th>\n      <td>https://lenta.ru/news/2019/12/14/meteo/</td>\n      <td>Россиянам пообещали аномально теплую погоду</td>\n      <td>В ближайшие дни в европейской части России пог...</td>\n      <td>NaN</td>\n      <td>Общество</td>\n      <td>2019/12/14</td>\n    </tr>\n    <tr>\n      <th>800974</th>\n      <td>https://lenta.ru/news/2019/12/14/olimp/</td>\n      <td>В конкурсе прогнозов на АПЛ разыграют 100 тыся...</td>\n      <td>Ведущие футбольные чемпионаты ушли на зимние к...</td>\n      <td>NaN</td>\n      <td>Английский футбол</td>\n      <td>2019/12/14</td>\n    </tr>\n  </tbody>\n</table>\n<p>800975 rows × 6 columns</p>\n</div>"
     },
     "execution_count": 7,
     "metadata": {},
     "output_type": "execute_result"
    }
   ],
   "source": [
    "lenta_df"
   ],
   "metadata": {
    "collapsed": false,
    "pycharm": {
     "name": "#%%\n"
    }
   }
  },
  {
   "cell_type": "code",
   "execution_count": null,
   "outputs": [],
   "source": [],
   "metadata": {
    "collapsed": false,
    "pycharm": {
     "name": "#%%\n"
    }
   }
  },
  {
   "cell_type": "code",
   "execution_count": 17,
   "outputs": [],
   "source": [],
   "metadata": {
    "collapsed": false,
    "pycharm": {
     "name": "#%%\n"
    }
   }
  }
 ],
 "metadata": {
  "kernelspec": {
   "display_name": "Python 3",
   "language": "python",
   "name": "python3"
  },
  "language_info": {
   "codemirror_mode": {
    "name": "ipython",
    "version": 2
   },
   "file_extension": ".py",
   "mimetype": "text/x-python",
   "name": "python",
   "nbconvert_exporter": "python",
   "pygments_lexer": "ipython2",
   "version": "2.7.6"
  }
 },
 "nbformat": 4,
 "nbformat_minor": 0
}