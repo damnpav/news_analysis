{
 "cells": [
  {
   "cell_type": "code",
   "execution_count": 46,
   "metadata": {
    "collapsed": true,
    "pycharm": {
     "name": "#%%\n"
    }
   },
   "outputs": [],
   "source": [
    "import yfinance as yf"
   ]
  },
  {
   "cell_type": "code",
   "execution_count": 53,
   "outputs": [
    {
     "name": "stdout",
     "output_type": "stream",
     "text": [
      "[*********************100%***********************]  1 of 1 completed\n"
     ]
    }
   ],
   "source": [
    "fdata = yf.download('IMOEX.ME', period='max', interval='1wk', start='2022-01-01', end='2022-01-31')"
   ],
   "metadata": {
    "collapsed": false,
    "pycharm": {
     "name": "#%%\n"
    }
   }
  },
  {
   "cell_type": "code",
   "execution_count": 50,
   "outputs": [
    {
     "data": {
      "text/plain": "                  Open        High         Low       Close   Adj Close   \nDate                                                                     \n2022-01-03  154.850006  158.940002  146.399994  147.860001  147.860001  \\\n2022-01-10  150.460007  152.470001  137.570007  143.179993  143.179993   \n2022-01-17  144.630005  148.929993  124.500000  147.000000  147.000000   \n2022-01-24  146.559998  147.800003  137.000000  144.009995  144.009995   \n\n              Volume  \nDate                  \n2022-01-03  28666998  \n2022-01-10  70583150  \n2022-01-17  93053920  \n2022-01-24  86616690  ",
      "text/html": "<div>\n<style scoped>\n    .dataframe tbody tr th:only-of-type {\n        vertical-align: middle;\n    }\n\n    .dataframe tbody tr th {\n        vertical-align: top;\n    }\n\n    .dataframe thead th {\n        text-align: right;\n    }\n</style>\n<table border=\"1\" class=\"dataframe\">\n  <thead>\n    <tr style=\"text-align: right;\">\n      <th></th>\n      <th>Open</th>\n      <th>High</th>\n      <th>Low</th>\n      <th>Close</th>\n      <th>Adj Close</th>\n      <th>Volume</th>\n    </tr>\n    <tr>\n      <th>Date</th>\n      <th></th>\n      <th></th>\n      <th></th>\n      <th></th>\n      <th></th>\n      <th></th>\n    </tr>\n  </thead>\n  <tbody>\n    <tr>\n      <th>2022-01-03</th>\n      <td>154.850006</td>\n      <td>158.940002</td>\n      <td>146.399994</td>\n      <td>147.860001</td>\n      <td>147.860001</td>\n      <td>28666998</td>\n    </tr>\n    <tr>\n      <th>2022-01-10</th>\n      <td>150.460007</td>\n      <td>152.470001</td>\n      <td>137.570007</td>\n      <td>143.179993</td>\n      <td>143.179993</td>\n      <td>70583150</td>\n    </tr>\n    <tr>\n      <th>2022-01-17</th>\n      <td>144.630005</td>\n      <td>148.929993</td>\n      <td>124.500000</td>\n      <td>147.000000</td>\n      <td>147.000000</td>\n      <td>93053920</td>\n    </tr>\n    <tr>\n      <th>2022-01-24</th>\n      <td>146.559998</td>\n      <td>147.800003</td>\n      <td>137.000000</td>\n      <td>144.009995</td>\n      <td>144.009995</td>\n      <td>86616690</td>\n    </tr>\n  </tbody>\n</table>\n</div>"
     },
     "execution_count": 50,
     "metadata": {},
     "output_type": "execute_result"
    }
   ],
   "source": [
    "fdata"
   ],
   "metadata": {
    "collapsed": false,
    "pycharm": {
     "name": "#%%\n"
    }
   }
  },
  {
   "cell_type": "code",
   "execution_count": 54,
   "outputs": [
    {
     "data": {
      "text/plain": "                   Open         High          Low        Close    Adj Close   \nDate                                                                          \n2022-01-03  3825.300049  3892.330078  3720.169922  3772.040039  3772.040039  \\\n2022-01-10  3798.429932  3841.719971  3512.030029  3596.979980  3596.979980   \n2022-01-17  3633.010010  3651.360107  3256.600098  3439.250000  3439.250000   \n2022-01-24  3426.189941  3534.399902  3158.459961  3488.600098  3488.600098   \n\n            Volume  \nDate                \n2022-01-03       0  \n2022-01-10       0  \n2022-01-17       0  \n2022-01-24       0  ",
      "text/html": "<div>\n<style scoped>\n    .dataframe tbody tr th:only-of-type {\n        vertical-align: middle;\n    }\n\n    .dataframe tbody tr th {\n        vertical-align: top;\n    }\n\n    .dataframe thead th {\n        text-align: right;\n    }\n</style>\n<table border=\"1\" class=\"dataframe\">\n  <thead>\n    <tr style=\"text-align: right;\">\n      <th></th>\n      <th>Open</th>\n      <th>High</th>\n      <th>Low</th>\n      <th>Close</th>\n      <th>Adj Close</th>\n      <th>Volume</th>\n    </tr>\n    <tr>\n      <th>Date</th>\n      <th></th>\n      <th></th>\n      <th></th>\n      <th></th>\n      <th></th>\n      <th></th>\n    </tr>\n  </thead>\n  <tbody>\n    <tr>\n      <th>2022-01-03</th>\n      <td>3825.300049</td>\n      <td>3892.330078</td>\n      <td>3720.169922</td>\n      <td>3772.040039</td>\n      <td>3772.040039</td>\n      <td>0</td>\n    </tr>\n    <tr>\n      <th>2022-01-10</th>\n      <td>3798.429932</td>\n      <td>3841.719971</td>\n      <td>3512.030029</td>\n      <td>3596.979980</td>\n      <td>3596.979980</td>\n      <td>0</td>\n    </tr>\n    <tr>\n      <th>2022-01-17</th>\n      <td>3633.010010</td>\n      <td>3651.360107</td>\n      <td>3256.600098</td>\n      <td>3439.250000</td>\n      <td>3439.250000</td>\n      <td>0</td>\n    </tr>\n    <tr>\n      <th>2022-01-24</th>\n      <td>3426.189941</td>\n      <td>3534.399902</td>\n      <td>3158.459961</td>\n      <td>3488.600098</td>\n      <td>3488.600098</td>\n      <td>0</td>\n    </tr>\n  </tbody>\n</table>\n</div>"
     },
     "execution_count": 54,
     "metadata": {},
     "output_type": "execute_result"
    }
   ],
   "source": [
    "fdata"
   ],
   "metadata": {
    "collapsed": false,
    "pycharm": {
     "name": "#%%\n"
    }
   }
  },
  {
   "cell_type": "code",
   "execution_count": null,
   "outputs": [],
   "source": [],
   "metadata": {
    "collapsed": false,
    "pycharm": {
     "name": "#%%\n"
    }
   }
  },
  {
   "cell_type": "code",
   "execution_count": null,
   "outputs": [],
   "source": [],
   "metadata": {
    "collapsed": false,
    "pycharm": {
     "name": "#%%\n"
    }
   }
  },
  {
   "cell_type": "markdown",
   "source": [
    "# TODO\n",
    "## 1. Загрузить список MOEX\n",
    "## 2. Пропарсить на предмет наличия в yfinance\n",
    "## 3. Проверить начала котировок\n",
    "## 4. Отдельно повторить для индекса МОЕХ"
   ],
   "metadata": {
    "collapsed": false,
    "pycharm": {
     "name": "#%% md\n"
    }
   }
  },
  {
   "cell_type": "markdown",
   "source": [
    "### 1. Список MOEX"
   ],
   "metadata": {
    "collapsed": false,
    "pycharm": {
     "name": "#%% md\n"
    }
   }
  },
  {
   "cell_type": "code",
   "execution_count": 17,
   "outputs": [],
   "source": [
    "import pandas as pd"
   ],
   "metadata": {
    "collapsed": false,
    "pycharm": {
     "name": "#%%\n"
    }
   }
  },
  {
   "cell_type": "code",
   "execution_count": 21,
   "outputs": [],
   "source": [
    "quotes_df = pd.read_csv('rates.csv', encoding='cp1251', sep=';')"
   ],
   "metadata": {
    "collapsed": false,
    "pycharm": {
     "name": "#%%\n"
    }
   }
  },
  {
   "cell_type": "code",
   "execution_count": 22,
   "outputs": [
    {
     "data": {
      "text/plain": "    SECID   SHORTNAME                            NAME            TYPENAME   \n0    ABRD  АбрауДюрсо              Абрау-Дюрсо ПАО ао  Акции обыкновенные  \\\n1    ACKO     АСКО ао                     АСКО ПАО ао  Акции обыкновенные   \n2    AFKS  Система ао            АФК \"Система\" ПАО ао  Акции обыкновенные   \n3    AFLT    Аэрофлот    Аэрофлот-росс.авиалин(ПАО)ао  Акции обыкновенные   \n4    AKRN       Акрон                    Акрон ПАО ао  Акции обыкновенные   \n..    ...         ...                             ...                 ...   \n173  YAKG     ЯТЭК ао  Якутская топл.-энерг. комп. ао  Акции обыкновенные   \n174  YKEN  Якутскэнрг      АК \"Якутскэнерго\" (ПАО) ао  Акции обыкновенные   \n175  YRSB     ТНСэнЯр     ТНС энерго Ярославль ПАО ао  Акции обыкновенные   \n176  ZILL      ЗИЛ ао   Завод им. И.А.Лихачева ПАО ао  Акции обыкновенные   \n177  ZVEZ   ЗВЕЗДА ао                   ЗВЕЗДА ПАО ао  Акции обыкновенные   \n\n             ISIN     REGNUMBER  LISTLEVEL FACEVALUE FACEUNIT   ISSUESIZE   \n0    RU000A0JS5T7  1-02-12500-A          3       1,0      RUB    98000184  \\\n1    RU000A0JXS91  1-01-52065-Z          3       1,0      RUB   536000000   \n2    RU000A0DQZE3  1-05-01669-A          1      0,09      RUB  9650000000   \n3    RU0009062285  1-01-00010-A          1       1,0      RUB  3975771215   \n4    RU0009028674  1-03-00207-A          2       5,0      RUB    36757156   \n..            ...           ...        ...       ...      ...         ...   \n173  RU0007796819  1-01-20510-F          3       1,0      RUB   826919375   \n174  RU0009257075  1-01-00304-A          3      2,22      RUB  7963562986   \n175  RU000A0D8760  1-01-50099-A          3       1,0      RUB    17143584   \n176  RU0009086193  1-02-00036-A          3    1000,0      RUB     2659962   \n177  RU0009091300  1-01-00169-D          3       0,1      RUB   562020480   \n\n     ...    RTL3      RTH3 DISCOUNT1     LIMIT1 DISCOUNT2      LIMIT2   \n0    ...  12,486    486,96      50,0    49401.0      75,0    247005.0  \\\n1    ...     0,0    7,1544     100,0        NaN       NaN         NaN   \n2    ...  5,5241   24,3359      50,0  5975432.0      56,0  29877160.0   \n3    ...  13,784    60,724      50,0  2375879.0      56,0  11879395.0   \n4    ...     0,0  37916,16     100,0        NaN       NaN         NaN   \n..   ...     ...       ...       ...        ...       ...         ...   \n173  ...     0,0    233,14     100,0        NaN       NaN         NaN   \n174  ...     0,0  0,670256     100,0        NaN       NaN         NaN   \n175  ...     0,0   643,286     100,0        NaN       NaN         NaN   \n176  ...     0,0   7271,92     100,0        NaN       NaN         NaN   \n177  ...     0,0   10,2686     100,0        NaN       NaN         NaN   \n\n     DISCOUNT3  DISCOUNTL0  DISCOUNTH0  FULLCOVERED  \n0         95,0     9,11000    14,47000            1  \n1          NaN    21,21000    44,08000            1  \n2         63,0    10,69000     8,20000            0  \n3         63,0     7,25000    13,94000            0  \n4          NaN     7,74000     8,64000            1  \n..         ...         ...         ...          ...  \n173        NaN     6,16000    10,19000            1  \n174        NaN    10,54000    12,19000            1  \n175        NaN    16,04000    47,61000            1  \n176        NaN     8,18000    13,59000            1  \n177        NaN    10,21000    15,18000            1  \n\n[178 rows x 45 columns]",
      "text/html": "<div>\n<style scoped>\n    .dataframe tbody tr th:only-of-type {\n        vertical-align: middle;\n    }\n\n    .dataframe tbody tr th {\n        vertical-align: top;\n    }\n\n    .dataframe thead th {\n        text-align: right;\n    }\n</style>\n<table border=\"1\" class=\"dataframe\">\n  <thead>\n    <tr style=\"text-align: right;\">\n      <th></th>\n      <th>SECID</th>\n      <th>SHORTNAME</th>\n      <th>NAME</th>\n      <th>TYPENAME</th>\n      <th>ISIN</th>\n      <th>REGNUMBER</th>\n      <th>LISTLEVEL</th>\n      <th>FACEVALUE</th>\n      <th>FACEUNIT</th>\n      <th>ISSUESIZE</th>\n      <th>...</th>\n      <th>RTL3</th>\n      <th>RTH3</th>\n      <th>DISCOUNT1</th>\n      <th>LIMIT1</th>\n      <th>DISCOUNT2</th>\n      <th>LIMIT2</th>\n      <th>DISCOUNT3</th>\n      <th>DISCOUNTL0</th>\n      <th>DISCOUNTH0</th>\n      <th>FULLCOVERED</th>\n    </tr>\n  </thead>\n  <tbody>\n    <tr>\n      <th>0</th>\n      <td>ABRD</td>\n      <td>АбрауДюрсо</td>\n      <td>Абрау-Дюрсо ПАО ао</td>\n      <td>Акции обыкновенные</td>\n      <td>RU000A0JS5T7</td>\n      <td>1-02-12500-A</td>\n      <td>3</td>\n      <td>1,0</td>\n      <td>RUB</td>\n      <td>98000184</td>\n      <td>...</td>\n      <td>12,486</td>\n      <td>486,96</td>\n      <td>50,0</td>\n      <td>49401.0</td>\n      <td>75,0</td>\n      <td>247005.0</td>\n      <td>95,0</td>\n      <td>9,11000</td>\n      <td>14,47000</td>\n      <td>1</td>\n    </tr>\n    <tr>\n      <th>1</th>\n      <td>ACKO</td>\n      <td>АСКО ао</td>\n      <td>АСКО ПАО ао</td>\n      <td>Акции обыкновенные</td>\n      <td>RU000A0JXS91</td>\n      <td>1-01-52065-Z</td>\n      <td>3</td>\n      <td>1,0</td>\n      <td>RUB</td>\n      <td>536000000</td>\n      <td>...</td>\n      <td>0,0</td>\n      <td>7,1544</td>\n      <td>100,0</td>\n      <td>NaN</td>\n      <td>NaN</td>\n      <td>NaN</td>\n      <td>NaN</td>\n      <td>21,21000</td>\n      <td>44,08000</td>\n      <td>1</td>\n    </tr>\n    <tr>\n      <th>2</th>\n      <td>AFKS</td>\n      <td>Система ао</td>\n      <td>АФК \"Система\" ПАО ао</td>\n      <td>Акции обыкновенные</td>\n      <td>RU000A0DQZE3</td>\n      <td>1-05-01669-A</td>\n      <td>1</td>\n      <td>0,09</td>\n      <td>RUB</td>\n      <td>9650000000</td>\n      <td>...</td>\n      <td>5,5241</td>\n      <td>24,3359</td>\n      <td>50,0</td>\n      <td>5975432.0</td>\n      <td>56,0</td>\n      <td>29877160.0</td>\n      <td>63,0</td>\n      <td>10,69000</td>\n      <td>8,20000</td>\n      <td>0</td>\n    </tr>\n    <tr>\n      <th>3</th>\n      <td>AFLT</td>\n      <td>Аэрофлот</td>\n      <td>Аэрофлот-росс.авиалин(ПАО)ао</td>\n      <td>Акции обыкновенные</td>\n      <td>RU0009062285</td>\n      <td>1-01-00010-A</td>\n      <td>1</td>\n      <td>1,0</td>\n      <td>RUB</td>\n      <td>3975771215</td>\n      <td>...</td>\n      <td>13,784</td>\n      <td>60,724</td>\n      <td>50,0</td>\n      <td>2375879.0</td>\n      <td>56,0</td>\n      <td>11879395.0</td>\n      <td>63,0</td>\n      <td>7,25000</td>\n      <td>13,94000</td>\n      <td>0</td>\n    </tr>\n    <tr>\n      <th>4</th>\n      <td>AKRN</td>\n      <td>Акрон</td>\n      <td>Акрон ПАО ао</td>\n      <td>Акции обыкновенные</td>\n      <td>RU0009028674</td>\n      <td>1-03-00207-A</td>\n      <td>2</td>\n      <td>5,0</td>\n      <td>RUB</td>\n      <td>36757156</td>\n      <td>...</td>\n      <td>0,0</td>\n      <td>37916,16</td>\n      <td>100,0</td>\n      <td>NaN</td>\n      <td>NaN</td>\n      <td>NaN</td>\n      <td>NaN</td>\n      <td>7,74000</td>\n      <td>8,64000</td>\n      <td>1</td>\n    </tr>\n    <tr>\n      <th>...</th>\n      <td>...</td>\n      <td>...</td>\n      <td>...</td>\n      <td>...</td>\n      <td>...</td>\n      <td>...</td>\n      <td>...</td>\n      <td>...</td>\n      <td>...</td>\n      <td>...</td>\n      <td>...</td>\n      <td>...</td>\n      <td>...</td>\n      <td>...</td>\n      <td>...</td>\n      <td>...</td>\n      <td>...</td>\n      <td>...</td>\n      <td>...</td>\n      <td>...</td>\n      <td>...</td>\n    </tr>\n    <tr>\n      <th>173</th>\n      <td>YAKG</td>\n      <td>ЯТЭК ао</td>\n      <td>Якутская топл.-энерг. комп. ао</td>\n      <td>Акции обыкновенные</td>\n      <td>RU0007796819</td>\n      <td>1-01-20510-F</td>\n      <td>3</td>\n      <td>1,0</td>\n      <td>RUB</td>\n      <td>826919375</td>\n      <td>...</td>\n      <td>0,0</td>\n      <td>233,14</td>\n      <td>100,0</td>\n      <td>NaN</td>\n      <td>NaN</td>\n      <td>NaN</td>\n      <td>NaN</td>\n      <td>6,16000</td>\n      <td>10,19000</td>\n      <td>1</td>\n    </tr>\n    <tr>\n      <th>174</th>\n      <td>YKEN</td>\n      <td>Якутскэнрг</td>\n      <td>АК \"Якутскэнерго\" (ПАО) ао</td>\n      <td>Акции обыкновенные</td>\n      <td>RU0009257075</td>\n      <td>1-01-00304-A</td>\n      <td>3</td>\n      <td>2,22</td>\n      <td>RUB</td>\n      <td>7963562986</td>\n      <td>...</td>\n      <td>0,0</td>\n      <td>0,670256</td>\n      <td>100,0</td>\n      <td>NaN</td>\n      <td>NaN</td>\n      <td>NaN</td>\n      <td>NaN</td>\n      <td>10,54000</td>\n      <td>12,19000</td>\n      <td>1</td>\n    </tr>\n    <tr>\n      <th>175</th>\n      <td>YRSB</td>\n      <td>ТНСэнЯр</td>\n      <td>ТНС энерго Ярославль ПАО ао</td>\n      <td>Акции обыкновенные</td>\n      <td>RU000A0D8760</td>\n      <td>1-01-50099-A</td>\n      <td>3</td>\n      <td>1,0</td>\n      <td>RUB</td>\n      <td>17143584</td>\n      <td>...</td>\n      <td>0,0</td>\n      <td>643,286</td>\n      <td>100,0</td>\n      <td>NaN</td>\n      <td>NaN</td>\n      <td>NaN</td>\n      <td>NaN</td>\n      <td>16,04000</td>\n      <td>47,61000</td>\n      <td>1</td>\n    </tr>\n    <tr>\n      <th>176</th>\n      <td>ZILL</td>\n      <td>ЗИЛ ао</td>\n      <td>Завод им. И.А.Лихачева ПАО ао</td>\n      <td>Акции обыкновенные</td>\n      <td>RU0009086193</td>\n      <td>1-02-00036-A</td>\n      <td>3</td>\n      <td>1000,0</td>\n      <td>RUB</td>\n      <td>2659962</td>\n      <td>...</td>\n      <td>0,0</td>\n      <td>7271,92</td>\n      <td>100,0</td>\n      <td>NaN</td>\n      <td>NaN</td>\n      <td>NaN</td>\n      <td>NaN</td>\n      <td>8,18000</td>\n      <td>13,59000</td>\n      <td>1</td>\n    </tr>\n    <tr>\n      <th>177</th>\n      <td>ZVEZ</td>\n      <td>ЗВЕЗДА ао</td>\n      <td>ЗВЕЗДА ПАО ао</td>\n      <td>Акции обыкновенные</td>\n      <td>RU0009091300</td>\n      <td>1-01-00169-D</td>\n      <td>3</td>\n      <td>0,1</td>\n      <td>RUB</td>\n      <td>562020480</td>\n      <td>...</td>\n      <td>0,0</td>\n      <td>10,2686</td>\n      <td>100,0</td>\n      <td>NaN</td>\n      <td>NaN</td>\n      <td>NaN</td>\n      <td>NaN</td>\n      <td>10,21000</td>\n      <td>15,18000</td>\n      <td>1</td>\n    </tr>\n  </tbody>\n</table>\n<p>178 rows × 45 columns</p>\n</div>"
     },
     "execution_count": 22,
     "metadata": {},
     "output_type": "execute_result"
    }
   ],
   "source": [
    "quotes_df"
   ],
   "metadata": {
    "collapsed": false,
    "pycharm": {
     "name": "#%%\n"
    }
   }
  },
  {
   "cell_type": "markdown",
   "source": [
    "## 2. Пропарсить на предмет наличия в yfinance"
   ],
   "metadata": {
    "collapsed": false,
    "pycharm": {
     "name": "#%% md\n"
    }
   }
  },
  {
   "cell_type": "code",
   "execution_count": 27,
   "outputs": [],
   "source": [
    "from tqdm import tqdm"
   ],
   "metadata": {
    "collapsed": false,
    "pycharm": {
     "name": "#%%\n"
    }
   }
  },
  {
   "cell_type": "code",
   "execution_count": null,
   "outputs": [],
   "source": [
    "fdata = yf.download('NKNC.ME', period='max', interval='1d')"
   ],
   "metadata": {
    "collapsed": false,
    "pycharm": {
     "name": "#%%\n",
     "is_executing": true
    }
   }
  },
  {
   "cell_type": "code",
   "execution_count": null,
   "outputs": [],
   "source": [
    "fdata_list = {}\n",
    "for ticker in tqdm(quotes_df['SECID'].to_list()):\n",
    "    try:\n",
    "        fdata_list[ticker] = yf.download(f'{ticker}.ME', period='max', interval='1d')\n",
    "    except Exception as e:\n",
    "        print(f'Exception of {ticker}: \\n{e}')"
   ],
   "metadata": {
    "collapsed": false,
    "pycharm": {
     "name": "#%%\n",
     "is_executing": true
    }
   }
  },
  {
   "cell_type": "code",
   "execution_count": 29,
   "outputs": [
    {
     "data": {
      "text/plain": "178"
     },
     "execution_count": 29,
     "metadata": {},
     "output_type": "execute_result"
    }
   ],
   "source": [
    "len(fdata_list)"
   ],
   "metadata": {
    "collapsed": false,
    "pycharm": {
     "name": "#%%\n"
    }
   }
  },
  {
   "cell_type": "code",
   "execution_count": 33,
   "outputs": [],
   "source": [
    "fdata_dict = {}"
   ],
   "metadata": {
    "collapsed": false,
    "pycharm": {
     "name": "#%%\n"
    }
   }
  },
  {
   "cell_type": "code",
   "execution_count": 35,
   "outputs": [],
   "source": [
    "for key_val in fdata_list.keys():\n",
    "    if len(fdata_list[key_val]) > 0:\n",
    "        fdata_dict[key_val] = fdata_list[key_val]"
   ],
   "metadata": {
    "collapsed": false,
    "pycharm": {
     "name": "#%%\n"
    }
   }
  },
  {
   "cell_type": "code",
   "execution_count": 36,
   "outputs": [
    {
     "data": {
      "text/plain": "166"
     },
     "execution_count": 36,
     "metadata": {},
     "output_type": "execute_result"
    }
   ],
   "source": [
    "len(fdata_dict)"
   ],
   "metadata": {
    "collapsed": false,
    "pycharm": {
     "name": "#%%\n"
    }
   }
  },
  {
   "cell_type": "code",
   "execution_count": 37,
   "outputs": [
    {
     "data": {
      "text/plain": "(178, 45)"
     },
     "execution_count": 37,
     "metadata": {},
     "output_type": "execute_result"
    }
   ],
   "source": [
    "quotes_df.shape"
   ],
   "metadata": {
    "collapsed": false,
    "pycharm": {
     "name": "#%%\n"
    }
   }
  },
  {
   "cell_type": "code",
   "execution_count": 38,
   "outputs": [],
   "source": [
    "## найдено 166/178, неплохо, посмотрим кого нет"
   ],
   "metadata": {
    "collapsed": false,
    "pycharm": {
     "name": "#%%\n"
    }
   }
  },
  {
   "cell_type": "code",
   "execution_count": 41,
   "outputs": [
    {
     "data": {
      "text/plain": "    SECID   SHORTNAME                          NAME            TYPENAME   \n28   ELFV  ЭЛ5Энер ао              \"ЭЛ5-Энерго\" ПАО  Акции обыкновенные  \\\n34   GAZC   ГАЗКОН-ао               ГАЗКОН (ПАО) ао  Акции обыкновенные   \n36   GAZS  ГАЗ-сервис           ГАЗ-сервис (ПАО) ао  Акции обыкновенные   \n39   GECO   iГЕНЕТИКО              ЦГРМ ГЕНЕТИКО ао  Акции обыкновенные   \n57   KMTZ  КосогМЗ ао  Косогорский метал. завод ПАО  Акции обыкновенные   \n113  POSI    iПозитив             Группа Позитив ао  Акции обыкновенные   \n118  RENI   Ренессанс      Ренессанс Страхование ао  Акции обыкновенные   \n137  SGZH      Сегежа                     Сегежа ао  Акции обыкновенные   \n139  SLEN  Сахэнер ао        ПАО \"Сахалинэнерго\" ао  Акции обыкновенные   \n140  SMLT  Самолет ао                 ГК Самолет ао  Акции обыкновенные   \n145  SVET    Светофор             Светофор Групп ао  Акции обыкновенные   \n172  WUSH  iВУШХолднг                ВУШ Холдинг ао  Акции обыкновенные   \n\n             ISIN     REGNUMBER  LISTLEVEL FACEVALUE FACEUNIT    ISSUESIZE   \n28   RU000A0F5UN3  1-01-50077-A          1       1,0      RUB  35371898370  \\\n34   RU000A0JQG86  1-01-09870-A          3      10,0      RUB    225381601   \n36   RU000A0JQG78  1-01-09871-A          3      10,0      RUB    206508967   \n39   RU000A105BN4  1-01-87198-H          3      0,01      RUB     83000000   \n57   RU000A0HF1L0  1-01-03975-A          3       1,0      RUB     28416095   \n113  RU000A103X66  1-01-85307-H          1       0,5      RUB     66000000   \n118  RU000A0ZZM04  1-01-10601-Z          1      9,88      RUB    556952780   \n137  RU000A102XG9  1-01-87154-H          1       0,1      RUB  15690000000   \n139  RU0009280465  1-03-00272-A          3      10,0      RUB   1237175444   \n140  RU000A0ZZG02  1-01-16493-A          1      25,0      RUB     61579358   \n145  RU000A100592  1-01-24350-J          3       1,0      RUB     22333500   \n172  RU000A105EX7  1-01-03292-G          1      0,01      RUB    111382432   \n\n     ...     RTL3     RTH3 DISCOUNT1      LIMIT1 DISCOUNT2      LIMIT2   \n28   ...  0,13935  0,97542      33,0  12227875.0      50,0  61139375.0  \\\n34   ...      0,0   701,73     100,0         NaN       NaN         NaN   \n36   ...      0,0  919,654     100,0         NaN       NaN         NaN   \n39   ...      0,0   64,328     100,0         NaN       NaN         NaN   \n57   ...      0,0  417,536     100,0         NaN       NaN         NaN   \n113  ...    83,21  3245,09      50,0     17285.0      75,0     84852.0   \n118  ...    3,211  125,247      50,0     78431.0      75,0    392155.0   \n137  ...    3,294   7,3318      25,0   2324525.0      31,0  11622625.0   \n139  ...      0,0   7,4418     100,0         NaN       NaN         NaN   \n140  ...   124,26  4846,22      50,0     17782.0      75,0     88912.0   \n145  ...      0,0    57,74     100,0         NaN       NaN         NaN   \n172  ...      0,0    432,1     100,0         NaN       NaN         NaN   \n\n     DISCOUNT3  DISCOUNTL0  DISCOUNTH0  FULLCOVERED  \n28        75,0     9,66000    12,91000            0  \n34         NaN    21,21000    44,08000            1  \n36         NaN    21,21000    44,08000            1  \n39         NaN    31,15000    56,49000            1  \n57         NaN    12,10000    16,67000            1  \n113       95,0     8,95000     7,53000            0  \n118       95,0    11,03000    11,45000            0  \n137       38,0     9,26000     7,20000            0  \n139        NaN     9,52000    11,91000            1  \n140       95,0    10,22000     8,19000            0  \n145        NaN    13,25000    25,39000            1  \n172        NaN    31,15000    56,49000            1  \n\n[12 rows x 45 columns]",
      "text/html": "<div>\n<style scoped>\n    .dataframe tbody tr th:only-of-type {\n        vertical-align: middle;\n    }\n\n    .dataframe tbody tr th {\n        vertical-align: top;\n    }\n\n    .dataframe thead th {\n        text-align: right;\n    }\n</style>\n<table border=\"1\" class=\"dataframe\">\n  <thead>\n    <tr style=\"text-align: right;\">\n      <th></th>\n      <th>SECID</th>\n      <th>SHORTNAME</th>\n      <th>NAME</th>\n      <th>TYPENAME</th>\n      <th>ISIN</th>\n      <th>REGNUMBER</th>\n      <th>LISTLEVEL</th>\n      <th>FACEVALUE</th>\n      <th>FACEUNIT</th>\n      <th>ISSUESIZE</th>\n      <th>...</th>\n      <th>RTL3</th>\n      <th>RTH3</th>\n      <th>DISCOUNT1</th>\n      <th>LIMIT1</th>\n      <th>DISCOUNT2</th>\n      <th>LIMIT2</th>\n      <th>DISCOUNT3</th>\n      <th>DISCOUNTL0</th>\n      <th>DISCOUNTH0</th>\n      <th>FULLCOVERED</th>\n    </tr>\n  </thead>\n  <tbody>\n    <tr>\n      <th>28</th>\n      <td>ELFV</td>\n      <td>ЭЛ5Энер ао</td>\n      <td>\"ЭЛ5-Энерго\" ПАО</td>\n      <td>Акции обыкновенные</td>\n      <td>RU000A0F5UN3</td>\n      <td>1-01-50077-A</td>\n      <td>1</td>\n      <td>1,0</td>\n      <td>RUB</td>\n      <td>35371898370</td>\n      <td>...</td>\n      <td>0,13935</td>\n      <td>0,97542</td>\n      <td>33,0</td>\n      <td>12227875.0</td>\n      <td>50,0</td>\n      <td>61139375.0</td>\n      <td>75,0</td>\n      <td>9,66000</td>\n      <td>12,91000</td>\n      <td>0</td>\n    </tr>\n    <tr>\n      <th>34</th>\n      <td>GAZC</td>\n      <td>ГАЗКОН-ао</td>\n      <td>ГАЗКОН (ПАО) ао</td>\n      <td>Акции обыкновенные</td>\n      <td>RU000A0JQG86</td>\n      <td>1-01-09870-A</td>\n      <td>3</td>\n      <td>10,0</td>\n      <td>RUB</td>\n      <td>225381601</td>\n      <td>...</td>\n      <td>0,0</td>\n      <td>701,73</td>\n      <td>100,0</td>\n      <td>NaN</td>\n      <td>NaN</td>\n      <td>NaN</td>\n      <td>NaN</td>\n      <td>21,21000</td>\n      <td>44,08000</td>\n      <td>1</td>\n    </tr>\n    <tr>\n      <th>36</th>\n      <td>GAZS</td>\n      <td>ГАЗ-сервис</td>\n      <td>ГАЗ-сервис (ПАО) ао</td>\n      <td>Акции обыкновенные</td>\n      <td>RU000A0JQG78</td>\n      <td>1-01-09871-A</td>\n      <td>3</td>\n      <td>10,0</td>\n      <td>RUB</td>\n      <td>206508967</td>\n      <td>...</td>\n      <td>0,0</td>\n      <td>919,654</td>\n      <td>100,0</td>\n      <td>NaN</td>\n      <td>NaN</td>\n      <td>NaN</td>\n      <td>NaN</td>\n      <td>21,21000</td>\n      <td>44,08000</td>\n      <td>1</td>\n    </tr>\n    <tr>\n      <th>39</th>\n      <td>GECO</td>\n      <td>iГЕНЕТИКО</td>\n      <td>ЦГРМ ГЕНЕТИКО ао</td>\n      <td>Акции обыкновенные</td>\n      <td>RU000A105BN4</td>\n      <td>1-01-87198-H</td>\n      <td>3</td>\n      <td>0,01</td>\n      <td>RUB</td>\n      <td>83000000</td>\n      <td>...</td>\n      <td>0,0</td>\n      <td>64,328</td>\n      <td>100,0</td>\n      <td>NaN</td>\n      <td>NaN</td>\n      <td>NaN</td>\n      <td>NaN</td>\n      <td>31,15000</td>\n      <td>56,49000</td>\n      <td>1</td>\n    </tr>\n    <tr>\n      <th>57</th>\n      <td>KMTZ</td>\n      <td>КосогМЗ ао</td>\n      <td>Косогорский метал. завод ПАО</td>\n      <td>Акции обыкновенные</td>\n      <td>RU000A0HF1L0</td>\n      <td>1-01-03975-A</td>\n      <td>3</td>\n      <td>1,0</td>\n      <td>RUB</td>\n      <td>28416095</td>\n      <td>...</td>\n      <td>0,0</td>\n      <td>417,536</td>\n      <td>100,0</td>\n      <td>NaN</td>\n      <td>NaN</td>\n      <td>NaN</td>\n      <td>NaN</td>\n      <td>12,10000</td>\n      <td>16,67000</td>\n      <td>1</td>\n    </tr>\n    <tr>\n      <th>113</th>\n      <td>POSI</td>\n      <td>iПозитив</td>\n      <td>Группа Позитив ао</td>\n      <td>Акции обыкновенные</td>\n      <td>RU000A103X66</td>\n      <td>1-01-85307-H</td>\n      <td>1</td>\n      <td>0,5</td>\n      <td>RUB</td>\n      <td>66000000</td>\n      <td>...</td>\n      <td>83,21</td>\n      <td>3245,09</td>\n      <td>50,0</td>\n      <td>17285.0</td>\n      <td>75,0</td>\n      <td>84852.0</td>\n      <td>95,0</td>\n      <td>8,95000</td>\n      <td>7,53000</td>\n      <td>0</td>\n    </tr>\n    <tr>\n      <th>118</th>\n      <td>RENI</td>\n      <td>Ренессанс</td>\n      <td>Ренессанс Страхование ао</td>\n      <td>Акции обыкновенные</td>\n      <td>RU000A0ZZM04</td>\n      <td>1-01-10601-Z</td>\n      <td>1</td>\n      <td>9,88</td>\n      <td>RUB</td>\n      <td>556952780</td>\n      <td>...</td>\n      <td>3,211</td>\n      <td>125,247</td>\n      <td>50,0</td>\n      <td>78431.0</td>\n      <td>75,0</td>\n      <td>392155.0</td>\n      <td>95,0</td>\n      <td>11,03000</td>\n      <td>11,45000</td>\n      <td>0</td>\n    </tr>\n    <tr>\n      <th>137</th>\n      <td>SGZH</td>\n      <td>Сегежа</td>\n      <td>Сегежа ао</td>\n      <td>Акции обыкновенные</td>\n      <td>RU000A102XG9</td>\n      <td>1-01-87154-H</td>\n      <td>1</td>\n      <td>0,1</td>\n      <td>RUB</td>\n      <td>15690000000</td>\n      <td>...</td>\n      <td>3,294</td>\n      <td>7,3318</td>\n      <td>25,0</td>\n      <td>2324525.0</td>\n      <td>31,0</td>\n      <td>11622625.0</td>\n      <td>38,0</td>\n      <td>9,26000</td>\n      <td>7,20000</td>\n      <td>0</td>\n    </tr>\n    <tr>\n      <th>139</th>\n      <td>SLEN</td>\n      <td>Сахэнер ао</td>\n      <td>ПАО \"Сахалинэнерго\" ао</td>\n      <td>Акции обыкновенные</td>\n      <td>RU0009280465</td>\n      <td>1-03-00272-A</td>\n      <td>3</td>\n      <td>10,0</td>\n      <td>RUB</td>\n      <td>1237175444</td>\n      <td>...</td>\n      <td>0,0</td>\n      <td>7,4418</td>\n      <td>100,0</td>\n      <td>NaN</td>\n      <td>NaN</td>\n      <td>NaN</td>\n      <td>NaN</td>\n      <td>9,52000</td>\n      <td>11,91000</td>\n      <td>1</td>\n    </tr>\n    <tr>\n      <th>140</th>\n      <td>SMLT</td>\n      <td>Самолет ао</td>\n      <td>ГК Самолет ао</td>\n      <td>Акции обыкновенные</td>\n      <td>RU000A0ZZG02</td>\n      <td>1-01-16493-A</td>\n      <td>1</td>\n      <td>25,0</td>\n      <td>RUB</td>\n      <td>61579358</td>\n      <td>...</td>\n      <td>124,26</td>\n      <td>4846,22</td>\n      <td>50,0</td>\n      <td>17782.0</td>\n      <td>75,0</td>\n      <td>88912.0</td>\n      <td>95,0</td>\n      <td>10,22000</td>\n      <td>8,19000</td>\n      <td>0</td>\n    </tr>\n    <tr>\n      <th>145</th>\n      <td>SVET</td>\n      <td>Светофор</td>\n      <td>Светофор Групп ао</td>\n      <td>Акции обыкновенные</td>\n      <td>RU000A100592</td>\n      <td>1-01-24350-J</td>\n      <td>3</td>\n      <td>1,0</td>\n      <td>RUB</td>\n      <td>22333500</td>\n      <td>...</td>\n      <td>0,0</td>\n      <td>57,74</td>\n      <td>100,0</td>\n      <td>NaN</td>\n      <td>NaN</td>\n      <td>NaN</td>\n      <td>NaN</td>\n      <td>13,25000</td>\n      <td>25,39000</td>\n      <td>1</td>\n    </tr>\n    <tr>\n      <th>172</th>\n      <td>WUSH</td>\n      <td>iВУШХолднг</td>\n      <td>ВУШ Холдинг ао</td>\n      <td>Акции обыкновенные</td>\n      <td>RU000A105EX7</td>\n      <td>1-01-03292-G</td>\n      <td>1</td>\n      <td>0,01</td>\n      <td>RUB</td>\n      <td>111382432</td>\n      <td>...</td>\n      <td>0,0</td>\n      <td>432,1</td>\n      <td>100,0</td>\n      <td>NaN</td>\n      <td>NaN</td>\n      <td>NaN</td>\n      <td>NaN</td>\n      <td>31,15000</td>\n      <td>56,49000</td>\n      <td>1</td>\n    </tr>\n  </tbody>\n</table>\n<p>12 rows × 45 columns</p>\n</div>"
     },
     "execution_count": 41,
     "metadata": {},
     "output_type": "execute_result"
    }
   ],
   "source": [
    "quotes_df.loc[~quotes_df['SECID'].isin(fdata_dict.keys())]  # в общем нет только ноунеймов, так что все норм"
   ],
   "metadata": {
    "collapsed": false,
    "pycharm": {
     "name": "#%%\n"
    }
   }
  },
  {
   "cell_type": "markdown",
   "source": [
    "## 3. Проверить начала котировок"
   ],
   "metadata": {
    "collapsed": false,
    "pycharm": {
     "name": "#%% md\n"
    }
   }
  },
  {
   "cell_type": "code",
   "execution_count": 43,
   "outputs": [
    {
     "data": {
      "text/plain": "dict_keys(['ABRD', 'ACKO', 'AFKS', 'AFLT', 'AKRN', 'ALRS', 'AMEZ', 'APTK', 'AQUA', 'ARSA', 'ASSB', 'AVAN', 'BANE', 'BELU', 'BLNG', 'BRZL', 'BSPB', 'CBOM', 'CHGZ', 'CHKZ', 'CHMF', 'CHMK', 'CNTL', 'DIOD', 'DSKY', 'DVEC', 'DZRD', 'EELT', 'ELTZ', 'FEES', 'FESH', 'FLOT', 'GAZA', 'GAZP', 'GAZT', 'GCHE', 'GEMA', 'GMKN', 'GTRK', 'HYDR', 'IGST', 'INGR', 'IRAO', 'IRKT', 'ISKJ', 'JNOS', 'KAZT', 'KBSB', 'KCHE', 'KGKC', 'KLSB', 'KMAZ', 'KMEZ', 'KOGK', 'KRKN', 'KROT', 'KRSB', 'KTSB', 'KUBE', 'KUZB', 'KZOS', 'LENT', 'LIFE', 'LKOH', 'LNZL', 'LPSB', 'LSNG', 'LSRG', 'LVHK', 'MAGE', 'MAGN', 'MFGS', 'MGNT', 'MGNZ', 'MGTS', 'MISB', 'MOEX', 'MRKC', 'MRKK', 'MRKP', 'MRKS', 'MRKU', 'MRKV', 'MRKY', 'MRKZ', 'MRSB', 'MSNG', 'MSRS', 'MSTT', 'MTLR', 'MTSS', 'MVID', 'NAUK', 'NFAZ', 'NKHP', 'NKNC', 'NKSH', 'NLMK', 'NMTP', 'NNSB', 'NSVZ', 'NVTK', 'OGKB', 'PAZA', 'PHOR', 'PIKK', 'PLZL', 'PMSB', 'PRMB', 'RASP', 'RBCM', 'RDRB', 'RGSS', 'RKKE', 'RNFT', 'ROLO', 'ROSB', 'ROSN', 'ROST', 'RTGZ', 'RTKM', 'RTSB', 'RUAL', 'RUSI', 'RZSB', 'SAGO', 'SARE', 'SBER', 'SELG', 'SFIN', 'SIBN', 'SNGS', 'SPBE', 'STSB', 'SVAV', 'TASB', 'TATN', 'TGKA', 'TGKB', 'TGKN', 'TNSE', 'TORS', 'TRMK', 'TTLK', 'TUZA', 'UCSS', 'UKUZ', 'UNAC', 'UNKL', 'UPRO', 'URKZ', 'USBN', 'UTAR', 'VGSB', 'VJGZ', 'VLHZ', 'VRSB', 'VSMO', 'VSYD', 'VTBR', 'WTCM', 'YAKG', 'YKEN', 'YRSB', 'ZILL', 'ZVEZ'])"
     },
     "execution_count": 43,
     "metadata": {},
     "output_type": "execute_result"
    }
   ],
   "source": [
    "fdata_dict.keys()"
   ],
   "metadata": {
    "collapsed": false,
    "pycharm": {
     "name": "#%%\n"
    }
   }
  },
  {
   "cell_type": "code",
   "execution_count": 46,
   "outputs": [
    {
     "data": {
      "text/plain": "Timestamp('2012-04-11 00:00:00')"
     },
     "execution_count": 46,
     "metadata": {},
     "output_type": "execute_result"
    }
   ],
   "source": [
    "fdata_dict['ABRD'].index[0]"
   ],
   "metadata": {
    "collapsed": false,
    "pycharm": {
     "name": "#%%\n"
    }
   }
  },
  {
   "cell_type": "code",
   "execution_count": 50,
   "outputs": [],
   "source": [
    "first_dates = {}\n",
    "for key_val in fdata_dict.keys():\n",
    "    first_dates[key_val] = fdata_dict[key_val].index[0]"
   ],
   "metadata": {
    "collapsed": false,
    "pycharm": {
     "name": "#%%\n"
    }
   }
  },
  {
   "cell_type": "code",
   "execution_count": 60,
   "outputs": [],
   "source": [
    "first_date_df = pd.DataFrame([first_dates])"
   ],
   "metadata": {
    "collapsed": false,
    "pycharm": {
     "name": "#%%\n"
    }
   }
  },
  {
   "cell_type": "code",
   "execution_count": 71,
   "outputs": [],
   "source": [
    "first_date_df1 = first_date_df.T.rename(columns={0: 'first_date'})"
   ],
   "metadata": {
    "collapsed": false,
    "pycharm": {
     "name": "#%%\n"
    }
   }
  },
  {
   "cell_type": "code",
   "execution_count": 73,
   "outputs": [
    {
     "data": {
      "text/plain": "Timestamp('2007-11-19 00:00:00')"
     },
     "execution_count": 73,
     "metadata": {},
     "output_type": "execute_result"
    }
   ],
   "source": [
    "first_date_df1['first_date'].min()"
   ],
   "metadata": {
    "collapsed": false,
    "pycharm": {
     "name": "#%%\n"
    }
   }
  },
  {
   "cell_type": "code",
   "execution_count": 77,
   "outputs": [
    {
     "data": {
      "text/plain": "Timestamp('2022-02-03 00:00:00')"
     },
     "execution_count": 77,
     "metadata": {},
     "output_type": "execute_result"
    }
   ],
   "source": [
    "first_date_df1['first_date'].max()"
   ],
   "metadata": {
    "collapsed": false,
    "pycharm": {
     "name": "#%%\n"
    }
   }
  },
  {
   "cell_type": "code",
   "execution_count": 75,
   "outputs": [],
   "source": [
    "# надо сгруппировать по годам и посмотреть частоту"
   ],
   "metadata": {
    "collapsed": false,
    "pycharm": {
     "name": "#%%\n"
    }
   }
  },
  {
   "cell_type": "code",
   "execution_count": 79,
   "outputs": [],
   "source": [
    "first_date_df1['date_dt'] = first_date_df1['first_date'].apply(pd.to_datetime)"
   ],
   "metadata": {
    "collapsed": false,
    "pycharm": {
     "name": "#%%\n"
    }
   }
  },
  {
   "cell_type": "code",
   "execution_count": 81,
   "outputs": [],
   "source": [
    "first_date_df1['year'] = first_date_df1['date_dt'].dt.year"
   ],
   "metadata": {
    "collapsed": false,
    "pycharm": {
     "name": "#%%\n"
    }
   }
  },
  {
   "cell_type": "code",
   "execution_count": 87,
   "outputs": [
    {
     "data": {
      "text/plain": "      date_dt\nyear         \n2010       91\n2011       42\n2012       11\n2013        6\n2015        5\n2017        5\n2022        2\n2007        1\n2014        1\n2019        1\n2020        1",
      "text/html": "<div>\n<style scoped>\n    .dataframe tbody tr th:only-of-type {\n        vertical-align: middle;\n    }\n\n    .dataframe tbody tr th {\n        vertical-align: top;\n    }\n\n    .dataframe thead th {\n        text-align: right;\n    }\n</style>\n<table border=\"1\" class=\"dataframe\">\n  <thead>\n    <tr style=\"text-align: right;\">\n      <th></th>\n      <th>date_dt</th>\n    </tr>\n    <tr>\n      <th>year</th>\n      <th></th>\n    </tr>\n  </thead>\n  <tbody>\n    <tr>\n      <th>2010</th>\n      <td>91</td>\n    </tr>\n    <tr>\n      <th>2011</th>\n      <td>42</td>\n    </tr>\n    <tr>\n      <th>2012</th>\n      <td>11</td>\n    </tr>\n    <tr>\n      <th>2013</th>\n      <td>6</td>\n    </tr>\n    <tr>\n      <th>2015</th>\n      <td>5</td>\n    </tr>\n    <tr>\n      <th>2017</th>\n      <td>5</td>\n    </tr>\n    <tr>\n      <th>2022</th>\n      <td>2</td>\n    </tr>\n    <tr>\n      <th>2007</th>\n      <td>1</td>\n    </tr>\n    <tr>\n      <th>2014</th>\n      <td>1</td>\n    </tr>\n    <tr>\n      <th>2019</th>\n      <td>1</td>\n    </tr>\n    <tr>\n      <th>2020</th>\n      <td>1</td>\n    </tr>\n  </tbody>\n</table>\n</div>"
     },
     "execution_count": 87,
     "metadata": {},
     "output_type": "execute_result"
    }
   ],
   "source": [
    "first_date_df1[['date_dt', 'year']].groupby('year').agg({'date_dt': 'count'}).sort_values(by='date_dt', ascending=False)"
   ],
   "metadata": {
    "collapsed": false,
    "pycharm": {
     "name": "#%%\n"
    }
   }
  },
  {
   "cell_type": "code",
   "execution_count": 88,
   "outputs": [],
   "source": [
    "# кажется с 2016го лучше смотреть"
   ],
   "metadata": {
    "collapsed": false,
    "pycharm": {
     "name": "#%%\n"
    }
   }
  },
  {
   "cell_type": "code",
   "execution_count": 94,
   "outputs": [],
   "source": [
    "lower_dates_tickets = list(first_date_df1.loc[first_date_df1['date_dt']<'2016-01-01'].index)  # скорее всего изучаемые акции, надо среди них верхнюю планку"
   ],
   "metadata": {
    "collapsed": false,
    "pycharm": {
     "name": "#%%\n"
    }
   }
  },
  {
   "cell_type": "code",
   "execution_count": 98,
   "outputs": [],
   "source": [
    "last_dates = {}\n",
    "for key_val in lower_dates_tickets:\n",
    "    last_dates[key_val] = fdata_dict[key_val].index[-1]"
   ],
   "metadata": {
    "collapsed": false,
    "pycharm": {
     "name": "#%%\n"
    }
   }
  },
  {
   "cell_type": "code",
   "execution_count": null,
   "outputs": [],
   "source": [],
   "metadata": {
    "collapsed": false,
    "pycharm": {
     "name": "#%%\n",
     "is_executing": true
    }
   }
  },
  {
   "cell_type": "code",
   "execution_count": 99,
   "outputs": [],
   "source": [
    "last_dates_df = pd.DataFrame([last_dates]).T.rename(columns={0: 'last_date'})"
   ],
   "metadata": {
    "collapsed": false,
    "pycharm": {
     "name": "#%%\n"
    }
   }
  },
  {
   "cell_type": "code",
   "execution_count": 102,
   "outputs": [
    {
     "data": {
      "text/plain": "Timestamp('2022-05-24 00:00:00')"
     },
     "execution_count": 102,
     "metadata": {},
     "output_type": "execute_result"
    }
   ],
   "source": [
    "last_dates_df['last_date'].min()  # в общем то все попадают в промежуток [2015 - 2021]"
   ],
   "metadata": {
    "collapsed": false,
    "pycharm": {
     "name": "#%%\n"
    }
   }
  },
  {
   "cell_type": "markdown",
   "source": [
    "### 1.1 Перевести в log change\n",
    "### 1.2 Посчитать волатильность"
   ],
   "metadata": {
    "collapsed": false,
    "pycharm": {
     "name": "#%% md\n"
    }
   }
  },
  {
   "cell_type": "code",
   "execution_count": 135,
   "outputs": [],
   "source": [],
   "metadata": {
    "collapsed": false,
    "pycharm": {
     "name": "#%%\n"
    }
   }
  },
  {
   "cell_type": "code",
   "execution_count": null,
   "outputs": [],
   "source": [
    "fdata_dict"
   ],
   "metadata": {
    "collapsed": false,
    "pycharm": {
     "name": "#%%\n",
     "is_executing": true
    }
   }
  },
  {
   "cell_type": "code",
   "execution_count": 151,
   "outputs": [],
   "source": [
    "selected_quotes = {}\n",
    "for key_val in fdata_list.keys():\n",
    "    if key_val in lower_dates_tickets:\n",
    "        selected_quotes[key_val] = fdata_list[key_val]"
   ],
   "metadata": {
    "collapsed": false,
    "pycharm": {
     "name": "#%%\n"
    }
   }
  },
  {
   "cell_type": "code",
   "execution_count": 149,
   "outputs": [
    {
     "data": {
      "text/plain": "{'ABRD':                   Open        High         Low       Close   Adj Close   \n Date                                                                     \n 2012-04-11   52.009998   53.250000   51.700001   53.070000   49.004147  \\\n 2012-04-12   53.000000   53.700001   53.000000   53.349998   49.262695   \n 2012-04-13   53.299999   53.400002   52.889999   53.270000   49.188828   \n 2012-04-16   52.910000   53.250000   52.910000   53.220001   49.142654   \n 2012-04-17   53.200001   53.380001   53.200001   53.299999   49.216526   \n ...                ...         ...         ...         ...         ...   \n 2022-05-18  184.000000  184.000000  179.500000  180.000000  180.000000   \n 2022-05-19  181.500000  182.500000  178.000000  179.000000  179.000000   \n 2022-05-20  179.000000  179.000000  179.000000  179.000000  179.000000   \n 2022-05-23  179.000000  179.000000  179.000000  179.000000  179.000000   \n 2022-05-24  179.000000  179.000000  179.000000  179.000000  179.000000   \n \n             Volume   log_ret  log_ret_high  log_ret_low  \n Date                                                     \n 2012-04-11  249800       NaN           NaN          NaN  \n 2012-04-12   90500  0.005262      0.008415     0.024834  \n 2012-04-13   82900 -0.001501     -0.005602    -0.002078  \n 2012-04-16   59000 -0.000939     -0.002813     0.000378  \n 2012-04-17   77500  0.001502      0.002438     0.005466  \n ...            ...       ...           ...          ...  \n 2022-05-18   20190  0.002782     -0.008119     0.022536  \n 2022-05-19   28650 -0.005571     -0.008186    -0.008392  \n 2022-05-20       0  0.000000     -0.019364     0.005602  \n 2022-05-23       0  0.000000      0.000000     0.000000  \n 2022-05-24       0  0.000000      0.000000     0.000000  \n \n [2518 rows x 9 columns],\n 'ACKO':              Open    High     Low   Close  Adj Close    Volume\n Date                                                          \n 2017-07-12  2.900  3.6500  2.6300  3.6500   3.404889    489001\n 2017-07-13  3.650  5.0370  3.6500  5.0000   4.664232     41001\n 2017-07-14  4.300  6.9930  3.1645  6.1285   5.716949   1062001\n 2017-07-17  7.560  7.5600  4.4140  4.9680   4.634381    575014\n 2017-07-18  5.265  6.7165  3.0630  6.7165   6.265463  24649000\n ...           ...     ...     ...     ...        ...       ...\n 2022-05-18  5.700  5.7000  5.7000  5.7000   5.700000         0\n 2022-05-19  5.700  5.7000  5.7000  5.7000   5.700000         0\n 2022-05-20  5.700  5.7000  5.7000  5.7000   5.700000         0\n 2022-05-23  5.700  5.7000  5.7000  5.7000   5.700000         0\n 2022-05-24  5.700  5.7000  5.7000  5.7000   5.700000         0\n \n [1206 rows x 6 columns],\n 'AFKS':                  Open       High        Low      Close  Adj Close     Volume   \n Date                                                                           \n 2011-11-21  22.309999  22.309999  21.700001  21.893999  15.663476    1273900  \\\n 2011-11-22  22.000000  22.540001  21.891001  22.540001  16.125639    2180400   \n 2011-11-23  22.000000  23.750000  21.950001  23.200001  16.597820       6156   \n 2011-11-24  23.670000  24.224001  23.400000  23.871000  17.077864    2361600   \n 2011-11-25  23.860001  24.000000  23.591000  24.000000  17.170156    2113500   \n ...               ...        ...        ...        ...        ...        ...   \n 2022-05-18  12.612000  13.930000  12.612000  13.371000  13.371000  117144800   \n 2022-05-19  13.250000  13.370000  12.820000  13.350000  13.350000   21236800   \n 2022-05-20  13.350000  13.350000  13.350000  13.350000  13.350000          0   \n 2022-05-23  13.350000  13.350000  13.350000  13.350000  13.350000          0   \n 2022-05-24  13.350000  13.350000  13.350000  13.350000  13.350000          0   \n \n              log_ret  log_ret_high  log_ret_low  \n Date                                             \n 2011-11-21       NaN           NaN          NaN  \n 2011-11-22  0.029079      0.010257     0.008763  \n 2011-11-23  0.028861      0.052291     0.002692  \n 2011-11-24  0.028512      0.019761     0.063969  \n 2011-11-25  0.005389     -0.009290     0.008129  \n ...              ...           ...          ...  \n 2022-05-18  0.079756      0.113932     0.033869  \n 2022-05-19 -0.001572     -0.041031     0.016358  \n 2022-05-20  0.000000     -0.001497     0.040510  \n 2022-05-23  0.000000      0.000000     0.000000  \n 2022-05-24  0.000000      0.000000     0.000000  \n \n [2615 rows x 9 columns],\n 'AFLT':                  Open       High        Low      Close  Adj Close    Volume   \n Date                                                                          \n 2010-03-03  55.580002  55.580002  54.299999  55.099998  39.564140    547540  \\\n 2010-03-04  55.200001  55.200001  54.060001  54.799999  39.348728    357044   \n 2010-03-05  54.860001  55.349998  54.799999  55.049999  39.528236    316035   \n 2010-03-09  55.200001  55.660000  53.580002  54.470001  39.111778   1057526   \n 2010-03-10  54.509998  54.880001  53.830002  54.360001  39.032791    456499   \n ...               ...        ...        ...        ...        ...       ...   \n 2022-05-18  30.360001  30.900000  29.520000  30.059999  30.059999  10053680   \n 2022-05-19  30.059999  30.219999  29.200001  29.559999  29.559999   5273230   \n 2022-05-20  29.559999  29.559999  29.559999  29.559999  29.559999         0   \n 2022-05-23  29.559999  29.559999  29.559999  29.559999  29.559999         0   \n 2022-05-24  29.559999  29.559999  29.559999  29.559999  29.559999         0   \n \n              log_ret  log_ret_high  log_ret_low  \n Date                                             \n 2010-03-03       NaN           NaN          NaN  \n 2010-03-04 -0.005460     -0.006860    -0.004430  \n 2010-03-05  0.004552      0.002714     0.013596  \n 2010-03-09 -0.010592      0.005585    -0.022514  \n 2010-03-10 -0.002022     -0.014113     0.004655  \n ...              ...           ...          ...  \n 2022-05-18 -0.009931     -0.012862    -0.002706  \n 2022-05-19 -0.016773     -0.022252    -0.010899  \n 2022-05-20  0.000000     -0.022082     0.012253  \n 2022-05-23  0.000000      0.000000     0.000000  \n 2022-05-24  0.000000      0.000000     0.000000  \n \n [3043 rows x 9 columns],\n 'AKRN':                     Open          High           Low         Close   \n Date                                                                 \n 2010-03-03   1072.500000   1104.900024   1060.010010   1100.000000  \\\n 2010-03-04   1039.959961   1106.790039   1039.959961   1085.040039   \n 2010-03-05   1095.000000   1113.500000   1093.000000   1113.000000   \n 2010-03-09   1102.359985   1120.000000   1091.010010   1100.000000   \n 2010-03-10   1100.000000   1105.599976   1080.000000   1090.000000   \n ...                  ...           ...           ...           ...   \n 2022-05-18  18700.000000  18894.000000  17848.000000  18278.000000   \n 2022-05-19  18460.000000  18460.000000  18160.000000  18270.000000   \n 2022-05-20  18270.000000  18270.000000  18270.000000  18270.000000   \n 2022-05-23  18270.000000  18270.000000  18270.000000  18270.000000   \n 2022-05-24  18270.000000  18270.000000  18270.000000  18270.000000   \n \n                Adj Close  Volume   log_ret  log_ret_high  log_ret_low  \n Date                                                                   \n 2010-03-03    347.462433   15015       NaN           NaN          NaN  \n 2010-03-04    342.736938   17220 -0.013693      0.001709    -0.019096  \n 2010-03-05    351.568695   14707  0.025442      0.006044     0.049744  \n 2010-03-09    347.462433    5843 -0.011749      0.005820    -0.001822  \n 2010-03-10    344.303650    7244 -0.009132     -0.012941    -0.010143  \n ...                  ...     ...       ...           ...          ...  \n 2022-05-18  18278.000000    8382 -0.022504     -0.018667    -0.030459  \n 2022-05-19  18270.000000    3017 -0.000438     -0.023238     0.017330  \n 2022-05-20  18270.000000       0  0.000000     -0.010346     0.006039  \n 2022-05-23  18270.000000       0  0.000000      0.000000     0.000000  \n 2022-05-24  18270.000000       0  0.000000      0.000000     0.000000  \n \n [3043 rows x 9 columns],\n 'ALRS':                  Open       High        Low      Close  Adj Close    Volume   \n Date                                                                          \n 2011-11-29  36.200001  40.609001  35.103001  39.000000  16.825106     19200  \\\n 2011-11-30  44.150002  54.599998  44.000999  54.599998  23.555143     76800   \n 2011-12-01  54.599998  54.599998  54.599998  54.599998  23.555143         0   \n 2011-12-02  45.863991  45.863991  45.863991  45.863991  19.786322      1899   \n 2011-12-05  37.549999  37.577000  36.700001  37.099998  16.005421   1552200   \n ...               ...        ...        ...        ...        ...       ...   \n 2022-05-18  75.500000  78.900002  75.209999  77.300003  77.300003  12702170   \n 2022-05-19  77.500000  78.400002  76.150002  77.279999  77.279999   3288450   \n 2022-05-20  77.279999  77.279999  77.279999  77.279999  77.279999         0   \n 2022-05-23  77.279999  77.279999  77.279999  77.279999  77.279999         0   \n 2022-05-24  77.279999  77.279999  77.279999  77.279999  77.279999         0   \n \n              log_ret  log_ret_high  log_ret_low  \n Date                                             \n 2011-11-29       NaN           NaN          NaN  \n 2011-11-30  0.336472      0.296044     0.225926  \n 2011-12-01  0.000000      0.000000     0.215822  \n 2011-12-02 -0.174354     -0.174354    -0.174354  \n 2011-12-05 -0.212063     -0.199288    -0.222904  \n ...              ...           ...          ...  \n 2022-05-18  0.030206      0.042990     0.008144  \n 2022-05-19 -0.000259     -0.006357     0.012421  \n 2022-05-20  0.000000     -0.014389     0.014730  \n 2022-05-23  0.000000      0.000000     0.000000  \n 2022-05-24  0.000000      0.000000     0.000000  \n \n [2609 rows x 9 columns],\n 'AMEZ':                  Open       High        Low      Close  Adj Close   Volume   \n Date                                                                         \n 2010-03-03  13.250000  13.300000  12.555000  12.800000  12.800000     3957  \\\n 2010-03-04  12.632000  12.919000  12.220000  12.300000  12.300000     3052   \n 2010-03-05  12.298000  12.790000  12.260000  12.648000  12.648000     1560   \n 2010-03-09  12.600000  12.700000  12.350000  12.650000  12.650000      807   \n 2010-03-10  12.550000  13.200000  12.500000  12.920000  12.920000     1664   \n ...               ...        ...        ...        ...        ...      ...   \n 2022-05-18  21.754999  22.780001  21.605000  21.985001  21.985001  1838400   \n 2022-05-19  21.420000  22.000000  21.420000  21.735001  21.735001   265900   \n 2022-05-20  21.735001  21.735001  21.735001  21.735001  21.735001        0   \n 2022-05-23  21.735001  21.735001  21.735001  21.735001  21.735001        0   \n 2022-05-24  21.735001  21.735001  21.735001  21.735001  21.735001        0   \n \n              log_ret  log_ret_high  log_ret_low  \n Date                                             \n 2010-03-03       NaN           NaN          NaN  \n 2010-03-04 -0.039846     -0.029065    -0.027045  \n 2010-03-05  0.027900     -0.010035     0.003268  \n 2010-03-09  0.000158     -0.007062     0.007314  \n 2010-03-10  0.021119      0.038615     0.012073  \n ...              ...           ...          ...  \n 2022-05-18  0.017667      0.003518     0.013514  \n 2022-05-19 -0.011437     -0.034841    -0.008600  \n 2022-05-20  0.000000     -0.012119     0.014599  \n 2022-05-23  0.000000      0.000000     0.000000  \n 2022-05-24  0.000000      0.000000     0.000000  \n \n [3043 rows x 9 columns],\n 'APTK':                  Open       High        Low      Close  Adj Close  Volume   \n Date                                                                        \n 2011-11-21  41.750938  41.963303  39.329979  40.340836  40.340836  175735  \\\n 2011-11-22  40.434277  40.833523  39.075142  40.323845  40.323845  147364   \n 2011-11-23  39.882126  40.519222  39.083633  39.822662  39.822662  109446   \n 2011-11-24  39.610298  39.865135  39.245033  39.321484  39.321484   81004   \n 2011-11-25  39.032665  39.236538  37.605576  38.412560  38.412560  205401   \n ...               ...        ...        ...        ...        ...     ...   \n 2022-05-18  12.532000  12.636000  12.496000  12.510000  12.510000  322940   \n 2022-05-19  12.502000  12.562000  12.460000  12.470000  12.470000  104790   \n 2022-05-20  12.470000  12.470000  12.470000  12.470000  12.470000       0   \n 2022-05-23  12.470000  12.470000  12.470000  12.470000  12.470000       0   \n 2022-05-24  12.470000  12.470000  12.470000  12.470000  12.470000       0   \n \n              log_ret  log_ret_high  log_ret_low  \n Date                                             \n 2011-11-21       NaN           NaN          NaN  \n 2011-11-22 -0.000421     -0.027292    -0.006501  \n 2011-11-23 -0.012507     -0.007727     0.000217  \n 2011-11-24 -0.012665     -0.016274     0.004121  \n 2011-11-25 -0.023387     -0.015894    -0.042673  \n ...              ...           ...          ...  \n 2022-05-18 -0.008596     -0.004264    -0.002717  \n 2022-05-19 -0.003203     -0.005873    -0.002885  \n 2022-05-20  0.000000     -0.007351     0.000802  \n 2022-05-23  0.000000      0.000000     0.000000  \n 2022-05-24  0.000000      0.000000     0.000000  \n \n [2615 rows x 9 columns],\n 'AQUA':                   Open        High         Low       Close   Adj Close   \n Date                                                                     \n 2010-04-20  259.468018  259.468018  157.963257  160.674805  145.940720  \\\n 2010-04-21  159.770950  161.505615  156.119049  158.666245  144.116348   \n 2010-04-22  149.499969  160.638275  149.499969  156.977249  142.582230   \n 2010-04-23  155.662552  160.638275  155.206070  159.296204  144.688538   \n 2010-04-26  159.770950  159.770950  157.032028  158.857971  144.290497   \n ...                ...         ...         ...         ...         ...   \n 2022-05-18  428.500000  431.000000  423.000000  428.500000  428.500000   \n 2022-05-19  435.000000  435.000000  423.000000  427.000000  427.000000   \n 2022-05-20  427.000000  427.000000  427.000000  427.000000  427.000000   \n 2022-05-23  427.000000  427.000000  427.000000  427.000000  427.000000   \n 2022-05-24  427.000000  427.000000  427.000000  427.000000  427.000000   \n \n             Volume   log_ret  log_ret_high  log_ret_low  \n Date                                                     \n 2010-04-20  197748       NaN           NaN          NaN  \n 2010-04-21   80251 -0.012580     -0.474094    -0.011744  \n 2010-04-22   38625 -0.010702     -0.005385    -0.043323  \n 2010-04-23    8016  0.014665      0.000000     0.037458  \n 2010-04-26   10168 -0.002755     -0.005414     0.011696  \n ...            ...       ...           ...          ...  \n 2022-05-18   16688  0.008202     -0.013825     0.028779  \n 2022-05-19    5787 -0.003507      0.009238     0.000000  \n 2022-05-20       0  0.000000     -0.018562     0.009412  \n 2022-05-23       0  0.000000      0.000000     0.000000  \n 2022-05-24       0  0.000000      0.000000     0.000000  \n \n [3010 rows x 9 columns],\n 'ARSA':              Open   High    Low  Close  Adj Close  Volume   log_ret   \n Date                                                                  \n 2010-03-03  2.688  2.730  2.603  2.668   2.273268    1744       NaN  \\\n 2010-03-04  2.687  2.698  2.650  2.691   2.292865     785  0.008584   \n 2010-03-05  2.793  2.793  2.668  2.743   2.337172    1207  0.019139   \n 2010-03-09  2.719  2.764  2.690  2.764   2.355065     635  0.007627   \n 2010-03-10  2.715  2.929  2.657  2.900   2.470944   14434  0.048032   \n ...           ...    ...    ...    ...        ...     ...       ...   \n 2022-05-18  5.690  5.740  5.630  5.740   5.740000   14500  0.008749   \n 2022-05-19  5.740  5.810  5.640  5.720   5.720000    9800 -0.003490   \n 2022-05-20  5.720  5.720  5.720  5.720   5.720000       0  0.000000   \n 2022-05-23  5.720  5.720  5.720  5.720   5.720000       0  0.000000   \n 2022-05-24  5.720  5.720  5.720  5.720   5.720000       0  0.000000   \n \n             log_ret_high  log_ret_low  \n Date                                   \n 2010-03-03           NaN          NaN  \n 2010-03-04     -0.011791     0.017895  \n 2010-03-05      0.034606     0.006769  \n 2010-03-09     -0.010437     0.008212  \n 2010-03-10      0.057982    -0.012344  \n ...                  ...          ...  \n 2022-05-18     -0.003478     0.021545  \n 2022-05-19      0.012121     0.001775  \n 2022-05-20     -0.015612     0.014085  \n 2022-05-23      0.000000     0.000000  \n 2022-05-24      0.000000     0.000000  \n \n [3043 rows x 9 columns],\n 'ASSB':               Open    High     Low   Close  Adj Close  Volume   log_ret   \n Date                                                                      \n 2010-03-03  0.9010  0.9010  0.9010  0.9010   0.715830      30       NaN  \\\n 2010-03-04  0.8970  0.9000  0.8970  0.9000   0.715035     231 -0.001111   \n 2010-03-05  0.8990  0.9000  0.8990  0.9000   0.715035    3100  0.000000   \n 2010-03-09  0.9010  0.9010  0.9010  0.9010   0.715830    1894  0.001111   \n 2010-03-10  0.8990  0.8990  0.8970  0.8970   0.712652    1070 -0.004449   \n ...            ...     ...     ...     ...        ...     ...       ...   \n 2022-05-18  0.7020  0.7145  0.6990  0.7055   0.705500   31000 -0.011276   \n 2022-05-19  0.7000  0.7750  0.7000  0.7685   0.768500  757000  0.085534   \n 2022-05-20  0.7685  0.7685  0.7685  0.7685   0.768500       0  0.000000   \n 2022-05-23  0.7685  0.7685  0.7685  0.7685   0.768500       0  0.000000   \n 2022-05-24  0.7685  0.7685  0.7685  0.7685   0.768500       0  0.000000   \n \n             log_ret_high  log_ret_low  \n Date                                   \n 2010-03-03           NaN          NaN  \n 2010-03-04     -0.001111    -0.004449  \n 2010-03-05      0.000000     0.002227  \n 2010-03-09      0.001111     0.002222  \n 2010-03-10     -0.002222    -0.004449  \n ...                  ...          ...  \n 2022-05-18      0.001401    -0.001430  \n 2022-05-19      0.081280     0.001430  \n 2022-05-20     -0.008422     0.093360  \n 2022-05-23      0.000000     0.000000  \n 2022-05-24      0.000000     0.000000  \n \n [3043 rows x 9 columns],\n 'AVAN':                   Open         High         Low       Close   Adj Close   \n Date                                                                      \n 2011-03-21  158.500000   158.500000  158.500000  158.500000  125.033966  \\\n 2011-03-22  158.500000   158.500000  158.500000  158.500000  125.033966   \n 2011-03-23  221.899994   221.899994  221.899994  221.899994  175.047577   \n 2011-03-24  221.899994   221.899994  221.899994  221.899994  175.047577   \n 2011-03-25  221.899994   221.899994  221.899994  221.899994  175.047577   \n ...                ...          ...         ...         ...         ...   \n 2022-05-18  895.000000   905.000000  890.000000  890.000000  890.000000   \n 2022-05-19  895.000000  1050.000000  890.000000  910.000000  910.000000   \n 2022-05-20  910.000000   910.000000  910.000000  910.000000  910.000000   \n 2022-05-23  910.000000   910.000000  910.000000  910.000000  910.000000   \n 2022-05-24  910.000000   910.000000  910.000000  910.000000  910.000000   \n \n             Volume   log_ret  log_ret_high  log_ret_low  \n Date                                                     \n 2011-03-21      20       NaN           NaN          NaN  \n 2011-03-22       0  0.000000      0.000000     0.000000  \n 2011-03-23    2360  0.336472      0.336472     0.336472  \n 2011-03-24       0  0.000000      0.000000     0.000000  \n 2011-03-25       0  0.000000      0.000000     0.000000  \n ...            ...       ...           ...          ...  \n 2022-05-18      54 -0.016713      0.000000     0.000000  \n 2022-05-19    2184  0.022223      0.148610     0.000000  \n 2022-05-20       0  0.000000     -0.143101     0.022223  \n 2022-05-23       0  0.000000      0.000000     0.000000  \n 2022-05-24       0  0.000000      0.000000     0.000000  \n \n [2786 rows x 9 columns],\n 'BANE':               Open    High          Low        Close    Adj Close  Volume   \n Date                                                                        \n 2011-11-18  1575.0  1575.0  1560.000000  1562.500000   612.663391    4218  \\\n 2011-11-21  1560.0  1560.0  1500.099976  1500.099976   588.196106     550   \n 2011-11-22  1540.0  1540.0  1500.000000  1505.000000   590.117371    7323   \n 2011-11-23  1505.0  1530.0  1480.000000  1480.000000   580.314697    2231   \n 2011-11-24  1500.0  1500.0  1480.099976  1493.500000   585.608215     306   \n ...            ...     ...          ...          ...          ...     ...   \n 2022-05-18  1020.0  1045.0   996.500000   997.000000   997.000000    5488   \n 2022-05-19  1005.0  1014.5   990.000000  1008.000000  1008.000000    2831   \n 2022-05-20  1008.0  1008.0  1008.000000  1008.000000  1008.000000       0   \n 2022-05-23  1008.0  1008.0  1008.000000  1008.000000  1008.000000       0   \n 2022-05-24  1008.0  1008.0  1008.000000  1008.000000  1008.000000       0   \n \n              log_ret  log_ret_high  log_ret_low  \n Date                                             \n 2011-11-18       NaN           NaN          NaN  \n 2011-11-21 -0.040755     -0.009569    -0.039154  \n 2011-11-22  0.003261     -0.012903    -0.000067  \n 2011-11-23 -0.016751     -0.006515    -0.013423  \n 2011-11-24  0.009080     -0.019803     0.000068  \n ...              ...           ...          ...  \n 2022-05-18 -0.021826      0.013973     0.000502  \n 2022-05-19  0.010973     -0.029621    -0.006544  \n 2022-05-20  0.000000     -0.006428     0.018019  \n 2022-05-23  0.000000      0.000000     0.000000  \n 2022-05-24  0.000000      0.000000     0.000000  \n \n [2616 rows x 9 columns],\n 'BELU':                    Open    High          Low        Close    Adj Close   \n Date                                                                     \n 2010-03-03   854.000000   860.0   845.000000   857.000000   791.243286  \\\n 2010-03-04   850.000000   898.5   847.000000   859.000000   793.089783   \n 2010-03-05   856.000000   895.0   847.000000   862.000000   795.859680   \n 2010-03-09   865.000000   865.0   851.000000   861.900024   795.767395   \n 2010-03-10   850.440002   860.0   848.679993   848.679993   783.561646   \n ...                 ...     ...          ...          ...          ...   \n 2022-05-18  2569.000000  2675.0  2568.000000  2590.000000  2590.000000   \n 2022-05-19  2605.000000  2640.0  2540.000000  2560.000000  2560.000000   \n 2022-05-20  2560.000000  2560.0  2560.000000  2560.000000  2560.000000   \n 2022-05-23  2560.000000  2560.0  2560.000000  2560.000000  2560.000000   \n 2022-05-24  2560.000000  2560.0  2560.000000  2560.000000  2560.000000   \n \n             Volume   log_ret  log_ret_high  log_ret_low  \n Date                                                     \n 2010-03-03    1642       NaN           NaN          NaN  \n 2010-03-04   17186  0.002331      0.043794     0.002364  \n 2010-03-05    7038  0.003486     -0.003903     0.000000  \n 2010-03-09    1420 -0.000116     -0.034094     0.004711  \n 2010-03-10   11847 -0.015457     -0.005797    -0.002730  \n ...            ...       ...           ...          ...  \n 2022-05-18   23977  0.008141      0.011278     0.025637  \n 2022-05-19    6933 -0.011651     -0.013170    -0.010963  \n 2022-05-20       0  0.000000     -0.030772     0.007843  \n 2022-05-23       0  0.000000      0.000000     0.000000  \n 2022-05-24       0  0.000000      0.000000     0.000000  \n \n [3043 rows x 9 columns],\n 'BLNG':               Open    High     Low   Close  Adj Close  Volume   log_ret   \n Date                                                                      \n 2011-11-21  11.298  11.298  10.980  10.980     10.980   62100       NaN  \\\n 2011-11-22  10.900  11.129  10.850  10.850     10.850   54100 -0.011910   \n 2011-11-23  10.800  11.000  10.520  10.900     10.900   11000  0.004598   \n 2011-11-24  10.899  11.017  10.700  10.966     10.966   10200  0.006037   \n 2011-11-25  10.803  10.939  10.499  10.600     10.600  172500 -0.033946   \n ...            ...     ...     ...     ...        ...     ...       ...   \n 2022-05-18  10.600  11.000  10.600  10.805     10.805  177200 -0.008295   \n 2022-05-19  10.840  10.855  10.500  10.735     10.735  122100 -0.006500   \n 2022-05-20  10.735  10.735  10.735  10.735     10.735       0  0.000000   \n 2022-05-23  10.735  10.735  10.735  10.735     10.735       0  0.000000   \n 2022-05-24  10.735  10.735  10.735  10.735     10.735       0  0.000000   \n \n             log_ret_high  log_ret_low  \n Date                                   \n 2011-11-21           NaN          NaN  \n 2011-11-22     -0.015071    -0.011910  \n 2011-11-23     -0.011659    -0.030887  \n 2011-11-24      0.001544     0.016965  \n 2011-11-25     -0.007105    -0.018964  \n ...                  ...          ...  \n 2022-05-18     -0.008599    -0.014982  \n 2022-05-19     -0.013270    -0.009479  \n 2022-05-20     -0.011116     0.022134  \n 2022-05-23      0.000000     0.000000  \n 2022-05-24      0.000000     0.000000  \n \n [2615 rows x 9 columns],\n 'BRZL':                   Open        High         Low       Close   Adj Close   \n Date                                                                     \n 2011-12-13  900.000000  999.900024  900.000000  999.900024  999.900024  \\\n 2011-12-14  910.000000  910.000000  910.000000  910.000000  910.000000   \n 2011-12-15  910.000000  910.000000  910.000000  910.000000  910.000000   \n 2011-12-16  800.299988  874.900024  800.299988  850.000000  850.000000   \n 2011-12-19  800.000000  800.000000  800.000000  800.000000  800.000000   \n ...                ...         ...         ...         ...         ...   \n 2022-05-18  946.000000  955.000000  932.000000  941.000000  941.000000   \n 2022-05-19  945.000000  954.000000  930.000000  933.000000  933.000000   \n 2022-05-20  933.000000  933.000000  933.000000  933.000000  933.000000   \n 2022-05-23  933.000000  933.000000  933.000000  933.000000  933.000000   \n 2022-05-24  933.000000  933.000000  933.000000  933.000000  933.000000   \n \n             Volume   log_ret  log_ret_high  log_ret_low  \n Date                                                     \n 2011-12-13     190       NaN           NaN          NaN  \n 2011-12-14      20 -0.094211     -0.094211     0.011050  \n 2011-12-15       0  0.000000      0.000000     0.000000  \n 2011-12-16     120 -0.068208     -0.039335    -0.128458  \n 2011-12-19      90 -0.060625     -0.089498    -0.000375  \n ...            ...       ...           ...          ...  \n 2022-05-18     365 -0.005299      0.001048     0.002148  \n 2022-05-19     687 -0.008538     -0.001048    -0.002148  \n 2022-05-20       0  0.000000     -0.022258     0.003221  \n 2022-05-23       0  0.000000      0.000000     0.000000  \n 2022-05-24       0  0.000000      0.000000     0.000000  \n \n [2599 rows x 9 columns],\n 'BSPB':                   Open        High         Low       Close  Adj Close  Volume   \n Date                                                                            \n 2010-03-03  102.016388  102.380943  100.400520  101.425217  73.359955    2560  \\\n 2010-03-04  100.400520  105.681641  100.006401  102.440056  74.093979   17515   \n 2010-03-05  103.454903  105.425468  100.016258  103.996803  75.219963  125075   \n 2010-03-09  104.341660  107.396042  101.474480  104.834297  75.825714   29985   \n 2010-03-10  104.932831  105.129883  104.006660  104.932831  75.896988   15395   \n ...                ...         ...         ...         ...        ...     ...   \n 2022-05-18   63.259998   66.790001   62.820000   64.129997  64.129997  424190   \n 2022-05-19   64.110001   66.589996   63.509998   65.559998  65.559998  224210   \n 2022-05-20   65.559998   65.559998   65.559998   65.559998  65.559998       0   \n 2022-05-23   65.559998   65.559998   65.559998   65.559998  65.559998       0   \n 2022-05-24   65.559998   65.559998   65.559998   65.559998  65.559998       0   \n \n              log_ret  log_ret_high  log_ret_low  \n Date                                             \n 2010-03-03       NaN           NaN          NaN  \n 2010-03-04  0.009956      0.031731    -0.003933  \n 2010-03-05  0.015082     -0.002427     0.000099  \n 2010-03-09  0.008021      0.018519     0.014475  \n 2010-03-10  0.000939     -0.021327     0.024648  \n ...              ...           ...          ...  \n 2022-05-18  0.013659      0.050513     0.045762  \n 2022-05-19  0.022053     -0.002999     0.010924  \n 2022-05-20  0.000000     -0.015589     0.031768  \n 2022-05-23  0.000000      0.000000     0.000000  \n 2022-05-24  0.000000      0.000000     0.000000  \n \n [3043 rows x 9 columns],\n 'CBOM':                 Open      High       Low     Close  Adj Close    Volume   \n Date                                                                      \n 2015-07-01  3.594479  3.706466  3.591506  3.647004   3.579851  22199552  \\\n 2015-07-02  3.765928  3.765928  3.591506  3.612813   3.546290  27957072   \n 2015-07-03  3.691600  3.691600  3.598938  3.604389   3.538021  38557012   \n 2015-07-06  3.607858  3.637093  3.607362  3.637093   3.570123   8483465   \n 2015-07-07  3.765928  3.765928  3.598443  3.598443   3.532184  30759598   \n ...              ...       ...       ...       ...        ...       ...   \n 2022-05-18  5.759000  5.918000  5.759000  5.825000   5.825000  62945200   \n 2022-05-19  5.824000  5.835000  5.732000  5.762000   5.762000  55589700   \n 2022-05-20  5.762000  5.762000  5.762000  5.762000   5.762000         0   \n 2022-05-23  5.762000  5.762000  5.762000  5.762000   5.762000         0   \n 2022-05-24  5.762000  5.762000  5.762000  5.762000   5.762000         0   \n \n              log_ret  log_ret_high  log_ret_low  \n Date                                             \n 2015-07-01       NaN           NaN          NaN  \n 2015-07-02 -0.009419      0.015915     0.000000  \n 2015-07-03 -0.002334     -0.019934     0.002067  \n 2015-07-06  0.009032     -0.014875     0.002338  \n 2015-07-07 -0.010683      0.034810    -0.002476  \n ...              ...           ...          ...  \n 2022-05-18  0.011569      0.023422     0.020348  \n 2022-05-19 -0.010874     -0.014124    -0.004699  \n 2022-05-20  0.000000     -0.012590     0.005220  \n 2022-05-23  0.000000      0.000000     0.000000  \n 2022-05-24  0.000000      0.000000     0.000000  \n \n [1717 rows x 9 columns],\n 'CHGZ':                  Open       High        Low      Close  Adj Close  Volume   \n Date                                                                        \n 2011-12-22   3.280000   7.600000   3.280000   7.600000   7.600000    6000  \\\n 2011-12-23   9.000000  10.600000   9.000000  10.600000  10.600000    2000   \n 2011-12-26   9.000000   9.000000   9.000000   9.000000   9.000000    6000   \n 2011-12-27  10.000000  10.000000  10.000000  10.000000  10.000000    9000   \n 2011-12-28   6.001000   6.001000   6.001000   6.001000   6.001000    1000   \n ...               ...        ...        ...        ...        ...     ...   \n 2022-05-18  38.599998  38.599998  38.200001  38.599998  38.599998    9590   \n 2022-05-19  38.200001  38.799999  38.000000  38.400002  38.400002    3870   \n 2022-05-20  38.400002  38.400002  38.400002  38.400002  38.400002       0   \n 2022-05-23  38.400002  38.400002  38.400002  38.400002  38.400002       0   \n 2022-05-24  38.400002  38.400002  38.400002  38.400002  38.400002       0   \n \n              log_ret  log_ret_high  log_ret_low  \n Date                                             \n 2011-12-22       NaN           NaN          NaN  \n 2011-12-23  0.332706      0.332706     1.009381  \n 2011-12-26 -0.163629     -0.163629     0.000000  \n 2011-12-27  0.105361      0.105361     0.105361  \n 2011-12-28 -0.510659     -0.510659    -0.510659  \n ...              ...           ...          ...  \n 2022-05-18  0.000000     -0.005168     0.000000  \n 2022-05-19 -0.005195      0.005168    -0.005249  \n 2022-05-20  0.000000     -0.010363     0.010471  \n 2022-05-23  0.000000      0.000000     0.000000  \n 2022-05-24  0.000000      0.000000     0.000000  \n \n [2592 rows x 9 columns],\n 'CHKZ':                    Open         High     Low        Close    Adj Close   \n Date                                                                     \n 2010-07-28  2800.000000  2800.000000  2800.0  2800.000000  1960.781860  \\\n 2010-07-29  3860.000000  3860.000000  2201.0  2549.000000  1785.011475   \n 2010-07-30  2251.120117  2500.010010  2006.0  2412.719971  1689.577881   \n 2010-08-02  2100.030029  2149.850098  1950.0  1950.000000  1365.544556   \n 2010-08-03  1950.010010  2040.000000  1800.0  1945.000000  1362.043091   \n ...                 ...          ...     ...          ...          ...   \n 2022-05-18  5900.000000  5940.000000  5600.0  5680.000000  5680.000000   \n 2022-05-19  5900.000000  5900.000000  5560.0  5700.000000  5700.000000   \n 2022-05-20  5700.000000  5700.000000  5700.0  5700.000000  5700.000000   \n 2022-05-23  5700.000000  5700.000000  5700.0  5700.000000  5700.000000   \n 2022-05-24  5700.000000  5700.000000  5700.0  5700.000000  5700.000000   \n \n             Volume   log_ret  log_ret_high  log_ret_low  \n Date                                                     \n 2010-07-28     188       NaN           NaN          NaN  \n 2010-07-29      95 -0.093918      0.321048    -0.240708  \n 2010-07-30     111 -0.054946     -0.434372    -0.092769  \n 2010-08-02      86 -0.212925     -0.150897    -0.028313  \n 2010-08-03      59 -0.002567     -0.052448    -0.080043  \n ...            ...       ...           ...          ...  \n 2022-05-18      81 -0.024349      0.006757     0.032671  \n 2022-05-19      20  0.003515     -0.006757    -0.007168  \n 2022-05-20       0  0.000000     -0.034486     0.024868  \n 2022-05-23       0  0.000000      0.000000     0.000000  \n 2022-05-24       0  0.000000      0.000000     0.000000  \n \n [2942 rows x 9 columns],\n 'CHMF':                    Open         High          Low        Close    Adj Close   \n Date                                                                          \n 2010-03-03   355.500000   365.000000   354.000000   364.000000   102.688438  \\\n 2010-03-04   360.489990   370.010010   359.089996   367.100006   103.562996   \n 2010-03-05   370.010010   385.000000   369.019989   384.500000   108.471718   \n 2010-03-09   388.000000   388.880005   370.200012   388.000000   109.459099   \n 2010-03-10   387.000000   402.000000   378.059998   386.500000   109.035957   \n ...                 ...          ...          ...          ...          ...   \n 2022-05-18  1120.000000  1159.400024  1115.000000  1144.000000  1144.000000   \n 2022-05-19  1145.000000  1158.800049  1125.000000  1150.599976  1150.599976   \n 2022-05-20  1150.599976  1150.599976  1150.599976  1150.599976  1150.599976   \n 2022-05-23  1150.599976  1150.599976  1150.599976  1150.599976  1150.599976   \n 2022-05-24  1150.599976  1150.599976  1150.599976  1150.599976  1150.599976   \n \n              Volume   log_ret  log_ret_high  log_ret_low  \n Date                                                      \n 2010-03-03   806004       NaN           NaN          NaN  \n 2010-03-04  1749754  0.008480      0.013633     0.014276  \n 2010-03-05  1656727  0.046309      0.039713     0.027278  \n 2010-03-09  1904427  0.009062      0.010027     0.003193  \n 2010-03-10  2260183 -0.003873      0.033181     0.021009  \n ...             ...       ...           ...          ...  \n 2022-05-18   400256  0.026574      0.034574     0.011728  \n 2022-05-19   283211  0.005753     -0.000518     0.008929  \n 2022-05-20        0  0.000000     -0.007102     0.022500  \n 2022-05-23        0  0.000000      0.000000     0.000000  \n 2022-05-24        0  0.000000      0.000000     0.000000  \n \n [3043 rows x 9 columns],\n 'CHMK':                    Open         High          Low        Close    Adj Close   \n Date                                                                          \n 2010-03-03  5948.870117  6320.000000  5750.000000  6101.040039  6101.040039  \\\n 2010-03-04  6150.000000  6222.000000  5900.000000  6100.000000  6100.000000   \n 2010-03-05  6144.990234  6435.000000  6071.000000  6250.009766  6250.009766   \n 2010-03-09  6220.000000  6299.959961  6150.000000  6190.000000  6190.000000   \n 2010-03-10  6240.000000  6390.000000  6154.009766  6239.990234  6239.990234   \n ...                 ...          ...          ...          ...          ...   \n 2022-05-18  3840.000000  3990.000000  3820.000000  3865.000000  3865.000000   \n 2022-05-19  3785.000000  3840.000000  3740.000000  3740.000000  3740.000000   \n 2022-05-20  3740.000000  3740.000000  3740.000000  3740.000000  3740.000000   \n 2022-05-23  3740.000000  3740.000000  3740.000000  3740.000000  3740.000000   \n 2022-05-24  3740.000000  3740.000000  3740.000000  3740.000000  3740.000000   \n \n             Volume   log_ret  log_ret_high  log_ret_low  \n Date                                                     \n 2010-03-03    1828       NaN           NaN          NaN  \n 2010-03-04     573 -0.000170     -0.015628     0.025752  \n 2010-03-05     944  0.024294      0.033660     0.028571  \n 2010-03-09     613 -0.009648     -0.021209     0.012929  \n 2010-03-10    1754  0.008044      0.014191     0.000652  \n ...            ...       ...           ...          ...  \n 2022-05-18     452  0.002591     -0.002503     0.034624  \n 2022-05-19     297 -0.032876     -0.038319    -0.021165  \n 2022-05-20       0  0.000000     -0.026387     0.000000  \n 2022-05-23       0  0.000000      0.000000     0.000000  \n 2022-05-24       0  0.000000      0.000000     0.000000  \n \n [3043 rows x 9 columns],\n 'CNTL':                  Open       High        Low      Close  Adj Close  Volume   \n Date                                                                        \n 2010-03-03  18.129999  18.799999  18.129999  18.280001   6.981095    2365  \\\n 2010-03-04  18.730000  19.900000  18.410000  18.740000   7.156767      40   \n 2010-03-05  18.740000  18.940001  18.740000  18.940001   7.233147      70   \n 2010-03-09  18.400000  19.900000  18.400000  19.490000   7.443191     248   \n 2010-03-10  20.889999  20.889999  19.250000  19.559999   7.469923     361   \n ...               ...        ...        ...        ...        ...     ...   \n 2022-05-18   9.260000   9.400000   8.960000   9.300000   9.300000   93300   \n 2022-05-19   9.260000   9.580000   9.260000   9.320000   9.320000  104300   \n 2022-05-20   9.320000   9.320000   9.320000   9.320000   9.320000       0   \n 2022-05-23   9.320000   9.320000   9.320000   9.320000   9.320000       0   \n 2022-05-24   9.320000   9.320000   9.320000   9.320000   9.320000       0   \n \n              log_ret  log_ret_high  log_ret_low  \n Date                                             \n 2010-03-03       NaN           NaN          NaN  \n 2010-03-04  0.024853      0.056863     0.015326  \n 2010-03-05  0.010616     -0.049444     0.017766  \n 2010-03-09  0.028625      0.049444    -0.018310  \n 2010-03-10  0.003585      0.048551     0.045160  \n ...              ...           ...          ...  \n 2022-05-18  0.004310     -0.008475    -0.024257  \n 2022-05-19  0.002148      0.018968     0.032934  \n 2022-05-20  0.000000     -0.027515     0.006459  \n 2022-05-23  0.000000      0.000000     0.000000  \n 2022-05-24  0.000000      0.000000     0.000000  \n \n [3043 rows x 9 columns],\n 'DIOD':                  Open       High        Low      Close  Adj Close  Volume   \n Date                                                                        \n 2010-06-24  30.059999  38.980000  28.520000  31.990000  15.827074  753810  \\\n 2010-06-25  32.000000  32.000000  28.610001  29.280001  14.486299  195698   \n 2010-06-28  29.280001  29.680000  28.000000  29.600000  14.644621  164957   \n 2010-06-29  29.260000  30.209999  28.270000  30.030001  14.857364  121877   \n 2010-06-30  29.260000  30.830000  28.660000  30.830000  15.253162   54909   \n ...               ...        ...        ...        ...        ...     ...   \n 2022-05-18   7.070000   7.140000   7.010000   7.040000   7.040000   31300   \n 2022-05-19   7.070000   7.110000   7.030000   7.090000   7.090000    7100   \n 2022-05-20   7.090000   7.090000   7.090000   7.090000   7.090000       0   \n 2022-05-23   7.090000   7.090000   7.090000   7.090000   7.090000       0   \n 2022-05-24   7.090000   7.090000   7.090000   7.090000   7.090000       0   \n \n              log_ret  log_ret_high  log_ret_low  \n Date                                             \n 2010-06-24       NaN           NaN          NaN  \n 2010-06-25 -0.088519     -0.197313     0.003151  \n 2010-06-28  0.010870     -0.075262    -0.021552  \n 2010-06-29  0.014423      0.017700     0.009597  \n 2010-06-30  0.026291      0.020315     0.013701  \n ...              ...           ...          ...  \n 2022-05-18  0.002845     -0.001400     0.008596  \n 2022-05-19  0.007077     -0.004210     0.002849  \n 2022-05-20  0.000000     -0.002817     0.008499  \n 2022-05-23  0.000000      0.000000     0.000000  \n 2022-05-24  0.000000      0.000000     0.000000  \n \n [2966 rows x 9 columns],\n 'DSKY':                  Open       High        Low      Close  Adj Close    Volume\n Date                                                                       \n 2017-02-10  90.000000  96.000000  83.000000  85.000000  52.675362  35138820\n 2017-02-13  85.599998  85.900002  84.400002  85.199997  52.799286   2282830\n 2017-02-14  85.500000  85.500000  84.639999  85.000000  52.675362   2565213\n 2017-02-15  85.199997  85.199997  84.699997  85.000000  52.675362    379180\n 2017-02-16  85.089996  85.089996  83.699997  84.989998  52.669151   2667260\n ...               ...        ...        ...        ...        ...       ...\n 2022-05-18  72.720001  74.239998  72.660004  73.220001  73.220001    604310\n 2022-05-19  73.559998  74.500000  71.599998  73.379997  73.379997    739180\n 2022-05-20  73.379997  73.379997  73.379997  73.379997  73.379997         0\n 2022-05-23  73.379997  73.379997  73.379997  73.379997  73.379997         0\n 2022-05-24  73.379997  73.379997  73.379997  73.379997  73.379997         0\n \n [1308 rows x 6 columns],\n 'DVEC':              Open   High    Low  Close  Adj Close   Volume   log_ret   \n Date                                                                   \n 2010-03-03  0.884  0.887  0.862  0.878      0.878    18041       NaN  \\\n 2010-03-04  0.885  0.889  0.869  0.885      0.885    17837  0.007941   \n 2010-03-05  0.872  0.898  0.872  0.898      0.898    25011  0.014582   \n 2010-03-09  0.899  0.906  0.880  0.890      0.890    49844 -0.008949   \n 2010-03-10  0.898  0.905  0.890  0.895      0.895    58847  0.005602   \n ...           ...    ...    ...    ...        ...      ...       ...   \n 2022-05-18  1.053  1.061  1.040  1.041      1.041  1774000 -0.007656   \n 2022-05-19  1.053  1.057  1.019  1.049      1.049  2598000  0.007656   \n 2022-05-20  1.049  1.049  1.049  1.049      1.049        0  0.000000   \n 2022-05-23  1.049  1.049  1.049  1.049      1.049        0  0.000000   \n 2022-05-24  1.049  1.049  1.049  1.049      1.049        0  0.000000   \n \n             log_ret_high  log_ret_low  \n Date                                   \n 2010-03-03           NaN          NaN  \n 2010-03-04      0.002252     0.008088  \n 2010-03-05      0.010073     0.003446  \n 2010-03-09      0.008869     0.009133  \n 2010-03-10     -0.001104     0.011300  \n ...                  ...          ...  \n 2022-05-18      0.001887     0.000962  \n 2022-05-19     -0.003777    -0.020399  \n 2022-05-20     -0.007597     0.029016  \n 2022-05-23      0.000000     0.000000  \n 2022-05-24      0.000000     0.000000  \n \n [3043 rows x 9 columns],\n 'DZRD':               Open         High          Low       Close   Adj Close  Volume   \n Date                                                                           \n 2011-01-11  3350.0  3350.000000  3350.000000  3350.00000  3350.00000       1  \\\n 2011-01-12  3430.0  4566.000000  3350.020020  4500.00000  4500.00000     124   \n 2011-01-13  4150.0  4640.000000  3500.050049  3789.98999  3789.98999     298   \n 2011-01-14  4100.0  4999.990234  3380.010010  3598.97998  3598.97998     114   \n 2011-01-17  3900.0  3900.000000  3006.159912  3250.00000  3250.00000     138   \n ...            ...          ...          ...         ...         ...     ...   \n 2022-05-18  1965.0  1965.000000  1950.000000  1950.00000  1950.00000       3   \n 2022-05-19  1940.0  1970.000000  1905.000000  1925.00000  1925.00000      12   \n 2022-05-20  1925.0  1925.000000  1925.000000  1925.00000  1925.00000       0   \n 2022-05-23  1925.0  1925.000000  1925.000000  1925.00000  1925.00000       0   \n 2022-05-24  1925.0  1925.000000  1925.000000  1925.00000  1925.00000       0   \n \n              log_ret  log_ret_high  log_ret_low  \n Date                                             \n 2011-01-11       NaN           NaN          NaN  \n 2011-01-12  0.295117      0.309677     0.000006  \n 2011-01-13 -0.171714      0.016077     0.043811  \n 2011-01-14 -0.051713      0.074722    -0.034899  \n 2011-01-17 -0.101995     -0.248459    -0.117215  \n ...              ...           ...          ...  \n 2022-05-18  0.010309      0.017972     0.023347  \n 2022-05-19 -0.012903      0.002541    -0.023347  \n 2022-05-20  0.000000     -0.023108     0.010444  \n 2022-05-23  0.000000      0.000000     0.000000  \n 2022-05-24  0.000000      0.000000     0.000000  \n \n [2832 rows x 9 columns],\n 'EELT':               Open    High     Low   Close  Adj Close  Volume\n Date                                                         \n 2017-09-07   9.515  12.999   9.330  10.200   8.952646  490518\n 2017-09-08   9.670  10.500   9.551   9.885   8.676167  535950\n 2017-09-11  10.000  10.500   9.895  10.329   9.065872  457705\n 2017-09-12  10.320  10.750   9.850  10.500   9.215960  136000\n 2017-09-13  10.550  10.550  10.076  10.499   9.215082  523501\n ...            ...     ...     ...     ...        ...     ...\n 2022-05-18   5.040   5.080   5.040   5.060   5.060000    4000\n 2022-05-19   5.060   5.060   5.000   5.040   5.040000   67630\n 2022-05-20   5.040   5.040   5.040   5.040   5.040000       0\n 2022-05-23   5.040   5.040   5.040   5.040   5.040000       0\n 2022-05-24   5.040   5.040   5.040   5.040   5.040000       0\n \n [1165 rows x 6 columns],\n 'ELFV': Empty DataFrame\n Columns: [Open, High, Low, Close, Adj Close, Volume]\n Index: [],\n 'ELTZ':               Open    High     Low   Close  Adj Close  Volume   log_ret   \n Date                                                                      \n 2011-12-27  1274.0  1486.0  1274.0  1284.0     1284.0      51       NaN  \\\n 2011-12-28  1300.0  2015.0  1300.0  1300.0     1300.0     127  0.012384   \n 2011-12-29  1300.0  2600.0  1300.0  1300.0     1300.0     325  0.000000   \n 2011-12-30  1300.0  1300.0  1300.0  1300.0     1300.0       0  0.000000   \n 2012-01-03  1300.0  1300.0  1300.0  1300.0     1300.0       0  0.000000   \n ...            ...     ...     ...     ...        ...     ...       ...   \n 2022-05-18   163.0   164.0   161.0   163.0      163.0    1563  0.003072   \n 2022-05-19   163.5   163.5   160.5   162.5      162.5     605 -0.003072   \n 2022-05-20   162.5   162.5   162.5   162.5      162.5       0  0.000000   \n 2022-05-23   162.5   162.5   162.5   162.5      162.5       0  0.000000   \n 2022-05-24   162.5   162.5   162.5   162.5      162.5       0  0.000000   \n \n             log_ret_high  log_ret_low  \n Date                                   \n 2011-12-27           NaN          NaN  \n 2011-12-28      0.304531     0.020203  \n 2011-12-29      0.254892     0.000000  \n 2011-12-30     -0.693147     0.000000  \n 2012-01-03      0.000000     0.000000  \n ...                  ...          ...  \n 2022-05-18     -0.006079     0.006231  \n 2022-05-19     -0.003053    -0.003110  \n 2022-05-20     -0.006135     0.012384  \n 2022-05-23      0.000000     0.000000  \n 2022-05-24      0.000000     0.000000  \n \n [2589 rows x 9 columns],\n 'FEES':                Open     High      Low    Close  Adj Close     Volume   \n Date                                                                   \n 2010-03-03  0.31900  0.32400  0.31600  0.31900   0.187790    6010095  \\\n 2010-03-04  0.31900  0.32000  0.31400  0.31600   0.186024    6237477   \n 2010-03-05  0.31800  0.32100  0.31500  0.31700   0.186613    5788160   \n 2010-03-09  0.31900  0.32100  0.30900  0.31700   0.186613    6101971   \n 2010-03-10  0.31600  0.31900  0.31300  0.31700   0.186613    4569658   \n ...             ...      ...      ...      ...        ...        ...   \n 2022-05-18  0.10718  0.10956  0.10400  0.10544   0.105440  817320000   \n 2022-05-19  0.10634  0.10634  0.10354  0.10482   0.104820  275810000   \n 2022-05-20  0.10482  0.10482  0.10482  0.10482   0.104820          0   \n 2022-05-23  0.10482  0.10482  0.10482  0.10482   0.104820          0   \n 2022-05-24  0.10482  0.10482  0.10482  0.10482   0.104820          0   \n \n              log_ret  log_ret_high  log_ret_low  \n Date                                             \n 2010-03-03       NaN           NaN          NaN  \n 2010-03-04 -0.009449     -0.012423    -0.006349  \n 2010-03-05  0.003160      0.003120     0.003180  \n 2010-03-09  0.000000      0.000000    -0.019231  \n 2010-03-10  0.000000     -0.006250     0.012862  \n ...              ...           ...          ...  \n 2022-05-18 -0.013752      0.015638     0.016677  \n 2022-05-19 -0.005897     -0.029831    -0.004433  \n 2022-05-20  0.000000     -0.014397     0.012287  \n 2022-05-23  0.000000      0.000000     0.000000  \n 2022-05-24  0.000000      0.000000     0.000000  \n \n [3043 rows x 9 columns],\n 'FESH':                  Open       High        Low      Close  Adj Close  Volume   \n Date                                                                        \n 2010-03-03   9.350000   9.410000   9.350000   9.400000   9.400000     444  \\\n 2010-03-04   9.700000   9.700000   9.080000   9.310000   9.310000     729   \n 2010-03-05   9.440000   9.600000   9.220000   9.340000   9.340000    1963   \n 2010-03-09   9.350000   9.400000   9.350000   9.400000   9.400000     522   \n 2010-03-10   9.440000   9.440000   9.150000   9.280000   9.280000     728   \n ...               ...        ...        ...        ...        ...     ...   \n 2022-05-18  34.650002  34.970001  34.130001  34.220001  34.220001  798500   \n 2022-05-19  34.049999  34.200001  33.000000  33.299999  33.299999  573000   \n 2022-05-20  33.299999  33.299999  33.299999  33.299999  33.299999       0   \n 2022-05-23  33.299999  33.299999  33.299999  33.299999  33.299999       0   \n 2022-05-24  33.299999  33.299999  33.299999  33.299999  33.299999       0   \n \n              log_ret  log_ret_high  log_ret_low  \n Date                                             \n 2010-03-03       NaN           NaN          NaN  \n 2010-03-04 -0.009621      0.030353    -0.029302  \n 2010-03-05  0.003217     -0.010363     0.015301  \n 2010-03-09  0.006403     -0.021053     0.014001  \n 2010-03-10 -0.012848      0.004246    -0.021623  \n ...              ...           ...          ...  \n 2022-05-18 -0.012487     -0.014760     0.001466  \n 2022-05-19 -0.027253     -0.022265    -0.033669  \n 2022-05-20  0.000000     -0.026668     0.009050  \n 2022-05-23  0.000000      0.000000     0.000000  \n 2022-05-24  0.000000      0.000000     0.000000  \n \n [3043 rows x 9 columns],\n 'FLOT':                   Open        High         Low       Close  Adj Close   \n Date                                                                    \n 2020-10-07  105.000000  105.000000   91.559998  100.500000  93.292870  \\\n 2020-10-08  100.500000  101.000000   98.300003  100.500000  93.292870   \n 2020-10-09  100.500000  103.290001  100.129997  103.000000  95.613586   \n 2020-10-12  103.480003  104.500000  103.110001  103.550003  96.124153   \n 2020-10-13  103.879997  103.900002  102.120003  103.199997  95.799240   \n ...                ...         ...         ...         ...        ...   \n 2022-05-18   42.000000   42.750000   40.599998   42.020000  42.020000   \n 2022-05-19   42.990002   44.290001   42.009998   43.750000  43.750000   \n 2022-05-20   43.750000   43.750000   43.750000   43.750000  43.750000   \n 2022-05-23   43.750000   43.750000   43.750000   43.750000  43.750000   \n 2022-05-24   43.750000   43.750000   43.750000   43.750000  43.750000   \n \n                Volume  \n Date                   \n 2020-10-07  107924251  \n 2020-10-08   11659761  \n 2020-10-09   31768500  \n 2020-10-12   12937791  \n 2020-10-13    5578481  \n ...               ...  \n 2022-05-18     507540  \n 2022-05-19     772260  \n 2022-05-20          0  \n 2022-05-23          0  \n 2022-05-24          0  \n \n [391 rows x 6 columns],\n 'GAZA':              Open        High    Low       Close   Adj Close  Volume   \n Date                                                                   \n 2011-12-21  850.0  850.000000  850.0  850.000000  850.000000      20  \\\n 2011-12-22  770.0  819.700012  770.0  819.700012  819.700012   11630   \n 2011-12-23  880.0  880.000000  880.0  880.000000  880.000000      20   \n 2011-12-26  880.0  880.000000  880.0  880.000000  880.000000    1100   \n 2011-12-27  840.0  840.000000  840.0  840.000000  840.000000      10   \n ...           ...         ...    ...         ...         ...     ...   \n 2022-05-18  353.0  365.000000  350.0  357.000000  357.000000     520   \n 2022-05-19  353.0  359.000000  351.5  351.500000  351.500000     110   \n 2022-05-20  351.5  351.500000  351.5  351.500000  351.500000       0   \n 2022-05-23  351.5  351.500000  351.5  351.500000  351.500000       0   \n 2022-05-24  351.5  351.500000  351.5  351.500000  351.500000       0   \n \n              log_ret  log_ret_high  log_ret_low  \n Date                                             \n 2011-12-21       NaN           NaN          NaN  \n 2011-12-22 -0.036298     -0.036298    -0.098846  \n 2011-12-23  0.070983      0.070983     0.133531  \n 2011-12-26  0.000000      0.000000     0.000000  \n 2011-12-27 -0.046520     -0.046520    -0.046520  \n ...              ...           ...          ...  \n 2022-05-18  0.022664      0.039111     0.020203  \n 2022-05-19 -0.015526     -0.016575     0.004277  \n 2022-05-20  0.000000     -0.021113     0.000000  \n 2022-05-23  0.000000      0.000000     0.000000  \n 2022-05-24  0.000000      0.000000     0.000000  \n \n [2593 rows x 9 columns],\n 'GAZC': Empty DataFrame\n Columns: [Open, High, Low, Close, Adj Close, Volume]\n Index: [],\n 'GAZP':                   Open        High         Low       Close   Adj Close   \n Date                                                                     \n 2010-03-03  168.839996  171.100006  167.119995  170.100006   85.254730  \\\n 2010-03-04  169.009995  174.440002  168.369995  172.270004   86.342339   \n 2010-03-05  174.050003  177.559998  173.759995  176.800003   88.612801   \n 2010-03-09  176.610001  178.089996  174.339996  175.470001   87.946190   \n 2010-03-10  174.800003  177.710007  172.649994  173.770004   87.094170   \n ...                ...         ...         ...         ...         ...   \n 2022-05-18  261.100006  269.420013  261.000000  264.839996  264.839996   \n 2022-05-19  268.000000  269.779999  262.649994  266.679993  266.679993   \n 2022-05-20  266.679993  266.679993  266.679993  266.679993  266.679993   \n 2022-05-23  266.679993  266.679993  266.679993  266.679993  266.679993   \n 2022-05-24  266.679993  266.679993  266.679993  266.679993  266.679993   \n \n               Volume   log_ret  log_ret_high  log_ret_low  \n Date                                                       \n 2010-03-03  15012689       NaN           NaN          NaN  \n 2010-03-04  22078020  0.012677      0.019333     0.007452  \n 2010-03-05  27804988  0.025956      0.017728     0.031511  \n 2010-03-09  20023702 -0.007551      0.002980     0.003332  \n 2010-03-10  19300420 -0.009735     -0.002136    -0.009741  \n ...              ...       ...           ...          ...  \n 2022-05-18  51227600  0.023070      0.035590     0.062038  \n 2022-05-19  24980910  0.006924      0.001335     0.006302  \n 2022-05-20         0  0.000000     -0.011557     0.015227  \n 2022-05-23         0  0.000000      0.000000     0.000000  \n 2022-05-24         0  0.000000      0.000000     0.000000  \n \n [3043 rows x 9 columns],\n 'GAZS': Empty DataFrame\n Columns: [Open, High, Low, Close, Adj Close, Volume]\n Index: [],\n 'GAZT':                   Open        High         Low       Close  Adj Close  Volume   \n Date                                                                            \n 2012-06-08  102.639999  102.639999  102.599998  102.599998  94.735466       4  \\\n 2012-06-13  102.599998  102.599998  102.599998  102.599998  94.735466       0   \n 2012-06-14  102.599998  102.599998  102.599998  102.599998  94.735466       0   \n 2012-06-15  102.599998  102.599998  102.599998  102.599998  94.735466       0   \n 2012-06-18  102.599998  102.599998  102.599998  102.599998  94.735466       0   \n ...                ...         ...         ...         ...        ...     ...   \n 2022-05-18   85.000000   85.000000   85.000000   85.000000  85.000000       0   \n 2022-05-19   85.000000   85.000000   85.000000   85.000000  85.000000       0   \n 2022-05-20   85.000000   85.000000   85.000000   85.000000  85.000000       0   \n 2022-05-23   85.000000   85.000000   85.000000   85.000000  85.000000       0   \n 2022-05-24   85.000000   85.000000   85.000000   85.000000  85.000000       0   \n \n             log_ret  log_ret_high  log_ret_low  \n Date                                            \n 2012-06-08      NaN           NaN          NaN  \n 2012-06-13      0.0      -0.00039          0.0  \n 2012-06-14      0.0       0.00000          0.0  \n 2012-06-15      0.0       0.00000          0.0  \n 2012-06-18      0.0       0.00000          0.0  \n ...             ...           ...          ...  \n 2022-05-18      0.0       0.00000          0.0  \n 2022-05-19      0.0       0.00000          0.0  \n 2022-05-20      0.0       0.00000          0.0  \n 2022-05-23      0.0       0.00000          0.0  \n 2022-05-24      0.0       0.00000          0.0  \n \n [1645 rows x 9 columns],\n 'GCHE':                    Open         High          Low        Close    Adj Close   \n Date                                                                          \n 2010-03-03   732.989990   732.989990   712.539978   725.000000   409.699554  \\\n 2010-03-04   724.969971   729.700012   718.000000   720.000000   406.873962   \n 2010-03-05   723.979980   725.000000   705.099976   717.280029   405.336914   \n 2010-03-09   690.000000   717.289978   681.000000   712.000000   402.353241   \n 2010-03-10   712.479980   714.979980   685.000000   701.270020   396.289642   \n ...                 ...          ...          ...          ...          ...   \n 2022-05-18  3070.000000  3127.000000  2916.000000  2966.000000  2966.000000   \n 2022-05-19  2975.000000  2985.500000  2921.000000  2931.500000  2931.500000   \n 2022-05-20  2931.500000  2931.500000  2931.500000  2931.500000  2931.500000   \n 2022-05-23  2931.500000  2931.500000  2931.500000  2931.500000  2931.500000   \n 2022-05-24  2931.500000  2931.500000  2931.500000  2931.500000  2931.500000   \n \n             Volume   log_ret  log_ret_high  log_ret_low  \n Date                                                     \n 2010-03-03    7479       NaN           NaN          NaN  \n 2010-03-04    1193 -0.006920     -0.004499     0.007634  \n 2010-03-05    6032 -0.003785     -0.006462    -0.018130  \n 2010-03-09    3167 -0.007388     -0.010691    -0.034777  \n 2010-03-10    1231 -0.015185     -0.003226     0.005857  \n ...            ...       ...           ...          ...  \n 2022-05-18    9022 -0.027927      0.016769    -0.005813  \n 2022-05-19    3357 -0.011700     -0.046307     0.001713  \n 2022-05-20       0  0.000000     -0.018253     0.003588  \n 2022-05-23       0  0.000000      0.000000     0.000000  \n 2022-05-24       0  0.000000      0.000000     0.000000  \n \n [3043 rows x 9 columns],\n 'GECO': Empty DataFrame\n Columns: [Open, High, Low, Close, Adj Close, Volume]\n Index: [],\n 'GEMA':                   Open        High         Low       Close   Adj Close  Volume\n Date                                                                          \n 2019-07-31  687.900024  687.900024  678.099976  678.099976  508.784241     201\n 2019-08-01  678.000000  679.000000  672.000000  672.200012  504.357452    1030\n 2019-08-02  672.200012  677.400024  672.000000  672.000000  504.207306    1328\n 2019-08-05  672.000000  672.500000  658.599976  672.000000  504.207306    1990\n 2019-08-06  672.000000  673.099976  672.000000  673.099976  505.032654     994\n ...                ...         ...         ...         ...         ...     ...\n 2022-05-18  701.000000  708.000000  688.500000  698.000000  698.000000    1508\n 2022-05-19  704.500000  704.500000  686.000000  698.000000  698.000000    1030\n 2022-05-20  698.000000  698.000000  698.000000  698.000000  698.000000       0\n 2022-05-23  698.000000  698.000000  698.000000  698.000000  698.000000       0\n 2022-05-24  698.000000  698.000000  698.000000  698.000000  698.000000       0\n \n [690 rows x 6 columns],\n 'GMKN':                     Open          High           Low         Close   \n Date                                                                 \n 2010-03-03   4845.575195   4955.771973   4814.678711   4950.014648  \\\n 2010-03-04   4912.712891   5046.401367   4904.277832   4997.121582   \n 2010-03-05   5046.401367   5086.566406   5006.235840   5080.387207   \n 2010-03-09   5076.782715   5078.327148   4957.934570   5005.206055   \n 2010-03-10   5005.206055   5115.402832   4965.041016   5041.127930   \n ...                  ...           ...           ...           ...   \n 2022-05-18  21356.000000  21700.000000  21350.000000  21416.000000   \n 2022-05-19  21450.000000  21492.000000  21212.000000  21300.000000   \n 2022-05-20  21300.000000  21300.000000  21300.000000  21300.000000   \n 2022-05-23  21300.000000  21300.000000  21300.000000  21300.000000   \n 2022-05-24  21300.000000  21300.000000  21300.000000  21300.000000   \n \n                Adj Close  Volume   log_ret  log_ret_high  log_ret_low  \n Date                                                                   \n 2010-03-03   1709.748657  337232       NaN           NaN          NaN  \n 2010-03-04   1726.019897  360174  0.009472      0.018122     0.018439  \n 2010-03-05   1754.780273  293976  0.016525      0.007928     0.020576  \n 2010-03-09   1728.812134  248366 -0.014909     -0.001621    -0.009695  \n 2010-03-10   1741.219727  320771  0.007151      0.007274     0.001432  \n ...                  ...     ...       ...           ...          ...  \n 2022-05-18  21416.000000   46836  0.003180      0.009818     0.000468  \n 2022-05-19  21300.000000   24378 -0.005431     -0.009631    -0.006485  \n 2022-05-20  21300.000000       0  0.000000     -0.008974     0.004140  \n 2022-05-23  21300.000000       0  0.000000      0.000000     0.000000  \n 2022-05-24  21300.000000       0  0.000000      0.000000     0.000000  \n \n [3043 rows x 9 columns],\n 'GTRK':                   Open        High     Low       Close   Adj Close  Volume\n Date                                                                      \n 2017-11-03  135.000000  135.000000  133.00  133.250000  129.918747    5422\n 2017-11-07  136.000000  136.000000  131.50  132.000000  128.699997  103154\n 2017-11-08  132.000000  133.000000  132.00  133.000000  129.675003    6991\n 2017-11-09  132.009995  132.009995  131.00  132.000000  128.699997   77051\n 2017-11-10  132.000000  133.000000  132.00  132.000000  128.699997   25313\n ...                ...         ...     ...         ...         ...     ...\n 2022-05-18   25.750000   26.400000   25.35   25.700001   25.700001   89610\n 2022-05-19   25.700001   25.750000   25.35   25.600000   25.600000   26520\n 2022-05-20   25.600000   25.600000   25.60   25.600000   25.600000       0\n 2022-05-23   25.600000   25.600000   25.60   25.600000   25.600000       0\n 2022-05-24   25.600000   25.600000   25.60   25.600000   25.600000       0\n \n [1124 rows x 6 columns],\n 'HYDR':               Open    High     Low   Close  Adj Close    Volume   log_ret   \n Date                                                                        \n 2010-03-03  1.2810  1.3280  1.2790  1.3130   0.864271   3391911       NaN  \\\n 2010-03-04  1.3000  1.3290  1.2920  1.3180   0.867563   2422140  0.003801   \n 2010-03-05  1.3300  1.3320  1.2980  1.3300   0.875462   2490786  0.009064   \n 2010-03-09  1.3410  1.3570  1.3330  1.3490   0.887968   2492220  0.014185   \n 2010-03-10  1.3500  1.3740  1.3410  1.3720   0.903108   2848872  0.016906   \n ...            ...     ...     ...     ...        ...       ...       ...   \n 2022-05-18  0.8000  0.8050  0.7960  0.8000   0.800000  64643000  0.000000   \n 2022-05-19  0.7975  0.8020  0.7906  0.7945   0.794500  30197000 -0.006899   \n 2022-05-20  0.7945  0.7945  0.7945  0.7945   0.794500         0  0.000000   \n 2022-05-23  0.7945  0.7945  0.7945  0.7945   0.794500         0  0.000000   \n 2022-05-24  0.7945  0.7945  0.7945  0.7945   0.794500         0  0.000000   \n \n             log_ret_high  log_ret_low  \n Date                                   \n 2010-03-03           NaN          NaN  \n 2010-03-04      0.000753     0.010113  \n 2010-03-05      0.002255     0.004633  \n 2010-03-09      0.018595     0.026607  \n 2010-03-10      0.012450     0.005984  \n ...                  ...          ...  \n 2022-05-18     -0.003101    -0.005013  \n 2022-05-19     -0.003734    -0.006807  \n 2022-05-20     -0.009396     0.004921  \n 2022-05-23      0.000000     0.000000  \n 2022-05-24      0.000000     0.000000  \n \n [3043 rows x 9 columns],\n 'IGST':               Open    High     Low   Close  Adj Close  Volume   log_ret   \n Date                                                                      \n 2012-01-12  1200.0  1399.0  1200.0  1250.0     1250.0       5       NaN  \\\n 2012-01-13  1200.0  1200.0  1109.0  1109.0     1109.0      80 -0.119685   \n 2012-01-16  1109.0  1109.0  1109.0  1109.0     1109.0       0  0.000000   \n 2012-01-17  1109.0  1109.0  1109.0  1109.0     1109.0       0  0.000000   \n 2012-01-18  1109.0  1109.0  1109.0  1109.0     1109.0       0  0.000000   \n ...            ...     ...     ...     ...        ...     ...       ...   \n 2022-05-18  2790.0  2790.0  2700.0  2756.0     2756.0      76  0.005822   \n 2022-05-19  2714.0  2756.0  2690.0  2714.0     2714.0      95 -0.015357   \n 2022-05-20  2714.0  2714.0  2714.0  2714.0     2714.0       0  0.000000   \n 2022-05-23  2714.0  2714.0  2714.0  2714.0     2714.0       0  0.000000   \n 2022-05-24  2714.0  2714.0  2714.0  2714.0     2714.0       0  0.000000   \n \n             log_ret_high  log_ret_low  \n Date                                   \n 2012-01-12           NaN          NaN  \n 2012-01-13     -0.153436    -0.078863  \n 2012-01-16     -0.078863     0.000000  \n 2012-01-17      0.000000     0.000000  \n 2012-01-18      0.000000     0.000000  \n ...                  ...          ...  \n 2022-05-18     -0.014235    -0.002220  \n 2022-05-19     -0.012261    -0.003711  \n 2022-05-20     -0.015357     0.008882  \n 2022-05-23      0.000000     0.000000  \n 2022-05-24      0.000000     0.000000  \n \n [2579 rows x 9 columns],\n 'INGR':                    Open         High          Low       Close    Adj Close   \n Date                                                                         \n 2010-03-03  1301.729980  1305.000000  1290.069946  1300.01001  1111.855225  \\\n 2010-03-04  1366.030029  1366.030029  1297.500000  1300.00000  1111.846680   \n 2010-03-05  1300.069946  1324.979980  1295.900024  1314.00000  1123.820557   \n 2010-03-09  1320.000000  1320.000000  1300.040039  1307.00000  1117.833618   \n 2010-03-10  1313.130005  1329.000000  1313.130005  1320.00000  1128.952026   \n ...                 ...          ...          ...         ...          ...   \n 2022-05-18  1319.000000  1379.000000  1319.000000  1342.00000  1342.000000   \n 2022-05-19  1338.000000  1339.000000  1318.000000  1337.00000  1337.000000   \n 2022-05-20  1337.000000  1337.000000  1337.000000  1337.00000  1337.000000   \n 2022-05-23  1337.000000  1337.000000  1337.000000  1337.00000  1337.000000   \n 2022-05-24  1337.000000  1337.000000  1337.000000  1337.00000  1337.000000   \n \n             Volume   log_ret  log_ret_high  log_ret_low  \n Date                                                     \n 2010-03-03      36       NaN           NaN          NaN  \n 2010-03-04     119 -0.000008      0.045706     0.005743  \n 2010-03-05     221  0.010712     -0.030511    -0.001234  \n 2010-03-09     214 -0.005341     -0.003766     0.003190  \n 2010-03-10     164  0.009897      0.006795     0.010019  \n ...            ...       ...           ...          ...  \n 2022-05-18    2838  0.021846      0.043727     0.043384  \n 2022-05-19    3498 -0.003733     -0.029436    -0.000758  \n 2022-05-20       0  0.000000     -0.001495     0.014313  \n 2022-05-23       0  0.000000      0.000000     0.000000  \n 2022-05-24       0  0.000000      0.000000     0.000000  \n \n [3043 rows x 9 columns],\n 'IRAO':              Open    High    Low  Close  Adj Close     Volume   log_ret   \n Date                                                                      \n 2011-11-21  3.400  3.4000  3.300  3.300   2.704593   11712327       NaN  \\\n 2011-11-22  3.300  3.3000  3.200  3.300   2.704593    5909324  0.000000   \n 2011-11-23  3.200  3.3000  3.200  3.200   2.622635   15907673 -0.030772   \n 2011-11-24  3.300  3.3000  3.100  3.200   2.622635    9154324  0.000000   \n 2011-11-25  3.200  3.3000  3.100  3.200   2.622635    3748672  0.000000   \n ...           ...     ...    ...    ...        ...        ...       ...   \n 2022-05-18  2.800  2.8955  2.750  2.770   2.770000  169135700 -0.005401   \n 2022-05-19  2.780  2.8740  2.765  2.845   2.845000   89878700  0.026716   \n 2022-05-20  2.845  2.8450  2.845  2.845   2.845000          0  0.000000   \n 2022-05-23  2.845  2.8450  2.845  2.845   2.845000          0  0.000000   \n 2022-05-24  2.845  2.8450  2.845  2.845   2.845000          0  0.000000   \n \n             log_ret_high  log_ret_low  \n Date                                   \n 2011-11-21           NaN          NaN  \n 2011-11-22     -0.029853    -0.030772  \n 2011-11-23      0.000000     0.000000  \n 2011-11-24      0.000000    -0.031749  \n 2011-11-25      0.000000     0.000000  \n ...                  ...          ...  \n 2022-05-18      0.033538    -0.005440  \n 2022-05-19     -0.007453     0.005440  \n 2022-05-20     -0.010142     0.028522  \n 2022-05-23      0.000000     0.000000  \n 2022-05-24      0.000000     0.000000  \n \n [2615 rows x 9 columns],\n 'IRKT':                  Open       High        Low      Close  Adj Close  Volume   \n Date                                                                        \n 2010-03-03   8.899000   8.899000   8.600000   8.828000   6.236499     373  \\\n 2010-03-04   8.665000   8.864000   8.660000   8.774000   6.198352     660   \n 2010-03-05   8.839000   8.879000   8.710000   8.876000   6.270409    1664   \n 2010-03-09   8.894000   9.299000   8.777000   9.210000   6.506362    6126   \n 2010-03-10   9.011000   9.350000   9.011000   9.193000   6.494353    2405   \n ...               ...        ...        ...        ...        ...     ...   \n 2022-05-18  25.600000  26.540001  25.520000  25.940001  25.940001  190900   \n 2022-05-19  26.719999  26.719999  25.620001  26.020000  26.020000  166800   \n 2022-05-20  26.020000  26.020000  26.020000  26.020000  26.020000       0   \n 2022-05-23  26.020000  26.020000  26.020000  26.020000  26.020000       0   \n 2022-05-24  26.020000  26.020000  26.020000  26.020000  26.020000       0   \n \n              log_ret  log_ret_high  log_ret_low  \n Date                                             \n 2010-03-03       NaN           NaN          NaN  \n 2010-03-04 -0.006136     -0.003941     0.006952  \n 2010-03-05  0.011558      0.001691     0.005757  \n 2010-03-09  0.036939      0.046218     0.007663  \n 2010-03-10 -0.001848      0.005470     0.026311  \n ...              ...           ...          ...  \n 2022-05-18  0.000771      0.001508     0.020587  \n 2022-05-19  0.003079      0.006759     0.003911  \n 2022-05-20  0.000000     -0.026547     0.015492  \n 2022-05-23  0.000000      0.000000     0.000000  \n 2022-05-24  0.000000      0.000000     0.000000  \n \n [3043 rows x 9 columns],\n 'ISKJ':                  Open       High        Low      Close  Adj Close   Volume   \n Date                                                                         \n 2010-03-03  14.241000  14.997000  13.920000  14.480000  14.018491   505323  \\\n 2010-03-04  14.511000  14.559000  14.003000  14.140000  13.689327   227777   \n 2010-03-05  14.363000  14.363000  14.125000  14.226000  13.772586   272993   \n 2010-03-09  14.200000  14.293000  14.079000  14.199000  13.746448   123929   \n 2010-03-10  14.199000  14.880000  14.138000  14.230000  13.776459   488642   \n ...               ...        ...        ...        ...        ...      ...   \n 2022-05-18  73.000000  75.980003  72.160004  73.300003  73.300003   494020   \n 2022-05-19  74.400002  79.300003  74.400002  77.099998  77.099998  1332680   \n 2022-05-20  77.099998  77.099998  77.099998  77.099998  77.099998        0   \n 2022-05-23  77.099998  77.099998  77.099998  77.099998  77.099998        0   \n 2022-05-24  77.099998  77.099998  77.099998  77.099998  77.099998        0   \n \n              log_ret  log_ret_high  log_ret_low  \n Date                                             \n 2010-03-03       NaN           NaN          NaN  \n 2010-03-04 -0.023761     -0.029641     0.005945  \n 2010-03-05  0.006064     -0.013554     0.008675  \n 2010-03-09 -0.001900     -0.004886    -0.003262  \n 2010-03-10  0.002181      0.040248     0.004182  \n ...              ...           ...          ...  \n 2022-05-18  0.012354      0.021014     0.042463  \n 2022-05-19  0.050543      0.042768     0.030570  \n 2022-05-20  0.000000     -0.028135     0.035647  \n 2022-05-23  0.000000      0.000000     0.000000  \n 2022-05-24  0.000000      0.000000     0.000000  \n \n [3043 rows x 9 columns],\n 'JNOS':              Open       High   Low      Close  Adj Close  Volume   log_ret   \n Date                                                                         \n 2010-03-03  17.10  17.200001  14.5  16.398001  16.388468      36       NaN  \\\n 2010-03-04  15.50  17.000000  15.0  17.000000  16.990116     186  0.036054   \n 2010-03-05  17.00  17.000000  17.0  17.000000  16.990116       0  0.000000   \n 2010-03-09  17.00  17.000000  15.1  15.500000  15.490989     109 -0.092373   \n 2010-03-10  16.00  16.466999  15.5  15.500000  15.490989      22  0.000000   \n ...           ...        ...   ...        ...        ...     ...       ...   \n 2022-05-18  14.20  14.700000  14.0  14.100000  14.100000   11200  0.003552   \n 2022-05-19  14.25  14.250000  13.9  13.900000  13.900000   32400 -0.014286   \n 2022-05-20  13.90  13.900000  13.9  13.900000  13.900000       0  0.000000   \n 2022-05-23  13.90  13.900000  13.9  13.900000  13.900000       0  0.000000   \n 2022-05-24  13.90  13.900000  13.9  13.900000  13.900000       0  0.000000   \n \n             log_ret_high  log_ret_low  \n Date                                   \n 2010-03-03           NaN          NaN  \n 2010-03-04     -0.011696     0.033902  \n 2010-03-05      0.000000     0.125163  \n 2010-03-09      0.000000    -0.118519  \n 2010-03-10     -0.031855     0.026145  \n ...                  ...          ...  \n 2022-05-18      0.017153     0.000000  \n 2022-05-19     -0.031091    -0.007169  \n 2022-05-20     -0.024868     0.000000  \n 2022-05-23      0.000000     0.000000  \n 2022-05-24      0.000000     0.000000  \n \n [3043 rows x 9 columns],\n 'KAZT':                   Open        High         Low       Close   Adj Close   \n Date                                                                     \n 2011-12-14   60.000000   63.000000   60.000000   60.000000   38.644657  \\\n 2011-12-15   62.000000   62.000000   62.000000   62.000000   39.932812   \n 2011-12-16   62.000000   62.000000   62.000000   62.000000   39.932812   \n 2011-12-19   62.000000   62.000000   62.000000   62.000000   39.932812   \n 2011-12-20   62.000000   69.000000   62.000000   62.000000   39.932812   \n ...                ...         ...         ...         ...         ...   \n 2022-05-18  459.200012  467.600006  449.000000  451.000000  433.684479   \n 2022-05-19  451.399994  464.799988  450.000000  453.200012  435.800018   \n 2022-05-20  453.200012  453.200012  453.200012  453.200012  453.200012   \n 2022-05-23  453.200012  453.200012  453.200012  453.200012  453.200012   \n 2022-05-24  453.200012  453.200012  453.200012  453.200012  453.200012   \n \n             Volume   log_ret  log_ret_high  log_ret_low  \n Date                                                     \n 2011-12-14    2000       NaN           NaN          NaN  \n 2011-12-15     100  0.032790     -0.016000     0.032790  \n 2011-12-16    3600  0.000000      0.000000     0.000000  \n 2011-12-19       0  0.000000      0.000000     0.000000  \n 2011-12-20  234500  0.000000      0.106972     0.000000  \n ...            ...       ...           ...          ...  \n 2022-05-18   48400 -0.008830      0.027316     0.014356  \n 2022-05-19   58560  0.004866     -0.006006     0.002225  \n 2022-05-20       0  0.000000     -0.025274     0.007086  \n 2022-05-23       0  0.000000      0.000000     0.000000  \n 2022-05-24       0  0.000000      0.000000     0.000000  \n \n [2598 rows x 9 columns],\n 'KBSB':                   Open        High         Low       Close   Adj Close   \n Date                                                                     \n 2010-03-03   20.760000   21.000000   20.750000   21.000000    7.819516  \\\n 2010-03-04   21.000000   22.139999   20.750000   22.120001    8.236556   \n 2010-03-05   21.080000   22.600000   21.080000   22.500000    8.378052   \n 2010-03-09   23.360001   23.360001   22.299999   22.299999    8.303579   \n 2010-03-10   23.400000   23.400000   22.510000   22.969999    8.553061   \n ...                ...         ...         ...         ...         ...   \n 2022-05-18  136.500000  142.000000  131.500000  142.000000  142.000000   \n 2022-05-19  142.000000  172.000000  139.000000  169.500000  169.500000   \n 2022-05-20  169.500000  169.500000  169.500000  169.500000  169.500000   \n 2022-05-23  169.500000  169.500000  169.500000  169.500000  169.500000   \n 2022-05-24  169.500000  169.500000  169.500000  169.500000  169.500000   \n \n             Volume   log_ret  log_ret_high  log_ret_low  \n Date                                                     \n 2010-03-03    1149       NaN           NaN          NaN  \n 2010-03-04    9276  0.051960      0.052863     0.000000  \n 2010-03-05    2963  0.017033      0.020564     0.015778  \n 2010-03-09    1105 -0.008929      0.033075     0.056262  \n 2010-03-10    1343  0.029602      0.001711     0.009373  \n ...            ...       ...           ...          ...  \n 2022-05-18    4020  0.043172      0.035846    -0.018833  \n 2022-05-19   14470  0.177026      0.191667     0.055467  \n 2022-05-20       0  0.000000     -0.014642     0.198379  \n 2022-05-23       0  0.000000      0.000000     0.000000  \n 2022-05-24       0  0.000000      0.000000     0.000000  \n \n [3043 rows x 9 columns],\n 'KCHE':               Open    High     Low   Close  Adj Close  Volume   log_ret   \n Date                                                                      \n 2010-03-03  0.1970  0.1990  0.1840  0.1990     0.1990      92       NaN  \\\n 2010-03-04  0.1990  0.2040  0.1990  0.1990     0.1990     979  0.000000   \n 2010-03-05  0.1870  0.2030  0.1870  0.1970     0.1970     760 -0.010101   \n 2010-03-09  0.1900  0.2000  0.1900  0.1990     0.1990     519  0.010101   \n 2010-03-10  0.2040  0.2050  0.1930  0.2000     0.2000     195  0.005013   \n ...            ...     ...     ...     ...        ...     ...       ...   \n 2022-05-18  0.1765  0.1775  0.1675  0.1725     0.1725  590000 -0.008658   \n 2022-05-19  0.1690  0.1750  0.1690  0.1715     0.1715  320000 -0.005814   \n 2022-05-20  0.1715  0.1715  0.1715  0.1715     0.1715       0  0.000000   \n 2022-05-23  0.1715  0.1715  0.1715  0.1715     0.1715       0  0.000000   \n 2022-05-24  0.1715  0.1715  0.1715  0.1715     0.1715       0  0.000000   \n \n             log_ret_high  log_ret_low  \n Date                                   \n 2010-03-03           NaN          NaN  \n 2010-03-04      0.024815     0.078369  \n 2010-03-05     -0.004914    -0.062196  \n 2010-03-09     -0.014889     0.015915  \n 2010-03-10      0.024693     0.015666  \n ...                  ...          ...  \n 2022-05-18      0.014185    -0.014815  \n 2022-05-19     -0.014185     0.008915  \n 2022-05-20     -0.020203     0.014685  \n 2022-05-23      0.000000     0.000000  \n 2022-05-24      0.000000     0.000000  \n \n [3043 rows x 9 columns],\n 'KGKC':                  Open       High        Low      Close  Adj Close  Volume   \n Date                                                                        \n 2012-09-27  50.900002  51.029999  50.900002  51.029999  39.858006   13400  \\\n 2012-09-28  50.950001  51.029999  50.950001  51.029999  39.858006   82000   \n 2012-10-01  51.029999  51.029999  51.029999  51.029999  39.858006       0   \n 2012-10-02  51.029999  51.029999  51.029999  51.029999  39.858006       0   \n 2012-10-03  51.029999  51.029999  51.029999  51.029999  39.858006       0   \n ...               ...        ...        ...        ...        ...     ...   \n 2022-05-18  38.599998  39.000000  38.000000  38.400002  38.400002    1870   \n 2022-05-19  38.200001  39.599998  38.200001  39.599998  39.599998     990   \n 2022-05-20  39.599998  39.599998  39.599998  39.599998  39.599998       0   \n 2022-05-23  39.599998  39.599998  39.599998  39.599998  39.599998       0   \n 2022-05-24  39.599998  39.599998  39.599998  39.599998  39.599998       0   \n \n              log_ret  log_ret_high  log_ret_low  \n Date                                             \n 2012-09-27       NaN           NaN          NaN  \n 2012-09-28  0.000000      0.000000     0.000982  \n 2012-10-01  0.000000      0.000000     0.001569  \n 2012-10-02  0.000000      0.000000     0.000000  \n 2012-10-03  0.000000      0.000000     0.000000  \n ...              ...           ...          ...  \n 2022-05-18 -0.015504      0.000000    -0.010471  \n 2022-05-19  0.030772      0.015267     0.005249  \n 2022-05-20  0.000000      0.000000     0.035994  \n 2022-05-23  0.000000      0.000000     0.000000  \n 2022-05-24  0.000000      0.000000     0.000000  \n \n [2402 rows x 9 columns],\n 'KLSB':               Open    High     Low   Close  Adj Close  Volume   log_ret   \n Date                                                                      \n 2010-03-01  11.949  11.949  11.886  12.449     12.449      10       NaN  \\\n 2010-03-02  12.449  12.449  12.449  12.449     12.449       0  0.000000   \n 2010-03-03  12.449  12.449  12.449  12.449     12.449       0  0.000000   \n 2010-03-04  12.449  12.449  12.449  12.449     12.449       0  0.000000   \n 2010-03-05  12.449  12.449  12.449  12.449     12.449       0  0.000000   \n ...            ...     ...     ...     ...        ...     ...       ...   \n 2022-05-18   9.320   9.400   9.290   9.340      9.340   20400  0.000000   \n 2022-05-19   9.320   9.450   9.290   9.400      9.400   33200  0.006403   \n 2022-05-20   9.400   9.400   9.400   9.400      9.400       0  0.000000   \n 2022-05-23   9.400   9.400   9.400   9.400      9.400       0  0.000000   \n 2022-05-24   9.400   9.400   9.400   9.400      9.400       0  0.000000   \n \n             log_ret_high  log_ret_low  \n Date                                   \n 2010-03-01           NaN          NaN  \n 2010-03-02      0.040993     0.046279  \n 2010-03-03      0.000000     0.000000  \n 2010-03-04      0.000000     0.000000  \n 2010-03-05      0.000000     0.000000  \n ...                  ...          ...  \n 2022-05-18     -0.046762    -0.001076  \n 2022-05-19      0.005305     0.000000  \n 2022-05-20     -0.005305     0.011771  \n 2022-05-23      0.000000     0.000000  \n 2022-05-24      0.000000     0.000000  \n \n [3045 rows x 9 columns],\n 'KMAZ':                   Open        High         Low       Close   Adj Close   \n Date                                                                     \n 2010-03-03   78.449997   79.400002   77.550003   79.099998   72.849426  \\\n 2010-03-04   78.900002   80.889999   78.900002   80.080002   73.751984   \n 2010-03-05   80.099998   81.800003   80.000000   81.220001   74.801895   \n 2010-03-09   81.910004   81.910004   79.500000   80.019997   73.696716   \n 2010-03-10   80.029999   80.800003   78.500000   78.790001   72.563919   \n ...                ...         ...         ...         ...         ...   \n 2022-05-18  104.000000  110.000000  101.000000  102.900002  102.900002   \n 2022-05-19  103.900002  104.099998  102.199997  102.500000  102.500000   \n 2022-05-20  102.500000  102.500000  102.500000  102.500000  102.500000   \n 2022-05-23  102.500000  102.500000  102.500000  102.500000  102.500000   \n 2022-05-24  102.500000  102.500000  102.500000  102.500000  102.500000   \n \n             Volume   log_ret  log_ret_high  log_ret_low  \n Date                                                     \n 2010-03-03   65646       NaN           NaN          NaN  \n 2010-03-04   79424  0.012313      0.018592     0.017258  \n 2010-03-05  112595  0.014135      0.011187     0.013845  \n 2010-03-09   22437 -0.014885      0.001344    -0.006270  \n 2010-03-10   79289 -0.015490     -0.013644    -0.012658  \n ...            ...       ...           ...          ...  \n 2022-05-18  291560 -0.010633      0.035156    -0.017665  \n 2022-05-19   34500 -0.003895     -0.055128     0.011811  \n 2022-05-20       0  0.000000     -0.015489     0.002931  \n 2022-05-23       0  0.000000      0.000000     0.000000  \n 2022-05-24       0  0.000000      0.000000     0.000000  \n \n [3043 rows x 9 columns],\n 'KMEZ':                    Open         High          Low        Close    Adj Close   \n Date                                                                          \n 2010-03-03  1668.141724  1718.075806  1668.141724  1678.120483  1678.120483  \\\n 2010-03-04  1748.032227  1748.042236  1698.108154  1709.085815  1709.085815   \n 2010-03-05  1775.001953  1947.818481  1758.031006  1880.883423  1880.883423   \n 2010-03-09  1847.860352  1847.870361  1758.031006  1758.031006  1758.031006   \n 2010-03-10  1787.997437  1787.997437  1768.029785  1768.029785  1768.029785   \n ...                 ...          ...          ...          ...          ...   \n 2022-05-18   888.000000   927.000000   881.000000   899.000000   899.000000   \n 2022-05-19   891.000000   903.000000   879.000000   898.000000   898.000000   \n 2022-05-20   898.000000   898.000000   898.000000   898.000000   898.000000   \n 2022-05-23   898.000000   898.000000   898.000000   898.000000   898.000000   \n 2022-05-24   898.000000   898.000000   898.000000   898.000000   898.000000   \n \n             Volume   log_ret  log_ret_high  log_ret_low  \n Date                                                     \n 2010-03-03       6       NaN           NaN          NaN  \n 2010-03-04      74  0.018284      0.017291     0.017805  \n 2010-03-05     329  0.095783      0.108214     0.034680  \n 2010-03-09      35 -0.067547     -0.052676     0.000000  \n 2010-03-10       2  0.005671     -0.032938     0.005671  \n ...            ...       ...           ...          ...  \n 2022-05-18     724  0.014566      0.034013    -0.005659  \n 2022-05-19      90 -0.001113     -0.026231    -0.002273  \n 2022-05-20       0  0.000000     -0.005552     0.021385  \n 2022-05-23       0  0.000000      0.000000     0.000000  \n 2022-05-24       0  0.000000      0.000000     0.000000  \n \n [3043 rows x 9 columns],\n 'KMTZ': Empty DataFrame\n Columns: [Open, High, Low, Close, Adj Close, Volume]\n Index: [],\n 'KOGK':                     Open          High           Low         Close   \n Date                                                                 \n 2010-03-03  55000.000000  56900.000000  55000.000000  55050.000000  \\\n 2010-03-04  56617.000000  56617.000000  56617.000000  56617.000000   \n 2010-03-05  57000.000000  74000.000000  57000.000000  61000.000000   \n 2010-03-09  60000.000000  61989.988281  59500.011719  61989.988281   \n 2010-03-10  63999.980469  64000.000000  61250.000000  61999.980469   \n ...                  ...           ...           ...           ...   \n 2022-05-18  40600.000000  40600.000000  40600.000000  40600.000000   \n 2022-05-19  40800.000000  41800.000000  40000.000000  40000.000000   \n 2022-05-20  40000.000000  40000.000000  40000.000000  40000.000000   \n 2022-05-23  40000.000000  40000.000000  40000.000000  40000.000000   \n 2022-05-24  40000.000000  40000.000000  40000.000000  40000.000000   \n \n                Adj Close  Volume   log_ret  log_ret_high  log_ret_low  \n Date                                                                   \n 2010-03-03  55050.000000      32       NaN           NaN          NaN  \n 2010-03-04  56617.000000       3  0.028067     -0.004986     0.028976  \n 2010-03-05  61000.000000      74  0.074565      0.267756     0.006742  \n 2010-03-09  61989.988281       5  0.016099     -0.177092     0.042925  \n 2010-03-10  61999.980469       9  0.000161      0.031910     0.028987  \n ...                  ...     ...       ...           ...          ...  \n 2022-05-18  40600.000000       2  0.024939      0.014889     0.035091  \n 2022-05-19  40000.000000       9 -0.014889      0.029128    -0.014889  \n 2022-05-20  40000.000000       0  0.000000     -0.044017     0.000000  \n 2022-05-23  40000.000000       0  0.000000      0.000000     0.000000  \n 2022-05-24  40000.000000       0  0.000000      0.000000     0.000000  \n \n [3043 rows x 9 columns],\n 'KRKN':               Open    High     Low   Close  Adj Close  Volume   log_ret   \n Date                                                                      \n 2011-12-27  5002.0  5002.0  5002.0  5002.0     5002.0     134       NaN  \\\n 2011-12-28  5002.0  5002.0  5002.0  5002.0     5002.0       0  0.000000   \n 2011-12-29  5002.0  5002.0  5002.0  5002.0     5002.0       0  0.000000   \n 2011-12-30  5002.0  5002.0  5002.0  5002.0     5002.0       0  0.000000   \n 2012-01-03  5002.0  5002.0  5002.0  5002.0     5002.0       0  0.000000   \n ...            ...     ...     ...     ...        ...     ...       ...   \n 2022-05-18  8750.0  8850.0  8500.0  8700.0     8700.0      15  0.011561   \n 2022-05-19  8800.0  8800.0  8550.0  8750.0     8750.0      12  0.005731   \n 2022-05-20  8750.0  8750.0  8750.0  8750.0     8750.0       0  0.000000   \n 2022-05-23  8750.0  8750.0  8750.0  8750.0     8750.0       0  0.000000   \n 2022-05-24  8750.0  8750.0  8750.0  8750.0     8750.0       0  0.000000   \n \n             log_ret_high  log_ret_low  \n Date                                   \n 2011-12-27           NaN          NaN  \n 2011-12-28      0.000000     0.000000  \n 2011-12-29      0.000000     0.000000  \n 2011-12-30      0.000000     0.000000  \n 2012-01-03      0.000000     0.000000  \n ...                  ...          ...  \n 2022-05-18      0.022858     0.000000  \n 2022-05-19     -0.005666     0.005865  \n 2022-05-20     -0.005698     0.023122  \n 2022-05-23      0.000000     0.000000  \n 2022-05-24      0.000000     0.000000  \n \n [2589 rows x 9 columns],\n 'KROT':                   Open        High         Low       Close   Adj Close   \n Date                                                                     \n 2010-03-03  367.660004  370.000000  365.000000  370.000000  369.461426  \\\n 2010-03-04  362.950012  370.000000  362.950012  368.179993  367.644073   \n 2010-03-05  368.179993  368.179993  363.119995  368.170013  367.634094   \n 2010-03-09  362.600006  368.179993  362.600006  368.170013  367.634094   \n 2010-03-10  368.170013  368.179993  364.000000  367.390015  366.855225   \n ...                ...         ...         ...         ...         ...   \n 2022-05-18  322.500000  332.000000  320.000000  332.000000  332.000000   \n 2022-05-19  328.000000  328.000000  323.000000  326.500000  326.500000   \n 2022-05-20  326.500000  326.500000  326.500000  326.500000  326.500000   \n 2022-05-23  326.500000  326.500000  326.500000  326.500000  326.500000   \n 2022-05-24  326.500000  326.500000  326.500000  326.500000  326.500000   \n \n             Volume   log_ret  log_ret_high  log_ret_low  \n Date                                                     \n 2010-03-03     301       NaN           NaN          NaN  \n 2010-03-04     580 -0.004931      0.000000    -0.005632  \n 2010-03-05     413 -0.000027     -0.004931     0.000468  \n 2010-03-09     187  0.000000      0.000000    -0.001433  \n 2010-03-10     511 -0.002121      0.000000     0.003854  \n ...            ...       ...           ...          ...  \n 2022-05-18    1730  0.029032      0.016705     0.000000  \n 2022-05-19     150 -0.016705     -0.012121     0.009331  \n 2022-05-20       0  0.000000     -0.004584     0.010778  \n 2022-05-23       0  0.000000      0.000000     0.000000  \n 2022-05-24       0  0.000000      0.000000     0.000000  \n \n [3043 rows x 9 columns],\n 'KRSB':              Open    High    Low  Close  Adj Close  Volume   log_ret   \n Date                                                                   \n 2010-03-03  3.440   3.800  3.440   3.80   1.164898      10       NaN  \\\n 2010-03-04  4.111   4.140  3.300   3.30   1.011622      97 -0.141079   \n 2010-03-05  3.636   3.799  3.528   3.63   1.112784      84  0.095310   \n 2010-03-09  3.699   3.699  3.630   3.63   1.112784      16  0.000000   \n 2010-03-10  3.734   3.734  3.440   3.44   1.054539     137 -0.053761   \n ...           ...     ...    ...    ...        ...     ...       ...   \n 2022-05-18  9.640   9.840  9.480   9.79   9.790000  221400  0.031123   \n 2022-05-19  9.860  10.090  9.590   9.87   9.870000  274800  0.008138   \n 2022-05-20  9.870   9.870  9.870   9.87   9.870000       0  0.000000   \n 2022-05-23  9.870   9.870  9.870   9.87   9.870000       0  0.000000   \n 2022-05-24  9.870   9.870  9.870   9.87   9.870000       0  0.000000   \n \n             log_ret_high  log_ret_low  \n Date                                   \n 2010-03-03           NaN          NaN  \n 2010-03-04      0.085695    -0.041549  \n 2010-03-05     -0.085958     0.066809  \n 2010-03-09     -0.026675     0.028502  \n 2010-03-10      0.009418    -0.053761  \n ...                  ...          ...  \n 2022-05-18      0.015361     0.019170  \n 2022-05-19      0.025089     0.011537  \n 2022-05-20     -0.022045     0.028779  \n 2022-05-23      0.000000     0.000000  \n 2022-05-24      0.000000     0.000000  \n \n [3043 rows x 9 columns],\n 'KTSB':              Open   High    Low  Close  Adj Close  Volume   log_ret   \n Date                                                                  \n 2010-03-03  0.630  0.636  0.630  0.636   0.228279   56102       NaN  \\\n 2010-03-04  0.563  0.653  0.563  0.631   0.226484      23 -0.007893   \n 2010-03-05  0.631  0.631  0.631  0.631   0.226484       0  0.000000   \n 2010-03-09  0.648  0.672  0.648  0.672   0.241200     370  0.062952   \n 2010-03-10  0.672  0.672  0.672  0.672   0.241200       0  0.000000   \n ...           ...    ...    ...    ...        ...     ...       ...   \n 2022-05-18  0.594  0.602  0.592  0.600   0.600000   17000  0.013423   \n 2022-05-19  0.596  0.610  0.596  0.610   0.610000   22000  0.016529   \n 2022-05-20  0.610  0.610  0.610  0.610   0.610000       0  0.000000   \n 2022-05-23  0.610  0.610  0.610  0.610   0.610000       0  0.000000   \n 2022-05-24  0.610  0.610  0.610  0.610   0.610000       0  0.000000   \n \n             log_ret_high  log_ret_low  \n Date                                   \n 2010-03-03           NaN          NaN  \n 2010-03-04      0.026379    -0.112440  \n 2010-03-05     -0.034271     0.114026  \n 2010-03-09      0.062952     0.026585  \n 2010-03-10      0.000000     0.036368  \n ...                  ...          ...  \n 2022-05-18     -0.009917     0.003384  \n 2022-05-19      0.013202     0.006734  \n 2022-05-20      0.000000     0.023218  \n 2022-05-23      0.000000     0.000000  \n 2022-05-24      0.000000     0.000000  \n \n [3043 rows x 9 columns],\n 'KUBE':                   Open        High         Low       Close   Adj Close   \n Date                                                                     \n 2010-03-03  139.580002  149.220001  139.580002  147.399994  124.124336  \\\n 2010-03-04  153.869995  153.869995  143.229996  147.500000  124.208557   \n 2010-03-05  147.729996  149.979996  147.199997  148.179993  124.781166   \n 2010-03-09  150.000000  150.009995  145.000000  148.500000  125.050644   \n 2010-03-10  148.839996  157.000000  147.020004  154.000000  129.682159   \n ...                ...         ...         ...         ...         ...   \n 2022-05-18   61.200001   64.199997   56.599998   60.400002   60.400002   \n 2022-05-19   60.900002   68.300003   58.099998   66.000000   66.000000   \n 2022-05-20   66.000000   66.000000   66.000000   66.000000   66.000000   \n 2022-05-23   66.000000   66.000000   66.000000   66.000000   66.000000   \n 2022-05-24   66.000000   66.000000   66.000000   66.000000   66.000000   \n \n             Volume   log_ret  log_ret_high  log_ret_low  \n Date                                                     \n 2010-03-03   87562       NaN           NaN          NaN  \n 2010-03-04   22845  0.000678      0.030686     0.025814  \n 2010-03-05    9248  0.004600     -0.025606     0.027340  \n 2010-03-09    9186  0.002157      0.000200    -0.015058  \n 2010-03-10   37756  0.036368      0.045544     0.013835  \n ...            ...       ...           ...          ...  \n 2022-05-18    5450 -0.004955      0.044593    -0.022708  \n 2022-05-19   23260  0.088666      0.061907     0.026157  \n 2022-05-20       0  0.000000     -0.034255     0.127489  \n 2022-05-23       0  0.000000      0.000000     0.000000  \n 2022-05-24       0  0.000000      0.000000     0.000000  \n \n [3043 rows x 9 columns],\n 'KUZB':                Open     High      Low    Close  Adj Close    Volume   log_ret   \n Date                                                                            \n 2012-09-05  0.07185  0.07200  0.07185  0.07200   0.048334        41       NaN  \\\n 2012-09-06  0.07200  0.07200  0.07200  0.07200   0.048334         0  0.000000   \n 2012-09-07  0.07200  0.07200  0.07200  0.07200   0.048334         0  0.000000   \n 2012-09-10  0.07250  0.07251  0.07250  0.07251   0.048676        19  0.007058   \n 2012-09-11  0.07251  0.07251  0.07251  0.07251   0.048676         0  0.000000   \n ...             ...      ...      ...      ...        ...       ...       ...   \n 2022-05-18  0.01829  0.01850  0.01780  0.01816   0.018160  32960000 -0.007133   \n 2022-05-19  0.01821  0.01950  0.01775  0.01885   0.018850  74760000  0.037292   \n 2022-05-20  0.01885  0.01885  0.01885  0.01885   0.018850         0  0.000000   \n 2022-05-23  0.01885  0.01885  0.01885  0.01885   0.018850         0  0.000000   \n 2022-05-24  0.01885  0.01885  0.01885  0.01885   0.018850         0  0.000000   \n \n             log_ret_high  log_ret_low  \n Date                                   \n 2012-09-05           NaN          NaN  \n 2012-09-06      0.000000     0.002085  \n 2012-09-07      0.000000     0.000000  \n 2012-09-10      0.007058     0.006920  \n 2012-09-11      0.000000     0.000138  \n ...                  ...          ...  \n 2022-05-18     -0.005391     0.001124  \n 2022-05-19      0.052644    -0.002813  \n 2022-05-20     -0.033902     0.060127  \n 2022-05-23      0.000000     0.000000  \n 2022-05-24      0.000000     0.000000  \n \n [2418 rows x 9 columns],\n 'KZOS':                  Open       High        Low      Close  Adj Close  Volume   \n Date                                                                        \n 2011-12-05   5.360000   5.360000   4.251000   4.700000   2.399129    9000  \\\n 2011-12-06   4.600000   4.700000   4.600000   4.650000   2.373606    9000   \n 2011-12-07   4.250000   4.250000   3.000000   4.200000   2.143902   16000   \n 2011-12-08   4.200000   4.400000   4.200000   4.400000   2.245993    3000   \n 2011-12-09   4.000000   4.500000   4.000000   4.000000   2.041811    3000   \n ...               ...        ...        ...        ...        ...     ...   \n 2022-05-18  68.599998  70.599998  68.500000  69.699997  69.699997   69990   \n 2022-05-19  69.500000  73.400002  69.099998  72.400002  72.400002  164280   \n 2022-05-20  72.400002  72.400002  72.400002  72.400002  72.400002       0   \n 2022-05-23  72.400002  72.400002  72.400002  72.400002  72.400002       0   \n 2022-05-24  72.400002  72.400002  72.400002  72.400002  72.400002       0   \n \n              log_ret  log_ret_high  log_ret_low  \n Date                                             \n 2011-12-05       NaN           NaN          NaN  \n 2011-12-06 -0.010695     -0.131402     0.078902  \n 2011-12-07 -0.101783     -0.100643    -0.427444  \n 2011-12-08  0.046520      0.034686     0.336472  \n 2011-12-09 -0.095310      0.022473    -0.048790  \n ...              ...           ...          ...  \n 2022-05-18  0.017367      0.028738     0.035665  \n 2022-05-19  0.038006      0.038894     0.008721  \n 2022-05-20  0.000000     -0.013718     0.046652  \n 2022-05-23  0.000000      0.000000     0.000000  \n 2022-05-24  0.000000      0.000000     0.000000  \n \n [2605 rows x 9 columns],\n 'LENT':              Open   High    Low  Close  Adj Close  Volume\n Date                                                     \n 2022-02-03  900.5  900.5  880.0  888.0      888.0    2073\n 2022-02-04  915.0  915.0  875.0  878.5      878.5    1908\n 2022-02-07  885.5  892.0  861.0  872.5      872.5    2900\n 2022-02-08  875.5  881.5  840.0  870.0      870.0    2736\n 2022-02-09  875.5  894.0  871.0  885.0      885.0    2588\n 2022-02-10  878.5  894.0  878.5  884.5      884.5    4171\n 2022-02-11  889.5  915.5  850.5  880.5      880.5    7817\n 2022-02-14  875.0  879.0  851.5  866.5      866.5    1490\n 2022-02-15  879.0  894.0  865.5  878.5      878.5    3277\n 2022-02-16  878.5  878.5  878.5  878.5      878.5       0\n 2022-02-17  878.5  878.5  878.5  878.5      878.5       0\n 2022-02-18  878.5  878.5  878.5  878.5      878.5       0\n 2022-02-21  878.5  878.5  878.5  878.5      878.5       0\n 2022-02-22  878.5  878.5  878.5  878.5      878.5       0\n 2022-02-24  878.5  878.5  878.5  878.5      878.5       0\n 2022-02-25  878.5  878.5  878.5  878.5      878.5       0\n 2022-03-24  878.5  878.5  878.5  878.5      878.5       0\n 2022-03-25  878.5  878.5  878.5  878.5      878.5       0\n 2022-03-28  878.5  878.5  878.5  878.5      878.5       0\n 2022-03-29  878.5  878.5  878.5  878.5      878.5       0\n 2022-03-30  878.5  878.5  878.5  878.5      878.5       0\n 2022-03-31  878.5  878.5  878.5  878.5      878.5       0\n 2022-04-01  878.5  878.5  878.5  878.5      878.5       0\n 2022-04-04  878.5  878.5  878.5  878.5      878.5       0\n 2022-04-05  878.5  878.5  878.5  878.5      878.5       0\n 2022-04-06  878.5  878.5  878.5  878.5      878.5       0\n 2022-04-07  878.5  878.5  878.5  878.5      878.5       0\n 2022-04-08  878.5  878.5  878.5  878.5      878.5       0\n 2022-04-11  878.5  878.5  878.5  878.5      878.5       0\n 2022-04-12  878.5  878.5  878.5  878.5      878.5       0\n 2022-04-13  878.5  878.5  878.5  878.5      878.5       0\n 2022-04-14  878.5  878.5  878.5  878.5      878.5       0\n 2022-04-15  878.5  878.5  878.5  878.5      878.5       0\n 2022-04-18  878.5  878.5  878.5  878.5      878.5       0\n 2022-04-19  878.5  878.5  878.5  878.5      878.5       0\n 2022-04-20  878.5  878.5  878.5  878.5      878.5       0\n 2022-04-21  878.5  878.5  878.5  878.5      878.5       0\n 2022-04-22  878.5  878.5  878.5  878.5      878.5       0\n 2022-04-25  878.5  878.5  878.5  878.5      878.5       0\n 2022-04-26  878.5  878.5  878.5  878.5      878.5       0\n 2022-04-27  878.5  878.5  878.5  878.5      878.5       0\n 2022-04-28  878.5  878.5  878.5  878.5      878.5       0\n 2022-04-29  878.5  878.5  878.5  878.5      878.5       0\n 2022-05-04  878.5  878.5  878.5  878.5      878.5       0\n 2022-05-05  878.5  878.5  878.5  878.5      878.5       0\n 2022-05-06  878.5  878.5  878.5  878.5      878.5       0\n 2022-05-11  878.5  878.5  878.5  878.5      878.5       0\n 2022-05-12  878.5  878.5  878.5  878.5      878.5       0\n 2022-05-13  878.5  878.5  878.5  878.5      878.5       0\n 2022-05-16  878.5  878.5  878.5  878.5      878.5       0\n 2022-05-17  878.5  878.5  878.5  878.5      878.5       0\n 2022-05-18  878.5  878.5  878.5  878.5      878.5       0\n 2022-05-19  878.5  878.5  878.5  878.5      878.5       0\n 2022-05-20  878.5  878.5  878.5  878.5      878.5       0\n 2022-05-23  878.5  878.5  878.5  878.5      878.5       0\n 2022-05-24  878.5  878.5  878.5  878.5      878.5       0,\n 'LIFE':                  Open       High        Low      Close  Adj Close   Volume   \n Date                                                                         \n 2010-11-25  25.500000  26.500000  23.850000  24.090000  24.090000  2669605  \\\n 2010-11-26  24.090000  24.290001  22.900000  23.959999  23.959999   714477   \n 2010-11-29  24.629999  24.629999  23.510000  23.889999  23.889999   153763   \n 2010-11-30  23.879999  24.090000  23.299999  23.620001  23.620001   147510   \n 2010-12-01  23.629999  23.900000  22.930000  23.100000  23.100000   228291   \n ...               ...        ...        ...        ...        ...      ...   \n 2022-05-18   3.950000   3.995000   3.885000   3.930000   3.930000  1125100   \n 2022-05-19   3.975000   3.975000   3.890000   3.905000   3.905000   406400   \n 2022-05-20   3.905000   3.905000   3.905000   3.905000   3.905000        0   \n 2022-05-23   3.905000   3.905000   3.905000   3.905000   3.905000        0   \n 2022-05-24   3.905000   3.905000   3.905000   3.905000   3.905000        0   \n \n              log_ret  log_ret_high  log_ret_low  \n Date                                             \n 2010-11-25       NaN           NaN          NaN  \n 2010-11-26 -0.005411     -0.087080    -0.040647  \n 2010-11-29 -0.002926      0.013900     0.026289  \n 2010-11-30 -0.011366     -0.022168    -0.008973  \n 2010-12-01 -0.022261     -0.007918    -0.016007  \n ...              ...           ...          ...  \n 2022-05-18 -0.007605     -0.004994     0.000000  \n 2022-05-19 -0.006382     -0.005019     0.001286  \n 2022-05-20  0.000000     -0.017767     0.003849  \n 2022-05-23  0.000000      0.000000     0.000000  \n 2022-05-24  0.000000      0.000000     0.000000  \n \n [2858 rows x 9 columns],\n 'LKOH':                    Open         High         Low        Close    Adj Close   \n Date                                                                         \n 2010-03-03  1616.699951  1637.060059  1596.00000  1624.160034   769.439026  \\\n 2010-03-04  1619.199951  1650.229980  1613.01001  1626.000000   770.310852   \n 2010-03-05  1633.300049  1648.000000  1624.00000  1641.859985   777.824524   \n 2010-03-09  1634.119995  1639.469971  1593.00000  1603.000000   759.414795   \n 2010-03-10  1598.939941  1619.020020  1575.25000  1576.000000   746.623535   \n ...                 ...          ...         ...          ...          ...   \n 2022-05-18  4520.000000  4565.000000  4480.00000  4483.500000  4483.500000   \n 2022-05-19  4483.500000  4509.500000  4381.50000  4415.500000  4415.500000   \n 2022-05-20  4415.500000  4415.500000  4415.50000  4415.500000  4415.500000   \n 2022-05-23  4415.500000  4415.500000  4415.50000  4415.500000  4415.500000   \n 2022-05-24  4415.500000  4415.500000  4415.50000  4415.500000  4415.500000   \n \n              Volume   log_ret  log_ret_high  log_ret_low  \n Date                                                      \n 2010-03-03   853228       NaN           NaN          NaN  \n 2010-03-04   881120  0.001132      0.008013     0.010602  \n 2010-03-05   853667  0.009707     -0.001352     0.006790  \n 2010-03-09   916764 -0.023953     -0.005189    -0.019273  \n 2010-03-10  1333904 -0.016987     -0.012552    -0.011205  \n ...             ...       ...           ...          ...  \n 2022-05-18   273956 -0.003673     -0.005244     0.018019  \n 2022-05-19   229822 -0.015283     -0.012232    -0.022232  \n 2022-05-20        0  0.000000     -0.021065     0.007730  \n 2022-05-23        0  0.000000      0.000000     0.000000  \n 2022-05-24        0  0.000000      0.000000     0.000000  \n \n [3043 rows x 9 columns],\n 'LNZL':                     Open          High           Low         Close   \n Date                                                                 \n 2010-03-03    948.400024    948.409973    948.400024    948.400024  \\\n 2010-03-04    948.400024    948.400024    948.400024    948.400024   \n 2010-03-05    945.000000    945.000000    945.000000    945.000000   \n 2010-03-09    945.000000    945.000000    945.000000    945.000000   \n 2010-03-10    945.000000    945.000000    945.000000    945.000000   \n ...                  ...           ...           ...           ...   \n 2022-05-18  10220.000000  10230.000000  10050.000000  10170.000000   \n 2022-05-19  10120.000000  10120.000000   9780.000000  10060.000000   \n 2022-05-20  10060.000000  10060.000000  10060.000000  10060.000000   \n 2022-05-23  10060.000000  10060.000000  10060.000000  10060.000000   \n 2022-05-24  10060.000000  10060.000000  10060.000000  10060.000000   \n \n                Adj Close  Volume   log_ret  log_ret_high  log_ret_low  \n Date                                                                   \n 2010-03-03    101.430641      37       NaN           NaN          NaN  \n 2010-03-04    101.430641       0  0.000000     -0.000010     0.000000  \n 2010-03-05    101.067024       9 -0.003591     -0.003591    -0.003591  \n 2010-03-09    101.067024      12  0.000000      0.000000     0.000000  \n 2010-03-10    101.067024      10  0.000000      0.000000     0.000000  \n ...                  ...     ...       ...           ...          ...  \n 2022-05-18  10170.000000     386  0.000984     -0.009728     0.003988  \n 2022-05-19  10060.000000     684 -0.010875     -0.010811    -0.027233  \n 2022-05-20  10060.000000       0  0.000000     -0.005946     0.028228  \n 2022-05-23  10060.000000       0  0.000000      0.000000     0.000000  \n 2022-05-24  10060.000000       0  0.000000      0.000000     0.000000  \n \n [3043 rows x 9 columns],\n 'LPSB':              Open   High    Low  Close  Adj Close  Volume   log_ret   \n Date                                                                  \n 2010-03-03  2.419  2.700  2.371  2.700   2.190764       3       NaN  \\\n 2010-03-04  2.450  2.642  2.152  2.634   2.137212     199 -0.024748   \n 2010-03-05  2.634  2.689  2.634  2.678   2.172913      89  0.016567   \n 2010-03-09  2.699  2.700  2.699  2.700   2.190764     265  0.008182   \n 2010-03-10  2.700  2.700  2.700  2.700   2.190764       0  0.000000   \n ...           ...    ...    ...    ...        ...     ...       ...   \n 2022-05-18  8.600  8.700  8.500  8.600   8.600000   14200  0.005831   \n 2022-05-19  8.600  8.800  8.550  8.650   8.650000   14800  0.005797   \n 2022-05-20  8.650  8.650  8.650  8.650   8.650000       0  0.000000   \n 2022-05-23  8.650  8.650  8.650  8.650   8.650000       0  0.000000   \n 2022-05-24  8.650  8.650  8.650  8.650   8.650000       0  0.000000   \n \n             log_ret_high  log_ret_low  \n Date                                   \n 2010-03-03           NaN          NaN  \n 2010-03-04     -0.021716    -0.096914  \n 2010-03-05      0.017633     0.202106  \n 2010-03-09      0.004082     0.024378  \n 2010-03-10      0.000000     0.000371  \n ...                  ...          ...  \n 2022-05-18      0.000000     0.000000  \n 2022-05-19      0.011429     0.005865  \n 2022-05-20     -0.017192     0.011628  \n 2022-05-23      0.000000     0.000000  \n 2022-05-24      0.000000     0.000000  \n \n [3043 rows x 9 columns],\n 'LSNG':                  Open       High        Low      Close  Adj Close  Volume   \n Date                                                                        \n 2010-03-03  29.250000  29.799999  29.200001  29.799999  24.380621     259  \\\n 2010-03-04  29.700001  30.299999  29.600000  29.605000  24.221085     217   \n 2010-03-05  29.500999  30.500000  29.500000  30.499001  24.952503     134   \n 2010-03-09  30.500000  30.600000  30.000000  30.000000  24.544249     205   \n 2010-03-10  30.400000  30.700001  30.049999  30.350000  24.830601     119   \n ...               ...        ...        ...        ...        ...     ...   \n 2022-05-18   8.270000   8.330000   8.000000   8.100000   8.100000  707700   \n 2022-05-19   7.400000   8.090000   7.400000   7.930000   7.930000  514700   \n 2022-05-20   7.930000   7.930000   7.930000   7.930000   7.930000       0   \n 2022-05-23   7.930000   7.930000   7.930000   7.930000   7.930000       0   \n 2022-05-24   7.930000   7.930000   7.930000   7.930000   7.930000       0   \n \n              log_ret  log_ret_high  log_ret_low  \n Date                                             \n 2010-03-03       NaN           NaN          NaN  \n 2010-03-04 -0.006565      0.016639     0.013606  \n 2010-03-05  0.029751      0.006579    -0.003384  \n 2010-03-09 -0.016497      0.003273     0.016807  \n 2010-03-10  0.011599      0.003263     0.001665  \n ...              ...           ...          ...  \n 2022-05-18 -0.018349     -0.008368     0.016383  \n 2022-05-19 -0.021211     -0.029235    -0.077962  \n 2022-05-20  0.000000     -0.019976     0.069173  \n 2022-05-23  0.000000      0.000000     0.000000  \n 2022-05-24  0.000000      0.000000     0.000000  \n \n [3043 rows x 9 columns],\n 'LSRG':                   Open        High         Low       Close   Adj Close   \n Date                                                                     \n 2010-03-03  900.039978  933.000000  892.039978  926.500000  404.555054  \\\n 2010-03-04  912.030029  932.900024  912.030029  927.950012  405.188202   \n 2010-03-05  929.630005  944.000000  909.539978  944.000000  412.196442   \n 2010-03-09  930.000000  930.000000  910.059998  925.000000  403.900116   \n 2010-03-10  924.460022  928.000000  910.650024  920.320007  401.856537   \n ...                ...         ...         ...         ...         ...   \n 2022-05-18  502.000000  509.799988  499.000000  502.200012  502.200012   \n 2022-05-19  503.200012  508.200012  498.000000  499.200012  499.200012   \n 2022-05-20  499.200012  499.200012  499.200012  499.200012  499.200012   \n 2022-05-23  499.200012  499.200012  499.200012  499.200012  499.200012   \n 2022-05-24  499.200012  499.200012  499.200012  499.200012  499.200012   \n \n             Volume   log_ret  log_ret_high  log_ret_low  \n Date                                                     \n 2010-03-03    5791       NaN           NaN          NaN  \n 2010-03-04    1707  0.001564     -0.000107     0.022162  \n 2010-03-05    6963  0.017148      0.011828    -0.002734  \n 2010-03-09    1768 -0.020332     -0.014942     0.000572  \n 2010-03-10    1660 -0.005072     -0.002153     0.000648  \n ...            ...       ...           ...          ...  \n 2022-05-18   31958  0.012019      0.018611     0.013721  \n 2022-05-19   18505 -0.005992     -0.003143    -0.002006  \n 2022-05-20       0  0.000000     -0.017868     0.002407  \n 2022-05-23       0  0.000000      0.000000     0.000000  \n 2022-05-24       0  0.000000      0.000000     0.000000  \n \n [3043 rows x 9 columns],\n 'LVHK':              Open   High    Low  Close  Adj Close  Volume   log_ret   \n Date                                                                  \n 2012-12-06  14.00  14.01  14.00  14.00  13.281973      23       NaN  \\\n 2012-12-07  14.00  14.04  14.00  14.04  13.319922      10  0.002853   \n 2012-12-10  14.05  15.40  14.05  14.57  13.822738     345  0.037054   \n 2012-12-11  14.60  14.60  14.57  14.57  13.822738       4  0.000000   \n 2012-12-12  14.65  14.68  14.57  14.68  13.927097    5500  0.007521   \n ...           ...    ...    ...    ...        ...     ...       ...   \n 2022-05-18  13.00  13.03  12.70  12.96  12.960000   35300 -0.003082   \n 2022-05-19  13.08  13.08  12.70  12.85  12.850000    9100 -0.008524   \n 2022-05-20  12.85  12.85  12.85  12.85  12.850000       0  0.000000   \n 2022-05-23  12.85  12.85  12.85  12.85  12.850000       0  0.000000   \n 2022-05-24  12.85  12.85  12.85  12.85  12.850000       0  0.000000   \n \n             log_ret_high  log_ret_low  \n Date                                   \n 2012-12-06           NaN          NaN  \n 2012-12-07      0.002139     0.000000  \n 2012-12-10      0.092457     0.003565  \n 2012-12-11     -0.053346     0.036342  \n 2012-12-12      0.005464     0.000000  \n ...                  ...          ...  \n 2022-05-18      0.002305     0.027946  \n 2022-05-19      0.003830     0.000000  \n 2022-05-20     -0.017740     0.011742  \n 2022-05-23      0.000000     0.000000  \n 2022-05-24      0.000000     0.000000  \n \n [2353 rows x 9 columns],\n 'MAGE':              Open   High    Low  Close  Adj Close  Volume   log_ret   \n Date                                                                  \n 2010-11-16  2.744  2.744  2.744  2.744      2.744   14644       NaN  \\\n 2010-11-17  3.750  3.842  2.990  3.200      3.200  543708  0.153734   \n 2010-11-18  3.420  3.753  2.820  2.950      2.950  264002 -0.081346   \n 2010-11-19  2.950  2.950  2.603  2.707      2.707  579300 -0.085964   \n 2010-11-22  2.947  2.950  2.816  2.900      2.900  245607  0.068870   \n ...           ...    ...    ...    ...        ...     ...       ...   \n 2022-05-18  5.750  5.850  5.610  5.680      5.680   11700 -0.003515   \n 2022-05-19  5.630  6.050  5.620  5.880      5.880   82500  0.034606   \n 2022-05-20  5.880  5.880  5.880  5.880      5.880       0  0.000000   \n 2022-05-23  5.880  5.880  5.880  5.880      5.880       0  0.000000   \n 2022-05-24  5.880  5.880  5.880  5.880      5.880       0  0.000000   \n \n             log_ret_high  log_ret_low  \n Date                                   \n 2010-11-16           NaN          NaN  \n 2010-11-17      0.336576     0.085857  \n 2010-11-18     -0.023438    -0.058537  \n 2010-11-19     -0.240750    -0.080072  \n 2010-11-22      0.000000     0.078653  \n ...                  ...          ...  \n 2022-05-18     -0.006814     0.005362  \n 2022-05-19      0.033617     0.001781  \n 2022-05-20     -0.028502     0.045225  \n 2022-05-23      0.000000     0.000000  \n 2022-05-24      0.000000     0.000000  \n \n [2865 rows x 9 columns],\n 'MAGN':                  Open       High        Low      Close  Adj Close   Volume   \n Date                                                                         \n 2010-03-03  30.551001  30.551001  29.502001  29.952000  14.498195    11219  \\\n 2010-03-04  29.900000  30.295000  29.504000  30.000000  14.521430     5828   \n 2010-03-05  30.297001  30.297001  29.761999  29.961000  14.502555     4753   \n 2010-03-09  30.000000  30.049999  29.350000  29.590000  14.322976     4364   \n 2010-03-10  28.850000  29.980000  28.850000  29.586000  14.321038     9817   \n ...               ...        ...        ...        ...        ...      ...   \n 2022-05-18  44.810001  45.869999  44.805000  45.750000  45.750000  8345890   \n 2022-05-19  45.750000  45.750000  44.880001  45.005001  45.005001  4097460   \n 2022-05-20  45.005001  45.005001  45.005001  45.005001  45.005001        0   \n 2022-05-23  45.005001  45.005001  45.005001  45.005001  45.005001        0   \n 2022-05-24  45.005001  45.005001  45.005001  45.005001  45.005001        0   \n \n              log_ret  log_ret_high  log_ret_low  \n Date                                             \n 2010-03-03       NaN           NaN          NaN  \n 2010-03-04  0.001601     -0.008415     0.000068  \n 2010-03-05 -0.001301      0.000066     0.008707  \n 2010-03-09 -0.012460     -0.008186    -0.013940  \n 2010-03-10 -0.000135     -0.002332    -0.017183  \n ...              ...           ...          ...  \n 2022-05-18  0.023218      0.023826     0.028295  \n 2022-05-19 -0.016418     -0.002619     0.001673  \n 2022-05-20  0.000000     -0.016418     0.002781  \n 2022-05-23  0.000000      0.000000     0.000000  \n 2022-05-24  0.000000      0.000000     0.000000  \n \n [3043 rows x 9 columns],\n 'MFGS':                   Open   High         Low  Close   Adj Close  Volume   \n Date                                                                   \n 2011-11-24  500.000000  500.0  500.000000  500.0  339.103760      10  \\\n 2011-11-25  500.000000  500.0  500.000000  500.0  339.103760       0   \n 2011-11-28  500.000000  500.0  500.000000  500.0  339.103760       0   \n 2011-11-29  502.899994  508.0  499.700012  505.0  342.494781    9340   \n 2011-11-30  495.000000  524.0  495.000000  511.0  346.564026   14100   \n ...                ...    ...         ...    ...         ...     ...   \n 2022-05-18  301.000000  302.0  290.000000  296.0  296.000000     650   \n 2022-05-19  292.500000  292.5  292.500000  292.5  292.500000      10   \n 2022-05-20  292.500000  292.5  292.500000  292.5  292.500000       0   \n 2022-05-23  292.500000  292.5  292.500000  292.5  292.500000       0   \n 2022-05-24  292.500000  292.5  292.500000  292.5  292.500000       0   \n \n              log_ret  log_ret_high  log_ret_low  \n Date                                             \n 2011-11-24       NaN           NaN          NaN  \n 2011-11-25  0.000000      0.000000     0.000000  \n 2011-11-28  0.000000      0.000000     0.000000  \n 2011-11-29  0.009950      0.015873    -0.000600  \n 2011-11-30  0.011811      0.031010    -0.009450  \n ...              ...           ...          ...  \n 2022-05-18 -0.016751     -0.006601     0.015639  \n 2022-05-19 -0.011895     -0.031962     0.008584  \n 2022-05-20  0.000000      0.000000     0.000000  \n 2022-05-23  0.000000      0.000000     0.000000  \n 2022-05-24  0.000000      0.000000     0.000000  \n \n [2612 rows x 9 columns],\n 'MGNT':                    Open         High          Low        Close    Adj Close   \n Date                                                                          \n 2010-03-03  2004.423706  2097.754639  1976.475098  2094.645752  1219.602295  \\\n 2010-03-04  2085.717041  2129.844727  2064.661133  2100.614990  1223.077881   \n 2010-03-05  2108.560547  2151.129150  2095.648926  2145.308838  1249.101074   \n 2010-03-09  2088.199951  2167.159180  2088.199951  2167.159180  1261.822876   \n 2010-03-10  2134.055908  2180.070801  2132.486816  2165.172852  1260.666504   \n ...                 ...          ...          ...          ...          ...   \n 2022-05-18  4855.000000  4923.500000  4833.000000  4890.000000  4890.000000   \n 2022-05-19  4895.000000  4904.500000  4792.000000  4885.000000  4885.000000   \n 2022-05-20  4885.000000  4885.000000  4885.000000  4885.000000  4885.000000   \n 2022-05-23  4885.000000  4885.000000  4885.000000  4885.000000  4885.000000   \n 2022-05-24  4885.000000  4885.000000  4885.000000  4885.000000  4885.000000   \n \n             Volume   log_ret  log_ret_high  log_ret_low  \n Date                                                     \n 2010-03-03   55096       NaN           NaN          NaN  \n 2010-03-04   36740  0.002846      0.015182     0.043651  \n 2010-03-05    2640  0.021053      0.009944     0.014897  \n 2010-03-09    8898  0.010134      0.007424    -0.003561  \n 2010-03-10    5527 -0.000917      0.005940     0.020986  \n ...            ...       ...           ...          ...  \n 2022-05-18   70897  0.012656      0.009900     0.008833  \n 2022-05-19  101366 -0.001023     -0.003867    -0.008520  \n 2022-05-20       0  0.000000     -0.003984     0.019221  \n 2022-05-23       0  0.000000      0.000000     0.000000  \n 2022-05-24       0  0.000000      0.000000     0.000000  \n \n [3043 rows x 9 columns],\n 'MGNZ':                Open     High      Low    Close     Adj Close  Volume   \n Date                                                                   \n 2011-02-17    704.0   1600.0    704.0   1600.0   1186.857422      34  \\\n 2011-02-18   1600.0   1600.0   1600.0   1600.0   1186.857422       0   \n 2011-02-21   1600.0   1600.0   1600.0   1600.0   1186.857422       0   \n 2011-02-22   1600.0   1600.0   1600.0   1600.0   1186.857422       0   \n 2011-02-24   1600.0   1600.0   1600.0   1600.0   1186.857422       0   \n ...             ...      ...      ...      ...           ...     ...   \n 2022-05-18  11950.0  12600.0  11400.0  11590.0  11590.000000     294   \n 2022-05-19  11800.0  11840.0  11200.0  11410.0  11410.000000      62   \n 2022-05-20  11410.0  11410.0  11410.0  11410.0  11410.000000       0   \n 2022-05-23  11410.0  11410.0  11410.0  11410.0  11410.000000       0   \n 2022-05-24  11410.0  11410.0  11410.0  11410.0  11410.000000       0   \n \n              log_ret  log_ret_high  log_ret_low  \n Date                                             \n 2011-02-17       NaN           NaN          NaN  \n 2011-02-18  0.000000      0.000000     0.820981  \n 2011-02-21  0.000000      0.000000     0.000000  \n 2011-02-22  0.000000      0.000000     0.000000  \n 2011-02-24  0.000000      0.000000     0.000000  \n ...              ...           ...          ...  \n 2022-05-18 -0.025555      0.041318     0.050370  \n 2022-05-19 -0.015652     -0.062213    -0.017700  \n 2022-05-20  0.000000     -0.036993     0.018576  \n 2022-05-23  0.000000      0.000000     0.000000  \n 2022-05-24  0.000000      0.000000     0.000000  \n \n [2805 rows x 9 columns],\n 'MGTS':                    Open         High          Low        Close    Adj Close   \n Date                                                                          \n 2011-11-24   489.910004   489.920013   489.910004   489.920013   243.928101  \\\n 2011-11-25   489.920013   489.920013   489.920013   489.920013   243.928101   \n 2011-11-28   489.920013   489.920013   489.920013   489.920013   243.928101   \n 2011-11-29   489.920013   489.920013   489.920013   489.920013   243.928101   \n 2011-11-30   452.119995   469.019989   452.119995   469.019989   233.522125   \n ...                 ...          ...          ...          ...          ...   \n 2022-05-18  1690.000000  1700.000000  1655.000000  1690.000000  1690.000000   \n 2022-05-19  1675.000000  1690.000000  1655.000000  1660.000000  1660.000000   \n 2022-05-20  1660.000000  1660.000000  1660.000000  1660.000000  1660.000000   \n 2022-05-23  1660.000000  1660.000000  1660.000000  1660.000000  1660.000000   \n 2022-05-24  1660.000000  1660.000000  1660.000000  1660.000000  1660.000000   \n \n             Volume   log_ret  log_ret_high  log_ret_low  \n Date                                                     \n 2011-11-24      50       NaN           NaN          NaN  \n 2011-11-25       0  0.000000      0.000000     0.000020  \n 2011-11-28       0  0.000000      0.000000     0.000000  \n 2011-11-29       0  0.000000      0.000000     0.000000  \n 2011-11-30      30 -0.043597     -0.043597    -0.080295  \n ...            ...       ...           ...          ...  \n 2022-05-18     111 -0.002954     -0.034686    -0.020928  \n 2022-05-19      22 -0.017911     -0.005900     0.000000  \n 2022-05-20       0  0.000000     -0.017911     0.003017  \n 2022-05-23       0  0.000000      0.000000     0.000000  \n 2022-05-24       0  0.000000      0.000000     0.000000  \n \n [2612 rows x 9 columns],\n 'MISB':               Open  High     Low   Close  Adj Close  Volume   log_ret   \n Date                                                                    \n 2011-11-29   5.600   5.6   5.600   5.600   2.602993    2000       NaN  \\\n 2011-11-30   4.500   5.0   4.500   5.000   2.324101    5000 -0.113329   \n 2011-12-01   5.000   5.0   4.505   5.000   2.324101       5  0.000000   \n 2011-12-02   5.600   5.9   4.505   5.897   2.741045   15000  0.165006   \n 2011-12-05   4.528   5.0   4.527   4.527   2.104241    4000 -0.264384   \n ...            ...   ...     ...     ...        ...     ...       ...   \n 2022-05-18  13.100  14.5  12.900  14.300  14.300000   58300  0.072496   \n 2022-05-19  14.000  16.0  13.800  15.100  15.100000  381000  0.054435   \n 2022-05-20  15.100  15.1  15.100  15.100  15.100000       0  0.000000   \n 2022-05-23  15.100  15.1  15.100  15.100  15.100000       0  0.000000   \n 2022-05-24  15.100  15.1  15.100  15.100  15.100000       0  0.000000   \n \n             log_ret_high  log_ret_low  \n Date                                   \n 2011-11-29           NaN          NaN  \n 2011-11-30     -0.113329    -0.218689  \n 2011-12-01      0.000000     0.001111  \n 2011-12-02      0.165514     0.000000  \n 2011-12-05     -0.165514     0.004872  \n ...                  ...          ...  \n 2022-05-18      0.078894    -0.015385  \n 2022-05-19      0.098440     0.067441  \n 2022-05-20     -0.057894     0.090026  \n 2022-05-23      0.000000     0.000000  \n 2022-05-24      0.000000     0.000000  \n \n [2609 rows x 9 columns],\n 'MOEX':                  Open       High        Low      Close  Adj Close   Volume   \n Date                                                                         \n 2013-02-15  58.150002  58.150002  51.230000  55.000000  32.539524  6082550  \\\n 2013-02-18  55.000000  56.599998  54.180000  56.020000  33.142986  2767350   \n 2013-02-19  56.540001  56.599998  55.950001  56.000000  33.131145  1761630   \n 2013-02-20  56.299999  56.500000  54.980000  55.400002  32.776176  1438600   \n 2013-02-21  54.990002  55.389999  54.410000  54.700001  32.362034    47963   \n ...               ...        ...        ...        ...        ...      ...   \n 2022-05-18  91.169998  94.400002  91.000000  91.070000  91.070000  2650160   \n 2022-05-19  91.199997  91.949997  89.220001  90.139999  90.139999  1476160   \n 2022-05-20  90.139999  90.139999  90.139999  90.139999  90.139999        0   \n 2022-05-23  90.139999  90.139999  90.139999  90.139999  90.139999        0   \n 2022-05-24  90.139999  90.139999  90.139999  90.139999  90.139999        0   \n \n              log_ret  log_ret_high  log_ret_low  \n Date                                             \n 2013-02-15       NaN           NaN          NaN  \n 2013-02-18  0.018376     -0.027017     0.055987  \n 2013-02-19 -0.000357      0.000000     0.032147  \n 2013-02-20 -0.010772     -0.001768    -0.017489  \n 2013-02-21 -0.012716     -0.019842    -0.010422  \n ...              ...           ...          ...  \n 2022-05-18  0.000000      0.034486     0.029667  \n 2022-05-19 -0.010264     -0.026296    -0.019754  \n 2022-05-20  0.000000     -0.019881     0.010259  \n 2022-05-23  0.000000      0.000000     0.000000  \n 2022-05-24  0.000000      0.000000     0.000000  \n \n [2308 rows x 9 columns],\n 'MRKC':               Open    High     Low   Close  Adj Close     Volume   log_ret   \n Date                                                                         \n 2010-03-03  0.8460  1.0070  0.8360  0.9920   0.509362    1165210       NaN  \\\n 2010-03-04  0.9850  1.1180  0.9290  0.9940   0.510388     965038  0.002014   \n 2010-03-05  1.0480  1.0480  0.9670  0.9790   0.502686     299737 -0.015206   \n 2010-03-09  0.9760  1.0200  0.9480  1.0050   0.516037     187642  0.026211   \n 2010-03-10  1.0060  1.0180  0.9820  1.0020   0.514496     153330 -0.002990   \n ...            ...     ...     ...     ...        ...        ...       ...   \n 2022-05-18  0.3050  0.3080  0.2970  0.3022   0.302200   58969000 -0.002644   \n 2022-05-19  0.3058  0.3094  0.2902  0.3094   0.309400  104811000  0.023546   \n 2022-05-20  0.3094  0.3094  0.3094  0.3094   0.309400          0  0.000000   \n 2022-05-23  0.3094  0.3094  0.3094  0.3094   0.309400          0  0.000000   \n 2022-05-24  0.3094  0.3094  0.3094  0.3094   0.309400          0  0.000000   \n \n             log_ret_high  log_ret_low  \n Date                                   \n 2010-03-03           NaN          NaN  \n 2010-03-04      0.104566     0.105480  \n 2010-03-05     -0.064658     0.040090  \n 2010-03-09     -0.027081    -0.019844  \n 2010-03-10     -0.001963     0.035237  \n ...                  ...          ...  \n 2022-05-18     -0.019293    -0.002690  \n 2022-05-19      0.004535    -0.023162  \n 2022-05-20      0.000000     0.064065  \n 2022-05-23      0.000000     0.000000  \n 2022-05-24      0.000000     0.000000  \n \n [3043 rows x 9 columns],\n 'MRKK':                   Open        High         Low       Close   Adj Close   \n Date                                                                     \n 2010-03-03  153.839844  163.160934  153.329453  161.395447  127.279144  \\\n 2010-03-04  161.487488  162.324219  157.136536  160.885056  126.876633   \n 2010-03-05  159.604858  161.470764  157.370819  158.717941  125.167610   \n 2010-03-09  161.069138  161.069138  156.483887  157.931427  124.547356   \n 2010-03-10  158.140594  159.086090  155.655533  157.789185  124.435181   \n ...                ...         ...         ...         ...         ...   \n 2022-05-18   19.620001   19.620001   19.040001   19.340000   19.340000   \n 2022-05-19   19.340000   19.840000   19.120001   19.340000   19.340000   \n 2022-05-20   19.340000   19.340000   19.340000   19.340000   19.340000   \n 2022-05-23   19.340000   19.340000   19.340000   19.340000   19.340000   \n 2022-05-24   19.340000   19.340000   19.340000   19.340000   19.340000   \n \n             Volume   log_ret  log_ret_high  log_ret_low  \n Date                                                     \n 2010-03-03   75579       NaN           NaN          NaN  \n 2010-03-04   83332 -0.003167     -0.005141     0.024526  \n 2010-03-05   37458 -0.013561     -0.005272     0.001490  \n 2010-03-09   37600 -0.004968     -0.002490    -0.005652  \n 2010-03-10   35188 -0.000901     -0.012388    -0.005308  \n ...            ...       ...           ...          ...  \n 2022-05-18    6710 -0.013354      0.000000    -0.007326  \n 2022-05-19    6330  0.000000      0.011151     0.004193  \n 2022-05-20       0  0.000000     -0.025525     0.011441  \n 2022-05-23       0  0.000000      0.000000     0.000000  \n 2022-05-24       0  0.000000      0.000000     0.000000  \n \n [3043 rows x 9 columns],\n 'MRKP':               Open    High     Low   Close  Adj Close     Volume   log_ret   \n Date                                                                         \n 2010-03-03  0.2400  0.2400  0.2120  0.2360   0.105603     349420       NaN  \\\n 2010-03-04  0.2300  0.2570  0.2280  0.2460   0.110078    1335252  0.041500   \n 2010-03-05  0.2500  0.2550  0.2450  0.2490   0.111420     845303  0.012121   \n 2010-03-09  0.2530  0.2530  0.2330  0.2470   0.110526     289976 -0.008065   \n 2010-03-10  0.2420  0.2480  0.2330  0.2420   0.108288     121564 -0.020451   \n ...            ...     ...     ...     ...        ...        ...       ...   \n 2022-05-18  0.1995  0.2022  0.1972  0.1976   0.197600  194460000 -0.018055   \n 2022-05-19  0.2020  0.2100  0.1901  0.2049   0.204900  174210000  0.036277   \n 2022-05-20  0.2049  0.2049  0.2049  0.2049   0.204900          0  0.000000   \n 2022-05-23  0.2049  0.2049  0.2049  0.2049   0.204900          0  0.000000   \n 2022-05-24  0.2049  0.2049  0.2049  0.2049   0.204900          0  0.000000   \n \n             log_ret_high  log_ret_low  \n Date                                   \n 2010-03-03           NaN          NaN  \n 2010-03-04      0.068437     0.072759  \n 2010-03-05     -0.007813     0.071913  \n 2010-03-09     -0.007874    -0.050220  \n 2010-03-10     -0.019961     0.000000  \n ...                  ...          ...  \n 2022-05-18     -0.030682     0.001015  \n 2022-05-19      0.037850    -0.036668  \n 2022-05-20     -0.024585     0.074972  \n 2022-05-23      0.000000     0.000000  \n 2022-05-24      0.000000     0.000000  \n \n [3043 rows x 9 columns],\n 'MRKS':               Open    High     Low   Close  Adj Close   Volume   log_ret   \n Date                                                                       \n 2010-03-03  0.3530  0.3600  0.3360  0.3600   0.328888    44232       NaN  \\\n 2010-03-04  0.3620  0.3650  0.3470  0.3550   0.324320    61050 -0.013986   \n 2010-03-05  0.3550  0.3630  0.3520  0.3600   0.328888    25750  0.013986   \n 2010-03-09  0.3560  0.3630  0.3460  0.3500   0.319752    99038 -0.028171   \n 2010-03-10  0.3500  0.3720  0.3460  0.3720   0.339851    55032  0.060961   \n ...            ...     ...     ...     ...        ...      ...       ...   \n 2022-05-18  0.3005  0.3020  0.2965  0.3005   0.300500  2950000  0.011716   \n 2022-05-19  0.3005  0.3025  0.2940  0.2960   0.296000  5460000 -0.015088   \n 2022-05-20  0.2960  0.2960  0.2960  0.2960   0.296000        0  0.000000   \n 2022-05-23  0.2960  0.2960  0.2960  0.2960   0.296000        0  0.000000   \n 2022-05-24  0.2960  0.2960  0.2960  0.2960   0.296000        0  0.000000   \n \n             log_ret_high  log_ret_low  \n Date                                   \n 2010-03-03           NaN          NaN  \n 2010-03-04      0.013793     0.032214  \n 2010-03-05     -0.005495     0.014306  \n 2010-03-09      0.000000    -0.017192  \n 2010-03-10      0.024491     0.000000  \n ...                  ...          ...  \n 2022-05-18     -0.022914     0.020444  \n 2022-05-19      0.001654    -0.008467  \n 2022-05-20     -0.021722     0.006780  \n 2022-05-23      0.000000     0.000000  \n 2022-05-24      0.000000     0.000000  \n \n [3043 rows x 9 columns],\n 'MRKU':               Open    High     Low   Close  Adj Close    Volume   log_ret   \n Date                                                                        \n 2010-03-03  0.2900  0.3090  0.2880  0.3060   0.190989     72584       NaN  \\\n 2010-03-04  0.3040  0.3340  0.2990  0.3110   0.194109    583275  0.016208   \n 2010-03-05  0.3110  0.3280  0.3100  0.3150   0.196606     71864  0.012780   \n 2010-03-09  0.3200  0.3200  0.2950  0.3070   0.191613     85304 -0.025725   \n 2010-03-10  0.3100  0.3100  0.2900  0.2980   0.185995     59653 -0.029754   \n ...            ...     ...     ...     ...        ...       ...       ...   \n 2022-05-18  0.1822  0.1848  0.1780  0.1802   0.180200  56730000  0.000000   \n 2022-05-19  0.1832  0.1832  0.1782  0.1796   0.179600  14100000 -0.003335   \n 2022-05-20  0.1796  0.1796  0.1796  0.1796   0.179600         0  0.000000   \n 2022-05-23  0.1796  0.1796  0.1796  0.1796   0.179600         0  0.000000   \n 2022-05-24  0.1796  0.1796  0.1796  0.1796   0.179600         0  0.000000   \n \n             log_ret_high  log_ret_low  \n Date                                   \n 2010-03-03           NaN          NaN  \n 2010-03-04      0.077800     0.037483  \n 2010-03-05     -0.018127     0.036129  \n 2010-03-09     -0.024693    -0.049597  \n 2010-03-10     -0.031749    -0.017094  \n ...                  ...          ...  \n 2022-05-18     -0.005397     0.001124  \n 2022-05-19     -0.008696     0.001123  \n 2022-05-20     -0.019846     0.007826  \n 2022-05-23      0.000000     0.000000  \n 2022-05-24      0.000000     0.000000  \n \n [3043 rows x 9 columns],\n 'MRKV':                Open     High      Low    Close  Adj Close     Volume   \n Date                                                                   \n 2010-03-03  0.13400  0.13400  0.11700  0.12700   0.074742      60588  \\\n 2010-03-04  0.12700  0.13900  0.12200  0.13000   0.076508     506643   \n 2010-03-05  0.13000  0.13800  0.13000  0.13500   0.079451     327082   \n 2010-03-09  0.13600  0.13600  0.12900  0.13400   0.078862      94190   \n 2010-03-10  0.13400  0.13500  0.13000  0.13100   0.077096      81699   \n ...             ...      ...      ...      ...        ...        ...   \n 2022-05-18  0.03155  0.03260  0.03120  0.03190   0.031900  212540000   \n 2022-05-19  0.03295  0.03295  0.03085  0.03195   0.031950  123480000   \n 2022-05-20  0.03195  0.03195  0.03195  0.03195   0.031950          0   \n 2022-05-23  0.03195  0.03195  0.03195  0.03195   0.031950          0   \n 2022-05-24  0.03195  0.03195  0.03195  0.03195   0.031950          0   \n \n              log_ret  log_ret_high  log_ret_low  \n Date                                             \n 2010-03-03       NaN           NaN          NaN  \n 2010-03-04  0.023347      0.036634     0.041847  \n 2010-03-05  0.037740     -0.007220     0.063513  \n 2010-03-09 -0.007435     -0.014599    -0.007722  \n 2010-03-10 -0.022643     -0.007380     0.007722  \n ...              ...           ...          ...  \n 2022-05-18  0.011032      0.000000     0.004819  \n 2022-05-19  0.001566      0.010679    -0.011281  \n 2022-05-20  0.000000     -0.030819     0.035035  \n 2022-05-23  0.000000      0.000000     0.000000  \n 2022-05-24  0.000000      0.000000     0.000000  \n \n [3043 rows x 9 columns],\n 'MRKY':                Open     High      Low    Close  Adj Close     Volume   \n Date                                                                   \n 2011-11-21  0.08500  0.08500  0.08300  0.08500   0.065547   16480000  \\\n 2011-11-22  0.08400  0.08600  0.08200  0.08500   0.065547   18620000   \n 2011-11-23  0.08400  0.08400  0.08300  0.08400   0.064776    5240000   \n 2011-11-24  0.08400  0.08400  0.08300  0.08400   0.064776    6570000   \n 2011-11-25  0.08300  0.08400  0.08100  0.08300   0.064005    7200000   \n ...             ...      ...      ...      ...        ...        ...   \n 2022-05-18  0.03785  0.04500  0.03730  0.03900   0.039000  119990000   \n 2022-05-19  0.03910  0.03955  0.03800  0.03855   0.038550    7950000   \n 2022-05-20  0.03855  0.03855  0.03855  0.03855   0.038550          0   \n 2022-05-23  0.03855  0.03855  0.03855  0.03855   0.038550          0   \n 2022-05-24  0.03855  0.03855  0.03855  0.03855   0.038550          0   \n \n              log_ret  log_ret_high  log_ret_low  \n Date                                             \n 2011-11-21       NaN           NaN          NaN  \n 2011-11-22  0.000000      0.011696    -0.012121  \n 2011-11-23 -0.011834     -0.023531     0.012121  \n 2011-11-24  0.000000      0.000000     0.000000  \n 2011-11-25 -0.011976      0.000000    -0.024391  \n ...              ...           ...          ...  \n 2022-05-18  0.053996      0.173032     0.027176  \n 2022-05-19 -0.011606     -0.129097     0.018593  \n 2022-05-20  0.000000     -0.025610     0.014370  \n 2022-05-23  0.000000      0.000000     0.000000  \n 2022-05-24  0.000000      0.000000     0.000000  \n \n [2615 rows x 9 columns],\n 'MRKZ':                Open     High      Low   Close  Adj Close     Volume   log_ret   \n Date                                                                            \n 2010-03-03  0.26500  0.27300  0.25000  0.2620   0.198535      94345       NaN  \\\n 2010-03-04  0.26400  0.28200  0.25500  0.2750   0.208386     422411  0.048427   \n 2010-03-05  0.27500  0.28200  0.27100  0.2800   0.212175     305665  0.018018   \n 2010-03-09  0.28300  0.28300  0.26900  0.2750   0.208386      64159 -0.018018   \n 2010-03-10  0.27500  0.27800  0.26700  0.2730   0.206871      48996 -0.007299   \n ...             ...      ...      ...     ...        ...        ...       ...   \n 2022-05-18  0.03145  0.03145  0.03010  0.0308   0.030800  431190000 -0.011300   \n 2022-05-19  0.03080  0.03080  0.02955  0.0301   0.030100  239460000 -0.022990   \n 2022-05-20  0.03010  0.03010  0.03010  0.0301   0.030100          0  0.000000   \n 2022-05-23  0.03010  0.03010  0.03010  0.0301   0.030100          0  0.000000   \n 2022-05-24  0.03010  0.03010  0.03010  0.0301   0.030100          0  0.000000   \n \n             log_ret_high  log_ret_low  \n Date                                   \n 2010-03-03           NaN          NaN  \n 2010-03-04      0.032435     0.019803  \n 2010-03-05      0.000000     0.060855  \n 2010-03-09      0.003540    -0.007407  \n 2010-03-10     -0.017826    -0.007463  \n ...                  ...          ...  \n 2022-05-18     -0.132338     0.035507  \n 2022-05-19     -0.020884    -0.018441  \n 2022-05-20     -0.022990     0.018441  \n 2022-05-23      0.000000     0.000000  \n 2022-05-24      0.000000     0.000000  \n \n [3043 rows x 9 columns],\n 'MRSB':              Open   High    Low  Close  Adj Close   Volume   log_ret   \n Date                                                                   \n 2010-03-02  0.195  0.195  0.195  0.195   0.074905       10       NaN  \\\n 2010-03-03  0.195  0.195  0.195  0.195   0.074905        0  0.000000   \n 2010-03-04  0.197  0.197  0.197  0.197   0.075673       17  0.010204   \n 2010-03-05  0.197  0.197  0.197  0.197   0.075673        2  0.000000   \n 2010-03-09  0.197  0.197  0.197  0.197   0.075673        0  0.000000   \n ...           ...    ...    ...    ...        ...      ...       ...   \n 2022-05-18  0.356  0.361  0.355  0.355   0.355000   170000 -0.002813   \n 2022-05-19  0.351  0.381  0.351  0.380   0.380000  1050000  0.068053   \n 2022-05-20  0.380  0.380  0.380  0.380   0.380000        0  0.000000   \n 2022-05-23  0.380  0.380  0.380  0.380   0.380000        0  0.000000   \n 2022-05-24  0.380  0.380  0.380  0.380   0.380000        0  0.000000   \n \n             log_ret_high  log_ret_low  \n Date                                   \n 2010-03-02           NaN          NaN  \n 2010-03-03      0.000000     0.000000  \n 2010-03-04      0.010204     0.010204  \n 2010-03-05      0.000000     0.000000  \n 2010-03-09      0.000000     0.000000  \n ...                  ...          ...  \n 2022-05-18     -0.021919     0.005650  \n 2022-05-19      0.053921    -0.011332  \n 2022-05-20     -0.002628     0.079385  \n 2022-05-23      0.000000     0.000000  \n 2022-05-24      0.000000     0.000000  \n \n [3044 rows x 9 columns],\n 'MSNG':               Open   High    Low  Close  Adj Close    Volume   log_ret   \n Date                                                                     \n 2010-03-03  3.6160  3.690  3.580  3.680   2.279722     58192       NaN  \\\n 2010-03-04  3.6560  3.751  3.580  3.624   2.245030    106777 -0.015334   \n 2010-03-05  3.6510  3.750  3.651  3.730   2.310696     70417  0.028830   \n 2010-03-09  3.8220  3.822  3.680  3.780   2.341671     39829  0.013316   \n 2010-03-10  3.8090  3.840  3.752  3.780   2.341671    120317  0.000000   \n ...            ...    ...    ...    ...        ...       ...       ...   \n 2022-05-18  1.7865  1.809  1.760  1.770   1.770000  10591000 -0.008999   \n 2022-05-19  1.7700  1.774  1.740  1.750   1.750000   4014000 -0.011364   \n 2022-05-20  1.7500  1.750  1.750  1.750   1.750000         0  0.000000   \n 2022-05-23  1.7500  1.750  1.750  1.750   1.750000         0  0.000000   \n 2022-05-24  1.7500  1.750  1.750  1.750   1.750000         0  0.000000   \n \n             log_ret_high  log_ret_low  \n Date                                   \n 2010-03-03           NaN          NaN  \n 2010-03-04      0.016396     0.000000  \n 2010-03-05     -0.000267     0.019638  \n 2010-03-09      0.019018     0.007912  \n 2010-03-10      0.004698     0.019376  \n ...                  ...          ...  \n 2022-05-18     -0.005513    -0.012703  \n 2022-05-19     -0.019537    -0.011429  \n 2022-05-20     -0.013621     0.005731  \n 2022-05-23      0.000000     0.000000  \n 2022-05-24      0.000000     0.000000  \n \n [3043 rows x 9 columns],\n 'MSRS':               Open    High     Low   Close  Adj Close   Volume   log_ret   \n Date                                                                       \n 2010-03-03  1.5500  1.5820  1.5430  1.5770   0.865849    69816       NaN  \\\n 2010-03-04  1.5630  1.6200  1.5500  1.6030   0.880125    97311  0.016353   \n 2010-03-05  1.6030  1.6330  1.5720  1.6120   0.885066    46876  0.005599   \n 2010-03-09  1.6040  1.6070  1.5710  1.6060   0.881772    49944 -0.003729   \n 2010-03-10  1.6000  1.6100  1.5740  1.5850   0.870242   172548 -0.013162   \n ...            ...     ...     ...     ...        ...      ...       ...   \n 2022-05-18  0.9780  0.9780  0.9565  0.9615   0.961500  3254000 -0.015992   \n 2022-05-19  0.9555  0.9640  0.9350  0.9585   0.958500  4867000 -0.003125   \n 2022-05-20  0.9585  0.9585  0.9585  0.9585   0.958500        0  0.000000   \n 2022-05-23  0.9585  0.9585  0.9585  0.9585   0.958500        0  0.000000   \n 2022-05-24  0.9585  0.9585  0.9585  0.9585   0.958500        0  0.000000   \n \n             log_ret_high  log_ret_low  \n Date                                   \n 2010-03-03           NaN          NaN  \n 2010-03-04      0.023736     0.004526  \n 2010-03-05      0.007993     0.014094  \n 2010-03-09     -0.016050    -0.000636  \n 2010-03-10      0.001865     0.001908  \n ...                  ...          ...  \n 2022-05-18     -0.009160     0.004716  \n 2022-05-19     -0.014418    -0.022734  \n 2022-05-20     -0.005722     0.024823  \n 2022-05-23      0.000000     0.000000  \n 2022-05-24      0.000000     0.000000  \n \n [3043 rows x 9 columns],\n 'MSTT':                   Open        High         Low       Close   Adj Close   \n Date                                                                     \n 2010-11-03  264.000000  264.000000  191.899994  203.000000  107.660027  \\\n 2010-11-08  205.000000  205.000000  196.429993  200.300003  106.228096   \n 2010-11-09  199.990005  200.199997  197.000000  198.000000  105.008316   \n 2010-11-10  196.000000  198.199997  192.009995  197.009995  104.483276   \n 2010-11-11  195.000000  198.339996  195.000000  195.000000  103.417282   \n ...                ...         ...         ...         ...         ...   \n 2022-05-18   76.949997   77.400002   76.500000   77.000000   77.000000   \n 2022-05-19   76.050003   77.699997   75.550003   76.400002   76.400002   \n 2022-05-20   76.400002   76.400002   76.400002   76.400002   76.400002   \n 2022-05-23   76.400002   76.400002   76.400002   76.400002   76.400002   \n 2022-05-24   76.400002   76.400002   76.400002   76.400002   76.400002   \n \n             Volume   log_ret  log_ret_high  log_ret_low  \n Date                                                     \n 2010-11-03   48480       NaN           NaN          NaN  \n 2010-11-08   28907 -0.013390     -0.252939     0.023332  \n 2010-11-09   39802 -0.011549     -0.023693     0.002898  \n 2010-11-10   20611 -0.005013     -0.010040    -0.025656  \n 2010-11-11    7551 -0.010255      0.000706     0.015452  \n ...            ...       ...           ...          ...  \n 2022-05-18    3500  0.009132      0.002587     0.030527  \n 2022-05-19    3320 -0.007823      0.003868    -0.012496  \n 2022-05-20       0  0.000000     -0.016873     0.011188  \n 2022-05-23       0  0.000000      0.000000     0.000000  \n 2022-05-24       0  0.000000      0.000000     0.000000  \n \n [2872 rows x 9 columns],\n 'MTLR':                   Open        High         Low       Close   Adj Close   \n Date                                                                     \n 2010-03-03  694.690002  725.000000  677.859985  721.989990  682.319580  \\\n 2010-03-04  710.580017  736.890015  697.000000  714.909973  675.628540   \n 2010-03-05  746.200012  746.200012  718.200012  731.000000  690.834534   \n 2010-03-09  738.000000  759.000000  729.000000  736.989990  696.495361   \n 2010-03-10  740.580017  740.580017  725.000000  728.000000  687.999329   \n ...                ...         ...         ...         ...         ...   \n 2022-05-18  141.210007  142.899994  134.539993  136.000000  136.000000   \n 2022-05-19  135.199997  137.779999  132.750000  135.880005  135.880005   \n 2022-05-20  135.880005  135.880005  135.880005  135.880005  135.880005   \n 2022-05-23  135.880005  135.880005  135.880005  135.880005  135.880005   \n 2022-05-24  135.880005  135.880005  135.880005  135.880005  135.880005   \n \n              Volume   log_ret  log_ret_high  log_ret_low  \n Date                                                      \n 2010-03-03    30527       NaN           NaN          NaN  \n 2010-03-04    51669 -0.009855      0.016267     0.027845  \n 2010-03-05    30439  0.022257      0.012555     0.029963  \n 2010-03-09    25744  0.008161      0.017008     0.014926  \n 2010-03-10    18568 -0.012273     -0.024568    -0.005502  \n ...             ...       ...           ...          ...  \n 2022-05-18  3218910 -0.025983      0.020860    -0.003635  \n 2022-05-19  1375246 -0.000883     -0.036487    -0.013394  \n 2022-05-20        0  0.000000     -0.013886     0.023305  \n 2022-05-23        0  0.000000      0.000000     0.000000  \n 2022-05-24        0  0.000000      0.000000     0.000000  \n \n [3043 rows x 9 columns],\n 'MTSS':                   Open        High         Low       Close   Adj Close   \n Date                                                                     \n 2011-11-21  187.300003  187.300003  181.100006  181.100006   55.339081  \\\n 2011-11-22  185.020004  187.399994  184.009995  187.339996   57.245846   \n 2011-11-23  189.389999  198.970001  189.380005  198.000000   60.503254   \n 2011-11-24  199.669998  199.690002  193.860001  195.979996   59.885983   \n 2011-11-25  193.600006  198.800003  189.699997  197.820007   60.448265   \n ...                ...         ...         ...         ...         ...   \n 2022-05-18  239.250000  282.899994  239.250000  243.000000  243.000000   \n 2022-05-19  242.399994  246.000000  237.600006  243.149994  243.149994   \n 2022-05-20  243.149994  243.149994  243.149994  243.149994  243.149994   \n 2022-05-23  243.149994  243.149994  243.149994  243.149994  243.149994   \n 2022-05-24  243.149994  243.149994  243.149994  243.149994  243.149994   \n \n               Volume   log_ret  log_ret_high  log_ret_low  \n Date                                                       \n 2011-11-21   1275860       NaN           NaN          NaN  \n 2011-11-22   1223330  0.033876      0.000534     0.015941  \n 2011-11-23   4434060  0.055342      0.059909     0.028766  \n 2011-11-24   2070560 -0.010254      0.003612     0.023381  \n 2011-11-25   1551320  0.009345     -0.004467    -0.021692  \n ...              ...       ...           ...          ...  \n 2022-05-18  12055920  0.110863      0.253286     0.154499  \n 2022-05-19   2456310  0.000617     -0.139762    -0.006920  \n 2022-05-20         0  0.000000     -0.011653     0.023090  \n 2022-05-23         0  0.000000      0.000000     0.000000  \n 2022-05-24         0  0.000000      0.000000     0.000000  \n \n [2615 rows x 9 columns],\n 'MVID':                   Open        High         Low       Close   Adj Close   \n Date                                                                     \n 2010-03-03  156.889999  156.889999  153.199997  154.029999   65.034225  \\\n 2010-03-04  153.679993  155.960007  141.199997  151.490005   63.961803   \n 2010-03-05  152.419998  152.949997  151.389999  152.500000   64.388237   \n 2010-03-09  151.899994  153.000000  151.000000  151.509995   63.970234   \n 2010-03-10  151.300003  153.990005  149.970001  150.990005   63.750690   \n ...                ...         ...         ...         ...         ...   \n 2022-05-18  223.300003  239.899994  220.000000  223.500000  223.500000   \n 2022-05-19  226.000000  226.000000  220.399994  221.000000  221.000000   \n 2022-05-20  221.000000  221.000000  221.000000  221.000000  221.000000   \n 2022-05-23  221.000000  221.000000  221.000000  221.000000  221.000000   \n 2022-05-24  221.000000  221.000000  221.000000  221.000000  221.000000   \n \n             Volume   log_ret  log_ret_high  log_ret_low  \n Date                                                     \n 2010-03-03    7630       NaN           NaN          NaN  \n 2010-03-04   34908 -0.016628     -0.005945    -0.081567  \n 2010-03-05   17550  0.006645     -0.019489     0.069682  \n 2010-03-09    9166 -0.006513      0.000327    -0.002579  \n 2010-03-10   12250 -0.003438      0.006450    -0.006845  \n ...            ...       ...           ...          ...  \n 2022-05-18  375859  0.002240      0.069916     0.009591  \n 2022-05-19  124254 -0.011249     -0.059687     0.001817  \n 2022-05-20       0  0.000000     -0.022372     0.002719  \n 2022-05-23       0  0.000000      0.000000     0.000000  \n 2022-05-24       0  0.000000      0.000000     0.000000  \n \n [3043 rows x 9 columns],\n 'NAUK':                   Open        High         Low       Close   Adj Close   \n Date                                                                     \n 2013-03-18  242.000000  242.000000  242.000000  242.000000  191.316086  \\\n 2013-03-19  242.000000  242.000000  242.000000  242.000000  191.316086   \n 2013-03-20  242.000000  242.000000  242.000000  242.000000  191.316086   \n 2013-03-21  242.000000  242.000000  242.000000  242.000000  191.316086   \n 2013-03-22  242.000000  242.000000  242.000000  242.000000  191.316086   \n ...                ...         ...         ...         ...         ...   \n 2022-05-18  178.600006  178.600006  169.399994  173.199997  173.199997   \n 2022-05-19  172.199997  173.600006  171.199997  173.000000  173.000000   \n 2022-05-20  173.000000  173.000000  173.000000  173.000000  173.000000   \n 2022-05-23  173.000000  173.000000  173.000000  173.000000  173.000000   \n 2022-05-24  173.000000  173.000000  173.000000  173.000000  173.000000   \n \n             Volume   log_ret  log_ret_high  log_ret_low  \n Date                                                     \n 2013-03-18      10       NaN           NaN          NaN  \n 2013-03-19       0  0.000000      0.000000     0.000000  \n 2013-03-20       0  0.000000      0.000000     0.000000  \n 2013-03-21       0  0.000000      0.000000     0.000000  \n 2013-03-22       0  0.000000      0.000000     0.000000  \n ...            ...       ...           ...          ...  \n 2022-05-18    4330 -0.030702     -0.002237    -0.035946  \n 2022-05-19     350 -0.001155     -0.028395     0.010570  \n 2022-05-20       0  0.000000     -0.003462     0.010459  \n 2022-05-23       0  0.000000      0.000000     0.000000  \n 2022-05-24       0  0.000000      0.000000     0.000000  \n \n [2288 rows x 9 columns],\n 'NFAZ':                   Open        High         Low       Close   Adj Close   \n Date                                                                     \n 2011-09-21  399.000000  399.000000  399.000000  399.000000  399.000000  \\\n 2011-09-22  250.029999  325.000000  250.029999  325.000000  325.000000   \n 2011-09-23  250.000000  250.000000  250.000000  250.000000  250.000000   \n 2011-09-26  324.970001  325.000000  324.970001  325.000000  325.000000   \n 2011-09-27  324.959991  324.959991  324.959991  324.959991  324.959991   \n ...                ...         ...         ...         ...         ...   \n 2022-05-18  258.000000  274.500000  252.500000  272.000000  272.000000   \n 2022-05-19  264.000000  280.000000  264.000000  279.000000  279.000000   \n 2022-05-20  279.000000  279.000000  279.000000  279.000000  279.000000   \n 2022-05-23  279.000000  279.000000  279.000000  279.000000  279.000000   \n 2022-05-24  279.000000  279.000000  279.000000  279.000000  279.000000   \n \n             Volume   log_ret  log_ret_high  log_ret_low  \n Date                                                     \n 2011-09-21      46       NaN           NaN          NaN  \n 2011-09-22       4 -0.205136     -0.205136    -0.467381  \n 2011-09-23       1 -0.262364     -0.262364    -0.000120  \n 2011-09-26       7  0.262364      0.262364     0.262272  \n 2011-09-27       1 -0.000123     -0.000123    -0.000031  \n ...            ...       ...           ...          ...  \n 2022-05-18   13380  0.056726      0.065875     0.015968  \n 2022-05-19    4020  0.025410      0.019838     0.044538  \n 2022-05-20       0  0.000000     -0.003578     0.055263  \n 2022-05-23       0  0.000000      0.000000     0.000000  \n 2022-05-24       0  0.000000      0.000000     0.000000  \n \n [2657 rows x 9 columns],\n 'NKHP':                   Open   High         Low       Close   Adj Close  Volume   \n Date                                                                        \n 2015-12-15  525.000000  525.0  440.500000  459.000000  311.095581   27818  \\\n 2015-12-16  460.000000  460.0  441.019989  451.000000  305.673462    5270   \n 2015-12-17  450.000000  460.0  440.000000  457.000000  309.740082    7250   \n 2015-12-18  440.200012  515.0  440.179993  515.000000  360.727722   51370   \n 2015-12-21  513.500000  720.0  500.000000  514.950012  360.692719  598991   \n ...                ...    ...         ...         ...         ...     ...   \n 2022-05-18  347.000000  347.5  326.000000  335.000000  335.000000   31700   \n 2022-05-19  335.500000  337.0  322.500000  323.500000  323.500000    6840   \n 2022-05-20  323.500000  323.5  323.500000  323.500000  323.500000       0   \n 2022-05-23  323.500000  323.5  323.500000  323.500000  323.500000       0   \n 2022-05-24  323.500000  323.5  323.500000  323.500000  323.500000       0   \n \n              log_ret  log_ret_high  log_ret_low  \n Date                                             \n 2015-12-15       NaN           NaN          NaN  \n 2015-12-16 -0.017583     -0.132172     0.001180  \n 2015-12-17  0.013216      0.000000    -0.002315  \n 2015-12-18  0.119484      0.112940     0.000409  \n 2015-12-21 -0.000097      0.335084     0.127424  \n ...              ...           ...          ...  \n 2022-05-18 -0.033752     -0.076161    -0.013709  \n 2022-05-19 -0.034931     -0.030682    -0.010794  \n 2022-05-20  0.000000     -0.040884     0.003096  \n 2022-05-23  0.000000      0.000000     0.000000  \n 2022-05-24  0.000000      0.000000     0.000000  \n \n [1599 rows x 9 columns],\n 'NKNC':                  Open        High        Low      Close  Adj Close  Volume   \n Date                                                                         \n 2010-03-03  16.355000   17.299999  16.000000  16.660000   6.030950    2009  \\\n 2010-03-04  16.974001   17.000000  16.638000  16.997000   6.152944       6   \n 2010-03-05  16.799999   17.000000  16.799999  16.900000   6.117830     100   \n 2010-03-09  17.000000   17.000000  16.351000  16.351000   5.919092     166   \n 2010-03-10  16.549000   17.000000  16.100000  16.400999   5.937191     153   \n ...               ...         ...        ...        ...        ...     ...   \n 2022-05-18  87.000000   93.900002  86.650002  88.750000  88.750000  112970   \n 2022-05-19  95.000000  105.000000  90.150002  96.900002  96.900002  686520   \n 2022-05-20  96.900002   96.900002  96.900002  96.900002  96.900002       0   \n 2022-05-23  96.900002   96.900002  96.900002  96.900002  96.900002       0   \n 2022-05-24  96.900002   96.900002  96.900002  96.900002  96.900002       0   \n \n              log_ret  log_ret_high  log_ret_low  \n Date                                             \n 2010-03-03       NaN           NaN          NaN  \n 2010-03-04  0.020026     -0.017493     0.039101  \n 2010-03-05 -0.005723      0.000000     0.009690  \n 2010-03-09 -0.033025      0.000000    -0.027090  \n 2010-03-10  0.003053      0.000000    -0.015470  \n ...              ...           ...          ...  \n 2022-05-18  0.023946      0.072880     0.034638  \n 2022-05-19  0.087856      0.111730     0.039598  \n 2022-05-20  0.000000     -0.080281     0.072205  \n 2022-05-23  0.000000      0.000000     0.000000  \n 2022-05-24  0.000000      0.000000     0.000000  \n \n [3043 rows x 9 columns],\n 'NKSH':                  Open       High        Low      Close  Adj Close  Volume   \n Date                                                                        \n 2011-12-19  35.000000  35.000000  35.000000  35.000000  35.000000  100000  \\\n 2011-12-20  35.000000  35.000000  35.000000  35.000000  35.000000       0   \n 2011-12-21  35.000000  35.000000  35.000000  35.000000  35.000000       0   \n 2011-12-22  35.000000  35.000000  35.000000  35.000000  35.000000       0   \n 2011-12-23  35.000000  35.000000  35.000000  35.000000  35.000000       0   \n ...               ...        ...        ...        ...        ...     ...   \n 2022-05-18  23.080000  23.080000  22.020000  22.260000  22.260000    7500   \n 2022-05-19  22.299999  22.620001  22.080000  22.379999  22.379999    2900   \n 2022-05-20  22.379999  22.379999  22.379999  22.379999  22.379999       0   \n 2022-05-23  22.379999  22.379999  22.379999  22.379999  22.379999       0   \n 2022-05-24  22.379999  22.379999  22.379999  22.379999  22.379999       0   \n \n              log_ret  log_ret_high  log_ret_low  \n Date                                             \n 2011-12-19       NaN           NaN          NaN  \n 2011-12-20  0.000000      0.000000     0.000000  \n 2011-12-21  0.000000      0.000000     0.000000  \n 2011-12-22  0.000000      0.000000     0.000000  \n 2011-12-23  0.000000      0.000000     0.000000  \n ...              ...           ...          ...  \n 2022-05-18 -0.011612      0.003472    -0.003626  \n 2022-05-19  0.005376     -0.020132     0.002721  \n 2022-05-20  0.000000     -0.010667     0.013495  \n 2022-05-23  0.000000      0.000000     0.000000  \n 2022-05-24  0.000000      0.000000     0.000000  \n \n [2595 rows x 9 columns],\n 'NLMK':                   Open        High         Low       Close   Adj Close   \n Date                                                                     \n 2010-03-03   97.750000   97.750000   94.300003   96.949997   36.671120  \\\n 2010-03-04   96.500000   97.980003   94.139999   96.279999   36.417694   \n 2010-03-05   96.940002   99.900002   96.889999   99.199997   37.522179   \n 2010-03-09  100.250000  103.500000   99.529999  102.989998   38.955734   \n 2010-03-10  102.720001  103.169998  100.019997  100.839996   38.142498   \n ...                ...         ...         ...         ...         ...   \n 2022-05-18  159.000000  162.479996  159.000000  160.300003  160.300003   \n 2022-05-19  160.339996  161.619995  157.139999  161.619995  161.619995   \n 2022-05-20  161.619995  161.619995  161.619995  161.619995  161.619995   \n 2022-05-23  161.619995  161.619995  161.619995  161.619995  161.619995   \n 2022-05-24  161.619995  161.619995  161.619995  161.619995  161.619995   \n \n              Volume   log_ret  log_ret_high  log_ret_low  \n Date                                                      \n 2010-03-03     4338       NaN           NaN          NaN  \n 2010-03-04     4090 -0.006935      0.002350    -0.001698  \n 2010-03-05     3720  0.029877      0.019406     0.028793  \n 2010-03-09     9270  0.037494      0.035402     0.026883  \n 2010-03-10     3876 -0.021097     -0.003194     0.004911  \n ...             ...       ...           ...          ...  \n 2022-05-18  2557810  0.008143      0.012386     0.000000  \n 2022-05-19   936860  0.008201     -0.005307    -0.011767  \n 2022-05-20        0  0.000000      0.000000     0.028111  \n 2022-05-23        0  0.000000      0.000000     0.000000  \n 2022-05-24        0  0.000000      0.000000     0.000000  \n \n [3043 rows x 9 columns],\n 'NMTP':              Open   High    Low  Close  Adj Close   Volume   log_ret   \n Date                                                                   \n 2010-03-03  4.499  4.499  4.400  4.485   2.110613     3728       NaN  \\\n 2010-03-04  4.414  4.585  4.400  4.500   2.117671     3582  0.003339   \n 2010-03-05  4.590  4.590  4.486  4.568   2.149672     3932  0.014998   \n 2010-03-09  4.575  4.575  4.500  4.503   2.119083      522 -0.014332   \n 2010-03-10  4.501  4.650  4.491  4.650   2.188260     6827  0.032123   \n ...           ...    ...    ...    ...        ...      ...       ...   \n 2022-05-18  5.375  5.675  5.355  5.505   5.505000  2367500  0.023898   \n 2022-05-19  5.560  5.570  5.385  5.405   5.405000  1370300 -0.018332   \n 2022-05-20  5.405  5.405  5.405  5.405   5.405000        0  0.000000   \n 2022-05-23  5.405  5.405  5.405  5.405   5.405000        0  0.000000   \n 2022-05-24  5.405  5.405  5.405  5.405   5.405000        0  0.000000   \n \n             log_ret_high  log_ret_low  \n Date                                   \n 2010-03-03           NaN          NaN  \n 2010-03-04      0.018935     0.000000  \n 2010-03-05      0.001090     0.019357  \n 2010-03-09     -0.003273     0.003116  \n 2010-03-10      0.016261    -0.002002  \n ...                  ...          ...  \n 2022-05-18      0.031323     0.004679  \n 2022-05-19     -0.018676     0.005587  \n 2022-05-20     -0.030071     0.003707  \n 2022-05-23      0.000000     0.000000  \n 2022-05-24      0.000000     0.000000  \n \n [3043 rows x 9 columns],\n 'NNSB':               Open    High     Low   Close    Adj Close  Volume   log_ret   \n Date                                                                        \n 2010-03-05   599.0   620.0   580.0   600.0   310.446991      14       NaN  \\\n 2010-03-09   600.0   600.0   600.0   600.0   310.446991       2  0.000000   \n 2010-03-10   600.0   600.0   600.0   600.0   310.446991       0  0.000000   \n 2010-03-11   600.0   600.0   600.0   600.0   310.446991       0  0.000000   \n 2010-03-12   600.0   600.0   600.0   600.0   310.446991       0  0.000000   \n ...            ...     ...     ...     ...          ...     ...       ...   \n 2022-05-18  1755.0  1805.0  1750.0  1805.0  1805.000000      14 -0.002766   \n 2022-05-19  1765.0  1905.0  1750.0  1905.0  1905.000000      75  0.053921   \n 2022-05-20  1905.0  1905.0  1905.0  1905.0  1905.000000       0  0.000000   \n 2022-05-23  1905.0  1905.0  1905.0  1905.0  1905.000000       0  0.000000   \n 2022-05-24  1905.0  1905.0  1905.0  1905.0  1905.000000       0  0.000000   \n \n             log_ret_high  log_ret_low  \n Date                                   \n 2010-03-05           NaN          NaN  \n 2010-03-09     -0.032790     0.033902  \n 2010-03-10      0.000000     0.000000  \n 2010-03-11      0.000000     0.000000  \n 2010-03-12      0.000000     0.000000  \n ...                  ...          ...  \n 2022-05-18     -0.013755     0.002861  \n 2022-05-19      0.053921     0.000000  \n 2022-05-20      0.000000     0.084866  \n 2022-05-23      0.000000     0.000000  \n 2022-05-24      0.000000     0.000000  \n \n [3041 rows x 9 columns],\n 'NSVZ':                  Open       High        Low      Close   Adj Close  Volume   \n Date                                                                         \n 2011-12-14  515.00000  550.00000  501.50000  525.00000  510.544525    1090  \\\n 2011-12-15  521.01001  530.00000  520.00000  530.00000  515.406860    2040   \n 2011-12-16  524.98999  590.00000  524.98999  550.01001  534.865906    5040   \n 2011-12-19  560.00000  579.98999  560.00000  575.00000  559.167786    4360   \n 2011-12-20  579.98999  580.00000  555.00000  570.01001  554.315186    2980   \n ...               ...        ...        ...        ...         ...     ...   \n 2022-05-18  139.50000  141.50000  138.50000  141.50000  141.500000    1870   \n 2022-05-19  141.50000  142.50000  138.00000  139.00000  139.000000    3770   \n 2022-05-20  139.00000  139.00000  139.00000  139.00000  139.000000       0   \n 2022-05-23  139.00000  139.00000  139.00000  139.00000  139.000000       0   \n 2022-05-24  139.00000  139.00000  139.00000  139.00000  139.000000       0   \n \n              log_ret  log_ret_high  log_ret_low  \n Date                                             \n 2011-12-14       NaN           NaN          NaN  \n 2011-12-15  0.009479     -0.037041     0.036225  \n 2011-12-16  0.037059      0.107246     0.009550  \n 2011-12-19  0.044434     -0.017112     0.064558  \n 2011-12-20 -0.008716      0.000017    -0.008969  \n ...              ...           ...          ...  \n 2022-05-18  0.007092     -0.017514     0.018215  \n 2022-05-19 -0.017826      0.007042    -0.003617  \n 2022-05-20  0.000000     -0.024868     0.007220  \n 2022-05-23  0.000000      0.000000     0.000000  \n 2022-05-24  0.000000      0.000000     0.000000  \n \n [2598 rows x 9 columns],\n 'NVTK':                    Open         High          Low        Close    Adj Close   \n Date                                                                          \n 2011-11-21   405.500000   405.500000   388.000000   390.000000   266.687836  \\\n 2011-11-22   396.130005   399.799988   393.820007   395.000000   270.106842   \n 2011-11-23   390.910004   396.230011   385.000000   391.000000   267.371613   \n 2011-11-24   394.000000   397.500000   390.209991   392.850006   268.636658   \n 2011-11-25   393.299988   412.000000   392.000000   410.100006   280.432556   \n ...                 ...          ...          ...          ...          ...   \n 2022-05-18  1011.200012  1029.000000  1000.000000  1002.000000  1002.000000   \n 2022-05-19  1000.000000  1015.000000   986.000000  1010.799988  1010.799988   \n 2022-05-20  1010.799988  1010.799988  1010.799988  1010.799988  1010.799988   \n 2022-05-23  1010.799988  1010.799988  1010.799988  1010.799988  1010.799988   \n 2022-05-24  1010.799988  1010.799988  1010.799988  1010.799988  1010.799988   \n \n              Volume   log_ret  log_ret_high  log_ret_low  \n Date                                                      \n 2011-11-21  1153290       NaN           NaN          NaN  \n 2011-11-22   418240  0.012739     -0.014156     0.014889  \n 2011-11-23  1762500 -0.010178     -0.008970    -0.022651  \n 2011-11-24   541360  0.004720      0.003200     0.013442  \n 2011-11-25  1444240  0.042973      0.035828     0.004577  \n ...             ...       ...           ...          ...  \n 2022-05-18   498949 -0.006962      0.017648     0.007629  \n 2022-05-19   340385  0.008744     -0.013699    -0.014099  \n 2022-05-20        0  0.000000     -0.004147     0.024841  \n 2022-05-23        0  0.000000      0.000000     0.000000  \n 2022-05-24        0  0.000000      0.000000     0.000000  \n \n [2615 rows x 9 columns],\n 'OGKB':               Open    High     Low   Close  Adj Close     Volume   log_ret   \n Date                                                                         \n 2011-11-21  0.8940  0.8960  0.8610  0.8610   0.617657   59118000       NaN  \\\n 2011-11-22  0.8710  0.8820  0.8610  0.8690   0.623396   21929000  0.009249   \n 2011-11-23  0.8720  0.8810  0.8640  0.8800   0.631287   30474000  0.012579   \n 2011-11-24  0.8760  0.8910  0.8710  0.8760   0.628418   31318000 -0.004556   \n 2011-11-25  0.8730  0.8740  0.8350  0.8400   0.602592  152910000 -0.041964   \n ...            ...     ...     ...     ...        ...        ...       ...   \n 2022-05-18  0.4771  0.4776  0.4601  0.4620   0.462000  103807000 -0.011621   \n 2022-05-19  0.4639  0.4710  0.4440  0.4648   0.464800   69055000  0.006042   \n 2022-05-20  0.4648  0.4648  0.4648  0.4648   0.464800          0  0.000000   \n 2022-05-23  0.4648  0.4648  0.4648  0.4648   0.464800          0  0.000000   \n 2022-05-24  0.4648  0.4648  0.4648  0.4648   0.464800          0  0.000000   \n \n             log_ret_high  log_ret_low  \n Date                                   \n 2011-11-21           NaN          NaN  \n 2011-11-22     -0.015748     0.000000  \n 2011-11-23     -0.001134     0.003478  \n 2011-11-24      0.011287     0.008069  \n 2011-11-25     -0.019264    -0.042210  \n ...                  ...          ...  \n 2022-05-18     -0.004596     0.012686  \n 2022-05-19     -0.013916    -0.035619  \n 2022-05-20     -0.013251     0.045783  \n 2022-05-23      0.000000     0.000000  \n 2022-05-24      0.000000     0.000000  \n \n [2615 rows x 9 columns],\n 'PAZA':                    Open         High          Low        Close    Adj Close   \n Date                                                                          \n 2011-12-08   618.200012   624.000000   618.200012   624.000000   624.000000  \\\n 2011-12-09   374.399994   374.399994   374.399994   374.399994   374.399994   \n 2011-12-12   224.600006   224.600006   224.600006   224.600006   224.600006   \n 2011-12-13   180.199997   214.899994   170.199997   204.699997   204.699997   \n 2011-12-14   150.300003   203.699997   150.000000   165.000000   165.000000   \n ...                 ...          ...          ...          ...          ...   \n 2022-05-18  5460.000000  5500.000000  5360.000000  5500.000000  5500.000000   \n 2022-05-19  5500.000000  5500.000000  5500.000000  5500.000000  5500.000000   \n 2022-05-20  5500.000000  5500.000000  5500.000000  5500.000000  5500.000000   \n 2022-05-23  5500.000000  5500.000000  5500.000000  5500.000000  5500.000000   \n 2022-05-24  5500.000000  5500.000000  5500.000000  5500.000000  5500.000000   \n \n             Volume   log_ret  log_ret_high  log_ret_low  \n Date                                                     \n 2011-12-08     210       NaN           NaN          NaN  \n 2011-12-09     410 -0.510826     -0.510826    -0.501487  \n 2011-12-12     560 -0.511004     -0.511004    -0.511004  \n 2011-12-13     470 -0.092776     -0.044148    -0.277347  \n 2011-12-14    3700 -0.215600     -0.053524    -0.126339  \n ...            ...       ...           ...          ...  \n 2022-05-18       3  0.018349      0.018349    -0.007435  \n 2022-05-19       2  0.000000      0.000000     0.025784  \n 2022-05-20       0  0.000000      0.000000     0.000000  \n 2022-05-23       0  0.000000      0.000000     0.000000  \n 2022-05-24       0  0.000000      0.000000     0.000000  \n \n [2602 rows x 9 columns],\n 'PHOR':                    Open         High          Low        Close    Adj Close   \n Date                                                                          \n 2011-07-18  1215.257202  1215.257202  1024.067871  1122.324219   524.958801  \\\n 2011-07-19  1100.850342  1100.940552  1091.917969  1119.707642   523.734802   \n 2011-07-20  1091.737549  1127.828003  1080.459229  1091.557129   510.567657   \n 2011-07-21  1080.459229  1145.873291  1080.459229  1096.248901   512.762207   \n 2011-07-22  1127.737793  1127.737793  1083.617188  1101.481934   515.210022   \n ...                 ...          ...          ...          ...          ...   \n 2022-05-18  7984.000000  8049.000000  7812.000000  7931.000000  7931.000000   \n 2022-05-19  7951.000000  8100.000000  7850.000000  7930.000000  7930.000000   \n 2022-05-20  7930.000000  7930.000000  7930.000000  7930.000000  7930.000000   \n 2022-05-23  7930.000000  7930.000000  7930.000000  7930.000000  7930.000000   \n 2022-05-24  7930.000000  7930.000000  7930.000000  7930.000000  7930.000000   \n \n             Volume   log_ret  log_ret_high  log_ret_low  \n Date                                                     \n 2011-07-18    1152       NaN           NaN          NaN  \n 2011-07-19     132 -0.002334     -0.098791     0.064153  \n 2011-07-20     797 -0.025462      0.024129    -0.010550  \n 2011-07-21    4721  0.004289      0.015873     0.000000  \n 2011-07-22    3746  0.004762     -0.015953     0.002919  \n ...            ...       ...           ...          ...  \n 2022-05-18   68332  0.006324     -0.018220     0.006035  \n 2022-05-19   54695 -0.000126      0.006316     0.004853  \n 2022-05-20       0  0.000000     -0.021211     0.010140  \n 2022-05-23       0  0.000000      0.000000     0.000000  \n 2022-05-24       0  0.000000      0.000000     0.000000  \n \n [2704 rows x 9 columns],\n 'PIKK':                   Open        High         Low       Close   Adj Close   \n Date                                                                     \n 2010-03-03  145.750000  149.240005  145.610001  146.100006  115.068497  \\\n 2010-03-04  141.899994  146.100006  141.899994  143.509995  113.028603   \n 2010-03-05  145.500000  147.000000  143.149994  146.179993  115.131493   \n 2010-03-09  147.000000  147.000000  144.199997  145.990005  114.981865   \n 2010-03-10  145.990005  148.279999  142.699997  144.610001  113.894958   \n ...                ...         ...         ...         ...         ...   \n 2022-05-18  564.000000  599.000000  557.099976  598.900024  598.900024   \n 2022-05-19  582.500000  595.000000  567.099976  572.200012  572.200012   \n 2022-05-20  572.200012  572.200012  572.200012  572.200012  572.200012   \n 2022-05-23  572.200012  572.200012  572.200012  572.200012  572.200012   \n 2022-05-24  572.200012  572.200012  572.200012  572.200012  572.200012   \n \n              Volume   log_ret  log_ret_high  log_ret_low  \n Date                                                      \n 2010-03-03   403602       NaN           NaN          NaN  \n 2010-03-04   327148 -0.017887     -0.021264    -0.025809  \n 2010-03-05   221093  0.018434      0.006141     0.008770  \n 2010-03-09   138304 -0.001301      0.000000     0.007308  \n 2010-03-10   493863 -0.009498      0.008670    -0.010457  \n ...             ...       ...           ...          ...  \n 2022-05-18  2228457  0.070557      0.058436     0.031176  \n 2022-05-19  1585180 -0.045606     -0.006700     0.017791  \n 2022-05-20        0  0.000000     -0.039073     0.008953  \n 2022-05-23        0  0.000000      0.000000     0.000000  \n 2022-05-24        0  0.000000      0.000000     0.000000  \n \n [3043 rows x 9 columns],\n 'PLZL':                     Open          High           Low         Close   \n Date                                                                 \n 2010-03-03   1435.638062   1443.311157   1423.414307   1438.090698  \\\n 2010-03-04   1437.598145   1437.598145   1423.640869   1424.596313   \n 2010-03-05   1428.250610   1440.917603   1418.390869   1431.806396   \n 2010-03-09   1428.240723   1428.240723   1410.540405   1416.420776   \n 2010-03-10   1417.405762   1435.115967   1413.081665   1427.265625   \n ...                  ...           ...           ...           ...   \n 2022-05-18  12380.000000  12450.000000  12243.500000  12351.000000   \n 2022-05-19  12300.500000  12350.000000  12049.000000  12350.000000   \n 2022-05-20  12350.000000  12350.000000  12350.000000  12350.000000   \n 2022-05-23  12350.000000  12350.000000  12350.000000  12350.000000   \n 2022-05-24  12350.000000  12350.000000  12350.000000  12350.000000   \n \n                Adj Close  Volume   log_ret  log_ret_high  log_ret_low  \n Date                                                                   \n 2010-03-03    967.416077   45130       NaN           NaN          NaN  \n 2010-03-04    958.338318   62443 -0.009428     -0.003966     0.000159  \n 2010-03-05    963.188660   96522  0.005048      0.002306    -0.003695  \n 2010-03-09    952.838745   60008 -0.010804     -0.008837    -0.005550  \n 2010-03-10    960.134033   65826  0.007627      0.004802     0.001800  \n ...                  ...     ...       ...           ...          ...  \n 2022-05-18  12351.000000   40821 -0.002345     -0.009791    -0.004604  \n 2022-05-19  12350.000000   18896 -0.000081     -0.008065    -0.016014  \n 2022-05-20  12350.000000       0  0.000000      0.000000     0.024674  \n 2022-05-23  12350.000000       0  0.000000      0.000000     0.000000  \n 2022-05-24  12350.000000       0  0.000000      0.000000     0.000000  \n \n [3043 rows x 9 columns],\n 'PMSB':                   Open        High         Low       Close   Adj Close   \n Date                                                                     \n 2010-03-04   34.999001   34.999001   34.999001   34.999001    6.872906  \\\n 2010-03-05   34.999001   34.999001   34.999001   34.999001    6.872906   \n 2010-03-09   34.999001   34.999001   34.999001   34.999001    6.872906   \n 2010-03-10   34.999001   34.999001   34.999001   34.999001    6.872906   \n 2010-03-11   36.000000   36.000000   34.000000   34.000000    6.676727   \n ...                ...         ...         ...         ...         ...   \n 2022-05-18  172.000000  172.899994  157.000000  158.500000  144.500000   \n 2022-05-19  142.699997  144.600006  125.000000  138.199997  138.199997   \n 2022-05-20  138.199997  138.199997  138.199997  138.199997  138.199997   \n 2022-05-23  138.199997  138.199997  138.199997  138.199997  138.199997   \n 2022-05-24  138.199997  138.199997  138.199997  138.199997  138.199997   \n \n             Volume   log_ret  log_ret_high  log_ret_low  \n Date                                                     \n 2010-03-04       1       NaN           NaN          NaN  \n 2010-03-05       0  0.000000      0.000000     0.000000  \n 2010-03-09       0  0.000000      0.000000     0.000000  \n 2010-03-10       0  0.000000      0.000000     0.000000  \n 2010-03-11      14 -0.028959      0.028199    -0.028959  \n ...            ...       ...           ...          ...  \n 2022-05-18  217470 -0.070044     -0.006342    -0.075427  \n 2022-05-19  181940 -0.137053     -0.178742    -0.227932  \n 2022-05-20       0  0.000000     -0.045269     0.100388  \n 2022-05-23       0  0.000000      0.000000     0.000000  \n 2022-05-24       0  0.000000      0.000000     0.000000  \n \n [3042 rows x 9 columns],\n 'POSI': Empty DataFrame\n Columns: [Open, High, Low, Close, Adj Close, Volume]\n Index: [],\n 'PRMB':                Open     High      Low    Close     Adj Close  Volume   \n Date                                                                   \n 2011-05-16   3300.0   3300.0   3300.0   3300.0   1491.081909      31  \\\n 2011-05-17   3405.0   4500.0   3100.0   4500.0   2033.293823     260   \n 2011-05-18   6300.0   6300.0   6300.0   6300.0   2846.611572       1   \n 2011-05-19   8820.0   8820.0   8820.0   8820.0   3985.256348       1   \n 2011-05-20   8820.0   8820.0   8820.0   8820.0   3985.256348       0   \n ...             ...      ...      ...      ...           ...     ...   \n 2022-05-18  40000.0  40000.0  39400.0  39600.0  39600.000000      11   \n 2022-05-19  39400.0  39400.0  34200.0  39200.0  39200.000000      10   \n 2022-05-20  39200.0  39200.0  39200.0  39200.0  39200.000000       0   \n 2022-05-23  39200.0  39200.0  39200.0  39200.0  39200.000000       0   \n 2022-05-24  39200.0  39200.0  39200.0  39200.0  39200.000000       0   \n \n              log_ret  log_ret_high  log_ret_low  \n Date                                             \n 2011-05-16       NaN           NaN          NaN  \n 2011-05-17  0.310155      0.310155    -0.062520  \n 2011-05-18  0.336472      0.336472     0.709148  \n 2011-05-19  0.336472      0.336472     0.336472  \n 2011-05-20  0.000000      0.000000     0.000000  \n ...              ...           ...          ...  \n 2022-05-18 -0.010050      0.000000    -0.015114  \n 2022-05-19 -0.010152     -0.015114    -0.141540  \n 2022-05-20  0.000000     -0.005089     0.136451  \n 2022-05-23  0.000000      0.000000     0.000000  \n 2022-05-24  0.000000      0.000000     0.000000  \n \n [2748 rows x 9 columns],\n 'RASP':                   Open        High         Low       Close   Adj Close   \n Date                                                                     \n 2010-03-03  168.607635  174.997543  168.607635  173.847565  135.590576  \\\n 2010-03-04  176.197540  178.997498  172.017593  177.697510  138.593277   \n 2010-03-05  179.497482  186.997375  178.997498  186.997375  145.846634   \n 2010-03-09  187.567368  198.267227  186.487396  190.007339  148.194214   \n 2010-03-10  195.747253  195.747253  186.697388  187.597366  146.314575   \n ...                ...         ...         ...         ...         ...   \n 2022-05-18  377.500000  391.100006  377.500000  384.100006  384.100006   \n 2022-05-19  384.000000  391.000000  375.000000  377.500000  377.500000   \n 2022-05-20  377.500000  377.500000  377.500000  377.500000  377.500000   \n 2022-05-23  377.500000  377.500000  377.500000  377.500000  377.500000   \n 2022-05-24  377.500000  377.500000  377.500000  377.500000  377.500000   \n \n             Volume   log_ret  log_ret_high  log_ret_low  \n Date                                                     \n 2010-03-03    2070       NaN           NaN          NaN  \n 2010-03-04    4769  0.021904      0.022600     0.020022  \n 2010-03-05    2648  0.051012      0.043723     0.039775  \n 2010-03-09    7286  0.015968      0.058521     0.040992  \n 2010-03-10    2045 -0.012765     -0.012791     0.001125  \n ...            ...       ...           ...          ...  \n 2022-05-18  298910  0.016538      0.026952     0.009047  \n 2022-05-19  199280 -0.017332     -0.000256    -0.006645  \n 2022-05-20       0  0.000000     -0.035137     0.006645  \n 2022-05-23       0  0.000000      0.000000     0.000000  \n 2022-05-24       0  0.000000      0.000000     0.000000  \n \n [3043 rows x 9 columns],\n 'RBCM':                  Open       High        Low      Close  Adj Close  Volume   \n Date                                                                        \n 2011-01-19  52.926285  52.926285  52.734524  52.926285  52.926285  235719  \\\n 2011-01-20  71.862778  74.096802  55.610954  68.506943  68.506943  376085   \n 2011-01-21  70.961494  85.209404  68.506943  71.814835  71.814835  297368   \n 2011-01-24  70.951904  73.348930  66.177032  68.478180  68.478180   53368   \n 2011-01-25  68.861702  68.986343  63.358135  66.244148  66.244148  118327   \n ...               ...        ...        ...        ...        ...     ...   \n 2022-05-18   2.724000   2.780000   2.666000   2.706000   2.706000  372400   \n 2022-05-19   2.702000   2.738000   2.690000   2.722000   2.722000  117800   \n 2022-05-20   2.722000   2.722000   2.722000   2.722000   2.722000       0   \n 2022-05-23   2.722000   2.722000   2.722000   2.722000   2.722000       0   \n 2022-05-24   2.722000   2.722000   2.722000   2.722000   2.722000       0   \n \n              log_ret  log_ret_high  log_ret_low  \n Date                                             \n 2011-01-19       NaN           NaN          NaN  \n 2011-01-20  0.258035      0.336472     0.053110  \n 2011-01-21  0.047156      0.139739     0.208555  \n 2011-01-24 -0.047576     -0.149884    -0.034602  \n 2011-01-25 -0.033168     -0.061319    -0.043530  \n ...              ...           ...          ...  \n 2022-05-18 -0.006630     -0.000719    -0.017844  \n 2022-05-19  0.005895     -0.015223     0.008962  \n 2022-05-20  0.000000     -0.005861     0.011826  \n 2022-05-23  0.000000      0.000000     0.000000  \n 2022-05-24  0.000000      0.000000     0.000000  \n \n [2826 rows x 9 columns],\n 'RDRB':                   Open        High         Low       Close   Adj Close   \n Date                                                                     \n 2014-12-11  158.590088  158.590088  158.590088  158.590088  110.444893  \\\n 2014-12-12  158.590088  158.590088  158.590088  158.590088  110.444893   \n 2014-12-15  158.590088  158.590088  158.590088  158.590088  110.444893   \n 2014-12-16  158.590088  158.590088  158.590088  158.590088  110.444893   \n 2014-12-17  158.590088  158.590088  158.590088  158.590088  110.444893   \n ...                ...         ...         ...         ...         ...   \n 2022-05-18  158.000000  160.000000  156.000000  156.000000  156.000000   \n 2022-05-19  156.000000  158.000000  156.000000  156.000000  156.000000   \n 2022-05-20  156.000000  156.000000  156.000000  156.000000  156.000000   \n 2022-05-23  156.000000  156.000000  156.000000  156.000000  156.000000   \n 2022-05-24  156.000000  156.000000  156.000000  156.000000  156.000000   \n \n             Volume  log_ret  log_ret_high  log_ret_low  \n Date                                                    \n 2014-12-11   68037      NaN           NaN          NaN  \n 2014-12-12       0      0.0      0.000000          0.0  \n 2014-12-15       0      0.0      0.000000          0.0  \n 2014-12-16       0      0.0      0.000000          0.0  \n 2014-12-17       0      0.0      0.000000          0.0  \n ...            ...      ...           ...          ...  \n 2022-05-18     630      0.0      0.000000          0.0  \n 2022-05-19     530      0.0     -0.012579          0.0  \n 2022-05-20       0      0.0     -0.012739          0.0  \n 2022-05-23       0      0.0      0.000000          0.0  \n 2022-05-24       0      0.0      0.000000          0.0  \n \n [1852 rows x 9 columns],\n 'RENI': Empty DataFrame\n Columns: [Open, High, Low, Close, Adj Close, Volume]\n Index: [],\n 'RGSS':                 Open      High       Low     Close  Adj Close     Volume   \n Date                                                                       \n 2013-11-20  0.279301  0.279301  0.277813  0.277813   0.257683         30  \\\n 2013-11-21  0.277813  0.277813  0.277813  0.277813   0.257683          0   \n 2013-11-22  0.277813  0.277813  0.277813  0.277813   0.257683          0   \n 2013-11-25  0.277813  0.277813  0.277813  0.277813   0.257683          0   \n 2013-11-26  0.280492  0.280492  0.280492  0.280492   0.260168  145116288   \n ...              ...       ...       ...       ...        ...        ...   \n 2022-05-18  0.133400  0.137200  0.131400  0.133800   0.133800    2375000   \n 2022-05-19  0.134600  0.134600  0.130200  0.131200   0.131200    2404000   \n 2022-05-20  0.131200  0.131200  0.131200  0.131200   0.131200          0   \n 2022-05-23  0.131200  0.131200  0.131200  0.131200   0.131200          0   \n 2022-05-24  0.131200  0.131200  0.131200  0.131200   0.131200          0   \n \n              log_ret  log_ret_high  log_ret_low  \n Date                                             \n 2013-11-20       NaN           NaN          NaN  \n 2013-11-21  0.000000     -0.005342     0.000000  \n 2013-11-22  0.000000      0.000000     0.000000  \n 2013-11-25  0.000000      0.000000     0.000000  \n 2013-11-26  0.009597      0.009597     0.009597  \n ...              ...           ...          ...  \n 2022-05-18  0.010518      0.023600     0.010712  \n 2022-05-19 -0.019623     -0.019132    -0.009174  \n 2022-05-20  0.000000     -0.025585     0.007651  \n 2022-05-23  0.000000      0.000000     0.000000  \n 2022-05-24  0.000000      0.000000     0.000000  \n \n [2115 rows x 9 columns],\n 'RKKE':                    Open         High          Low        Close    Adj Close   \n Date                                                                          \n 2010-03-02  8582.075195  8582.075195  8582.075195  8093.256836  6281.249512  \\\n 2010-03-03  8093.256836  8093.256836  8093.256836  8093.256836  6281.249512   \n 2010-03-04  8032.280273  8032.280273  8032.280273  8032.280273  6233.924805   \n 2010-03-05  8247.046875  8332.954102  8247.046875  8332.954102  6467.280273   \n 2010-03-09  8118.204102  8118.204102  8118.187012  8118.187012  6300.598633   \n ...                 ...          ...          ...          ...          ...   \n 2022-05-18  6550.000000  6660.000000  6310.000000  6400.000000  6400.000000   \n 2022-05-19  6400.000000  6450.000000  6350.000000  6370.000000  6370.000000   \n 2022-05-20  6370.000000  6370.000000  6370.000000  6370.000000  6370.000000   \n 2022-05-23  6370.000000  6370.000000  6370.000000  6370.000000  6370.000000   \n 2022-05-24  6370.000000  6370.000000  6370.000000  6370.000000  6370.000000   \n \n             Volume   log_ret  log_ret_high  log_ret_low  \n Date                                                     \n 2010-03-02       1       NaN           NaN          NaN  \n 2010-03-03       0  0.000000     -0.058645    -0.058645  \n 2010-03-04       5 -0.007563     -0.007563    -0.007563  \n 2010-03-05       2  0.036750      0.036750     0.026387  \n 2010-03-09       1 -0.026111     -0.026109    -0.015748  \n ...            ...       ...           ...          ...  \n 2022-05-18     126 -0.013965      0.007536    -0.001584  \n 2022-05-19      38 -0.004699     -0.032039     0.006319  \n 2022-05-20       0  0.000000     -0.012481     0.003145  \n 2022-05-23       0  0.000000      0.000000     0.000000  \n 2022-05-24       0  0.000000      0.000000     0.000000  \n \n [3044 rows x 9 columns],\n 'RNFT':                   Open        High         Low       Close   Adj Close  Volume\n Date                                                                          \n 2017-05-25  589.400024  589.799988  586.400024  587.599976  587.599976   29923\n 2017-05-26  587.000000  589.200012  586.099976  586.799988  586.799988   29269\n 2017-05-29  586.000000  589.500000  585.500000  587.900024  587.900024   31990\n 2017-05-30  586.099976  587.900024  585.700012  587.099976  587.099976   34383\n 2017-05-31  585.700012  592.000000  585.700012  592.000000  592.000000   43049\n ...                ...         ...         ...         ...         ...     ...\n 2022-05-18   97.400002   98.599998   96.000000   96.400002   96.400002  173453\n 2022-05-19   96.199997  101.000000   94.400002   97.199997   97.199997  253515\n 2022-05-20   97.199997   97.199997   97.199997   97.199997   97.199997       0\n 2022-05-23   97.199997   97.199997   97.199997   97.199997   97.199997       0\n 2022-05-24   97.199997   97.199997   97.199997   97.199997   97.199997       0\n \n [1239 rows x 6 columns],\n 'ROLO':              Open   High    Low  Close  Adj Close  Volume   log_ret   \n Date                                                                  \n 2013-08-13  1.000  1.000  1.000   1.00       1.00     750       NaN  \\\n 2013-08-14  1.000  1.000  1.000   1.00       1.00       0  0.000000   \n 2013-08-15  0.990  0.990  0.990   0.99       0.99     510 -0.010050   \n 2013-08-16  0.990  0.990  0.990   0.99       0.99       0  0.000000   \n 2013-08-19  0.990  0.990  0.990   0.99       0.99       0  0.000000   \n ...           ...    ...    ...    ...        ...     ...       ...   \n 2022-05-18  8.150  8.250  8.050   8.10       8.10  526200  0.000000   \n 2022-05-19  8.105  8.155  8.005   8.11       8.11  332900  0.001234   \n 2022-05-20  8.110  8.110  8.110   8.11       8.11       0  0.000000   \n 2022-05-23  8.110  8.110  8.110   8.11       8.11       0  0.000000   \n 2022-05-24  8.110  8.110  8.110   8.11       8.11       0  0.000000   \n \n             log_ret_high  log_ret_low  \n Date                                   \n 2013-08-13           NaN          NaN  \n 2013-08-14      0.000000     0.000000  \n 2013-08-15     -0.010050    -0.010050  \n 2013-08-16      0.000000     0.000000  \n 2013-08-19      0.000000     0.000000  \n ...                  ...          ...  \n 2022-05-18      0.007910    -0.001241  \n 2022-05-19     -0.011582    -0.005606  \n 2022-05-20     -0.005533     0.013031  \n 2022-05-23      0.000000     0.000000  \n 2022-05-24      0.000000     0.000000  \n \n [2185 rows x 9 columns],\n 'ROSB':                   Open        High         Low       Close   Adj Close   \n Date                                                                     \n 2010-03-03  117.329605  119.804306  115.197548  118.976234  118.976234  \\\n 2010-03-04  116.777550  119.918526  116.120804  118.842979  118.842979   \n 2010-03-05  118.976234  119.918526  115.901886  117.205864  117.205864   \n 2010-03-09  116.120804  117.986351  113.293930  116.358757  116.358757   \n 2010-03-10  114.474174  130.873856  112.323082  121.831665  121.831665   \n ...                ...         ...         ...         ...         ...   \n 2022-05-18  176.600006  176.600006  176.600006  176.600006  176.600006   \n 2022-05-19  176.600006  176.600006  176.600006  176.600006  176.600006   \n 2022-05-20  176.600006  176.600006  176.600006  176.600006  176.600006   \n 2022-05-23  176.600006  176.600006  176.600006  176.600006  176.600006   \n 2022-05-24  176.600006  176.600006  176.600006  176.600006  176.600006   \n \n             Volume   log_ret  log_ret_high  log_ret_low  \n Date                                                     \n 2010-03-03   18362       NaN           NaN          NaN  \n 2010-03-04   20405 -0.001121      0.000953     0.007983  \n 2010-03-05   16328 -0.013871      0.000000    -0.001887  \n 2010-03-09   25093 -0.007254     -0.016244    -0.022758  \n 2010-03-10  292888  0.045962      0.103665    -0.008606  \n ...            ...       ...           ...          ...  \n 2022-05-18       0  0.000000      0.000000     0.000000  \n 2022-05-19       0  0.000000      0.000000     0.000000  \n 2022-05-20       0  0.000000      0.000000     0.000000  \n 2022-05-23       0  0.000000      0.000000     0.000000  \n 2022-05-24       0  0.000000      0.000000     0.000000  \n \n [3043 rows x 9 columns],\n 'ROSN':                   Open        High         Low       Close   Adj Close   \n Date                                                                     \n 2010-03-03  237.000000  238.899994  234.240005  238.350006  152.897797  \\\n 2010-03-04  236.800003  239.990005  235.250000  238.500000  152.994034   \n 2010-03-05  239.800003  243.770004  237.850006  243.440002  156.162918   \n 2010-03-09  243.000000  243.440002  236.710007  239.779999  153.815109   \n 2010-03-10  239.009995  242.050003  236.339996  237.500000  152.352493   \n ...                ...         ...         ...         ...         ...   \n 2022-05-18  397.350006  406.000000  395.700012  404.000000  404.000000   \n 2022-05-19  403.000000  405.950012  395.149994  399.600006  399.600006   \n 2022-05-20  399.600006  399.600006  399.600006  399.600006  399.600006   \n 2022-05-23  399.600006  399.600006  399.600006  399.600006  399.600006   \n 2022-05-24  399.600006  399.600006  399.600006  399.600006  399.600006   \n \n              Volume   log_ret  log_ret_high  log_ret_low  \n Date                                                      \n 2010-03-03  5183045       NaN           NaN          NaN  \n 2010-03-04  5847338  0.000629      0.004552     0.004303  \n 2010-03-05  5401716  0.020501      0.015628     0.010991  \n 2010-03-09  5812857 -0.015149     -0.001355    -0.004804  \n 2010-03-10  5514502 -0.009554     -0.005726    -0.001564  \n ...             ...       ...           ...          ...  \n 2022-05-18  2423467  0.023289      0.026455     0.037595  \n 2022-05-19   911286 -0.010951     -0.000123    -0.001391  \n 2022-05-20        0  0.000000     -0.015766     0.011199  \n 2022-05-23        0  0.000000      0.000000     0.000000  \n 2022-05-24        0  0.000000      0.000000     0.000000  \n \n [3043 rows x 9 columns],\n 'ROST':                   Open        High         Low       Close   Adj Close   \n Date                                                                     \n 2010-03-03  335.000000  335.000000  328.989990  330.019989  330.019989  \\\n 2010-03-04  335.000000  335.000000  320.000000  324.790009  324.790009   \n 2010-03-05  324.790009  324.790009  320.000000  322.000000  322.000000   \n 2010-03-09  322.000000  332.000000  317.320007  317.700012  317.700012   \n 2010-03-10  319.989990  333.000000  319.989990  330.010010  330.010010   \n ...                ...         ...         ...         ...         ...   \n 2022-05-18   46.200001   47.200001   46.000000   46.599998   46.599998   \n 2022-05-19   46.400002   47.000000   46.000000   46.400002   46.400002   \n 2022-05-20   46.400002   46.400002   46.400002   46.400002   46.400002   \n 2022-05-23   46.400002   46.400002   46.400002   46.400002   46.400002   \n 2022-05-24   46.400002   46.400002   46.400002   46.400002   46.400002   \n \n             Volume   log_ret  log_ret_high  log_ret_low  \n Date                                                     \n 2010-03-03      81       NaN           NaN          NaN  \n 2010-03-04    4342 -0.015974      0.000000    -0.027706  \n 2010-03-05     404 -0.008627     -0.030952     0.000000  \n 2010-03-09    5276 -0.013444      0.021956    -0.008410  \n 2010-03-10    2790  0.038015      0.003008     0.008379  \n ...            ...       ...           ...          ...  \n 2022-05-18    4030  0.000000      0.012793     0.008734  \n 2022-05-19    3470 -0.004301     -0.004246     0.000000  \n 2022-05-20       0  0.000000     -0.012848     0.008658  \n 2022-05-23       0  0.000000      0.000000     0.000000  \n 2022-05-24       0  0.000000      0.000000     0.000000  \n \n [3043 rows x 9 columns],\n 'RTGZ':                Open     High      Low    Close  Adj Close  Volume   log_ret   \n Date                                                                          \n 2012-11-07  15000.0  15000.0  14700.0  14780.0    14780.0       0       NaN  \\\n 2012-11-09  13200.0  13200.0  13200.0  13200.0    13200.0       4 -0.113058   \n 2012-11-12  13200.0  13300.0  13000.0  13000.0    13000.0      25 -0.015267   \n 2012-11-13  13000.0  13000.0  13000.0  13000.0    13000.0       0  0.000000   \n 2012-11-14  13000.0  13000.0  13000.0  13000.0    13000.0       0  0.000000   \n ...             ...      ...      ...      ...        ...     ...       ...   \n 2022-05-18  26700.0  26700.0  26100.0  26100.0    26100.0      45 -0.037598   \n 2022-05-19  26200.0  26700.0  26200.0  26700.0    26700.0       2  0.022728   \n 2022-05-20  26700.0  26700.0  26700.0  26700.0    26700.0       0  0.000000   \n 2022-05-23  26700.0  26700.0  26700.0  26700.0    26700.0       0  0.000000   \n 2022-05-24  26700.0  26700.0  26700.0  26700.0    26700.0       0  0.000000   \n \n             log_ret_high  log_ret_low  \n Date                                   \n 2012-11-07           NaN          NaN  \n 2012-11-09     -0.127833    -0.107631  \n 2012-11-12      0.007547    -0.015267  \n 2012-11-13     -0.022815     0.000000  \n 2012-11-14      0.000000     0.000000  \n ...                  ...          ...  \n 2022-05-18     -0.025879     0.011561  \n 2022-05-19      0.000000     0.003824  \n 2022-05-20      0.000000     0.018904  \n 2022-05-23      0.000000     0.000000  \n 2022-05-24      0.000000     0.000000  \n \n [2373 rows x 9 columns],\n 'RTKM':                   Open        High         Low       Close  Adj Close   \n Date                                                                    \n 2010-03-03  146.000000  146.589996  143.699997  144.500000  78.206421  \\\n 2010-03-04  144.550003  145.889999  144.550003  145.110001  78.536552   \n 2010-03-05  145.500000  145.929993  144.779999  145.100006  78.531151   \n 2010-03-09  145.500000  148.000000  145.500000  147.789993  79.987030   \n 2010-03-10  147.729996  151.559998  146.779999  148.589996  80.420013   \n ...                ...         ...         ...         ...        ...   \n 2022-05-18   58.990002   61.970001   58.810001   59.349998  59.349998   \n 2022-05-19   59.500000   59.770000   57.700001   59.009998  59.009998   \n 2022-05-20   59.009998   59.009998   59.009998   59.009998  59.009998   \n 2022-05-23   59.009998   59.009998   59.009998   59.009998  59.009998   \n 2022-05-24   59.009998   59.009998   59.009998   59.009998  59.009998   \n \n              Volume   log_ret  log_ret_high  log_ret_low  \n Date                                                      \n 2010-03-03   625852       NaN           NaN          NaN  \n 2010-03-04   394547  0.004213     -0.004787     0.005898  \n 2010-03-05   444823 -0.000069      0.000274     0.001590  \n 2010-03-09   502329  0.018369      0.014085     0.004961  \n 2010-03-10   675383  0.005399      0.023769     0.008759  \n ...             ...       ...           ...          ...  \n 2022-05-18  2118250  0.009821      0.049622     0.011802  \n 2022-05-19   802510 -0.005745     -0.036147    -0.019055  \n 2022-05-20        0  0.000000     -0.012797     0.022450  \n 2022-05-23        0  0.000000      0.000000     0.000000  \n 2022-05-24        0  0.000000      0.000000     0.000000  \n \n [3043 rows x 9 columns],\n 'RTSB':              Open   High    Low  Close  Adj Close  Volume   log_ret   \n Date                                                                  \n 2010-03-03  0.140  0.145  0.130  0.143   0.049112   12152       NaN  \\\n 2010-03-04  0.155  0.155  0.133  0.139   0.047739    6190 -0.028371   \n 2010-03-05  0.138  0.142  0.134  0.142   0.048769   17542  0.021353   \n 2010-03-09  0.162  0.162  0.130  0.136   0.046708    5822 -0.043172   \n 2010-03-10  0.139  0.139  0.133  0.136   0.046708    6369  0.000000   \n ...           ...    ...    ...    ...        ...     ...       ...   \n 2022-05-18  0.480  0.492  0.472  0.480   0.480000   89000  0.000000   \n 2022-05-19  0.488  0.520  0.476  0.514   0.514000  654000  0.068437   \n 2022-05-20  0.514  0.514  0.514  0.514   0.514000       0  0.000000   \n 2022-05-23  0.514  0.514  0.514  0.514   0.514000       0  0.000000   \n 2022-05-24  0.514  0.514  0.514  0.514   0.514000       0  0.000000   \n \n             log_ret_high  log_ret_low  \n Date                                   \n 2010-03-03           NaN          NaN  \n 2010-03-04      0.066691     0.022815  \n 2010-03-05     -0.087598     0.007491  \n 2010-03-09      0.131769    -0.030305  \n 2010-03-10     -0.153122     0.022815  \n ...                  ...          ...  \n 2022-05-18      0.024693     0.021414  \n 2022-05-19      0.055350     0.008439  \n 2022-05-20     -0.011606     0.076805  \n 2022-05-23      0.000000     0.000000  \n 2022-05-24      0.000000     0.000000  \n \n [3043 rows x 9 columns],\n 'RUAL':                  Open       High        Low      Close  Adj Close   Volume   \n Date                                                                         \n 2015-03-30  37.000000  37.340000  37.000000  37.340000  37.270748   539200  \\\n 2015-03-31  36.849998  37.000000  36.349998  36.820000  36.751709   484000   \n 2015-04-01  36.000000  36.450001  35.805000  36.244999  36.177773   319000   \n 2015-04-02  36.005001  36.560001  35.799999  36.450001  36.382393   233615   \n 2015-04-03  36.000000  36.720001  35.950001  36.645000  36.577034   265200   \n ...               ...        ...        ...        ...        ...      ...   \n 2022-05-18  64.879997  65.574997  63.840000  64.019997  64.019997  3569110   \n 2022-05-19  64.514999  64.514999  62.900002  63.125000  63.125000  2933600   \n 2022-05-20  63.125000  63.125000  63.125000  63.125000  63.125000        0   \n 2022-05-23  63.125000  63.125000  63.125000  63.125000  63.125000        0   \n 2022-05-24  63.125000  63.125000  63.125000  63.125000  63.125000        0   \n \n              log_ret  log_ret_high  log_ret_low  \n Date                                             \n 2015-03-30       NaN           NaN          NaN  \n 2015-03-31 -0.014024     -0.009147    -0.017724  \n 2015-04-01 -0.015740     -0.014976    -0.015107  \n 2015-04-02  0.005640      0.003013    -0.000140  \n 2015-04-03  0.005336      0.004367     0.004181  \n ...              ...           ...          ...  \n 2022-05-18 -0.004364      0.016917     0.010076  \n 2022-05-19 -0.014079     -0.016297    -0.014834  \n 2022-05-20  0.000000     -0.021781     0.003571  \n 2022-05-23  0.000000      0.000000     0.000000  \n 2022-05-24  0.000000      0.000000     0.000000  \n \n [1781 rows x 9 columns],\n 'RUSI':                  Open       High        Low      Close  Adj Close  Volume   \n Date                                                                        \n 2012-08-31  45.000000  45.000000  45.000000  45.000000  45.000000     500  \\\n 2012-09-03  45.000000  45.000000  45.000000  45.000000  45.000000       5   \n 2012-09-04  45.000000  45.000000  45.000000  45.000000  45.000000       0   \n 2012-09-05  45.000000  45.000000  45.000000  45.000000  45.000000       0   \n 2012-09-06  45.000000  45.000000  45.000000  45.000000  45.000000       0   \n ...               ...        ...        ...        ...        ...     ...   \n 2022-05-18  64.900002  66.000000  57.000000  59.500000  59.500000  165510   \n 2022-05-19  60.500000  60.500000  55.299999  56.900002  56.900002   26410   \n 2022-05-20  56.900002  56.900002  56.900002  56.900002  56.900002       0   \n 2022-05-23  56.900002  56.900002  56.900002  56.900002  56.900002       0   \n 2022-05-24  56.900002  56.900002  56.900002  56.900002  56.900002       0   \n \n              log_ret  log_ret_high  log_ret_low  \n Date                                             \n 2012-08-31       NaN           NaN          NaN  \n 2012-09-03  0.000000      0.000000     0.000000  \n 2012-09-04  0.000000      0.000000     0.000000  \n 2012-09-05  0.000000      0.000000     0.000000  \n 2012-09-06  0.000000      0.000000     0.000000  \n ...              ...           ...          ...  \n 2022-05-18 -0.103678      0.000000    -0.042925  \n 2022-05-19 -0.044681     -0.087011    -0.030278  \n 2022-05-20  0.000000     -0.061348     0.028522  \n 2022-05-23  0.000000      0.000000     0.000000  \n 2022-05-24  0.000000      0.000000     0.000000  \n \n [2421 rows x 9 columns],\n 'RZSB':                  Open       High        Low      Close  Adj Close  Volume   \n Date                                                                        \n 2010-03-03   3.630000   3.630000   3.501000   3.501000   1.363176       4  \\\n 2010-03-04   3.670000   3.670000   3.670000   3.670000   1.428979       1   \n 2010-03-05   3.670000   3.670000   3.670000   3.670000   1.428979       0   \n 2010-03-09   3.670000   3.670000   3.670000   3.670000   1.428979       0   \n 2010-03-10   3.670000   3.670000   3.670000   3.670000   1.428979       1   \n ...               ...        ...        ...        ...        ...     ...   \n 2022-05-18  21.440001  21.620001  20.879999  21.240000  21.240000   51900   \n 2022-05-19  20.840000  21.559999  20.840000  21.219999  21.219999   60200   \n 2022-05-20  21.219999  21.219999  21.219999  21.219999  21.219999       0   \n 2022-05-23  21.219999  21.219999  21.219999  21.219999  21.219999       0   \n 2022-05-24  21.219999  21.219999  21.219999  21.219999  21.219999       0   \n \n              log_ret  log_ret_high  log_ret_low  \n Date                                             \n 2010-03-03       NaN           NaN          NaN  \n 2010-03-04  0.047143      0.010959     0.047143  \n 2010-03-05  0.000000      0.000000     0.000000  \n 2010-03-09  0.000000      0.000000     0.000000  \n 2010-03-10  0.000000      0.000000     0.000000  \n ...              ...           ...          ...  \n 2022-05-18 -0.013097      0.000000    -0.006683  \n 2022-05-19 -0.000942     -0.002779    -0.001917  \n 2022-05-20  0.000000     -0.015896     0.018070  \n 2022-05-23  0.000000      0.000000     0.000000  \n 2022-05-24  0.000000      0.000000     0.000000  \n \n [3043 rows x 9 columns],\n 'SAGO':              Open   High    Low  Close  Adj Close  Volume   log_ret   \n Date                                                                  \n 2011-10-24  0.600  0.670  0.590  0.630   0.466205      82       NaN  \\\n 2011-10-25  0.638  0.650  0.610  0.640   0.473605      43  0.015748   \n 2011-10-26  0.620  0.640  0.590  0.590   0.436604      13 -0.081346   \n 2011-10-27  0.630  0.778  0.630  0.663   0.490625     627  0.116652   \n 2011-10-28  0.700  0.700  0.662  0.693   0.512825     597  0.044255   \n ...           ...    ...    ...    ...        ...     ...       ...   \n 2022-05-18  1.246  1.260  1.246  1.248   1.248000   13000  0.001604   \n 2022-05-19  1.248  1.262  1.248  1.262   1.262000   17000  0.011155   \n 2022-05-20  1.262  1.262  1.262  1.262   1.262000       0  0.000000   \n 2022-05-23  1.262  1.262  1.262  1.262   1.262000       0  0.000000   \n 2022-05-24  1.262  1.262  1.262  1.262   1.262000       0  0.000000   \n \n             log_ret_high  log_ret_low  \n Date                                   \n 2011-10-24           NaN          NaN  \n 2011-10-25     -0.030305     0.033336  \n 2011-10-26     -0.015504    -0.033336  \n 2011-10-27      0.195258     0.065597  \n 2011-10-28     -0.105646     0.049546  \n ...                  ...          ...  \n 2022-05-18     -0.017310     0.004827  \n 2022-05-19      0.001586     0.001604  \n 2022-05-20      0.000000     0.011155  \n 2022-05-23      0.000000     0.000000  \n 2022-05-24      0.000000     0.000000  \n \n [2634 rows x 9 columns],\n 'SARE':               Open    High     Low   Close  Adj Close   Volume   log_ret   \n Date                                                                       \n 2011-11-24  0.1060  0.1060  0.1060  0.1060     0.1060   250000       NaN  \\\n 2011-11-25  0.0990  0.0990  0.0730  0.0960     0.0960  1310000 -0.099091   \n 2011-11-28  0.0960  0.1200  0.0850  0.0960     0.0960  1060000  0.000000   \n 2011-11-29  0.0960  0.0970  0.0960  0.0970     0.0970    40000  0.010363   \n 2011-11-30  0.0950  0.0970  0.0950  0.0970     0.0970   290000  0.000000   \n ...            ...     ...     ...     ...        ...      ...       ...   \n 2022-05-18  0.1302  0.1342  0.1288  0.1294     0.1294  1230000 -0.024429   \n 2022-05-19  0.1312  0.1316  0.1250  0.1268     0.1268  3710000 -0.020297   \n 2022-05-20  0.1268  0.1268  0.1268  0.1268     0.1268        0  0.000000   \n 2022-05-23  0.1268  0.1268  0.1268  0.1268     0.1268        0  0.000000   \n 2022-05-24  0.1268  0.1268  0.1268  0.1268     0.1268        0  0.000000   \n \n             log_ret_high  log_ret_low  \n Date                                   \n 2011-11-24           NaN          NaN  \n 2011-11-25     -0.068319    -0.372980  \n 2011-11-28      0.192372     0.152192  \n 2011-11-29     -0.212781     0.121697  \n 2011-11-30      0.000000    -0.010471  \n ...                  ...          ...  \n 2022-05-18     -0.016260    -0.001552  \n 2022-05-19     -0.019564    -0.029947  \n 2022-05-20     -0.037156     0.014297  \n 2022-05-23      0.000000     0.000000  \n 2022-05-24      0.000000     0.000000  \n \n [2612 rows x 9 columns],\n 'SBER':                   Open        High         Low       Close   Adj Close   \n Date                                                                     \n 2011-11-21   79.000000   79.370003   75.849998   75.989998   41.231758  \\\n 2011-11-22   76.940002   77.760002   75.099998   76.400002   41.454231   \n 2011-11-23   75.000000   77.440002   74.419998   76.800003   41.671265   \n 2011-11-24   76.730003   77.290001   73.820000   73.820000   40.054329   \n 2011-11-25   75.400002   78.750000   73.750000   78.269997   42.468876   \n ...                ...         ...         ...         ...         ...   \n 2022-05-18  128.199997  131.300003  125.000000  125.120003  125.120003   \n 2022-05-19  125.309998  126.860001  123.209999  125.599998  125.599998   \n 2022-05-20  125.599998  125.599998  125.599998  125.599998  125.599998   \n 2022-05-23  125.599998  125.599998  125.599998  125.599998  125.599998   \n 2022-05-24  125.599998  125.599998  125.599998  125.599998  125.599998   \n \n                Volume   log_ret  log_ret_high  log_ret_low  \n Date                                                        \n 2011-11-21  293803296       NaN           NaN          NaN  \n 2011-11-22  272599360  0.005381     -0.020493    -0.009937  \n 2011-11-23  335403040  0.005222     -0.004124    -0.009096  \n 2011-11-24  177337888 -0.039575     -0.001939    -0.008095  \n 2011-11-25  319155936  0.058535      0.018714    -0.000949  \n ...               ...       ...           ...          ...  \n 2022-05-18   55565940 -0.020802      0.027175     0.010859  \n 2022-05-19   34246550  0.003829     -0.034401    -0.014424  \n 2022-05-20          0  0.000000     -0.009982     0.019212  \n 2022-05-23          0  0.000000      0.000000     0.000000  \n 2022-05-24          0  0.000000      0.000000     0.000000  \n \n [2615 rows x 9 columns],\n 'SELG':                  Open       High        Low      Close  Adj Close  Volume   \n Date                                                                        \n 2011-09-30  16.170000  16.170000  16.170000  16.170000  12.728200   40000  \\\n 2011-10-03  16.200001  16.200001  16.200001  16.184999  12.740006   40000   \n 2011-10-04  16.184999  16.184999  16.184999  16.184999  12.740006       0   \n 2011-10-05  16.184999  16.184999  16.184999  16.184999  12.740006       0   \n 2011-10-06  16.184999  16.184999  16.184999  16.184999  12.740006       0   \n ...               ...        ...        ...        ...        ...     ...   \n 2022-05-18  49.450001  49.459999  46.740002  49.009998  49.009998  792100   \n 2022-05-19  49.200001  49.340000  48.799999  48.910000  48.910000  446390   \n 2022-05-20  48.910000  48.910000  48.910000  48.910000  48.910000       0   \n 2022-05-23  48.910000  48.910000  48.910000  48.910000  48.910000       0   \n 2022-05-24  48.910000  48.910000  48.910000  48.910000  48.910000       0   \n \n              log_ret  log_ret_high  log_ret_low  \n Date                                             \n 2011-09-30       NaN           NaN          NaN  \n 2011-10-03  0.000927      0.001854     0.001854  \n 2011-10-04  0.000000     -0.000926    -0.000926  \n 2011-10-05  0.000000      0.000000     0.000000  \n 2011-10-06  0.000000      0.000000     0.000000  \n ...              ...           ...          ...  \n 2022-05-18 -0.004073     -0.004438    -0.047220  \n 2022-05-19 -0.002042     -0.002429     0.043130  \n 2022-05-20  0.000000     -0.008753     0.002252  \n 2022-05-23  0.000000      0.000000     0.000000  \n 2022-05-24  0.000000      0.000000     0.000000  \n \n [2650 rows x 9 columns],\n 'SFIN':                   Open        High         Low       Close   Adj Close   \n Date                                                                     \n 2015-12-11  587.000000  587.000000  570.000000  570.000000  531.216858  \\\n 2015-12-14  571.000000  574.000000  560.000000  574.000000  534.944763   \n 2015-12-15  574.000000  574.000000  569.000000  569.299988  530.564514   \n 2015-12-16  573.900024  573.900024  573.900024  573.900024  534.851562   \n 2015-12-17  560.000000  572.000000  560.000000  571.900024  532.987610   \n ...                ...         ...         ...         ...         ...   \n 2022-05-18  448.600006  455.000000  448.600006  455.000000  455.000000   \n 2022-05-19  454.200012  462.600006  454.200012  462.000000  462.000000   \n 2022-05-20  462.000000  462.000000  462.000000  462.000000  462.000000   \n 2022-05-23  462.000000  462.000000  462.000000  462.000000  462.000000   \n 2022-05-24  462.000000  462.000000  462.000000  462.000000  462.000000   \n \n             Volume   log_ret  log_ret_high  log_ret_low  \n Date                                                     \n 2015-12-11   97175       NaN           NaN          NaN  \n 2015-12-14  250360  0.006993     -0.022395    -0.017700  \n 2015-12-15  200100 -0.008222      0.000000     0.015944  \n 2015-12-16  180000  0.008048     -0.000174     0.008575  \n 2015-12-17  154770 -0.003491     -0.003316    -0.024518  \n ...            ...       ...           ...          ...  \n 2022-05-18    3370  0.006615      0.000000     0.017994  \n 2022-05-19    3390  0.015267      0.016565     0.012406  \n 2022-05-20       0  0.000000     -0.001298     0.017027  \n 2022-05-23       0  0.000000      0.000000     0.000000  \n 2022-05-24       0  0.000000      0.000000     0.000000  \n \n [1601 rows x 9 columns],\n 'SGZH': Empty DataFrame\n Columns: [Open, High, Low, Close, Adj Close, Volume]\n Index: [],\n 'SIBN':                   Open        High         Low       Close   Adj Close   \n Date                                                                     \n 2010-03-03  140.000000  143.429993  139.610001  143.050003   65.936195  \\\n 2010-03-04  142.470001  147.990005  140.729996  146.380005   67.471100   \n 2010-03-05  146.279999  148.990005  145.539993  148.660004   68.522011   \n 2010-03-09  148.679993  148.699997  144.990005  145.729996   67.171486   \n 2010-03-10  145.619995  146.289993  140.110001  140.940002   64.963615   \n ...                ...         ...         ...         ...         ...   \n 2022-05-18  403.000000  438.799988  403.000000  430.000000  430.000000   \n 2022-05-19  445.500000  457.200012  412.399994  418.000000  418.000000   \n 2022-05-20  418.000000  418.000000  418.000000  418.000000  418.000000   \n 2022-05-23  418.000000  418.000000  418.000000  418.000000  418.000000   \n 2022-05-24  418.000000  418.000000  418.000000  418.000000  418.000000   \n \n             Volume   log_ret  log_ret_high  log_ret_low  \n Date                                                     \n 2010-03-03  198754       NaN           NaN          NaN  \n 2010-03-04  430560  0.023012      0.031298     0.007990  \n 2010-03-05  357715  0.015456      0.006734     0.033608  \n 2010-03-09  370950 -0.019906     -0.001948    -0.003786  \n 2010-03-10  688357 -0.033421     -0.016340    -0.034237  \n ...            ...       ...           ...          ...  \n 2022-05-18  967881  0.077208      0.075231     0.023220  \n 2022-05-19  752451 -0.028304      0.041077     0.023057  \n 2022-05-20       0  0.000000     -0.089640     0.013488  \n 2022-05-23       0  0.000000      0.000000     0.000000  \n 2022-05-24       0  0.000000      0.000000     0.000000  \n \n [3043 rows x 9 columns],\n 'SLEN': Empty DataFrame\n Columns: [Open, High, Low, Close, Adj Close, Volume]\n Index: [],\n 'SMLT': Empty DataFrame\n Columns: [Open, High, Low, Close, Adj Close, Volume]\n Index: [],\n 'SNGS':                  Open       High        Low      Close  Adj Close    Volume   \n Date                                                                          \n 2010-03-03  25.051001  25.650000  25.010000  25.549999  19.944283    108729  \\\n 2010-03-04  25.299999  25.898001  25.299999  25.858999  20.185482    148898   \n 2010-03-05  25.985001  26.299999  25.611000  26.202999  20.454008    105392   \n 2010-03-09  26.160000  26.400000  25.700001  26.100000  20.373610     83584   \n 2010-03-10  25.408001  26.330000  25.408001  25.908001  20.223734    101414   \n ...               ...        ...        ...        ...        ...       ...   \n 2022-05-18  23.160000  24.700001  23.160000  23.400000  23.400000  26626700   \n 2022-05-19  24.395000  24.395000  22.915001  23.695000  23.695000  14285000   \n 2022-05-20  23.695000  23.695000  23.695000  23.695000  23.695000         0   \n 2022-05-23  23.695000  23.695000  23.695000  23.695000  23.695000         0   \n 2022-05-24  23.695000  23.695000  23.695000  23.695000  23.695000         0   \n \n              log_ret  log_ret_high  log_ret_low  \n Date                                             \n 2010-03-03       NaN           NaN          NaN  \n 2010-03-04  0.012021      0.009622     0.011529  \n 2010-03-05  0.013215      0.015403     0.012218  \n 2010-03-09 -0.003939      0.003795     0.003469  \n 2010-03-10 -0.007383     -0.002655    -0.011427  \n ...              ...           ...          ...  \n 2022-05-18  0.017242      0.056420     0.028911  \n 2022-05-19  0.012528     -0.012425    -0.010635  \n 2022-05-20  0.000000     -0.029114     0.033472  \n 2022-05-23  0.000000      0.000000     0.000000  \n 2022-05-24  0.000000      0.000000     0.000000  \n \n [3043 rows x 9 columns],\n 'SPBE':                   Open        High         Low       Close   Adj Close  Volume\n Date                                                                          \n 2022-01-27  753.200012  758.000000  737.000000  742.099976  742.099976   77440\n 2022-01-28  746.299988  770.000000  733.799988  735.799988  735.799988   45138\n 2022-01-31  750.200012  797.000000  732.099976  797.000000  797.000000  304291\n 2022-02-01  793.099976  797.000000  760.799988  773.599976  773.599976  162116\n 2022-02-02  799.900024  799.900024  766.000000  771.000000  771.000000   26438\n ...                ...         ...         ...         ...         ...     ...\n 2022-05-18  244.500000  258.500000  241.699997  254.600006  254.600006  195349\n 2022-05-19  251.300003  252.100006  239.699997  245.899994  245.899994  107170\n 2022-05-20  245.899994  245.899994  245.899994  245.899994  245.899994       0\n 2022-05-23  245.899994  245.899994  245.899994  245.899994  245.899994       0\n 2022-05-24  245.899994  245.899994  245.899994  245.899994  245.899994       0\n \n [61 rows x 6 columns],\n 'STSB':              Open   High     Low  Close  Adj Close  Volume   log_ret   \n Date                                                                   \n 2010-03-01  0.488  0.488  0.4500  0.487      0.487     176       NaN  \\\n 2010-03-02  0.487  0.487  0.4870  0.487      0.487       0  0.000000   \n 2010-03-03  0.487  0.487  0.4870  0.487      0.487       0  0.000000   \n 2010-03-04  0.489  0.583  0.4770  0.535      0.535    5811  0.094003   \n 2010-03-05  0.501  0.749  0.4690  0.616      0.616    3293  0.140980   \n ...           ...    ...     ...    ...        ...     ...       ...   \n 2022-05-18  0.679  0.694  0.6705  0.677      0.677  367000  0.004441   \n 2022-05-19  0.690  0.690  0.6660  0.670      0.670  123000 -0.010394   \n 2022-05-20  0.670  0.670  0.6700  0.670      0.670       0  0.000000   \n 2022-05-23  0.670  0.670  0.6700  0.670      0.670       0  0.000000   \n 2022-05-24  0.670  0.670  0.6700  0.670      0.670       0  0.000000   \n \n             log_ret_high  log_ret_low  \n Date                                   \n 2010-03-01           NaN          NaN  \n 2010-03-02     -0.002051     0.079017  \n 2010-03-03      0.000000     0.000000  \n 2010-03-04      0.179923    -0.020748  \n 2010-03-05      0.250552    -0.016914  \n ...                  ...          ...  \n 2022-05-18      0.021115     0.046556  \n 2022-05-19     -0.005780    -0.006734  \n 2022-05-20     -0.029414     0.005988  \n 2022-05-23      0.000000     0.000000  \n 2022-05-24      0.000000     0.000000  \n \n [3045 rows x 9 columns],\n 'SVAV':                   Open        High         Low       Close   Adj Close   \n Date                                                                     \n 2010-03-03  547.031555  560.000000  537.431580  557.894714  477.014343  \\\n 2010-03-04  574.526306  583.115784  553.684204  574.736816  491.414795   \n 2010-03-05  576.052612  617.115784  568.421082  598.947388  512.115417   \n 2010-03-09  617.610535  617.610535  594.747375  601.052612  513.915466   \n 2010-03-10  601.052612  602.105286  589.526306  592.631592  506.715271   \n ...                ...         ...         ...         ...         ...   \n 2022-05-18  182.500000  183.500000  180.000000  180.000000  180.000000   \n 2022-05-19  180.500000  186.500000  179.000000  180.000000  180.000000   \n 2022-05-20  180.000000  180.000000  180.000000  180.000000  180.000000   \n 2022-05-23  180.000000  180.000000  180.000000  180.000000  180.000000   \n 2022-05-24  180.000000  180.000000  180.000000  180.000000  180.000000   \n \n             Volume   log_ret  log_ret_high  log_ret_low  \n Date                                                     \n 2010-03-03   17225       NaN           NaN          NaN  \n 2010-03-04   80907  0.029742      0.040449     0.029793  \n 2010-03-05   81681  0.041262      0.056671     0.026268  \n 2010-03-09   50404  0.003509      0.000801     0.045274  \n 2010-03-10   10688 -0.014110     -0.025426    -0.008817  \n ...            ...       ...           ...          ...  \n 2022-05-18    5630 -0.011050     -0.060785     0.016807  \n 2022-05-19    9320  0.000000      0.016217    -0.005571  \n 2022-05-20       0  0.000000     -0.035474     0.005571  \n 2022-05-23       0  0.000000      0.000000     0.000000  \n 2022-05-24       0  0.000000      0.000000     0.000000  \n \n [3043 rows x 9 columns],\n 'SVET': Empty DataFrame\n Columns: [Open, High, Low, Close, Adj Close, Volume]\n Index: [],\n 'TASB':               Open    High     Low  Close  Adj Close   Volume   log_ret   \n Date                                                                      \n 2010-03-02  0.1350  0.1350  0.1350  0.135   0.100249   176500       NaN  \\\n 2010-03-03  0.1350  0.1350  0.1350  0.135   0.100249        0  0.000000   \n 2010-03-04  0.1350  0.1350  0.1350  0.135   0.100249        0  0.000000   \n 2010-03-05  0.1390  0.1410  0.1390  0.141   0.104704      151  0.043485   \n 2010-03-09  0.1340  0.1430  0.1340  0.140   0.103962    77520 -0.007117   \n ...            ...     ...     ...    ...        ...      ...       ...   \n 2022-05-18  0.4335  0.4335  0.4240  0.430   0.430000    23000  0.017596   \n 2022-05-19  0.4335  0.6015  0.4335  0.535   0.535000  6730000  0.218482   \n 2022-05-20  0.5350  0.5350  0.5350  0.535   0.535000        0  0.000000   \n 2022-05-23  0.5350  0.5350  0.5350  0.535   0.535000        0  0.000000   \n 2022-05-24  0.5350  0.5350  0.5350  0.535   0.535000        0  0.000000   \n \n             log_ret_high  log_ret_low  \n Date                                   \n 2010-03-02           NaN          NaN  \n 2010-03-03      0.000000     0.000000  \n 2010-03-04      0.000000     0.000000  \n 2010-03-05      0.043485     0.029199  \n 2010-03-09      0.014085    -0.036634  \n ...                  ...          ...  \n 2022-05-18      0.003466     0.003544  \n 2022-05-19      0.327535     0.022158  \n 2022-05-20     -0.117160     0.210375  \n 2022-05-23      0.000000     0.000000  \n 2022-05-24      0.000000     0.000000  \n \n [3044 rows x 9 columns],\n 'TATN':                   Open        High         Low       Close   Adj Close   \n Date                                                                     \n 2011-11-21  152.699997  152.839996  143.500000  143.699997   65.458710  \\\n 2011-11-22  145.729996  148.399994  145.710007  148.259995   67.535904   \n 2011-11-23  145.919998  151.649994  145.330002  146.669998   66.811623   \n 2011-11-24  148.789993  149.270004  143.699997  144.199997   65.686478   \n 2011-11-25  144.699997  148.199997  139.449997  147.880005   67.362816   \n ...                ...         ...         ...         ...         ...   \n 2022-05-18  395.000000  413.500000  395.000000  407.200012  407.200012   \n 2022-05-19  406.799988  409.700012  395.600006  404.000000  404.000000   \n 2022-05-20  404.000000  404.000000  404.000000  404.000000  404.000000   \n 2022-05-23  404.000000  404.000000  404.000000  404.000000  404.000000   \n 2022-05-24  404.000000  404.000000  404.000000  404.000000  404.000000   \n \n              Volume   log_ret  log_ret_high  log_ret_low  \n Date                                                      \n 2011-11-21  2571910       NaN           NaN          NaN  \n 2011-11-22  1890610  0.031240     -0.029480     0.015283  \n 2011-11-23  2225330 -0.010782      0.021664    -0.002611  \n 2011-11-24  2855300 -0.016984     -0.015818    -0.011279  \n 2011-11-25  1726660  0.025200     -0.007194    -0.030022  \n ...             ...       ...           ...          ...  \n 2022-05-18   981716  0.036768      0.038206     0.051960  \n 2022-05-19   557276 -0.007890     -0.009232     0.001518  \n 2022-05-20        0  0.000000     -0.014010     0.021011  \n 2022-05-23        0  0.000000      0.000000     0.000000  \n 2022-05-24        0  0.000000      0.000000     0.000000  \n \n [2615 rows x 9 columns],\n 'TGKA':                Open     High      Low    Close  Adj Close      Volume   \n Date                                                                    \n 2010-03-03  0.02000  0.02100  0.02000  0.02100   0.013180      748168  \\\n 2010-03-04  0.02100  0.02200  0.02000  0.02100   0.013180      479983   \n 2010-03-05  0.02100  0.02200  0.02100  0.02100   0.013180      488173   \n 2010-03-09  0.02100  0.02200  0.02100  0.02200   0.013808     1387388   \n 2010-03-10  0.02200  0.02400  0.02200  0.02300   0.014435      875061   \n ...             ...      ...      ...      ...        ...         ...   \n 2022-05-18  0.00786  0.00810  0.00762  0.00790   0.007900  4874000000   \n 2022-05-19  0.00790  0.00799  0.00770  0.00797   0.007970  2050200000   \n 2022-05-20  0.00797  0.00797  0.00797  0.00797   0.007970           0   \n 2022-05-23  0.00797  0.00797  0.00797  0.00797   0.007970           0   \n 2022-05-24  0.00797  0.00797  0.00797  0.00797   0.007970           0   \n \n              log_ret  log_ret_high  log_ret_low  \n Date                                             \n 2010-03-03       NaN           NaN          NaN  \n 2010-03-04  0.000000      0.046520     0.000000  \n 2010-03-05  0.000000      0.000000     0.048790  \n 2010-03-09  0.046520      0.000000     0.000000  \n 2010-03-10  0.044452      0.087011     0.046520  \n ...              ...           ...          ...  \n 2022-05-18  0.005076      0.025001    -0.010444  \n 2022-05-19  0.008822     -0.013673     0.010444  \n 2022-05-20  0.000000     -0.002506     0.034464  \n 2022-05-23  0.000000      0.000000     0.000000  \n 2022-05-24  0.000000      0.000000     0.000000  \n \n [3043 rows x 9 columns],\n 'TGKB':                Open     High      Low    Close  Adj Close     Volume   \n Date                                                                   \n 2010-03-03  0.00700  0.00700  0.00700  0.00700    0.00700     307778  \\\n 2010-03-04  0.00700  0.00800  0.00700  0.00700    0.00700    2675815   \n 2010-03-05  0.00700  0.00800  0.00700  0.00800    0.00800    3597437   \n 2010-03-09  0.00800  0.00900  0.00800  0.00800    0.00800    2375710   \n 2010-03-10  0.00800  0.00900  0.00800  0.00900    0.00900    3011296   \n ...             ...      ...      ...      ...        ...        ...   \n 2022-05-18  0.00361  0.00365  0.00357  0.00360    0.00360  337000000   \n 2022-05-19  0.00358  0.00358  0.00353  0.00357    0.00357  281000000   \n 2022-05-20  0.00357  0.00357  0.00357  0.00357    0.00357          0   \n 2022-05-23  0.00357  0.00357  0.00357  0.00357    0.00357          0   \n 2022-05-24  0.00357  0.00357  0.00357  0.00357    0.00357          0   \n \n              log_ret  log_ret_high  log_ret_low  \n Date                                             \n 2010-03-03       NaN           NaN          NaN  \n 2010-03-04  0.000000      0.133531     0.000000  \n 2010-03-05  0.133531      0.000000     0.000000  \n 2010-03-09  0.000000      0.117783     0.133531  \n 2010-03-10  0.117783      0.000000     0.000000  \n ...              ...           ...          ...  \n 2022-05-18  0.011173      0.005495     0.005618  \n 2022-05-19 -0.008368     -0.019364    -0.011268  \n 2022-05-20  0.000000     -0.002797     0.011268  \n 2022-05-23  0.000000      0.000000     0.000000  \n 2022-05-24  0.000000      0.000000     0.000000  \n \n [3043 rows x 9 columns],\n 'TGKN':                Open     High      Low    Close  Adj Close     Volume   \n Date                                                                   \n 2010-03-03  0.00400  0.00400  0.00400  0.00400    0.00400     200386  \\\n 2010-03-04  0.00400  0.00400  0.00400  0.00400    0.00400     219667   \n 2010-03-05  0.00400  0.00400  0.00400  0.00400    0.00400     756588   \n 2010-03-09  0.00400  0.00500  0.00400  0.00400    0.00400     675665   \n 2010-03-10  0.00400  0.00600  0.00400  0.00500    0.00500    4470321   \n ...             ...      ...      ...      ...        ...        ...   \n 2022-05-18  0.00283  0.00283  0.00272  0.00277    0.00277  382000000   \n 2022-05-19  0.00277  0.00284  0.00267  0.00277    0.00277  565000000   \n 2022-05-20  0.00277  0.00277  0.00277  0.00277    0.00277          0   \n 2022-05-23  0.00277  0.00277  0.00277  0.00277    0.00277          0   \n 2022-05-24  0.00277  0.00277  0.00277  0.00277    0.00277          0   \n \n              log_ret  log_ret_high  log_ret_low  \n Date                                             \n 2010-03-03       NaN           NaN          NaN  \n 2010-03-04  0.000000      0.000000     0.000000  \n 2010-03-05  0.000000      0.000000     0.000000  \n 2010-03-09  0.000000      0.223143     0.000000  \n 2010-03-10  0.223143      0.182322     0.000000  \n ...              ...           ...          ...  \n 2022-05-18 -0.021429      0.000000    -0.028988  \n 2022-05-19  0.000000      0.003527    -0.018553  \n 2022-05-20  0.000000     -0.024957     0.036769  \n 2022-05-23  0.000000      0.000000     0.000000  \n 2022-05-24  0.000000      0.000000     0.000000  \n \n [3043 rows x 9 columns],\n 'TNSE':               Open    High     Low   Close    Adj Close  Volume   log_ret   \n Date                                                                        \n 2015-06-17  1185.0  1272.5  1100.0  1256.5  1083.968262    9085       NaN  \\\n 2015-06-18  1250.0  1290.0  1250.0  1274.0  1099.065186    1023  0.013831   \n 2015-06-19  1277.0  1350.0  1277.0  1350.0  1164.629639     387  0.057943   \n 2015-06-22  1295.0  1295.0  1226.5  1268.5  1094.320557    1681 -0.062269   \n 2015-06-23  1242.0  1259.0  1225.0  1241.5  1071.027954    3232 -0.021515   \n ...            ...     ...     ...     ...          ...     ...       ...   \n 2022-05-18   695.0   720.0   690.0   695.0   695.000000     152 -0.014286   \n 2022-05-19   690.0   720.0   690.0   705.0   705.000000     198  0.014286   \n 2022-05-20   705.0   705.0   705.0   705.0   705.000000       0  0.000000   \n 2022-05-23   705.0   705.0   705.0   705.0   705.000000       0  0.000000   \n 2022-05-24   705.0   705.0   705.0   705.0   705.000000       0  0.000000   \n \n             log_ret_high  log_ret_low  \n Date                                   \n 2015-06-17           NaN          NaN  \n 2015-06-18      0.013659     0.127833  \n 2015-06-19      0.045462     0.021370  \n 2015-06-22     -0.041594    -0.040349  \n 2015-06-23     -0.028193    -0.001224  \n ...                  ...          ...  \n 2022-05-18      0.021053    -0.021506  \n 2022-05-19      0.000000     0.000000  \n 2022-05-20     -0.021053     0.021506  \n 2022-05-23      0.000000     0.000000  \n 2022-05-24      0.000000     0.000000  \n \n [1727 rows x 9 columns],\n 'TORS':              Open   High    Low  Close  Adj Close  Volume   log_ret   \n Date                                                                  \n 2010-03-03  0.608  0.647  0.606  0.622   0.414929    3682       NaN  \\\n 2010-03-04  0.621  0.621  0.610  0.619   0.412927    1050 -0.004835   \n 2010-03-05  0.618  0.622  0.600  0.619   0.412927    1682  0.000000   \n 2010-03-09  0.616  0.629  0.600  0.600   0.400253   57245 -0.031176   \n 2010-03-10  0.610  0.628  0.561  0.600   0.400253   12588  0.000000   \n ...           ...    ...    ...    ...        ...     ...       ...   \n 2022-05-18  0.271  0.271  0.271  0.271   0.271000       0  0.000000   \n 2022-05-19  0.273  0.273  0.273  0.273   0.273000   10000  0.007353   \n 2022-05-20  0.273  0.273  0.273  0.273   0.273000       0  0.000000   \n 2022-05-23  0.273  0.273  0.273  0.273   0.273000       0  0.000000   \n 2022-05-24  0.273  0.273  0.273  0.273   0.273000       0  0.000000   \n \n             log_ret_high  log_ret_low  \n Date                                   \n 2010-03-03           NaN          NaN  \n 2010-03-04     -0.041015     0.006579  \n 2010-03-05      0.001609    -0.016529  \n 2010-03-09      0.011191     0.000000  \n 2010-03-10     -0.001591    -0.067209  \n ...                  ...          ...  \n 2022-05-18      0.000000     0.000000  \n 2022-05-19      0.007353     0.007353  \n 2022-05-20      0.000000     0.000000  \n 2022-05-23      0.000000     0.000000  \n 2022-05-24      0.000000     0.000000  \n \n [3043 rows x 9 columns],\n 'TRMK':                   Open        High         Low       Close  Adj Close  Volume   \n Date                                                                            \n 2010-03-03  137.949997  140.500000  137.899994  140.410004  68.119179  201668  \\\n 2010-03-04  132.759995  141.899994  132.759995  139.580002  67.716492  122396   \n 2010-03-05  141.000000  141.860001  138.500000  140.970001  68.390823  106169   \n 2010-03-09  139.460007  140.000000  137.009995  137.149994  66.537598  345130   \n 2010-03-10  138.039993  143.789993  137.660004  138.710007  67.294418  352026   \n ...                ...         ...         ...         ...        ...     ...   \n 2022-05-18   58.619999   64.800003   58.619999   62.080002  62.080002  861390   \n 2022-05-19   62.099998   63.619999   58.299999   61.000000  61.000000  622120   \n 2022-05-20   61.000000   61.000000   61.000000   61.000000  61.000000       0   \n 2022-05-23   61.000000   61.000000   61.000000   61.000000  61.000000       0   \n 2022-05-24   61.000000   61.000000   61.000000   61.000000  61.000000       0   \n \n              log_ret  log_ret_high  log_ret_low  \n Date                                             \n 2010-03-03       NaN           NaN          NaN  \n 2010-03-04 -0.005929      0.009915    -0.037986  \n 2010-03-05  0.009909     -0.000282     0.042327  \n 2010-03-09 -0.027472     -0.013198    -0.010816  \n 2010-03-10  0.011310      0.026711     0.004733  \n ...              ...           ...          ...  \n 2022-05-18  0.057689      0.089709     0.009943  \n 2022-05-19 -0.017550     -0.018378    -0.005474  \n 2022-05-20  0.000000     -0.042054     0.045272  \n 2022-05-23  0.000000      0.000000     0.000000  \n 2022-05-24  0.000000      0.000000     0.000000  \n \n [3043 rows x 9 columns],\n 'TTLK':               Open    High     Low   Close  Adj Close    Volume   log_ret   \n Date                                                                        \n 2010-03-03  0.1710  0.1750  0.1700  0.1740   0.078959     50925       NaN  \\\n 2010-03-04  0.1710  0.1790  0.1710  0.1760   0.079867     40180  0.011429   \n 2010-03-05  0.1760  0.1830  0.1750  0.1830   0.083044    221218  0.039002   \n 2010-03-09  0.1810  0.1890  0.1790  0.1840   0.083497     87359  0.005450   \n 2010-03-10  0.1850  0.1870  0.1770  0.1850   0.083951     97676  0.005420   \n ...            ...     ...     ...     ...        ...       ...       ...   \n 2022-05-18  0.5900  0.5935  0.5765  0.5770   0.577000  39558000 -0.024819   \n 2022-05-19  0.5845  0.5845  0.5505  0.5575   0.557500  24409000 -0.034380   \n 2022-05-20  0.5575  0.5575  0.5575  0.5575   0.557500         0  0.000000   \n 2022-05-23  0.5575  0.5575  0.5575  0.5575   0.557500         0  0.000000   \n 2022-05-24  0.5575  0.5575  0.5575  0.5575   0.557500         0  0.000000   \n \n             log_ret_high  log_ret_low  \n Date                                   \n 2010-03-03           NaN          NaN  \n 2010-03-04      0.022600     0.005865  \n 2010-03-05      0.022100     0.023122  \n 2010-03-09      0.032261     0.022600  \n 2010-03-10     -0.010638    -0.011236  \n ...                  ...          ...  \n 2022-05-18     -0.029878     0.005217  \n 2022-05-19     -0.015280    -0.046148  \n 2022-05-20     -0.047294     0.012636  \n 2022-05-23      0.000000     0.000000  \n 2022-05-24      0.000000     0.000000  \n \n [3043 rows x 9 columns],\n 'TUZA':                   Open        High         Low       Close   Adj Close   \n Date                                                                     \n 2010-03-03  200.000000  200.000000  200.000000  200.000000  200.000000  \\\n 2010-03-04  200.000000  200.000000  200.000000  200.000000  200.000000   \n 2010-03-05  197.000000  197.039993  197.000000  197.039993  197.039993   \n 2010-03-09  195.009995  224.990005  195.009995  195.020004  195.020004   \n 2010-03-10  195.020004  195.020004  195.020004  195.020004  195.020004   \n ...                ...         ...         ...         ...         ...   \n 2022-05-18   97.500000   99.000000   97.000000   99.000000   99.000000   \n 2022-05-19   97.500000   97.500000   95.500000   96.500000   96.500000   \n 2022-05-20   96.500000   96.500000   96.500000   96.500000   96.500000   \n 2022-05-23   96.500000   96.500000   96.500000   96.500000   96.500000   \n 2022-05-24   96.500000   96.500000   96.500000   96.500000   96.500000   \n \n             Volume   log_ret  log_ret_high  log_ret_low  \n Date                                                     \n 2010-03-03      28       NaN           NaN          NaN  \n 2010-03-04       0  0.000000      0.000000     0.000000  \n 2010-03-05      20 -0.014911     -0.014911    -0.015114  \n 2010-03-09    7762 -0.010305      0.132649    -0.010153  \n 2010-03-10       0  0.000000     -0.142954     0.000051  \n ...            ...       ...           ...          ...  \n 2022-05-18    1740  0.005063      0.000000     0.020834  \n 2022-05-19    1990 -0.025577     -0.015267    -0.015585  \n 2022-05-20       0  0.000000     -0.010309     0.010417  \n 2022-05-23       0  0.000000      0.000000     0.000000  \n 2022-05-24       0  0.000000      0.000000     0.000000  \n \n [3043 rows x 9 columns],\n 'UCSS':                    Open         High          Low        Close    Adj Close   \n Date                                                                          \n 2013-12-26  1049.476318  1085.458374  1049.476318  1067.467285  1007.499573  \\\n 2013-12-27  1067.467285  1067.467285  1067.467285  1067.467285  1007.499573   \n 2013-12-30  1067.467285  1067.467285  1067.467285  1067.467285  1007.499573   \n 2014-01-06  1067.467285  1067.467285  1067.467285  1067.467285  1007.499573   \n 2014-01-08  1067.467285  1067.467285  1067.467285  1067.467285  1007.499573   \n ...                 ...          ...          ...          ...          ...   \n 2022-05-18   605.000000   615.000000   595.000000   595.000000   595.000000   \n 2022-05-19   595.000000   830.000000   595.000000   830.000000   830.000000   \n 2022-05-20   830.000000   830.000000   830.000000   830.000000   830.000000   \n 2022-05-23   830.000000   830.000000   830.000000   830.000000   830.000000   \n 2022-05-24   830.000000   830.000000   830.000000   830.000000   830.000000   \n \n             Volume   log_ret  log_ret_high  log_ret_low  \n Date                                                     \n 2013-12-26     900       NaN           NaN          NaN  \n 2013-12-27       0  0.000000     -0.016714     0.016998  \n 2013-12-30       0  0.000000      0.000000     0.000000  \n 2014-01-06       0  0.000000      0.000000     0.000000  \n 2014-01-08       0  0.000000      0.000000     0.000000  \n ...            ...       ...           ...          ...  \n 2022-05-18     199 -0.016667      0.008163     0.000000  \n 2022-05-19    4741  0.332864      0.299803     0.000000  \n 2022-05-20       0  0.000000      0.000000     0.332864  \n 2022-05-23       0  0.000000      0.000000     0.000000  \n 2022-05-24       0  0.000000      0.000000     0.000000  \n \n [2089 rows x 9 columns],\n 'UKUZ':                    Open         High         Low        Close    Adj Close   \n Date                                                                         \n 2010-03-03  1257.150024  1257.150024  1220.02002  1230.000000   771.089478  \\\n 2010-03-04  1230.000000  1245.000000  1220.00000  1220.000000   764.820435   \n 2010-03-05  1237.270020  1299.000000  1237.27002  1265.000000   793.031067   \n 2010-03-09  1265.000000  1280.000000  1250.00000  1265.180054   793.143921   \n 2010-03-10  1267.209961  1304.699951  1250.00000  1290.000000   808.703613   \n ...                 ...          ...         ...          ...          ...   \n 2022-05-18  1250.000000  1270.000000  1224.00000  1240.000000  1240.000000   \n 2022-05-19  1220.000000  1246.000000  1202.00000  1218.000000  1218.000000   \n 2022-05-20  1218.000000  1218.000000  1218.00000  1218.000000  1218.000000   \n 2022-05-23  1218.000000  1218.000000  1218.00000  1218.000000  1218.000000   \n 2022-05-24  1218.000000  1218.000000  1218.00000  1218.000000  1218.000000   \n \n             Volume   log_ret  log_ret_high  log_ret_low  \n Date                                                     \n 2010-03-03    1171       NaN           NaN          NaN  \n 2010-03-04     156 -0.008163     -0.009712    -0.000016  \n 2010-03-05    2029  0.036221      0.042459     0.014056  \n 2010-03-09     934  0.000142     -0.014735     0.010236  \n 2010-03-10    4407  0.019428      0.019113     0.000000  \n ...            ...       ...           ...          ...  \n 2022-05-18     993 -0.001612     -0.026420     0.000000  \n 2022-05-19     549 -0.017901     -0.019078    -0.018137  \n 2022-05-20       0  0.000000     -0.022728     0.013223  \n 2022-05-23       0  0.000000      0.000000     0.000000  \n 2022-05-24       0  0.000000      0.000000     0.000000  \n \n [3043 rows x 9 columns],\n 'UNAC':                Open    High      Low    Close  Adj Close    Volume   log_ret   \n Date                                                                           \n 2013-09-17  0.12199  0.1300  0.11851  0.12199   0.120260     22950       NaN  \\\n 2013-09-18  0.12115  0.1240  0.12115  0.12115   0.119432     24700 -0.006910   \n 2013-09-19  0.12200  0.1419  0.12135  0.12200   0.120269     19430  0.006992   \n 2013-09-20  0.12235  0.1248  0.12235  0.12235   0.120614       650  0.002865   \n 2013-09-23  0.12241  0.1310  0.12221  0.12241   0.120674      6750  0.000490   \n ...             ...     ...      ...      ...        ...       ...       ...   \n 2022-05-18  0.63100  0.6500  0.63050  0.63550   0.635500   4229000  0.003942   \n 2022-05-19  0.63550  0.6445  0.56600  0.62200   0.622000  16518000 -0.021472   \n 2022-05-20  0.62200  0.6220  0.62200  0.62200   0.622000         0  0.000000   \n 2022-05-23  0.62200  0.6220  0.62200  0.62200   0.622000         0  0.000000   \n 2022-05-24  0.62200  0.6220  0.62200  0.62200   0.622000         0  0.000000   \n \n             log_ret_high  log_ret_low  \n Date                                   \n 2013-09-17           NaN          NaN  \n 2013-09-18     -0.047253     0.022032  \n 2013-09-19      0.134841     0.001649  \n 2013-09-20     -0.128410     0.008207  \n 2013-09-23      0.048485    -0.001145  \n ...                  ...          ...  \n 2022-05-18      0.003854     0.003973  \n 2022-05-19     -0.008497    -0.107919  \n 2022-05-20     -0.035535     0.094346  \n 2022-05-23      0.000000     0.000000  \n 2022-05-24      0.000000     0.000000  \n \n [2159 rows x 9 columns],\n 'UNKL':                    Open         High          Low        Close    Adj Close   \n Date                                                                          \n 2012-04-20  4000.000000  4320.000000  3600.000000  3600.000000  3600.000000  \\\n 2012-04-23  4175.000000  4175.000000  3000.000000  3500.000000  3500.000000   \n 2012-04-24  3150.100098  3150.100098  3000.100098  3100.000000  3100.000000   \n 2012-04-25  3333.000000  3399.899902  3000.000000  3001.000000  3001.000000   \n 2012-04-26  2920.000000  3099.800049  2920.000000  3099.800049  3099.800049   \n ...                 ...          ...          ...          ...          ...   \n 2022-05-18  6670.000000  6810.000000  6580.000000  6630.000000  6630.000000   \n 2022-05-19  6650.000000  6900.000000  6650.000000  6780.000000  6780.000000   \n 2022-05-20  6780.000000  6780.000000  6780.000000  6780.000000  6780.000000   \n 2022-05-23  6780.000000  6780.000000  6780.000000  6780.000000  6780.000000   \n 2022-05-24  6780.000000  6780.000000  6780.000000  6780.000000  6780.000000   \n \n             Volume   log_ret  log_ret_high  log_ret_low  \n Date                                                     \n 2012-04-20       0       NaN           NaN          NaN  \n 2012-04-23       0 -0.028171     -0.034141    -0.182322  \n 2012-04-24       0 -0.121361     -0.281680     0.000033  \n 2012-04-25       0 -0.032457      0.076312    -0.000033  \n 2012-04-26       0  0.032392     -0.092408    -0.027029  \n ...            ...       ...           ...          ...  \n 2022-05-18     149  0.010614      0.022273     0.018405  \n 2022-05-19     101  0.022372      0.013129     0.010582  \n 2022-05-20       0  0.000000     -0.017544     0.019360  \n 2022-05-23       0  0.000000      0.000000     0.000000  \n 2022-05-24       0  0.000000      0.000000     0.000000  \n \n [2511 rows x 9 columns],\n 'UPRO':              Open   High    Low  Close  Adj Close    Volume   log_ret   \n Date                                                                    \n 2011-11-21  2.326  2.327  2.250  2.250   0.822542   7203000       NaN  \\\n 2011-11-22  2.285  2.369  2.220  2.260   0.826197  16036000  0.004435   \n 2011-11-23  2.270  2.338  2.250  2.295   0.838992   8398000  0.015368   \n 2011-11-24  2.294  2.320  2.270  2.270   0.829853  27830000 -0.010953   \n 2011-11-25  2.298  2.300  2.225  2.265   0.828025   9501000 -0.002205   \n ...           ...    ...    ...    ...        ...       ...       ...   \n 2022-05-18  1.403  1.414  1.393  1.398   1.398000  92156000 -0.001430   \n 2022-05-19  1.407  1.407  1.358  1.379   1.379000  48437000 -0.013684   \n 2022-05-20  1.379  1.379  1.379  1.379   1.379000         0  0.000000   \n 2022-05-23  1.379  1.379  1.379  1.379   1.379000         0  0.000000   \n 2022-05-24  1.379  1.379  1.379  1.379   1.379000         0  0.000000   \n \n             log_ret_high  log_ret_low  \n Date                                   \n 2011-11-21           NaN          NaN  \n 2011-11-22      0.017888    -0.013423  \n 2011-11-23     -0.013172     0.013423  \n 2011-11-24     -0.007729     0.008850  \n 2011-11-25     -0.008658    -0.020023  \n ...                  ...          ...  \n 2022-05-18     -0.018915     0.001437  \n 2022-05-19     -0.004963    -0.025447  \n 2022-05-20     -0.020101     0.015346  \n 2022-05-23      0.000000     0.000000  \n 2022-05-24      0.000000     0.000000  \n \n [2615 rows x 9 columns],\n 'URKZ':                Open     High      Low    Close  Adj Close  Volume   log_ret   \n Date                                                                          \n 2007-11-19    110.0    110.0    110.0    110.0      110.0     126       NaN  \\\n 2007-11-20    110.0    110.0    110.0    110.0      110.0       0  0.000000   \n 2007-11-21    110.0    110.0    110.0    110.0      110.0       0  0.000000   \n 2007-11-22    110.0    110.0    110.0    110.0      110.0       0  0.000000   \n 2007-11-23    110.0    110.0    110.0    110.0      110.0       0  0.000000   \n ...             ...      ...      ...      ...        ...     ...       ...   \n 2022-05-18  11060.0  11220.0  10760.0  10960.0    10960.0      36 -0.009083   \n 2022-05-19  10780.0  10960.0  10760.0  10940.0    10940.0      39 -0.001826   \n 2022-05-20  10940.0  10940.0  10940.0  10940.0    10940.0       0  0.000000   \n 2022-05-23  10940.0  10940.0  10940.0  10940.0    10940.0       0  0.000000   \n 2022-05-24  10940.0  10940.0  10940.0  10940.0    10940.0       0  0.000000   \n \n             log_ret_high  log_ret_low  \n Date                                   \n 2007-11-19           NaN          NaN  \n 2007-11-20      0.000000      0.00000  \n 2007-11-21      0.000000      0.00000  \n 2007-11-22      0.000000      0.00000  \n 2007-11-23      0.000000      0.00000  \n ...                  ...          ...  \n 2022-05-18     -0.014160     -0.01476  \n 2022-05-19     -0.023446      0.00000  \n 2022-05-20     -0.001826      0.01659  \n 2022-05-23      0.000000      0.00000  \n 2022-05-24      0.000000      0.00000  \n \n [3619 rows x 9 columns],\n 'USBN':               Open    High     Low   Close  Adj Close   Volume   log_ret   \n Date                                                                       \n 2011-12-14  0.2000  0.2000  0.2000  0.2000   0.194560   390000       NaN  \\\n 2011-12-15  0.1400  0.1500  0.1400  0.1400   0.136192   550000 -0.356675   \n 2011-12-16  0.1400  0.1400  0.1330  0.1400   0.136192   480000  0.000000   \n 2011-12-19  0.0840  0.1300  0.1300  0.1300   0.126464   250000 -0.074108   \n 2011-12-20  0.1350  0.1350  0.1300  0.1350   0.131328   290000  0.037740   \n ...            ...     ...     ...     ...        ...      ...       ...   \n 2022-05-18  0.0713  0.0720  0.0700  0.0708   0.070800  2820000 -0.001411   \n 2022-05-19  0.0717  0.0717  0.0669  0.0699   0.069900  4990000 -0.012793   \n 2022-05-20  0.0699  0.0699  0.0699  0.0699   0.069900        0  0.000000   \n 2022-05-23  0.0699  0.0699  0.0699  0.0699   0.069900        0  0.000000   \n 2022-05-24  0.0699  0.0699  0.0699  0.0699   0.069900        0  0.000000   \n \n             log_ret_high  log_ret_low  \n Date                                   \n 2011-12-14           NaN          NaN  \n 2011-12-15     -0.287682    -0.356675  \n 2011-12-16     -0.068993    -0.051293  \n 2011-12-19     -0.074108    -0.022815  \n 2011-12-20      0.037740     0.000000  \n ...                  ...          ...  \n 2022-05-18      0.001390     0.000000  \n 2022-05-19     -0.004175    -0.045296  \n 2022-05-20     -0.025425     0.043867  \n 2022-05-23      0.000000     0.000000  \n 2022-05-24      0.000000     0.000000  \n \n [2598 rows x 9 columns],\n 'UTAR':               Open    High     Low   Close  Adj Close  Volume   log_ret   \n Date                                                                      \n 2010-03-03  11.248  11.800  11.200  11.300  10.980824     729       NaN  \\\n 2010-03-04  11.260  11.500  11.250  11.350  11.029411      92  0.004415   \n 2010-03-05  11.348  11.700  11.240  11.355  11.034268     363  0.000440   \n 2010-03-09  11.395  11.498  11.395  11.498  11.173230     503  0.012515   \n 2010-03-10  11.420  11.843  11.410  11.700  11.369524     981  0.017416   \n ...            ...     ...     ...     ...        ...     ...       ...   \n 2022-05-18   7.370   7.400   7.270   7.330   7.330000  128100  0.004101   \n 2022-05-19   7.380   7.380   7.210   7.210   7.210000  100800 -0.016507   \n 2022-05-20   7.210   7.210   7.210   7.210   7.210000       0  0.000000   \n 2022-05-23   7.210   7.210   7.210   7.210   7.210000       0  0.000000   \n 2022-05-24   7.210   7.210   7.210   7.210   7.210000       0  0.000000   \n \n             log_ret_high  log_ret_low  \n Date                                   \n 2010-03-03           NaN          NaN  \n 2010-03-04     -0.025753     0.004454  \n 2010-03-05      0.017242    -0.000889  \n 2010-03-09     -0.017416     0.013696  \n 2010-03-10      0.029564     0.001315  \n ...                  ...          ...  \n 2022-05-18     -0.010753     0.002755  \n 2022-05-19     -0.002706    -0.008287  \n 2022-05-20     -0.023305     0.000000  \n 2022-05-23      0.000000     0.000000  \n 2022-05-24      0.000000     0.000000  \n \n [3043 rows x 9 columns],\n 'VGSB':              Open   High    Low  Close  Adj Close  Volume   log_ret   \n Date                                                                  \n 2010-03-03  1.387  1.387  1.300  1.367   1.233287      39       NaN  \\\n 2010-03-04  1.387  1.387  1.286  1.319   1.189982     419 -0.035745   \n 2010-03-05  1.300  1.329  1.300  1.329   1.199004     360  0.007553   \n 2010-03-09  1.349  1.399  1.296  1.385   1.249526      50  0.041273   \n 2010-03-10  1.407  1.407  1.407  1.407   1.269374       1  0.015760   \n ...           ...    ...    ...    ...        ...     ...       ...   \n 2022-05-18  3.785  3.790  3.785  3.790   3.790000    2000  0.039010   \n 2022-05-19  3.615  3.890  3.610  3.740   3.740000   45000 -0.013280   \n 2022-05-20  3.740  3.740  3.740  3.740   3.740000       0  0.000000   \n 2022-05-23  3.740  3.740  3.740  3.740   3.740000       0  0.000000   \n 2022-05-24  3.740  3.740  3.740  3.740   3.740000       0  0.000000   \n \n             log_ret_high  log_ret_low  \n Date                                   \n 2010-03-03           NaN          NaN  \n 2010-03-04      0.000000    -0.010828  \n 2010-03-05     -0.042716     0.010828  \n 2010-03-09      0.051331    -0.003082  \n 2010-03-10      0.005702     0.082177  \n ...                  ...          ...  \n 2022-05-18      0.039010     0.039062  \n 2022-05-19      0.026043    -0.047338  \n 2022-05-20     -0.039324     0.035378  \n 2022-05-23      0.000000     0.000000  \n 2022-05-24      0.000000     0.000000  \n \n [3043 rows x 9 columns],\n 'VJGZ':                    Open         High          Low        Close    Adj Close   \n Date                                                                          \n 2011-12-14   937.000000   937.000000   625.000000   825.000000   825.000000  \\\n 2011-12-15   650.000000   999.000000   537.200012   599.200012   599.200012   \n 2011-12-16   530.000000   624.099976   530.000000   624.099976   624.099976   \n 2011-12-19   623.799988   649.900024   599.900024   649.900024   649.900024   \n 2011-12-20   648.900024   648.900024   600.000000   639.799988   639.799988   \n ...                 ...          ...          ...          ...          ...   \n 2022-05-18  1426.000000  1500.000000  1425.000000  1459.000000  1459.000000   \n 2022-05-19  1498.000000  1498.000000  1440.000000  1450.000000  1450.000000   \n 2022-05-20  1450.000000  1450.000000  1450.000000  1450.000000  1450.000000   \n 2022-05-23  1450.000000  1450.000000  1450.000000  1450.000000  1450.000000   \n 2022-05-24  1450.000000  1450.000000  1450.000000  1450.000000  1450.000000   \n \n             Volume   log_ret  log_ret_high  log_ret_low  \n Date                                                     \n 2011-12-14     130       NaN           NaN          NaN  \n 2011-12-15     240 -0.319788      0.064071    -0.151381  \n 2011-12-16     880  0.040715     -0.470444    -0.013493  \n 2011-12-19     230  0.040508      0.040508     0.123886  \n 2011-12-20     420 -0.015663     -0.001540     0.000167  \n ...            ...       ...           ...          ...  \n 2022-05-18     190  0.006878      0.030459     0.017700  \n 2022-05-19      48 -0.006188     -0.001334     0.010471  \n 2022-05-20       0  0.000000     -0.032567     0.006920  \n 2022-05-23       0  0.000000      0.000000     0.000000  \n 2022-05-24       0  0.000000      0.000000     0.000000  \n \n [2598 rows x 9 columns],\n 'VLHZ':                   Open        High         Low       Close  Adj Close  Volume   \n Date                                                                            \n 2010-03-03  104.959999  104.959999  104.959999  104.959999  48.825275       1  \\\n 2010-03-04  105.000000  106.000000  104.870003  106.000000  49.309067      27   \n 2010-03-05  106.000000  106.970001  104.589996  104.980003  48.834572     372   \n 2010-03-09  106.000000  106.000000  104.000000  105.000000  48.843884     209   \n 2010-03-10  106.970001  106.970001  103.330002  105.250000  48.960178      55   \n ...                ...         ...         ...         ...        ...     ...   \n 2022-05-18   70.300003   71.400002   69.949997   70.400002  70.400002   13150   \n 2022-05-19   69.500000   71.199997   69.500000   70.050003  70.050003    8390   \n 2022-05-20   70.050003   70.050003   70.050003   70.050003  70.050003       0   \n 2022-05-23   70.050003   70.050003   70.050003   70.050003  70.050003       0   \n 2022-05-24   70.050003   70.050003   70.050003   70.050003  70.050003       0   \n \n              log_ret  log_ret_high  log_ret_low  \n Date                                             \n 2010-03-03       NaN           NaN          NaN  \n 2010-03-04  0.009860      0.009860    -0.000858  \n 2010-03-05 -0.009669      0.009109    -0.002674  \n 2010-03-09  0.000190     -0.009109    -0.005657  \n 2010-03-10  0.002378      0.009109    -0.006463  \n ...              ...           ...          ...  \n 2022-05-18 -0.006372      0.004211     0.002863  \n 2022-05-19 -0.004984     -0.002805    -0.006454  \n 2022-05-20  0.000000     -0.016283     0.007883  \n 2022-05-23  0.000000      0.000000     0.000000  \n 2022-05-24  0.000000      0.000000     0.000000  \n \n [3043 rows x 9 columns],\n 'VRSB':                   Open        High         Low       Close   Adj Close   \n Date                                                                     \n 2011-12-08   11.092000   11.092000   11.092000   11.092000    6.927606  \\\n 2011-12-09   12.000000   15.500000   12.000000   15.500000    9.680660   \n 2011-12-12   15.500000   15.500000   15.500000   15.500000    9.680660   \n 2011-12-13   13.000000   14.001000   13.000000   14.001000    8.744447   \n 2011-12-14   14.001000   14.001000   14.001000   14.001000    8.744447   \n ...                ...         ...         ...         ...         ...   \n 2022-05-18  156.600006  166.600006  156.600006  163.600006  163.600006   \n 2022-05-19  163.199997  172.000000  161.000000  163.800003  163.800003   \n 2022-05-20  163.800003  163.800003  163.800003  163.800003  163.800003   \n 2022-05-23  163.800003  163.800003  163.800003  163.800003  163.800003   \n 2022-05-24  163.800003  163.800003  163.800003  163.800003  163.800003   \n \n             Volume   log_ret  log_ret_high  log_ret_low  \n Date                                                     \n 2011-12-08    6000       NaN           NaN          NaN  \n 2011-12-09   39000  0.334616      0.334616     0.078683  \n 2011-12-12       0  0.000000      0.000000     0.255933  \n 2011-12-13    4000 -0.101711     -0.101711    -0.175891  \n 2011-12-14       0  0.000000      0.000000     0.074179  \n ...            ...       ...           ...          ...  \n 2022-05-18    7700 -0.006094      0.006020    -0.041282  \n 2022-05-19   33000  0.001222      0.031899     0.027710  \n 2022-05-20       0  0.000000     -0.048848     0.017242  \n 2022-05-23       0  0.000000      0.000000     0.000000  \n 2022-05-24       0  0.000000      0.000000     0.000000  \n \n [2602 rows x 9 columns],\n 'VSMO':                    Open          High           Low        Close   \n Date                                                               \n 2010-03-03   3350.01001   3450.000000   3334.979980   3401.00000  \\\n 2010-03-04   3397.00000   3519.989990   3360.169922   3514.98999   \n 2010-03-05   3943.00000   3943.000000   3500.000000   3597.73999   \n 2010-03-09   3593.00000   3598.939941   3495.000000   3505.00000   \n 2010-03-10   3504.00000   3522.250000   3425.429932   3500.00000   \n ...                 ...           ...           ...          ...   \n 2022-05-18  57460.00000  57920.000000  57000.000000  57440.00000   \n 2022-05-19  57840.00000  57840.000000  57100.000000  57300.00000   \n 2022-05-20  57300.00000  57300.000000  57300.000000  57300.00000   \n 2022-05-23  57300.00000  57300.000000  57300.000000  57300.00000   \n 2022-05-24  57300.00000  57300.000000  57300.000000  57300.00000   \n \n                Adj Close  Volume   log_ret  log_ret_high  log_ret_low  \n Date                                                                   \n 2010-03-03   1551.799683    1587       NaN           NaN          NaN  \n 2010-03-04   1603.811157    5035  0.032967      0.020084     0.007525  \n 2010-03-05   1641.567871    1447  0.023269      0.113484     0.040771  \n 2010-03-09   1599.252441    2138 -0.026115     -0.091303    -0.001430  \n 2010-03-10   1596.971069    2755 -0.001428     -0.021539    -0.020106  \n ...                  ...     ...       ...           ...          ...  \n 2022-05-18  57440.000000     448 -0.002087     -0.008253     0.000702  \n 2022-05-19  57300.000000     194 -0.002440     -0.001382     0.001753  \n 2022-05-20  57300.000000       0  0.000000     -0.009380     0.003497  \n 2022-05-23  57300.000000       0  0.000000      0.000000     0.000000  \n 2022-05-24  57300.000000       0  0.000000      0.000000     0.000000  \n \n [3043 rows x 9 columns],\n 'VSYD':               Open    High     Low   Close  Adj Close  Volume   log_ret   \n Date                                                                      \n 2012-10-02  2400.0  2400.0  2270.0  2270.0     2270.0       4       NaN  \\\n 2012-10-03  2200.0  2265.0  2200.0  2265.0     2265.0       2 -0.002205   \n 2012-10-04  2210.0  2265.0  2200.0  2210.0     2210.0       5 -0.024582   \n 2012-10-05  2210.0  2210.0  2210.0  2210.0     2210.0       0  0.000000   \n 2012-10-08  2210.0  2210.0  2210.0  2210.0     2210.0       0  0.000000   \n ...            ...     ...     ...     ...        ...     ...       ...   \n 2022-05-18  4215.0  4780.0  4215.0  4265.0     4265.0     386 -0.007009   \n 2022-05-19  4360.0  4375.0  4250.0  4335.0     4335.0      39  0.016279   \n 2022-05-20  4335.0  4335.0  4335.0  4335.0     4335.0       0  0.000000   \n 2022-05-23  4335.0  4335.0  4335.0  4335.0     4335.0       0  0.000000   \n 2022-05-24  4335.0  4335.0  4335.0  4335.0     4335.0       0  0.000000   \n \n             log_ret_high  log_ret_low  \n Date                                   \n 2012-10-02           NaN          NaN  \n 2012-10-03     -0.057894    -0.031322  \n 2012-10-04      0.000000     0.000000  \n 2012-10-05     -0.024582     0.004535  \n 2012-10-08      0.000000     0.000000  \n ...                  ...          ...  \n 2022-05-18      0.106989     0.014337  \n 2022-05-19     -0.088534     0.008269  \n 2022-05-20     -0.009185     0.019803  \n 2022-05-23      0.000000     0.000000  \n 2022-05-24      0.000000     0.000000  \n \n [2399 rows x 9 columns],\n 'VTBR':                 Open      High       Low     Close  Adj Close       Volume   \n Date                                                                         \n 2010-03-03  0.074492  0.076452  0.073512  0.075472   0.052661     16214791  \\\n 2010-03-04  0.075472  0.076452  0.074492  0.075472   0.052661     16195916   \n 2010-03-05  0.075472  0.076452  0.075472  0.076452   0.053345     15800102   \n 2010-03-09  0.076452  0.078412  0.076452  0.077432   0.054029     15440002   \n 2010-03-10  0.076452  0.077432  0.076452  0.076452   0.053345     10797431   \n ...              ...       ...       ...       ...        ...          ...   \n 2022-05-18  0.019450  0.019920  0.019200  0.019200   0.019200  37523870000   \n 2022-05-19  0.019200  0.019380  0.018910  0.019170   0.019170  19665300000   \n 2022-05-20  0.019170  0.019170  0.019170  0.019170   0.019170            0   \n 2022-05-23  0.019170  0.019170  0.019170  0.019170   0.019170            0   \n 2022-05-24  0.019170  0.019170  0.019170  0.019170   0.019170            0   \n \n              log_ret  log_ret_high  log_ret_low  \n Date                                             \n 2010-03-03       NaN           NaN          NaN  \n 2010-03-04  0.000000      0.000000     0.013243  \n 2010-03-05  0.012901      0.000000     0.013070  \n 2010-03-09  0.012737      0.025314     0.012901  \n 2010-03-10 -0.012737     -0.012577     0.000000  \n ...              ...           ...          ...  \n 2022-05-18 -0.006748      0.022336     0.009945  \n 2022-05-19 -0.001564     -0.027483    -0.015219  \n 2022-05-20  0.000000     -0.010895     0.013656  \n 2022-05-23  0.000000      0.000000     0.000000  \n 2022-05-24  0.000000      0.000000     0.000000  \n \n [3043 rows x 9 columns],\n 'WTCM':              Open   High    Low  Close  Adj Close  Volume   log_ret   \n Date                                                                  \n 2010-03-03  9.367  9.399  9.367  9.399   4.666499      10       NaN  \\\n 2010-03-04  9.400  9.400  9.399  9.399   4.666499      17  0.000000   \n 2010-03-05  9.400  9.400  9.399  9.399   4.666499       3  0.000000   \n 2010-03-09  9.400  9.400  8.750  8.750   4.344277     117 -0.071550   \n 2010-03-10  9.000  9.188  8.850  9.188   4.617692       5  0.048845   \n ...           ...    ...    ...    ...        ...     ...       ...   \n 2022-05-18  8.580  8.580  8.200  8.400   8.400000   69300 -0.009479   \n 2022-05-19  8.340  8.440  8.100  8.200   8.200000   40000 -0.024098   \n 2022-05-20  8.200  8.200  8.200  8.200   8.200000       0  0.000000   \n 2022-05-23  8.200  8.200  8.200  8.200   8.200000       0  0.000000   \n 2022-05-24  8.200  8.200  8.200  8.200   8.200000       0  0.000000   \n \n             log_ret_high  log_ret_low  \n Date                                   \n 2010-03-03           NaN          NaN  \n 2010-03-04      0.000106     0.003410  \n 2010-03-05      0.000000     0.000000  \n 2010-03-09      0.000000    -0.071550  \n 2010-03-10     -0.022811     0.011364  \n ...                  ...          ...  \n 2022-05-18     -0.009281    -0.009709  \n 2022-05-19     -0.016452    -0.012270  \n 2022-05-20     -0.028848     0.012270  \n 2022-05-23      0.000000     0.000000  \n 2022-05-24      0.000000     0.000000  \n \n [3043 rows x 9 columns],\n 'WUSH': Empty DataFrame\n Columns: [Open, High, Low, Close, Adj Close, Volume]\n Index: [],\n 'YAKG':                   Open        High         Low       Close   Adj Close   \n Date                                                                     \n 2011-12-21    2.350000    2.570000    2.100000    2.500000    1.458147  \\\n 2011-12-22    2.550000    2.999000    2.550000    2.999000    1.749193   \n 2011-12-23    2.999000    2.999000    2.999000    2.999000    1.749193   \n 2011-12-26    2.999000    2.999000    2.999000    2.999000    1.749193   \n 2011-12-27    3.100000    3.100000    3.100000    3.100000    1.808102   \n ...                ...         ...         ...         ...         ...   \n 2022-05-18  117.550003  118.550003  117.000000  117.099998  117.099998   \n 2022-05-19  118.199997  119.000000  116.900002  118.800003  118.800003   \n 2022-05-20  118.800003  118.800003  118.800003  118.800003  118.800003   \n 2022-05-23  118.800003  118.800003  118.800003  118.800003  118.800003   \n 2022-05-24  118.800003  118.800003  118.800003  118.800003  118.800003   \n \n             Volume   log_ret  log_ret_high  log_ret_low  \n Date                                                     \n 2011-12-21   60000       NaN           NaN          NaN  \n 2011-12-22    3000  0.181988      0.154373     0.194156  \n 2011-12-23       0  0.000000      0.000000     0.162186  \n 2011-12-26       0  0.000000      0.000000     0.000000  \n 2011-12-27    1000  0.033123      0.033123     0.033123  \n ...            ...       ...           ...          ...  \n 2022-05-18    4370 -0.005535     -0.003789     0.003425  \n 2022-05-19    8690  0.014413      0.003789    -0.000855  \n 2022-05-20       0  0.000000     -0.001682     0.016123  \n 2022-05-23       0  0.000000      0.000000     0.000000  \n 2022-05-24       0  0.000000      0.000000     0.000000  \n \n [2593 rows x 9 columns],\n 'YKEN':               Open    High     Low  Close  Adj Close  Volume   log_ret   \n Date                                                                     \n 2010-03-03  0.6660  0.6690  0.6550  0.666      0.666   16074       NaN  \\\n 2010-03-04  0.6690  0.6740  0.6500  0.666      0.666   19481  0.000000   \n 2010-03-05  0.6750  0.6890  0.6630  0.678      0.678   41391  0.017858   \n 2010-03-09  0.6780  0.7090  0.6690  0.691      0.691   20663  0.018993   \n 2010-03-10  0.6810  0.7470  0.6800  0.709      0.709   98918  0.025716   \n ...            ...     ...     ...    ...        ...     ...       ...   \n 2022-05-18  0.2590  0.2690  0.2590  0.265      0.265  860000  0.028710   \n 2022-05-19  0.2655  0.2655  0.2605  0.265      0.265  360000  0.000000   \n 2022-05-20  0.2650  0.2650  0.2650  0.265      0.265       0  0.000000   \n 2022-05-23  0.2650  0.2650  0.2650  0.265      0.265       0  0.000000   \n 2022-05-24  0.2650  0.2650  0.2650  0.265      0.265       0  0.000000   \n \n             log_ret_high  log_ret_low  \n Date                                   \n 2010-03-03           NaN          NaN  \n 2010-03-04      0.007446    -0.007663  \n 2010-03-05      0.022011     0.019803  \n 2010-03-09      0.028614     0.009009  \n 2010-03-10      0.052210     0.016309  \n ...                  ...          ...  \n 2022-05-18      0.041752     0.017527  \n 2022-05-19     -0.013096     0.005775  \n 2022-05-20     -0.001885     0.017127  \n 2022-05-23      0.000000     0.000000  \n 2022-05-24      0.000000     0.000000  \n \n [3043 rows x 9 columns],\n 'YRSB':                   Open        High         Low       Close   Adj Close   \n Date                                                                     \n 2011-12-13   43.270000   43.270000   43.270000   43.270000   33.732838  \\\n 2011-12-14   60.577999   60.577999   60.577999   60.577999   47.225975   \n 2011-12-15   84.800003   84.800003   84.800003   84.800003   66.109192   \n 2011-12-16   88.888000   88.888000   88.888000   88.888000   69.296150   \n 2011-12-19   80.000000   83.000000   80.000000   83.000000   64.705933   \n ...                ...         ...         ...         ...         ...   \n 2022-05-18  168.000000  170.000000  166.000000  168.000000  168.000000   \n 2022-05-19  166.000000  174.000000  166.000000  174.000000  174.000000   \n 2022-05-20  174.000000  174.000000  174.000000  174.000000  174.000000   \n 2022-05-23  174.000000  174.000000  174.000000  174.000000  174.000000   \n 2022-05-24  174.000000  174.000000  174.000000  174.000000  174.000000   \n \n             Volume   log_ret  log_ret_high  log_ret_low  \n Date                                                     \n 2011-12-13     300       NaN           NaN          NaN  \n 2011-12-14     200  0.336472      0.336472     0.336472  \n 2011-12-15    1000  0.336364      0.336364     0.336364  \n 2011-12-16     200  0.047082      0.047082     0.047082  \n 2011-12-19     124 -0.068537     -0.068537    -0.105351  \n ...            ...       ...           ...          ...  \n 2022-05-18     100  0.000000      0.011834     0.000000  \n 2022-05-19     770  0.035091      0.023257     0.000000  \n 2022-05-20       0  0.000000      0.000000     0.047068  \n 2022-05-23       0  0.000000      0.000000     0.000000  \n 2022-05-24       0  0.000000      0.000000     0.000000  \n \n [2599 rows x 9 columns],\n 'ZILL':               Open    High     Low   Close  Adj Close  Volume   log_ret   \n Date                                                                      \n 2011-12-21   174.0   174.0   174.0   174.0      174.0      10       NaN  \\\n 2011-12-22   242.0   242.0   190.0   195.0      195.0      50  0.113944   \n 2011-12-23   195.0   195.0   195.0   195.0      195.0       0  0.000000   \n 2011-12-26   205.0   250.0   175.0   175.0      175.0     300 -0.108214   \n 2011-12-27   175.0   175.0   175.0   175.0      175.0       0  0.000000   \n ...            ...     ...     ...     ...        ...     ...       ...   \n 2022-05-18  2985.0  2985.0  2920.0  2930.0     2930.0     363 -0.015242   \n 2022-05-19  2955.0  2980.0  2885.0  2950.0     2950.0     247  0.006803   \n 2022-05-20  2950.0  2950.0  2950.0  2950.0     2950.0       0  0.000000   \n 2022-05-23  2950.0  2950.0  2950.0  2950.0     2950.0       0  0.000000   \n 2022-05-24  2950.0  2950.0  2950.0  2950.0     2950.0       0  0.000000   \n \n             log_ret_high  log_ret_low  \n Date                                   \n 2011-12-21           NaN          NaN  \n 2011-12-22      0.329882     0.087969  \n 2011-12-23     -0.215938     0.025975  \n 2011-12-26      0.248461    -0.108214  \n 2011-12-27     -0.356675     0.000000  \n ...                  ...          ...  \n 2022-05-18     -0.005013     0.012059  \n 2022-05-19     -0.001676    -0.012059  \n 2022-05-20     -0.010118     0.022280  \n 2022-05-23      0.000000     0.000000  \n 2022-05-24      0.000000     0.000000  \n \n [2593 rows x 9 columns],\n 'ZVEZ':              Open  High    Low  Close  Adj Close  Volume   log_ret   \n Date                                                                 \n 2012-01-13  0.600  0.70  0.600   0.70   0.658071   30000       NaN  \\\n 2012-01-16  0.700  0.70  0.700   0.70   0.658071       0  0.000000   \n 2012-01-17  0.700  0.70  0.700   0.70   0.658071       0  0.000000   \n 2012-01-18  0.750  0.75  0.750   0.75   0.705076   10000  0.068993   \n 2012-01-19  0.750  0.75  0.750   0.75   0.705076       0  0.000000   \n ...           ...   ...    ...    ...        ...     ...       ...   \n 2022-05-18  4.225  4.41  3.995   4.14   4.140000  989000 -0.019139   \n 2022-05-19  4.075  4.15  3.940   4.04   4.040000  294000 -0.024451   \n 2022-05-20  4.040  4.04  4.040   4.04   4.040000       0  0.000000   \n 2022-05-23  4.040  4.04  4.040   4.04   4.040000       0  0.000000   \n 2022-05-24  4.040  4.04  4.040   4.04   4.040000       0  0.000000   \n \n             log_ret_high  log_ret_low  \n Date                                   \n 2012-01-13           NaN          NaN  \n 2012-01-16      0.000000     0.154151  \n 2012-01-17      0.000000     0.000000  \n 2012-01-18      0.068993     0.068993  \n 2012-01-19      0.000000     0.000000  \n ...                  ...          ...  \n 2022-05-18     -0.046520    -0.001251  \n 2022-05-19     -0.060766    -0.013863  \n 2022-05-20     -0.026864     0.025064  \n 2022-05-23      0.000000     0.000000  \n 2022-05-24      0.000000     0.000000  \n \n [2578 rows x 9 columns]}"
     },
     "execution_count": 149,
     "metadata": {},
     "output_type": "execute_result"
    }
   ],
   "source": [
    "fdata_list"
   ],
   "metadata": {
    "collapsed": false,
    "pycharm": {
     "name": "#%%\n"
    }
   }
  },
  {
   "cell_type": "code",
   "execution_count": 64,
   "outputs": [],
   "source": [
    "import numpy as np"
   ],
   "metadata": {
    "collapsed": false,
    "pycharm": {
     "name": "#%%\n"
    }
   }
  },
  {
   "cell_type": "code",
   "execution_count": null,
   "outputs": [],
   "source": [
    "# нужно будет также загрузить внутридневные котировки для нормальной дневной волатильности"
   ],
   "metadata": {
    "collapsed": false,
    "pycharm": {
     "name": "#%%\n"
    }
   }
  },
  {
   "cell_type": "code",
   "execution_count": 121,
   "outputs": [],
   "source": [
    "# считаем logreturns"
   ],
   "metadata": {
    "collapsed": false,
    "pycharm": {
     "name": "#%%\n"
    }
   }
  },
  {
   "cell_type": "code",
   "execution_count": 167,
   "outputs": [],
   "source": [
    "for key_val in selected_quotes.keys():\n",
    "    selected_quotes[key_val]['log_ret'] = np.log(selected_quotes[key_val]['Close']) - np.log(selected_quotes[key_val]['Close'].shift(1))"
   ],
   "metadata": {
    "collapsed": false,
    "pycharm": {
     "name": "#%%\n"
    }
   }
  },
  {
   "cell_type": "code",
   "execution_count": 125,
   "outputs": [],
   "source": [
    "# logarithmic daily price spread"
   ],
   "metadata": {
    "collapsed": false,
    "pycharm": {
     "name": "#%%\n"
    }
   }
  },
  {
   "cell_type": "code",
   "execution_count": 160,
   "outputs": [],
   "source": [
    "for key_val in selected_quotes.keys():\n",
    "    selected_quotes[key_val]['log_price_spread'] = np.log(selected_quotes[key_val]['High']) - np.log(selected_quotes[key_val]['Low'])"
   ],
   "metadata": {
    "collapsed": false,
    "pycharm": {
     "name": "#%%\n"
    }
   }
  },
  {
   "cell_type": "code",
   "execution_count": null,
   "outputs": [],
   "source": [
    "fdata = yf.download('SBER.ME', period='max', interval='1h', start='2022-01-20', end='2022-01-21')  # вот так надо за день качать данные"
   ],
   "metadata": {
    "collapsed": false,
    "pycharm": {
     "name": "#%%\n",
     "is_executing": true
    }
   }
  },
  {
   "cell_type": "code",
   "execution_count": 165,
   "outputs": [],
   "source": [
    "selected_quotes['SBER'].sort_values(by='log_price_spread', ascending=False).to_excel('sber_chng.xlsx')"
   ],
   "metadata": {
    "collapsed": false,
    "pycharm": {
     "name": "#%%\n"
    }
   }
  },
  {
   "cell_type": "code",
   "execution_count": 166,
   "outputs": [],
   "source": [
    "# TODO есть грязные места где случались спайки вниз ненастоящие, надо как то научиться их вычислять и вычищать"
   ],
   "metadata": {
    "collapsed": false,
    "pycharm": {
     "name": "#%%\n"
    }
   }
  },
  {
   "cell_type": "code",
   "execution_count": 168,
   "outputs": [],
   "source": [
    "# difference of daily logarithmic returns"
   ],
   "metadata": {
    "collapsed": false,
    "pycharm": {
     "name": "#%%\n"
    }
   }
  },
  {
   "cell_type": "code",
   "execution_count": 169,
   "outputs": [],
   "source": [
    "for key_val in selected_quotes.keys():\n",
    "    selected_quotes[key_val]['log_ret_diff'] = selected_quotes[key_val]['log_ret'] - selected_quotes[key_val]['log_ret'].shift(1)"
   ],
   "metadata": {
    "collapsed": false,
    "pycharm": {
     "name": "#%%\n"
    }
   }
  },
  {
   "cell_type": "code",
   "execution_count": 170,
   "outputs": [
    {
     "data": {
      "text/plain": "                  Open        High         Low       Close   Adj Close   \nDate                                                                     \n2012-03-15   99.400002  118.323997   61.734001  101.150002   54.883446  \\\n2012-03-19   97.199997  115.494003    7.175000  100.430000   54.492771   \n2022-02-25  123.750000  152.889999  115.110001  130.500000  130.500000   \n2012-01-27   89.769997  102.809998   58.110001   90.800003   49.267597   \n2012-03-02  100.000000  101.599998   32.188000  100.839996   54.715240   \n...                ...         ...         ...         ...         ...   \n2012-03-20   97.309998  114.838898    0.998600   99.860001   54.183491   \n2012-03-14  101.019997  115.069000   38.022999   38.022999   20.631075   \n2012-03-16   99.599998  116.321999   40.459999   40.459999   21.953377   \n2011-11-21   79.000000   79.370003   75.849998   75.989998   41.231758   \n2011-11-22   76.940002   77.760002   75.099998   76.400002   41.454231   \n\n               Volume  log_price_spread   log_ret  log_ret_diff  \nDate                                                             \n2012-03-15  309218848          0.650592  0.978413      1.937864  \n2012-03-19  268617248          2.778616  0.909147      1.825438  \n2022-02-25  396287150          0.283831  0.148420      0.777325  \n2012-01-27  318425152          0.570545  0.205040      0.367904  \n2012-03-02  296406336          1.149450  0.173004      0.335540  \n...               ...               ...       ...           ...  \n2012-03-20  244755998          4.744931 -0.005692     -0.914839  \n2012-03-14  290361248          1.107341 -0.959451     -0.959451  \n2012-03-16  293962304          1.056048 -0.916291     -1.894704  \n2011-11-21  293803296          0.045363       NaN           NaN  \n2011-11-22  272599360          0.034807  0.005381           NaN  \n\n[2615 rows x 9 columns]",
      "text/html": "<div>\n<style scoped>\n    .dataframe tbody tr th:only-of-type {\n        vertical-align: middle;\n    }\n\n    .dataframe tbody tr th {\n        vertical-align: top;\n    }\n\n    .dataframe thead th {\n        text-align: right;\n    }\n</style>\n<table border=\"1\" class=\"dataframe\">\n  <thead>\n    <tr style=\"text-align: right;\">\n      <th></th>\n      <th>Open</th>\n      <th>High</th>\n      <th>Low</th>\n      <th>Close</th>\n      <th>Adj Close</th>\n      <th>Volume</th>\n      <th>log_price_spread</th>\n      <th>log_ret</th>\n      <th>log_ret_diff</th>\n    </tr>\n    <tr>\n      <th>Date</th>\n      <th></th>\n      <th></th>\n      <th></th>\n      <th></th>\n      <th></th>\n      <th></th>\n      <th></th>\n      <th></th>\n      <th></th>\n    </tr>\n  </thead>\n  <tbody>\n    <tr>\n      <th>2012-03-15</th>\n      <td>99.400002</td>\n      <td>118.323997</td>\n      <td>61.734001</td>\n      <td>101.150002</td>\n      <td>54.883446</td>\n      <td>309218848</td>\n      <td>0.650592</td>\n      <td>0.978413</td>\n      <td>1.937864</td>\n    </tr>\n    <tr>\n      <th>2012-03-19</th>\n      <td>97.199997</td>\n      <td>115.494003</td>\n      <td>7.175000</td>\n      <td>100.430000</td>\n      <td>54.492771</td>\n      <td>268617248</td>\n      <td>2.778616</td>\n      <td>0.909147</td>\n      <td>1.825438</td>\n    </tr>\n    <tr>\n      <th>2022-02-25</th>\n      <td>123.750000</td>\n      <td>152.889999</td>\n      <td>115.110001</td>\n      <td>130.500000</td>\n      <td>130.500000</td>\n      <td>396287150</td>\n      <td>0.283831</td>\n      <td>0.148420</td>\n      <td>0.777325</td>\n    </tr>\n    <tr>\n      <th>2012-01-27</th>\n      <td>89.769997</td>\n      <td>102.809998</td>\n      <td>58.110001</td>\n      <td>90.800003</td>\n      <td>49.267597</td>\n      <td>318425152</td>\n      <td>0.570545</td>\n      <td>0.205040</td>\n      <td>0.367904</td>\n    </tr>\n    <tr>\n      <th>2012-03-02</th>\n      <td>100.000000</td>\n      <td>101.599998</td>\n      <td>32.188000</td>\n      <td>100.839996</td>\n      <td>54.715240</td>\n      <td>296406336</td>\n      <td>1.149450</td>\n      <td>0.173004</td>\n      <td>0.335540</td>\n    </tr>\n    <tr>\n      <th>...</th>\n      <td>...</td>\n      <td>...</td>\n      <td>...</td>\n      <td>...</td>\n      <td>...</td>\n      <td>...</td>\n      <td>...</td>\n      <td>...</td>\n      <td>...</td>\n    </tr>\n    <tr>\n      <th>2012-03-20</th>\n      <td>97.309998</td>\n      <td>114.838898</td>\n      <td>0.998600</td>\n      <td>99.860001</td>\n      <td>54.183491</td>\n      <td>244755998</td>\n      <td>4.744931</td>\n      <td>-0.005692</td>\n      <td>-0.914839</td>\n    </tr>\n    <tr>\n      <th>2012-03-14</th>\n      <td>101.019997</td>\n      <td>115.069000</td>\n      <td>38.022999</td>\n      <td>38.022999</td>\n      <td>20.631075</td>\n      <td>290361248</td>\n      <td>1.107341</td>\n      <td>-0.959451</td>\n      <td>-0.959451</td>\n    </tr>\n    <tr>\n      <th>2012-03-16</th>\n      <td>99.599998</td>\n      <td>116.321999</td>\n      <td>40.459999</td>\n      <td>40.459999</td>\n      <td>21.953377</td>\n      <td>293962304</td>\n      <td>1.056048</td>\n      <td>-0.916291</td>\n      <td>-1.894704</td>\n    </tr>\n    <tr>\n      <th>2011-11-21</th>\n      <td>79.000000</td>\n      <td>79.370003</td>\n      <td>75.849998</td>\n      <td>75.989998</td>\n      <td>41.231758</td>\n      <td>293803296</td>\n      <td>0.045363</td>\n      <td>NaN</td>\n      <td>NaN</td>\n    </tr>\n    <tr>\n      <th>2011-11-22</th>\n      <td>76.940002</td>\n      <td>77.760002</td>\n      <td>75.099998</td>\n      <td>76.400002</td>\n      <td>41.454231</td>\n      <td>272599360</td>\n      <td>0.034807</td>\n      <td>0.005381</td>\n      <td>NaN</td>\n    </tr>\n  </tbody>\n</table>\n<p>2615 rows × 9 columns</p>\n</div>"
     },
     "execution_count": 170,
     "metadata": {},
     "output_type": "execute_result"
    }
   ],
   "source": [
    "selected_quotes['SBER'].sort_values(by='log_ret_diff', ascending=False)  # похожие вещи с грязными close есть похоже, надо проверить"
   ],
   "metadata": {
    "collapsed": false,
    "pycharm": {
     "name": "#%%\n"
    }
   }
  },
  {
   "cell_type": "code",
   "execution_count": null,
   "outputs": [],
   "source": [],
   "metadata": {
    "collapsed": false,
    "pycharm": {
     "name": "#%%\n",
     "is_executing": true
    }
   }
  },
  {
   "cell_type": "code",
   "execution_count": 193,
   "outputs": [],
   "source": [
    "from datetime import datetime as dt"
   ],
   "metadata": {
    "collapsed": false,
    "pycharm": {
     "name": "#%%\n"
    }
   }
  },
  {
   "cell_type": "code",
   "execution_count": 171,
   "outputs": [],
   "source": [
    "# самое сложное - log daily volatility"
   ],
   "metadata": {
    "collapsed": false,
    "pycharm": {
     "name": "#%%\n"
    }
   }
  },
  {
   "cell_type": "code",
   "execution_count": 181,
   "outputs": [],
   "source": [
    "# надо сначала индексы привести к dt"
   ],
   "metadata": {
    "collapsed": false,
    "pycharm": {
     "name": "#%%\n"
    }
   }
  },
  {
   "cell_type": "code",
   "execution_count": 185,
   "outputs": [],
   "source": [
    "for key_val in selected_quotes.keys():\n",
    "    selected_quotes[key_val] = selected_quotes[key_val].reset_index()"
   ],
   "metadata": {
    "collapsed": false,
    "pycharm": {
     "name": "#%%\n"
    }
   }
  },
  {
   "cell_type": "code",
   "execution_count": 209,
   "outputs": [
    {
     "name": "stdout",
     "output_type": "stream",
     "text": [
      "SBER\n"
     ]
    }
   ],
   "source": [
    "for key_val in selected_quotes.keys():\n",
    "    try:\n",
    "        selected_quotes[key_val] = selected_quotes[key_val].set_index('Date')\n",
    "    except Exception:\n",
    "        print(key_val)"
   ],
   "metadata": {
    "collapsed": false,
    "pycharm": {
     "name": "#%%\n"
    }
   }
  },
  {
   "cell_type": "code",
   "execution_count": null,
   "outputs": [],
   "source": [],
   "metadata": {
    "collapsed": false,
    "pycharm": {
     "name": "#%%\n"
    }
   }
  },
  {
   "cell_type": "code",
   "execution_count": null,
   "outputs": [],
   "source": [
    "for index, column in selected_quotes['SBER'].iterrows():\n",
    "    buf_day = yf.download('SBER', period='max', interval='1h', start=index, end=index + pd.DateOffset(1))\n",
    "\n",
    "    selected_quotes['SBER']['daily_std'] = selected_quotes[key_val]['log_ret'] - selected_quotes[key_val]['log_ret'].shift(1)"
   ],
   "metadata": {
    "collapsed": false,
    "pycharm": {
     "name": "#%%\n"
    }
   }
  },
  {
   "cell_type": "code",
   "execution_count": 200,
   "outputs": [
    {
     "data": {
      "text/plain": "21"
     },
     "execution_count": 200,
     "metadata": {},
     "output_type": "execute_result"
    }
   ],
   "source": [
    "selected_quotes['SBER']['Date'][0].day"
   ],
   "metadata": {
    "collapsed": false,
    "pycharm": {
     "name": "#%%\n"
    }
   }
  },
  {
   "cell_type": "code",
   "execution_count": 204,
   "outputs": [],
   "source": [
    "selected_quotes['SBER'] = selected_quotes['SBER'].set_index('Date')"
   ],
   "metadata": {
    "collapsed": false,
    "pycharm": {
     "name": "#%%\n"
    }
   }
  },
  {
   "cell_type": "code",
   "execution_count": 212,
   "outputs": [
    {
     "data": {
      "text/plain": "Timestamp('2011-11-23 00:00:00')"
     },
     "execution_count": 212,
     "metadata": {},
     "output_type": "execute_result"
    }
   ],
   "source": [
    "selected_quotes['SBER'].index[0] + pd.DateOffset(2)"
   ],
   "metadata": {
    "collapsed": false,
    "pycharm": {
     "name": "#%%\n"
    }
   }
  },
  {
   "cell_type": "code",
   "execution_count": 229,
   "outputs": [
    {
     "name": "stdout",
     "output_type": "stream",
     "text": [
      "[*********************100%***********************]  1 of 1 completed\n"
     ]
    }
   ],
   "source": [
    "buf_day = yf.download('SBER.ME', period='max', interval='1h', start='2021-06-06', end='2021-06-30')"
   ],
   "metadata": {
    "collapsed": false,
    "pycharm": {
     "name": "#%%\n"
    }
   }
  },
  {
   "cell_type": "code",
   "execution_count": 230,
   "outputs": [
    {
     "data": {
      "text/plain": "                                 Open        High         Low       Close   \nDatetime                                                                    \n2021-06-10 09:30:00+03:00  314.869995  315.350006  313.989990  314.200012  \\\n2021-06-10 10:30:00+03:00  314.200012  315.170013  313.760010  315.000000   \n2021-06-10 11:30:00+03:00  315.000000  315.700012  314.519989  315.160004   \n2021-06-10 12:30:00+03:00  315.160004  315.690002  315.000000  315.290009   \n2021-06-10 13:30:00+03:00  315.399994  315.429993  314.549988  314.609985   \n...                               ...         ...         ...         ...   \n2021-06-29 14:30:00+03:00  306.140015  306.959991  305.899994  306.850006   \n2021-06-29 15:30:00+03:00  306.799988  307.010010  306.209991  306.880005   \n2021-06-29 16:30:00+03:00  306.950012  307.140015  306.119995  306.179993   \n2021-06-29 17:30:00+03:00  306.179993  306.339996  305.440002  305.739990   \n2021-06-29 18:30:00+03:00  305.750000  305.790009  305.049988  305.140015   \n\n                            Adj Close   Volume  \nDatetime                                        \n2021-06-10 09:30:00+03:00  314.200012  5988580  \n2021-06-10 10:30:00+03:00  315.000000  4769760  \n2021-06-10 11:30:00+03:00  315.160004  4940160  \n2021-06-10 12:30:00+03:00  315.290009  2646380  \n2021-06-10 13:30:00+03:00  314.609985  2854040  \n...                               ...      ...  \n2021-06-29 14:30:00+03:00  306.850006  4542640  \n2021-06-29 15:30:00+03:00  306.880005  5007420  \n2021-06-29 16:30:00+03:00  306.179993  4864360  \n2021-06-29 17:30:00+03:00  305.739990  5560820  \n2021-06-29 18:30:00+03:00  305.140015  3880680  \n\n[140 rows x 6 columns]",
      "text/html": "<div>\n<style scoped>\n    .dataframe tbody tr th:only-of-type {\n        vertical-align: middle;\n    }\n\n    .dataframe tbody tr th {\n        vertical-align: top;\n    }\n\n    .dataframe thead th {\n        text-align: right;\n    }\n</style>\n<table border=\"1\" class=\"dataframe\">\n  <thead>\n    <tr style=\"text-align: right;\">\n      <th></th>\n      <th>Open</th>\n      <th>High</th>\n      <th>Low</th>\n      <th>Close</th>\n      <th>Adj Close</th>\n      <th>Volume</th>\n    </tr>\n    <tr>\n      <th>Datetime</th>\n      <th></th>\n      <th></th>\n      <th></th>\n      <th></th>\n      <th></th>\n      <th></th>\n    </tr>\n  </thead>\n  <tbody>\n    <tr>\n      <th>2021-06-10 09:30:00+03:00</th>\n      <td>314.869995</td>\n      <td>315.350006</td>\n      <td>313.989990</td>\n      <td>314.200012</td>\n      <td>314.200012</td>\n      <td>5988580</td>\n    </tr>\n    <tr>\n      <th>2021-06-10 10:30:00+03:00</th>\n      <td>314.200012</td>\n      <td>315.170013</td>\n      <td>313.760010</td>\n      <td>315.000000</td>\n      <td>315.000000</td>\n      <td>4769760</td>\n    </tr>\n    <tr>\n      <th>2021-06-10 11:30:00+03:00</th>\n      <td>315.000000</td>\n      <td>315.700012</td>\n      <td>314.519989</td>\n      <td>315.160004</td>\n      <td>315.160004</td>\n      <td>4940160</td>\n    </tr>\n    <tr>\n      <th>2021-06-10 12:30:00+03:00</th>\n      <td>315.160004</td>\n      <td>315.690002</td>\n      <td>315.000000</td>\n      <td>315.290009</td>\n      <td>315.290009</td>\n      <td>2646380</td>\n    </tr>\n    <tr>\n      <th>2021-06-10 13:30:00+03:00</th>\n      <td>315.399994</td>\n      <td>315.429993</td>\n      <td>314.549988</td>\n      <td>314.609985</td>\n      <td>314.609985</td>\n      <td>2854040</td>\n    </tr>\n    <tr>\n      <th>...</th>\n      <td>...</td>\n      <td>...</td>\n      <td>...</td>\n      <td>...</td>\n      <td>...</td>\n      <td>...</td>\n    </tr>\n    <tr>\n      <th>2021-06-29 14:30:00+03:00</th>\n      <td>306.140015</td>\n      <td>306.959991</td>\n      <td>305.899994</td>\n      <td>306.850006</td>\n      <td>306.850006</td>\n      <td>4542640</td>\n    </tr>\n    <tr>\n      <th>2021-06-29 15:30:00+03:00</th>\n      <td>306.799988</td>\n      <td>307.010010</td>\n      <td>306.209991</td>\n      <td>306.880005</td>\n      <td>306.880005</td>\n      <td>5007420</td>\n    </tr>\n    <tr>\n      <th>2021-06-29 16:30:00+03:00</th>\n      <td>306.950012</td>\n      <td>307.140015</td>\n      <td>306.119995</td>\n      <td>306.179993</td>\n      <td>306.179993</td>\n      <td>4864360</td>\n    </tr>\n    <tr>\n      <th>2021-06-29 17:30:00+03:00</th>\n      <td>306.179993</td>\n      <td>306.339996</td>\n      <td>305.440002</td>\n      <td>305.739990</td>\n      <td>305.739990</td>\n      <td>5560820</td>\n    </tr>\n    <tr>\n      <th>2021-06-29 18:30:00+03:00</th>\n      <td>305.750000</td>\n      <td>305.790009</td>\n      <td>305.049988</td>\n      <td>305.140015</td>\n      <td>305.140015</td>\n      <td>3880680</td>\n    </tr>\n  </tbody>\n</table>\n<p>140 rows × 6 columns</p>\n</div>"
     },
     "execution_count": 230,
     "metadata": {},
     "output_type": "execute_result"
    }
   ],
   "source": [
    "buf_day"
   ],
   "metadata": {
    "collapsed": false,
    "pycharm": {
     "name": "#%%\n"
    }
   }
  },
  {
   "cell_type": "code",
   "execution_count": 217,
   "outputs": [
    {
     "data": {
      "text/plain": "Empty DataFrame\nColumns: [Open, High, Low, Close, Adj Close, Volume]\nIndex: []",
      "text/html": "<div>\n<style scoped>\n    .dataframe tbody tr th:only-of-type {\n        vertical-align: middle;\n    }\n\n    .dataframe tbody tr th {\n        vertical-align: top;\n    }\n\n    .dataframe thead th {\n        text-align: right;\n    }\n</style>\n<table border=\"1\" class=\"dataframe\">\n  <thead>\n    <tr style=\"text-align: right;\">\n      <th></th>\n      <th>Open</th>\n      <th>High</th>\n      <th>Low</th>\n      <th>Close</th>\n      <th>Adj Close</th>\n      <th>Volume</th>\n    </tr>\n    <tr>\n      <th>Date</th>\n      <th></th>\n      <th></th>\n      <th></th>\n      <th></th>\n      <th></th>\n      <th></th>\n    </tr>\n  </thead>\n  <tbody>\n  </tbody>\n</table>\n</div>"
     },
     "execution_count": 217,
     "metadata": {},
     "output_type": "execute_result"
    }
   ],
   "source": [
    "# часовая волатильность доступна только за последние два года"
   ],
   "metadata": {
    "collapsed": false,
    "pycharm": {
     "name": "#%%\n"
    }
   }
  },
  {
   "cell_type": "code",
   "execution_count": 221,
   "outputs": [
    {
     "data": {
      "text/plain": "2.0"
     },
     "execution_count": 221,
     "metadata": {},
     "output_type": "execute_result"
    }
   ],
   "source": [
    "730/365"
   ],
   "metadata": {
    "collapsed": false,
    "pycharm": {
     "name": "#%%\n"
    }
   }
  },
  {
   "cell_type": "code",
   "execution_count": 231,
   "outputs": [],
   "source": [
    "# можно по фасту чекнуть trading view, если не пройдет, то настояющую волатильность будем смотреть за последние два года"
   ],
   "metadata": {
    "collapsed": false,
    "pycharm": {
     "name": "#%%\n"
    }
   }
  },
  {
   "cell_type": "code",
   "execution_count": 231,
   "outputs": [],
   "source": [],
   "metadata": {
    "collapsed": false,
    "pycharm": {
     "name": "#%%\n"
    }
   }
  },
  {
   "cell_type": "markdown",
   "source": [
    "# надо все сохранить"
   ],
   "metadata": {
    "collapsed": false,
    "pycharm": {
     "name": "#%% md\n"
    }
   }
  },
  {
   "cell_type": "code",
   "execution_count": 235,
   "outputs": [
    {
     "data": {
      "text/plain": "                  Open        High         Low       Close   Adj Close   \nDate                                                                     \n2012-04-11   52.009998   53.250000   51.700001   53.070000   49.004147  \\\n2012-04-12   53.000000   53.700001   53.000000   53.349998   49.262695   \n2012-04-13   53.299999   53.400002   52.889999   53.270000   49.188828   \n2012-04-16   52.910000   53.250000   52.910000   53.220001   49.142654   \n2012-04-17   53.200001   53.380001   53.200001   53.299999   49.216526   \n...                ...         ...         ...         ...         ...   \n2022-05-18  184.000000  184.000000  179.500000  180.000000  180.000000   \n2022-05-19  181.500000  182.500000  178.000000  179.000000  179.000000   \n2022-05-20  179.000000  179.000000  179.000000  179.000000  179.000000   \n2022-05-23  179.000000  179.000000  179.000000  179.000000  179.000000   \n2022-05-24  179.000000  179.000000  179.000000  179.000000  179.000000   \n\n            Volume  log_price_spread   log_ret  log_ret_diff  \nDate                                                          \n2012-04-11  249800          0.029540       NaN           NaN  \n2012-04-12   90500          0.013121  0.005262           NaN  \n2012-04-13   82900          0.009597 -0.001501     -0.006763  \n2012-04-16   59000          0.006405 -0.000939      0.000562  \n2012-04-17   77500          0.003378  0.001502      0.002441  \n...            ...               ...       ...           ...  \n2022-05-18   20190          0.024761  0.002782     -0.034102  \n2022-05-19   28650          0.024967 -0.005571     -0.008353  \n2022-05-20       0          0.000000  0.000000      0.005571  \n2022-05-23       0          0.000000  0.000000      0.000000  \n2022-05-24       0          0.000000  0.000000      0.000000  \n\n[2518 rows x 9 columns]",
      "text/html": "<div>\n<style scoped>\n    .dataframe tbody tr th:only-of-type {\n        vertical-align: middle;\n    }\n\n    .dataframe tbody tr th {\n        vertical-align: top;\n    }\n\n    .dataframe thead th {\n        text-align: right;\n    }\n</style>\n<table border=\"1\" class=\"dataframe\">\n  <thead>\n    <tr style=\"text-align: right;\">\n      <th></th>\n      <th>Open</th>\n      <th>High</th>\n      <th>Low</th>\n      <th>Close</th>\n      <th>Adj Close</th>\n      <th>Volume</th>\n      <th>log_price_spread</th>\n      <th>log_ret</th>\n      <th>log_ret_diff</th>\n    </tr>\n    <tr>\n      <th>Date</th>\n      <th></th>\n      <th></th>\n      <th></th>\n      <th></th>\n      <th></th>\n      <th></th>\n      <th></th>\n      <th></th>\n      <th></th>\n    </tr>\n  </thead>\n  <tbody>\n    <tr>\n      <th>2012-04-11</th>\n      <td>52.009998</td>\n      <td>53.250000</td>\n      <td>51.700001</td>\n      <td>53.070000</td>\n      <td>49.004147</td>\n      <td>249800</td>\n      <td>0.029540</td>\n      <td>NaN</td>\n      <td>NaN</td>\n    </tr>\n    <tr>\n      <th>2012-04-12</th>\n      <td>53.000000</td>\n      <td>53.700001</td>\n      <td>53.000000</td>\n      <td>53.349998</td>\n      <td>49.262695</td>\n      <td>90500</td>\n      <td>0.013121</td>\n      <td>0.005262</td>\n      <td>NaN</td>\n    </tr>\n    <tr>\n      <th>2012-04-13</th>\n      <td>53.299999</td>\n      <td>53.400002</td>\n      <td>52.889999</td>\n      <td>53.270000</td>\n      <td>49.188828</td>\n      <td>82900</td>\n      <td>0.009597</td>\n      <td>-0.001501</td>\n      <td>-0.006763</td>\n    </tr>\n    <tr>\n      <th>2012-04-16</th>\n      <td>52.910000</td>\n      <td>53.250000</td>\n      <td>52.910000</td>\n      <td>53.220001</td>\n      <td>49.142654</td>\n      <td>59000</td>\n      <td>0.006405</td>\n      <td>-0.000939</td>\n      <td>0.000562</td>\n    </tr>\n    <tr>\n      <th>2012-04-17</th>\n      <td>53.200001</td>\n      <td>53.380001</td>\n      <td>53.200001</td>\n      <td>53.299999</td>\n      <td>49.216526</td>\n      <td>77500</td>\n      <td>0.003378</td>\n      <td>0.001502</td>\n      <td>0.002441</td>\n    </tr>\n    <tr>\n      <th>...</th>\n      <td>...</td>\n      <td>...</td>\n      <td>...</td>\n      <td>...</td>\n      <td>...</td>\n      <td>...</td>\n      <td>...</td>\n      <td>...</td>\n      <td>...</td>\n    </tr>\n    <tr>\n      <th>2022-05-18</th>\n      <td>184.000000</td>\n      <td>184.000000</td>\n      <td>179.500000</td>\n      <td>180.000000</td>\n      <td>180.000000</td>\n      <td>20190</td>\n      <td>0.024761</td>\n      <td>0.002782</td>\n      <td>-0.034102</td>\n    </tr>\n    <tr>\n      <th>2022-05-19</th>\n      <td>181.500000</td>\n      <td>182.500000</td>\n      <td>178.000000</td>\n      <td>179.000000</td>\n      <td>179.000000</td>\n      <td>28650</td>\n      <td>0.024967</td>\n      <td>-0.005571</td>\n      <td>-0.008353</td>\n    </tr>\n    <tr>\n      <th>2022-05-20</th>\n      <td>179.000000</td>\n      <td>179.000000</td>\n      <td>179.000000</td>\n      <td>179.000000</td>\n      <td>179.000000</td>\n      <td>0</td>\n      <td>0.000000</td>\n      <td>0.000000</td>\n      <td>0.005571</td>\n    </tr>\n    <tr>\n      <th>2022-05-23</th>\n      <td>179.000000</td>\n      <td>179.000000</td>\n      <td>179.000000</td>\n      <td>179.000000</td>\n      <td>179.000000</td>\n      <td>0</td>\n      <td>0.000000</td>\n      <td>0.000000</td>\n      <td>0.000000</td>\n    </tr>\n    <tr>\n      <th>2022-05-24</th>\n      <td>179.000000</td>\n      <td>179.000000</td>\n      <td>179.000000</td>\n      <td>179.000000</td>\n      <td>179.000000</td>\n      <td>0</td>\n      <td>0.000000</td>\n      <td>0.000000</td>\n      <td>0.000000</td>\n    </tr>\n  </tbody>\n</table>\n<p>2518 rows × 9 columns</p>\n</div>"
     },
     "execution_count": 235,
     "metadata": {},
     "output_type": "execute_result"
    }
   ],
   "source": [
    "selected_quotes['ABRD']"
   ],
   "metadata": {
    "collapsed": false,
    "pycharm": {
     "name": "#%%\n"
    }
   }
  },
  {
   "cell_type": "code",
   "execution_count": 237,
   "outputs": [
    {
     "name": "stderr",
     "output_type": "stream",
     "text": [
      "100%|██████████| 157/157 [00:37<00:00,  4.22it/s]\n"
     ]
    }
   ],
   "source": [
    "for key_val in tqdm(selected_quotes.keys()):\n",
    "    try:\n",
    "        selected_quotes[key_val].reset_index().to_excel(fr'data/{key_val}.xlsx', index=False)\n",
    "    except Exception as e:\n",
    "        print(f'{key_val} exception: \\n {e}')"
   ],
   "metadata": {
    "collapsed": false,
    "pycharm": {
     "name": "#%%\n"
    }
   }
  },
  {
   "cell_type": "code",
   "execution_count": null,
   "outputs": [],
   "source": [],
   "metadata": {
    "collapsed": false,
    "pycharm": {
     "name": "#%%\n"
    }
   }
  },
  {
   "cell_type": "code",
   "execution_count": null,
   "outputs": [],
   "source": [],
   "metadata": {
    "collapsed": false,
    "pycharm": {
     "name": "#%%\n"
    }
   }
  },
  {
   "cell_type": "markdown",
   "source": [
    "# сделаем данные для недели, волатильность надо для недели считать"
   ],
   "metadata": {
    "collapsed": false,
    "pycharm": {
     "name": "#%% md\n"
    }
   }
  },
  {
   "cell_type": "code",
   "execution_count": null,
   "outputs": [],
   "source": [],
   "metadata": {
    "collapsed": false,
    "pycharm": {
     "name": "#%%\n"
    }
   }
  },
  {
   "cell_type": "code",
   "execution_count": 24,
   "outputs": [],
   "source": [
    "# TODO надо прочитать данные из data и аггрегировать по недельной волатильности\n",
    "# TODO возможно их все скейлить нужно"
   ],
   "metadata": {
    "collapsed": false,
    "pycharm": {
     "name": "#%%\n"
    }
   }
  },
  {
   "cell_type": "code",
   "execution_count": 1,
   "outputs": [],
   "source": [
    "import pandas as pd"
   ],
   "metadata": {
    "collapsed": false,
    "pycharm": {
     "name": "#%%\n"
    }
   }
  },
  {
   "cell_type": "code",
   "execution_count": 2,
   "outputs": [],
   "source": [
    "import glob"
   ],
   "metadata": {
    "collapsed": false,
    "pycharm": {
     "name": "#%%\n"
    }
   }
  },
  {
   "cell_type": "code",
   "execution_count": 36,
   "outputs": [],
   "source": [
    "from tqdm import tqdm"
   ],
   "metadata": {
    "collapsed": false,
    "pycharm": {
     "name": "#%%\n"
    }
   }
  },
  {
   "cell_type": "code",
   "execution_count": null,
   "outputs": [],
   "source": [],
   "metadata": {
    "collapsed": false,
    "pycharm": {
     "name": "#%%\n",
     "is_executing": true
    }
   }
  },
  {
   "cell_type": "code",
   "execution_count": 3,
   "outputs": [],
   "source": [
    "files_list = glob.glob('data/*')"
   ],
   "metadata": {
    "collapsed": false,
    "pycharm": {
     "name": "#%%\n"
    }
   }
  },
  {
   "cell_type": "code",
   "execution_count": 5,
   "outputs": [],
   "source": [
    "mrkp_df = pd.read_excel(files_list[0])"
   ],
   "metadata": {
    "collapsed": false,
    "pycharm": {
     "name": "#%%\n"
    }
   }
  },
  {
   "cell_type": "code",
   "execution_count": 15,
   "outputs": [],
   "source": [
    "mrkp_df['week'] = mrkp_df['Date'].dt.isocalendar().week\n",
    "mrkp_df['yr'] = mrkp_df['Date'].dt.year"
   ],
   "metadata": {
    "collapsed": false,
    "pycharm": {
     "name": "#%%\n"
    }
   }
  },
  {
   "cell_type": "code",
   "execution_count": 19,
   "outputs": [],
   "source": [
    "mrkp_df['week_yr'] = mrkp_df['week'].astype(str) + '_' + mrkp_df['yr'].astype(str)"
   ],
   "metadata": {
    "collapsed": false,
    "pycharm": {
     "name": "#%%\n"
    }
   }
  },
  {
   "cell_type": "code",
   "execution_count": 29,
   "outputs": [
    {
     "data": {
      "text/plain": "           Date    Open    High     Low   Close  Adj Close     Volume   \n2999 2022-02-21  0.2167  0.2185  0.1844  0.1900     0.1900  451200000  \\\n3000 2022-02-22  0.1800  0.1990  0.1621  0.1922     0.1922  590910000   \n3001 2022-02-24  0.1733  0.1733  0.1285  0.1922     0.1922  306310000   \n3002 2022-02-25  0.1425  0.1613  0.1358  0.1342     0.1342  229020000   \n\n      log_price_spread   log_ret  log_ret_diff week_yr  week    yr  \n2999          0.169679 -0.123614     -0.089325  8_2022     8  2022  \n3000          0.205091  0.011512      0.135126  8_2022     8  2022  \n3001          0.299095  0.000000     -0.011512  8_2022     8  2022  \n3002          0.172083 -0.359205     -0.359205  8_2022     8  2022  ",
      "text/html": "<div>\n<style scoped>\n    .dataframe tbody tr th:only-of-type {\n        vertical-align: middle;\n    }\n\n    .dataframe tbody tr th {\n        vertical-align: top;\n    }\n\n    .dataframe thead th {\n        text-align: right;\n    }\n</style>\n<table border=\"1\" class=\"dataframe\">\n  <thead>\n    <tr style=\"text-align: right;\">\n      <th></th>\n      <th>Date</th>\n      <th>Open</th>\n      <th>High</th>\n      <th>Low</th>\n      <th>Close</th>\n      <th>Adj Close</th>\n      <th>Volume</th>\n      <th>log_price_spread</th>\n      <th>log_ret</th>\n      <th>log_ret_diff</th>\n      <th>week_yr</th>\n      <th>week</th>\n      <th>yr</th>\n    </tr>\n  </thead>\n  <tbody>\n    <tr>\n      <th>2999</th>\n      <td>2022-02-21</td>\n      <td>0.2167</td>\n      <td>0.2185</td>\n      <td>0.1844</td>\n      <td>0.1900</td>\n      <td>0.1900</td>\n      <td>451200000</td>\n      <td>0.169679</td>\n      <td>-0.123614</td>\n      <td>-0.089325</td>\n      <td>8_2022</td>\n      <td>8</td>\n      <td>2022</td>\n    </tr>\n    <tr>\n      <th>3000</th>\n      <td>2022-02-22</td>\n      <td>0.1800</td>\n      <td>0.1990</td>\n      <td>0.1621</td>\n      <td>0.1922</td>\n      <td>0.1922</td>\n      <td>590910000</td>\n      <td>0.205091</td>\n      <td>0.011512</td>\n      <td>0.135126</td>\n      <td>8_2022</td>\n      <td>8</td>\n      <td>2022</td>\n    </tr>\n    <tr>\n      <th>3001</th>\n      <td>2022-02-24</td>\n      <td>0.1733</td>\n      <td>0.1733</td>\n      <td>0.1285</td>\n      <td>0.1922</td>\n      <td>0.1922</td>\n      <td>306310000</td>\n      <td>0.299095</td>\n      <td>0.000000</td>\n      <td>-0.011512</td>\n      <td>8_2022</td>\n      <td>8</td>\n      <td>2022</td>\n    </tr>\n    <tr>\n      <th>3002</th>\n      <td>2022-02-25</td>\n      <td>0.1425</td>\n      <td>0.1613</td>\n      <td>0.1358</td>\n      <td>0.1342</td>\n      <td>0.1342</td>\n      <td>229020000</td>\n      <td>0.172083</td>\n      <td>-0.359205</td>\n      <td>-0.359205</td>\n      <td>8_2022</td>\n      <td>8</td>\n      <td>2022</td>\n    </tr>\n  </tbody>\n</table>\n</div>"
     },
     "execution_count": 29,
     "metadata": {},
     "output_type": "execute_result"
    }
   ],
   "source": [
    "mrkp_df.loc[mrkp_df['week_yr']=='8_2022']"
   ],
   "metadata": {
    "collapsed": false,
    "pycharm": {
     "name": "#%%\n"
    }
   }
  },
  {
   "cell_type": "code",
   "execution_count": 32,
   "outputs": [
    {
     "data": {
      "text/plain": "          log_ret\nweek_yr          \n10_2010  0.018773\n10_2011  0.020903\n10_2012  0.013816\n10_2013  0.012343\n10_2014  0.055827\n...           ...\n9_2017   0.036734\n9_2018   0.021599\n9_2019   0.010941\n9_2020   0.020589\n9_2021   0.015258\n\n[634 rows x 1 columns]",
      "text/html": "<div>\n<style scoped>\n    .dataframe tbody tr th:only-of-type {\n        vertical-align: middle;\n    }\n\n    .dataframe tbody tr th {\n        vertical-align: top;\n    }\n\n    .dataframe thead th {\n        text-align: right;\n    }\n</style>\n<table border=\"1\" class=\"dataframe\">\n  <thead>\n    <tr style=\"text-align: right;\">\n      <th></th>\n      <th>log_ret</th>\n    </tr>\n    <tr>\n      <th>week_yr</th>\n      <th></th>\n    </tr>\n  </thead>\n  <tbody>\n    <tr>\n      <th>10_2010</th>\n      <td>0.018773</td>\n    </tr>\n    <tr>\n      <th>10_2011</th>\n      <td>0.020903</td>\n    </tr>\n    <tr>\n      <th>10_2012</th>\n      <td>0.013816</td>\n    </tr>\n    <tr>\n      <th>10_2013</th>\n      <td>0.012343</td>\n    </tr>\n    <tr>\n      <th>10_2014</th>\n      <td>0.055827</td>\n    </tr>\n    <tr>\n      <th>...</th>\n      <td>...</td>\n    </tr>\n    <tr>\n      <th>9_2017</th>\n      <td>0.036734</td>\n    </tr>\n    <tr>\n      <th>9_2018</th>\n      <td>0.021599</td>\n    </tr>\n    <tr>\n      <th>9_2019</th>\n      <td>0.010941</td>\n    </tr>\n    <tr>\n      <th>9_2020</th>\n      <td>0.020589</td>\n    </tr>\n    <tr>\n      <th>9_2021</th>\n      <td>0.015258</td>\n    </tr>\n  </tbody>\n</table>\n<p>634 rows × 1 columns</p>\n</div>"
     },
     "execution_count": 32,
     "metadata": {},
     "output_type": "execute_result"
    }
   ],
   "source": [
    "mrkp_df[['week_yr', 'log_ret']].groupby('week_yr').agg({'log_ret': 'std'})"
   ],
   "metadata": {
    "collapsed": false,
    "pycharm": {
     "name": "#%%\n"
    }
   }
  },
  {
   "cell_type": "code",
   "execution_count": 30,
   "outputs": [],
   "source": [
    "# todo и так для каждого датасета"
   ],
   "metadata": {
    "collapsed": false,
    "pycharm": {
     "name": "#%%\n"
    }
   }
  },
  {
   "cell_type": "code",
   "execution_count": null,
   "outputs": [],
   "source": [],
   "metadata": {
    "collapsed": false,
    "pycharm": {
     "name": "#%%\n",
     "is_executing": true
    }
   }
  },
  {
   "cell_type": "code",
   "execution_count": 38,
   "outputs": [
    {
     "name": "stderr",
     "output_type": "stream",
     "text": [
      "100%|██████████| 157/157 [00:22<00:00,  6.97it/s]\n"
     ]
    }
   ],
   "source": [
    "week_vol_dict = {}\n",
    "for file in tqdm(files_list):\n",
    "    current_df = pd.read_excel(file)\n",
    "    current_df['week'] = current_df['Date'].dt.isocalendar().week\n",
    "    current_df['yr'] = current_df['Date'].dt.year\n",
    "    current_df['week_yr'] = current_df['week'].astype(str) + '_' + current_df['yr'].astype(str)\n",
    "    week_vol_df = current_df[['week_yr', 'log_ret']].groupby('week_yr').agg({'log_ret': 'std'})  # count weekly volatility\n",
    "    week_vol_dict[file.replace('data/', '').replace('.xlsx', '')] = week_vol_df"
   ],
   "metadata": {
    "collapsed": false,
    "pycharm": {
     "name": "#%%\n"
    }
   }
  },
  {
   "cell_type": "code",
   "execution_count": 39,
   "outputs": [
    {
     "data": {
      "text/plain": "dict_keys(['MRKP', 'RZSB', 'RDRB', 'MFGS', 'LSNG', 'UNKL', 'STSB', 'TGKN', 'KROT', 'TASB', 'ELTZ', 'AFLT', 'CHGZ', 'KZOS', 'SAGO', 'ZILL', 'BANE', 'SFIN', 'PLZL', 'TTLK', 'AFKS', 'AKRN', 'KCHE', 'TGKB', 'SNGS', 'NNSB', 'TRMK', 'YRSB', 'KAZT', 'NAUK', 'MRSB', 'AVAN', 'LPSB', 'YKEN', 'APTK', 'ARSA', 'RTSB', 'LNZL', 'VGSB', 'SIBN', 'JNOS', 'LIFE', 'MSNG', 'MAGE', 'YAKG', 'MSTT', 'UNAC', 'SBER', 'VJGZ', 'BLNG', 'MVID', 'MRKZ', 'BSPB', 'CHMK', 'HYDR', 'MAGN', 'DZRD', 'MRKV', 'PIKK', 'GAZP', 'CBOM', 'IRKT', 'ALRS', 'MGTS', 'IRAO', 'MRKC', 'ASSB', 'TUZA', 'MGNT', 'KGKC', 'UKUZ', 'SELG', 'PRMB', 'RBCM', 'ROST', 'CHMF', 'TATN', 'RGSS', 'CNTL', 'LSRG', 'MSRS', 'KOGK', 'VSMO', 'AMEZ', 'ROLO', 'ROSN', 'KRSB', 'NKHP', 'MISB', 'VTBR', 'IGST', 'SVAV', 'OGKB', 'ROSB', 'UTAR', 'MOEX', 'URKZ', 'INGR', 'RTKM', 'UCSS', 'USBN', 'PAZA', 'NMTP', 'MRKU', 'RTGZ', 'WTCM', 'ABRD', 'VRSB', 'NKSH', 'NSVZ', 'SARE', 'ZVEZ', 'MRKY', 'VSYD', 'UPRO', 'MGNZ', 'DIOD', 'AQUA', 'FESH', 'LKOH', 'ISKJ', 'GAZA', 'KMEZ', 'LVHK', 'FEES', 'NFAZ', 'DVEC', 'RASP', 'PMSB', 'GAZT', 'BELU', 'TNSE', 'MRKK', 'KLSB', 'RUSI', 'NVTK', 'VLHZ', 'KUZB', 'KTSB', 'BRZL', 'KRKN', 'RKKE', 'MTSS', 'KBSB', 'RUAL', 'MTLR', 'TGKA', 'PHOR', 'CHKZ', 'KUBE', 'NKNC', 'MRKS', 'NLMK', 'KMAZ', 'GCHE', 'GMKN', 'TORS'])"
     },
     "execution_count": 39,
     "metadata": {},
     "output_type": "execute_result"
    }
   ],
   "source": [
    "week_vol_dict.keys()"
   ],
   "metadata": {
    "collapsed": false,
    "pycharm": {
     "name": "#%%\n"
    }
   }
  },
  {
   "cell_type": "code",
   "execution_count": 42,
   "outputs": [
    {
     "data": {
      "text/plain": "          log_ret\nweek_yr          \n14_2013  0.315464\n5_2012   0.240732\n4_2012   0.234788\n22_2020  0.225627\n39_2010  0.196385\n...           ...\n1_2012   0.000000\n18_2014  0.000000\n26_2014  0.000000\n1_2013        NaN\n1_2020        NaN\n\n[634 rows x 1 columns]",
      "text/html": "<div>\n<style scoped>\n    .dataframe tbody tr th:only-of-type {\n        vertical-align: middle;\n    }\n\n    .dataframe tbody tr th {\n        vertical-align: top;\n    }\n\n    .dataframe thead th {\n        text-align: right;\n    }\n</style>\n<table border=\"1\" class=\"dataframe\">\n  <thead>\n    <tr style=\"text-align: right;\">\n      <th></th>\n      <th>log_ret</th>\n    </tr>\n    <tr>\n      <th>week_yr</th>\n      <th></th>\n    </tr>\n  </thead>\n  <tbody>\n    <tr>\n      <th>14_2013</th>\n      <td>0.315464</td>\n    </tr>\n    <tr>\n      <th>5_2012</th>\n      <td>0.240732</td>\n    </tr>\n    <tr>\n      <th>4_2012</th>\n      <td>0.234788</td>\n    </tr>\n    <tr>\n      <th>22_2020</th>\n      <td>0.225627</td>\n    </tr>\n    <tr>\n      <th>39_2010</th>\n      <td>0.196385</td>\n    </tr>\n    <tr>\n      <th>...</th>\n      <td>...</td>\n    </tr>\n    <tr>\n      <th>1_2012</th>\n      <td>0.000000</td>\n    </tr>\n    <tr>\n      <th>18_2014</th>\n      <td>0.000000</td>\n    </tr>\n    <tr>\n      <th>26_2014</th>\n      <td>0.000000</td>\n    </tr>\n    <tr>\n      <th>1_2013</th>\n      <td>NaN</td>\n    </tr>\n    <tr>\n      <th>1_2020</th>\n      <td>NaN</td>\n    </tr>\n  </tbody>\n</table>\n<p>634 rows × 1 columns</p>\n</div>"
     },
     "execution_count": 42,
     "metadata": {},
     "output_type": "execute_result"
    }
   ],
   "source": [
    "week_vol_dict['RZSB'].sort_values(by='log_ret', ascending=False)  # думаю здесь тоже надо чистить outliers"
   ],
   "metadata": {
    "collapsed": false,
    "pycharm": {
     "name": "#%%\n"
    }
   }
  },
  {
   "cell_type": "code",
   "execution_count": 43,
   "outputs": [
    {
     "name": "stderr",
     "output_type": "stream",
     "text": [
      "100%|██████████| 157/157 [00:02<00:00, 77.40it/s]\n"
     ]
    }
   ],
   "source": [
    "for key_val in tqdm(week_vol_dict.keys()):\n",
    "    try:\n",
    "        week_vol_dict[key_val].reset_index().to_excel(fr'data_vol/{key_val}.xlsx', index=False)\n",
    "    except Exception as e:\n",
    "        print(f'{key_val} exception: \\n {e}')"
   ],
   "metadata": {
    "collapsed": false,
    "pycharm": {
     "name": "#%%\n"
    }
   }
  },
  {
   "cell_type": "code",
   "execution_count": 44,
   "outputs": [],
   "source": [
    "# TODO resume, у нас есть ключи у котировок - даты и недели, надо выделить те же ключи у новостей и смэппить данные"
   ],
   "metadata": {
    "collapsed": false,
    "pycharm": {
     "name": "#%%\n"
    }
   }
  },
  {
   "cell_type": "code",
   "execution_count": null,
   "outputs": [],
   "source": [],
   "metadata": {
    "collapsed": false,
    "pycharm": {
     "name": "#%%\n",
     "is_executing": true
    }
   }
  },
  {
   "cell_type": "code",
   "execution_count": 45,
   "outputs": [],
   "source": [
    "# все тоже самое для MOEX, чтобы снизить размерность"
   ],
   "metadata": {
    "collapsed": false,
    "pycharm": {
     "name": "#%%\n"
    }
   }
  },
  {
   "cell_type": "code",
   "execution_count": 56,
   "outputs": [
    {
     "name": "stdout",
     "output_type": "stream",
     "text": [
      "[*********************100%***********************]  1 of 1 completed\n"
     ]
    }
   ],
   "source": [
    "imoex_df = yf.download(f'IMOEX.ME', period='max', interval='1d')"
   ],
   "metadata": {
    "collapsed": false,
    "pycharm": {
     "name": "#%%\n"
    }
   }
  },
  {
   "cell_type": "code",
   "execution_count": 59,
   "outputs": [],
   "source": [
    "imoex_df = imoex_df.reset_index()"
   ],
   "metadata": {
    "collapsed": false,
    "pycharm": {
     "name": "#%%\n"
    }
   }
  },
  {
   "cell_type": "code",
   "execution_count": 61,
   "outputs": [
    {
     "data": {
      "text/plain": "Timestamp('2013-03-05 00:00:00')"
     },
     "execution_count": 61,
     "metadata": {},
     "output_type": "execute_result"
    }
   ],
   "source": [
    "imoex_df['Date'].min()"
   ],
   "metadata": {
    "collapsed": false,
    "pycharm": {
     "name": "#%%\n"
    }
   }
  },
  {
   "cell_type": "code",
   "execution_count": 62,
   "outputs": [
    {
     "data": {
      "text/plain": "Timestamp('2023-05-05 00:00:00')"
     },
     "execution_count": 62,
     "metadata": {},
     "output_type": "execute_result"
    }
   ],
   "source": [
    "imoex_df['Date'].max()"
   ],
   "metadata": {
    "collapsed": false,
    "pycharm": {
     "name": "#%%\n"
    }
   }
  },
  {
   "cell_type": "code",
   "execution_count": 65,
   "outputs": [],
   "source": [
    "imoex_df['log_price_spread'] = np.log(imoex_df['High']) - np.log(imoex_df['Low'])"
   ],
   "metadata": {
    "collapsed": false,
    "pycharm": {
     "name": "#%%\n"
    }
   }
  },
  {
   "cell_type": "code",
   "execution_count": 66,
   "outputs": [],
   "source": [
    "imoex_df['log_ret'] = np.log(imoex_df['Close']) - np.log(imoex_df['Close'].shift(1))"
   ],
   "metadata": {
    "collapsed": false,
    "pycharm": {
     "name": "#%%\n"
    }
   }
  },
  {
   "cell_type": "code",
   "execution_count": 67,
   "outputs": [],
   "source": [
    "imoex_df['week'] = imoex_df['Date'].dt.isocalendar().week\n",
    "imoex_df['yr'] = imoex_df['Date'].dt.year\n",
    "imoex_df['week_yr'] = imoex_df['week'].astype(str) + '_' + imoex_df['yr'].astype(str)\n",
    "week_vol_imoex_df = imoex_df[['week_yr', 'log_ret']].groupby('week_yr').agg({'log_ret': 'std'})"
   ],
   "metadata": {
    "collapsed": false,
    "pycharm": {
     "name": "#%%\n"
    }
   }
  },
  {
   "cell_type": "code",
   "execution_count": 69,
   "outputs": [],
   "source": [
    "week_vol_imoex_df = week_vol_imoex_df.reset_index()"
   ],
   "metadata": {
    "collapsed": false,
    "pycharm": {
     "name": "#%%\n"
    }
   }
  },
  {
   "cell_type": "code",
   "execution_count": 72,
   "outputs": [],
   "source": [
    "imoex_df.to_excel('imoex_data/imoex_quotes.xlsx', index=False)"
   ],
   "metadata": {
    "collapsed": false,
    "pycharm": {
     "name": "#%%\n"
    }
   }
  },
  {
   "cell_type": "code",
   "execution_count": 73,
   "outputs": [],
   "source": [
    "week_vol_imoex_df.to_excel('imoex_data/imoex_vol.xlsx', index=False)"
   ],
   "metadata": {
    "collapsed": false,
    "pycharm": {
     "name": "#%%\n"
    }
   }
  },
  {
   "cell_type": "code",
   "execution_count": null,
   "outputs": [],
   "source": [],
   "metadata": {
    "collapsed": false,
    "pycharm": {
     "name": "#%%\n"
    }
   }
  },
  {
   "cell_type": "code",
   "execution_count": null,
   "outputs": [],
   "source": [],
   "metadata": {
    "collapsed": false,
    "pycharm": {
     "name": "#%%\n"
    }
   }
  },
  {
   "cell_type": "code",
   "execution_count": null,
   "outputs": [],
   "source": [],
   "metadata": {
    "collapsed": false,
    "pycharm": {
     "name": "#%%\n"
    }
   }
  },
  {
   "cell_type": "code",
   "execution_count": null,
   "outputs": [],
   "source": [
    "week_vol_dict = {}\n",
    "for file in tqdm(files_list):\n",
    "    current_df = pd.read_excel(file)\n",
    "    current_df['week'] = current_df['Date'].dt.isocalendar().week\n",
    "    current_df['yr'] = current_df['Date'].dt.year\n",
    "    current_df['week_yr'] = current_df['week'].astype(str) + '_' + current_df['yr'].astype(str)\n",
    "    week_vol_df = current_df[['week_yr', 'log_ret']].groupby('week_yr').agg({'log_ret': 'std'})  # count weekly volatility\n",
    "    week_vol_dict[file.replace('data/', '').replace('.xlsx', '')] = week_vol_df"
   ],
   "metadata": {
    "collapsed": false,
    "pycharm": {
     "name": "#%%\n",
     "is_executing": true
    }
   }
  },
  {
   "cell_type": "code",
   "execution_count": 66,
   "outputs": [],
   "source": [],
   "metadata": {
    "collapsed": false,
    "pycharm": {
     "name": "#%%\n"
    }
   }
  }
 ],
 "metadata": {
  "kernelspec": {
   "display_name": "Python 3",
   "language": "python",
   "name": "python3"
  },
  "language_info": {
   "codemirror_mode": {
    "name": "ipython",
    "version": 2
   },
   "file_extension": ".py",
   "mimetype": "text/x-python",
   "name": "python",
   "nbconvert_exporter": "python",
   "pygments_lexer": "ipython2",
   "version": "2.7.6"
  }
 },
 "nbformat": 4,
 "nbformat_minor": 0
}