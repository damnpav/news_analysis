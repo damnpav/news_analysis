{
 "cells": [
  {
   "cell_type": "code",
   "execution_count": 1,
   "metadata": {
    "collapsed": true,
    "pycharm": {
     "name": "#%%\n"
    }
   },
   "outputs": [],
   "source": [
    "import yfinance as yf"
   ]
  },
  {
   "cell_type": "code",
   "execution_count": 31,
   "outputs": [
    {
     "name": "stdout",
     "output_type": "stream",
     "text": [
      "[*********************100%***********************]  1 of 1 completed\n",
      "\n",
      "1 Failed download:\n",
      "- NKNC: No timezone found, symbol may be delisted\n"
     ]
    }
   ],
   "source": [
    "fdata = yf.download('NKNC', period='max', interval='1d')"
   ],
   "metadata": {
    "collapsed": false,
    "pycharm": {
     "name": "#%%\n"
    }
   }
  },
  {
   "cell_type": "code",
   "execution_count": 32,
   "outputs": [
    {
     "data": {
      "text/plain": "Empty DataFrame\nColumns: [Open, High, Low, Close, Adj Close, Volume]\nIndex: []",
      "text/html": "<div>\n<style scoped>\n    .dataframe tbody tr th:only-of-type {\n        vertical-align: middle;\n    }\n\n    .dataframe tbody tr th {\n        vertical-align: top;\n    }\n\n    .dataframe thead th {\n        text-align: right;\n    }\n</style>\n<table border=\"1\" class=\"dataframe\">\n  <thead>\n    <tr style=\"text-align: right;\">\n      <th></th>\n      <th>Open</th>\n      <th>High</th>\n      <th>Low</th>\n      <th>Close</th>\n      <th>Adj Close</th>\n      <th>Volume</th>\n    </tr>\n    <tr>\n      <th>Date</th>\n      <th></th>\n      <th></th>\n      <th></th>\n      <th></th>\n      <th></th>\n      <th></th>\n    </tr>\n  </thead>\n  <tbody>\n  </tbody>\n</table>\n</div>"
     },
     "execution_count": 32,
     "metadata": {},
     "output_type": "execute_result"
    }
   ],
   "source": [
    "fdata"
   ],
   "metadata": {
    "collapsed": false,
    "pycharm": {
     "name": "#%%\n"
    }
   }
  },
  {
   "cell_type": "code",
   "execution_count": null,
   "outputs": [],
   "source": [],
   "metadata": {
    "collapsed": false,
    "pycharm": {
     "name": "#%%\n"
    }
   }
  },
  {
   "cell_type": "code",
   "execution_count": null,
   "outputs": [],
   "source": [],
   "metadata": {
    "collapsed": false,
    "pycharm": {
     "name": "#%%\n"
    }
   }
  },
  {
   "cell_type": "code",
   "execution_count": null,
   "outputs": [],
   "source": [],
   "metadata": {
    "collapsed": false,
    "pycharm": {
     "name": "#%%\n"
    }
   }
  },
  {
   "cell_type": "markdown",
   "source": [
    "# TODO\n",
    "## 1. Загрузить список MOEX\n",
    "## 2. Пропарсить на предмет наличия в yfinance\n",
    "## 3. Проверить начала котировок\n",
    "## 4. Отдельно повторить для индекса МОЕХ"
   ],
   "metadata": {
    "collapsed": false,
    "pycharm": {
     "name": "#%% md\n"
    }
   }
  },
  {
   "cell_type": "markdown",
   "source": [
    "### 1. Список MOEX"
   ],
   "metadata": {
    "collapsed": false,
    "pycharm": {
     "name": "#%% md\n"
    }
   }
  },
  {
   "cell_type": "code",
   "execution_count": 17,
   "outputs": [],
   "source": [
    "import pandas as pd"
   ],
   "metadata": {
    "collapsed": false,
    "pycharm": {
     "name": "#%%\n"
    }
   }
  },
  {
   "cell_type": "code",
   "execution_count": 21,
   "outputs": [],
   "source": [
    "quotes_df = pd.read_csv('rates.csv', encoding='cp1251', sep=';')"
   ],
   "metadata": {
    "collapsed": false,
    "pycharm": {
     "name": "#%%\n"
    }
   }
  },
  {
   "cell_type": "code",
   "execution_count": 22,
   "outputs": [
    {
     "data": {
      "text/plain": "    SECID   SHORTNAME                            NAME            TYPENAME   \n0    ABRD  АбрауДюрсо              Абрау-Дюрсо ПАО ао  Акции обыкновенные  \\\n1    ACKO     АСКО ао                     АСКО ПАО ао  Акции обыкновенные   \n2    AFKS  Система ао            АФК \"Система\" ПАО ао  Акции обыкновенные   \n3    AFLT    Аэрофлот    Аэрофлот-росс.авиалин(ПАО)ао  Акции обыкновенные   \n4    AKRN       Акрон                    Акрон ПАО ао  Акции обыкновенные   \n..    ...         ...                             ...                 ...   \n173  YAKG     ЯТЭК ао  Якутская топл.-энерг. комп. ао  Акции обыкновенные   \n174  YKEN  Якутскэнрг      АК \"Якутскэнерго\" (ПАО) ао  Акции обыкновенные   \n175  YRSB     ТНСэнЯр     ТНС энерго Ярославль ПАО ао  Акции обыкновенные   \n176  ZILL      ЗИЛ ао   Завод им. И.А.Лихачева ПАО ао  Акции обыкновенные   \n177  ZVEZ   ЗВЕЗДА ао                   ЗВЕЗДА ПАО ао  Акции обыкновенные   \n\n             ISIN     REGNUMBER  LISTLEVEL FACEVALUE FACEUNIT   ISSUESIZE   \n0    RU000A0JS5T7  1-02-12500-A          3       1,0      RUB    98000184  \\\n1    RU000A0JXS91  1-01-52065-Z          3       1,0      RUB   536000000   \n2    RU000A0DQZE3  1-05-01669-A          1      0,09      RUB  9650000000   \n3    RU0009062285  1-01-00010-A          1       1,0      RUB  3975771215   \n4    RU0009028674  1-03-00207-A          2       5,0      RUB    36757156   \n..            ...           ...        ...       ...      ...         ...   \n173  RU0007796819  1-01-20510-F          3       1,0      RUB   826919375   \n174  RU0009257075  1-01-00304-A          3      2,22      RUB  7963562986   \n175  RU000A0D8760  1-01-50099-A          3       1,0      RUB    17143584   \n176  RU0009086193  1-02-00036-A          3    1000,0      RUB     2659962   \n177  RU0009091300  1-01-00169-D          3       0,1      RUB   562020480   \n\n     ...    RTL3      RTH3 DISCOUNT1     LIMIT1 DISCOUNT2      LIMIT2   \n0    ...  12,486    486,96      50,0    49401.0      75,0    247005.0  \\\n1    ...     0,0    7,1544     100,0        NaN       NaN         NaN   \n2    ...  5,5241   24,3359      50,0  5975432.0      56,0  29877160.0   \n3    ...  13,784    60,724      50,0  2375879.0      56,0  11879395.0   \n4    ...     0,0  37916,16     100,0        NaN       NaN         NaN   \n..   ...     ...       ...       ...        ...       ...         ...   \n173  ...     0,0    233,14     100,0        NaN       NaN         NaN   \n174  ...     0,0  0,670256     100,0        NaN       NaN         NaN   \n175  ...     0,0   643,286     100,0        NaN       NaN         NaN   \n176  ...     0,0   7271,92     100,0        NaN       NaN         NaN   \n177  ...     0,0   10,2686     100,0        NaN       NaN         NaN   \n\n     DISCOUNT3  DISCOUNTL0  DISCOUNTH0  FULLCOVERED  \n0         95,0     9,11000    14,47000            1  \n1          NaN    21,21000    44,08000            1  \n2         63,0    10,69000     8,20000            0  \n3         63,0     7,25000    13,94000            0  \n4          NaN     7,74000     8,64000            1  \n..         ...         ...         ...          ...  \n173        NaN     6,16000    10,19000            1  \n174        NaN    10,54000    12,19000            1  \n175        NaN    16,04000    47,61000            1  \n176        NaN     8,18000    13,59000            1  \n177        NaN    10,21000    15,18000            1  \n\n[178 rows x 45 columns]",
      "text/html": "<div>\n<style scoped>\n    .dataframe tbody tr th:only-of-type {\n        vertical-align: middle;\n    }\n\n    .dataframe tbody tr th {\n        vertical-align: top;\n    }\n\n    .dataframe thead th {\n        text-align: right;\n    }\n</style>\n<table border=\"1\" class=\"dataframe\">\n  <thead>\n    <tr style=\"text-align: right;\">\n      <th></th>\n      <th>SECID</th>\n      <th>SHORTNAME</th>\n      <th>NAME</th>\n      <th>TYPENAME</th>\n      <th>ISIN</th>\n      <th>REGNUMBER</th>\n      <th>LISTLEVEL</th>\n      <th>FACEVALUE</th>\n      <th>FACEUNIT</th>\n      <th>ISSUESIZE</th>\n      <th>...</th>\n      <th>RTL3</th>\n      <th>RTH3</th>\n      <th>DISCOUNT1</th>\n      <th>LIMIT1</th>\n      <th>DISCOUNT2</th>\n      <th>LIMIT2</th>\n      <th>DISCOUNT3</th>\n      <th>DISCOUNTL0</th>\n      <th>DISCOUNTH0</th>\n      <th>FULLCOVERED</th>\n    </tr>\n  </thead>\n  <tbody>\n    <tr>\n      <th>0</th>\n      <td>ABRD</td>\n      <td>АбрауДюрсо</td>\n      <td>Абрау-Дюрсо ПАО ао</td>\n      <td>Акции обыкновенные</td>\n      <td>RU000A0JS5T7</td>\n      <td>1-02-12500-A</td>\n      <td>3</td>\n      <td>1,0</td>\n      <td>RUB</td>\n      <td>98000184</td>\n      <td>...</td>\n      <td>12,486</td>\n      <td>486,96</td>\n      <td>50,0</td>\n      <td>49401.0</td>\n      <td>75,0</td>\n      <td>247005.0</td>\n      <td>95,0</td>\n      <td>9,11000</td>\n      <td>14,47000</td>\n      <td>1</td>\n    </tr>\n    <tr>\n      <th>1</th>\n      <td>ACKO</td>\n      <td>АСКО ао</td>\n      <td>АСКО ПАО ао</td>\n      <td>Акции обыкновенные</td>\n      <td>RU000A0JXS91</td>\n      <td>1-01-52065-Z</td>\n      <td>3</td>\n      <td>1,0</td>\n      <td>RUB</td>\n      <td>536000000</td>\n      <td>...</td>\n      <td>0,0</td>\n      <td>7,1544</td>\n      <td>100,0</td>\n      <td>NaN</td>\n      <td>NaN</td>\n      <td>NaN</td>\n      <td>NaN</td>\n      <td>21,21000</td>\n      <td>44,08000</td>\n      <td>1</td>\n    </tr>\n    <tr>\n      <th>2</th>\n      <td>AFKS</td>\n      <td>Система ао</td>\n      <td>АФК \"Система\" ПАО ао</td>\n      <td>Акции обыкновенные</td>\n      <td>RU000A0DQZE3</td>\n      <td>1-05-01669-A</td>\n      <td>1</td>\n      <td>0,09</td>\n      <td>RUB</td>\n      <td>9650000000</td>\n      <td>...</td>\n      <td>5,5241</td>\n      <td>24,3359</td>\n      <td>50,0</td>\n      <td>5975432.0</td>\n      <td>56,0</td>\n      <td>29877160.0</td>\n      <td>63,0</td>\n      <td>10,69000</td>\n      <td>8,20000</td>\n      <td>0</td>\n    </tr>\n    <tr>\n      <th>3</th>\n      <td>AFLT</td>\n      <td>Аэрофлот</td>\n      <td>Аэрофлот-росс.авиалин(ПАО)ао</td>\n      <td>Акции обыкновенные</td>\n      <td>RU0009062285</td>\n      <td>1-01-00010-A</td>\n      <td>1</td>\n      <td>1,0</td>\n      <td>RUB</td>\n      <td>3975771215</td>\n      <td>...</td>\n      <td>13,784</td>\n      <td>60,724</td>\n      <td>50,0</td>\n      <td>2375879.0</td>\n      <td>56,0</td>\n      <td>11879395.0</td>\n      <td>63,0</td>\n      <td>7,25000</td>\n      <td>13,94000</td>\n      <td>0</td>\n    </tr>\n    <tr>\n      <th>4</th>\n      <td>AKRN</td>\n      <td>Акрон</td>\n      <td>Акрон ПАО ао</td>\n      <td>Акции обыкновенные</td>\n      <td>RU0009028674</td>\n      <td>1-03-00207-A</td>\n      <td>2</td>\n      <td>5,0</td>\n      <td>RUB</td>\n      <td>36757156</td>\n      <td>...</td>\n      <td>0,0</td>\n      <td>37916,16</td>\n      <td>100,0</td>\n      <td>NaN</td>\n      <td>NaN</td>\n      <td>NaN</td>\n      <td>NaN</td>\n      <td>7,74000</td>\n      <td>8,64000</td>\n      <td>1</td>\n    </tr>\n    <tr>\n      <th>...</th>\n      <td>...</td>\n      <td>...</td>\n      <td>...</td>\n      <td>...</td>\n      <td>...</td>\n      <td>...</td>\n      <td>...</td>\n      <td>...</td>\n      <td>...</td>\n      <td>...</td>\n      <td>...</td>\n      <td>...</td>\n      <td>...</td>\n      <td>...</td>\n      <td>...</td>\n      <td>...</td>\n      <td>...</td>\n      <td>...</td>\n      <td>...</td>\n      <td>...</td>\n      <td>...</td>\n    </tr>\n    <tr>\n      <th>173</th>\n      <td>YAKG</td>\n      <td>ЯТЭК ао</td>\n      <td>Якутская топл.-энерг. комп. ао</td>\n      <td>Акции обыкновенные</td>\n      <td>RU0007796819</td>\n      <td>1-01-20510-F</td>\n      <td>3</td>\n      <td>1,0</td>\n      <td>RUB</td>\n      <td>826919375</td>\n      <td>...</td>\n      <td>0,0</td>\n      <td>233,14</td>\n      <td>100,0</td>\n      <td>NaN</td>\n      <td>NaN</td>\n      <td>NaN</td>\n      <td>NaN</td>\n      <td>6,16000</td>\n      <td>10,19000</td>\n      <td>1</td>\n    </tr>\n    <tr>\n      <th>174</th>\n      <td>YKEN</td>\n      <td>Якутскэнрг</td>\n      <td>АК \"Якутскэнерго\" (ПАО) ао</td>\n      <td>Акции обыкновенные</td>\n      <td>RU0009257075</td>\n      <td>1-01-00304-A</td>\n      <td>3</td>\n      <td>2,22</td>\n      <td>RUB</td>\n      <td>7963562986</td>\n      <td>...</td>\n      <td>0,0</td>\n      <td>0,670256</td>\n      <td>100,0</td>\n      <td>NaN</td>\n      <td>NaN</td>\n      <td>NaN</td>\n      <td>NaN</td>\n      <td>10,54000</td>\n      <td>12,19000</td>\n      <td>1</td>\n    </tr>\n    <tr>\n      <th>175</th>\n      <td>YRSB</td>\n      <td>ТНСэнЯр</td>\n      <td>ТНС энерго Ярославль ПАО ао</td>\n      <td>Акции обыкновенные</td>\n      <td>RU000A0D8760</td>\n      <td>1-01-50099-A</td>\n      <td>3</td>\n      <td>1,0</td>\n      <td>RUB</td>\n      <td>17143584</td>\n      <td>...</td>\n      <td>0,0</td>\n      <td>643,286</td>\n      <td>100,0</td>\n      <td>NaN</td>\n      <td>NaN</td>\n      <td>NaN</td>\n      <td>NaN</td>\n      <td>16,04000</td>\n      <td>47,61000</td>\n      <td>1</td>\n    </tr>\n    <tr>\n      <th>176</th>\n      <td>ZILL</td>\n      <td>ЗИЛ ао</td>\n      <td>Завод им. И.А.Лихачева ПАО ао</td>\n      <td>Акции обыкновенные</td>\n      <td>RU0009086193</td>\n      <td>1-02-00036-A</td>\n      <td>3</td>\n      <td>1000,0</td>\n      <td>RUB</td>\n      <td>2659962</td>\n      <td>...</td>\n      <td>0,0</td>\n      <td>7271,92</td>\n      <td>100,0</td>\n      <td>NaN</td>\n      <td>NaN</td>\n      <td>NaN</td>\n      <td>NaN</td>\n      <td>8,18000</td>\n      <td>13,59000</td>\n      <td>1</td>\n    </tr>\n    <tr>\n      <th>177</th>\n      <td>ZVEZ</td>\n      <td>ЗВЕЗДА ао</td>\n      <td>ЗВЕЗДА ПАО ао</td>\n      <td>Акции обыкновенные</td>\n      <td>RU0009091300</td>\n      <td>1-01-00169-D</td>\n      <td>3</td>\n      <td>0,1</td>\n      <td>RUB</td>\n      <td>562020480</td>\n      <td>...</td>\n      <td>0,0</td>\n      <td>10,2686</td>\n      <td>100,0</td>\n      <td>NaN</td>\n      <td>NaN</td>\n      <td>NaN</td>\n      <td>NaN</td>\n      <td>10,21000</td>\n      <td>15,18000</td>\n      <td>1</td>\n    </tr>\n  </tbody>\n</table>\n<p>178 rows × 45 columns</p>\n</div>"
     },
     "execution_count": 22,
     "metadata": {},
     "output_type": "execute_result"
    }
   ],
   "source": [
    "quotes_df"
   ],
   "metadata": {
    "collapsed": false,
    "pycharm": {
     "name": "#%%\n"
    }
   }
  },
  {
   "cell_type": "markdown",
   "source": [
    "## 2. Пропарсить на предмет наличия в yfinance"
   ],
   "metadata": {
    "collapsed": false,
    "pycharm": {
     "name": "#%% md\n"
    }
   }
  },
  {
   "cell_type": "code",
   "execution_count": 27,
   "outputs": [],
   "source": [
    "from tqdm import tqdm"
   ],
   "metadata": {
    "collapsed": false,
    "pycharm": {
     "name": "#%%\n"
    }
   }
  },
  {
   "cell_type": "code",
   "execution_count": null,
   "outputs": [],
   "source": [
    "fdata = yf.download('NKNC.ME', period='max', interval='1d')"
   ],
   "metadata": {
    "collapsed": false,
    "pycharm": {
     "name": "#%%\n",
     "is_executing": true
    }
   }
  },
  {
   "cell_type": "code",
   "execution_count": null,
   "outputs": [],
   "source": [
    "fdata_list = {}\n",
    "for ticker in tqdm(quotes_df['SECID'].to_list()):\n",
    "    try:\n",
    "        fdata_list[ticker] = yf.download(f'{ticker}.ME', period='max', interval='1d')\n",
    "    except Exception as e:\n",
    "        print(f'Exception of {ticker}: \\n{e}')"
   ],
   "metadata": {
    "collapsed": false,
    "pycharm": {
     "name": "#%%\n",
     "is_executing": true
    }
   }
  },
  {
   "cell_type": "code",
   "execution_count": 29,
   "outputs": [
    {
     "data": {
      "text/plain": "178"
     },
     "execution_count": 29,
     "metadata": {},
     "output_type": "execute_result"
    }
   ],
   "source": [
    "len(fdata_list)"
   ],
   "metadata": {
    "collapsed": false,
    "pycharm": {
     "name": "#%%\n"
    }
   }
  },
  {
   "cell_type": "code",
   "execution_count": 33,
   "outputs": [],
   "source": [
    "fdata_dict = {}"
   ],
   "metadata": {
    "collapsed": false,
    "pycharm": {
     "name": "#%%\n"
    }
   }
  },
  {
   "cell_type": "code",
   "execution_count": 35,
   "outputs": [],
   "source": [
    "for key_val in fdata_list.keys():\n",
    "    if len(fdata_list[key_val]) > 0:\n",
    "        fdata_dict[key_val] = fdata_list[key_val]"
   ],
   "metadata": {
    "collapsed": false,
    "pycharm": {
     "name": "#%%\n"
    }
   }
  },
  {
   "cell_type": "code",
   "execution_count": 36,
   "outputs": [
    {
     "data": {
      "text/plain": "166"
     },
     "execution_count": 36,
     "metadata": {},
     "output_type": "execute_result"
    }
   ],
   "source": [
    "len(fdata_dict)"
   ],
   "metadata": {
    "collapsed": false,
    "pycharm": {
     "name": "#%%\n"
    }
   }
  },
  {
   "cell_type": "code",
   "execution_count": 37,
   "outputs": [
    {
     "data": {
      "text/plain": "(178, 45)"
     },
     "execution_count": 37,
     "metadata": {},
     "output_type": "execute_result"
    }
   ],
   "source": [
    "quotes_df.shape"
   ],
   "metadata": {
    "collapsed": false,
    "pycharm": {
     "name": "#%%\n"
    }
   }
  },
  {
   "cell_type": "code",
   "execution_count": 38,
   "outputs": [],
   "source": [
    "## найдено 166/178, неплохо, посмотрим кого нет"
   ],
   "metadata": {
    "collapsed": false,
    "pycharm": {
     "name": "#%%\n"
    }
   }
  },
  {
   "cell_type": "code",
   "execution_count": 41,
   "outputs": [
    {
     "data": {
      "text/plain": "    SECID   SHORTNAME                          NAME            TYPENAME   \n28   ELFV  ЭЛ5Энер ао              \"ЭЛ5-Энерго\" ПАО  Акции обыкновенные  \\\n34   GAZC   ГАЗКОН-ао               ГАЗКОН (ПАО) ао  Акции обыкновенные   \n36   GAZS  ГАЗ-сервис           ГАЗ-сервис (ПАО) ао  Акции обыкновенные   \n39   GECO   iГЕНЕТИКО              ЦГРМ ГЕНЕТИКО ао  Акции обыкновенные   \n57   KMTZ  КосогМЗ ао  Косогорский метал. завод ПАО  Акции обыкновенные   \n113  POSI    iПозитив             Группа Позитив ао  Акции обыкновенные   \n118  RENI   Ренессанс      Ренессанс Страхование ао  Акции обыкновенные   \n137  SGZH      Сегежа                     Сегежа ао  Акции обыкновенные   \n139  SLEN  Сахэнер ао        ПАО \"Сахалинэнерго\" ао  Акции обыкновенные   \n140  SMLT  Самолет ао                 ГК Самолет ао  Акции обыкновенные   \n145  SVET    Светофор             Светофор Групп ао  Акции обыкновенные   \n172  WUSH  iВУШХолднг                ВУШ Холдинг ао  Акции обыкновенные   \n\n             ISIN     REGNUMBER  LISTLEVEL FACEVALUE FACEUNIT    ISSUESIZE   \n28   RU000A0F5UN3  1-01-50077-A          1       1,0      RUB  35371898370  \\\n34   RU000A0JQG86  1-01-09870-A          3      10,0      RUB    225381601   \n36   RU000A0JQG78  1-01-09871-A          3      10,0      RUB    206508967   \n39   RU000A105BN4  1-01-87198-H          3      0,01      RUB     83000000   \n57   RU000A0HF1L0  1-01-03975-A          3       1,0      RUB     28416095   \n113  RU000A103X66  1-01-85307-H          1       0,5      RUB     66000000   \n118  RU000A0ZZM04  1-01-10601-Z          1      9,88      RUB    556952780   \n137  RU000A102XG9  1-01-87154-H          1       0,1      RUB  15690000000   \n139  RU0009280465  1-03-00272-A          3      10,0      RUB   1237175444   \n140  RU000A0ZZG02  1-01-16493-A          1      25,0      RUB     61579358   \n145  RU000A100592  1-01-24350-J          3       1,0      RUB     22333500   \n172  RU000A105EX7  1-01-03292-G          1      0,01      RUB    111382432   \n\n     ...     RTL3     RTH3 DISCOUNT1      LIMIT1 DISCOUNT2      LIMIT2   \n28   ...  0,13935  0,97542      33,0  12227875.0      50,0  61139375.0  \\\n34   ...      0,0   701,73     100,0         NaN       NaN         NaN   \n36   ...      0,0  919,654     100,0         NaN       NaN         NaN   \n39   ...      0,0   64,328     100,0         NaN       NaN         NaN   \n57   ...      0,0  417,536     100,0         NaN       NaN         NaN   \n113  ...    83,21  3245,09      50,0     17285.0      75,0     84852.0   \n118  ...    3,211  125,247      50,0     78431.0      75,0    392155.0   \n137  ...    3,294   7,3318      25,0   2324525.0      31,0  11622625.0   \n139  ...      0,0   7,4418     100,0         NaN       NaN         NaN   \n140  ...   124,26  4846,22      50,0     17782.0      75,0     88912.0   \n145  ...      0,0    57,74     100,0         NaN       NaN         NaN   \n172  ...      0,0    432,1     100,0         NaN       NaN         NaN   \n\n     DISCOUNT3  DISCOUNTL0  DISCOUNTH0  FULLCOVERED  \n28        75,0     9,66000    12,91000            0  \n34         NaN    21,21000    44,08000            1  \n36         NaN    21,21000    44,08000            1  \n39         NaN    31,15000    56,49000            1  \n57         NaN    12,10000    16,67000            1  \n113       95,0     8,95000     7,53000            0  \n118       95,0    11,03000    11,45000            0  \n137       38,0     9,26000     7,20000            0  \n139        NaN     9,52000    11,91000            1  \n140       95,0    10,22000     8,19000            0  \n145        NaN    13,25000    25,39000            1  \n172        NaN    31,15000    56,49000            1  \n\n[12 rows x 45 columns]",
      "text/html": "<div>\n<style scoped>\n    .dataframe tbody tr th:only-of-type {\n        vertical-align: middle;\n    }\n\n    .dataframe tbody tr th {\n        vertical-align: top;\n    }\n\n    .dataframe thead th {\n        text-align: right;\n    }\n</style>\n<table border=\"1\" class=\"dataframe\">\n  <thead>\n    <tr style=\"text-align: right;\">\n      <th></th>\n      <th>SECID</th>\n      <th>SHORTNAME</th>\n      <th>NAME</th>\n      <th>TYPENAME</th>\n      <th>ISIN</th>\n      <th>REGNUMBER</th>\n      <th>LISTLEVEL</th>\n      <th>FACEVALUE</th>\n      <th>FACEUNIT</th>\n      <th>ISSUESIZE</th>\n      <th>...</th>\n      <th>RTL3</th>\n      <th>RTH3</th>\n      <th>DISCOUNT1</th>\n      <th>LIMIT1</th>\n      <th>DISCOUNT2</th>\n      <th>LIMIT2</th>\n      <th>DISCOUNT3</th>\n      <th>DISCOUNTL0</th>\n      <th>DISCOUNTH0</th>\n      <th>FULLCOVERED</th>\n    </tr>\n  </thead>\n  <tbody>\n    <tr>\n      <th>28</th>\n      <td>ELFV</td>\n      <td>ЭЛ5Энер ао</td>\n      <td>\"ЭЛ5-Энерго\" ПАО</td>\n      <td>Акции обыкновенные</td>\n      <td>RU000A0F5UN3</td>\n      <td>1-01-50077-A</td>\n      <td>1</td>\n      <td>1,0</td>\n      <td>RUB</td>\n      <td>35371898370</td>\n      <td>...</td>\n      <td>0,13935</td>\n      <td>0,97542</td>\n      <td>33,0</td>\n      <td>12227875.0</td>\n      <td>50,0</td>\n      <td>61139375.0</td>\n      <td>75,0</td>\n      <td>9,66000</td>\n      <td>12,91000</td>\n      <td>0</td>\n    </tr>\n    <tr>\n      <th>34</th>\n      <td>GAZC</td>\n      <td>ГАЗКОН-ао</td>\n      <td>ГАЗКОН (ПАО) ао</td>\n      <td>Акции обыкновенные</td>\n      <td>RU000A0JQG86</td>\n      <td>1-01-09870-A</td>\n      <td>3</td>\n      <td>10,0</td>\n      <td>RUB</td>\n      <td>225381601</td>\n      <td>...</td>\n      <td>0,0</td>\n      <td>701,73</td>\n      <td>100,0</td>\n      <td>NaN</td>\n      <td>NaN</td>\n      <td>NaN</td>\n      <td>NaN</td>\n      <td>21,21000</td>\n      <td>44,08000</td>\n      <td>1</td>\n    </tr>\n    <tr>\n      <th>36</th>\n      <td>GAZS</td>\n      <td>ГАЗ-сервис</td>\n      <td>ГАЗ-сервис (ПАО) ао</td>\n      <td>Акции обыкновенные</td>\n      <td>RU000A0JQG78</td>\n      <td>1-01-09871-A</td>\n      <td>3</td>\n      <td>10,0</td>\n      <td>RUB</td>\n      <td>206508967</td>\n      <td>...</td>\n      <td>0,0</td>\n      <td>919,654</td>\n      <td>100,0</td>\n      <td>NaN</td>\n      <td>NaN</td>\n      <td>NaN</td>\n      <td>NaN</td>\n      <td>21,21000</td>\n      <td>44,08000</td>\n      <td>1</td>\n    </tr>\n    <tr>\n      <th>39</th>\n      <td>GECO</td>\n      <td>iГЕНЕТИКО</td>\n      <td>ЦГРМ ГЕНЕТИКО ао</td>\n      <td>Акции обыкновенные</td>\n      <td>RU000A105BN4</td>\n      <td>1-01-87198-H</td>\n      <td>3</td>\n      <td>0,01</td>\n      <td>RUB</td>\n      <td>83000000</td>\n      <td>...</td>\n      <td>0,0</td>\n      <td>64,328</td>\n      <td>100,0</td>\n      <td>NaN</td>\n      <td>NaN</td>\n      <td>NaN</td>\n      <td>NaN</td>\n      <td>31,15000</td>\n      <td>56,49000</td>\n      <td>1</td>\n    </tr>\n    <tr>\n      <th>57</th>\n      <td>KMTZ</td>\n      <td>КосогМЗ ао</td>\n      <td>Косогорский метал. завод ПАО</td>\n      <td>Акции обыкновенные</td>\n      <td>RU000A0HF1L0</td>\n      <td>1-01-03975-A</td>\n      <td>3</td>\n      <td>1,0</td>\n      <td>RUB</td>\n      <td>28416095</td>\n      <td>...</td>\n      <td>0,0</td>\n      <td>417,536</td>\n      <td>100,0</td>\n      <td>NaN</td>\n      <td>NaN</td>\n      <td>NaN</td>\n      <td>NaN</td>\n      <td>12,10000</td>\n      <td>16,67000</td>\n      <td>1</td>\n    </tr>\n    <tr>\n      <th>113</th>\n      <td>POSI</td>\n      <td>iПозитив</td>\n      <td>Группа Позитив ао</td>\n      <td>Акции обыкновенные</td>\n      <td>RU000A103X66</td>\n      <td>1-01-85307-H</td>\n      <td>1</td>\n      <td>0,5</td>\n      <td>RUB</td>\n      <td>66000000</td>\n      <td>...</td>\n      <td>83,21</td>\n      <td>3245,09</td>\n      <td>50,0</td>\n      <td>17285.0</td>\n      <td>75,0</td>\n      <td>84852.0</td>\n      <td>95,0</td>\n      <td>8,95000</td>\n      <td>7,53000</td>\n      <td>0</td>\n    </tr>\n    <tr>\n      <th>118</th>\n      <td>RENI</td>\n      <td>Ренессанс</td>\n      <td>Ренессанс Страхование ао</td>\n      <td>Акции обыкновенные</td>\n      <td>RU000A0ZZM04</td>\n      <td>1-01-10601-Z</td>\n      <td>1</td>\n      <td>9,88</td>\n      <td>RUB</td>\n      <td>556952780</td>\n      <td>...</td>\n      <td>3,211</td>\n      <td>125,247</td>\n      <td>50,0</td>\n      <td>78431.0</td>\n      <td>75,0</td>\n      <td>392155.0</td>\n      <td>95,0</td>\n      <td>11,03000</td>\n      <td>11,45000</td>\n      <td>0</td>\n    </tr>\n    <tr>\n      <th>137</th>\n      <td>SGZH</td>\n      <td>Сегежа</td>\n      <td>Сегежа ао</td>\n      <td>Акции обыкновенные</td>\n      <td>RU000A102XG9</td>\n      <td>1-01-87154-H</td>\n      <td>1</td>\n      <td>0,1</td>\n      <td>RUB</td>\n      <td>15690000000</td>\n      <td>...</td>\n      <td>3,294</td>\n      <td>7,3318</td>\n      <td>25,0</td>\n      <td>2324525.0</td>\n      <td>31,0</td>\n      <td>11622625.0</td>\n      <td>38,0</td>\n      <td>9,26000</td>\n      <td>7,20000</td>\n      <td>0</td>\n    </tr>\n    <tr>\n      <th>139</th>\n      <td>SLEN</td>\n      <td>Сахэнер ао</td>\n      <td>ПАО \"Сахалинэнерго\" ао</td>\n      <td>Акции обыкновенные</td>\n      <td>RU0009280465</td>\n      <td>1-03-00272-A</td>\n      <td>3</td>\n      <td>10,0</td>\n      <td>RUB</td>\n      <td>1237175444</td>\n      <td>...</td>\n      <td>0,0</td>\n      <td>7,4418</td>\n      <td>100,0</td>\n      <td>NaN</td>\n      <td>NaN</td>\n      <td>NaN</td>\n      <td>NaN</td>\n      <td>9,52000</td>\n      <td>11,91000</td>\n      <td>1</td>\n    </tr>\n    <tr>\n      <th>140</th>\n      <td>SMLT</td>\n      <td>Самолет ао</td>\n      <td>ГК Самолет ао</td>\n      <td>Акции обыкновенные</td>\n      <td>RU000A0ZZG02</td>\n      <td>1-01-16493-A</td>\n      <td>1</td>\n      <td>25,0</td>\n      <td>RUB</td>\n      <td>61579358</td>\n      <td>...</td>\n      <td>124,26</td>\n      <td>4846,22</td>\n      <td>50,0</td>\n      <td>17782.0</td>\n      <td>75,0</td>\n      <td>88912.0</td>\n      <td>95,0</td>\n      <td>10,22000</td>\n      <td>8,19000</td>\n      <td>0</td>\n    </tr>\n    <tr>\n      <th>145</th>\n      <td>SVET</td>\n      <td>Светофор</td>\n      <td>Светофор Групп ао</td>\n      <td>Акции обыкновенные</td>\n      <td>RU000A100592</td>\n      <td>1-01-24350-J</td>\n      <td>3</td>\n      <td>1,0</td>\n      <td>RUB</td>\n      <td>22333500</td>\n      <td>...</td>\n      <td>0,0</td>\n      <td>57,74</td>\n      <td>100,0</td>\n      <td>NaN</td>\n      <td>NaN</td>\n      <td>NaN</td>\n      <td>NaN</td>\n      <td>13,25000</td>\n      <td>25,39000</td>\n      <td>1</td>\n    </tr>\n    <tr>\n      <th>172</th>\n      <td>WUSH</td>\n      <td>iВУШХолднг</td>\n      <td>ВУШ Холдинг ао</td>\n      <td>Акции обыкновенные</td>\n      <td>RU000A105EX7</td>\n      <td>1-01-03292-G</td>\n      <td>1</td>\n      <td>0,01</td>\n      <td>RUB</td>\n      <td>111382432</td>\n      <td>...</td>\n      <td>0,0</td>\n      <td>432,1</td>\n      <td>100,0</td>\n      <td>NaN</td>\n      <td>NaN</td>\n      <td>NaN</td>\n      <td>NaN</td>\n      <td>31,15000</td>\n      <td>56,49000</td>\n      <td>1</td>\n    </tr>\n  </tbody>\n</table>\n<p>12 rows × 45 columns</p>\n</div>"
     },
     "execution_count": 41,
     "metadata": {},
     "output_type": "execute_result"
    }
   ],
   "source": [
    "quotes_df.loc[~quotes_df['SECID'].isin(fdata_dict.keys())]  # в общем нет только ноунеймов, так что все норм"
   ],
   "metadata": {
    "collapsed": false,
    "pycharm": {
     "name": "#%%\n"
    }
   }
  },
  {
   "cell_type": "markdown",
   "source": [
    "## 3. Проверить начала котировок"
   ],
   "metadata": {
    "collapsed": false,
    "pycharm": {
     "name": "#%% md\n"
    }
   }
  },
  {
   "cell_type": "code",
   "execution_count": 43,
   "outputs": [
    {
     "data": {
      "text/plain": "dict_keys(['ABRD', 'ACKO', 'AFKS', 'AFLT', 'AKRN', 'ALRS', 'AMEZ', 'APTK', 'AQUA', 'ARSA', 'ASSB', 'AVAN', 'BANE', 'BELU', 'BLNG', 'BRZL', 'BSPB', 'CBOM', 'CHGZ', 'CHKZ', 'CHMF', 'CHMK', 'CNTL', 'DIOD', 'DSKY', 'DVEC', 'DZRD', 'EELT', 'ELTZ', 'FEES', 'FESH', 'FLOT', 'GAZA', 'GAZP', 'GAZT', 'GCHE', 'GEMA', 'GMKN', 'GTRK', 'HYDR', 'IGST', 'INGR', 'IRAO', 'IRKT', 'ISKJ', 'JNOS', 'KAZT', 'KBSB', 'KCHE', 'KGKC', 'KLSB', 'KMAZ', 'KMEZ', 'KOGK', 'KRKN', 'KROT', 'KRSB', 'KTSB', 'KUBE', 'KUZB', 'KZOS', 'LENT', 'LIFE', 'LKOH', 'LNZL', 'LPSB', 'LSNG', 'LSRG', 'LVHK', 'MAGE', 'MAGN', 'MFGS', 'MGNT', 'MGNZ', 'MGTS', 'MISB', 'MOEX', 'MRKC', 'MRKK', 'MRKP', 'MRKS', 'MRKU', 'MRKV', 'MRKY', 'MRKZ', 'MRSB', 'MSNG', 'MSRS', 'MSTT', 'MTLR', 'MTSS', 'MVID', 'NAUK', 'NFAZ', 'NKHP', 'NKNC', 'NKSH', 'NLMK', 'NMTP', 'NNSB', 'NSVZ', 'NVTK', 'OGKB', 'PAZA', 'PHOR', 'PIKK', 'PLZL', 'PMSB', 'PRMB', 'RASP', 'RBCM', 'RDRB', 'RGSS', 'RKKE', 'RNFT', 'ROLO', 'ROSB', 'ROSN', 'ROST', 'RTGZ', 'RTKM', 'RTSB', 'RUAL', 'RUSI', 'RZSB', 'SAGO', 'SARE', 'SBER', 'SELG', 'SFIN', 'SIBN', 'SNGS', 'SPBE', 'STSB', 'SVAV', 'TASB', 'TATN', 'TGKA', 'TGKB', 'TGKN', 'TNSE', 'TORS', 'TRMK', 'TTLK', 'TUZA', 'UCSS', 'UKUZ', 'UNAC', 'UNKL', 'UPRO', 'URKZ', 'USBN', 'UTAR', 'VGSB', 'VJGZ', 'VLHZ', 'VRSB', 'VSMO', 'VSYD', 'VTBR', 'WTCM', 'YAKG', 'YKEN', 'YRSB', 'ZILL', 'ZVEZ'])"
     },
     "execution_count": 43,
     "metadata": {},
     "output_type": "execute_result"
    }
   ],
   "source": [
    "fdata_dict.keys()"
   ],
   "metadata": {
    "collapsed": false,
    "pycharm": {
     "name": "#%%\n"
    }
   }
  },
  {
   "cell_type": "code",
   "execution_count": 46,
   "outputs": [
    {
     "data": {
      "text/plain": "Timestamp('2012-04-11 00:00:00')"
     },
     "execution_count": 46,
     "metadata": {},
     "output_type": "execute_result"
    }
   ],
   "source": [
    "fdata_dict['ABRD'].index[0]"
   ],
   "metadata": {
    "collapsed": false,
    "pycharm": {
     "name": "#%%\n"
    }
   }
  },
  {
   "cell_type": "code",
   "execution_count": 50,
   "outputs": [],
   "source": [
    "first_dates = {}\n",
    "for key_val in fdata_dict.keys():\n",
    "    first_dates[key_val] = fdata_dict[key_val].index[0]"
   ],
   "metadata": {
    "collapsed": false,
    "pycharm": {
     "name": "#%%\n"
    }
   }
  },
  {
   "cell_type": "code",
   "execution_count": 60,
   "outputs": [],
   "source": [
    "first_date_df = pd.DataFrame([first_dates])"
   ],
   "metadata": {
    "collapsed": false,
    "pycharm": {
     "name": "#%%\n"
    }
   }
  },
  {
   "cell_type": "code",
   "execution_count": 71,
   "outputs": [],
   "source": [
    "first_date_df1 = first_date_df.T.rename(columns={0: 'first_date'})"
   ],
   "metadata": {
    "collapsed": false,
    "pycharm": {
     "name": "#%%\n"
    }
   }
  },
  {
   "cell_type": "code",
   "execution_count": 73,
   "outputs": [
    {
     "data": {
      "text/plain": "Timestamp('2007-11-19 00:00:00')"
     },
     "execution_count": 73,
     "metadata": {},
     "output_type": "execute_result"
    }
   ],
   "source": [
    "first_date_df1['first_date'].min()"
   ],
   "metadata": {
    "collapsed": false,
    "pycharm": {
     "name": "#%%\n"
    }
   }
  },
  {
   "cell_type": "code",
   "execution_count": 77,
   "outputs": [
    {
     "data": {
      "text/plain": "Timestamp('2022-02-03 00:00:00')"
     },
     "execution_count": 77,
     "metadata": {},
     "output_type": "execute_result"
    }
   ],
   "source": [
    "first_date_df1['first_date'].max()"
   ],
   "metadata": {
    "collapsed": false,
    "pycharm": {
     "name": "#%%\n"
    }
   }
  },
  {
   "cell_type": "code",
   "execution_count": 75,
   "outputs": [],
   "source": [
    "# надо сгруппировать по годам и посмотреть частоту"
   ],
   "metadata": {
    "collapsed": false,
    "pycharm": {
     "name": "#%%\n"
    }
   }
  },
  {
   "cell_type": "code",
   "execution_count": 79,
   "outputs": [],
   "source": [
    "first_date_df1['date_dt'] = first_date_df1['first_date'].apply(pd.to_datetime)"
   ],
   "metadata": {
    "collapsed": false,
    "pycharm": {
     "name": "#%%\n"
    }
   }
  },
  {
   "cell_type": "code",
   "execution_count": 81,
   "outputs": [],
   "source": [
    "first_date_df1['year'] = first_date_df1['date_dt'].dt.year"
   ],
   "metadata": {
    "collapsed": false,
    "pycharm": {
     "name": "#%%\n"
    }
   }
  },
  {
   "cell_type": "code",
   "execution_count": 87,
   "outputs": [
    {
     "data": {
      "text/plain": "      date_dt\nyear         \n2010       91\n2011       42\n2012       11\n2013        6\n2015        5\n2017        5\n2022        2\n2007        1\n2014        1\n2019        1\n2020        1",
      "text/html": "<div>\n<style scoped>\n    .dataframe tbody tr th:only-of-type {\n        vertical-align: middle;\n    }\n\n    .dataframe tbody tr th {\n        vertical-align: top;\n    }\n\n    .dataframe thead th {\n        text-align: right;\n    }\n</style>\n<table border=\"1\" class=\"dataframe\">\n  <thead>\n    <tr style=\"text-align: right;\">\n      <th></th>\n      <th>date_dt</th>\n    </tr>\n    <tr>\n      <th>year</th>\n      <th></th>\n    </tr>\n  </thead>\n  <tbody>\n    <tr>\n      <th>2010</th>\n      <td>91</td>\n    </tr>\n    <tr>\n      <th>2011</th>\n      <td>42</td>\n    </tr>\n    <tr>\n      <th>2012</th>\n      <td>11</td>\n    </tr>\n    <tr>\n      <th>2013</th>\n      <td>6</td>\n    </tr>\n    <tr>\n      <th>2015</th>\n      <td>5</td>\n    </tr>\n    <tr>\n      <th>2017</th>\n      <td>5</td>\n    </tr>\n    <tr>\n      <th>2022</th>\n      <td>2</td>\n    </tr>\n    <tr>\n      <th>2007</th>\n      <td>1</td>\n    </tr>\n    <tr>\n      <th>2014</th>\n      <td>1</td>\n    </tr>\n    <tr>\n      <th>2019</th>\n      <td>1</td>\n    </tr>\n    <tr>\n      <th>2020</th>\n      <td>1</td>\n    </tr>\n  </tbody>\n</table>\n</div>"
     },
     "execution_count": 87,
     "metadata": {},
     "output_type": "execute_result"
    }
   ],
   "source": [
    "first_date_df1[['date_dt', 'year']].groupby('year').agg({'date_dt': 'count'}).sort_values(by='date_dt', ascending=False)"
   ],
   "metadata": {
    "collapsed": false,
    "pycharm": {
     "name": "#%%\n"
    }
   }
  },
  {
   "cell_type": "code",
   "execution_count": 88,
   "outputs": [],
   "source": [
    "# кажется с 2016го лучше смотреть"
   ],
   "metadata": {
    "collapsed": false,
    "pycharm": {
     "name": "#%%\n"
    }
   }
  },
  {
   "cell_type": "code",
   "execution_count": 94,
   "outputs": [],
   "source": [
    "lower_dates_tickets = list(first_date_df1.loc[first_date_df1['date_dt']<'2016-01-01'].index)  # скорее всего изучаемые акции, надо среди них верхнюю планку"
   ],
   "metadata": {
    "collapsed": false,
    "pycharm": {
     "name": "#%%\n"
    }
   }
  },
  {
   "cell_type": "code",
   "execution_count": 98,
   "outputs": [],
   "source": [
    "last_dates = {}\n",
    "for key_val in lower_dates_tickets:\n",
    "    last_dates[key_val] = fdata_dict[key_val].index[-1]"
   ],
   "metadata": {
    "collapsed": false,
    "pycharm": {
     "name": "#%%\n"
    }
   }
  },
  {
   "cell_type": "code",
   "execution_count": null,
   "outputs": [],
   "source": [],
   "metadata": {
    "collapsed": false,
    "pycharm": {
     "name": "#%%\n",
     "is_executing": true
    }
   }
  },
  {
   "cell_type": "code",
   "execution_count": 99,
   "outputs": [],
   "source": [
    "last_dates_df = pd.DataFrame([last_dates]).T.rename(columns={0: 'last_date'})"
   ],
   "metadata": {
    "collapsed": false,
    "pycharm": {
     "name": "#%%\n"
    }
   }
  },
  {
   "cell_type": "code",
   "execution_count": 102,
   "outputs": [
    {
     "data": {
      "text/plain": "Timestamp('2022-05-24 00:00:00')"
     },
     "execution_count": 102,
     "metadata": {},
     "output_type": "execute_result"
    }
   ],
   "source": [
    "last_dates_df['last_date'].min()  # в общем то все попадают в промежуток [2015 - 2021]"
   ],
   "metadata": {
    "collapsed": false,
    "pycharm": {
     "name": "#%%\n"
    }
   }
  },
  {
   "cell_type": "code",
   "execution_count": 95,
   "outputs": [],
   "source": [],
   "metadata": {
    "collapsed": false,
    "pycharm": {
     "name": "#%%\n"
    }
   }
  }
 ],
 "metadata": {
  "kernelspec": {
   "display_name": "Python 3",
   "language": "python",
   "name": "python3"
  },
  "language_info": {
   "codemirror_mode": {
    "name": "ipython",
    "version": 2
   },
   "file_extension": ".py",
   "mimetype": "text/x-python",
   "name": "python",
   "nbconvert_exporter": "python",
   "pygments_lexer": "ipython2",
   "version": "2.7.6"
  }
 },
 "nbformat": 4,
 "nbformat_minor": 0
}